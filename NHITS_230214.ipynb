{
 "cells": [
  {
   "cell_type": "code",
   "execution_count": 1,
   "id": "2c709f33-1bfc-4a02-86f6-cd5c76467514",
   "metadata": {
    "tags": []
   },
   "outputs": [
    {
     "name": "stderr",
     "output_type": "stream",
     "text": [
      "C:\\Users\\ESKO\\anaconda3\\envs\\dl\\lib\\site-packages\\tqdm\\auto.py:22: TqdmWarning: IProgress not found. Please update jupyter and ipywidgets. See https://ipywidgets.readthedocs.io/en/stable/user_install.html\n",
      "  from .autonotebook import tqdm as notebook_tqdm\n"
     ]
    },
    {
     "name": "stdout",
     "output_type": "stream",
     "text": [
      "C:\\Users\\ESKO\\PYWORK\\NHITS\n"
     ]
    }
   ],
   "source": [
    "import os, torch\n",
    "os.chdir(\"/Users/ESKO/PYWORK/NHITS\")\n",
    "print(os.getcwd())"
   ]
  },
  {
   "cell_type": "code",
   "execution_count": 2,
   "id": "1130c92b-7119-401d-8c4e-99b9474f1fb0",
   "metadata": {
    "tags": []
   },
   "outputs": [],
   "source": [
    "import numpy as np\n",
    "import pandas as pd\n",
    "import pytorch_lightning as pl\n",
    "import matplotlib.pyplot as plt\n",
    "\n",
    "from ray import tune\n",
    "from sklearn.preprocessing import StandardScaler\n",
    "\n",
    "from neuralforecast import NeuralForecast\n",
    "from neuralforecast.auto import AutoTFT\n",
    "from neuralforecast.models import NBEATS, NBEATSx, NHITS, TFT\n",
    "from neuralforecast.losses.pytorch import MQLoss, DistributionLoss, GMM, PMM\n",
    "from neuralforecast.tsdataset import TimeSeriesDataset\n",
    "from neuralforecast.losses.pytorch import MAE"
   ]
  },
  {
   "cell_type": "markdown",
   "id": "092e974b-728b-448b-aca0-03a9c91b7fff",
   "metadata": {},
   "source": [
    "## <기준날짜 및 예측 기간 설정>"
   ]
  },
  {
   "cell_type": "code",
   "execution_count": 3,
   "id": "f91c564f-7439-4f72-9730-ed3e3ccdd549",
   "metadata": {
    "tags": []
   },
   "outputs": [],
   "source": [
    "cutoff_date = '2021-06-30' ## len = 65\n",
    "test_period = 12 ## 예측 기간 (월)\n",
    "corr_rate = 0.75 ## Lag corr rate"
   ]
  },
  {
   "cell_type": "markdown",
   "id": "60de4ab8-1f14-4139-951e-77f82ba87471",
   "metadata": {},
   "source": [
    "## <원 data set>"
   ]
  },
  {
   "cell_type": "code",
   "execution_count": 4,
   "id": "01ff22bb-7a0d-48ea-9ba3-2c3531f1361f",
   "metadata": {
    "tags": []
   },
   "outputs": [],
   "source": [
    "df = pd.read_csv('./data/metal_pst.csv')\n",
    "df.rename(columns={'date':'ds'},inplace=True)\n",
    "df.rename(columns={'li2co3_cif_fast_kg_spot_exchng':'y'},inplace=True)\n",
    "df['ds'] = pd.to_datetime(df['ds'], format='%Y-%m-%d')\n",
    "\n",
    "raw_y_set_resampled = df.copy()\n",
    "raw_y_set_resampled.rename(columns={'ds':'date'},inplace=True)\n",
    "raw_y_set_resampled.rename(columns={'lioh_cif_fast_kg_spot_exchng':'y2'},inplace=True)\n",
    "del raw_y_set_resampled['unique_id']"
   ]
  },
  {
   "cell_type": "markdown",
   "id": "8a1f5486-9f68-4806-beb7-22fa9219aad0",
   "metadata": {},
   "source": [
    "## Feature shift 12개월"
   ]
  },
  {
   "cell_type": "code",
   "execution_count": null,
   "id": "f178475b-3d21-42b8-a56a-9fe5a627349f",
   "metadata": {
    "tags": []
   },
   "outputs": [],
   "source": [
    "%%time\n",
    "\n",
    "raw_y_set_resampled = raw_y_set_resampled[raw_y_set_resampled.date<=cutoff_date]\n",
    "raw_y_set_shifted_merged = raw_y_set_resampled['date']\n",
    "\n",
    "for i in range(len(raw_y_set_resampled.columns)):\n",
    "    if i == len(raw_y_set_resampled.columns) - 1:\n",
    "        break\n",
    "    raw_y_set_shifted = raw_y_set_resampled.iloc[:,[0,i+1]].dropna()\n",
    "    for j in range(10,13):\n",
    "        raw_y_set_shifted = pd.concat([raw_y_set_shifted, (raw_y_set_shifted.iloc[:,1].shift(j+1).rename(raw_y_set_resampled.columns[i+1] + '_' +str(j+1)))],axis=1)\n",
    "        raw_y_set_shifted_merged = pd.merge(raw_y_set_shifted_merged, raw_y_set_shifted, how= 'outer') \n",
    "        if j == len(raw_y_set_shifted.iloc[:,1]) -2 :\n",
    "            break\n",
    "# raw_y_set_shifted_merged.to_csv('./data/raw_y_set_shifted_merged.csv', encoding='cp949')"
   ]
  },
  {
   "cell_type": "markdown",
   "id": "4889fa8d-cdb7-4a0c-a705-894d1746bdb7",
   "metadata": {},
   "source": [
    "#### 해당 기간에서의 12 lag corr best"
   ]
  },
  {
   "cell_type": "code",
   "execution_count": null,
   "id": "be0ab59b-7035-4d25-8540-c49145682913",
   "metadata": {},
   "outputs": [],
   "source": []
  },
  {
   "cell_type": "code",
   "execution_count": null,
   "id": "637d45e9-c3d2-4965-af8f-5553849d1f41",
   "metadata": {
    "tags": []
   },
   "outputs": [],
   "source": [
    "raw_y_set_shifted_merged_corr = raw_y_set_shifted_merged.corr()\n",
    "raw_y_set_shifted_merged_filtered = raw_y_set_shifted_merged_corr[raw_y_set_resampled.columns.drop('date')]\n",
    "raw_y_set_shifted_merged_filtered.sort_values('y',ascending=False)\n",
    "raw_y_set_shifted_merged_filtered = raw_y_set_shifted_merged_filtered.loc[raw_y_set_shifted_merged_filtered.index != 'y']\n",
    "raw_y_set_shifted_merged_filtered = raw_y_set_shifted_merged_filtered.loc[raw_y_set_shifted_merged_filtered.index != 'y2']\n",
    "raw_y_set_shifted_merged_filtered_y = raw_y_set_shifted_merged_filtered.iloc[:,:1]\n",
    "raw_y_set_shifted_merged_filtered_upto_corr_rate = raw_y_set_shifted_merged_filtered_y[raw_y_set_shifted_merged_filtered_y.y >= corr_rate]\n",
    "raw_y_set_shifted_merged_filtered_upto_corr_rate = raw_y_set_shifted_merged_filtered_upto_corr_rate[raw_y_set_shifted_merged_filtered_upto_corr_rate.index.str.contains('_12')]\n",
    "raw_y_set_shifted_merged_filtered_upto_corr_rate = raw_y_set_shifted_merged_filtered_upto_corr_rate.sort_values('y',ascending=False)\n",
    "futr_list = raw_y_set_shifted_merged_filtered_upto_corr_rate.index.values.tolist()\n",
    "futr_list = [word.replace(\"_12\", \"\") for word in futr_list]\n",
    "\n",
    "# futr_list.remove('y')\n",
    "# futr_list.remove('y2')\n",
    "\n",
    "futr_list"
   ]
  },
  {
   "cell_type": "code",
   "execution_count": null,
   "id": "2d0ca7d0-ac54-425a-bbf2-0125954698c5",
   "metadata": {
    "tags": []
   },
   "outputs": [],
   "source": [
    "futr_list"
   ]
  },
  {
   "cell_type": "markdown",
   "id": "7e7e2423-991f-4d6b-882c-50617a2a65e1",
   "metadata": {},
   "source": [
    "#### 해당 기간에서의 12 corr best"
   ]
  },
  {
   "cell_type": "code",
   "execution_count": null,
   "id": "e40279d3-f9f2-410e-88ac-452b91a2f75c",
   "metadata": {
    "tags": []
   },
   "outputs": [],
   "source": [
    "hist_var_chcek = raw_y_set_resampled.iloc[:,1:]\n",
    "\n",
    "hist_var_corr = hist_var_chcek.corr()\n",
    "hist_var_corr_filtered = hist_var_corr.loc[hist_var_corr.index != 'y']\n",
    "hist_var_corr_filtered = hist_var_corr_filtered.loc[hist_var_corr_filtered.index != 'y2']\n",
    "hist_var_corr_filtered_y = hist_var_corr_filtered.iloc[:,:1]\n",
    "hist_var_corr_filtered_y_corr_rate = hist_var_corr_filtered_y[hist_var_corr_filtered_y.y >= corr_rate]\n",
    "hist_var_corr_filtered_y_only = hist_var_corr_filtered_y_corr_rate[hist_var_corr_filtered_y_corr_rate.index.str.contains('li2co3')==False]\n",
    "hist_var_corr_filtered_y_only = hist_var_corr_filtered_y_only[hist_var_corr_filtered_y_only.index.str.contains('lioh')==False]\n",
    "hist_var_corr_filtered_y_only = hist_var_corr_filtered_y_only.sort_values('y',ascending=False)\n",
    "hist_var_list = hist_var_corr_filtered_y_only.index.values.tolist()\n",
    "\n",
    "hist_var_list"
   ]
  },
  {
   "cell_type": "markdown",
   "id": "e8e986de-da6c-4b2d-9a92-6f5c9c8da01a",
   "metadata": {},
   "source": [
    "## scasler"
   ]
  },
  {
   "cell_type": "code",
   "execution_count": null,
   "id": "3e37017b-fc8c-4ce2-93ff-3758d04817e2",
   "metadata": {
    "tags": []
   },
   "outputs": [],
   "source": [
    "# df_tgt = df.iloc[:,3:]\n",
    "\n",
    "# scaler = StandardScaler()\n",
    "# scaler.fit(df_tgt)\n",
    "# arr = scaler.transform(df_tgt)\n",
    "# df_tmp = pd.DataFrame(arr, columns=df_tgt.columns)\n",
    "# df = pd.concat([df.iloc[:,:3],df_tmp], axis=1)"
   ]
  },
  {
   "cell_type": "markdown",
   "id": "8a209346-8f24-44ee-ba3b-a08f80614190",
   "metadata": {
    "tags": []
   },
   "source": [
    "#### static DF"
   ]
  },
  {
   "cell_type": "code",
   "execution_count": null,
   "id": "5ce7033a-2234-4bac-9087-91daee3af55a",
   "metadata": {
    "tags": []
   },
   "outputs": [],
   "source": [
    "static_df = pd.read_csv('/users/ESKO/PYWORK/NHITS/data/static_df.csv')"
   ]
  },
  {
   "cell_type": "markdown",
   "id": "d7fba8f2-a5ab-484b-b1ad-bda6ea55f7af",
   "metadata": {},
   "source": [
    "## <Training & Test>"
   ]
  },
  {
   "cell_type": "markdown",
   "id": "2135deb5-4427-45d2-b085-d0063d554f54",
   "metadata": {},
   "source": [
    "#### 날짜 확인"
   ]
  },
  {
   "cell_type": "code",
   "execution_count": null,
   "id": "525afb1e-6ec3-4108-9c23-95cc5565c352",
   "metadata": {},
   "outputs": [],
   "source": [
    "# train = df.loc[df.ds < '2021-06-30']\n",
    "# test = df.loc[df.ds > '2021-06-30']"
   ]
  },
  {
   "cell_type": "markdown",
   "id": "9f95faab-68f4-4566-9494-35d2b646a7d7",
   "metadata": {},
   "source": [
    "#### 날짜 별 len 확인"
   ]
  },
  {
   "cell_type": "code",
   "execution_count": null,
   "id": "8548a462-acb8-462e-afcb-94c8c29af9bd",
   "metadata": {
    "tags": []
   },
   "outputs": [],
   "source": [
    "# len(df.loc[df.ds<'2021-06-30'])"
   ]
  },
  {
   "cell_type": "code",
   "execution_count": null,
   "id": "b9cbbd7a-3eb3-43be-84fe-2f4ca9267032",
   "metadata": {
    "tags": []
   },
   "outputs": [],
   "source": [
    "Y_train_df = df[df.ds<df['ds'].values[len(df.loc[df.ds<cutoff_date])]] # 132 train\n",
    "Y_test_df = df[df.ds>=df['ds'].values[len(df.loc[df.ds<=cutoff_date])]][:test_period]"
   ]
  },
  {
   "cell_type": "code",
   "execution_count": null,
   "id": "819f0948-e915-4efb-9507-a64b1c6eef28",
   "metadata": {
    "tags": []
   },
   "outputs": [],
   "source": [
    "futr_temp = Y_test_df.drop(['y'], axis=1).copy()\n",
    "# futr_list = [\n",
    "#              'Shanghai Containerized Freight Index (SCFI)',\n",
    "#              '대두 [미국(생산자 가격)] 현물',\n",
    "#              # '대두유 crude and refined average price [파라나구아(FOB)] 현물',\n",
    "#              '보일러용 후판 Q245R 30mm Xinyu Steel [중국] 현물',\n",
    "#              # 'HOUSECOST_KOR'\n",
    "#              ]\n",
    "futr_date = futr_temp.iloc[:,:2].copy()\n",
    "futr_df = pd.concat([futr_date, futr_temp[futr_list]], axis=1)\n",
    "# futr_df"
   ]
  },
  {
   "cell_type": "code",
   "execution_count": null,
   "id": "25ce62ad-30f2-446f-9159-4ca983c4fc82",
   "metadata": {
    "tags": []
   },
   "outputs": [],
   "source": [
    "Y_test_df"
   ]
  },
  {
   "cell_type": "markdown",
   "id": "41b52225-6b2d-4ffb-939e-beab3e28281e",
   "metadata": {},
   "source": [
    "#### No 변수"
   ]
  },
  {
   "cell_type": "code",
   "execution_count": null,
   "id": "e57c2c7e-3a33-4965-adec-88ef864f2038",
   "metadata": {
    "tags": []
   },
   "outputs": [],
   "source": [
    "horizon = len(Y_test_df)\n",
    "\n",
    "models = [\n",
    "          # NBEATS(input_size=5 * horizon, gpus = 1, h=horizon, max_epochs=100),\n",
    "          # NBEATSx(h=12, input_size=24,\n",
    "          #       # loss=DistributionLoss(distribution='Normal', level=[80, 90]),\n",
    "          #       gpus=1,\n",
    "          #       scaler_type='robust',\n",
    "          #       stat_exog_list = None,  \n",
    "          #       futr_exog_list = futr_list,\n",
    "          #       max_steps=100,\n",
    "          #       # val_check_steps=10,\n",
    "          #       # early_stop_patience_steps=2\n",
    "          #      ),\n",
    "          NHITS(input_size=5 * horizon, \n",
    "                h=horizon+1,\n",
    "                gpus = 1,\n",
    "                stat_exog_list = None,\n",
    "                hist_exog_list=None,\n",
    "                futr_exog_list = None,\n",
    "                # futr_exog_list = futr_list,\n",
    "                # n_freq_downsample=[24, 12, 1],\n",
    "                # mlp_units = [[512, 512], [512, 512], [512, 512]],\n",
    "                # n_pool_kernel_size = [2, 2, 1],\n",
    "                # n_freq_downsample=[24, 12, 1],\n",
    "                scaler_type = 'standard',\n",
    "                learning_rate=1e-4,\n",
    "                pooling_mode = 'MaxPool1d',\n",
    "                activation='ReLU',\n",
    "                batch_size=128,\n",
    "                random_seed=42,\n",
    "                max_epochs=200\n",
    "               ),\n",
    "           # NHITS(\n",
    "           #       h,\n",
    "           #       input_size,\n",
    "           #       futr_exog_list=None,\n",
    "           #       hist_exog_list=None,\n",
    "           #       stat_exog_list=None,\n",
    "           #       stack_types: list = ['identity', 'identity', 'identity'],\n",
    "           #       n_blocks: list = [1, 1, 1],\n",
    "           #       mlp_units: list = [[512, 512], [512, 512], [512, 512]],\n",
    "           #       n_pool_kernel_size: list = [2, 2, 1],\n",
    "           #       n_freq_downsample: list = [4, 2, 1],\n",
    "           #       pooling_mode: str = 'MaxPool1d',\n",
    "           #       interpolation_mode: str = 'linear',\n",
    "           #       dropout_prob_theta=0.0,\n",
    "           #       activation='ReLU',\n",
    "           #       loss=MAE(),\n",
    "           #       learning_rate=0.001,\n",
    "           #       batch_size=32,\n",
    "           #       windows_batch_size: int = 1024,\n",
    "           #       step_size: int = 1,\n",
    "           #       scaler_type='identity',\n",
    "           #       random_seed=1,\n",
    "           #       num_workers_loader=0,\n",
    "           #       drop_last_loader=False,\n",
    "           #       **trainer_kwargs,\n",
    "    \n",
    "          # TFT(h=12, \n",
    "          #     input_size=5 * horizon,\n",
    "          #     # hidden_size=20,\n",
    "          #     #loss=DistributionLoss(distribution='Poisson', level=[80, 90]),\n",
    "          #     #loss=DistributionLoss(distribution='Normal', level=[80, 90]),\n",
    "          #     #loss=DistributionLoss(distribution='StudentT', level=[80, 90]),\n",
    "          #     learning_rate=0.005,\n",
    "          #     stat_exog_list = None,\n",
    "          #     futr_exog_list = futr_list,\n",
    "          #     max_steps=100,\n",
    "          #     gpus=1,\n",
    "          #     # val_check_steps=10,\n",
    "          #     # early_stop_patience_steps=10,\n",
    "          #     scaler_type='robust',\n",
    "          #     # windows_batch_size=None,\n",
    "          #     enable_progress_bar=True),\n",
    "             ]\n",
    "nforecast_nv = NeuralForecast(models=models, freq='M')\n",
    "nforecast_nv.fit(df=Y_train_df)\n",
    "Y_hat_df_nv = nforecast_nv.predict(futr_df=futr_df).reset_index()"
   ]
  },
  {
   "cell_type": "code",
   "execution_count": null,
   "id": "23a1910f-285e-457a-888e-8ca4fa041ab9",
   "metadata": {
    "tags": []
   },
   "outputs": [],
   "source": [
    "# Plot predictions\n",
    "fig, ax = plt.subplots(1, 1, figsize = (20, 7))\n",
    "Y_hat_df_nv = Y_test_df.merge(Y_hat_df_nv, how='left', on=['unique_id', 'ds'])\n",
    "plot_df_nv = pd.concat([Y_train_df, Y_hat_df_nv]).set_index('ds')\n",
    "\n",
    "plot_df_nv[['y', 'NHITS']].plot(ax=ax, linewidth=2, marker='o')\n",
    "plt.axvline(cutoff_date, color='red')\n",
    "\n",
    "ax.set_title(f'LI2CO3 Actual and Predicted Plot - Cutoff: {cutoff_date}', fontsize=22)\n",
    "ax.set_ylabel('LI2CO3_PRICE', fontsize=20)\n",
    "ax.set_xlabel('Date', fontsize=20)\n",
    "ax.legend(prop={'size': 15})\n",
    "ax.grid()\n",
    "\n",
    "fig.savefig(f'./data/forecast_plot_{cutoff_date}_nv.png')"
   ]
  },
  {
   "cell_type": "code",
   "execution_count": null,
   "id": "940332ca-281c-41c8-ac8f-2bc9646f7638",
   "metadata": {},
   "outputs": [],
   "source": [
    "plot_df_nv[['y', 'NHITS']].to_csv(f'./data/forecasting_{cutoff_date}_nv.csv',index=False)"
   ]
  },
  {
   "cell_type": "markdown",
   "id": "c5b6e49b-657e-48e0-b389-d96d77b28470",
   "metadata": {},
   "source": [
    "#### Yes 변수"
   ]
  },
  {
   "cell_type": "code",
   "execution_count": null,
   "id": "16b3c015-bcd6-48b4-a847-d414d3e093e7",
   "metadata": {
    "tags": []
   },
   "outputs": [],
   "source": [
    "horizon = len(Y_test_df)\n",
    "\n",
    "models = [\n",
    "          # NBEATS(input_size=5 * horizon, gpus = 1, h=horizon, max_epochs=100),\n",
    "          # NBEATSx(h=12, input_size=24,\n",
    "          #       # loss=DistributionLoss(distribution='Normal', level=[80, 90]),\n",
    "          #       gpus=1,\n",
    "          #       scaler_type='robust',\n",
    "          #       stat_exog_list = None,  \n",
    "          #       futr_exog_list = futr_list,\n",
    "          #       max_steps=100,\n",
    "          #       # val_check_steps=10,\n",
    "          #       # early_stop_patience_steps=2\n",
    "          #      ),\n",
    "          NHITS(input_size=5 * horizon, \n",
    "                h=horizon + 1,\n",
    "                gpus = 1,\n",
    "                stat_exog_list = None,\n",
    "                # hist_exog_list=hist_var_list,\n",
    "                futr_exog_list = futr_list,\n",
    "                n_blocks = [1, 1, 1],\n",
    "                mlp_units = [[512, 512], [512, 512], [512, 512]],\n",
    "                n_pool_kernel_size = [2, 2, 1],\n",
    "                n_freq_downsample=[24, 12, 1],\n",
    "                scaler_type = 'robust',\n",
    "                learning_rate=1e-4,\n",
    "                pooling_mode = 'MaxPool1d',\n",
    "                activation='ReLU',\n",
    "                batch_size=128,\n",
    "                random_seed=42,\n",
    "                max_epochs=200\n",
    "               ),\n",
    "           # NHITS(\n",
    "           #       h,\n",
    "           #       input_size,\n",
    "           #       futr_exog_list=None,\n",
    "           #       hist_exog_list=None,\n",
    "           #       stat_exog_list=None,\n",
    "           #       stack_types: list = ['identity', 'identity', 'identity'],\n",
    "           #       n_blocks: list = [1, 1, 1],\n",
    "           #       mlp_units: list = [[512, 512], [512, 512], [512, 512]],\n",
    "           #       n_pool_kernel_size: list = [2, 2, 1],\n",
    "           #       n_freq_downsample: list = [4, 2, 1],\n",
    "           #       pooling_mode: str = 'MaxPool1d',\n",
    "           #       interpolation_mode: str = 'linear',\n",
    "           #       dropout_prob_theta=0.0,\n",
    "           #       activation='ReLU',\n",
    "           #       loss=MAE(),\n",
    "           #       learning_rate=0.001,\n",
    "           #       batch_size=32,\n",
    "           #       windows_batch_size: int = 1024,\n",
    "           #       step_size: int = 1,\n",
    "           #       scaler_type='identity',\n",
    "           #       random_seed=1,\n",
    "           #       num_workers_loader=0,\n",
    "           #       drop_last_loader=False,\n",
    "           #       **trainer_kwargs,\n",
    "    \n",
    "          # TFT(h=12, \n",
    "          #     input_size=5 * horizon,\n",
    "          #     # hidden_size=20,\n",
    "          #     #loss=DistributionLoss(distribution='Poisson', level=[80, 90]),\n",
    "          #     #loss=DistributionLoss(distribution='Normal', level=[80, 90]),\n",
    "          #     #loss=DistributionLoss(distribution='StudentT', level=[80, 90]),\n",
    "          #     learning_rate=0.005,\n",
    "          #     stat_exog_list = None,\n",
    "          #     futr_exog_list = futr_list,\n",
    "          #     max_steps=100,\n",
    "          #     gpus=1,\n",
    "          #     # val_check_steps=10,\n",
    "          #     # early_stop_patience_steps=10,\n",
    "          #     scaler_type='robust',\n",
    "          #     # windows_batch_size=None,\n",
    "          #     enable_progress_bar=True),\n",
    "             ]\n",
    "nforecast = NeuralForecast(models=models, freq='M')\n",
    "nforecast.fit(df=Y_train_df)\n",
    "Y_hat_df = nforecast.predict(futr_df=futr_df).reset_index()"
   ]
  },
  {
   "cell_type": "code",
   "execution_count": null,
   "id": "30866cf9-6543-4f6e-802c-febe741b3492",
   "metadata": {
    "tags": []
   },
   "outputs": [],
   "source": [
    "# Plot predictions\n",
    "fig, ax = plt.subplots(1, 1, figsize = (20, 7))\n",
    "Y_hat_df = Y_test_df.merge(Y_hat_df, how='left', on=['unique_id', 'ds'])\n",
    "plot_df = pd.concat([Y_train_df, Y_hat_df]).set_index('ds')\n",
    "\n",
    "plot_df[['y', 'NHITS']].plot(ax=ax, linewidth=2, marker='o')\n",
    "\n",
    "plt.axvline(cutoff_date, color='red')\n",
    "ax.set_title(f'LI2CO3 Actual and Predicted Plot - Cutoff: {cutoff_date}', fontsize=22)\n",
    "ax.set_ylabel('LI2CO3_PRICE', fontsize=20)\n",
    "ax.set_xlabel('Date', fontsize=20)\n",
    "ax.legend(prop={'size': 15})\n",
    "ax.grid()\n",
    "\n",
    "# fig1.savefig(f'./data/forecasting_{cutoff_date}.png', dpi=100)\n",
    "fig.savefig(f'./data/forecast_plot_{cutoff_date}_wv.png')"
   ]
  },
  {
   "cell_type": "code",
   "execution_count": null,
   "id": "9724b4e1-2d8c-4f3e-a5f8-433b9850c9d7",
   "metadata": {
    "tags": []
   },
   "outputs": [],
   "source": [
    "plot_df[['y', 'NHITS']].to_csv(f'./data/forecast_plot_{cutoff_date}_wv.csv',index=False)"
   ]
  }
 ],
 "metadata": {
  "kernelspec": {
   "display_name": "Python 3 (ipykernel)",
   "language": "python",
   "name": "python3"
  },
  "language_info": {
   "codemirror_mode": {
    "name": "ipython",
    "version": 3
   },
   "file_extension": ".py",
   "mimetype": "text/x-python",
   "name": "python",
   "nbconvert_exporter": "python",
   "pygments_lexer": "ipython3",
   "version": "3.8.16"
  }
 },
 "nbformat": 4,
 "nbformat_minor": 5
}
