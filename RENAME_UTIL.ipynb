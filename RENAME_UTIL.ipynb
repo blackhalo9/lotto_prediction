{
 "cells": [
  {
   "cell_type": "code",
   "execution_count": 3,
   "id": "81297112-1beb-459a-9a6c-8405f09c5fd7",
   "metadata": {},
   "outputs": [],
   "source": [
    "import os, json\n",
    "os.chdir('/home/eunsuk.ko/METAL_FCST/2024_03/PKG_0321')\n",
    "FILEPATH = '/home/eunsuk.ko/METAL_FCST/2024_03/PKG_0321'\n",
    "\n",
    "directory = FILEPATH\n",
    "old_word = '0318'\n",
    "new_word = '0321'"
   ]
  },
  {
   "cell_type": "markdown",
   "id": "cd3abeb4-0641-47a5-9d0f-83f02cc91ec1",
   "metadata": {},
   "source": [
    "### Change date text in files"
   ]
  },
  {
   "cell_type": "code",
   "execution_count": 4,
   "id": "8c7a8928-0fdc-4db1-859f-cbc99f320899",
   "metadata": {},
   "outputs": [
    {
     "name": "stdout",
     "output_type": "stream",
     "text": [
      "Renamed \"TAM_0318_PY.py\" to \"TAM_0321_PY.py\"\n",
      "Renamed \"OPT_0318_PY.py\" to \"OPT_0321_PY.py\"\n",
      "Renamed \"PREPROCESSING_0318_PY.py\" to \"PREPROCESSING_0321_PY.py\"\n",
      "Renamed \"REPORT_0318_PY.py\" to \"REPORT_0321_PY.py\"\n",
      "Renamed \"FUTURE_FRAME_0318_PY.py\" to \"FUTURE_FRAME_0321_PY.py\"\n",
      "Renamed \"TAM2_PATH_VER_0318_PY.py\" to \"TAM2_PATH_VER_0321_PY.py\"\n",
      "Renamed \"FEATURE_IMPORTANCE_0318_PY.py\" to \"FEATURE_IMPORTANCE_0321_PY.py\"\n",
      "Renamed \"MODELS_0318_PY.py\" to \"MODELS_0321_PY.py\"\n",
      "Renamed \"ENSEMBLE_LIST_0318_PY.py\" to \"ENSEMBLE_LIST_0321_PY.py\"\n",
      "Renamed \"DATE_DICT_0318_PY.py\" to \"DATE_DICT_0321_PY.py\"\n",
      "Renamed \"DATALOADER_0318_default.ipynb\" to \"DATALOADER_0321_default.ipynb\"\n",
      "Renamed \"INPUT_0318_PY.py\" to \"INPUT_0321_PY.py\"\n",
      "Renamed \"DLINEAR_MODEL_0318_PY.py\" to \"DLINEAR_MODEL_0321_PY.py\"\n",
      "Renamed \"NLINEAR_MODEL_0318_PY.py\" to \"NLINEAR_MODEL_0321_PY.py\"\n",
      "Renamed \"PKGS_0318_PY.py\" to \"PKGS_0321_PY.py\"\n",
      "Renamed \"TSMIXERX_MODEL_0318_PY.py\" to \"TSMIXERX_MODEL_0321_PY.py\"\n",
      "Renamed \"UTILS_0318_PY.py\" to \"UTILS_0321_PY.py\"\n"
     ]
    }
   ],
   "source": [
    "for filename in os.listdir(directory):\n",
    "    if old_word in filename:\n",
    "        new_filename = filename.replace(old_word, new_word)\n",
    "        old_file_path = os.path.join(directory, filename)\n",
    "        new_file_path = os.path.join(directory, new_filename)        \n",
    "        os.rename(old_file_path, new_file_path)\n",
    "        print(f'Renamed \"{filename}\" to \"{new_filename}\"')"
   ]
  },
  {
   "cell_type": "markdown",
   "id": "6e1940f5-1174-4796-96aa-a41b872bc77f",
   "metadata": {},
   "source": [
    "### Change date text in .py files"
   ]
  },
  {
   "cell_type": "code",
   "execution_count": 6,
   "id": "61101462-b589-4c56-8452-8cbd8be02768",
   "metadata": {},
   "outputs": [
    {
     "name": "stdout",
     "output_type": "stream",
     "text": [
      "Updated \"st_test6.py\"\n",
      "Updated \"streamlit_test2.py\"\n",
      "Updated \"st_test7.py\"\n",
      "Updated \"UTILS_0321_PY.py\"\n",
      "Updated \"__init__.py\"\n",
      "Updated \"TAM_0321_PY.py\"\n",
      "Updated \"TSMIXERX_MODEL_0321_PY.py\"\n",
      "Updated \"FUTURE_FRAME_0321_PY.py\"\n",
      "Updated \"st_test5.py\"\n",
      "Updated \"DLINEAR_MODEL_0321_PY.py\"\n",
      "Updated \"st_test4.py\"\n",
      "Updated \"TAM2_PATH_VER_0321_PY.py\"\n",
      "Updated \"PREPROCESSING_0321_PY.py\"\n",
      "Updated \"OPT_0321_PY.py\"\n",
      "Updated \"DATE_DICT_0321_PY.py\"\n",
      "Updated \"TAM_TEMP.py\"\n",
      "Updated \"INPUT_0321_PY.py\"\n",
      "Updated \"st_test3.py\"\n",
      "Updated \"ENSEMBLE_LIST_0321_PY.py\"\n",
      "Updated \"PKGS_0321_PY.py\"\n",
      "Updated \"FEATURE_IMPORTANCE_0321_PY.py\"\n",
      "Updated \"MODELS_0321_PY.py\"\n",
      "Updated \"st_test8.py\"\n",
      "Updated \"streamlit_test.py\"\n",
      "Updated \"REPORT_0321_PY.py\"\n",
      "Updated \"NLINEAR_MODEL_0321_PY.py\"\n",
      "All .py files have been updated.\n"
     ]
    }
   ],
   "source": [
    "for filename in os.listdir(directory):\n",
    "    if filename.endswith('.py'):\n",
    "        file_path = os.path.join(directory, filename)\n",
    "        with open(file_path, 'r', encoding='utf-8') as file:\n",
    "            content = file.read()\n",
    "        updated_content = content.replace(old_word, new_word)\n",
    "        with open(file_path, 'w', encoding='utf-8') as file:\n",
    "            file.write(updated_content)    \n",
    "        print(f'Updated \"{filename}\"')\n",
    "print(\"All .py files have been updated.\")"
   ]
  },
  {
   "cell_type": "markdown",
   "id": "d873b86a-0627-420d-bfed-765b6c3a1532",
   "metadata": {},
   "source": [
    "### Change date text in .ipynb files"
   ]
  },
  {
   "cell_type": "code",
   "execution_count": 7,
   "id": "74dd9e59-76f2-4b87-9f64-34ab8b9321d2",
   "metadata": {},
   "outputs": [
    {
     "name": "stdout",
     "output_type": "stream",
     "text": [
      "Updated \"DATALOADER_0321_default.ipynb\"\n",
      "Updated \"RENAME_UTIL.ipynb\"\n",
      "All applicable .ipynb files have been updated.\n"
     ]
    }
   ],
   "source": [
    "exclude_file = 'RESULT_UTIL.ipynb'\n",
    "\n",
    "for filename in os.listdir(directory):\n",
    "    if filename.endswith('.ipynb') and filename != exclude_file:\n",
    "        file_path = os.path.join(directory, filename)\n",
    "        with open(file_path, 'r', encoding='utf-8') as file:\n",
    "            notebook = json.load(file)\n",
    "        for cell in notebook['cells']:\n",
    "            if cell['cell_type'] == 'markdown' or cell['cell_type'] == 'code':\n",
    "                cell['source'] = [text.replace(old_word, new_word) for text in cell['source']]\n",
    "        with open(file_path, 'w', encoding='utf-8') as file:\n",
    "            json.dump(notebook, file, indent=4) \n",
    "        print(f'Updated \"{filename}\"')\n",
    "print(\"All applicable .ipynb files have been updated.\")"
   ]
  },
  {
   "cell_type": "code",
   "execution_count": null,
   "id": "595b386e-6371-4bbc-a4dc-55b005adc7d4",
   "metadata": {},
   "outputs": [],
   "source": []
  }
 ],
 "metadata": {
  "kernelspec": {
   "display_name": "Python 3 (ipykernel)",
   "language": "python",
   "name": "python3"
  },
  "language_info": {
   "codemirror_mode": {
    "name": "ipython",
    "version": 3
   },
   "file_extension": ".py",
   "mimetype": "text/x-python",
   "name": "python",
   "nbconvert_exporter": "python",
   "pygments_lexer": "ipython3",
   "version": "3.10.12"
  }
 },
 "nbformat": 4,
 "nbformat_minor": 5
}
