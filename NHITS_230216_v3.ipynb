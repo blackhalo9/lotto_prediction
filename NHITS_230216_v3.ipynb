{
 "cells": [
  {
   "cell_type": "code",
   "execution_count": 1,
   "id": "2c709f33-1bfc-4a02-86f6-cd5c76467514",
   "metadata": {
    "tags": []
   },
   "outputs": [
    {
     "name": "stderr",
     "output_type": "stream",
     "text": [
      "C:\\Users\\ESKO\\anaconda3\\envs\\dl\\lib\\site-packages\\tqdm\\auto.py:22: TqdmWarning: IProgress not found. Please update jupyter and ipywidgets. See https://ipywidgets.readthedocs.io/en/stable/user_install.html\n",
      "  from .autonotebook import tqdm as notebook_tqdm\n"
     ]
    },
    {
     "name": "stdout",
     "output_type": "stream",
     "text": [
      "C:\\Users\\ESKO\\PYWORK\\NHITS\n"
     ]
    }
   ],
   "source": [
    "import os, torch\n",
    "os.chdir(\"/Users/ESKO/PYWORK/NHITS\")\n",
    "print(os.getcwd())"
   ]
  },
  {
   "cell_type": "code",
   "execution_count": 2,
   "id": "1130c92b-7119-401d-8c4e-99b9474f1fb0",
   "metadata": {
    "tags": []
   },
   "outputs": [],
   "source": [
    "import numpy as np\n",
    "import pandas as pd\n",
    "import pytorch_lightning as pl\n",
    "import matplotlib.pyplot as plt\n",
    "\n",
    "from ray import tune\n",
    "from sklearn.preprocessing import StandardScaler\n",
    "\n",
    "from neuralforecast import NeuralForecast\n",
    "from neuralforecast.auto import AutoTFT\n",
    "from neuralforecast.models import NBEATS, NBEATSx, NHITS, TFT\n",
    "from neuralforecast.losses.pytorch import MQLoss, DistributionLoss, GMM, PMM\n",
    "from neuralforecast.tsdataset import TimeSeriesDataset\n",
    "from neuralforecast.losses.pytorch import MAE"
   ]
  },
  {
   "cell_type": "markdown",
   "id": "092e974b-728b-448b-aca0-03a9c91b7fff",
   "metadata": {},
   "source": [
    "## <기준날짜 및 예측 기간 설정>"
   ]
  },
  {
   "cell_type": "code",
   "execution_count": 646,
   "id": "f91c564f-7439-4f72-9730-ed3e3ccdd549",
   "metadata": {
    "tags": []
   },
   "outputs": [],
   "source": [
    "cutoff_date = '2022-06-30' ## len = 65\n",
    "test_period = 6  ## 예측 기간 (월)\n",
    "corr_rate = 0.9 ## Lag corr rate\n",
    "future_variable_limit = 10"
   ]
  },
  {
   "cell_type": "markdown",
   "id": "60de4ab8-1f14-4139-951e-77f82ba87471",
   "metadata": {},
   "source": [
    "## <원 data set>"
   ]
  },
  {
   "cell_type": "code",
   "execution_count": 647,
   "id": "01ff22bb-7a0d-48ea-9ba3-2c3531f1361f",
   "metadata": {
    "tags": []
   },
   "outputs": [],
   "source": [
    "df = pd.read_csv('./data/metal_pst.csv')\n",
    "df.rename(columns={'date':'ds'},inplace=True)\n",
    "df.rename(columns={'li2co3_cif_fast_kg_spot_exchng':'y'},inplace=True)\n",
    "df['ds'] = pd.to_datetime(df['ds'], format='%Y-%m-%d')\n",
    "\n",
    "df_tgt = df.iloc[:,3:]\n",
    "scaler = StandardScaler()\n",
    "scaler.fit(df_tgt)\n",
    "arr = scaler.transform(df_tgt)\n",
    "df_tmp = pd.DataFrame(arr, columns=df_tgt.columns)\n",
    "df = pd.concat([df.iloc[:,:3],df_tmp], axis=1)\n",
    "\n",
    "raw_y_set_resampled = df.copy()\n",
    "raw_y_set_resampled.rename(columns={'ds':'date'},inplace=True)\n",
    "raw_y_set_resampled.rename(columns={'lioh_cif_fast_kg_spot_exchng':'y2'},inplace=True)\n",
    "del raw_y_set_resampled['unique_id']"
   ]
  },
  {
   "cell_type": "markdown",
   "id": "8a1f5486-9f68-4806-beb7-22fa9219aad0",
   "metadata": {},
   "source": [
    "## Feature shift"
   ]
  },
  {
   "cell_type": "code",
   "execution_count": 649,
   "id": "f178475b-3d21-42b8-a56a-9fe5a627349f",
   "metadata": {
    "tags": []
   },
   "outputs": [
    {
     "name": "stdout",
     "output_type": "stream",
     "text": [
      "CPU times: total: 5.39 s\n",
      "Wall time: 28 s\n"
     ]
    }
   ],
   "source": [
    "%%time\n",
    "\n",
    "raw_y_set_resampled = raw_y_set_resampled[raw_y_set_resampled.date<=cutoff_date]\n",
    "raw_y_set_shifted_merged = raw_y_set_resampled['date']\n",
    "\n",
    "for i in range(len(raw_y_set_resampled.columns)):\n",
    "    if i == len(raw_y_set_resampled.columns) - 1:\n",
    "        break\n",
    "    raw_y_set_shifted = raw_y_set_resampled.iloc[:,[0,i+1]].dropna()\n",
    "    for j in range(test_period-1,test_period):\n",
    "        raw_y_set_shifted = pd.concat([raw_y_set_shifted, (raw_y_set_shifted.iloc[:,1].shift(j+1).rename(raw_y_set_resampled.columns[i+1] + '_' +str(j+1)))],axis=1)\n",
    "        raw_y_set_shifted_merged = pd.merge(raw_y_set_shifted_merged, raw_y_set_shifted, how= 'outer') \n",
    "        if j == len(raw_y_set_shifted.iloc[:,1]) -2 :\n",
    "            break\n",
    "# raw_y_set_shifted_merged.to_csv('./data/raw_y_set_shifted_merged.csv', encoding='cp949')"
   ]
  },
  {
   "cell_type": "markdown",
   "id": "4889fa8d-cdb7-4a0c-a705-894d1746bdb7",
   "metadata": {},
   "source": [
    "#### 해당 기간에서의 lag corr best"
   ]
  },
  {
   "cell_type": "code",
   "execution_count": 650,
   "id": "637d45e9-c3d2-4965-af8f-5553849d1f41",
   "metadata": {
    "tags": []
   },
   "outputs": [],
   "source": [
    "raw_y_set_shifted_merged_corr = raw_y_set_shifted_merged.corr()\n",
    "raw_y_set_shifted_merged_filtered = raw_y_set_shifted_merged_corr[raw_y_set_resampled.columns.drop('date')]\n",
    "raw_y_set_shifted_merged_filtered = raw_y_set_shifted_merged_filtered.loc[raw_y_set_shifted_merged_filtered.index != 'y']\n",
    "raw_y_set_shifted_merged_filtered = raw_y_set_shifted_merged_filtered.loc[raw_y_set_shifted_merged_filtered.index != 'y2']\n",
    "raw_y_set_shifted_merged_filtered_y = raw_y_set_shifted_merged_filtered.iloc[:,:1]\n",
    "raw_y_set_shifted_merged_filtered_upto_corr_rate = raw_y_set_shifted_merged_filtered_y[raw_y_set_shifted_merged_filtered_y.y >= corr_rate]\n",
    "raw_y_set_shifted_merged_filtered_upto_corr_rate = raw_y_set_shifted_merged_filtered_upto_corr_rate[raw_y_set_shifted_merged_filtered_upto_corr_rate.index.str.contains(f'_{test_period}')]\n",
    "raw_y_set_shifted_merged_filtered_upto_corr_rate = raw_y_set_shifted_merged_filtered_upto_corr_rate.sort_values('y',ascending=False)\n",
    "\n",
    "if len(raw_y_set_shifted_merged_filtered_upto_corr_rate) >= 20:\n",
    "    raw_y_set_shifted_merged_filtered_upto_corr_rate = raw_y_set_shifted_merged_filtered_upto_corr_rate[:future_variable_limit]\n",
    "else:\n",
    "    pass\n",
    "\n",
    "futr_list = raw_y_set_shifted_merged_filtered_upto_corr_rate.index.values.tolist()\n",
    "futr_list = [word.replace(f\"_{test_period}\", \"\") for word in futr_list]\n",
    "\n",
    "# if 'y2' in futr_list:\n",
    "#     (futr_list).remove('y2')\n",
    "# if 'li2co395_am_kg' in futr_list:\n",
    "#     (futr_list).remove('li2co395_am_kg')\n",
    "# if 'li2co3_995_am_kg' in futr_list:\n",
    "#     (futr_list).remove('li2co3_995_am_kg')\n",
    "# if 'mn_mb_kg' in futr_list:\n",
    "#     (futr_list).remove('mn_mb_kg')\n",
    "# if 'al_lme_kg' in futr_list:\n",
    "#     (futr_list).remove('al_lme_kg')"
   ]
  },
  {
   "cell_type": "code",
   "execution_count": 651,
   "id": "f978b900-b299-430f-aa61-743ce133cd57",
   "metadata": {
    "tags": []
   },
   "outputs": [
    {
     "data": {
      "text/html": [
       "<div>\n",
       "<style scoped>\n",
       "    .dataframe tbody tr th:only-of-type {\n",
       "        vertical-align: middle;\n",
       "    }\n",
       "\n",
       "    .dataframe tbody tr th {\n",
       "        vertical-align: top;\n",
       "    }\n",
       "\n",
       "    .dataframe thead th {\n",
       "        text-align: right;\n",
       "    }\n",
       "</style>\n",
       "<table border=\"1\" class=\"dataframe\">\n",
       "  <thead>\n",
       "    <tr style=\"text-align: right;\">\n",
       "      <th></th>\n",
       "      <th>y</th>\n",
       "    </tr>\n",
       "  </thead>\n",
       "  <tbody>\n",
       "    <tr>\n",
       "      <th>소맥 Durum [미국(생산자 가격)] 현물_6</th>\n",
       "      <td>0.960863</td>\n",
       "    </tr>\n",
       "    <tr>\n",
       "      <th>mn_mb_kg_6</th>\n",
       "      <td>0.946296</td>\n",
       "    </tr>\n",
       "    <tr>\n",
       "      <th>002466.SZ(Tianqi Lithium)_price_Low_6</th>\n",
       "      <td>0.913856</td>\n",
       "    </tr>\n",
       "    <tr>\n",
       "      <th>002466.SZ(Tianqi Lithium)_price_Open_6</th>\n",
       "      <td>0.913716</td>\n",
       "    </tr>\n",
       "    <tr>\n",
       "      <th>Howe Robinson Container Index_6</th>\n",
       "      <td>0.913334</td>\n",
       "    </tr>\n",
       "    <tr>\n",
       "      <th>002466.SZ(Tianqi Lithium)_price_Close_6</th>\n",
       "      <td>0.912569</td>\n",
       "    </tr>\n",
       "    <tr>\n",
       "      <th>002466.SZ(Tianqi Lithium)_price_High_6</th>\n",
       "      <td>0.912220</td>\n",
       "    </tr>\n",
       "    <tr>\n",
       "      <th>커피 Arabicas [미국/유럽] 현물_6</th>\n",
       "      <td>0.909278</td>\n",
       "    </tr>\n",
       "    <tr>\n",
       "      <th>002466.SZ(Tianqi Lithium)_price_Adj Close_6</th>\n",
       "      <td>0.904204</td>\n",
       "    </tr>\n",
       "  </tbody>\n",
       "</table>\n",
       "</div>"
      ],
      "text/plain": [
       "                                                    y\n",
       "소맥 Durum [미국(생산자 가격)] 현물_6                   0.960863\n",
       "mn_mb_kg_6                                   0.946296\n",
       "002466.SZ(Tianqi Lithium)_price_Low_6        0.913856\n",
       "002466.SZ(Tianqi Lithium)_price_Open_6       0.913716\n",
       "Howe Robinson Container Index_6              0.913334\n",
       "002466.SZ(Tianqi Lithium)_price_Close_6      0.912569\n",
       "002466.SZ(Tianqi Lithium)_price_High_6       0.912220\n",
       "커피 Arabicas [미국/유럽] 현물_6                     0.909278\n",
       "002466.SZ(Tianqi Lithium)_price_Adj Close_6  0.904204"
      ]
     },
     "execution_count": 651,
     "metadata": {},
     "output_type": "execute_result"
    }
   ],
   "source": [
    "raw_y_set_shifted_merged_filtered_upto_corr_rate"
   ]
  },
  {
   "cell_type": "code",
   "execution_count": 652,
   "id": "ec210705-f20b-4ed8-b3e7-97760f00cb17",
   "metadata": {
    "tags": []
   },
   "outputs": [
    {
     "data": {
      "text/plain": [
       "['소맥 Durum [미국(생산자 가격)] 현물',\n",
       " 'mn_mb_kg',\n",
       " '002466.SZ(Tianqi Lithium)_price_Low',\n",
       " '002466.SZ(Tianqi Lithium)_price_Open',\n",
       " 'Howe Robinson Container Index',\n",
       " '002466.SZ(Tianqi Lithium)_price_Close',\n",
       " '002466.SZ(Tianqi Lithium)_price_High',\n",
       " '커피 Arabicas [미국/유럽] 현물',\n",
       " '002466.SZ(Tianqi Lithium)_price_Adj Close']"
      ]
     },
     "execution_count": 652,
     "metadata": {},
     "output_type": "execute_result"
    }
   ],
   "source": [
    "futr_list"
   ]
  },
  {
   "cell_type": "markdown",
   "id": "7e7e2423-991f-4d6b-882c-50617a2a65e1",
   "metadata": {},
   "source": [
    "#### 해당 기간에서의 corr best"
   ]
  },
  {
   "cell_type": "code",
   "execution_count": 653,
   "id": "e40279d3-f9f2-410e-88ac-452b91a2f75c",
   "metadata": {
    "tags": []
   },
   "outputs": [
    {
     "data": {
      "text/plain": [
       "['CPI_PRT_TOT_FOODENRG_AGRWTH',\n",
       " '대두 [미국(생산자 가격)] 현물',\n",
       " 'CPI_BEL_TOT_AGRWTH',\n",
       " 'CPI_PRT_TOT_AGRWTH',\n",
       " '중국 니켈 SEMIS 수입량',\n",
       " 'CPI_GBR_TOT_FOODENRG_AGRWTH',\n",
       " 'CPI_LTU_TOT_AGRWTH',\n",
       " 'CPI_GRC_TOT_AGRWTH']"
      ]
     },
     "execution_count": 653,
     "metadata": {},
     "output_type": "execute_result"
    }
   ],
   "source": [
    "hist_var_chcek = raw_y_set_resampled.iloc[:,1:]\n",
    "\n",
    "hist_var_corr = hist_var_chcek.corr()\n",
    "hist_var_corr_filtered = hist_var_corr.loc[hist_var_corr.index != 'y']\n",
    "hist_var_corr_filtered = hist_var_corr_filtered.loc[hist_var_corr_filtered.index != 'y2']\n",
    "hist_var_corr_filtered_y = hist_var_corr_filtered.iloc[:,:1]\n",
    "hist_var_corr_filtered_y_corr_rate = hist_var_corr_filtered_y[hist_var_corr_filtered_y.y >= corr_rate]\n",
    "hist_var_corr_filtered_y_only = hist_var_corr_filtered_y_corr_rate[hist_var_corr_filtered_y_corr_rate.index.str.contains('li2co3')==False]\n",
    "hist_var_corr_filtered_y_only = hist_var_corr_filtered_y_only[hist_var_corr_filtered_y_only.index.str.contains('lioh')==False]\n",
    "hist_var_corr_filtered_y_only = hist_var_corr_filtered_y_only.sort_values('y',ascending=False)\n",
    "hist_var_list = hist_var_corr_filtered_y_only.index.values.tolist()\n",
    "\n",
    "hist_var_list"
   ]
  },
  {
   "cell_type": "markdown",
   "id": "e8e986de-da6c-4b2d-9a92-6f5c9c8da01a",
   "metadata": {},
   "source": [
    "## scaler"
   ]
  },
  {
   "cell_type": "code",
   "execution_count": null,
   "id": "3e37017b-fc8c-4ce2-93ff-3758d04817e2",
   "metadata": {
    "tags": []
   },
   "outputs": [],
   "source": []
  },
  {
   "cell_type": "markdown",
   "id": "8a209346-8f24-44ee-ba3b-a08f80614190",
   "metadata": {
    "tags": []
   },
   "source": [
    "#### static DF"
   ]
  },
  {
   "cell_type": "code",
   "execution_count": 654,
   "id": "5ce7033a-2234-4bac-9087-91daee3af55a",
   "metadata": {
    "tags": []
   },
   "outputs": [],
   "source": [
    "static_df = pd.read_csv('/users/ESKO/PYWORK/NHITS/data/static_df.csv')"
   ]
  },
  {
   "cell_type": "markdown",
   "id": "d7fba8f2-a5ab-484b-b1ad-bda6ea55f7af",
   "metadata": {},
   "source": [
    "## <Training & Test>"
   ]
  },
  {
   "cell_type": "markdown",
   "id": "2135deb5-4427-45d2-b085-d0063d554f54",
   "metadata": {},
   "source": [
    "#### 날짜 확인"
   ]
  },
  {
   "cell_type": "code",
   "execution_count": 655,
   "id": "525afb1e-6ec3-4108-9c23-95cc5565c352",
   "metadata": {},
   "outputs": [],
   "source": [
    "# train = df.loc[df.ds < '2021-06-30']\n",
    "# test = df.loc[df.ds > '2021-06-30']"
   ]
  },
  {
   "cell_type": "markdown",
   "id": "9f95faab-68f4-4566-9494-35d2b646a7d7",
   "metadata": {},
   "source": [
    "#### 날짜 별 len 확인"
   ]
  },
  {
   "cell_type": "code",
   "execution_count": 656,
   "id": "8548a462-acb8-462e-afcb-94c8c29af9bd",
   "metadata": {
    "tags": []
   },
   "outputs": [],
   "source": [
    "# len(df.loc[df.ds<'2021-06-30'])"
   ]
  },
  {
   "cell_type": "code",
   "execution_count": 657,
   "id": "837791bc-7eab-4e22-9501-5dda050fa80b",
   "metadata": {
    "tags": []
   },
   "outputs": [],
   "source": [
    "# len(Y_train_df)\n",
    "# len(Y_test_df)\n",
    "# len(df)"
   ]
  },
  {
   "cell_type": "markdown",
   "id": "5e48e6ed-d091-4f7e-860d-32db64006c26",
   "metadata": {},
   "source": [
    "Test 용 DF 및 선행 변수 반영"
   ]
  },
  {
   "cell_type": "code",
   "execution_count": 658,
   "id": "e7947178-5017-4afa-99bb-de9843ac3061",
   "metadata": {
    "tags": []
   },
   "outputs": [],
   "source": [
    "Y_train_df = df[df.ds<=cutoff_date]\n",
    "Y_test_df = df[df.ds>cutoff_date]\n",
    "\n",
    "if len(Y_test_df) > 12:    \n",
    "    Y_test_df = Y_test_df[:12]\n",
    "else:\n",
    "    pass\n",
    "# Y_train_df = df[df.ds<df['ds'].values[len(df.loc[df.ds<=cutoff_date])]]\n",
    "# Y_test_df = df[df.ds>=df['ds'].values[len(df.loc[df.ds<=cutoff_date])]]"
   ]
  },
  {
   "cell_type": "code",
   "execution_count": 659,
   "id": "b6a349e3-e146-47f1-aae9-fd4ca29154e8",
   "metadata": {
    "tags": []
   },
   "outputs": [
    {
     "data": {
      "text/html": [
       "<div>\n",
       "<style scoped>\n",
       "    .dataframe tbody tr th:only-of-type {\n",
       "        vertical-align: middle;\n",
       "    }\n",
       "\n",
       "    .dataframe tbody tr th {\n",
       "        vertical-align: top;\n",
       "    }\n",
       "\n",
       "    .dataframe thead th {\n",
       "        text-align: right;\n",
       "    }\n",
       "</style>\n",
       "<table border=\"1\" class=\"dataframe\">\n",
       "  <thead>\n",
       "    <tr style=\"text-align: right;\">\n",
       "      <th></th>\n",
       "      <th>ds</th>\n",
       "      <th>unique_id</th>\n",
       "      <th>Howe Robinson Container Index</th>\n",
       "      <th>소맥 Durum [미국(생산자 가격)] 현물</th>\n",
       "      <th>커피 Arabicas [미국/유럽] 현물</th>\n",
       "      <th>mn_mb_kg</th>\n",
       "      <th>002466.SZ(Tianqi Lithium)_price_Open</th>\n",
       "      <th>002466.SZ(Tianqi Lithium)_price_High</th>\n",
       "      <th>002466.SZ(Tianqi Lithium)_price_Low</th>\n",
       "      <th>002466.SZ(Tianqi Lithium)_price_Close</th>\n",
       "      <th>002466.SZ(Tianqi Lithium)_price_Adj Close</th>\n",
       "    </tr>\n",
       "  </thead>\n",
       "  <tbody>\n",
       "    <tr>\n",
       "      <th>0</th>\n",
       "      <td>2022-07-31</td>\n",
       "      <td>A</td>\n",
       "      <td>1.983558</td>\n",
       "      <td>2.554575</td>\n",
       "      <td>2.367743</td>\n",
       "      <td>3.029873</td>\n",
       "      <td>1.392323</td>\n",
       "      <td>1.370744</td>\n",
       "      <td>1.364795</td>\n",
       "      <td>1.350825</td>\n",
       "      <td>1.610400</td>\n",
       "    </tr>\n",
       "    <tr>\n",
       "      <th>1</th>\n",
       "      <td>2022-08-31</td>\n",
       "      <td>A</td>\n",
       "      <td>2.294724</td>\n",
       "      <td>2.885040</td>\n",
       "      <td>2.645062</td>\n",
       "      <td>2.900262</td>\n",
       "      <td>1.367964</td>\n",
       "      <td>1.355734</td>\n",
       "      <td>1.367266</td>\n",
       "      <td>1.373109</td>\n",
       "      <td>1.610400</td>\n",
       "    </tr>\n",
       "    <tr>\n",
       "      <th>2</th>\n",
       "      <td>2022-09-30</td>\n",
       "      <td>A</td>\n",
       "      <td>2.612162</td>\n",
       "      <td>2.686761</td>\n",
       "      <td>2.094098</td>\n",
       "      <td>1.549461</td>\n",
       "      <td>1.224277</td>\n",
       "      <td>1.200215</td>\n",
       "      <td>1.206095</td>\n",
       "      <td>1.199571</td>\n",
       "      <td>1.138631</td>\n",
       "    </tr>\n",
       "    <tr>\n",
       "      <th>3</th>\n",
       "      <td>2022-10-31</td>\n",
       "      <td>A</td>\n",
       "      <td>2.556884</td>\n",
       "      <td>2.752854</td>\n",
       "      <td>2.185085</td>\n",
       "      <td>0.363279</td>\n",
       "      <td>0.765674</td>\n",
       "      <td>0.767883</td>\n",
       "      <td>0.766036</td>\n",
       "      <td>0.764426</td>\n",
       "      <td>0.771514</td>\n",
       "    </tr>\n",
       "    <tr>\n",
       "      <th>4</th>\n",
       "      <td>2022-11-30</td>\n",
       "      <td>A</td>\n",
       "      <td>2.501607</td>\n",
       "      <td>2.356296</td>\n",
       "      <td>1.978233</td>\n",
       "      <td>0.161546</td>\n",
       "      <td>1.250923</td>\n",
       "      <td>1.267521</td>\n",
       "      <td>1.277345</td>\n",
       "      <td>1.281538</td>\n",
       "      <td>1.288687</td>\n",
       "    </tr>\n",
       "    <tr>\n",
       "      <th>5</th>\n",
       "      <td>2022-12-31</td>\n",
       "      <td>A</td>\n",
       "      <td>2.515599</td>\n",
       "      <td>1.596226</td>\n",
       "      <td>2.286805</td>\n",
       "      <td>0.058028</td>\n",
       "      <td>2.076358</td>\n",
       "      <td>2.088071</td>\n",
       "      <td>2.104982</td>\n",
       "      <td>2.117761</td>\n",
       "      <td>2.125008</td>\n",
       "    </tr>\n",
       "  </tbody>\n",
       "</table>\n",
       "</div>"
      ],
      "text/plain": [
       "          ds unique_id  Howe Robinson Container Index  \\\n",
       "0 2022-07-31         A                       1.983558   \n",
       "1 2022-08-31         A                       2.294724   \n",
       "2 2022-09-30         A                       2.612162   \n",
       "3 2022-10-31         A                       2.556884   \n",
       "4 2022-11-30         A                       2.501607   \n",
       "5 2022-12-31         A                       2.515599   \n",
       "\n",
       "   소맥 Durum [미국(생산자 가격)] 현물  커피 Arabicas [미국/유럽] 현물  mn_mb_kg  \\\n",
       "0                  2.554575                2.367743  3.029873   \n",
       "1                  2.885040                2.645062  2.900262   \n",
       "2                  2.686761                2.094098  1.549461   \n",
       "3                  2.752854                2.185085  0.363279   \n",
       "4                  2.356296                1.978233  0.161546   \n",
       "5                  1.596226                2.286805  0.058028   \n",
       "\n",
       "   002466.SZ(Tianqi Lithium)_price_Open  002466.SZ(Tianqi Lithium)_price_High  \\\n",
       "0                              1.392323                              1.370744   \n",
       "1                              1.367964                              1.355734   \n",
       "2                              1.224277                              1.200215   \n",
       "3                              0.765674                              0.767883   \n",
       "4                              1.250923                              1.267521   \n",
       "5                              2.076358                              2.088071   \n",
       "\n",
       "   002466.SZ(Tianqi Lithium)_price_Low  002466.SZ(Tianqi Lithium)_price_Close  \\\n",
       "0                             1.364795                               1.350825   \n",
       "1                             1.367266                               1.373109   \n",
       "2                             1.206095                               1.199571   \n",
       "3                             0.766036                               0.764426   \n",
       "4                             1.277345                               1.281538   \n",
       "5                             2.104982                               2.117761   \n",
       "\n",
       "   002466.SZ(Tianqi Lithium)_price_Adj Close  \n",
       "0                                   1.610400  \n",
       "1                                   1.610400  \n",
       "2                                   1.138631  \n",
       "3                                   0.771514  \n",
       "4                                   1.288687  \n",
       "5                                   2.125008  "
      ]
     },
     "execution_count": 659,
     "metadata": {},
     "output_type": "execute_result"
    }
   ],
   "source": [
    "future_date_series = pd.date_range(pd.date_range(cutoff_date,periods=2,freq='M')[1],periods=test_period,freq='M')\n",
    "future_date = pd.DataFrame(future_date_series,columns=['ds'])\n",
    "# future_date['unique_id'] = 'A'\n",
    "future_df_temp = pd.concat([raw_y_set_resampled.rename(columns={'date':'ds'}).iloc[-(test_period+len(Y_test_df)):,:],future_date])\n",
    "future_df_temp[futr_list] = future_df_temp[futr_list].shift(test_period)\n",
    "\n",
    "future_df_with_index = list(['ds','unique_id']) + futr_list\n",
    "future_df_with_index\n",
    "\n",
    "future_df_temp = future_df_temp[future_df_temp.columns[future_df_temp.columns.isin(future_df_with_index)]].reset_index(drop=True)\n",
    "future_df_temp.insert(1, 'unique_id', 'A')\n",
    "futr_df = future_df_temp.iloc[-test_period:,:].reset_index(drop=True)\n",
    "futr_df"
   ]
  },
  {
   "cell_type": "markdown",
   "id": "41b52225-6b2d-4ffb-939e-beab3e28281e",
   "metadata": {},
   "source": [
    "#### No 변수"
   ]
  },
  {
   "cell_type": "code",
   "execution_count": 660,
   "id": "e57c2c7e-3a33-4965-adec-88ef864f2038",
   "metadata": {
    "tags": []
   },
   "outputs": [],
   "source": [
    "# horizon = len(Y_test_df)\n",
    "\n",
    "# models = [\n",
    "#           # NBEATS(input_size=5 * horizon, gpus = 1, h=horizon, max_epochs=100),\n",
    "#           # NBEATSx(h=12, input_size=24,\n",
    "#           #       # loss=DistributionLoss(distribution='Normal', level=[80, 90]),\n",
    "#           #       gpus=1,\n",
    "#           #       scaler_type='robust',\n",
    "#           #       stat_exog_list = None,  \n",
    "#           #       futr_exog_list = futr_list,\n",
    "#           #       max_steps=100,\n",
    "#           #       # val_check_steps=10,\n",
    "#           #       # early_stop_patience_steps=2\n",
    "#           #      ),\n",
    "#           NHITS(input_size=5 * horizon, \n",
    "#                 h=horizon+1,\n",
    "#                 gpus = 1,\n",
    "#                 stat_exog_list = None,\n",
    "#                 hist_exog_list=None,\n",
    "#                 futr_exog_list = None,\n",
    "#                 # futr_exog_list = futr_list,\n",
    "#                 # n_freq_downsample=[24, 12, 1],\n",
    "#                 # mlp_units = [[512, 512], [512, 512], [512, 512]],\n",
    "#                 # n_pool_kernel_size = [2, 2, 1],\n",
    "#                 # n_freq_downsample=[24, 12, 1],\n",
    "#                 scaler_type = 'standard',\n",
    "#                 learning_rate=1e-4,\n",
    "#                 pooling_mode = 'MaxPool1d',\n",
    "#                 activation='ReLU',\n",
    "#                 batch_size=128,\n",
    "#                 random_seed=42,\n",
    "#                 max_epochs=200\n",
    "#                ),\n",
    "#            # NHITS(\n",
    "#            #       h,\n",
    "#            #       input_size,\n",
    "#            #       futr_exog_list=None,\n",
    "#            #       hist_exog_list=None,\n",
    "#            #       stat_exog_list=None,\n",
    "#            #       stack_types: list = ['identity', 'identity', 'identity'],\n",
    "#            #       n_blocks: list = [1, 1, 1],\n",
    "#            #       mlp_units: list = [[512, 512], [512, 512], [512, 512]],\n",
    "#            #       n_pool_kernel_size: list = [2, 2, 1],\n",
    "#            #       n_freq_downsample: list = [4, 2, 1],\n",
    "#            #       pooling_mode: str = 'MaxPool1d',\n",
    "#            #       interpolation_mode: str = 'linear',\n",
    "#            #       dropout_prob_theta=0.0,\n",
    "#            #       activation='ReLU',\n",
    "#            #       loss=MAE(),\n",
    "#            #       learning_rate=0.001,\n",
    "#            #       batch_size=32,\n",
    "#            #       windows_batch_size: int = 1024,\n",
    "#            #       step_size: int = 1,\n",
    "#            #       scaler_type='identity',\n",
    "#            #       random_seed=1,\n",
    "#            #       num_workers_loader=0,\n",
    "#            #       drop_last_loader=False,\n",
    "#            #       **trainer_kwargs,\n",
    "    \n",
    "#           # TFT(h=12, \n",
    "#           #     input_size=5 * horizon,\n",
    "#           #     # hidden_size=20,\n",
    "#           #     #loss=DistributionLoss(distribution='Poisson', level=[80, 90]),\n",
    "#           #     #loss=DistributionLoss(distribution='Normal', level=[80, 90]),\n",
    "#           #     #loss=DistributionLoss(distribution='StudentT', level=[80, 90]),\n",
    "#           #     learning_rate=0.005,\n",
    "#           #     stat_exog_list = None,\n",
    "#           #     futr_exog_list = futr_list,\n",
    "#           #     max_steps=100,\n",
    "#           #     gpus=1,\n",
    "#           #     # val_check_steps=10,\n",
    "#           #     # early_stop_patience_steps=10,\n",
    "#           #     scaler_type='robust',\n",
    "#           #     # windows_batch_size=None,\n",
    "#           #     enable_progress_bar=True),\n",
    "#              ]\n",
    "# nforecast_nv = NeuralForecast(models=models, freq='M')\n",
    "# nforecast_nv.fit(df=Y_train_df)\n",
    "# Y_hat_df_nv = nforecast_nv.predict(futr_df=futr_df).reset_index()"
   ]
  },
  {
   "cell_type": "code",
   "execution_count": 661,
   "id": "23a1910f-285e-457a-888e-8ca4fa041ab9",
   "metadata": {
    "tags": []
   },
   "outputs": [],
   "source": [
    "# # Plot predictions\n",
    "# fig, ax = plt.subplots(1, 1, figsize = (20, 7))\n",
    "# Y_hat_df_nv = Y_test_df.merge(Y_hat_df_nv, how='left', on=['unique_id', 'ds'])\n",
    "# plot_df_nv = pd.concat([Y_train_df, Y_hat_df_nv]).set_index('ds')\n",
    "\n",
    "# plot_df_nv[['y', 'NHITS']].plot(ax=ax, linewidth=2, marker='o')\n",
    "# plt.axvline(cutoff_date, color='red')\n",
    "\n",
    "# ax.set_title(f'LI2CO3 Actual and Predicted Plot - Cutoff: {cutoff_date}', fontsize=22)\n",
    "# ax.set_ylabel('LI2CO3_PRICE', fontsize=20)\n",
    "# ax.set_xlabel('Date', fontsize=20)\n",
    "# ax.legend(prop={'size': 15})\n",
    "# ax.grid()\n",
    "\n",
    "# fig.savefig(f'./data/forecast_plot_{cutoff_date}_nv.png')"
   ]
  },
  {
   "cell_type": "code",
   "execution_count": 662,
   "id": "940332ca-281c-41c8-ac8f-2bc9646f7638",
   "metadata": {
    "tags": []
   },
   "outputs": [],
   "source": [
    "# plot_df_nv[['y', 'NHITS']].to_csv(f'./data/forecasting_{cutoff_date}_nv.csv',index=False)"
   ]
  },
  {
   "cell_type": "markdown",
   "id": "c5b6e49b-657e-48e0-b389-d96d77b28470",
   "metadata": {},
   "source": [
    "#### Yes 변수"
   ]
  },
  {
   "cell_type": "code",
   "execution_count": 663,
   "id": "d139885f-94df-4437-9a56-412123466be7",
   "metadata": {
    "tags": []
   },
   "outputs": [
    {
     "data": {
      "text/html": [
       "<div>\n",
       "<style scoped>\n",
       "    .dataframe tbody tr th:only-of-type {\n",
       "        vertical-align: middle;\n",
       "    }\n",
       "\n",
       "    .dataframe tbody tr th {\n",
       "        vertical-align: top;\n",
       "    }\n",
       "\n",
       "    .dataframe thead th {\n",
       "        text-align: right;\n",
       "    }\n",
       "</style>\n",
       "<table border=\"1\" class=\"dataframe\">\n",
       "  <thead>\n",
       "    <tr style=\"text-align: right;\">\n",
       "      <th></th>\n",
       "      <th>ds</th>\n",
       "      <th>unique_id</th>\n",
       "      <th>y</th>\n",
       "      <th>lioh_cif_fast_kg_spot_exchng</th>\n",
       "      <th>Baltic Dry Index (BDI)</th>\n",
       "      <th>Howe Robinson Container Index</th>\n",
       "      <th>Shanghai Containerized Freight Index (SCFI)</th>\n",
       "      <th>옥수수 For Grain [미국(생산자 가격)] 현물</th>\n",
       "      <th>원당 (daily) [ISA] 현물</th>\n",
       "      <th>대두 [미국(생산자 가격)] 현물</th>\n",
       "      <th>...</th>\n",
       "      <th>Pilbara Mineral Limited_price_Open</th>\n",
       "      <th>Pilbara Mineral Limited_price_High</th>\n",
       "      <th>Pilbara Mineral Limited_price_Low</th>\n",
       "      <th>Pilbara Mineral Limited_price_Close</th>\n",
       "      <th>Pilbara Mineral Limited_price_Adj Close</th>\n",
       "      <th>Allkem Limited (AKE.AX)_price_Open</th>\n",
       "      <th>Allkem Limited (AKE.AX)_price_High</th>\n",
       "      <th>Allkem Limited (AKE.AX)_price_Low</th>\n",
       "      <th>Allkem Limited (AKE.AX)_price_Close</th>\n",
       "      <th>Allkem Limited (AKE.AX)_price_Adj Close</th>\n",
       "    </tr>\n",
       "  </thead>\n",
       "  <tbody>\n",
       "    <tr>\n",
       "      <th>78</th>\n",
       "      <td>2022-07-31</td>\n",
       "      <td>A</td>\n",
       "      <td>73.000000</td>\n",
       "      <td>2.389233</td>\n",
       "      <td>0.691597</td>\n",
       "      <td>2.439292</td>\n",
       "      <td>2.526593</td>\n",
       "      <td>2.377100</td>\n",
       "      <td>0.921668</td>\n",
       "      <td>2.852368</td>\n",
       "      <td>...</td>\n",
       "      <td>1.464141</td>\n",
       "      <td>1.460176</td>\n",
       "      <td>1.481963</td>\n",
       "      <td>1.473009</td>\n",
       "      <td>2.410643</td>\n",
       "      <td>1.436494</td>\n",
       "      <td>1.434052</td>\n",
       "      <td>1.439497</td>\n",
       "      <td>1.441548</td>\n",
       "      <td>1.441548</td>\n",
       "    </tr>\n",
       "    <tr>\n",
       "      <th>79</th>\n",
       "      <td>2022-08-31</td>\n",
       "      <td>A</td>\n",
       "      <td>73.000000</td>\n",
       "      <td>2.420773</td>\n",
       "      <td>-0.092744</td>\n",
       "      <td>2.119559</td>\n",
       "      <td>2.773368</td>\n",
       "      <td>2.369193</td>\n",
       "      <td>0.793818</td>\n",
       "      <td>2.593314</td>\n",
       "      <td>...</td>\n",
       "      <td>2.219001</td>\n",
       "      <td>2.233095</td>\n",
       "      <td>2.245839</td>\n",
       "      <td>2.264053</td>\n",
       "      <td>2.410643</td>\n",
       "      <td>2.144853</td>\n",
       "      <td>2.155770</td>\n",
       "      <td>2.181382</td>\n",
       "      <td>2.184215</td>\n",
       "      <td>2.184215</td>\n",
       "    </tr>\n",
       "    <tr>\n",
       "      <th>80</th>\n",
       "      <td>2022-09-30</td>\n",
       "      <td>A</td>\n",
       "      <td>74.047619</td>\n",
       "      <td>2.507937</td>\n",
       "      <td>-0.004062</td>\n",
       "      <td>1.188816</td>\n",
       "      <td>3.024986</td>\n",
       "      <td>2.250597</td>\n",
       "      <td>0.750690</td>\n",
       "      <td>1.621862</td>\n",
       "      <td>...</td>\n",
       "      <td>2.107414</td>\n",
       "      <td>2.092161</td>\n",
       "      <td>2.084336</td>\n",
       "      <td>2.084871</td>\n",
       "      <td>1.970948</td>\n",
       "      <td>2.828439</td>\n",
       "      <td>2.823884</td>\n",
       "      <td>2.834908</td>\n",
       "      <td>2.836251</td>\n",
       "      <td>2.836251</td>\n",
       "    </tr>\n",
       "    <tr>\n",
       "      <th>81</th>\n",
       "      <td>2022-10-31</td>\n",
       "      <td>A</td>\n",
       "      <td>77.673913</td>\n",
       "      <td>2.664680</td>\n",
       "      <td>0.381286</td>\n",
       "      <td>0.204375</td>\n",
       "      <td>3.036207</td>\n",
       "      <td>1.784119</td>\n",
       "      <td>0.691518</td>\n",
       "      <td>1.427572</td>\n",
       "      <td>...</td>\n",
       "      <td>2.352264</td>\n",
       "      <td>2.359441</td>\n",
       "      <td>2.354164</td>\n",
       "      <td>2.362142</td>\n",
       "      <td>2.222022</td>\n",
       "      <td>2.765597</td>\n",
       "      <td>2.782167</td>\n",
       "      <td>2.764528</td>\n",
       "      <td>2.761120</td>\n",
       "      <td>2.761120</td>\n",
       "    </tr>\n",
       "    <tr>\n",
       "      <th>82</th>\n",
       "      <td>2022-11-30</td>\n",
       "      <td>A</td>\n",
       "      <td>80.818182</td>\n",
       "      <td>2.828879</td>\n",
       "      <td>-0.226024</td>\n",
       "      <td>-0.008117</td>\n",
       "      <td>3.004479</td>\n",
       "      <td>1.784119</td>\n",
       "      <td>1.005474</td>\n",
       "      <td>1.621862</td>\n",
       "      <td>...</td>\n",
       "      <td>2.433279</td>\n",
       "      <td>2.443712</td>\n",
       "      <td>2.455263</td>\n",
       "      <td>2.452607</td>\n",
       "      <td>2.303940</td>\n",
       "      <td>2.830058</td>\n",
       "      <td>2.817705</td>\n",
       "      <td>2.816214</td>\n",
       "      <td>2.795982</td>\n",
       "      <td>2.795982</td>\n",
       "    </tr>\n",
       "    <tr>\n",
       "      <th>83</th>\n",
       "      <td>2022-12-31</td>\n",
       "      <td>A</td>\n",
       "      <td>80.882353</td>\n",
       "      <td>2.867154</td>\n",
       "      <td>-0.043847</td>\n",
       "      <td>-0.041773</td>\n",
       "      <td>3.301048</td>\n",
       "      <td>1.784119</td>\n",
       "      <td>1.131385</td>\n",
       "      <td>1.816153</td>\n",
       "      <td>...</td>\n",
       "      <td>1.980999</td>\n",
       "      <td>1.967237</td>\n",
       "      <td>1.981728</td>\n",
       "      <td>1.959693</td>\n",
       "      <td>1.857597</td>\n",
       "      <td>2.230517</td>\n",
       "      <td>2.206089</td>\n",
       "      <td>2.211335</td>\n",
       "      <td>2.207568</td>\n",
       "      <td>2.207568</td>\n",
       "    </tr>\n",
       "  </tbody>\n",
       "</table>\n",
       "<p>6 rows × 925 columns</p>\n",
       "</div>"
      ],
      "text/plain": [
       "           ds unique_id          y  lioh_cif_fast_kg_spot_exchng  \\\n",
       "78 2022-07-31         A  73.000000                      2.389233   \n",
       "79 2022-08-31         A  73.000000                      2.420773   \n",
       "80 2022-09-30         A  74.047619                      2.507937   \n",
       "81 2022-10-31         A  77.673913                      2.664680   \n",
       "82 2022-11-30         A  80.818182                      2.828879   \n",
       "83 2022-12-31         A  80.882353                      2.867154   \n",
       "\n",
       "    Baltic Dry Index (BDI)  Howe Robinson Container Index  \\\n",
       "78                0.691597                       2.439292   \n",
       "79               -0.092744                       2.119559   \n",
       "80               -0.004062                       1.188816   \n",
       "81                0.381286                       0.204375   \n",
       "82               -0.226024                      -0.008117   \n",
       "83               -0.043847                      -0.041773   \n",
       "\n",
       "    Shanghai Containerized Freight Index (SCFI)  \\\n",
       "78                                     2.526593   \n",
       "79                                     2.773368   \n",
       "80                                     3.024986   \n",
       "81                                     3.036207   \n",
       "82                                     3.004479   \n",
       "83                                     3.301048   \n",
       "\n",
       "    옥수수 For Grain [미국(생산자 가격)] 현물  원당 (daily) [ISA] 현물  대두 [미국(생산자 가격)] 현물  \\\n",
       "78                       2.377100             0.921668            2.852368   \n",
       "79                       2.369193             0.793818            2.593314   \n",
       "80                       2.250597             0.750690            1.621862   \n",
       "81                       1.784119             0.691518            1.427572   \n",
       "82                       1.784119             1.005474            1.621862   \n",
       "83                       1.784119             1.131385            1.816153   \n",
       "\n",
       "    ...  Pilbara Mineral Limited_price_Open  \\\n",
       "78  ...                            1.464141   \n",
       "79  ...                            2.219001   \n",
       "80  ...                            2.107414   \n",
       "81  ...                            2.352264   \n",
       "82  ...                            2.433279   \n",
       "83  ...                            1.980999   \n",
       "\n",
       "    Pilbara Mineral Limited_price_High  Pilbara Mineral Limited_price_Low  \\\n",
       "78                            1.460176                           1.481963   \n",
       "79                            2.233095                           2.245839   \n",
       "80                            2.092161                           2.084336   \n",
       "81                            2.359441                           2.354164   \n",
       "82                            2.443712                           2.455263   \n",
       "83                            1.967237                           1.981728   \n",
       "\n",
       "    Pilbara Mineral Limited_price_Close  \\\n",
       "78                             1.473009   \n",
       "79                             2.264053   \n",
       "80                             2.084871   \n",
       "81                             2.362142   \n",
       "82                             2.452607   \n",
       "83                             1.959693   \n",
       "\n",
       "    Pilbara Mineral Limited_price_Adj Close  \\\n",
       "78                                 2.410643   \n",
       "79                                 2.410643   \n",
       "80                                 1.970948   \n",
       "81                                 2.222022   \n",
       "82                                 2.303940   \n",
       "83                                 1.857597   \n",
       "\n",
       "    Allkem Limited (AKE.AX)_price_Open  Allkem Limited (AKE.AX)_price_High  \\\n",
       "78                            1.436494                            1.434052   \n",
       "79                            2.144853                            2.155770   \n",
       "80                            2.828439                            2.823884   \n",
       "81                            2.765597                            2.782167   \n",
       "82                            2.830058                            2.817705   \n",
       "83                            2.230517                            2.206089   \n",
       "\n",
       "    Allkem Limited (AKE.AX)_price_Low  Allkem Limited (AKE.AX)_price_Close  \\\n",
       "78                           1.439497                             1.441548   \n",
       "79                           2.181382                             2.184215   \n",
       "80                           2.834908                             2.836251   \n",
       "81                           2.764528                             2.761120   \n",
       "82                           2.816214                             2.795982   \n",
       "83                           2.211335                             2.207568   \n",
       "\n",
       "    Allkem Limited (AKE.AX)_price_Adj Close  \n",
       "78                                 1.441548  \n",
       "79                                 2.184215  \n",
       "80                                 2.836251  \n",
       "81                                 2.761120  \n",
       "82                                 2.795982  \n",
       "83                                 2.207568  \n",
       "\n",
       "[6 rows x 925 columns]"
      ]
     },
     "execution_count": 663,
     "metadata": {},
     "output_type": "execute_result"
    }
   ],
   "source": [
    "Y_test_df"
   ]
  },
  {
   "cell_type": "code",
   "execution_count": 682,
   "id": "16b3c015-bcd6-48b4-a847-d414d3e093e7",
   "metadata": {
    "tags": []
   },
   "outputs": [
    {
     "name": "stdout",
     "output_type": "stream",
     "text": [
      "Epoch 0:  50%|██████████████▌              | 1/2 [00:00<00:00,  2.25it/s, loss=2.67, v_num=1775, train_loss_step=2.670]\n",
      "Validation: 0it [00:00, ?it/s]\u001b[A\n",
      "Validation:   0%|                                                                                | 0/1 [00:00<?, ?it/s]\u001b[A\n",
      "Validation DataLoader 0:   0%|                                                                   | 0/1 [00:00<?, ?it/s]\u001b[A\n",
      "Epoch 0: 100%|█████████████████████████████| 2/2 [00:00<00:00,  4.19it/s, loss=2.67, v_num=1775, train_loss_step=2.670]\u001b[A\n",
      "Epoch 1:  50%|██▌  | 1/2 [00:00<00:00, 10.26it/s, loss=2.75, v_num=1775, train_loss_step=2.830, train_loss_epoch=2.670]\u001b[A\n",
      "Validation: 0it [00:00, ?it/s]\u001b[A\n",
      "Validation:   0%|                                                                                | 0/1 [00:00<?, ?it/s]\u001b[A\n",
      "Validation DataLoader 0:   0%|                                                                   | 0/1 [00:00<?, ?it/s]\u001b[A\n",
      "Epoch 1: 100%|█████| 2/2 [00:00<00:00, 16.22it/s, loss=2.75, v_num=1775, train_loss_step=2.830, train_loss_epoch=2.670]\u001b[A\n",
      "Epoch 2:  50%|██▌  | 1/2 [00:00<00:00, 10.58it/s, loss=2.74, v_num=1775, train_loss_step=2.710, train_loss_epoch=2.830]\u001b[A\n",
      "Validation: 0it [00:00, ?it/s]\u001b[A\n",
      "Validation:   0%|                                                                                | 0/1 [00:00<?, ?it/s]\u001b[A\n",
      "Validation DataLoader 0:   0%|                                                                   | 0/1 [00:00<?, ?it/s]\u001b[A\n",
      "Epoch 2: 100%|█████| 2/2 [00:00<00:00, 16.19it/s, loss=2.74, v_num=1775, train_loss_step=2.710, train_loss_epoch=2.830]\u001b[A\n",
      "Epoch 3:  50%|██▌  | 1/2 [00:00<00:00, 10.69it/s, loss=2.73, v_num=1775, train_loss_step=2.710, train_loss_epoch=2.710]\u001b[A\n",
      "Validation: 0it [00:00, ?it/s]\u001b[A\n",
      "Validation:   0%|                                                                                | 0/1 [00:00<?, ?it/s]\u001b[A\n",
      "Validation DataLoader 0:   0%|                                                                   | 0/1 [00:00<?, ?it/s]\u001b[A\n",
      "Epoch 3: 100%|█████| 2/2 [00:00<00:00, 16.32it/s, loss=2.73, v_num=1775, train_loss_step=2.710, train_loss_epoch=2.710]\u001b[A\n",
      "Epoch 4:  50%|██▌  | 1/2 [00:00<00:00, 10.81it/s, loss=2.72, v_num=1775, train_loss_step=2.680, train_loss_epoch=2.710]\u001b[A\n",
      "Validation: 0it [00:00, ?it/s]\u001b[A\n",
      "Validation:   0%|                                                                                | 0/1 [00:00<?, ?it/s]\u001b[A\n",
      "Validation DataLoader 0:   0%|                                                                   | 0/1 [00:00<?, ?it/s]\u001b[A\n",
      "Epoch 4: 100%|█████| 2/2 [00:00<00:00, 16.12it/s, loss=2.72, v_num=1775, train_loss_step=2.680, train_loss_epoch=2.710]\u001b[A\n",
      "Epoch 5:  50%|██▌  | 1/2 [00:00<00:00, 11.02it/s, loss=2.72, v_num=1775, train_loss_step=2.680, train_loss_epoch=2.680]\u001b[A\n",
      "Validation: 0it [00:00, ?it/s]\u001b[A\n",
      "Validation:   0%|                                                                                | 0/1 [00:00<?, ?it/s]\u001b[A\n",
      "Validation DataLoader 0:   0%|                                                                   | 0/1 [00:00<?, ?it/s]\u001b[A\n",
      "Epoch 5: 100%|█████| 2/2 [00:00<00:00, 16.16it/s, loss=2.72, v_num=1775, train_loss_step=2.680, train_loss_epoch=2.680]\u001b[A\n",
      "Epoch 6:  50%|██▌  | 1/2 [00:00<00:00, 10.03it/s, loss=2.72, v_num=1775, train_loss_step=2.710, train_loss_epoch=2.680]\u001b[A\n",
      "Validation: 0it [00:00, ?it/s]\u001b[A\n",
      "Validation:   0%|                                                                                | 0/1 [00:00<?, ?it/s]\u001b[A\n",
      "Validation DataLoader 0:   0%|                                                                   | 0/1 [00:00<?, ?it/s]\u001b[A\n",
      "Epoch 6: 100%|█████| 2/2 [00:00<00:00, 14.95it/s, loss=2.72, v_num=1775, train_loss_step=2.710, train_loss_epoch=2.680]\u001b[A\n",
      "Epoch 7:  50%|███   | 1/2 [00:00<00:00, 10.64it/s, loss=2.7, v_num=1775, train_loss_step=2.630, train_loss_epoch=2.710]\u001b[A\n",
      "Validation: 0it [00:00, ?it/s]\u001b[A\n",
      "Validation:   0%|                                                                                | 0/1 [00:00<?, ?it/s]\u001b[A\n",
      "Validation DataLoader 0:   0%|                                                                   | 0/1 [00:00<?, ?it/s]\u001b[A\n",
      "Epoch 7: 100%|██████| 2/2 [00:00<00:00, 15.82it/s, loss=2.7, v_num=1775, train_loss_step=2.630, train_loss_epoch=2.710]\u001b[A\n",
      "Epoch 8:  50%|██▌  | 1/2 [00:00<00:00, 10.19it/s, loss=2.69, v_num=1775, train_loss_step=2.580, train_loss_epoch=2.630]\u001b[A\n",
      "Validation: 0it [00:00, ?it/s]\u001b[A\n",
      "Validation:   0%|                                                                                | 0/1 [00:00<?, ?it/s]\u001b[A\n",
      "Validation DataLoader 0:   0%|                                                                   | 0/1 [00:00<?, ?it/s]\u001b[A\n",
      "Epoch 8: 100%|█████| 2/2 [00:00<00:00, 15.61it/s, loss=2.69, v_num=1775, train_loss_step=2.580, train_loss_epoch=2.630]\u001b[A\n",
      "Epoch 9:  50%|██▌  | 1/2 [00:00<00:00, 11.10it/s, loss=2.69, v_num=1775, train_loss_step=2.730, train_loss_epoch=2.580]\u001b[A\n",
      "Validation: 0it [00:00, ?it/s]\u001b[A\n",
      "Validation:   0%|                                                                                | 0/1 [00:00<?, ?it/s]\u001b[A\n",
      "Validation DataLoader 0:   0%|                                                                   | 0/1 [00:00<?, ?it/s]\u001b[A\n",
      "Epoch 9: 100%|█████| 2/2 [00:00<00:00, 17.23it/s, loss=2.69, v_num=1775, train_loss_step=2.730, train_loss_epoch=2.580]\u001b[A\n",
      "Epoch 9: 100%|█████| 2/2 [00:00<00:00, 16.19it/s, loss=2.69, v_num=1775, train_loss_step=2.730, train_loss_epoch=2.730]\u001b[A\n",
      "Predicting DataLoader 0: 100%|███████████████████████████████████████████████████████████| 1/1 [00:00<00:00, 57.14it/s]\n"
     ]
    }
   ],
   "source": [
    "if len(Y_test_df) > 0:\n",
    "    horizon = len(Y_test_df)\n",
    "else:\n",
    "    horizon = len(futr_df)\n",
    "    \n",
    "    \n",
    "if cutoff_date <= '2021-12-31':\n",
    "    flexible = None\n",
    "else:\n",
    "    flexible = futr_df\n",
    "\n",
    "models = [\n",
    "          # NBEATS(input_size=5 * horizon, gpus = 1, h=horizon, max_epochs=100),\n",
    "          # NBEATSx(h=12, input_size=24,\n",
    "          #       # loss=DistributionLoss(distribution='Normal', level=[80, 90]),\n",
    "          #       gpus=1,\n",
    "          #       scaler_type='robust',\n",
    "          #       stat_exog_list = None,  \n",
    "          #       futr_exog_list = futr_list,\n",
    "          #       max_steps=100,\n",
    "          #       # val_check_steps=10,\n",
    "          #       # early_stop_patience_steps=2\n",
    "          #      ),\n",
    "          NHITS(input_size=5 * horizon, \n",
    "                h=horizon,\n",
    "                gpus = 1,\n",
    "                # stat_exog_list = None,\n",
    "                # hist_exog_list=hist_var_list,\n",
    "                futr_exog_list = flexible,\n",
    "                # n_blocks = [1, 1, 1],\n",
    "                mlp_units = [[512, 512], [512, 512], [512, 512]],\n",
    "                n_pool_kernel_size = [2, 2, 1],\n",
    "                # n_freq_downsample=[24, 12, 1],\n",
    "                scaler_type = 'robust',\n",
    "                learning_rate=1e-4,\n",
    "                pooling_mode = 'MaxPool1d',\n",
    "                activation='ReLU',\n",
    "                batch_size=128,\n",
    "                random_seed=42,\n",
    "                max_epochs=10\n",
    "               ),\n",
    "           # NHITS(\n",
    "           #       h,\n",
    "           #       input_size,\n",
    "           #       futr_exog_list=None,\n",
    "           #       hist_exog_list=None,\n",
    "           #       stat_exog_list=None,\n",
    "           #       stack_types: list = ['identity', 'identity', 'identity'],\n",
    "           #       n_blocks: list = [1, 1, 1],\n",
    "           #       mlp_units: list = [[512, 512], [512, 512], [512, 512]],\n",
    "           #       n_pool_kernel_size: list = [2, 2, 1],\n",
    "           #       n_freq_downsample: list = [4, 2, 1],\n",
    "           #       pooling_mode: str = 'MaxPool1d',\n",
    "           #       interpolation_mode: str = 'linear',\n",
    "           #       dropout_prob_theta=0.0,\n",
    "           #       activation='ReLU',\n",
    "           #       loss=MAE(),\n",
    "           #       learning_rate=0.001,\n",
    "           #       batch_size=32,\n",
    "           #       windows_batch_size: int = 1024,\n",
    "           #       step_size: int = 1,\n",
    "           #       scaler_type='identity',\n",
    "           #       random_seed=1,\n",
    "           #       num_workers_loader=0,\n",
    "           #       drop_last_loader=False,\n",
    "           #       **trainer_kwargs,\n",
    "    \n",
    "          # TFT(h=12, \n",
    "          #     input_size=5 * horizon,\n",
    "          #     # hidden_size=20,\n",
    "          #     #loss=DistributionLoss(distribution='Poisson', level=[80, 90]),\n",
    "          #     #loss=DistributionLoss(distribution='Normal', level=[80, 90]),\n",
    "          #     #loss=DistributionLoss(distribution='StudentT', level=[80, 90]),\n",
    "          #     learning_rate=0.005,\n",
    "          #     stat_exog_list = None,\n",
    "          #     futr_exog_list = futr_list,\n",
    "          #     max_steps=100,\n",
    "          #     gpus=1,\n",
    "          #     # val_check_steps=10,\n",
    "          #     # early_stop_patience_steps=10,\n",
    "          #     scaler_type='robust',\n",
    "          #     # windows_batch_size=None,\n",
    "          #     enable_progress_bar=True),\n",
    "             ]\n",
    "nforecast = NeuralForecast(models=models, freq='M')\n",
    "nforecast.fit(df=Y_train_df)\n",
    "Y_hat_df = nforecast.predict(futr_df=futr_df).reset_index()"
   ]
  },
  {
   "cell_type": "code",
   "execution_count": 683,
   "id": "30866cf9-6543-4f6e-802c-febe741b3492",
   "metadata": {
    "tags": []
   },
   "outputs": [
    {
     "data": {
      "image/png": "[encoded data removed]",
      "text/plain": [
       "<Figure size 2000x700 with 1 Axes>"
      ]
     },
     "metadata": {},
     "output_type": "display_data"
    }
   ],
   "source": [
    "# Plot predictions\n",
    "fig, ax = plt.subplots(1, 1, figsize = (20, 7))\n",
    "Y_hat_df = Y_test_df.merge(Y_hat_df, how='left', on=['unique_id', 'ds'])\n",
    "plot_df = pd.concat([Y_train_df, Y_hat_df]).set_index('ds')\n",
    "\n",
    "plot_df[['y', 'NHITS']].plot(ax=ax, linewidth=2, marker='o')\n",
    "\n",
    "plt.axvline(cutoff_date, color='red')\n",
    "ax.set_title(f'LI2CO3 Actual and Predicted Plot - Cutoff: {cutoff_date}', fontsize=22)\n",
    "ax.set_ylabel('LI2CO3_PRICE', fontsize=20)\n",
    "ax.set_xlabel('Date', fontsize=20)\n",
    "ax.legend(prop={'size': 15})\n",
    "ax.grid()\n",
    "\n",
    "# fig1.savefig(f'./data/forecasting_{cutoff_date}.png', dpi=100)\n",
    "fig.savefig(f'./data/forecast_plot_{cutoff_date}_wv.png')"
   ]
  },
  {
   "cell_type": "code",
   "execution_count": 684,
   "id": "9724b4e1-2d8c-4f3e-a5f8-433b9850c9d7",
   "metadata": {
    "tags": []
   },
   "outputs": [],
   "source": [
    "plot_df[['y', 'NHITS']].to_csv(f'./data/forecast_plot_{cutoff_date}_wv.csv',index=False)"
   ]
  },
  {
   "cell_type": "code",
   "execution_count": null,
   "id": "1c6a7b7d-0c76-4d10-ba18-567112c03448",
   "metadata": {},
   "outputs": [],
   "source": []
  }
 ],
 "metadata": {
  "kernelspec": {
   "display_name": "Python 3 (ipykernel)",
   "language": "python",
   "name": "python3"
  },
  "language_info": {
   "codemirror_mode": {
    "name": "ipython",
    "version": 3
   },
   "file_extension": ".py",
   "mimetype": "text/x-python",
   "name": "python",
   "nbconvert_exporter": "python",
   "pygments_lexer": "ipython3",
   "version": "3.8.16"
  }
 },
 "nbformat": 4,
 "nbformat_minor": 5
}
