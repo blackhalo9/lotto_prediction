{
  "cells": [
    {
      "cell_type": "markdown",
      "metadata": {
        "id": "view-in-github",
        "colab_type": "text"
      },
      "source": [
        "<a href=\"https://colab.research.google.com/github/blackhalo9/lotto_prediction/blob/main/NHITS_230227.ipynb\" target=\"_parent\"><img src=\"https://colab.research.google.com/assets/colab-badge.svg\" alt=\"Open In Colab\"/></a>"
      ]
    },
    {
      "cell_type": "code",
      "execution_count": null,
      "id": "3304f140-4e90-48f9-82a5-a39f7b55b4fe",
      "metadata": {
        "tags": [],
        "id": "3304f140-4e90-48f9-82a5-a39f7b55b4fe"
      },
      "outputs": [],
      "source": [
        "import pathlib\n",
        "\n",
        "path = pathlib.Path.cwd()"
      ]
    },
    {
      "cell_type": "code",
      "execution_count": null,
      "id": "13e679a8-4f9d-4a0a-aaaa-d3d9f16783b1",
      "metadata": {
        "tags": [],
        "id": "13e679a8-4f9d-4a0a-aaaa-d3d9f16783b1"
      },
      "outputs": [],
      "source": [
        "!pip install pytorch_lightning ray neuralforecast"
      ]
    },
    {
      "cell_type": "code",
      "source": [
        "from google.colab import drive\n",
        "drive.mount('/content/drive')"
      ],
      "metadata": {
        "id": "Ln81hpLQhl1Y",
        "outputId": "433bc17a-aa73-48af-a7a8-2bd9b434327f",
        "colab": {
          "base_uri": "https://localhost:8080/"
        }
      },
      "id": "Ln81hpLQhl1Y",
      "execution_count": 2,
      "outputs": [
        {
          "output_type": "stream",
          "name": "stdout",
          "text": [
            "Mounted at /content/drive\n"
          ]
        }
      ]
    },
    {
      "cell_type": "code",
      "execution_count": 3,
      "id": "2c709f33-1bfc-4a02-86f6-cd5c76467514",
      "metadata": {
        "tags": [],
        "id": "2c709f33-1bfc-4a02-86f6-cd5c76467514",
        "outputId": "f8fe832e-a572-4d19-d31d-5a7196b1e808",
        "colab": {
          "base_uri": "https://localhost:8080/"
        }
      },
      "outputs": [
        {
          "output_type": "stream",
          "name": "stdout",
          "text": [
            "/content/drive/MyDrive/NHITS\n"
          ]
        }
      ],
      "source": [
        "import os, torch\n",
        "os.chdir(\"/content/drive/MyDrive/NHITS\")\n",
        "print(os.getcwd())"
      ]
    },
    {
      "cell_type": "code",
      "execution_count": 8,
      "id": "1130c92b-7119-401d-8c4e-99b9474f1fb0",
      "metadata": {
        "tags": [],
        "id": "1130c92b-7119-401d-8c4e-99b9474f1fb0"
      },
      "outputs": [],
      "source": [
        "import numpy as np\n",
        "import pandas as pd\n",
        "import pytorch_lightning as pl\n",
        "import matplotlib.pyplot as plt\n",
        "\n",
        "from ray import tune\n",
        "from sklearn.preprocessing import StandardScaler\n",
        "\n",
        "from neuralforecast import NeuralForecast\n",
        "from neuralforecast.auto import AutoTFT\n",
        "from neuralforecast.models import NBEATS, NBEATSx, NHITS, TFT, LSTM\n",
        "from neuralforecast.losses.pytorch import MQLoss, DistributionLoss, GMM, PMM\n",
        "from neuralforecast.tsdataset import TimeSeriesDataset\n",
        "from neuralforecast.losses.pytorch import MAE"
      ]
    },
    {
      "cell_type": "markdown",
      "id": "092e974b-728b-448b-aca0-03a9c91b7fff",
      "metadata": {
        "id": "092e974b-728b-448b-aca0-03a9c91b7fff"
      },
      "source": [
        "## <기준날짜 및 예측 기간 설정>"
      ]
    },
    {
      "cell_type": "code",
      "execution_count": 9,
      "id": "f91c564f-7439-4f72-9730-ed3e3ccdd549",
      "metadata": {
        "tags": [],
        "id": "f91c564f-7439-4f72-9730-ed3e3ccdd549"
      },
      "outputs": [],
      "source": [
        "cutoff_date = '2022-04-30' ## len = 65\n",
        "test_period = 8  ## 예측 기간 (월)\n",
        "corr_rate = 0.8 ## Lag corr rate\n",
        "future_variable_limit = 3\n",
        "hist_corr_rate = 0.7 ## Lag corr rate\n",
        "hist_variable_limit = 3"
      ]
    },
    {
      "cell_type": "markdown",
      "id": "60de4ab8-1f14-4139-951e-77f82ba87471",
      "metadata": {
        "id": "60de4ab8-1f14-4139-951e-77f82ba87471"
      },
      "source": [
        "## <원 data set>"
      ]
    },
    {
      "cell_type": "code",
      "execution_count": 10,
      "id": "01ff22bb-7a0d-48ea-9ba3-2c3531f1361f",
      "metadata": {
        "tags": [],
        "id": "01ff22bb-7a0d-48ea-9ba3-2c3531f1361f"
      },
      "outputs": [],
      "source": [
        "df = pd.read_csv('./data/metal_pst.csv')\n",
        "df.rename(columns={'date':'ds'},inplace=True)\n",
        "df.rename(columns={'li2co3_cif_fast_kg_spot_exchng':'y'},inplace=True)\n",
        "df['ds'] = pd.to_datetime(df['ds'], format='%Y-%m-%d')\n",
        "\n",
        "# 스케일링\n",
        "df_tgt = df.iloc[:,3:]\n",
        "scaler = StandardScaler()\n",
        "scaler.fit(df_tgt)\n",
        "arr = scaler.transform(df_tgt)\n",
        "df_tmp = pd.DataFrame(arr, columns=df_tgt.columns)\n",
        "df = pd.concat([df.iloc[:,:3],df_tmp], axis=1)\n",
        "\n",
        "raw_y_set_resampled = df.copy()\n",
        "raw_y_set_resampled.rename(columns={'ds':'date'},inplace=True)\n",
        "raw_y_set_resampled.rename(columns={'lioh_cif_fast_kg_spot_exchng':'y2'},inplace=True)\n",
        "del raw_y_set_resampled['unique_id']"
      ]
    },
    {
      "cell_type": "markdown",
      "id": "57908d5d-29ab-4587-96af-6209d303ce2e",
      "metadata": {
        "id": "57908d5d-29ab-4587-96af-6209d303ce2e"
      },
      "source": [
        "#### FFT"
      ]
    },
    {
      "cell_type": "code",
      "execution_count": null,
      "id": "01a635f8-53f2-4ce0-ad6e-dd424817ce39",
      "metadata": {
        "tags": [],
        "id": "01a635f8-53f2-4ce0-ad6e-dd424817ce39"
      },
      "outputs": [],
      "source": [
        "# def FFT(df, col, topn=2):\n",
        "#     fft = np.fft.fft(df[col])\n",
        "#     fft[topn:-topn] = 0\n",
        "#     ifft = np.fft.ifft(fft)\n",
        "#     return ifft\n",
        "\n",
        "# df['y'] = FFT(df, 'y', 40)"
      ]
    },
    {
      "cell_type": "markdown",
      "id": "69d2c46a-14cc-4729-a884-e81e574e7301",
      "metadata": {
        "tags": [],
        "id": "69d2c46a-14cc-4729-a884-e81e574e7301"
      },
      "source": [
        "#### WAVELET"
      ]
    },
    {
      "cell_type": "code",
      "execution_count": null,
      "id": "40bed5d0-9d84-41f8-883c-34856936fbb8",
      "metadata": {
        "tags": [],
        "id": "40bed5d0-9d84-41f8-883c-34856936fbb8"
      },
      "outputs": [],
      "source": [
        "# !pip install PyWavelets\n",
        "# import pywt\n",
        "\n",
        "# def WT(df, col, wavelet='db5', thresh=0.63):\n",
        "#     signal = df['y'].values\n",
        "#     thresh = thresh*np.nanmax(signal)\n",
        "#     coeff = pywt.wavedec(signal, wavelet, mode=\"per\" )\n",
        "#     coeff[1:] = (pywt.threshold(i, value=thresh, mode=\"soft\" ) for i in coeff[1:])\n",
        "#     reconstructed_signal = pywt.waverec(coeff, wavelet, mode=\"per\" )\n",
        "#     return reconstructed_signal\n",
        "\n",
        "# df['y'] = WT(df, 'y', wavelet='db5', thresh=0.63)"
      ]
    },
    {
      "cell_type": "markdown",
      "id": "8a1f5486-9f68-4806-beb7-22fa9219aad0",
      "metadata": {
        "id": "8a1f5486-9f68-4806-beb7-22fa9219aad0"
      },
      "source": [
        "## Feature shift"
      ]
    },
    {
      "cell_type": "code",
      "execution_count": 11,
      "id": "f178475b-3d21-42b8-a56a-9fe5a627349f",
      "metadata": {
        "tags": [],
        "id": "f178475b-3d21-42b8-a56a-9fe5a627349f",
        "outputId": "ffe79ba7-4dcb-4ef7-cdec-4e3d12bcc289",
        "colab": {
          "base_uri": "https://localhost:8080/"
        }
      },
      "outputs": [
        {
          "output_type": "stream",
          "name": "stdout",
          "text": [
            "CPU times: user 48 s, sys: 178 ms, total: 48.2 s\n",
            "Wall time: 57 s\n"
          ]
        }
      ],
      "source": [
        "%%time\n",
        "\n",
        "raw_y_set_resampled = raw_y_set_resampled[raw_y_set_resampled.date<=cutoff_date]\n",
        "raw_y_set_shifted_merged = raw_y_set_resampled['date']\n",
        "\n",
        "for i in range(len(raw_y_set_resampled.columns)):\n",
        "    if i == len(raw_y_set_resampled.columns) - 1:\n",
        "        break\n",
        "    raw_y_set_shifted = raw_y_set_resampled.iloc[:,[0,i+1]].dropna()\n",
        "    for j in range(test_period-1,test_period):\n",
        "        raw_y_set_shifted = pd.concat([raw_y_set_shifted, (raw_y_set_shifted.iloc[:,1].shift(j+1).rename(raw_y_set_resampled.columns[i+1] + '_' +str(j+1)+ '_'))],axis=1)\n",
        "        raw_y_set_shifted_merged = pd.merge(raw_y_set_shifted_merged, raw_y_set_shifted, how= 'outer') \n",
        "        if j == len(raw_y_set_shifted.iloc[:,1]) -2 :\n",
        "            break\n",
        "# raw_y_set_shifted_merged.to_csv('./data/raw_y_set_shifted_merged.csv', encoding='cp949')"
      ]
    },
    {
      "cell_type": "code",
      "execution_count": 12,
      "id": "683da55d-cb36-408c-9a04-795df2721a34",
      "metadata": {
        "tags": [],
        "id": "683da55d-cb36-408c-9a04-795df2721a34",
        "outputId": "80b10534-4230-4386-f8d3-6f334839072d",
        "colab": {
          "base_uri": "https://localhost:8080/",
          "height": 713
        }
      },
      "outputs": [
        {
          "output_type": "execute_result",
          "data": {
            "text/plain": [
              "         date          y       y_8_        y2     y2_8_  \\\n",
              "0  2016-01-31  20.177268        NaN -0.237734       NaN   \n",
              "1  2016-02-29  23.306868        NaN -0.054803       NaN   \n",
              "2  2016-03-31  25.223010        NaN  0.133909       NaN   \n",
              "3  2016-04-30  25.308243        NaN  0.173425       NaN   \n",
              "4  2016-05-31  24.875099        NaN  0.107095       NaN   \n",
              "..        ...        ...        ...       ...       ...   \n",
              "71 2021-12-31  33.043478  11.326087  0.286579 -0.652782   \n",
              "72 2022-01-31  43.260870  12.727273  0.631414 -0.602008   \n",
              "73 2022-02-28  56.425000  13.340909  1.270279 -0.544854   \n",
              "74 2022-03-31  71.086957  14.045455  2.126927 -0.489898   \n",
              "75 2022-04-30  75.804348  14.590909  2.687810 -0.464069   \n",
              "\n",
              "    Baltic Dry Index (BDI)  Baltic Dry Index (BDI)_8_  \\\n",
              "0                -1.302468                        NaN   \n",
              "1                -1.396112                        NaN   \n",
              "2                -1.305967                        NaN   \n",
              "3                -1.041598                        NaN   \n",
              "4                -1.026945                        NaN   \n",
              "..                     ...                        ...   \n",
              "71                1.582281                   1.161139   \n",
              "72                0.318707                   1.739329   \n",
              "73                0.406105                   1.700096   \n",
              "74                1.148209                   2.001985   \n",
              "75                0.860751                   2.629514   \n",
              "\n",
              "    Howe Robinson Container Index  Howe Robinson Container Index_8_  \\\n",
              "0                       -0.644064                               NaN   \n",
              "1                       -0.645288                               NaN   \n",
              "2                       -0.644523                               NaN   \n",
              "3                       -0.648195                               NaN   \n",
              "4                       -0.645747                               NaN   \n",
              "..                            ...                               ...   \n",
              "71                       1.839908                          0.215543   \n",
              "72                       1.983558                          0.394838   \n",
              "73                       2.294724                          0.652644   \n",
              "74                       2.612162                          1.135170   \n",
              "75                       2.556884                          1.687843   \n",
              "\n",
              "    Shanghai Containerized Freight Index (SCFI)  ...  \\\n",
              "0                                     -0.195705  ...   \n",
              "1                                     -0.182527  ...   \n",
              "2                                     -0.362815  ...   \n",
              "3                                     -0.472294  ...   \n",
              "4                                     -0.487834  ...   \n",
              "..                                          ...  ...   \n",
              "71                                     1.084157  ...   \n",
              "72                                     1.463396  ...   \n",
              "73                                     1.435042  ...   \n",
              "74                                     1.241856  ...   \n",
              "75                                     1.425830  ...   \n",
              "\n",
              "    Allkem Limited (AKE.AX)_price_Open  Allkem Limited (AKE.AX)_price_Open_8_  \\\n",
              "0                            -0.915916                                    NaN   \n",
              "1                            -0.910118                                    NaN   \n",
              "2                            -0.833402                                    NaN   \n",
              "3                            -0.691659                                    NaN   \n",
              "4                            -0.497700                                    NaN   \n",
              "..                                 ...                                    ...   \n",
              "71                            1.185124                               0.173441   \n",
              "72                            1.610945                               0.343123   \n",
              "73                            1.168835                               0.295629   \n",
              "74                            1.471655                               0.519217   \n",
              "75                            2.259286                               1.083831   \n",
              "\n",
              "    Allkem Limited (AKE.AX)_price_High  Allkem Limited (AKE.AX)_price_High_8_  \\\n",
              "0                            -0.911882                                    NaN   \n",
              "1                            -0.915569                                    NaN   \n",
              "2                            -0.834459                                    NaN   \n",
              "3                            -0.695181                                    NaN   \n",
              "4                            -0.494779                                    NaN   \n",
              "..                                 ...                                    ...   \n",
              "71                            1.187299                               0.191123   \n",
              "72                            1.608097                               0.341999   \n",
              "73                            1.174279                               0.292393   \n",
              "74                            1.468981                               0.524612   \n",
              "75                            2.271036                               1.090253   \n",
              "\n",
              "    Allkem Limited (AKE.AX)_price_Low  Allkem Limited (AKE.AX)_price_Low_8_  \\\n",
              "0                           -0.921663                                   NaN   \n",
              "1                           -0.908508                                   NaN   \n",
              "2                           -0.834589                                   NaN   \n",
              "3                           -0.693237                                   NaN   \n",
              "4                           -0.496022                                   NaN   \n",
              "..                                ...                                   ...   \n",
              "71                           1.189690                              0.181815   \n",
              "72                           1.585530                              0.337288   \n",
              "73                           1.163390                              0.301950   \n",
              "74                           1.476677                              0.536282   \n",
              "75                           2.255625                              1.075285   \n",
              "\n",
              "    Allkem Limited (AKE.AX)_price_Close  \\\n",
              "0                             -0.909069   \n",
              "1                             -0.916207   \n",
              "2                             -0.834453   \n",
              "3                             -0.700107   \n",
              "4                             -0.493870   \n",
              "..                                  ...   \n",
              "71                             1.197156   \n",
              "72                             1.586450   \n",
              "73                             1.167415   \n",
              "74                             1.477051   \n",
              "75                             2.261700   \n",
              "\n",
              "    Allkem Limited (AKE.AX)_price_Close_8_  \\\n",
              "0                                      NaN   \n",
              "1                                      NaN   \n",
              "2                                      NaN   \n",
              "3                                      NaN   \n",
              "4                                      NaN   \n",
              "..                                     ...   \n",
              "71                                0.198840   \n",
              "72                                0.341566   \n",
              "73                                0.293123   \n",
              "74                                0.534588   \n",
              "75                                1.087407   \n",
              "\n",
              "    Allkem Limited (AKE.AX)_price_Adj Close  \\\n",
              "0                                 -0.909069   \n",
              "1                                 -0.916207   \n",
              "2                                 -0.834453   \n",
              "3                                 -0.700107   \n",
              "4                                 -0.493870   \n",
              "..                                      ...   \n",
              "71                                 1.197156   \n",
              "72                                 1.586450   \n",
              "73                                 1.167415   \n",
              "74                                 1.477051   \n",
              "75                                 2.261700   \n",
              "\n",
              "    Allkem Limited (AKE.AX)_price_Adj Close_8_  \n",
              "0                                          NaN  \n",
              "1                                          NaN  \n",
              "2                                          NaN  \n",
              "3                                          NaN  \n",
              "4                                          NaN  \n",
              "..                                         ...  \n",
              "71                                    0.198840  \n",
              "72                                    0.341566  \n",
              "73                                    0.293123  \n",
              "74                                    0.534588  \n",
              "75                                    1.087407  \n",
              "\n",
              "[76 rows x 1847 columns]"
            ],
            "text/html": [
              "\n",
              "  <div id=\"df-e248dfce-8ef9-4b33-a694-cda9a772b34a\">\n",
              "    <div class=\"colab-df-container\">\n",
              "      <div>\n",
              "<style scoped>\n",
              "    .dataframe tbody tr th:only-of-type {\n",
              "        vertical-align: middle;\n",
              "    }\n",
              "\n",
              "    .dataframe tbody tr th {\n",
              "        vertical-align: top;\n",
              "    }\n",
              "\n",
              "    .dataframe thead th {\n",
              "        text-align: right;\n",
              "    }\n",
              "</style>\n",
              "<table border=\"1\" class=\"dataframe\">\n",
              "  <thead>\n",
              "    <tr style=\"text-align: right;\">\n",
              "      <th></th>\n",
              "      <th>date</th>\n",
              "      <th>y</th>\n",
              "      <th>y_8_</th>\n",
              "      <th>y2</th>\n",
              "      <th>y2_8_</th>\n",
              "      <th>Baltic Dry Index (BDI)</th>\n",
              "      <th>Baltic Dry Index (BDI)_8_</th>\n",
              "      <th>Howe Robinson Container Index</th>\n",
              "      <th>Howe Robinson Container Index_8_</th>\n",
              "      <th>Shanghai Containerized Freight Index (SCFI)</th>\n",
              "      <th>...</th>\n",
              "      <th>Allkem Limited (AKE.AX)_price_Open</th>\n",
              "      <th>Allkem Limited (AKE.AX)_price_Open_8_</th>\n",
              "      <th>Allkem Limited (AKE.AX)_price_High</th>\n",
              "      <th>Allkem Limited (AKE.AX)_price_High_8_</th>\n",
              "      <th>Allkem Limited (AKE.AX)_price_Low</th>\n",
              "      <th>Allkem Limited (AKE.AX)_price_Low_8_</th>\n",
              "      <th>Allkem Limited (AKE.AX)_price_Close</th>\n",
              "      <th>Allkem Limited (AKE.AX)_price_Close_8_</th>\n",
              "      <th>Allkem Limited (AKE.AX)_price_Adj Close</th>\n",
              "      <th>Allkem Limited (AKE.AX)_price_Adj Close_8_</th>\n",
              "    </tr>\n",
              "  </thead>\n",
              "  <tbody>\n",
              "    <tr>\n",
              "      <th>0</th>\n",
              "      <td>2016-01-31</td>\n",
              "      <td>20.177268</td>\n",
              "      <td>NaN</td>\n",
              "      <td>-0.237734</td>\n",
              "      <td>NaN</td>\n",
              "      <td>-1.302468</td>\n",
              "      <td>NaN</td>\n",
              "      <td>-0.644064</td>\n",
              "      <td>NaN</td>\n",
              "      <td>-0.195705</td>\n",
              "      <td>...</td>\n",
              "      <td>-0.915916</td>\n",
              "      <td>NaN</td>\n",
              "      <td>-0.911882</td>\n",
              "      <td>NaN</td>\n",
              "      <td>-0.921663</td>\n",
              "      <td>NaN</td>\n",
              "      <td>-0.909069</td>\n",
              "      <td>NaN</td>\n",
              "      <td>-0.909069</td>\n",
              "      <td>NaN</td>\n",
              "    </tr>\n",
              "    <tr>\n",
              "      <th>1</th>\n",
              "      <td>2016-02-29</td>\n",
              "      <td>23.306868</td>\n",
              "      <td>NaN</td>\n",
              "      <td>-0.054803</td>\n",
              "      <td>NaN</td>\n",
              "      <td>-1.396112</td>\n",
              "      <td>NaN</td>\n",
              "      <td>-0.645288</td>\n",
              "      <td>NaN</td>\n",
              "      <td>-0.182527</td>\n",
              "      <td>...</td>\n",
              "      <td>-0.910118</td>\n",
              "      <td>NaN</td>\n",
              "      <td>-0.915569</td>\n",
              "      <td>NaN</td>\n",
              "      <td>-0.908508</td>\n",
              "      <td>NaN</td>\n",
              "      <td>-0.916207</td>\n",
              "      <td>NaN</td>\n",
              "      <td>-0.916207</td>\n",
              "      <td>NaN</td>\n",
              "    </tr>\n",
              "    <tr>\n",
              "      <th>2</th>\n",
              "      <td>2016-03-31</td>\n",
              "      <td>25.223010</td>\n",
              "      <td>NaN</td>\n",
              "      <td>0.133909</td>\n",
              "      <td>NaN</td>\n",
              "      <td>-1.305967</td>\n",
              "      <td>NaN</td>\n",
              "      <td>-0.644523</td>\n",
              "      <td>NaN</td>\n",
              "      <td>-0.362815</td>\n",
              "      <td>...</td>\n",
              "      <td>-0.833402</td>\n",
              "      <td>NaN</td>\n",
              "      <td>-0.834459</td>\n",
              "      <td>NaN</td>\n",
              "      <td>-0.834589</td>\n",
              "      <td>NaN</td>\n",
              "      <td>-0.834453</td>\n",
              "      <td>NaN</td>\n",
              "      <td>-0.834453</td>\n",
              "      <td>NaN</td>\n",
              "    </tr>\n",
              "    <tr>\n",
              "      <th>3</th>\n",
              "      <td>2016-04-30</td>\n",
              "      <td>25.308243</td>\n",
              "      <td>NaN</td>\n",
              "      <td>0.173425</td>\n",
              "      <td>NaN</td>\n",
              "      <td>-1.041598</td>\n",
              "      <td>NaN</td>\n",
              "      <td>-0.648195</td>\n",
              "      <td>NaN</td>\n",
              "      <td>-0.472294</td>\n",
              "      <td>...</td>\n",
              "      <td>-0.691659</td>\n",
              "      <td>NaN</td>\n",
              "      <td>-0.695181</td>\n",
              "      <td>NaN</td>\n",
              "      <td>-0.693237</td>\n",
              "      <td>NaN</td>\n",
              "      <td>-0.700107</td>\n",
              "      <td>NaN</td>\n",
              "      <td>-0.700107</td>\n",
              "      <td>NaN</td>\n",
              "    </tr>\n",
              "    <tr>\n",
              "      <th>4</th>\n",
              "      <td>2016-05-31</td>\n",
              "      <td>24.875099</td>\n",
              "      <td>NaN</td>\n",
              "      <td>0.107095</td>\n",
              "      <td>NaN</td>\n",
              "      <td>-1.026945</td>\n",
              "      <td>NaN</td>\n",
              "      <td>-0.645747</td>\n",
              "      <td>NaN</td>\n",
              "      <td>-0.487834</td>\n",
              "      <td>...</td>\n",
              "      <td>-0.497700</td>\n",
              "      <td>NaN</td>\n",
              "      <td>-0.494779</td>\n",
              "      <td>NaN</td>\n",
              "      <td>-0.496022</td>\n",
              "      <td>NaN</td>\n",
              "      <td>-0.493870</td>\n",
              "      <td>NaN</td>\n",
              "      <td>-0.493870</td>\n",
              "      <td>NaN</td>\n",
              "    </tr>\n",
              "    <tr>\n",
              "      <th>...</th>\n",
              "      <td>...</td>\n",
              "      <td>...</td>\n",
              "      <td>...</td>\n",
              "      <td>...</td>\n",
              "      <td>...</td>\n",
              "      <td>...</td>\n",
              "      <td>...</td>\n",
              "      <td>...</td>\n",
              "      <td>...</td>\n",
              "      <td>...</td>\n",
              "      <td>...</td>\n",
              "      <td>...</td>\n",
              "      <td>...</td>\n",
              "      <td>...</td>\n",
              "      <td>...</td>\n",
              "      <td>...</td>\n",
              "      <td>...</td>\n",
              "      <td>...</td>\n",
              "      <td>...</td>\n",
              "      <td>...</td>\n",
              "      <td>...</td>\n",
              "    </tr>\n",
              "    <tr>\n",
              "      <th>71</th>\n",
              "      <td>2021-12-31</td>\n",
              "      <td>33.043478</td>\n",
              "      <td>11.326087</td>\n",
              "      <td>0.286579</td>\n",
              "      <td>-0.652782</td>\n",
              "      <td>1.582281</td>\n",
              "      <td>1.161139</td>\n",
              "      <td>1.839908</td>\n",
              "      <td>0.215543</td>\n",
              "      <td>1.084157</td>\n",
              "      <td>...</td>\n",
              "      <td>1.185124</td>\n",
              "      <td>0.173441</td>\n",
              "      <td>1.187299</td>\n",
              "      <td>0.191123</td>\n",
              "      <td>1.189690</td>\n",
              "      <td>0.181815</td>\n",
              "      <td>1.197156</td>\n",
              "      <td>0.198840</td>\n",
              "      <td>1.197156</td>\n",
              "      <td>0.198840</td>\n",
              "    </tr>\n",
              "    <tr>\n",
              "      <th>72</th>\n",
              "      <td>2022-01-31</td>\n",
              "      <td>43.260870</td>\n",
              "      <td>12.727273</td>\n",
              "      <td>0.631414</td>\n",
              "      <td>-0.602008</td>\n",
              "      <td>0.318707</td>\n",
              "      <td>1.739329</td>\n",
              "      <td>1.983558</td>\n",
              "      <td>0.394838</td>\n",
              "      <td>1.463396</td>\n",
              "      <td>...</td>\n",
              "      <td>1.610945</td>\n",
              "      <td>0.343123</td>\n",
              "      <td>1.608097</td>\n",
              "      <td>0.341999</td>\n",
              "      <td>1.585530</td>\n",
              "      <td>0.337288</td>\n",
              "      <td>1.586450</td>\n",
              "      <td>0.341566</td>\n",
              "      <td>1.586450</td>\n",
              "      <td>0.341566</td>\n",
              "    </tr>\n",
              "    <tr>\n",
              "      <th>73</th>\n",
              "      <td>2022-02-28</td>\n",
              "      <td>56.425000</td>\n",
              "      <td>13.340909</td>\n",
              "      <td>1.270279</td>\n",
              "      <td>-0.544854</td>\n",
              "      <td>0.406105</td>\n",
              "      <td>1.700096</td>\n",
              "      <td>2.294724</td>\n",
              "      <td>0.652644</td>\n",
              "      <td>1.435042</td>\n",
              "      <td>...</td>\n",
              "      <td>1.168835</td>\n",
              "      <td>0.295629</td>\n",
              "      <td>1.174279</td>\n",
              "      <td>0.292393</td>\n",
              "      <td>1.163390</td>\n",
              "      <td>0.301950</td>\n",
              "      <td>1.167415</td>\n",
              "      <td>0.293123</td>\n",
              "      <td>1.167415</td>\n",
              "      <td>0.293123</td>\n",
              "    </tr>\n",
              "    <tr>\n",
              "      <th>74</th>\n",
              "      <td>2022-03-31</td>\n",
              "      <td>71.086957</td>\n",
              "      <td>14.045455</td>\n",
              "      <td>2.126927</td>\n",
              "      <td>-0.489898</td>\n",
              "      <td>1.148209</td>\n",
              "      <td>2.001985</td>\n",
              "      <td>2.612162</td>\n",
              "      <td>1.135170</td>\n",
              "      <td>1.241856</td>\n",
              "      <td>...</td>\n",
              "      <td>1.471655</td>\n",
              "      <td>0.519217</td>\n",
              "      <td>1.468981</td>\n",
              "      <td>0.524612</td>\n",
              "      <td>1.476677</td>\n",
              "      <td>0.536282</td>\n",
              "      <td>1.477051</td>\n",
              "      <td>0.534588</td>\n",
              "      <td>1.477051</td>\n",
              "      <td>0.534588</td>\n",
              "    </tr>\n",
              "    <tr>\n",
              "      <th>75</th>\n",
              "      <td>2022-04-30</td>\n",
              "      <td>75.804348</td>\n",
              "      <td>14.590909</td>\n",
              "      <td>2.687810</td>\n",
              "      <td>-0.464069</td>\n",
              "      <td>0.860751</td>\n",
              "      <td>2.629514</td>\n",
              "      <td>2.556884</td>\n",
              "      <td>1.687843</td>\n",
              "      <td>1.425830</td>\n",
              "      <td>...</td>\n",
              "      <td>2.259286</td>\n",
              "      <td>1.083831</td>\n",
              "      <td>2.271036</td>\n",
              "      <td>1.090253</td>\n",
              "      <td>2.255625</td>\n",
              "      <td>1.075285</td>\n",
              "      <td>2.261700</td>\n",
              "      <td>1.087407</td>\n",
              "      <td>2.261700</td>\n",
              "      <td>1.087407</td>\n",
              "    </tr>\n",
              "  </tbody>\n",
              "</table>\n",
              "<p>76 rows × 1847 columns</p>\n",
              "</div>\n",
              "      <button class=\"colab-df-convert\" onclick=\"convertToInteractive('df-e248dfce-8ef9-4b33-a694-cda9a772b34a')\"\n",
              "              title=\"Convert this dataframe to an interactive table.\"\n",
              "              style=\"display:none;\">\n",
              "        \n",
              "  <svg xmlns=\"http://www.w3.org/2000/svg\" height=\"24px\"viewBox=\"0 0 24 24\"\n",
              "       width=\"24px\">\n",
              "    <path d=\"M0 0h24v24H0V0z\" fill=\"none\"/>\n",
              "    <path d=\"M18.56 5.44l.94 2.06.94-2.06 2.06-.94-2.06-.94-.94-2.06-.94 2.06-2.06.94zm-11 1L8.5 8.5l.94-2.06 2.06-.94-2.06-.94L8.5 2.5l-.94 2.06-2.06.94zm10 10l.94 2.06.94-2.06 2.06-.94-2.06-.94-.94-2.06-.94 2.06-2.06.94z\"/><path d=\"M17.41 7.96l-1.37-1.37c-.4-.4-.92-.59-1.43-.59-.52 0-1.04.2-1.43.59L10.3 9.45l-7.72 7.72c-.78.78-.78 2.05 0 2.83L4 21.41c.39.39.9.59 1.41.59.51 0 1.02-.2 1.41-.59l7.78-7.78 2.81-2.81c.8-.78.8-2.07 0-2.86zM5.41 20L4 18.59l7.72-7.72 1.47 1.35L5.41 20z\"/>\n",
              "  </svg>\n",
              "      </button>\n",
              "      \n",
              "  <style>\n",
              "    .colab-df-container {\n",
              "      display:flex;\n",
              "      flex-wrap:wrap;\n",
              "      gap: 12px;\n",
              "    }\n",
              "\n",
              "    .colab-df-convert {\n",
              "      background-color: #E8F0FE;\n",
              "      border: none;\n",
              "      border-radius: 50%;\n",
              "      cursor: pointer;\n",
              "      display: none;\n",
              "      fill: #1967D2;\n",
              "      height: 32px;\n",
              "      padding: 0 0 0 0;\n",
              "      width: 32px;\n",
              "    }\n",
              "\n",
              "    .colab-df-convert:hover {\n",
              "      background-color: #E2EBFA;\n",
              "      box-shadow: 0px 1px 2px rgba(60, 64, 67, 0.3), 0px 1px 3px 1px rgba(60, 64, 67, 0.15);\n",
              "      fill: #174EA6;\n",
              "    }\n",
              "\n",
              "    [theme=dark] .colab-df-convert {\n",
              "      background-color: #3B4455;\n",
              "      fill: #D2E3FC;\n",
              "    }\n",
              "\n",
              "    [theme=dark] .colab-df-convert:hover {\n",
              "      background-color: #434B5C;\n",
              "      box-shadow: 0px 1px 3px 1px rgba(0, 0, 0, 0.15);\n",
              "      filter: drop-shadow(0px 1px 2px rgba(0, 0, 0, 0.3));\n",
              "      fill: #FFFFFF;\n",
              "    }\n",
              "  </style>\n",
              "\n",
              "      <script>\n",
              "        const buttonEl =\n",
              "          document.querySelector('#df-e248dfce-8ef9-4b33-a694-cda9a772b34a button.colab-df-convert');\n",
              "        buttonEl.style.display =\n",
              "          google.colab.kernel.accessAllowed ? 'block' : 'none';\n",
              "\n",
              "        async function convertToInteractive(key) {\n",
              "          const element = document.querySelector('#df-e248dfce-8ef9-4b33-a694-cda9a772b34a');\n",
              "          const dataTable =\n",
              "            await google.colab.kernel.invokeFunction('convertToInteractive',\n",
              "                                                     [key], {});\n",
              "          if (!dataTable) return;\n",
              "\n",
              "          const docLinkHtml = 'Like what you see? Visit the ' +\n",
              "            '<a target=\"_blank\" href=https://colab.research.google.com/notebooks/data_table.ipynb>data table notebook</a>'\n",
              "            + ' to learn more about interactive tables.';\n",
              "          element.innerHTML = '';\n",
              "          dataTable['output_type'] = 'display_data';\n",
              "          await google.colab.output.renderOutput(dataTable, element);\n",
              "          const docLink = document.createElement('div');\n",
              "          docLink.innerHTML = docLinkHtml;\n",
              "          element.appendChild(docLink);\n",
              "        }\n",
              "      </script>\n",
              "    </div>\n",
              "  </div>\n",
              "  "
            ]
          },
          "metadata": {},
          "execution_count": 12
        }
      ],
      "source": [
        "raw_y_set_shifted_merged"
      ]
    },
    {
      "cell_type": "markdown",
      "id": "4889fa8d-cdb7-4a0c-a705-894d1746bdb7",
      "metadata": {
        "id": "4889fa8d-cdb7-4a0c-a705-894d1746bdb7"
      },
      "source": [
        "#### 해당 기간에서의 lag corr best"
      ]
    },
    {
      "cell_type": "code",
      "execution_count": 13,
      "id": "637d45e9-c3d2-4965-af8f-5553849d1f41",
      "metadata": {
        "tags": [],
        "id": "637d45e9-c3d2-4965-af8f-5553849d1f41",
        "outputId": "485ae1d4-80b2-4836-d768-90bfa720fd85",
        "colab": {
          "base_uri": "https://localhost:8080/"
        }
      },
      "outputs": [
        {
          "output_type": "execute_result",
          "data": {
            "text/plain": [
              "['Howe Robinson Container Index', 'mn_mb_kg', 'CCI_SWE']"
            ]
          },
          "metadata": {},
          "execution_count": 13
        }
      ],
      "source": [
        "raw_y_set_shifted_merged_corr = raw_y_set_shifted_merged.corr()\n",
        "raw_y_set_shifted_merged_filtered = raw_y_set_shifted_merged_corr[raw_y_set_resampled.columns.drop('date')]\n",
        "# raw_y_set_shifted_merged_filtered = raw_y_set_shifted_merged_filtered.loc[raw_y_set_shifted_merged_filtered.index != 'y']\n",
        "# raw_y_set_shifted_merged_filtered = raw_y_set_shifted_merged_filtered.loc[raw_y_set_shifted_merged_filtered.index != 'y2']\n",
        "raw_y_set_shifted_merged_filtered_y = raw_y_set_shifted_merged_filtered.iloc[:,:1]\n",
        "raw_y_set_shifted_merged_filtered_y['y'] = abs(raw_y_set_shifted_merged_filtered_y['y'])\n",
        "raw_y_set_shifted_merged_filtered_upto_corr_rate = raw_y_set_shifted_merged_filtered_y[raw_y_set_shifted_merged_filtered_y.y >= corr_rate]\n",
        "raw_y_set_shifted_merged_filtered_upto_corr_rate = raw_y_set_shifted_merged_filtered_upto_corr_rate.sort_values('y',ascending=False)\n",
        "raw_y_set_shifted_merged_filtered_upto_corr_rate = raw_y_set_shifted_merged_filtered_upto_corr_rate[raw_y_set_shifted_merged_filtered_upto_corr_rate.index.str.contains(f'_{test_period}_')]\n",
        "raw_y_set_shifted_merged_filtered_upto_corr_rate = raw_y_set_shifted_merged_filtered_upto_corr_rate[:future_variable_limit]\n",
        "\n",
        "futr_list = raw_y_set_shifted_merged_filtered_upto_corr_rate.index.values.tolist()\n",
        "futr_list = [word.replace(f\"_{test_period}_\", \"\") for word in futr_list]\n",
        "\n",
        "# if 'li2co395_am_kg' in futr_list:\n",
        "#     futr_list = [w.replace('li2co395_am_kg', 'li2co3_995_am_kg') for w in futr_list]\n",
        "# raw_y_set_shifted_merged_filtered_upto_corr_rate = raw_y_set_shifted_merged_filtered_upto_corr_rate.sort_values('y',ascending=False)\n",
        "\n",
        "# if 'y2' in futr_list:\n",
        "#     (futr_list).remove('y2')\n",
        "# if 'li2co395_am_kg' in futr_list:\n",
        "#     (futr_list).remove('li2co395_am_kg')\n",
        "# if 'li2co3_995_am_kg' in futr_list:\n",
        "#     (futr_list).remove('li2co3_995_am_kg')\n",
        "# if 'mn_mb_kg' in futr_list:\n",
        "#     (futr_list).remove('mn_mb_kg')\n",
        "# if 'al_lme_kg' in futr_list:\n",
        "#     (futr_list).remove('al_lme_kg')\n",
        "\n",
        "futr_list"
      ]
    },
    {
      "cell_type": "markdown",
      "id": "7e7e2423-991f-4d6b-882c-50617a2a65e1",
      "metadata": {
        "id": "7e7e2423-991f-4d6b-882c-50617a2a65e1"
      },
      "source": [
        "#### 해당 기간에서의 corr best"
      ]
    },
    {
      "cell_type": "code",
      "execution_count": 14,
      "id": "df77e790-0ad9-4403-abdd-53ebc8ad6996",
      "metadata": {
        "tags": [],
        "id": "df77e790-0ad9-4403-abdd-53ebc8ad6996",
        "outputId": "15f71f0f-2d35-41f8-c852-28db407394ae",
        "colab": {
          "base_uri": "https://localhost:8080/"
        }
      },
      "outputs": [
        {
          "output_type": "execute_result",
          "data": {
            "text/plain": [
              "3"
            ]
          },
          "metadata": {},
          "execution_count": 14
        }
      ],
      "source": [
        "hist_variable_limit"
      ]
    },
    {
      "cell_type": "code",
      "execution_count": 15,
      "id": "e40279d3-f9f2-410e-88ac-452b91a2f75c",
      "metadata": {
        "tags": [],
        "id": "e40279d3-f9f2-410e-88ac-452b91a2f75c",
        "outputId": "2f66e632-69ce-4000-8870-7a4a43ad1f45",
        "colab": {
          "base_uri": "https://localhost:8080/"
        }
      },
      "outputs": [
        {
          "output_type": "execute_result",
          "data": {
            "text/plain": [
              "['CPI_PRT_TOT_FOODENRG_AGRWTH', '대두 [미국(생산자 가격)] 현물', 'CPI_BEL_TOT_AGRWTH']"
            ]
          },
          "metadata": {},
          "execution_count": 15
        }
      ],
      "source": [
        "hist_var_chcek = raw_y_set_resampled.iloc[:,1:]\n",
        "\n",
        "hist_var_corr = hist_var_chcek.corr()\n",
        "hist_var_corr_filtered = hist_var_corr.loc[hist_var_corr.index != 'y']\n",
        "hist_var_corr_filtered = hist_var_corr_filtered.loc[hist_var_corr_filtered.index != 'y2']\n",
        "hist_var_corr_filtered_y = hist_var_corr_filtered.iloc[:,:1]\n",
        "hist_var_corr_filtered_y['y'] = abs(hist_var_corr_filtered_y['y'])\n",
        "hist_var_corr_filtered_y_corr_rate = hist_var_corr_filtered_y[hist_var_corr_filtered_y.y >= hist_corr_rate]\n",
        "hist_var_corr_filtered_y_only = hist_var_corr_filtered_y_corr_rate[hist_var_corr_filtered_y_corr_rate.index.str.contains('li2co3')==False]\n",
        "hist_var_corr_filtered_y_only = hist_var_corr_filtered_y_only[hist_var_corr_filtered_y_only.index.str.contains('lioh')==False]\n",
        "hist_var_corr_filtered_y_only = hist_var_corr_filtered_y_only.sort_values('y',ascending=False)\n",
        "hist_var_list = hist_var_corr_filtered_y_only.index.values.tolist()\n",
        "\n",
        "hist_list = hist_var_list[:hist_variable_limit]\n",
        "hist_list"
      ]
    },
    {
      "cell_type": "code",
      "execution_count": 16,
      "id": "22c2422e-32ee-42b3-abb8-c7fde1f56a45",
      "metadata": {
        "tags": [],
        "id": "22c2422e-32ee-42b3-abb8-c7fde1f56a45",
        "outputId": "59ee1a3d-3496-4ceb-9575-3977d458dbfa",
        "colab": {
          "base_uri": "https://localhost:8080/",
          "height": 423
        }
      },
      "outputs": [
        {
          "output_type": "execute_result",
          "data": {
            "text/plain": [
              "                                                 y\n",
              "CPI_PRT_TOT_FOODENRG_AGRWTH               0.924210\n",
              "대두 [미국(생산자 가격)] 현물                        0.916158\n",
              "CPI_BEL_TOT_AGRWTH                        0.910310\n",
              "중국 니켈 SEMIS 수입량                           0.906632\n",
              "CPI_PRT_TOT_AGRWTH                        0.905268\n",
              "...                                            ...\n",
              "Orocobre Limited (OROCF)_price_Low        0.702706\n",
              "Orocobre Limited (OROCF)_price_High       0.701612\n",
              "Orocobre Limited (OROCF)_price_Close      0.701389\n",
              "Orocobre Limited (OROCF)_price_Adj Close  0.701389\n",
              "CPI_GRC_FOOD_IDX2015                      0.700761\n",
              "\n",
              "[116 rows x 1 columns]"
            ],
            "text/html": [
              "\n",
              "  <div id=\"df-d8e57e6b-6f02-468f-b2e8-4bdbab3b077c\">\n",
              "    <div class=\"colab-df-container\">\n",
              "      <div>\n",
              "<style scoped>\n",
              "    .dataframe tbody tr th:only-of-type {\n",
              "        vertical-align: middle;\n",
              "    }\n",
              "\n",
              "    .dataframe tbody tr th {\n",
              "        vertical-align: top;\n",
              "    }\n",
              "\n",
              "    .dataframe thead th {\n",
              "        text-align: right;\n",
              "    }\n",
              "</style>\n",
              "<table border=\"1\" class=\"dataframe\">\n",
              "  <thead>\n",
              "    <tr style=\"text-align: right;\">\n",
              "      <th></th>\n",
              "      <th>y</th>\n",
              "    </tr>\n",
              "  </thead>\n",
              "  <tbody>\n",
              "    <tr>\n",
              "      <th>CPI_PRT_TOT_FOODENRG_AGRWTH</th>\n",
              "      <td>0.924210</td>\n",
              "    </tr>\n",
              "    <tr>\n",
              "      <th>대두 [미국(생산자 가격)] 현물</th>\n",
              "      <td>0.916158</td>\n",
              "    </tr>\n",
              "    <tr>\n",
              "      <th>CPI_BEL_TOT_AGRWTH</th>\n",
              "      <td>0.910310</td>\n",
              "    </tr>\n",
              "    <tr>\n",
              "      <th>중국 니켈 SEMIS 수입량</th>\n",
              "      <td>0.906632</td>\n",
              "    </tr>\n",
              "    <tr>\n",
              "      <th>CPI_PRT_TOT_AGRWTH</th>\n",
              "      <td>0.905268</td>\n",
              "    </tr>\n",
              "    <tr>\n",
              "      <th>...</th>\n",
              "      <td>...</td>\n",
              "    </tr>\n",
              "    <tr>\n",
              "      <th>Orocobre Limited (OROCF)_price_Low</th>\n",
              "      <td>0.702706</td>\n",
              "    </tr>\n",
              "    <tr>\n",
              "      <th>Orocobre Limited (OROCF)_price_High</th>\n",
              "      <td>0.701612</td>\n",
              "    </tr>\n",
              "    <tr>\n",
              "      <th>Orocobre Limited (OROCF)_price_Close</th>\n",
              "      <td>0.701389</td>\n",
              "    </tr>\n",
              "    <tr>\n",
              "      <th>Orocobre Limited (OROCF)_price_Adj Close</th>\n",
              "      <td>0.701389</td>\n",
              "    </tr>\n",
              "    <tr>\n",
              "      <th>CPI_GRC_FOOD_IDX2015</th>\n",
              "      <td>0.700761</td>\n",
              "    </tr>\n",
              "  </tbody>\n",
              "</table>\n",
              "<p>116 rows × 1 columns</p>\n",
              "</div>\n",
              "      <button class=\"colab-df-convert\" onclick=\"convertToInteractive('df-d8e57e6b-6f02-468f-b2e8-4bdbab3b077c')\"\n",
              "              title=\"Convert this dataframe to an interactive table.\"\n",
              "              style=\"display:none;\">\n",
              "        \n",
              "  <svg xmlns=\"http://www.w3.org/2000/svg\" height=\"24px\"viewBox=\"0 0 24 24\"\n",
              "       width=\"24px\">\n",
              "    <path d=\"M0 0h24v24H0V0z\" fill=\"none\"/>\n",
              "    <path d=\"M18.56 5.44l.94 2.06.94-2.06 2.06-.94-2.06-.94-.94-2.06-.94 2.06-2.06.94zm-11 1L8.5 8.5l.94-2.06 2.06-.94-2.06-.94L8.5 2.5l-.94 2.06-2.06.94zm10 10l.94 2.06.94-2.06 2.06-.94-2.06-.94-.94-2.06-.94 2.06-2.06.94z\"/><path d=\"M17.41 7.96l-1.37-1.37c-.4-.4-.92-.59-1.43-.59-.52 0-1.04.2-1.43.59L10.3 9.45l-7.72 7.72c-.78.78-.78 2.05 0 2.83L4 21.41c.39.39.9.59 1.41.59.51 0 1.02-.2 1.41-.59l7.78-7.78 2.81-2.81c.8-.78.8-2.07 0-2.86zM5.41 20L4 18.59l7.72-7.72 1.47 1.35L5.41 20z\"/>\n",
              "  </svg>\n",
              "      </button>\n",
              "      \n",
              "  <style>\n",
              "    .colab-df-container {\n",
              "      display:flex;\n",
              "      flex-wrap:wrap;\n",
              "      gap: 12px;\n",
              "    }\n",
              "\n",
              "    .colab-df-convert {\n",
              "      background-color: #E8F0FE;\n",
              "      border: none;\n",
              "      border-radius: 50%;\n",
              "      cursor: pointer;\n",
              "      display: none;\n",
              "      fill: #1967D2;\n",
              "      height: 32px;\n",
              "      padding: 0 0 0 0;\n",
              "      width: 32px;\n",
              "    }\n",
              "\n",
              "    .colab-df-convert:hover {\n",
              "      background-color: #E2EBFA;\n",
              "      box-shadow: 0px 1px 2px rgba(60, 64, 67, 0.3), 0px 1px 3px 1px rgba(60, 64, 67, 0.15);\n",
              "      fill: #174EA6;\n",
              "    }\n",
              "\n",
              "    [theme=dark] .colab-df-convert {\n",
              "      background-color: #3B4455;\n",
              "      fill: #D2E3FC;\n",
              "    }\n",
              "\n",
              "    [theme=dark] .colab-df-convert:hover {\n",
              "      background-color: #434B5C;\n",
              "      box-shadow: 0px 1px 3px 1px rgba(0, 0, 0, 0.15);\n",
              "      filter: drop-shadow(0px 1px 2px rgba(0, 0, 0, 0.3));\n",
              "      fill: #FFFFFF;\n",
              "    }\n",
              "  </style>\n",
              "\n",
              "      <script>\n",
              "        const buttonEl =\n",
              "          document.querySelector('#df-d8e57e6b-6f02-468f-b2e8-4bdbab3b077c button.colab-df-convert');\n",
              "        buttonEl.style.display =\n",
              "          google.colab.kernel.accessAllowed ? 'block' : 'none';\n",
              "\n",
              "        async function convertToInteractive(key) {\n",
              "          const element = document.querySelector('#df-d8e57e6b-6f02-468f-b2e8-4bdbab3b077c');\n",
              "          const dataTable =\n",
              "            await google.colab.kernel.invokeFunction('convertToInteractive',\n",
              "                                                     [key], {});\n",
              "          if (!dataTable) return;\n",
              "\n",
              "          const docLinkHtml = 'Like what you see? Visit the ' +\n",
              "            '<a target=\"_blank\" href=https://colab.research.google.com/notebooks/data_table.ipynb>data table notebook</a>'\n",
              "            + ' to learn more about interactive tables.';\n",
              "          element.innerHTML = '';\n",
              "          dataTable['output_type'] = 'display_data';\n",
              "          await google.colab.output.renderOutput(dataTable, element);\n",
              "          const docLink = document.createElement('div');\n",
              "          docLink.innerHTML = docLinkHtml;\n",
              "          element.appendChild(docLink);\n",
              "        }\n",
              "      </script>\n",
              "    </div>\n",
              "  </div>\n",
              "  "
            ]
          },
          "metadata": {},
          "execution_count": 16
        }
      ],
      "source": [
        "hist_var_corr_filtered_y_only"
      ]
    },
    {
      "cell_type": "markdown",
      "id": "8a209346-8f24-44ee-ba3b-a08f80614190",
      "metadata": {
        "tags": [],
        "id": "8a209346-8f24-44ee-ba3b-a08f80614190"
      },
      "source": [
        "#### static DF"
      ]
    },
    {
      "cell_type": "code",
      "execution_count": 18,
      "id": "5ce7033a-2234-4bac-9087-91daee3af55a",
      "metadata": {
        "tags": [],
        "id": "5ce7033a-2234-4bac-9087-91daee3af55a"
      },
      "outputs": [],
      "source": [
        "static_df = pd.read_csv('/content/drive/MyDrive/NHITS/data/static_df.csv')"
      ]
    },
    {
      "cell_type": "markdown",
      "id": "d7fba8f2-a5ab-484b-b1ad-bda6ea55f7af",
      "metadata": {
        "id": "d7fba8f2-a5ab-484b-b1ad-bda6ea55f7af"
      },
      "source": [
        "## <Training & Test>"
      ]
    },
    {
      "cell_type": "markdown",
      "id": "2135deb5-4427-45d2-b085-d0063d554f54",
      "metadata": {
        "id": "2135deb5-4427-45d2-b085-d0063d554f54"
      },
      "source": [
        "#### 날짜 확인"
      ]
    },
    {
      "cell_type": "code",
      "execution_count": 19,
      "id": "525afb1e-6ec3-4108-9c23-95cc5565c352",
      "metadata": {
        "id": "525afb1e-6ec3-4108-9c23-95cc5565c352"
      },
      "outputs": [],
      "source": [
        "# train = df.loc[df.ds < '2021-06-30']\n",
        "# test = df.loc[df.ds > '2021-06-30']"
      ]
    },
    {
      "cell_type": "markdown",
      "id": "9f95faab-68f4-4566-9494-35d2b646a7d7",
      "metadata": {
        "id": "9f95faab-68f4-4566-9494-35d2b646a7d7"
      },
      "source": [
        "#### 날짜 별 len 확인"
      ]
    },
    {
      "cell_type": "code",
      "execution_count": 20,
      "id": "8548a462-acb8-462e-afcb-94c8c29af9bd",
      "metadata": {
        "tags": [],
        "id": "8548a462-acb8-462e-afcb-94c8c29af9bd"
      },
      "outputs": [],
      "source": [
        "# len(df.loc[df.ds<'2021-06-30'])"
      ]
    },
    {
      "cell_type": "code",
      "execution_count": 21,
      "id": "837791bc-7eab-4e22-9501-5dda050fa80b",
      "metadata": {
        "tags": [],
        "id": "837791bc-7eab-4e22-9501-5dda050fa80b"
      },
      "outputs": [],
      "source": [
        "# len(Y_train_df)\n",
        "# len(Y_test_df)\n",
        "# len(df)"
      ]
    },
    {
      "cell_type": "markdown",
      "id": "5e48e6ed-d091-4f7e-860d-32db64006c26",
      "metadata": {
        "id": "5e48e6ed-d091-4f7e-860d-32db64006c26"
      },
      "source": [
        "Test 용 DF 및 선행 변수 반영"
      ]
    },
    {
      "cell_type": "code",
      "execution_count": 22,
      "id": "e7947178-5017-4afa-99bb-de9843ac3061",
      "metadata": {
        "tags": [],
        "id": "e7947178-5017-4afa-99bb-de9843ac3061"
      },
      "outputs": [],
      "source": [
        "Y_train_df = df[df.ds<=cutoff_date]\n",
        "Y_test_df = df[df.ds>cutoff_date]\n",
        "\n",
        "if len(Y_test_df) > 12:    \n",
        "    Y_test_df = Y_test_df[:12]\n",
        "else:\n",
        "    pass\n",
        "# Y_train_df = df[df.ds<df['ds'].values[len(df.loc[df.ds<=cutoff_date])]]\n",
        "# Y_test_df = df[df.ds>=df['ds'].values[len(df.loc[df.ds<=cutoff_date])]]"
      ]
    },
    {
      "cell_type": "code",
      "execution_count": 23,
      "id": "b6a349e3-e146-47f1-aae9-fd4ca29154e8",
      "metadata": {
        "tags": [],
        "id": "b6a349e3-e146-47f1-aae9-fd4ca29154e8",
        "outputId": "4620aced-cf4b-46ae-fe42-490c13228798",
        "colab": {
          "base_uri": "https://localhost:8080/",
          "height": 300
        }
      },
      "outputs": [
        {
          "output_type": "execute_result",
          "data": {
            "text/plain": [
              "          ds unique_id  Howe Robinson Container Index  mn_mb_kg   CCI_SWE\n",
              "0 2022-05-31         A                       1.991462  1.860639  1.196110\n",
              "1 2022-06-30         A                       1.998856  3.173886  1.011887\n",
              "2 2022-07-31         A                       1.794166  3.457132  0.782611\n",
              "3 2022-08-31         A                       1.839908  3.169070  0.521249\n",
              "4 2022-09-30         A                       1.983558  3.029873  0.135633\n",
              "5 2022-10-31         A                       2.294724  2.900262 -0.295892\n",
              "6 2022-11-30         A                       2.612162  1.549461 -0.841004\n",
              "7 2022-12-31         A                       2.556884  0.363279 -1.225604"
            ],
            "text/html": [
              "\n",
              "  <div id=\"df-c9260b61-5d7e-4f10-81a1-ae12a3db09d8\">\n",
              "    <div class=\"colab-df-container\">\n",
              "      <div>\n",
              "<style scoped>\n",
              "    .dataframe tbody tr th:only-of-type {\n",
              "        vertical-align: middle;\n",
              "    }\n",
              "\n",
              "    .dataframe tbody tr th {\n",
              "        vertical-align: top;\n",
              "    }\n",
              "\n",
              "    .dataframe thead th {\n",
              "        text-align: right;\n",
              "    }\n",
              "</style>\n",
              "<table border=\"1\" class=\"dataframe\">\n",
              "  <thead>\n",
              "    <tr style=\"text-align: right;\">\n",
              "      <th></th>\n",
              "      <th>ds</th>\n",
              "      <th>unique_id</th>\n",
              "      <th>Howe Robinson Container Index</th>\n",
              "      <th>mn_mb_kg</th>\n",
              "      <th>CCI_SWE</th>\n",
              "    </tr>\n",
              "  </thead>\n",
              "  <tbody>\n",
              "    <tr>\n",
              "      <th>0</th>\n",
              "      <td>2022-05-31</td>\n",
              "      <td>A</td>\n",
              "      <td>1.991462</td>\n",
              "      <td>1.860639</td>\n",
              "      <td>1.196110</td>\n",
              "    </tr>\n",
              "    <tr>\n",
              "      <th>1</th>\n",
              "      <td>2022-06-30</td>\n",
              "      <td>A</td>\n",
              "      <td>1.998856</td>\n",
              "      <td>3.173886</td>\n",
              "      <td>1.011887</td>\n",
              "    </tr>\n",
              "    <tr>\n",
              "      <th>2</th>\n",
              "      <td>2022-07-31</td>\n",
              "      <td>A</td>\n",
              "      <td>1.794166</td>\n",
              "      <td>3.457132</td>\n",
              "      <td>0.782611</td>\n",
              "    </tr>\n",
              "    <tr>\n",
              "      <th>3</th>\n",
              "      <td>2022-08-31</td>\n",
              "      <td>A</td>\n",
              "      <td>1.839908</td>\n",
              "      <td>3.169070</td>\n",
              "      <td>0.521249</td>\n",
              "    </tr>\n",
              "    <tr>\n",
              "      <th>4</th>\n",
              "      <td>2022-09-30</td>\n",
              "      <td>A</td>\n",
              "      <td>1.983558</td>\n",
              "      <td>3.029873</td>\n",
              "      <td>0.135633</td>\n",
              "    </tr>\n",
              "    <tr>\n",
              "      <th>5</th>\n",
              "      <td>2022-10-31</td>\n",
              "      <td>A</td>\n",
              "      <td>2.294724</td>\n",
              "      <td>2.900262</td>\n",
              "      <td>-0.295892</td>\n",
              "    </tr>\n",
              "    <tr>\n",
              "      <th>6</th>\n",
              "      <td>2022-11-30</td>\n",
              "      <td>A</td>\n",
              "      <td>2.612162</td>\n",
              "      <td>1.549461</td>\n",
              "      <td>-0.841004</td>\n",
              "    </tr>\n",
              "    <tr>\n",
              "      <th>7</th>\n",
              "      <td>2022-12-31</td>\n",
              "      <td>A</td>\n",
              "      <td>2.556884</td>\n",
              "      <td>0.363279</td>\n",
              "      <td>-1.225604</td>\n",
              "    </tr>\n",
              "  </tbody>\n",
              "</table>\n",
              "</div>\n",
              "      <button class=\"colab-df-convert\" onclick=\"convertToInteractive('df-c9260b61-5d7e-4f10-81a1-ae12a3db09d8')\"\n",
              "              title=\"Convert this dataframe to an interactive table.\"\n",
              "              style=\"display:none;\">\n",
              "        \n",
              "  <svg xmlns=\"http://www.w3.org/2000/svg\" height=\"24px\"viewBox=\"0 0 24 24\"\n",
              "       width=\"24px\">\n",
              "    <path d=\"M0 0h24v24H0V0z\" fill=\"none\"/>\n",
              "    <path d=\"M18.56 5.44l.94 2.06.94-2.06 2.06-.94-2.06-.94-.94-2.06-.94 2.06-2.06.94zm-11 1L8.5 8.5l.94-2.06 2.06-.94-2.06-.94L8.5 2.5l-.94 2.06-2.06.94zm10 10l.94 2.06.94-2.06 2.06-.94-2.06-.94-.94-2.06-.94 2.06-2.06.94z\"/><path d=\"M17.41 7.96l-1.37-1.37c-.4-.4-.92-.59-1.43-.59-.52 0-1.04.2-1.43.59L10.3 9.45l-7.72 7.72c-.78.78-.78 2.05 0 2.83L4 21.41c.39.39.9.59 1.41.59.51 0 1.02-.2 1.41-.59l7.78-7.78 2.81-2.81c.8-.78.8-2.07 0-2.86zM5.41 20L4 18.59l7.72-7.72 1.47 1.35L5.41 20z\"/>\n",
              "  </svg>\n",
              "      </button>\n",
              "      \n",
              "  <style>\n",
              "    .colab-df-container {\n",
              "      display:flex;\n",
              "      flex-wrap:wrap;\n",
              "      gap: 12px;\n",
              "    }\n",
              "\n",
              "    .colab-df-convert {\n",
              "      background-color: #E8F0FE;\n",
              "      border: none;\n",
              "      border-radius: 50%;\n",
              "      cursor: pointer;\n",
              "      display: none;\n",
              "      fill: #1967D2;\n",
              "      height: 32px;\n",
              "      padding: 0 0 0 0;\n",
              "      width: 32px;\n",
              "    }\n",
              "\n",
              "    .colab-df-convert:hover {\n",
              "      background-color: #E2EBFA;\n",
              "      box-shadow: 0px 1px 2px rgba(60, 64, 67, 0.3), 0px 1px 3px 1px rgba(60, 64, 67, 0.15);\n",
              "      fill: #174EA6;\n",
              "    }\n",
              "\n",
              "    [theme=dark] .colab-df-convert {\n",
              "      background-color: #3B4455;\n",
              "      fill: #D2E3FC;\n",
              "    }\n",
              "\n",
              "    [theme=dark] .colab-df-convert:hover {\n",
              "      background-color: #434B5C;\n",
              "      box-shadow: 0px 1px 3px 1px rgba(0, 0, 0, 0.15);\n",
              "      filter: drop-shadow(0px 1px 2px rgba(0, 0, 0, 0.3));\n",
              "      fill: #FFFFFF;\n",
              "    }\n",
              "  </style>\n",
              "\n",
              "      <script>\n",
              "        const buttonEl =\n",
              "          document.querySelector('#df-c9260b61-5d7e-4f10-81a1-ae12a3db09d8 button.colab-df-convert');\n",
              "        buttonEl.style.display =\n",
              "          google.colab.kernel.accessAllowed ? 'block' : 'none';\n",
              "\n",
              "        async function convertToInteractive(key) {\n",
              "          const element = document.querySelector('#df-c9260b61-5d7e-4f10-81a1-ae12a3db09d8');\n",
              "          const dataTable =\n",
              "            await google.colab.kernel.invokeFunction('convertToInteractive',\n",
              "                                                     [key], {});\n",
              "          if (!dataTable) return;\n",
              "\n",
              "          const docLinkHtml = 'Like what you see? Visit the ' +\n",
              "            '<a target=\"_blank\" href=https://colab.research.google.com/notebooks/data_table.ipynb>data table notebook</a>'\n",
              "            + ' to learn more about interactive tables.';\n",
              "          element.innerHTML = '';\n",
              "          dataTable['output_type'] = 'display_data';\n",
              "          await google.colab.output.renderOutput(dataTable, element);\n",
              "          const docLink = document.createElement('div');\n",
              "          docLink.innerHTML = docLinkHtml;\n",
              "          element.appendChild(docLink);\n",
              "        }\n",
              "      </script>\n",
              "    </div>\n",
              "  </div>\n",
              "  "
            ]
          },
          "metadata": {},
          "execution_count": 23
        }
      ],
      "source": [
        "future_date_series = pd.date_range(pd.date_range(cutoff_date,periods=2,freq='M')[1],periods=test_period,freq='M')\n",
        "future_date = pd.DataFrame(future_date_series,columns=['ds'])\n",
        "# future_date['unique_id'] = 'A'\n",
        "future_df_temp = pd.concat([raw_y_set_resampled.rename(columns={'date':'ds'}).iloc[-(test_period+len(Y_test_df)):,:],future_date])\n",
        "future_df_temp[futr_list] = future_df_temp[futr_list].shift(test_period)\n",
        "\n",
        "future_df_with_index = list(['ds','unique_id']) + futr_list\n",
        "future_df_with_index\n",
        "\n",
        "future_df_temp = future_df_temp[future_df_temp.columns[future_df_temp.columns.isin(future_df_with_index)]].reset_index(drop=True)\n",
        "future_df_temp.insert(1, 'unique_id', 'A')\n",
        "futr_df = future_df_temp.iloc[-test_period:,:].reset_index(drop=True)\n",
        "futr_df"
      ]
    },
    {
      "cell_type": "markdown",
      "id": "41b52225-6b2d-4ffb-939e-beab3e28281e",
      "metadata": {
        "id": "41b52225-6b2d-4ffb-939e-beab3e28281e"
      },
      "source": [
        "#### No 변수"
      ]
    },
    {
      "cell_type": "code",
      "execution_count": null,
      "id": "e57c2c7e-3a33-4965-adec-88ef864f2038",
      "metadata": {
        "tags": [],
        "id": "e57c2c7e-3a33-4965-adec-88ef864f2038"
      },
      "outputs": [],
      "source": [
        "# horizon = len(Y_test_df)\n",
        "\n",
        "# models = [\n",
        "#           # NBEATS(input_size=5 * horizon, gpus = 1, h=horizon, max_epochs=100),\n",
        "#           # NBEATSx(h=12, input_size=24,\n",
        "#           #       # loss=DistributionLoss(distribution='Normal', level=[80, 90]),\n",
        "#           #       gpus=1,\n",
        "#           #       scaler_type='robust',\n",
        "#           #       stat_exog_list = None,  \n",
        "#           #       futr_exog_list = futr_list,\n",
        "#           #       max_steps=100,\n",
        "#           #       # val_check_steps=10,\n",
        "#           #       # early_stop_patience_steps=2\n",
        "#           #      ),\n",
        "#           NHITS(input_size=5 * horizon, \n",
        "#                 h=horizon+1,\n",
        "#                 gpus = 1,\n",
        "#                 stat_exog_list = None,\n",
        "#                 hist_exog_list=None,\n",
        "#                 futr_exog_list = None,\n",
        "#                 # futr_exog_list = futr_list,\n",
        "#                 # n_freq_downsample=[24, 12, 1],\n",
        "#                 # mlp_units = [[512, 512], [512, 512], [512, 512]],\n",
        "#                 # n_pool_kernel_size = [2, 2, 1],\n",
        "#                 # n_freq_downsample=[24, 12, 1],\n",
        "#                 scaler_type = 'standard',\n",
        "#                 learning_rate=1e-4,\n",
        "#                 pooling_mode = 'MaxPool1d',\n",
        "#                 activation='ReLU',\n",
        "#                 batch_size=128,\n",
        "#                 random_seed=42,\n",
        "#                 max_epochs=200\n",
        "#                ),\n",
        "#            # NHITS(\n",
        "#            #       h,\n",
        "#            #       input_size,\n",
        "#            #       futr_exog_list=None,\n",
        "#            #       hist_exog_list=None,\n",
        "#            #       stat_exog_list=None,\n",
        "#            #       stack_types: list = ['identity', 'identity', 'identity'],\n",
        "#            #       n_blocks: list = [1, 1, 1],\n",
        "#            #       mlp_units: list = [[512, 512], [512, 512], [512, 512]],\n",
        "#            #       n_pool_kernel_size: list = [2, 2, 1],\n",
        "#            #       n_freq_downsample: list = [4, 2, 1],\n",
        "#            #       pooling_mode: str = 'MaxPool1d',\n",
        "#            #       interpolation_mode: str = 'linear',\n",
        "#            #       dropout_prob_theta=0.0,\n",
        "#            #       activation='ReLU',\n",
        "#            #       loss=MAE(),\n",
        "#            #       learning_rate=0.001,\n",
        "#            #       batch_size=32,\n",
        "#            #       windows_batch_size: int = 1024,\n",
        "#            #       step_size: int = 1,\n",
        "#            #       scaler_type='identity',\n",
        "#            #       random_seed=1,\n",
        "#            #       num_workers_loader=0,\n",
        "#            #       drop_last_loader=False,\n",
        "#            #       **trainer_kwargs,\n",
        "    \n",
        "#           # TFT(h=12, \n",
        "#           #     input_size=5 * horizon,\n",
        "#           #     # hidden_size=20,\n",
        "#           #     #loss=DistributionLoss(distribution='Poisson', level=[80, 90]),\n",
        "#           #     #loss=DistributionLoss(distribution='Normal', level=[80, 90]),\n",
        "#           #     #loss=DistributionLoss(distribution='StudentT', level=[80, 90]),\n",
        "#           #     learning_rate=0.005,\n",
        "#           #     stat_exog_list = None,\n",
        "#           #     futr_exog_list = futr_list,\n",
        "#           #     max_steps=100,\n",
        "#           #     gpus=1,\n",
        "#           #     # val_check_steps=10,\n",
        "#           #     # early_stop_patience_steps=10,\n",
        "#           #     scaler_type='robust',\n",
        "#           #     # windows_batch_size=None,\n",
        "#           #     enable_progress_bar=True),\n",
        "#              ]\n",
        "# nforecast_nv = NeuralForecast(models=models, freq='M')\n",
        "# nforecast_nv.fit(df=Y_train_df)\n",
        "# Y_hat_df_nv = nforecast_nv.predict(futr_df=futr_df).reset_index()"
      ]
    },
    {
      "cell_type": "code",
      "execution_count": null,
      "id": "23a1910f-285e-457a-888e-8ca4fa041ab9",
      "metadata": {
        "tags": [],
        "id": "23a1910f-285e-457a-888e-8ca4fa041ab9"
      },
      "outputs": [],
      "source": [
        "# # Plot predictions\n",
        "# fig, ax = plt.subplots(1, 1, figsize = (20, 7))\n",
        "# Y_hat_df_nv = Y_test_df.merge(Y_hat_df_nv, how='left', on=['unique_id', 'ds'])\n",
        "# plot_df_nv = pd.concat([Y_train_df, Y_hat_df_nv]).set_index('ds')\n",
        "\n",
        "# plot_df_nv[['y', 'NHITS']].plot(ax=ax, linewidth=2, marker='o')\n",
        "# plt.axvline(cutoff_date, color='red')\n",
        "\n",
        "# ax.set_title(f'LI2CO3 Actual and Predicted Plot - Cutoff: {cutoff_date}', fontsize=22)\n",
        "# ax.set_ylabel('LI2CO3_PRICE', fontsize=20)\n",
        "# ax.set_xlabel('Date', fontsize=20)\n",
        "# ax.legend(prop={'size': 15})\n",
        "# ax.grid()\n",
        "\n",
        "# fig.savefig(f'./data/forecast_plot_{cutoff_date}_nv.png')"
      ]
    },
    {
      "cell_type": "code",
      "execution_count": null,
      "id": "940332ca-281c-41c8-ac8f-2bc9646f7638",
      "metadata": {
        "tags": [],
        "id": "940332ca-281c-41c8-ac8f-2bc9646f7638"
      },
      "outputs": [],
      "source": [
        "# plot_df_nv[['y', 'NHITS']].to_csv(f'./data/forecasting_{cutoff_date}_nv.csv',index=False)"
      ]
    },
    {
      "cell_type": "markdown",
      "id": "c5b6e49b-657e-48e0-b389-d96d77b28470",
      "metadata": {
        "id": "c5b6e49b-657e-48e0-b389-d96d77b28470"
      },
      "source": [
        "#### Yes 변수"
      ]
    },
    {
      "cell_type": "code",
      "execution_count": null,
      "id": "16b3c015-bcd6-48b4-a847-d414d3e093e7",
      "metadata": {
        "tags": [],
        "id": "16b3c015-bcd6-48b4-a847-d414d3e093e7",
        "outputId": "ad2b524e-05fd-4e02-e28d-0539b1869753",
        "colab": {
          "referenced_widgets": [
            "b6a0080a30e14c0b8f9d853bd9cd146b",
            "bcb708927d524b839c4fa502b3fb5584",
            "2407deede727488f82bf4def0f783b9b",
            "47c29ca7c9e4491580ac2aa2df69e189",
            "b14b7a12138d47fba701ebebbe0d7846",
            "e543255083f94fa0ad86bc9355107382",
            "06d181ccced74c919d4f1ef2d69ffd63",
            "6531cc8a7b1248d096db8e9766d48999",
            "973ae5e8dda2495fbfa1142d3bd2a362",
            "d99ef88a9b964464aaf5028f6980cbf2",
            "179a2a1f25f541139181a764bf000574",
            "d5b94b6d435a4d309065f592082655ad",
            "88095279b9f64982a7c4875e16bf2125",
            "943f5511b87a4a7d938c47920c496354",
            "07f5b21161f542a095bb5a473571d93f",
            "f696f3b254414b6e992c5cc6e9564bac",
            "9546c46c764041a0a593e898a8f138e5",
            "1ebd87395e0e4951acb3e87958c6d838",
            "850757fb2d914059830a7ef517498a9b",
            "9c4e7d55634b41cca1122b4e714d8b4e",
            "afcea8cea77b499e9831ebd3da7824d1",
            "d7ccb736ffd8475abe101148a7629b9d",
            "e6476205b045437da2c37f081375989f",
            "adf278a4663647da9955246849049e73",
            "641c4a4d0d0648a8ac193a8a1a1274b0",
            "99af705de2c24214a8425c9796f3adb7",
            "18c0baeaa6344d5db66257bd9caad1cc",
            "62af74d8bbf149b5832d32842718bbf0",
            "bf27aada492245c9a45714b15662be92",
            "007a9f98703747d9be1dd0708f2f66c9",
            "c91c4fa1fff24650a5423d0022cef186",
            "6acf34079af24ddebfe027edd1279996",
            "0eeba895eb1c4221ae7c10f0600ddf32",
            "4574efe3e7934489a89e27fcaab86f87",
            "aa92b5b7e6284d74b670b6c5aa53be58",
            "e1f76b7e94d749dda92c510907337d6c",
            "a96ea1928ce24913b10ace206d09f4bc"
          ]
        }
      },
      "outputs": [
        {
          "data": {
            "application/vnd.jupyter.widget-view+json": {
              "model_id": "b6a0080a30e14c0b8f9d853bd9cd146b",
              "version_major": 2,
              "version_minor": 0
            },
            "text/plain": [
              "Sanity Checking: 0it [00:00, ?it/s]"
            ]
          },
          "metadata": {},
          "output_type": "display_data"
        },
        {
          "data": {
            "application/vnd.jupyter.widget-view+json": {
              "model_id": "bcb708927d524b839c4fa502b3fb5584",
              "version_major": 2,
              "version_minor": 0
            },
            "text/plain": [
              "Training: 0it [00:00, ?it/s]"
            ]
          },
          "metadata": {},
          "output_type": "display_data"
        },
        {
          "data": {
            "application/vnd.jupyter.widget-view+json": {
              "model_id": "2407deede727488f82bf4def0f783b9b",
              "version_major": 2,
              "version_minor": 0
            },
            "text/plain": [
              "Validation: 0it [00:00, ?it/s]"
            ]
          },
          "metadata": {},
          "output_type": "display_data"
        },
        {
          "data": {
            "application/vnd.jupyter.widget-view+json": {
              "model_id": "47c29ca7c9e4491580ac2aa2df69e189",
              "version_major": 2,
              "version_minor": 0
            },
            "text/plain": [
              "Sanity Checking: 0it [00:00, ?it/s]"
            ]
          },
          "metadata": {},
          "output_type": "display_data"
        },
        {
          "data": {
            "application/vnd.jupyter.widget-view+json": {
              "model_id": "b14b7a12138d47fba701ebebbe0d7846",
              "version_major": 2,
              "version_minor": 0
            },
            "text/plain": [
              "Training: 0it [00:00, ?it/s]"
            ]
          },
          "metadata": {},
          "output_type": "display_data"
        },
        {
          "data": {
            "application/vnd.jupyter.widget-view+json": {
              "model_id": "e543255083f94fa0ad86bc9355107382",
              "version_major": 2,
              "version_minor": 0
            },
            "text/plain": [
              "Validation: 0it [00:00, ?it/s]"
            ]
          },
          "metadata": {},
          "output_type": "display_data"
        },
        {
          "data": {
            "application/vnd.jupyter.widget-view+json": {
              "model_id": "06d181ccced74c919d4f1ef2d69ffd63",
              "version_major": 2,
              "version_minor": 0
            },
            "text/plain": [
              "Validation: 0it [00:00, ?it/s]"
            ]
          },
          "metadata": {},
          "output_type": "display_data"
        },
        {
          "data": {
            "application/vnd.jupyter.widget-view+json": {
              "model_id": "6531cc8a7b1248d096db8e9766d48999",
              "version_major": 2,
              "version_minor": 0
            },
            "text/plain": [
              "Validation: 0it [00:00, ?it/s]"
            ]
          },
          "metadata": {},
          "output_type": "display_data"
        },
        {
          "data": {
            "application/vnd.jupyter.widget-view+json": {
              "model_id": "973ae5e8dda2495fbfa1142d3bd2a362",
              "version_major": 2,
              "version_minor": 0
            },
            "text/plain": [
              "Validation: 0it [00:00, ?it/s]"
            ]
          },
          "metadata": {},
          "output_type": "display_data"
        },
        {
          "data": {
            "application/vnd.jupyter.widget-view+json": {
              "model_id": "d99ef88a9b964464aaf5028f6980cbf2",
              "version_major": 2,
              "version_minor": 0
            },
            "text/plain": [
              "Validation: 0it [00:00, ?it/s]"
            ]
          },
          "metadata": {},
          "output_type": "display_data"
        },
        {
          "data": {
            "application/vnd.jupyter.widget-view+json": {
              "model_id": "179a2a1f25f541139181a764bf000574",
              "version_major": 2,
              "version_minor": 0
            },
            "text/plain": [
              "Validation: 0it [00:00, ?it/s]"
            ]
          },
          "metadata": {},
          "output_type": "display_data"
        },
        {
          "data": {
            "application/vnd.jupyter.widget-view+json": {
              "model_id": "d5b94b6d435a4d309065f592082655ad",
              "version_major": 2,
              "version_minor": 0
            },
            "text/plain": [
              "Validation: 0it [00:00, ?it/s]"
            ]
          },
          "metadata": {},
          "output_type": "display_data"
        },
        {
          "data": {
            "application/vnd.jupyter.widget-view+json": {
              "model_id": "88095279b9f64982a7c4875e16bf2125",
              "version_major": 2,
              "version_minor": 0
            },
            "text/plain": [
              "Validation: 0it [00:00, ?it/s]"
            ]
          },
          "metadata": {},
          "output_type": "display_data"
        },
        {
          "data": {
            "application/vnd.jupyter.widget-view+json": {
              "model_id": "943f5511b87a4a7d938c47920c496354",
              "version_major": 2,
              "version_minor": 0
            },
            "text/plain": [
              "Validation: 0it [00:00, ?it/s]"
            ]
          },
          "metadata": {},
          "output_type": "display_data"
        },
        {
          "data": {
            "application/vnd.jupyter.widget-view+json": {
              "model_id": "07f5b21161f542a095bb5a473571d93f",
              "version_major": 2,
              "version_minor": 0
            },
            "text/plain": [
              "Validation: 0it [00:00, ?it/s]"
            ]
          },
          "metadata": {},
          "output_type": "display_data"
        },
        {
          "data": {
            "application/vnd.jupyter.widget-view+json": {
              "model_id": "f696f3b254414b6e992c5cc6e9564bac",
              "version_major": 2,
              "version_minor": 0
            },
            "text/plain": [
              "Validation: 0it [00:00, ?it/s]"
            ]
          },
          "metadata": {},
          "output_type": "display_data"
        },
        {
          "data": {
            "application/vnd.jupyter.widget-view+json": {
              "model_id": "9546c46c764041a0a593e898a8f138e5",
              "version_major": 2,
              "version_minor": 0
            },
            "text/plain": [
              "Validation: 0it [00:00, ?it/s]"
            ]
          },
          "metadata": {},
          "output_type": "display_data"
        },
        {
          "data": {
            "application/vnd.jupyter.widget-view+json": {
              "model_id": "1ebd87395e0e4951acb3e87958c6d838",
              "version_major": 2,
              "version_minor": 0
            },
            "text/plain": [
              "Validation: 0it [00:00, ?it/s]"
            ]
          },
          "metadata": {},
          "output_type": "display_data"
        },
        {
          "data": {
            "application/vnd.jupyter.widget-view+json": {
              "model_id": "850757fb2d914059830a7ef517498a9b",
              "version_major": 2,
              "version_minor": 0
            },
            "text/plain": [
              "Validation: 0it [00:00, ?it/s]"
            ]
          },
          "metadata": {},
          "output_type": "display_data"
        },
        {
          "data": {
            "application/vnd.jupyter.widget-view+json": {
              "model_id": "9c4e7d55634b41cca1122b4e714d8b4e",
              "version_major": 2,
              "version_minor": 0
            },
            "text/plain": [
              "Validation: 0it [00:00, ?it/s]"
            ]
          },
          "metadata": {},
          "output_type": "display_data"
        },
        {
          "data": {
            "application/vnd.jupyter.widget-view+json": {
              "model_id": "afcea8cea77b499e9831ebd3da7824d1",
              "version_major": 2,
              "version_minor": 0
            },
            "text/plain": [
              "Validation: 0it [00:00, ?it/s]"
            ]
          },
          "metadata": {},
          "output_type": "display_data"
        },
        {
          "data": {
            "application/vnd.jupyter.widget-view+json": {
              "model_id": "d7ccb736ffd8475abe101148a7629b9d",
              "version_major": 2,
              "version_minor": 0
            },
            "text/plain": [
              "Validation: 0it [00:00, ?it/s]"
            ]
          },
          "metadata": {},
          "output_type": "display_data"
        },
        {
          "data": {
            "application/vnd.jupyter.widget-view+json": {
              "model_id": "e6476205b045437da2c37f081375989f",
              "version_major": 2,
              "version_minor": 0
            },
            "text/plain": [
              "Validation: 0it [00:00, ?it/s]"
            ]
          },
          "metadata": {},
          "output_type": "display_data"
        },
        {
          "data": {
            "application/vnd.jupyter.widget-view+json": {
              "model_id": "adf278a4663647da9955246849049e73",
              "version_major": 2,
              "version_minor": 0
            },
            "text/plain": [
              "Validation: 0it [00:00, ?it/s]"
            ]
          },
          "metadata": {},
          "output_type": "display_data"
        },
        {
          "data": {
            "application/vnd.jupyter.widget-view+json": {
              "model_id": "641c4a4d0d0648a8ac193a8a1a1274b0",
              "version_major": 2,
              "version_minor": 0
            },
            "text/plain": [
              "Validation: 0it [00:00, ?it/s]"
            ]
          },
          "metadata": {},
          "output_type": "display_data"
        },
        {
          "data": {
            "application/vnd.jupyter.widget-view+json": {
              "model_id": "99af705de2c24214a8425c9796f3adb7",
              "version_major": 2,
              "version_minor": 0
            },
            "text/plain": [
              "Validation: 0it [00:00, ?it/s]"
            ]
          },
          "metadata": {},
          "output_type": "display_data"
        },
        {
          "data": {
            "application/vnd.jupyter.widget-view+json": {
              "model_id": "18c0baeaa6344d5db66257bd9caad1cc",
              "version_major": 2,
              "version_minor": 0
            },
            "text/plain": [
              "Validation: 0it [00:00, ?it/s]"
            ]
          },
          "metadata": {},
          "output_type": "display_data"
        },
        {
          "data": {
            "application/vnd.jupyter.widget-view+json": {
              "model_id": "62af74d8bbf149b5832d32842718bbf0",
              "version_major": 2,
              "version_minor": 0
            },
            "text/plain": [
              "Validation: 0it [00:00, ?it/s]"
            ]
          },
          "metadata": {},
          "output_type": "display_data"
        },
        {
          "data": {
            "application/vnd.jupyter.widget-view+json": {
              "model_id": "bf27aada492245c9a45714b15662be92",
              "version_major": 2,
              "version_minor": 0
            },
            "text/plain": [
              "Validation: 0it [00:00, ?it/s]"
            ]
          },
          "metadata": {},
          "output_type": "display_data"
        },
        {
          "data": {
            "application/vnd.jupyter.widget-view+json": {
              "model_id": "007a9f98703747d9be1dd0708f2f66c9",
              "version_major": 2,
              "version_minor": 0
            },
            "text/plain": [
              "Validation: 0it [00:00, ?it/s]"
            ]
          },
          "metadata": {},
          "output_type": "display_data"
        },
        {
          "data": {
            "application/vnd.jupyter.widget-view+json": {
              "model_id": "c91c4fa1fff24650a5423d0022cef186",
              "version_major": 2,
              "version_minor": 0
            },
            "text/plain": [
              "Validation: 0it [00:00, ?it/s]"
            ]
          },
          "metadata": {},
          "output_type": "display_data"
        },
        {
          "data": {
            "application/vnd.jupyter.widget-view+json": {
              "model_id": "6acf34079af24ddebfe027edd1279996",
              "version_major": 2,
              "version_minor": 0
            },
            "text/plain": [
              "Validation: 0it [00:00, ?it/s]"
            ]
          },
          "metadata": {},
          "output_type": "display_data"
        },
        {
          "data": {
            "application/vnd.jupyter.widget-view+json": {
              "model_id": "0eeba895eb1c4221ae7c10f0600ddf32",
              "version_major": 2,
              "version_minor": 0
            },
            "text/plain": [
              "Validation: 0it [00:00, ?it/s]"
            ]
          },
          "metadata": {},
          "output_type": "display_data"
        },
        {
          "data": {
            "application/vnd.jupyter.widget-view+json": {
              "model_id": "4574efe3e7934489a89e27fcaab86f87",
              "version_major": 2,
              "version_minor": 0
            },
            "text/plain": [
              "Validation: 0it [00:00, ?it/s]"
            ]
          },
          "metadata": {},
          "output_type": "display_data"
        },
        {
          "data": {
            "application/vnd.jupyter.widget-view+json": {
              "model_id": "aa92b5b7e6284d74b670b6c5aa53be58",
              "version_major": 2,
              "version_minor": 0
            },
            "text/plain": [
              "Validation: 0it [00:00, ?it/s]"
            ]
          },
          "metadata": {},
          "output_type": "display_data"
        },
        {
          "data": {
            "application/vnd.jupyter.widget-view+json": {
              "model_id": "e1f76b7e94d749dda92c510907337d6c",
              "version_major": 2,
              "version_minor": 0
            },
            "text/plain": [
              "Predicting: 0it [00:00, ?it/s]"
            ]
          },
          "metadata": {},
          "output_type": "display_data"
        },
        {
          "data": {
            "application/vnd.jupyter.widget-view+json": {
              "model_id": "a96ea1928ce24913b10ace206d09f4bc",
              "version_major": 2,
              "version_minor": 0
            },
            "text/plain": [
              "Predicting: 0it [00:00, ?it/s]"
            ]
          },
          "metadata": {},
          "output_type": "display_data"
        }
      ],
      "source": [
        "if len(Y_test_df) > 0:\n",
        "    horizon = len(Y_test_df)\n",
        "else:\n",
        "    horizon = len(futr_df)\n",
        "    \n",
        "if cutoff_date <= '2021-12-31':\n",
        "    flexible = None\n",
        "else:\n",
        "    flexible = futr_df\n",
        "\n",
        "models = [\n",
        "          # NBEATS(input_size=5 * horizon, gpus = 1, h=horizon, max_epochs=100),\n",
        "          NBEATSx(h=horizon, input_size= horizon * 5,\n",
        "                # loss=DistributionLoss(distribution='Normal', level=[80, 90]),\n",
        "                gpus=1,\n",
        "                scaler_type='standard',\n",
        "                # stat_exog_list = None,\n",
        "                hist_exog_list = hist_list,\n",
        "                futr_exog_list = flexible,\n",
        "                learning_rate=1e-4,\n",
        "                mlp_units = [[512, 512], [512, 512], [512, 512]],\n",
        "                batch_size=128,\n",
        "                random_seed=42,\n",
        "                n_blocks=[1, 1, 1],\n",
        "                # val_check_steps=10,\n",
        "                # early_stop_patience_steps=2,\n",
        "                max_steps=1\n",
        "               ),\n",
        "          NHITS(input_size=5 * horizon, \n",
        "                h=horizon,\n",
        "                gpus = 1,\n",
        "                stat_exog_list = None,\n",
        "                hist_exog_list = None, #22년 3월부터는 안됌\n",
        "                futr_exog_list = None,\n",
        "                # n_blocks = [1, 1, 1],\n",
        "                # mlp_units = [[512, 512], [512, 512], [512, 512]],\n",
        "                # n_pool_kernel_size = [2, 2, 1],\n",
        "                # n_freq_downsample=[24, 12, 1],\n",
        "                pooling_mode = 'MaxPool1d',\n",
        "                scaler_type = 'robust',\n",
        "                learning_rate=1e-4,\n",
        "                activation='ReLU',\n",
        "                batch_size=32,\n",
        "                random_seed=42,\n",
        "                max_epochs=30\n",
        "           # NHITS(input_size = horizon * 5, \n",
        "           #      h=horizon,\n",
        "           #      gpus = 1,\n",
        "           #      scaler_type = 'standard',\n",
        "           #      # stat_exog_list = None,\n",
        "           #      hist_exog_list = hist_list,\n",
        "           #      futr_exog_list = flexible,\n",
        "           #      n_blocks = [1, 1, 1],\n",
        "           #      mlp_units = [[512, 512], [512, 512], [512, 512]],\n",
        "           #      n_pool_kernel_size = [2, 2, 1],\n",
        "           #      n_freq_downsample=[24, 12, 1],\n",
        "           #      learning_rate=1e-4,\n",
        "           #      pooling_mode = 'MaxPool1d',\n",
        "           #      activation='ReLU',\n",
        "           #      batch_size=128,\n",
        "           #      random_seed=42,\n",
        "           #      max_epochs=10\n",
        "               ),\n",
        "          # LSTM(h=horizon, input_size=5 * horizon,\n",
        "          #        # loss=DistributionLoss(distribution='Normal', level=[80, 90]),\n",
        "          #        scaler_type='robust',\n",
        "          #        encoder_n_layers=2,\n",
        "          #        encoder_hidden_size=128,\n",
        "          #        context_size=10,\n",
        "          #        decoder_hidden_size=128,\n",
        "          #        decoder_layers=2,\n",
        "          #        gpus = 1,\n",
        "          #        futr_exog_list=futr_df,\n",
        "          #        hist_exog_list=hist_list,\n",
        "          #        stat_exog_list=None,\n",
        "          #        max_steps=10\n",
        "          #        ),\n",
        "           # NHITS(\n",
        "           #       h,\n",
        "           #       input_size,\n",
        "           #       futr_exog_list=None,\n",
        "           #       hist_exog_list=None,\n",
        "           #       stat_exog_list=None,\n",
        "           #       stack_types: list = ['identity', 'identity', 'identity'],\n",
        "           #       n_blocks: list = [1, 1, 1],\n",
        "           #       mlp_units: list = [[512, 512], [512, 512], [512, 512]],\n",
        "           #       n_pool_kernel_size: list = [2, 2, 1],\n",
        "           #       n_freq_downsample: list = [4, 2, 1],\n",
        "           #       pooling_mode: str = 'MaxPool1d',\n",
        "           #       interpolation_mode: str = 'linear',\n",
        "           #       dropout_prob_theta=0.0,\n",
        "           #       activation='ReLU',\n",
        "           #       loss=MAE(),\n",
        "           #       learning_rate=0.001,\n",
        "           #       batch_size=32,\n",
        "           #       windows_batch_size: int = 1024,\n",
        "           #       step_size: int = 1,\n",
        "           #       scaler_type='identity',\n",
        "           #       random_seed=1,\n",
        "           #       num_workers_loader=0,\n",
        "           #       drop_last_loader=False,\n",
        "           #       **trainer_kwargs,\n",
        "    \n",
        "          # TFT(h=horizon, \n",
        "          #     input_size=5 * horizon,\n",
        "          #     #loss=DistributionLoss(distribution='Poisson', level=[80, 90]),\n",
        "          #     #loss=DistributionLoss(distribution='Normal', level=[80, 90]),\n",
        "          #     #loss=DistributionLoss(distribution='StudentT', level=[80, 90]),\n",
        "          #     # hidden_size=128,\n",
        "          #     # n_head=4, \n",
        "          #     # attn_dropout=0.0,\n",
        "          #     hist_exog_list=hist_list,\n",
        "          #     dropout=0.1,\n",
        "          #     learning_rate=0.005,\n",
        "          #     stat_exog_list = None,\n",
        "          #     futr_exog_list = flexible,\n",
        "          #     gpus=1,\n",
        "          #     # val_check_steps=10,\n",
        "          #     # early_stop_patience_steps=10,\n",
        "          #     scaler_type='robust',\n",
        "          #     # windows_batch_size=None,\n",
        "          #     enable_progress_bar=True,\n",
        "          #     max_steps=10\n",
        "          #    ),\n",
        "             ]\n",
        "nforecast = NeuralForecast(models=models, freq='M')\n",
        "nforecast.fit(df=Y_train_df)\n",
        "Y_hat_df = nforecast.predict(futr_df=futr_df).reset_index()"
      ]
    },
    {
      "cell_type": "code",
      "execution_count": null,
      "id": "30866cf9-6543-4f6e-802c-febe741b3492",
      "metadata": {
        "tags": [],
        "id": "30866cf9-6543-4f6e-802c-febe741b3492",
        "outputId": "d8531b44-3498-454d-f208-4d0e717ce9f1"
      },
      "outputs": [
        {
          "data": {
            "image/png": "[encoded data removed]",
            "text/plain": [
              "<Figure size 2000x700 with 1 Axes>"
            ]
          },
          "metadata": {},
          "output_type": "display_data"
        }
      ],
      "source": [
        "# Plot predictions\n",
        "fig, ax = plt.subplots(1, 1, figsize = (20, 7))\n",
        "Y_hat_df = Y_test_df.merge(Y_hat_df, how='left', on=['unique_id', 'ds'])\n",
        "plot_df = pd.concat([Y_train_df, Y_hat_df]).set_index('ds')\n",
        "\n",
        "# plot_df['NHITS_30'] = (plot_df['NHITS'] - 30).copy()\n",
        "plot_df[['y', 'NHITS']].plot(ax=ax, linewidth=2, marker='o')\n",
        "\n",
        "plt.axvline(cutoff_date, color='red')\n",
        "ax.set_title(f'LI2CO3 Actual and Predicted Plot - Cutoff: {cutoff_date}', fontsize=22)\n",
        "ax.set_ylabel('LI2CO3_PRICE', fontsize=20)\n",
        "ax.set_xlabel('Date', fontsize=20)\n",
        "ax.legend(prop={'size': 15})\n",
        "ax.grid()\n",
        "\n",
        "# fig1.savefig(f'./data/forecasting_{cutoff_date}.png', dpi=100)\n",
        "fig.savefig(f'./data/forecast_plot_{cutoff_date}_wv.png')"
      ]
    },
    {
      "cell_type": "code",
      "execution_count": null,
      "id": "1c6a7b7d-0c76-4d10-ba18-567112c03448",
      "metadata": {
        "tags": [],
        "id": "1c6a7b7d-0c76-4d10-ba18-567112c03448",
        "outputId": "ef4886e2-6bba-429d-918e-d1adead1d39d"
      },
      "outputs": [
        {
          "data": {
            "text/html": [
              "<div>\n",
              "<style scoped>\n",
              "    .dataframe tbody tr th:only-of-type {\n",
              "        vertical-align: middle;\n",
              "    }\n",
              "\n",
              "    .dataframe tbody tr th {\n",
              "        vertical-align: top;\n",
              "    }\n",
              "\n",
              "    .dataframe thead th {\n",
              "        text-align: right;\n",
              "    }\n",
              "</style>\n",
              "<table border=\"1\" class=\"dataframe\">\n",
              "  <thead>\n",
              "    <tr style=\"text-align: right;\">\n",
              "      <th></th>\n",
              "      <th>unique_id</th>\n",
              "      <th>y</th>\n",
              "      <th>lioh_cif_fast_kg_spot_exchng</th>\n",
              "      <th>Baltic Dry Index (BDI)</th>\n",
              "      <th>Howe Robinson Container Index</th>\n",
              "      <th>Shanghai Containerized Freight Index (SCFI)</th>\n",
              "      <th>옥수수 For Grain [미국(생산자 가격)] 현물</th>\n",
              "      <th>원당 (daily) [ISA] 현물</th>\n",
              "      <th>대두 [미국(생산자 가격)] 현물</th>\n",
              "      <th>대두박 [파라나구아(FOB)] 현물</th>\n",
              "      <th>...</th>\n",
              "      <th>Pilbara Mineral Limited_price_Low</th>\n",
              "      <th>Pilbara Mineral Limited_price_Close</th>\n",
              "      <th>Pilbara Mineral Limited_price_Adj Close</th>\n",
              "      <th>Allkem Limited (AKE.AX)_price_Open</th>\n",
              "      <th>Allkem Limited (AKE.AX)_price_High</th>\n",
              "      <th>Allkem Limited (AKE.AX)_price_Low</th>\n",
              "      <th>Allkem Limited (AKE.AX)_price_Close</th>\n",
              "      <th>Allkem Limited (AKE.AX)_price_Adj Close</th>\n",
              "      <th>NBEATSx</th>\n",
              "      <th>NHITS</th>\n",
              "    </tr>\n",
              "    <tr>\n",
              "      <th>ds</th>\n",
              "      <th></th>\n",
              "      <th></th>\n",
              "      <th></th>\n",
              "      <th></th>\n",
              "      <th></th>\n",
              "      <th></th>\n",
              "      <th></th>\n",
              "      <th></th>\n",
              "      <th></th>\n",
              "      <th></th>\n",
              "      <th></th>\n",
              "      <th></th>\n",
              "      <th></th>\n",
              "      <th></th>\n",
              "      <th></th>\n",
              "      <th></th>\n",
              "      <th></th>\n",
              "      <th></th>\n",
              "      <th></th>\n",
              "      <th></th>\n",
              "      <th></th>\n",
              "    </tr>\n",
              "  </thead>\n",
              "  <tbody>\n",
              "    <tr>\n",
              "      <th>2016-01-31</th>\n",
              "      <td>A</td>\n",
              "      <td>20.177268</td>\n",
              "      <td>-0.237734</td>\n",
              "      <td>-1.302468</td>\n",
              "      <td>-0.644064</td>\n",
              "      <td>-0.195705</td>\n",
              "      <td>-0.461301</td>\n",
              "      <td>-0.468886</td>\n",
              "      <td>0.391356</td>\n",
              "      <td>-1.226492</td>\n",
              "      <td>...</td>\n",
              "      <td>-0.830830</td>\n",
              "      <td>-0.827825</td>\n",
              "      <td>-0.397665</td>\n",
              "      <td>-0.915916</td>\n",
              "      <td>-0.911882</td>\n",
              "      <td>-0.921663</td>\n",
              "      <td>-0.909069</td>\n",
              "      <td>-0.909069</td>\n",
              "      <td>NaN</td>\n",
              "      <td>NaN</td>\n",
              "    </tr>\n",
              "    <tr>\n",
              "      <th>2016-02-29</th>\n",
              "      <td>A</td>\n",
              "      <td>23.306868</td>\n",
              "      <td>-0.054803</td>\n",
              "      <td>-1.396112</td>\n",
              "      <td>-0.645288</td>\n",
              "      <td>-0.182527</td>\n",
              "      <td>-0.532459</td>\n",
              "      <td>-0.733272</td>\n",
              "      <td>0.138779</td>\n",
              "      <td>-1.332251</td>\n",
              "      <td>...</td>\n",
              "      <td>-0.752678</td>\n",
              "      <td>-0.750469</td>\n",
              "      <td>-0.397665</td>\n",
              "      <td>-0.910118</td>\n",
              "      <td>-0.915569</td>\n",
              "      <td>-0.908508</td>\n",
              "      <td>-0.916207</td>\n",
              "      <td>-0.916207</td>\n",
              "      <td>NaN</td>\n",
              "      <td>NaN</td>\n",
              "    </tr>\n",
              "    <tr>\n",
              "      <th>2016-03-31</th>\n",
              "      <td>A</td>\n",
              "      <td>25.223010</td>\n",
              "      <td>0.133909</td>\n",
              "      <td>-1.305967</td>\n",
              "      <td>-0.644523</td>\n",
              "      <td>-0.362815</td>\n",
              "      <td>-0.532459</td>\n",
              "      <td>-0.012903</td>\n",
              "      <td>0.099921</td>\n",
              "      <td>-1.436497</td>\n",
              "      <td>...</td>\n",
              "      <td>-0.733675</td>\n",
              "      <td>-0.731680</td>\n",
              "      <td>-0.397665</td>\n",
              "      <td>-0.833402</td>\n",
              "      <td>-0.834459</td>\n",
              "      <td>-0.834589</td>\n",
              "      <td>-0.834453</td>\n",
              "      <td>-0.834453</td>\n",
              "      <td>NaN</td>\n",
              "      <td>NaN</td>\n",
              "    </tr>\n",
              "    <tr>\n",
              "      <th>2016-04-30</th>\n",
              "      <td>A</td>\n",
              "      <td>25.308243</td>\n",
              "      <td>0.173425</td>\n",
              "      <td>-1.041598</td>\n",
              "      <td>-0.648195</td>\n",
              "      <td>-0.472294</td>\n",
              "      <td>-0.524553</td>\n",
              "      <td>-0.083130</td>\n",
              "      <td>-0.003701</td>\n",
              "      <td>-1.168180</td>\n",
              "      <td>...</td>\n",
              "      <td>-0.525438</td>\n",
              "      <td>-0.509230</td>\n",
              "      <td>-0.397665</td>\n",
              "      <td>-0.691659</td>\n",
              "      <td>-0.695181</td>\n",
              "      <td>-0.693237</td>\n",
              "      <td>-0.700107</td>\n",
              "      <td>-0.700107</td>\n",
              "      <td>NaN</td>\n",
              "      <td>NaN</td>\n",
              "    </tr>\n",
              "    <tr>\n",
              "      <th>2016-05-31</th>\n",
              "      <td>A</td>\n",
              "      <td>24.875099</td>\n",
              "      <td>0.107095</td>\n",
              "      <td>-1.026945</td>\n",
              "      <td>-0.645747</td>\n",
              "      <td>-0.487834</td>\n",
              "      <td>-0.445488</td>\n",
              "      <td>0.514051</td>\n",
              "      <td>-0.074941</td>\n",
              "      <td>0.104912</td>\n",
              "      <td>...</td>\n",
              "      <td>-0.391346</td>\n",
              "      <td>-0.377609</td>\n",
              "      <td>-0.397665</td>\n",
              "      <td>-0.497700</td>\n",
              "      <td>-0.494779</td>\n",
              "      <td>-0.496022</td>\n",
              "      <td>-0.493870</td>\n",
              "      <td>-0.493870</td>\n",
              "      <td>NaN</td>\n",
              "      <td>NaN</td>\n",
              "    </tr>\n",
              "    <tr>\n",
              "      <th>...</th>\n",
              "      <td>...</td>\n",
              "      <td>...</td>\n",
              "      <td>...</td>\n",
              "      <td>...</td>\n",
              "      <td>...</td>\n",
              "      <td>...</td>\n",
              "      <td>...</td>\n",
              "      <td>...</td>\n",
              "      <td>...</td>\n",
              "      <td>...</td>\n",
              "      <td>...</td>\n",
              "      <td>...</td>\n",
              "      <td>...</td>\n",
              "      <td>...</td>\n",
              "      <td>...</td>\n",
              "      <td>...</td>\n",
              "      <td>...</td>\n",
              "      <td>...</td>\n",
              "      <td>...</td>\n",
              "      <td>...</td>\n",
              "      <td>...</td>\n",
              "    </tr>\n",
              "    <tr>\n",
              "      <th>2022-08-31</th>\n",
              "      <td>A</td>\n",
              "      <td>73.000000</td>\n",
              "      <td>2.420773</td>\n",
              "      <td>-0.092744</td>\n",
              "      <td>2.119559</td>\n",
              "      <td>2.773368</td>\n",
              "      <td>2.369193</td>\n",
              "      <td>0.793818</td>\n",
              "      <td>2.593314</td>\n",
              "      <td>1.844361</td>\n",
              "      <td>...</td>\n",
              "      <td>2.245839</td>\n",
              "      <td>2.264053</td>\n",
              "      <td>2.410643</td>\n",
              "      <td>2.144853</td>\n",
              "      <td>2.155770</td>\n",
              "      <td>2.181382</td>\n",
              "      <td>2.184215</td>\n",
              "      <td>2.184215</td>\n",
              "      <td>75.197159</td>\n",
              "      <td>135.706818</td>\n",
              "    </tr>\n",
              "    <tr>\n",
              "      <th>2022-09-30</th>\n",
              "      <td>A</td>\n",
              "      <td>74.047619</td>\n",
              "      <td>2.507937</td>\n",
              "      <td>-0.004062</td>\n",
              "      <td>1.188816</td>\n",
              "      <td>3.024986</td>\n",
              "      <td>2.250597</td>\n",
              "      <td>0.750690</td>\n",
              "      <td>1.621862</td>\n",
              "      <td>1.935267</td>\n",
              "      <td>...</td>\n",
              "      <td>2.084336</td>\n",
              "      <td>2.084871</td>\n",
              "      <td>1.970948</td>\n",
              "      <td>2.828439</td>\n",
              "      <td>2.823884</td>\n",
              "      <td>2.834908</td>\n",
              "      <td>2.836251</td>\n",
              "      <td>2.836251</td>\n",
              "      <td>76.052681</td>\n",
              "      <td>127.462090</td>\n",
              "    </tr>\n",
              "    <tr>\n",
              "      <th>2022-10-31</th>\n",
              "      <td>A</td>\n",
              "      <td>77.673913</td>\n",
              "      <td>2.664680</td>\n",
              "      <td>0.381286</td>\n",
              "      <td>0.204375</td>\n",
              "      <td>3.036207</td>\n",
              "      <td>1.784119</td>\n",
              "      <td>0.691518</td>\n",
              "      <td>1.427572</td>\n",
              "      <td>1.447594</td>\n",
              "      <td>...</td>\n",
              "      <td>2.354164</td>\n",
              "      <td>2.362142</td>\n",
              "      <td>2.222022</td>\n",
              "      <td>2.765597</td>\n",
              "      <td>2.782167</td>\n",
              "      <td>2.764528</td>\n",
              "      <td>2.761120</td>\n",
              "      <td>2.761120</td>\n",
              "      <td>78.720299</td>\n",
              "      <td>117.633171</td>\n",
              "    </tr>\n",
              "    <tr>\n",
              "      <th>2022-11-30</th>\n",
              "      <td>A</td>\n",
              "      <td>80.818182</td>\n",
              "      <td>2.828879</td>\n",
              "      <td>-0.226024</td>\n",
              "      <td>-0.008117</td>\n",
              "      <td>3.004479</td>\n",
              "      <td>1.784119</td>\n",
              "      <td>1.005474</td>\n",
              "      <td>1.621862</td>\n",
              "      <td>1.346924</td>\n",
              "      <td>...</td>\n",
              "      <td>2.455263</td>\n",
              "      <td>2.452607</td>\n",
              "      <td>2.303940</td>\n",
              "      <td>2.830058</td>\n",
              "      <td>2.817705</td>\n",
              "      <td>2.816214</td>\n",
              "      <td>2.795982</td>\n",
              "      <td>2.795982</td>\n",
              "      <td>75.798584</td>\n",
              "      <td>115.082123</td>\n",
              "    </tr>\n",
              "    <tr>\n",
              "      <th>2022-12-31</th>\n",
              "      <td>A</td>\n",
              "      <td>80.882353</td>\n",
              "      <td>2.867154</td>\n",
              "      <td>-0.043847</td>\n",
              "      <td>-0.041773</td>\n",
              "      <td>3.301048</td>\n",
              "      <td>1.784119</td>\n",
              "      <td>1.131385</td>\n",
              "      <td>1.816153</td>\n",
              "      <td>1.346924</td>\n",
              "      <td>...</td>\n",
              "      <td>1.981728</td>\n",
              "      <td>1.959693</td>\n",
              "      <td>1.857597</td>\n",
              "      <td>2.230517</td>\n",
              "      <td>2.206089</td>\n",
              "      <td>2.211335</td>\n",
              "      <td>2.207568</td>\n",
              "      <td>2.207568</td>\n",
              "      <td>76.812515</td>\n",
              "      <td>118.393883</td>\n",
              "    </tr>\n",
              "  </tbody>\n",
              "</table>\n",
              "<p>84 rows × 926 columns</p>\n",
              "</div>"
            ],
            "text/plain": [
              "           unique_id          y  lioh_cif_fast_kg_spot_exchng  \\\n",
              "ds                                                              \n",
              "2016-01-31         A  20.177268                     -0.237734   \n",
              "2016-02-29         A  23.306868                     -0.054803   \n",
              "2016-03-31         A  25.223010                      0.133909   \n",
              "2016-04-30         A  25.308243                      0.173425   \n",
              "2016-05-31         A  24.875099                      0.107095   \n",
              "...              ...        ...                           ...   \n",
              "2022-08-31         A  73.000000                      2.420773   \n",
              "2022-09-30         A  74.047619                      2.507937   \n",
              "2022-10-31         A  77.673913                      2.664680   \n",
              "2022-11-30         A  80.818182                      2.828879   \n",
              "2022-12-31         A  80.882353                      2.867154   \n",
              "\n",
              "            Baltic Dry Index (BDI)  Howe Robinson Container Index  \\\n",
              "ds                                                                  \n",
              "2016-01-31               -1.302468                      -0.644064   \n",
              "2016-02-29               -1.396112                      -0.645288   \n",
              "2016-03-31               -1.305967                      -0.644523   \n",
              "2016-04-30               -1.041598                      -0.648195   \n",
              "2016-05-31               -1.026945                      -0.645747   \n",
              "...                            ...                            ...   \n",
              "2022-08-31               -0.092744                       2.119559   \n",
              "2022-09-30               -0.004062                       1.188816   \n",
              "2022-10-31                0.381286                       0.204375   \n",
              "2022-11-30               -0.226024                      -0.008117   \n",
              "2022-12-31               -0.043847                      -0.041773   \n",
              "\n",
              "            Shanghai Containerized Freight Index (SCFI)  \\\n",
              "ds                                                        \n",
              "2016-01-31                                    -0.195705   \n",
              "2016-02-29                                    -0.182527   \n",
              "2016-03-31                                    -0.362815   \n",
              "2016-04-30                                    -0.472294   \n",
              "2016-05-31                                    -0.487834   \n",
              "...                                                 ...   \n",
              "2022-08-31                                     2.773368   \n",
              "2022-09-30                                     3.024986   \n",
              "2022-10-31                                     3.036207   \n",
              "2022-11-30                                     3.004479   \n",
              "2022-12-31                                     3.301048   \n",
              "\n",
              "            옥수수 For Grain [미국(생산자 가격)] 현물  원당 (daily) [ISA] 현물  \\\n",
              "ds                                                               \n",
              "2016-01-31                      -0.461301            -0.468886   \n",
              "2016-02-29                      -0.532459            -0.733272   \n",
              "2016-03-31                      -0.532459            -0.012903   \n",
              "2016-04-30                      -0.524553            -0.083130   \n",
              "2016-05-31                      -0.445488             0.514051   \n",
              "...                                   ...                  ...   \n",
              "2022-08-31                       2.369193             0.793818   \n",
              "2022-09-30                       2.250597             0.750690   \n",
              "2022-10-31                       1.784119             0.691518   \n",
              "2022-11-30                       1.784119             1.005474   \n",
              "2022-12-31                       1.784119             1.131385   \n",
              "\n",
              "            대두 [미국(생산자 가격)] 현물  대두박 [파라나구아(FOB)] 현물  ...  \\\n",
              "ds                                                   ...   \n",
              "2016-01-31            0.391356            -1.226492  ...   \n",
              "2016-02-29            0.138779            -1.332251  ...   \n",
              "2016-03-31            0.099921            -1.436497  ...   \n",
              "2016-04-30           -0.003701            -1.168180  ...   \n",
              "2016-05-31           -0.074941             0.104912  ...   \n",
              "...                        ...                  ...  ...   \n",
              "2022-08-31            2.593314             1.844361  ...   \n",
              "2022-09-30            1.621862             1.935267  ...   \n",
              "2022-10-31            1.427572             1.447594  ...   \n",
              "2022-11-30            1.621862             1.346924  ...   \n",
              "2022-12-31            1.816153             1.346924  ...   \n",
              "\n",
              "            Pilbara Mineral Limited_price_Low  \\\n",
              "ds                                              \n",
              "2016-01-31                          -0.830830   \n",
              "2016-02-29                          -0.752678   \n",
              "2016-03-31                          -0.733675   \n",
              "2016-04-30                          -0.525438   \n",
              "2016-05-31                          -0.391346   \n",
              "...                                       ...   \n",
              "2022-08-31                           2.245839   \n",
              "2022-09-30                           2.084336   \n",
              "2022-10-31                           2.354164   \n",
              "2022-11-30                           2.455263   \n",
              "2022-12-31                           1.981728   \n",
              "\n",
              "            Pilbara Mineral Limited_price_Close  \\\n",
              "ds                                                \n",
              "2016-01-31                            -0.827825   \n",
              "2016-02-29                            -0.750469   \n",
              "2016-03-31                            -0.731680   \n",
              "2016-04-30                            -0.509230   \n",
              "2016-05-31                            -0.377609   \n",
              "...                                         ...   \n",
              "2022-08-31                             2.264053   \n",
              "2022-09-30                             2.084871   \n",
              "2022-10-31                             2.362142   \n",
              "2022-11-30                             2.452607   \n",
              "2022-12-31                             1.959693   \n",
              "\n",
              "            Pilbara Mineral Limited_price_Adj Close  \\\n",
              "ds                                                    \n",
              "2016-01-31                                -0.397665   \n",
              "2016-02-29                                -0.397665   \n",
              "2016-03-31                                -0.397665   \n",
              "2016-04-30                                -0.397665   \n",
              "2016-05-31                                -0.397665   \n",
              "...                                             ...   \n",
              "2022-08-31                                 2.410643   \n",
              "2022-09-30                                 1.970948   \n",
              "2022-10-31                                 2.222022   \n",
              "2022-11-30                                 2.303940   \n",
              "2022-12-31                                 1.857597   \n",
              "\n",
              "            Allkem Limited (AKE.AX)_price_Open  \\\n",
              "ds                                               \n",
              "2016-01-31                           -0.915916   \n",
              "2016-02-29                           -0.910118   \n",
              "2016-03-31                           -0.833402   \n",
              "2016-04-30                           -0.691659   \n",
              "2016-05-31                           -0.497700   \n",
              "...                                        ...   \n",
              "2022-08-31                            2.144853   \n",
              "2022-09-30                            2.828439   \n",
              "2022-10-31                            2.765597   \n",
              "2022-11-30                            2.830058   \n",
              "2022-12-31                            2.230517   \n",
              "\n",
              "            Allkem Limited (AKE.AX)_price_High  \\\n",
              "ds                                               \n",
              "2016-01-31                           -0.911882   \n",
              "2016-02-29                           -0.915569   \n",
              "2016-03-31                           -0.834459   \n",
              "2016-04-30                           -0.695181   \n",
              "2016-05-31                           -0.494779   \n",
              "...                                        ...   \n",
              "2022-08-31                            2.155770   \n",
              "2022-09-30                            2.823884   \n",
              "2022-10-31                            2.782167   \n",
              "2022-11-30                            2.817705   \n",
              "2022-12-31                            2.206089   \n",
              "\n",
              "            Allkem Limited (AKE.AX)_price_Low  \\\n",
              "ds                                              \n",
              "2016-01-31                          -0.921663   \n",
              "2016-02-29                          -0.908508   \n",
              "2016-03-31                          -0.834589   \n",
              "2016-04-30                          -0.693237   \n",
              "2016-05-31                          -0.496022   \n",
              "...                                       ...   \n",
              "2022-08-31                           2.181382   \n",
              "2022-09-30                           2.834908   \n",
              "2022-10-31                           2.764528   \n",
              "2022-11-30                           2.816214   \n",
              "2022-12-31                           2.211335   \n",
              "\n",
              "            Allkem Limited (AKE.AX)_price_Close  \\\n",
              "ds                                                \n",
              "2016-01-31                            -0.909069   \n",
              "2016-02-29                            -0.916207   \n",
              "2016-03-31                            -0.834453   \n",
              "2016-04-30                            -0.700107   \n",
              "2016-05-31                            -0.493870   \n",
              "...                                         ...   \n",
              "2022-08-31                             2.184215   \n",
              "2022-09-30                             2.836251   \n",
              "2022-10-31                             2.761120   \n",
              "2022-11-30                             2.795982   \n",
              "2022-12-31                             2.207568   \n",
              "\n",
              "            Allkem Limited (AKE.AX)_price_Adj Close    NBEATSx       NHITS  \n",
              "ds                                                                          \n",
              "2016-01-31                                -0.909069        NaN         NaN  \n",
              "2016-02-29                                -0.916207        NaN         NaN  \n",
              "2016-03-31                                -0.834453        NaN         NaN  \n",
              "2016-04-30                                -0.700107        NaN         NaN  \n",
              "2016-05-31                                -0.493870        NaN         NaN  \n",
              "...                                             ...        ...         ...  \n",
              "2022-08-31                                 2.184215  75.197159  135.706818  \n",
              "2022-09-30                                 2.836251  76.052681  127.462090  \n",
              "2022-10-31                                 2.761120  78.720299  117.633171  \n",
              "2022-11-30                                 2.795982  75.798584  115.082123  \n",
              "2022-12-31                                 2.207568  76.812515  118.393883  \n",
              "\n",
              "[84 rows x 926 columns]"
            ]
          },
          "execution_count": 62,
          "metadata": {},
          "output_type": "execute_result"
        }
      ],
      "source": [
        "plot_df"
      ]
    },
    {
      "cell_type": "code",
      "execution_count": null,
      "id": "b570be7d-7248-4615-b95f-fbb9a56ba9fc",
      "metadata": {
        "tags": [],
        "id": "b570be7d-7248-4615-b95f-fbb9a56ba9fc"
      },
      "outputs": [],
      "source": [
        "plot_df[['y', 'NHITS']].to_csv(f'./data/forecast_plot_{cutoff_date}_wv.csv',index=False)"
      ]
    },
    {
      "cell_type": "code",
      "execution_count": null,
      "id": "c1e136c9-b15c-4364-8515-ee8c446c2ca5",
      "metadata": {
        "id": "c1e136c9-b15c-4364-8515-ee8c446c2ca5"
      },
      "outputs": [],
      "source": [
        "# pip install jupyterlab_widgets"
      ]
    },
    {
      "cell_type": "code",
      "execution_count": null,
      "id": "11224407-837a-4bb5-8999-1f187fc0d65e",
      "metadata": {
        "id": "11224407-837a-4bb5-8999-1f187fc0d65e"
      },
      "outputs": [],
      "source": []
    }
  ],
  "metadata": {
    "kernelspec": {
      "display_name": "Python 3 (ipykernel)",
      "language": "python",
      "name": "python3"
    },
    "language_info": {
      "codemirror_mode": {
        "name": "ipython",
        "version": 3
      },
      "file_extension": ".py",
      "mimetype": "text/x-python",
      "name": "python",
      "nbconvert_exporter": "python",
      "pygments_lexer": "ipython3",
      "version": "3.8.16"
    },
    "colab": {
      "provenance": [],
      "include_colab_link": true
    }
  },
  "nbformat": 4,
  "nbformat_minor": 5
}