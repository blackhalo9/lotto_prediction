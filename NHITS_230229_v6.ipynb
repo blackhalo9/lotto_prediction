{
 "cells": [
  {
   "cell_type": "code",
   "execution_count": 21,
   "id": "2c709f33-1bfc-4a02-86f6-cd5c76467514",
   "metadata": {
    "tags": []
   },
   "outputs": [
    {
     "name": "stdout",
     "output_type": "stream",
     "text": [
      "C:\\Users\\ESKO\\PYWORK\\NHITS\n"
     ]
    }
   ],
   "source": [
    "import os, torch\n",
    "os.chdir(\"/Users/ESKO/PYWORK/NHITS\")\n",
    "print(os.getcwd())"
   ]
  },
  {
   "cell_type": "code",
   "execution_count": 22,
   "id": "1130c92b-7119-401d-8c4e-99b9474f1fb0",
   "metadata": {
    "tags": []
   },
   "outputs": [],
   "source": [
    "import numpy as np\n",
    "import pandas as pd\n",
    "import pytorch_lightning as pl\n",
    "import matplotlib.pyplot as plt\n",
    "\n",
    "from ray import tune\n",
    "from sklearn.preprocessing import StandardScaler\n",
    "\n",
    "from neuralforecast import NeuralForecast\n",
    "from neuralforecast.auto import AutoTFT\n",
    "from neuralforecast.models import NBEATS, NBEATSx, NHITS, TFT\n",
    "from neuralforecast.losses.pytorch import MQLoss, DistributionLoss, GMM, PMM\n",
    "from neuralforecast.tsdataset import TimeSeriesDataset\n",
    "from neuralforecast.losses.pytorch import MAE"
   ]
  },
  {
   "cell_type": "markdown",
   "id": "092e974b-728b-448b-aca0-03a9c91b7fff",
   "metadata": {},
   "source": [
    "## <기준날짜 및 예측 기간 설정>"
   ]
  },
  {
   "cell_type": "code",
   "execution_count": 23,
   "id": "f91c564f-7439-4f72-9730-ed3e3ccdd549",
   "metadata": {
    "tags": []
   },
   "outputs": [],
   "source": [
    "cutoff_date = '2022-04-30' ## len = 65, 월별 마지막 일자 잘 맞춰 줘야 함\n",
    "test_period = 8 ## 예측 기간 (월)\n",
    "corr_rate = 0.8 ## Lag corr rate"
   ]
  },
  {
   "cell_type": "markdown",
   "id": "60de4ab8-1f14-4139-951e-77f82ba87471",
   "metadata": {},
   "source": [
    "## <원 data set>"
   ]
  },
  {
   "cell_type": "code",
   "execution_count": 24,
   "id": "01ff22bb-7a0d-48ea-9ba3-2c3531f1361f",
   "metadata": {
    "tags": []
   },
   "outputs": [],
   "source": [
    "df = pd.read_csv('./data/metal_pst.csv')\n",
    "df.rename(columns={'date':'ds'},inplace=True)\n",
    "df.rename(columns={'li2co3_cif_fast_kg_spot_exchng':'y'},inplace=True)\n",
    "df['ds'] = pd.to_datetime(df['ds'], format='%Y-%m-%d')\n",
    "\n",
    "raw_y_set_resampled = df.copy()\n",
    "raw_y_set_resampled.rename(columns={'ds':'date'},inplace=True)\n",
    "raw_y_set_resampled.rename(columns={'lioh_cif_fast_kg_spot_exchng':'y2'},inplace=True)\n",
    "del raw_y_set_resampled['unique_id']"
   ]
  },
  {
   "cell_type": "markdown",
   "id": "8a1f5486-9f68-4806-beb7-22fa9219aad0",
   "metadata": {},
   "source": [
    "## Feature shift"
   ]
  },
  {
   "cell_type": "code",
   "execution_count": 25,
   "id": "f178475b-3d21-42b8-a56a-9fe5a627349f",
   "metadata": {
    "tags": []
   },
   "outputs": [
    {
     "name": "stdout",
     "output_type": "stream",
     "text": [
      "CPU times: total: 11.4 s\n",
      "Wall time: 25.6 s\n"
     ]
    }
   ],
   "source": [
    "%%time\n",
    "\n",
    "raw_y_set_resampled = raw_y_set_resampled[raw_y_set_resampled.date<=cutoff_date]\n",
    "raw_y_set_shifted_merged = raw_y_set_resampled['date']\n",
    "\n",
    "for i in range(len(raw_y_set_resampled.columns)):\n",
    "    if i == len(raw_y_set_resampled.columns) - 1:\n",
    "        break\n",
    "    raw_y_set_shifted = raw_y_set_resampled.iloc[:,[0,i+1]].dropna()\n",
    "    for j in range(test_period-1,test_period):\n",
    "        raw_y_set_shifted = pd.concat([raw_y_set_shifted, (raw_y_set_shifted.iloc[:,1].shift(j+1).rename(raw_y_set_resampled.columns[i+1] + '_' +str(j+1)+ '_'))],axis=1)\n",
    "        raw_y_set_shifted_merged = pd.merge(raw_y_set_shifted_merged, raw_y_set_shifted, how= 'outer') \n",
    "        if j == len(raw_y_set_shifted.iloc[:,1]) -2 :\n",
    "            break\n",
    "# raw_y_set_shifted_merged.to_csv('./data/raw_y_set_shifted_merged.csv', encoding='cp949')"
   ]
  },
  {
   "cell_type": "code",
   "execution_count": 26,
   "id": "9fc707b4-cf82-4eaf-855c-2e44514a2b57",
   "metadata": {
    "tags": []
   },
   "outputs": [
    {
     "data": {
      "text/html": [
       "<div>\n",
       "<style scoped>\n",
       "    .dataframe tbody tr th:only-of-type {\n",
       "        vertical-align: middle;\n",
       "    }\n",
       "\n",
       "    .dataframe tbody tr th {\n",
       "        vertical-align: top;\n",
       "    }\n",
       "\n",
       "    .dataframe thead th {\n",
       "        text-align: right;\n",
       "    }\n",
       "</style>\n",
       "<table border=\"1\" class=\"dataframe\">\n",
       "  <thead>\n",
       "    <tr style=\"text-align: right;\">\n",
       "      <th></th>\n",
       "      <th>date</th>\n",
       "      <th>y</th>\n",
       "      <th>y_8_</th>\n",
       "      <th>y2</th>\n",
       "      <th>y2_8_</th>\n",
       "      <th>Baltic Dry Index (BDI)</th>\n",
       "      <th>Baltic Dry Index (BDI)_8_</th>\n",
       "      <th>Howe Robinson Container Index</th>\n",
       "      <th>Howe Robinson Container Index_8_</th>\n",
       "      <th>Shanghai Containerized Freight Index (SCFI)</th>\n",
       "      <th>...</th>\n",
       "      <th>Allkem Limited (AKE.AX)_price_Open</th>\n",
       "      <th>Allkem Limited (AKE.AX)_price_Open_8_</th>\n",
       "      <th>Allkem Limited (AKE.AX)_price_High</th>\n",
       "      <th>Allkem Limited (AKE.AX)_price_High_8_</th>\n",
       "      <th>Allkem Limited (AKE.AX)_price_Low</th>\n",
       "      <th>Allkem Limited (AKE.AX)_price_Low_8_</th>\n",
       "      <th>Allkem Limited (AKE.AX)_price_Close</th>\n",
       "      <th>Allkem Limited (AKE.AX)_price_Close_8_</th>\n",
       "      <th>Allkem Limited (AKE.AX)_price_Adj Close</th>\n",
       "      <th>Allkem Limited (AKE.AX)_price_Adj Close_8_</th>\n",
       "    </tr>\n",
       "  </thead>\n",
       "  <tbody>\n",
       "    <tr>\n",
       "      <th>0</th>\n",
       "      <td>2016-01-31</td>\n",
       "      <td>20.177268</td>\n",
       "      <td>NaN</td>\n",
       "      <td>20.680110</td>\n",
       "      <td>NaN</td>\n",
       "      <td>386.300000</td>\n",
       "      <td>NaN</td>\n",
       "      <td>449.750000</td>\n",
       "      <td>NaN</td>\n",
       "      <td>1051.760000</td>\n",
       "      <td>...</td>\n",
       "      <td>2.408986</td>\n",
       "      <td>NaN</td>\n",
       "      <td>2.484987</td>\n",
       "      <td>NaN</td>\n",
       "      <td>2.331150</td>\n",
       "      <td>NaN</td>\n",
       "      <td>2.432048</td>\n",
       "      <td>NaN</td>\n",
       "      <td>2.432048</td>\n",
       "      <td>NaN</td>\n",
       "    </tr>\n",
       "    <tr>\n",
       "      <th>1</th>\n",
       "      <td>2016-02-29</td>\n",
       "      <td>23.306868</td>\n",
       "      <td>NaN</td>\n",
       "      <td>24.462716</td>\n",
       "      <td>NaN</td>\n",
       "      <td>306.904762</td>\n",
       "      <td>NaN</td>\n",
       "      <td>447.750000</td>\n",
       "      <td>NaN</td>\n",
       "      <td>1066.213333</td>\n",
       "      <td>...</td>\n",
       "      <td>2.428055</td>\n",
       "      <td>NaN</td>\n",
       "      <td>2.472632</td>\n",
       "      <td>NaN</td>\n",
       "      <td>2.373518</td>\n",
       "      <td>NaN</td>\n",
       "      <td>2.408611</td>\n",
       "      <td>NaN</td>\n",
       "      <td>2.408611</td>\n",
       "      <td>NaN</td>\n",
       "    </tr>\n",
       "    <tr>\n",
       "      <th>2</th>\n",
       "      <td>2016-03-31</td>\n",
       "      <td>25.223010</td>\n",
       "      <td>NaN</td>\n",
       "      <td>28.364874</td>\n",
       "      <td>NaN</td>\n",
       "      <td>383.333333</td>\n",
       "      <td>NaN</td>\n",
       "      <td>449.000000</td>\n",
       "      <td>NaN</td>\n",
       "      <td>868.470000</td>\n",
       "      <td>...</td>\n",
       "      <td>2.680345</td>\n",
       "      <td>NaN</td>\n",
       "      <td>2.744366</td>\n",
       "      <td>NaN</td>\n",
       "      <td>2.611581</td>\n",
       "      <td>NaN</td>\n",
       "      <td>2.677025</td>\n",
       "      <td>NaN</td>\n",
       "      <td>2.677025</td>\n",
       "      <td>NaN</td>\n",
       "    </tr>\n",
       "    <tr>\n",
       "      <th>3</th>\n",
       "      <td>2016-04-30</td>\n",
       "      <td>25.308243</td>\n",
       "      <td>NaN</td>\n",
       "      <td>29.181978</td>\n",
       "      <td>NaN</td>\n",
       "      <td>607.476191</td>\n",
       "      <td>NaN</td>\n",
       "      <td>443.000000</td>\n",
       "      <td>NaN</td>\n",
       "      <td>748.392000</td>\n",
       "      <td>...</td>\n",
       "      <td>3.146489</td>\n",
       "      <td>NaN</td>\n",
       "      <td>3.210972</td>\n",
       "      <td>NaN</td>\n",
       "      <td>3.066818</td>\n",
       "      <td>NaN</td>\n",
       "      <td>3.118106</td>\n",
       "      <td>NaN</td>\n",
       "      <td>3.118106</td>\n",
       "      <td>NaN</td>\n",
       "    </tr>\n",
       "    <tr>\n",
       "      <th>4</th>\n",
       "      <td>2016-05-31</td>\n",
       "      <td>24.875099</td>\n",
       "      <td>NaN</td>\n",
       "      <td>27.810405</td>\n",
       "      <td>NaN</td>\n",
       "      <td>619.900000</td>\n",
       "      <td>NaN</td>\n",
       "      <td>447.000000</td>\n",
       "      <td>NaN</td>\n",
       "      <td>731.347500</td>\n",
       "      <td>...</td>\n",
       "      <td>3.784351</td>\n",
       "      <td>NaN</td>\n",
       "      <td>3.882355</td>\n",
       "      <td>NaN</td>\n",
       "      <td>3.701965</td>\n",
       "      <td>NaN</td>\n",
       "      <td>3.795215</td>\n",
       "      <td>NaN</td>\n",
       "      <td>3.795215</td>\n",
       "      <td>NaN</td>\n",
       "    </tr>\n",
       "    <tr>\n",
       "      <th>...</th>\n",
       "      <td>...</td>\n",
       "      <td>...</td>\n",
       "      <td>...</td>\n",
       "      <td>...</td>\n",
       "      <td>...</td>\n",
       "      <td>...</td>\n",
       "      <td>...</td>\n",
       "      <td>...</td>\n",
       "      <td>...</td>\n",
       "      <td>...</td>\n",
       "      <td>...</td>\n",
       "      <td>...</td>\n",
       "      <td>...</td>\n",
       "      <td>...</td>\n",
       "      <td>...</td>\n",
       "      <td>...</td>\n",
       "      <td>...</td>\n",
       "      <td>...</td>\n",
       "      <td>...</td>\n",
       "      <td>...</td>\n",
       "      <td>...</td>\n",
       "    </tr>\n",
       "    <tr>\n",
       "      <th>71</th>\n",
       "      <td>2021-12-31</td>\n",
       "      <td>33.043478</td>\n",
       "      <td>11.326087</td>\n",
       "      <td>31.521739</td>\n",
       "      <td>12.097826</td>\n",
       "      <td>2832.111111</td>\n",
       "      <td>2475.050000</td>\n",
       "      <td>4509.000000</td>\n",
       "      <td>1854.500000</td>\n",
       "      <td>2455.538000</td>\n",
       "      <td>...</td>\n",
       "      <td>9.318571</td>\n",
       "      <td>5.991500</td>\n",
       "      <td>9.517619</td>\n",
       "      <td>6.180250</td>\n",
       "      <td>9.130952</td>\n",
       "      <td>5.885000</td>\n",
       "      <td>9.347143</td>\n",
       "      <td>6.069500</td>\n",
       "      <td>9.347143</td>\n",
       "      <td>6.069500</td>\n",
       "    </tr>\n",
       "    <tr>\n",
       "      <th>72</th>\n",
       "      <td>2022-01-31</td>\n",
       "      <td>43.260870</td>\n",
       "      <td>12.727273</td>\n",
       "      <td>38.652174</td>\n",
       "      <td>13.147727</td>\n",
       "      <td>1760.800000</td>\n",
       "      <td>2965.263158</td>\n",
       "      <td>4743.750000</td>\n",
       "      <td>2147.500000</td>\n",
       "      <td>2871.495000</td>\n",
       "      <td>...</td>\n",
       "      <td>10.718947</td>\n",
       "      <td>6.549524</td>\n",
       "      <td>10.927368</td>\n",
       "      <td>6.685714</td>\n",
       "      <td>10.405789</td>\n",
       "      <td>6.385714</td>\n",
       "      <td>10.625263</td>\n",
       "      <td>6.538095</td>\n",
       "      <td>10.625263</td>\n",
       "      <td>6.538095</td>\n",
       "    </tr>\n",
       "    <tr>\n",
       "      <th>73</th>\n",
       "      <td>2022-02-28</td>\n",
       "      <td>56.425000</td>\n",
       "      <td>13.340909</td>\n",
       "      <td>51.862500</td>\n",
       "      <td>14.329545</td>\n",
       "      <td>1834.900000</td>\n",
       "      <td>2932.000000</td>\n",
       "      <td>5252.250000</td>\n",
       "      <td>2568.800000</td>\n",
       "      <td>2840.395000</td>\n",
       "      <td>...</td>\n",
       "      <td>9.265000</td>\n",
       "      <td>6.393333</td>\n",
       "      <td>9.474000</td>\n",
       "      <td>6.519524</td>\n",
       "      <td>9.046250</td>\n",
       "      <td>6.271905</td>\n",
       "      <td>9.249500</td>\n",
       "      <td>6.379048</td>\n",
       "      <td>9.249500</td>\n",
       "      <td>6.379048</td>\n",
       "    </tr>\n",
       "    <tr>\n",
       "      <th>74</th>\n",
       "      <td>2022-03-31</td>\n",
       "      <td>71.086957</td>\n",
       "      <td>14.045455</td>\n",
       "      <td>69.576087</td>\n",
       "      <td>15.465909</td>\n",
       "      <td>2464.086957</td>\n",
       "      <td>3187.954545</td>\n",
       "      <td>5771.000000</td>\n",
       "      <td>3357.333333</td>\n",
       "      <td>2628.505000</td>\n",
       "      <td>...</td>\n",
       "      <td>10.260870</td>\n",
       "      <td>7.128636</td>\n",
       "      <td>10.461304</td>\n",
       "      <td>7.297500</td>\n",
       "      <td>10.055217</td>\n",
       "      <td>7.026591</td>\n",
       "      <td>10.266087</td>\n",
       "      <td>7.171818</td>\n",
       "      <td>10.266087</td>\n",
       "      <td>7.171818</td>\n",
       "    </tr>\n",
       "    <tr>\n",
       "      <th>75</th>\n",
       "      <td>2022-04-30</td>\n",
       "      <td>75.804348</td>\n",
       "      <td>14.590909</td>\n",
       "      <td>81.173913</td>\n",
       "      <td>16.000000</td>\n",
       "      <td>2220.368421</td>\n",
       "      <td>3720.000000</td>\n",
       "      <td>5680.666667</td>\n",
       "      <td>4260.500000</td>\n",
       "      <td>2830.292000</td>\n",
       "      <td>...</td>\n",
       "      <td>12.851111</td>\n",
       "      <td>8.985455</td>\n",
       "      <td>13.148333</td>\n",
       "      <td>9.192500</td>\n",
       "      <td>12.563889</td>\n",
       "      <td>8.762500</td>\n",
       "      <td>12.842222</td>\n",
       "      <td>8.986818</td>\n",
       "      <td>12.842222</td>\n",
       "      <td>8.986818</td>\n",
       "    </tr>\n",
       "  </tbody>\n",
       "</table>\n",
       "<p>76 rows × 1847 columns</p>\n",
       "</div>"
      ],
      "text/plain": [
       "         date          y       y_8_         y2      y2_8_  \\\n",
       "0  2016-01-31  20.177268        NaN  20.680110        NaN   \n",
       "1  2016-02-29  23.306868        NaN  24.462716        NaN   \n",
       "2  2016-03-31  25.223010        NaN  28.364874        NaN   \n",
       "3  2016-04-30  25.308243        NaN  29.181978        NaN   \n",
       "4  2016-05-31  24.875099        NaN  27.810405        NaN   \n",
       "..        ...        ...        ...        ...        ...   \n",
       "71 2021-12-31  33.043478  11.326087  31.521739  12.097826   \n",
       "72 2022-01-31  43.260870  12.727273  38.652174  13.147727   \n",
       "73 2022-02-28  56.425000  13.340909  51.862500  14.329545   \n",
       "74 2022-03-31  71.086957  14.045455  69.576087  15.465909   \n",
       "75 2022-04-30  75.804348  14.590909  81.173913  16.000000   \n",
       "\n",
       "    Baltic Dry Index (BDI)  Baltic Dry Index (BDI)_8_  \\\n",
       "0               386.300000                        NaN   \n",
       "1               306.904762                        NaN   \n",
       "2               383.333333                        NaN   \n",
       "3               607.476191                        NaN   \n",
       "4               619.900000                        NaN   \n",
       "..                     ...                        ...   \n",
       "71             2832.111111                2475.050000   \n",
       "72             1760.800000                2965.263158   \n",
       "73             1834.900000                2932.000000   \n",
       "74             2464.086957                3187.954545   \n",
       "75             2220.368421                3720.000000   \n",
       "\n",
       "    Howe Robinson Container Index  Howe Robinson Container Index_8_  \\\n",
       "0                      449.750000                               NaN   \n",
       "1                      447.750000                               NaN   \n",
       "2                      449.000000                               NaN   \n",
       "3                      443.000000                               NaN   \n",
       "4                      447.000000                               NaN   \n",
       "..                            ...                               ...   \n",
       "71                    4509.000000                       1854.500000   \n",
       "72                    4743.750000                       2147.500000   \n",
       "73                    5252.250000                       2568.800000   \n",
       "74                    5771.000000                       3357.333333   \n",
       "75                    5680.666667                       4260.500000   \n",
       "\n",
       "    Shanghai Containerized Freight Index (SCFI)  ...  \\\n",
       "0                                   1051.760000  ...   \n",
       "1                                   1066.213333  ...   \n",
       "2                                    868.470000  ...   \n",
       "3                                    748.392000  ...   \n",
       "4                                    731.347500  ...   \n",
       "..                                          ...  ...   \n",
       "71                                  2455.538000  ...   \n",
       "72                                  2871.495000  ...   \n",
       "73                                  2840.395000  ...   \n",
       "74                                  2628.505000  ...   \n",
       "75                                  2830.292000  ...   \n",
       "\n",
       "    Allkem Limited (AKE.AX)_price_Open  Allkem Limited (AKE.AX)_price_Open_8_  \\\n",
       "0                             2.408986                                    NaN   \n",
       "1                             2.428055                                    NaN   \n",
       "2                             2.680345                                    NaN   \n",
       "3                             3.146489                                    NaN   \n",
       "4                             3.784351                                    NaN   \n",
       "..                                 ...                                    ...   \n",
       "71                            9.318571                               5.991500   \n",
       "72                           10.718947                               6.549524   \n",
       "73                            9.265000                               6.393333   \n",
       "74                           10.260870                               7.128636   \n",
       "75                           12.851111                               8.985455   \n",
       "\n",
       "    Allkem Limited (AKE.AX)_price_High  Allkem Limited (AKE.AX)_price_High_8_  \\\n",
       "0                             2.484987                                    NaN   \n",
       "1                             2.472632                                    NaN   \n",
       "2                             2.744366                                    NaN   \n",
       "3                             3.210972                                    NaN   \n",
       "4                             3.882355                                    NaN   \n",
       "..                                 ...                                    ...   \n",
       "71                            9.517619                               6.180250   \n",
       "72                           10.927368                               6.685714   \n",
       "73                            9.474000                               6.519524   \n",
       "74                           10.461304                               7.297500   \n",
       "75                           13.148333                               9.192500   \n",
       "\n",
       "    Allkem Limited (AKE.AX)_price_Low  Allkem Limited (AKE.AX)_price_Low_8_  \\\n",
       "0                            2.331150                                   NaN   \n",
       "1                            2.373518                                   NaN   \n",
       "2                            2.611581                                   NaN   \n",
       "3                            3.066818                                   NaN   \n",
       "4                            3.701965                                   NaN   \n",
       "..                                ...                                   ...   \n",
       "71                           9.130952                              5.885000   \n",
       "72                          10.405789                              6.385714   \n",
       "73                           9.046250                              6.271905   \n",
       "74                          10.055217                              7.026591   \n",
       "75                          12.563889                              8.762500   \n",
       "\n",
       "    Allkem Limited (AKE.AX)_price_Close  \\\n",
       "0                              2.432048   \n",
       "1                              2.408611   \n",
       "2                              2.677025   \n",
       "3                              3.118106   \n",
       "4                              3.795215   \n",
       "..                                  ...   \n",
       "71                             9.347143   \n",
       "72                            10.625263   \n",
       "73                             9.249500   \n",
       "74                            10.266087   \n",
       "75                            12.842222   \n",
       "\n",
       "    Allkem Limited (AKE.AX)_price_Close_8_  \\\n",
       "0                                      NaN   \n",
       "1                                      NaN   \n",
       "2                                      NaN   \n",
       "3                                      NaN   \n",
       "4                                      NaN   \n",
       "..                                     ...   \n",
       "71                                6.069500   \n",
       "72                                6.538095   \n",
       "73                                6.379048   \n",
       "74                                7.171818   \n",
       "75                                8.986818   \n",
       "\n",
       "    Allkem Limited (AKE.AX)_price_Adj Close  \\\n",
       "0                                  2.432048   \n",
       "1                                  2.408611   \n",
       "2                                  2.677025   \n",
       "3                                  3.118106   \n",
       "4                                  3.795215   \n",
       "..                                      ...   \n",
       "71                                 9.347143   \n",
       "72                                10.625263   \n",
       "73                                 9.249500   \n",
       "74                                10.266087   \n",
       "75                                12.842222   \n",
       "\n",
       "    Allkem Limited (AKE.AX)_price_Adj Close_8_  \n",
       "0                                          NaN  \n",
       "1                                          NaN  \n",
       "2                                          NaN  \n",
       "3                                          NaN  \n",
       "4                                          NaN  \n",
       "..                                         ...  \n",
       "71                                    6.069500  \n",
       "72                                    6.538095  \n",
       "73                                    6.379048  \n",
       "74                                    7.171818  \n",
       "75                                    8.986818  \n",
       "\n",
       "[76 rows x 1847 columns]"
      ]
     },
     "execution_count": 26,
     "metadata": {},
     "output_type": "execute_result"
    }
   ],
   "source": [
    "raw_y_set_shifted_merged"
   ]
  },
  {
   "cell_type": "markdown",
   "id": "4889fa8d-cdb7-4a0c-a705-894d1746bdb7",
   "metadata": {},
   "source": [
    "#### 해당 기간에서의 12{test_period} lag corr best"
   ]
  },
  {
   "cell_type": "code",
   "execution_count": 27,
   "id": "637d45e9-c3d2-4965-af8f-5553849d1f41",
   "metadata": {
    "tags": []
   },
   "outputs": [
    {
     "data": {
      "text/plain": [
       "['Howe Robinson Container Index',\n",
       " 'mn_mb_kg',\n",
       " 'CCI_SWE',\n",
       " '옥수수 For Grain [미국(생산자 가격)] 현물',\n",
       " 'African Rainbow(AFBOF)_Adj Close',\n",
       " '소맥 Durum [미국(생산자 가격)] 현물',\n",
       " '002466.SZ(Tianqi Lithium)_price_Adj Close',\n",
       " '002466.SZ(Tianqi Lithium)_price_High',\n",
       " '002466.SZ(Tianqi Lithium)_price_Close']"
      ]
     },
     "execution_count": 27,
     "metadata": {},
     "output_type": "execute_result"
    }
   ],
   "source": [
    "raw_y_set_shifted_merged_corr = raw_y_set_shifted_merged.corr()\n",
    "raw_y_set_shifted_merged_filtered = raw_y_set_shifted_merged_corr[raw_y_set_resampled.columns.drop('date')]\n",
    "# raw_y_set_shifted_merged_filtered.sort_values('y',ascending=False)\n",
    "raw_y_set_shifted_merged_filtered = raw_y_set_shifted_merged_filtered[raw_y_set_shifted_merged_filtered.index.str.contains('y')==False]\n",
    "raw_y_set_shifted_merged_filtered = raw_y_set_shifted_merged_filtered[raw_y_set_shifted_merged_filtered.index.str.contains('y2')==False]\n",
    "raw_y_set_shifted_merged_filtered_y = raw_y_set_shifted_merged_filtered.iloc[:,:1]\n",
    "raw_y_set_shifted_merged_filtered_upto_corr_rate = raw_y_set_shifted_merged_filtered_y[raw_y_set_shifted_merged_filtered_y.y >= corr_rate]\n",
    "raw_y_set_shifted_merged_filtered_upto_corr_rate = raw_y_set_shifted_merged_filtered_upto_corr_rate[raw_y_set_shifted_merged_filtered_upto_corr_rate.index.str.contains(f'_{test_period}')]\n",
    "raw_y_set_shifted_merged_filtered_upto_corr_rate = raw_y_set_shifted_merged_filtered_upto_corr_rate.sort_values('y',ascending=False)\n",
    "futr_list = raw_y_set_shifted_merged_filtered_upto_corr_rate.index.values.tolist()\n",
    "futr_list = [word.strip(f'_{test_period}') for word in futr_list ]\n",
    "\n",
    "# futr_list.remove('y')\n",
    "# futr_list.remove('y2')\n",
    "\n",
    "futr_list"
   ]
  },
  {
   "cell_type": "code",
   "execution_count": 28,
   "id": "230a8441-1a74-4fc1-bbd7-a371e13abe18",
   "metadata": {
    "tags": []
   },
   "outputs": [
    {
     "data": {
      "text/html": [
       "<div>\n",
       "<style scoped>\n",
       "    .dataframe tbody tr th:only-of-type {\n",
       "        vertical-align: middle;\n",
       "    }\n",
       "\n",
       "    .dataframe tbody tr th {\n",
       "        vertical-align: top;\n",
       "    }\n",
       "\n",
       "    .dataframe thead th {\n",
       "        text-align: right;\n",
       "    }\n",
       "</style>\n",
       "<table border=\"1\" class=\"dataframe\">\n",
       "  <thead>\n",
       "    <tr style=\"text-align: right;\">\n",
       "      <th></th>\n",
       "      <th>y</th>\n",
       "    </tr>\n",
       "  </thead>\n",
       "  <tbody>\n",
       "    <tr>\n",
       "      <th>Howe Robinson Container Index_8_</th>\n",
       "      <td>0.868455</td>\n",
       "    </tr>\n",
       "    <tr>\n",
       "      <th>mn_mb_kg_8_</th>\n",
       "      <td>0.842373</td>\n",
       "    </tr>\n",
       "    <tr>\n",
       "      <th>CCI_SWE_8_</th>\n",
       "      <td>0.835063</td>\n",
       "    </tr>\n",
       "    <tr>\n",
       "      <th>옥수수 For Grain [미국(생산자 가격)] 현물_8_</th>\n",
       "      <td>0.816466</td>\n",
       "    </tr>\n",
       "    <tr>\n",
       "      <th>African Rainbow(AFBOF)_Adj Close_8_</th>\n",
       "      <td>0.805874</td>\n",
       "    </tr>\n",
       "    <tr>\n",
       "      <th>소맥 Durum [미국(생산자 가격)] 현물_8_</th>\n",
       "      <td>0.803358</td>\n",
       "    </tr>\n",
       "    <tr>\n",
       "      <th>002466.SZ(Tianqi Lithium)_price_Adj Close_8_</th>\n",
       "      <td>0.802691</td>\n",
       "    </tr>\n",
       "    <tr>\n",
       "      <th>002466.SZ(Tianqi Lithium)_price_High_8_</th>\n",
       "      <td>0.802597</td>\n",
       "    </tr>\n",
       "    <tr>\n",
       "      <th>002466.SZ(Tianqi Lithium)_price_Close_8_</th>\n",
       "      <td>0.800593</td>\n",
       "    </tr>\n",
       "  </tbody>\n",
       "</table>\n",
       "</div>"
      ],
      "text/plain": [
       "                                                     y\n",
       "Howe Robinson Container Index_8_              0.868455\n",
       "mn_mb_kg_8_                                   0.842373\n",
       "CCI_SWE_8_                                    0.835063\n",
       "옥수수 For Grain [미국(생산자 가격)] 현물_8_              0.816466\n",
       "African Rainbow(AFBOF)_Adj Close_8_           0.805874\n",
       "소맥 Durum [미국(생산자 가격)] 현물_8_                   0.803358\n",
       "002466.SZ(Tianqi Lithium)_price_Adj Close_8_  0.802691\n",
       "002466.SZ(Tianqi Lithium)_price_High_8_       0.802597\n",
       "002466.SZ(Tianqi Lithium)_price_Close_8_      0.800593"
      ]
     },
     "execution_count": 28,
     "metadata": {},
     "output_type": "execute_result"
    }
   ],
   "source": [
    "raw_y_set_shifted_merged_filtered_upto_corr_rate"
   ]
  },
  {
   "cell_type": "markdown",
   "id": "7e7e2423-991f-4d6b-882c-50617a2a65e1",
   "metadata": {},
   "source": [
    "#### 해당 기간에서의 12{test_period} corr best"
   ]
  },
  {
   "cell_type": "code",
   "execution_count": 29,
   "id": "e40279d3-f9f2-410e-88ac-452b91a2f75c",
   "metadata": {
    "tags": []
   },
   "outputs": [
    {
     "data": {
      "text/plain": [
       "['CPI_PRT_TOT_FOODENRG_AGRWTH',\n",
       " '대두 [미국(생산자 가격)] 현물',\n",
       " 'CPI_BEL_TOT_AGRWTH',\n",
       " '중국 니켈 SEMIS 수입량',\n",
       " 'CPI_PRT_TOT_AGRWTH',\n",
       " 'CPI_GBR_TOT_FOODENRG_AGRWTH',\n",
       " 'CPI_TUR_ENRG_AGRWTH',\n",
       " '대두유 crude and refined average price [파라나구아(FOB)] 현물',\n",
       " 'CPI_LTU_TOT_AGRWTH',\n",
       " 'CPI_GRC_TOT_AGRWTH',\n",
       " 'CPI_DNK_ENRG_IDX2015',\n",
       " 'al_lme_kg',\n",
       " 'CPI_BEL_ENRG_AGRWTH',\n",
       " 'CPI_OECD_TOT_FOODENRG_AGRWTH',\n",
       " 'PPP_POL',\n",
       " 'CPI_BEL_TOT_FOODENRG_AGRWTH',\n",
       " 'CPI_GRC_ENRG_IDX2015',\n",
       " 'CPI_KOR_TOT_FOODENRG_AGRWTH',\n",
       " 'CPI_LTU_FOOD_AGRWTH',\n",
       " 'CPI_NLD_ENRG_AGRWTH',\n",
       " 'CPI_EST_TOT_FOODENRG_AGRWTH',\n",
       " 'CPI_GRC_ENRG_AGRWTH',\n",
       " 'CPI_DNK_TOT_AGRWTH',\n",
       " 'Pilbara Mineral Limited_price_Adj Close',\n",
       " 'HOUSECOST_KOR',\n",
       " 'CPI_EST_TOT_AGRWTH',\n",
       " 'CPI_GBR_TOT_AGRWTH',\n",
       " 'CPI_ITA_TOT_AGRWTH',\n",
       " 'CPI_ESP_TOT_FOODENRG_AGRWTH',\n",
       " 'CPI_CHL_TOT_AGRWTH',\n",
       " 'CPI_SWE_TOT_AGRWTH']"
      ]
     },
     "execution_count": 29,
     "metadata": {},
     "output_type": "execute_result"
    }
   ],
   "source": [
    "hist_var_chcek = raw_y_set_resampled.iloc[:,1:]\n",
    "\n",
    "hist_var_corr = hist_var_chcek.corr()\n",
    "hist_var_corr_filtered = hist_var_corr.loc[hist_var_corr.index != 'y']\n",
    "hist_var_corr_filtered = hist_var_corr_filtered.loc[hist_var_corr_filtered.index != 'y2']\n",
    "hist_var_corr_filtered_y = hist_var_corr_filtered.iloc[:,:1]\n",
    "hist_var_corr_filtered_y_corr_rate = hist_var_corr_filtered_y[hist_var_corr_filtered_y.y >= corr_rate]\n",
    "hist_var_corr_filtered_y_only = hist_var_corr_filtered_y_corr_rate[hist_var_corr_filtered_y_corr_rate.index.str.contains('li2co3')==False]\n",
    "hist_var_corr_filtered_y_only = hist_var_corr_filtered_y_only[hist_var_corr_filtered_y_only.index.str.contains('lioh')==False]\n",
    "hist_var_corr_filtered_y_only = hist_var_corr_filtered_y_only.sort_values('y',ascending=False)\n",
    "hist_var_list = hist_var_corr_filtered_y_only.index.values.tolist()\n",
    "\n",
    "hist_var_list"
   ]
  },
  {
   "cell_type": "markdown",
   "id": "e8e986de-da6c-4b2d-9a92-6f5c9c8da01a",
   "metadata": {},
   "source": [
    "## scasler"
   ]
  },
  {
   "cell_type": "code",
   "execution_count": 30,
   "id": "3e37017b-fc8c-4ce2-93ff-3758d04817e2",
   "metadata": {
    "tags": []
   },
   "outputs": [],
   "source": [
    "# df_tgt = df.iloc[:,3:]\n",
    "\n",
    "# scaler = StandardScaler()\n",
    "# scaler.fit(df_tgt)\n",
    "# arr = scaler.transform(df_tgt)\n",
    "# df_tmp = pd.DataFrame(arr, columns=df_tgt.columns)\n",
    "# df = pd.concat([df.iloc[:,:3],df_tmp], axis=1)"
   ]
  },
  {
   "cell_type": "markdown",
   "id": "8a209346-8f24-44ee-ba3b-a08f80614190",
   "metadata": {
    "tags": []
   },
   "source": [
    "#### static DF"
   ]
  },
  {
   "cell_type": "code",
   "execution_count": 31,
   "id": "5ce7033a-2234-4bac-9087-91daee3af55a",
   "metadata": {
    "tags": []
   },
   "outputs": [],
   "source": [
    "static_df = pd.read_csv('/users/ESKO/PYWORK/NHITS/data/static_df.csv')"
   ]
  },
  {
   "cell_type": "markdown",
   "id": "d7fba8f2-a5ab-484b-b1ad-bda6ea55f7af",
   "metadata": {},
   "source": [
    "## <Training & Test>"
   ]
  },
  {
   "cell_type": "markdown",
   "id": "2135deb5-4427-45d2-b085-d0063d554f54",
   "metadata": {},
   "source": [
    "#### 날짜 확인"
   ]
  },
  {
   "cell_type": "code",
   "execution_count": 42,
   "id": "525afb1e-6ec3-4108-9c23-95cc5565c352",
   "metadata": {},
   "outputs": [],
   "source": [
    "# train = df.loc[df.ds < '2021-06-30']\n",
    "# test = df.loc[df.ds > '2021-06-30']"
   ]
  },
  {
   "cell_type": "markdown",
   "id": "9f95faab-68f4-4566-9494-35d2b646a7d7",
   "metadata": {},
   "source": [
    "#### 날짜 별 len 확인"
   ]
  },
  {
   "cell_type": "code",
   "execution_count": 43,
   "id": "8548a462-acb8-462e-afcb-94c8c29af9bd",
   "metadata": {
    "tags": []
   },
   "outputs": [],
   "source": [
    "# len(df.loc[df.ds<'2021-06-30'])"
   ]
  },
  {
   "cell_type": "code",
   "execution_count": 32,
   "id": "b9cbbd7a-3eb3-43be-84fe-2f4ca9267032",
   "metadata": {
    "tags": []
   },
   "outputs": [],
   "source": [
    "Y_train_df = df[df.ds<=cutoff_date]\n",
    "Y_test_df = df[df.ds>cutoff_date]\n",
    "\n",
    "if len(Y_test_df) > 12:    \n",
    "    Y_test_df = Y_test_df[:12]\n",
    "else:\n",
    "    pass\n",
    "# Y_train_df = df[df.ds<df['ds'].values[len(df.loc[df.ds<=cutoff_date])]]\n",
    "# Y_test_df = df[df.ds>=df['ds'].values[len(df.loc[df.ds<=cutoff_date])]]"
   ]
  },
  {
   "cell_type": "code",
   "execution_count": 14,
   "id": "953d9b81-adb6-440f-acab-b8b5d7a1f53c",
   "metadata": {
    "tags": []
   },
   "outputs": [
    {
     "data": {
      "text/plain": [
       "['Howe Robinson Container Index',\n",
       " 'mn_mb_kg',\n",
       " 'CCI_SWE',\n",
       " '옥수수 For Grain [미국(생산자 가격)] 현물',\n",
       " 'African Rainbow(AFBOF)_Adj Close',\n",
       " '소맥 Durum [미국(생산자 가격)] 현물',\n",
       " '002466.SZ(Tianqi Lithium)_price_Adj Close',\n",
       " '002466.SZ(Tianqi Lithium)_price_High',\n",
       " '002466.SZ(Tianqi Lithium)_price_Close']"
      ]
     },
     "execution_count": 14,
     "metadata": {},
     "output_type": "execute_result"
    }
   ],
   "source": [
    "futr_list"
   ]
  },
  {
   "cell_type": "code",
   "execution_count": 33,
   "id": "819f0948-e915-4efb-9507-a64b1c6eef28",
   "metadata": {
    "tags": []
   },
   "outputs": [],
   "source": [
    "futr_temp = Y_test_df.drop(['y'], axis=1).copy()\n",
    "# futr_list = [\n",
    "#              'Shanghai Containerized Freight Index (SCFI)',\n",
    "#              '대두 [미국(생산자 가격)] 현물',\n",
    "#              # '대두유 crude and refined average price [파라나구아(FOB)] 현물',\n",
    "#              '보일러용 후판 Q245R 30mm Xinyu Steel [중국] 현물',\n",
    "#              # 'HOUSECOST_KOR'\n",
    "#              ]\n",
    "futr_date = futr_temp.iloc[:,:2].copy()\n",
    "futr_df = pd.concat([futr_date,futr_temp[futr_list]], axis=1)\n",
    "# futr_df"
   ]
  },
  {
   "cell_type": "code",
   "execution_count": 34,
   "id": "0bbb0b4f-c334-4127-8406-37f345aaaa38",
   "metadata": {
    "tags": []
   },
   "outputs": [
    {
     "data": {
      "text/html": [
       "<div>\n",
       "<style scoped>\n",
       "    .dataframe tbody tr th:only-of-type {\n",
       "        vertical-align: middle;\n",
       "    }\n",
       "\n",
       "    .dataframe tbody tr th {\n",
       "        vertical-align: top;\n",
       "    }\n",
       "\n",
       "    .dataframe thead th {\n",
       "        text-align: right;\n",
       "    }\n",
       "</style>\n",
       "<table border=\"1\" class=\"dataframe\">\n",
       "  <thead>\n",
       "    <tr style=\"text-align: right;\">\n",
       "      <th></th>\n",
       "      <th>ds</th>\n",
       "      <th>unique_id</th>\n",
       "      <th>Howe Robinson Container Index</th>\n",
       "      <th>mn_mb_kg</th>\n",
       "      <th>CCI_SWE</th>\n",
       "      <th>옥수수 For Grain [미국(생산자 가격)] 현물</th>\n",
       "      <th>African Rainbow(AFBOF)_Adj Close</th>\n",
       "      <th>소맥 Durum [미국(생산자 가격)] 현물</th>\n",
       "      <th>002466.SZ(Tianqi Lithium)_price_Adj Close</th>\n",
       "      <th>002466.SZ(Tianqi Lithium)_price_High</th>\n",
       "      <th>002466.SZ(Tianqi Lithium)_price_Close</th>\n",
       "    </tr>\n",
       "  </thead>\n",
       "  <tbody>\n",
       "    <tr>\n",
       "      <th>76</th>\n",
       "      <td>2022-05-31</td>\n",
       "      <td>A</td>\n",
       "      <td>5590.333333</td>\n",
       "      <td>2.929688</td>\n",
       "      <td>95.88291</td>\n",
       "      <td>726</td>\n",
       "      <td>-4.341922</td>\n",
       "      <td>1430</td>\n",
       "      <td>88.267895</td>\n",
       "      <td>90.227895</td>\n",
       "      <td>88.267895</td>\n",
       "    </tr>\n",
       "    <tr>\n",
       "      <th>77</th>\n",
       "      <td>2022-06-30</td>\n",
       "      <td>A</td>\n",
       "      <td>5613.200000</td>\n",
       "      <td>2.774444</td>\n",
       "      <td>95.06802</td>\n",
       "      <td>737</td>\n",
       "      <td>-4.262845</td>\n",
       "      <td>1200</td>\n",
       "      <td>114.330476</td>\n",
       "      <td>116.548571</td>\n",
       "      <td>114.330476</td>\n",
       "    </tr>\n",
       "    <tr>\n",
       "      <th>78</th>\n",
       "      <td>2022-07-31</td>\n",
       "      <td>A</td>\n",
       "      <td>5488.500000</td>\n",
       "      <td>2.557222</td>\n",
       "      <td>94.11134</td>\n",
       "      <td>725</td>\n",
       "      <td>-3.778682</td>\n",
       "      <td>1270</td>\n",
       "      <td>127.828095</td>\n",
       "      <td>131.576667</td>\n",
       "      <td>127.828095</td>\n",
       "    </tr>\n",
       "    <tr>\n",
       "      <th>79</th>\n",
       "      <td>2022-08-31</td>\n",
       "      <td>A</td>\n",
       "      <td>4966.000000</td>\n",
       "      <td>2.431111</td>\n",
       "      <td>93.22715</td>\n",
       "      <td>724</td>\n",
       "      <td>-4.113969</td>\n",
       "      <td>1080</td>\n",
       "      <td>115.947857</td>\n",
       "      <td>118.736429</td>\n",
       "      <td>115.947857</td>\n",
       "    </tr>\n",
       "    <tr>\n",
       "      <th>80</th>\n",
       "      <td>2022-09-30</td>\n",
       "      <td>A</td>\n",
       "      <td>3445.000000</td>\n",
       "      <td>2.497222</td>\n",
       "      <td>92.37997</td>\n",
       "      <td>709</td>\n",
       "      <td>-2.431755</td>\n",
       "      <td>992</td>\n",
       "      <td>115.947857</td>\n",
       "      <td>118.736429</td>\n",
       "      <td>115.947857</td>\n",
       "    </tr>\n",
       "    <tr>\n",
       "      <th>81</th>\n",
       "      <td>2022-10-31</td>\n",
       "      <td>A</td>\n",
       "      <td>1836.250000</td>\n",
       "      <td>2.369063</td>\n",
       "      <td>92.07413</td>\n",
       "      <td>650</td>\n",
       "      <td>14.112381</td>\n",
       "      <td>1020</td>\n",
       "      <td>115.947857</td>\n",
       "      <td>118.736429</td>\n",
       "      <td>115.947857</td>\n",
       "    </tr>\n",
       "    <tr>\n",
       "      <th>82</th>\n",
       "      <td>2022-11-30</td>\n",
       "      <td>A</td>\n",
       "      <td>1489.000000</td>\n",
       "      <td>2.330000</td>\n",
       "      <td>92.31086</td>\n",
       "      <td>650</td>\n",
       "      <td>16.176191</td>\n",
       "      <td>1020</td>\n",
       "      <td>115.947857</td>\n",
       "      <td>118.736429</td>\n",
       "      <td>115.947857</td>\n",
       "    </tr>\n",
       "    <tr>\n",
       "      <th>83</th>\n",
       "      <td>2022-12-31</td>\n",
       "      <td>A</td>\n",
       "      <td>1434.000000</td>\n",
       "      <td>2.181250</td>\n",
       "      <td>92.31086</td>\n",
       "      <td>650</td>\n",
       "      <td>16.954211</td>\n",
       "      <td>1020</td>\n",
       "      <td>115.947857</td>\n",
       "      <td>118.736429</td>\n",
       "      <td>115.947857</td>\n",
       "    </tr>\n",
       "  </tbody>\n",
       "</table>\n",
       "</div>"
      ],
      "text/plain": [
       "           ds unique_id  Howe Robinson Container Index  mn_mb_kg   CCI_SWE  \\\n",
       "76 2022-05-31         A                    5590.333333  2.929688  95.88291   \n",
       "77 2022-06-30         A                    5613.200000  2.774444  95.06802   \n",
       "78 2022-07-31         A                    5488.500000  2.557222  94.11134   \n",
       "79 2022-08-31         A                    4966.000000  2.431111  93.22715   \n",
       "80 2022-09-30         A                    3445.000000  2.497222  92.37997   \n",
       "81 2022-10-31         A                    1836.250000  2.369063  92.07413   \n",
       "82 2022-11-30         A                    1489.000000  2.330000  92.31086   \n",
       "83 2022-12-31         A                    1434.000000  2.181250  92.31086   \n",
       "\n",
       "    옥수수 For Grain [미국(생산자 가격)] 현물  African Rainbow(AFBOF)_Adj Close  \\\n",
       "76                            726                         -4.341922   \n",
       "77                            737                         -4.262845   \n",
       "78                            725                         -3.778682   \n",
       "79                            724                         -4.113969   \n",
       "80                            709                         -2.431755   \n",
       "81                            650                         14.112381   \n",
       "82                            650                         16.176191   \n",
       "83                            650                         16.954211   \n",
       "\n",
       "    소맥 Durum [미국(생산자 가격)] 현물  002466.SZ(Tianqi Lithium)_price_Adj Close  \\\n",
       "76                      1430                                  88.267895   \n",
       "77                      1200                                 114.330476   \n",
       "78                      1270                                 127.828095   \n",
       "79                      1080                                 115.947857   \n",
       "80                       992                                 115.947857   \n",
       "81                      1020                                 115.947857   \n",
       "82                      1020                                 115.947857   \n",
       "83                      1020                                 115.947857   \n",
       "\n",
       "    002466.SZ(Tianqi Lithium)_price_High  \\\n",
       "76                             90.227895   \n",
       "77                            116.548571   \n",
       "78                            131.576667   \n",
       "79                            118.736429   \n",
       "80                            118.736429   \n",
       "81                            118.736429   \n",
       "82                            118.736429   \n",
       "83                            118.736429   \n",
       "\n",
       "    002466.SZ(Tianqi Lithium)_price_Close  \n",
       "76                              88.267895  \n",
       "77                             114.330476  \n",
       "78                             127.828095  \n",
       "79                             115.947857  \n",
       "80                             115.947857  \n",
       "81                             115.947857  \n",
       "82                             115.947857  \n",
       "83                             115.947857  "
      ]
     },
     "execution_count": 34,
     "metadata": {},
     "output_type": "execute_result"
    }
   ],
   "source": [
    "futr_df"
   ]
  },
  {
   "cell_type": "markdown",
   "id": "41b52225-6b2d-4ffb-939e-beab3e28281e",
   "metadata": {},
   "source": [
    "#### No 변수"
   ]
  },
  {
   "cell_type": "code",
   "execution_count": 47,
   "id": "e57c2c7e-3a33-4965-adec-88ef864f2038",
   "metadata": {
    "tags": []
   },
   "outputs": [],
   "source": [
    "# horizon = len(Y_test_df)\n",
    "\n",
    "# models = [\n",
    "#           # NBEATS(input_size=5 * horizon, gpus = 1, h=horizon, max_epochs=100),\n",
    "#           # NBEATSx(h=12, input_size=24,\n",
    "#           #       # loss=DistributionLoss(distribution='Normal', level=[80, 90]),\n",
    "#           #       gpus=1,\n",
    "#           #       scaler_type='robust',\n",
    "#           #       stat_exog_list = None,  \n",
    "#           #       futr_exog_list = futr_list,\n",
    "#           #       max_steps=100,\n",
    "#           #       # val_check_steps=10,\n",
    "#           #       # early_stop_patience_steps=2\n",
    "#           #      ),\n",
    "#           NHITS(input_size=5 * horizon, \n",
    "#                 h=horizon+1,\n",
    "#                 gpus = 1,\n",
    "#                 stat_exog_list = None,\n",
    "#                 hist_exog_list=None,\n",
    "#                 futr_exog_list = None,\n",
    "#                 # futr_exog_list = futr_list,\n",
    "#                 # n_freq_downsample=[24, 12, 1],\n",
    "#                 # mlp_units = [[512, 512], [512, 512], [512, 512]],\n",
    "#                 # n_pool_kernel_size = [2, 2, 1],\n",
    "#                 # n_freq_downsample=[24, 12, 1],\n",
    "#                 scaler_type = 'robust',\n",
    "#                 learning_rate=1e-4,\n",
    "#                 pooling_mode = 'MaxPool1d',\n",
    "#                 activation='ReLU',\n",
    "#                 batch_size=128,\n",
    "#                 random_seed=42,\n",
    "#                 max_epochs=200\n",
    "#                ),\n",
    "#            # NHITS(\n",
    "#            #       h,\n",
    "#            #       input_size,\n",
    "#            #       futr_exog_list=None,\n",
    "#            #       hist_exog_list=None,\n",
    "#            #       stat_exog_list=None,\n",
    "#            #       stack_types: list = ['identity', 'identity', 'identity'],\n",
    "#            #       n_blocks: list = [1, 1, 1],\n",
    "#            #       mlp_units: list = [[512, 512], [512, 512], [512, 512]],\n",
    "#            #       n_pool_kernel_size: list = [2, 2, 1],\n",
    "#            #       n_freq_downsample: list = [4, 2, 1],\n",
    "#            #       pooling_mode: str = 'MaxPool1d',\n",
    "#            #       interpolation_mode: str = 'linear',\n",
    "#            #       dropout_prob_theta=0.0,\n",
    "#            #       activation='ReLU',\n",
    "#            #       loss=MAE(),\n",
    "#            #       learning_rate=0.001,\n",
    "#            #       batch_size=32,\n",
    "#            #       windows_batch_size: int = 1024,\n",
    "#            #       step_size: int = 1,\n",
    "#            #       scaler_type='identity',\n",
    "#            #       random_seed=1,\n",
    "#            #       num_workers_loader=0,\n",
    "#            #       drop_last_loader=False,\n",
    "#            #       **trainer_kwargs,\n",
    "    \n",
    "#           # TFT(h=12, \n",
    "#           #     input_size=5 * horizon,\n",
    "#           #     # hidden_size=20,\n",
    "#           #     #loss=DistributionLoss(distribution='Poisson', level=[80, 90]),\n",
    "#           #     #loss=DistributionLoss(distribution='Normal', level=[80, 90]),\n",
    "#           #     #loss=DistributionLoss(distribution='StudentT', level=[80, 90]),\n",
    "#           #     learning_rate=0.005,\n",
    "#           #     stat_exog_list = None,\n",
    "#           #     futr_exog_list = futr_list,\n",
    "#           #     max_steps=100,\n",
    "#           #     gpus=1,\n",
    "#           #     # val_check_steps=10,\n",
    "#           #     # early_stop_patience_steps=10,\n",
    "#           #     scaler_type='robust',\n",
    "#           #     # windows_batch_size=None,\n",
    "#           #     enable_progress_bar=True),\n",
    "#              ]\n",
    "# nforecast_nv = NeuralForecast(models=models, freq='M')\n",
    "# nforecast_nv.fit(df=Y_train_df)\n",
    "# Y_hat_df_nv = nforecast_nv.predict(futr_df=futr_df).reset_index()"
   ]
  },
  {
   "cell_type": "code",
   "execution_count": 48,
   "id": "23a1910f-285e-457a-888e-8ca4fa041ab9",
   "metadata": {
    "tags": []
   },
   "outputs": [],
   "source": [
    "# # Plot predictions\n",
    "# fig, ax = plt.subplots(1, 1, figsize = (20, 7))\n",
    "# Y_hat_df_nv = Y_test_df.merge(Y_hat_df_nv, how='left', on=['unique_id', 'ds'])\n",
    "# plot_df_nv = pd.concat([Y_train_df, Y_hat_df_nv]).set_index('ds')\n",
    "\n",
    "# plot_df_nv[['y', 'NHITS']].plot(ax=ax, linewidth=2, marker='o')\n",
    "# plt.axvline(cutoff_date, color='red')\n",
    "\n",
    "# ax.set_title(f'LI2CO3 Actual and Predicted Plot - Cutoff: {cutoff_date}', fontsize=22)\n",
    "# ax.set_ylabel('LI2CO3_PRICE', fontsize=20)\n",
    "# ax.set_xlabel('Date', fontsize=20)\n",
    "# ax.legend(prop={'size': 15})\n",
    "# ax.grid()\n",
    "\n",
    "# fig.savefig(f'./data/forecast_plot_{cutoff_date}_nv.png')"
   ]
  },
  {
   "cell_type": "code",
   "execution_count": 49,
   "id": "940332ca-281c-41c8-ac8f-2bc9646f7638",
   "metadata": {},
   "outputs": [],
   "source": [
    "# plot_df_nv[['y', 'NHITS']].to_csv(f'./data/forecasting_{cutoff_date}_nv.csv',index=False)"
   ]
  },
  {
   "cell_type": "markdown",
   "id": "c5b6e49b-657e-48e0-b389-d96d77b28470",
   "metadata": {},
   "source": [
    "#### Yes 변수"
   ]
  },
  {
   "cell_type": "code",
   "execution_count": 37,
   "id": "16b3c015-bcd6-48b4-a847-d414d3e093e7",
   "metadata": {
    "tags": []
   },
   "outputs": [
    {
     "data": {
      "application/vnd.jupyter.widget-view+json": {
       "model_id": "6a8565ff4fe945ab9424cc394ef3fc0a",
       "version_major": 2,
       "version_minor": 0
      },
      "text/plain": [
       "Sanity Checking: 0it [00:00, ?it/s]"
      ]
     },
     "metadata": {},
     "output_type": "display_data"
    },
    {
     "data": {
      "application/vnd.jupyter.widget-view+json": {
       "model_id": "e212124af92d4b0fb5bf86c1190e4367",
       "version_major": 2,
       "version_minor": 0
      },
      "text/plain": [
       "Training: 0it [00:00, ?it/s]"
      ]
     },
     "metadata": {},
     "output_type": "display_data"
    },
    {
     "data": {
      "application/vnd.jupyter.widget-view+json": {
       "model_id": "090d7848036d4df0ad0fc49257e32b6d",
       "version_major": 2,
       "version_minor": 0
      },
      "text/plain": [
       "Validation: 0it [00:00, ?it/s]"
      ]
     },
     "metadata": {},
     "output_type": "display_data"
    },
    {
     "data": {
      "application/vnd.jupyter.widget-view+json": {
       "model_id": "23b45690425f47208f482d9358b03a24",
       "version_major": 2,
       "version_minor": 0
      },
      "text/plain": [
       "Validation: 0it [00:00, ?it/s]"
      ]
     },
     "metadata": {},
     "output_type": "display_data"
    },
    {
     "data": {
      "application/vnd.jupyter.widget-view+json": {
       "model_id": "db47cd38718e46558abf493e2ea01e5d",
       "version_major": 2,
       "version_minor": 0
      },
      "text/plain": [
       "Validation: 0it [00:00, ?it/s]"
      ]
     },
     "metadata": {},
     "output_type": "display_data"
    },
    {
     "data": {
      "application/vnd.jupyter.widget-view+json": {
       "model_id": "8a85b538200646839b6a6e44ce4443f5",
       "version_major": 2,
       "version_minor": 0
      },
      "text/plain": [
       "Validation: 0it [00:00, ?it/s]"
      ]
     },
     "metadata": {},
     "output_type": "display_data"
    },
    {
     "data": {
      "application/vnd.jupyter.widget-view+json": {
       "model_id": "221cd569b1e1495b8f983061ae85b045",
       "version_major": 2,
       "version_minor": 0
      },
      "text/plain": [
       "Validation: 0it [00:00, ?it/s]"
      ]
     },
     "metadata": {},
     "output_type": "display_data"
    },
    {
     "data": {
      "application/vnd.jupyter.widget-view+json": {
       "model_id": "061253af44df4e4e9592cba4b120a720",
       "version_major": 2,
       "version_minor": 0
      },
      "text/plain": [
       "Validation: 0it [00:00, ?it/s]"
      ]
     },
     "metadata": {},
     "output_type": "display_data"
    },
    {
     "data": {
      "application/vnd.jupyter.widget-view+json": {
       "model_id": "523cb5e1c69743cb996acce7150a1054",
       "version_major": 2,
       "version_minor": 0
      },
      "text/plain": [
       "Validation: 0it [00:00, ?it/s]"
      ]
     },
     "metadata": {},
     "output_type": "display_data"
    },
    {
     "data": {
      "application/vnd.jupyter.widget-view+json": {
       "model_id": "b7e5df6bb2274d8b95cfe03eb6d0eeb8",
       "version_major": 2,
       "version_minor": 0
      },
      "text/plain": [
       "Validation: 0it [00:00, ?it/s]"
      ]
     },
     "metadata": {},
     "output_type": "display_data"
    },
    {
     "data": {
      "application/vnd.jupyter.widget-view+json": {
       "model_id": "00859e516c394e14887181e2ddf670e7",
       "version_major": 2,
       "version_minor": 0
      },
      "text/plain": [
       "Validation: 0it [00:00, ?it/s]"
      ]
     },
     "metadata": {},
     "output_type": "display_data"
    },
    {
     "data": {
      "application/vnd.jupyter.widget-view+json": {
       "model_id": "f4257e9c51764eb1ae4178002faf0fa1",
       "version_major": 2,
       "version_minor": 0
      },
      "text/plain": [
       "Validation: 0it [00:00, ?it/s]"
      ]
     },
     "metadata": {},
     "output_type": "display_data"
    },
    {
     "data": {
      "application/vnd.jupyter.widget-view+json": {
       "model_id": "24707a9dc9fd4157b3d7d4b657bfbd51",
       "version_major": 2,
       "version_minor": 0
      },
      "text/plain": [
       "Predicting: 0it [00:00, ?it/s]"
      ]
     },
     "metadata": {},
     "output_type": "display_data"
    }
   ],
   "source": [
    "horizon = len(Y_test_df)\n",
    "\n",
    "models = [\n",
    "          # NBEATS(input_size=5 * horizon, gpus = 1, h=horizon, max_epochs=100),\n",
    "          # NBEATSx(h=12, input_size=24,\n",
    "          #       # loss=DistributionLoss(distribution='Normal', level=[80, 90]),\n",
    "          #       gpus=1,\n",
    "          #       scaler_type='robust',\n",
    "          #       stat_exog_list = None,  \n",
    "          #       futr_exog_list = futr_list,\n",
    "          #       max_steps=100,\n",
    "          #       # val_check_steps=10,\n",
    "          #       # early_stop_patience_steps=2\n",
    "          #      ),\n",
    "          NHITS(input_size=5 * horizon, \n",
    "                h=horizon + 1,\n",
    "                gpus = 1,\n",
    "                stat_exog_list = None,\n",
    "                # hist_exog_list = hist_var_list, #22년 3월부터는 안됌\n",
    "                futr_exog_list = None,\n",
    "                # n_blocks = [1, 1, 1],\n",
    "                # mlp_units = [[512, 512], [512, 512], [512, 512]],\n",
    "                # n_pool_kernel_size = [2, 2, 1],\n",
    "                # n_freq_downsample=[24, 12, 1],\n",
    "                pooling_mode = 'MaxPool1d',\n",
    "                scaler_type = 'robust',\n",
    "                learning_rate=1e-4,\n",
    "                activation='ReLU',\n",
    "                batch_size=32,\n",
    "                random_seed=42,\n",
    "                max_epochs=10\n",
    "               ),\n",
    "           # NHITS(\n",
    "           #       h,\n",
    "           #       input_size,\n",
    "           #       futr_exog_list=None,\n",
    "           #       hist_exog_list=None,\n",
    "           #       stat_exog_list=None,\n",
    "           #       stack_types: list = ['identity', 'identity', 'identity'],\n",
    "           #       n_blocks: list = [1, 1, 1],\n",
    "           #       mlp_units: list = [[512, 512], [512, 512], [512, 512]],\n",
    "           #       n_pool_kernel_size: list = [2, 2, 1],\n",
    "           #       n_freq_downsample: list = [4, 2, 1],\n",
    "           #       pooling_mode: str = 'MaxPool1d',\n",
    "           #       interpolation_mode: str = 'linear',\n",
    "           #       dropout_prob_theta=0.0,\n",
    "           #       activation='ReLU',\n",
    "           #       loss=MAE(),\n",
    "           #       learning_rate=0.001,\n",
    "           #       batch_size=32,\n",
    "           #       windows_batch_size: int = 1024,\n",
    "           #       step_size: int = 1,\n",
    "           #       scaler_type='identity',\n",
    "           #       random_seed=1,\n",
    "           #       num_workers_loader=0,\n",
    "           #       drop_last_loader=False,\n",
    "           #       **trainer_kwargs,\n",
    "    \n",
    "          # TFT(h=12, \n",
    "          #     input_size=5 * horizon,\n",
    "          #     # hidden_size=20,\n",
    "          #     #loss=DistributionLoss(distribution='Poisson', level=[80, 90]),\n",
    "          #     #loss=DistributionLoss(distribution='Normal', level=[80, 90]),\n",
    "          #     #loss=DistributionLoss(distribution='StudentT', level=[80, 90]),\n",
    "          #     learning_rate=0.005,\n",
    "          #     stat_exog_list = None,\n",
    "          #     futr_exog_list = futr_list,\n",
    "          #     max_steps=100,\n",
    "          #     gpus=1,\n",
    "          #     # val_check_steps=10,\n",
    "          #     # early_stop_patience_steps=10,\n",
    "          #     scaler_type='robust',\n",
    "          #     # windows_batch_size=None,\n",
    "          #     enable_progress_bar=True),\n",
    "             ]\n",
    "nforecast = NeuralForecast(models=models, freq='M')\n",
    "nforecast.fit(df=Y_train_df)\n",
    "Y_hat_df = nforecast.predict(futr_df=futr_df).reset_index()"
   ]
  },
  {
   "cell_type": "code",
   "execution_count": 38,
   "id": "30866cf9-6543-4f6e-802c-febe741b3492",
   "metadata": {
    "tags": []
   },
   "outputs": [
    {
     "data": {
      "image/png": "[encoded data removed]",
      "text/plain": [
       "<Figure size 2000x700 with 1 Axes>"
      ]
     },
     "metadata": {},
     "output_type": "display_data"
    }
   ],
   "source": [
    "# Plot predictions\n",
    "fig, ax = plt.subplots(1, 1, figsize = (20, 7))\n",
    "Y_hat_df = Y_test_df.merge(Y_hat_df, how='left', on=['unique_id', 'ds'])\n",
    "plot_df = pd.concat([Y_train_df, Y_hat_df]).set_index('ds')\n",
    "\n",
    "plot_df[['y', 'NHITS']].plot(ax=ax, linewidth=2, marker='o')\n",
    "\n",
    "plt.axvline(cutoff_date, color='red')\n",
    "ax.set_title(f'LI2CO3 Actual and Predicted Plot - Cutoff: {cutoff_date}', fontsize=22)\n",
    "ax.set_ylabel('LI2CO3_PRICE', fontsize=20)\n",
    "ax.set_xlabel('Date', fontsize=20)\n",
    "ax.legend(prop={'size': 15})\n",
    "ax.grid()\n",
    "\n",
    "# fig1.savefig(f'./data/forecasting_{cutoff_date}.png', dpi=100)\n",
    "fig.savefig(f'./data/forecast_plot_{cutoff_date}_wv.png')"
   ]
  },
  {
   "cell_type": "code",
   "execution_count": 57,
   "id": "9724b4e1-2d8c-4f3e-a5f8-433b9850c9d7",
   "metadata": {
    "tags": []
   },
   "outputs": [],
   "source": [
    "plot_df[['y', 'NHITS']].to_csv(f'./data/forecast_plot_{cutoff_date}_wv.csv',index=False)"
   ]
  },
  {
   "cell_type": "code",
   "execution_count": null,
   "id": "5d334bd2-1e84-48dc-b062-6e86303b0756",
   "metadata": {},
   "outputs": [],
   "source": []
  }
 ],
 "metadata": {
  "kernelspec": {
   "display_name": "Python 3 (ipykernel)",
   "language": "python",
   "name": "python3"
  },
  "language_info": {
   "codemirror_mode": {
    "name": "ipython",
    "version": 3
   },
   "file_extension": ".py",
   "mimetype": "text/x-python",
   "name": "python",
   "nbconvert_exporter": "python",
   "pygments_lexer": "ipython3",
   "version": "3.8.16"
  }
 },
 "nbformat": 4,
 "nbformat_minor": 5
}
