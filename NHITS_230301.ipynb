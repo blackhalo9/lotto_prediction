{
 "cells": [
  {
   "cell_type": "code",
   "execution_count": 1,
   "id": "2c709f33-1bfc-4a02-86f6-cd5c76467514",
   "metadata": {
    "tags": []
   },
   "outputs": [
    {
     "name": "stdout",
     "output_type": "stream",
     "text": [
      "C:\\Users\\ESKO\\PYWORK\\NHITS\n"
     ]
    }
   ],
   "source": [
    "import os, torch\n",
    "os.chdir(\"/Users/ESKO/PYWORK/NHITS\")\n",
    "print(os.getcwd())"
   ]
  },
  {
   "cell_type": "code",
   "execution_count": 2,
   "id": "1130c92b-7119-401d-8c4e-99b9474f1fb0",
   "metadata": {
    "tags": []
   },
   "outputs": [],
   "source": [
    "import numpy as np\n",
    "import pandas as pd\n",
    "import pytorch_lightning as pl\n",
    "import matplotlib.pyplot as plt\n",
    "\n",
    "from ray import tune\n",
    "from sklearn.preprocessing import StandardScaler\n",
    "\n",
    "from neuralforecast import NeuralForecast\n",
    "from neuralforecast.auto import AutoTFT\n",
    "from neuralforecast.models import NBEATS, NBEATSx, NHITS, TFT, LSTM\n",
    "from neuralforecast.losses.pytorch import MQLoss, DistributionLoss, GMM, PMM\n",
    "from neuralforecast.tsdataset import TimeSeriesDataset\n",
    "from neuralforecast.losses.pytorch import MAE"
   ]
  },
  {
   "cell_type": "markdown",
   "id": "092e974b-728b-448b-aca0-03a9c91b7fff",
   "metadata": {},
   "source": [
    "## <기준날짜 및 예측 기간 설정>"
   ]
  },
  {
   "cell_type": "code",
   "execution_count": 115,
   "id": "f91c564f-7439-4f72-9730-ed3e3ccdd549",
   "metadata": {
    "tags": []
   },
   "outputs": [],
   "source": [
    "cutoff_date = '2022-12-31' ## len = 65\n",
    "test_period = 12 ## 예측 기간 (월)\n",
    "corr_rate = 0.7 ## Lag corr rate\n",
    "hist_corr_rate = 0.9 ## Lag corr rate\n",
    "future_variable_limit = 10\n",
    "hist_variable_limit = 20"
   ]
  },
  {
   "cell_type": "markdown",
   "id": "60de4ab8-1f14-4139-951e-77f82ba87471",
   "metadata": {},
   "source": [
    "## <원 data set>"
   ]
  },
  {
   "cell_type": "code",
   "execution_count": 116,
   "id": "01ff22bb-7a0d-48ea-9ba3-2c3531f1361f",
   "metadata": {
    "tags": []
   },
   "outputs": [],
   "source": [
    "df = pd.read_csv('./data/metal_pst.csv')\n",
    "df.rename(columns={'date':'ds'},inplace=True)\n",
    "df.rename(columns={'li2co3_cif_fast_kg_spot_exchng':'y'},inplace=True)\n",
    "df['ds'] = pd.to_datetime(df['ds'], format='%Y-%m-%d')\n",
    "\n",
    "df_tgt = df.iloc[:,3:]\n",
    "scaler = StandardScaler()\n",
    "scaler.fit(df_tgt)\n",
    "arr = scaler.transform(df_tgt)\n",
    "df_tmp = pd.DataFrame(arr, columns=df_tgt.columns)\n",
    "df = pd.concat([df.iloc[:,:3],df_tmp], axis=1)\n",
    "\n",
    "raw_y_set_resampled = df.copy()\n",
    "raw_y_set_resampled.rename(columns={'ds':'date'},inplace=True)\n",
    "raw_y_set_resampled.rename(columns={'lioh_cif_fast_kg_spot_exchng':'y2'},inplace=True)\n",
    "del raw_y_set_resampled['unique_id']"
   ]
  },
  {
   "cell_type": "markdown",
   "id": "8a1f5486-9f68-4806-beb7-22fa9219aad0",
   "metadata": {},
   "source": [
    "## Feature shift"
   ]
  },
  {
   "cell_type": "code",
   "execution_count": 117,
   "id": "f178475b-3d21-42b8-a56a-9fe5a627349f",
   "metadata": {
    "tags": []
   },
   "outputs": [
    {
     "name": "stdout",
     "output_type": "stream",
     "text": [
      "CPU times: total: 17.1 s\n",
      "Wall time: 25.8 s\n"
     ]
    }
   ],
   "source": [
    "%%time\n",
    "\n",
    "raw_y_set_resampled = raw_y_set_resampled[raw_y_set_resampled.date<=cutoff_date]\n",
    "raw_y_set_shifted_merged = raw_y_set_resampled['date']\n",
    "\n",
    "for i in range(len(raw_y_set_resampled.columns)):\n",
    "    if i == len(raw_y_set_resampled.columns) - 1:\n",
    "        break\n",
    "    raw_y_set_shifted = raw_y_set_resampled.iloc[:,[0,i+1]].dropna()\n",
    "    for j in range(test_period-1,test_period):\n",
    "        raw_y_set_shifted = pd.concat([raw_y_set_shifted, (raw_y_set_shifted.iloc[:,1].shift(j+1).rename(raw_y_set_resampled.columns[i+1] + '_' +str(j+1)+ '_'))],axis=1)\n",
    "        raw_y_set_shifted_merged = pd.merge(raw_y_set_shifted_merged, raw_y_set_shifted, how= 'outer') \n",
    "        if j == len(raw_y_set_shifted.iloc[:,1]) -2 :\n",
    "            break\n",
    "# raw_y_set_shifted_merged.to_csv('./data/raw_y_set_shifted_merged.csv', encoding='cp949')"
   ]
  },
  {
   "cell_type": "markdown",
   "id": "4889fa8d-cdb7-4a0c-a705-894d1746bdb7",
   "metadata": {},
   "source": [
    "#### 해당 기간에서의 lag corr best"
   ]
  },
  {
   "cell_type": "code",
   "execution_count": null,
   "id": "637d45e9-c3d2-4965-af8f-5553849d1f41",
   "metadata": {
    "tags": []
   },
   "outputs": [],
   "source": [
    "raw_y_set_shifted_merged_corr = raw_y_set_shifted_merged.corr()\n",
    "raw_y_set_shifted_merged_filtered = raw_y_set_shifted_merged_corr[raw_y_set_resampled.columns.drop('date')]\n",
    "# raw_y_set_shifted_merged_filtered = raw_y_set_shifted_merged_filtered.loc[raw_y_set_shifted_merged_filtered.index != 'y']\n",
    "# raw_y_set_shifted_merged_filtered = raw_y_set_shifted_merged_filtered.loc[raw_y_set_shifted_merged_filtered.index != 'y2']\n",
    "raw_y_set_shifted_merged_filtered_y = raw_y_set_shifted_merged_filtered.iloc[:,:1]\n",
    "raw_y_set_shifted_merged_filtered_y['y'] = abs(raw_y_set_shifted_merged_filtered_y['y'])\n",
    "raw_y_set_shifted_merged_filtered_upto_corr_rate = raw_y_set_shifted_merged_filtered_y[raw_y_set_shifted_merged_filtered_y.y >= corr_rate]\n",
    "raw_y_set_shifted_merged_filtered_upto_corr_rate = raw_y_set_shifted_merged_filtered_upto_corr_rate.sort_values('y',ascending=False)\n",
    "raw_y_set_shifted_merged_filtered_upto_corr_rate = raw_y_set_shifted_merged_filtered_upto_corr_rate[raw_y_set_shifted_merged_filtered_upto_corr_rate.index.str.contains(f'_{test_period}_')]\n",
    "raw_y_set_shifted_merged_filtered_upto_corr_rate = raw_y_set_shifted_merged_filtered_upto_corr_rate[:future_variable_limit]\n",
    "\n",
    "futr_list = raw_y_set_shifted_merged_filtered_upto_corr_rate.index.values.tolist()\n",
    "futr_list = [word.replace(f\"_{test_period}_\", \"\") for word in futr_list]\n",
    "# if 'li2co395_am_kg' in futr_list:\n",
    "#     futr_list = [w.replace('li2co395_am_kg', 'li2co3_995_am_kg') for w in futr_list]\n",
    "# raw_y_set_shifted_merged_filtered_upto_corr_rate = raw_y_set_shifted_merged_filtered_upto_corr_rate.sort_values('y',ascending=False)\n",
    "\n",
    "# if 'y2' in futr_list:\n",
    "#     (futr_list).remove('y2')\n",
    "# if 'li2co395_am_kg' in futr_list:\n",
    "#     (futr_list).remove('li2co395_am_kg')\n",
    "# if 'li2co3_995_am_kg' in futr_list:\n",
    "#     (futr_list).remove('li2co3_995_am_kg')\n",
    "# if 'mn_mb_kg' in futr_list:\n",
    "#     (futr_list).remove('mn_mb_kg')\n",
    "# if 'al_lme_kg' in futr_list:\n",
    "#     (futr_list).remove('al_lme_kg')"
   ]
  },
  {
   "cell_type": "code",
   "execution_count": null,
   "id": "f6792eab-6024-4482-8075-4895bd41586c",
   "metadata": {
    "tags": []
   },
   "outputs": [],
   "source": [
    "futr_list"
   ]
  },
  {
   "cell_type": "markdown",
   "id": "7e7e2423-991f-4d6b-882c-50617a2a65e1",
   "metadata": {},
   "source": [
    "#### 해당 기간에서의 corr best"
   ]
  },
  {
   "cell_type": "code",
   "execution_count": null,
   "id": "df77e790-0ad9-4403-abdd-53ebc8ad6996",
   "metadata": {
    "tags": []
   },
   "outputs": [],
   "source": [
    "hist_variable_limit"
   ]
  },
  {
   "cell_type": "code",
   "execution_count": null,
   "id": "e40279d3-f9f2-410e-88ac-452b91a2f75c",
   "metadata": {
    "tags": []
   },
   "outputs": [],
   "source": [
    "hist_var_chcek = raw_y_set_resampled.iloc[:,1:]\n",
    "\n",
    "hist_var_corr = hist_var_chcek.corr()\n",
    "hist_var_corr_filtered = hist_var_corr.loc[hist_var_corr.index != 'y']\n",
    "hist_var_corr_filtered = hist_var_corr_filtered.loc[hist_var_corr_filtered.index != 'y2']\n",
    "hist_var_corr_filtered_y = hist_var_corr_filtered.iloc[:,:1]\n",
    "hist_var_corr_filtered_y_corr_rate = hist_var_corr_filtered_y[hist_var_corr_filtered_y.y >= hist_corr_rate]\n",
    "hist_var_corr_filtered_y_only = hist_var_corr_filtered_y_corr_rate[hist_var_corr_filtered_y_corr_rate.index.str.contains('li2co3')==False]\n",
    "hist_var_corr_filtered_y_only = hist_var_corr_filtered_y_only[hist_var_corr_filtered_y_only.index.str.contains('lioh')==False]\n",
    "hist_var_corr_filtered_y_only = hist_var_corr_filtered_y_only.sort_values('y',ascending=False)\n",
    "hist_var_list = hist_var_corr_filtered_y_only.index.values.tolist()\n",
    "\n",
    "hist_list = hist_var_list[:hist_variable_limit]\n",
    "hist_list"
   ]
  },
  {
   "cell_type": "code",
   "execution_count": null,
   "id": "22c2422e-32ee-42b3-abb8-c7fde1f56a45",
   "metadata": {
    "tags": []
   },
   "outputs": [],
   "source": [
    "hist_var_corr_filtered_y_only"
   ]
  },
  {
   "cell_type": "markdown",
   "id": "8a209346-8f24-44ee-ba3b-a08f80614190",
   "metadata": {
    "tags": []
   },
   "source": [
    "#### static DF"
   ]
  },
  {
   "cell_type": "code",
   "execution_count": null,
   "id": "5ce7033a-2234-4bac-9087-91daee3af55a",
   "metadata": {
    "tags": []
   },
   "outputs": [],
   "source": [
    "static_df = pd.read_csv('/users/ESKO/PYWORK/NHITS/data/static_df.csv')"
   ]
  },
  {
   "cell_type": "markdown",
   "id": "d7fba8f2-a5ab-484b-b1ad-bda6ea55f7af",
   "metadata": {},
   "source": [
    "## <Training & Test>"
   ]
  },
  {
   "cell_type": "markdown",
   "id": "2135deb5-4427-45d2-b085-d0063d554f54",
   "metadata": {},
   "source": [
    "#### 날짜 확인"
   ]
  },
  {
   "cell_type": "code",
   "execution_count": null,
   "id": "525afb1e-6ec3-4108-9c23-95cc5565c352",
   "metadata": {},
   "outputs": [],
   "source": [
    "# train = df.loc[df.ds < '2021-06-30']\n",
    "# test = df.loc[df.ds > '2021-06-30']"
   ]
  },
  {
   "cell_type": "markdown",
   "id": "9f95faab-68f4-4566-9494-35d2b646a7d7",
   "metadata": {},
   "source": [
    "#### 날짜 별 len 확인"
   ]
  },
  {
   "cell_type": "code",
   "execution_count": null,
   "id": "8548a462-acb8-462e-afcb-94c8c29af9bd",
   "metadata": {
    "tags": []
   },
   "outputs": [],
   "source": [
    "# len(df.loc[df.ds<'2021-06-30'])"
   ]
  },
  {
   "cell_type": "code",
   "execution_count": null,
   "id": "837791bc-7eab-4e22-9501-5dda050fa80b",
   "metadata": {
    "tags": []
   },
   "outputs": [],
   "source": [
    "# len(Y_train_df)\n",
    "# len(Y_test_df)\n",
    "# len(df)"
   ]
  },
  {
   "cell_type": "markdown",
   "id": "5e48e6ed-d091-4f7e-860d-32db64006c26",
   "metadata": {},
   "source": [
    "Test 용 DF 및 선행 변수 반영"
   ]
  },
  {
   "cell_type": "code",
   "execution_count": null,
   "id": "e7947178-5017-4afa-99bb-de9843ac3061",
   "metadata": {
    "tags": []
   },
   "outputs": [],
   "source": [
    "Y_train_df = df[df.ds<=cutoff_date]\n",
    "Y_test_df = df[df.ds>cutoff_date]\n",
    "\n",
    "if len(Y_test_df) > 12:    \n",
    "    Y_test_df = Y_test_df[:12]\n",
    "else:\n",
    "    pass\n",
    "# Y_train_df = df[df.ds<df['ds'].values[len(df.loc[df.ds<=cutoff_date])]]\n",
    "# Y_test_df = df[df.ds>=df['ds'].values[len(df.loc[df.ds<=cutoff_date])]]"
   ]
  },
  {
   "cell_type": "code",
   "execution_count": null,
   "id": "bfdd51ae-12ad-4971-b823-3b24a0321736",
   "metadata": {
    "tags": []
   },
   "outputs": [],
   "source": [
    "futr_list"
   ]
  },
  {
   "cell_type": "code",
   "execution_count": 93,
   "id": "6923b55d-6811-43b3-a993-7e788103fde3",
   "metadata": {
    "tags": []
   },
   "outputs": [],
   "source": [
    "# futr_list = ['HOUSECOST_FIN',\n",
    "#  '1772.HK(Ganfeng Lithium)_Price_Low',\n",
    "#  '1772.HK(Ganfeng Lithium)_Price_Open',\n",
    "#  '1772.HK(Ganfeng Lithium)_Price_Close',\n",
    "#  '1772.HK(Ganfeng Lithium)_Price_Adj Close',\n",
    "#  '1772.HK(Ganfeng Lithium)_Price_High',\n",
    "#  'Cameco(CCJ)_Adj Close',\n",
    "#  'Cameco(CCJ)_High',\n",
    "#  'Cameco(CCJ)_Open',\n",
    "#  'Cameco(CCJ)_Close']"
   ]
  },
  {
   "cell_type": "code",
   "execution_count": 94,
   "id": "d30f9ec6-8444-4464-9812-a65a0c28270b",
   "metadata": {
    "tags": []
   },
   "outputs": [],
   "source": [
    "# futr_list = [\n",
    "#              'Baltic Dry Index (BDI)',\n",
    "#              'Howe Robinson Container Index',\n",
    "#              'Shanghai Containerized Freight Index (SCFI)',\n",
    "#              # 'lioh_mag_am_kg',\n",
    "#              # 'LGES 리튬소요량_수산화리튬(kg)',\n",
    "#              # '옥수수 For Grain [미국(생산자 가격)] 현물',\n",
    "#              # '대두 [미국(생산자 가격)] 현물',\n",
    "#              # '대두박 [파라나구아(FOB)] 현물',\n",
    "#              # '대두유 crude and refined average price [파라나구아(FOB)] 현물',\n",
    "#              # 'LGES 리튬소요량_탄산리튬(kg)',\n",
    "#              # 'Pilbara Mineral Limited price Open',\n",
    "#              # 'li2co3_cif_fast_kg_spot_exchng'\n",
    "#              # '미국 비농업부분고용',\n",
    "#             ]"
   ]
  },
  {
   "cell_type": "code",
   "execution_count": null,
   "id": "1703cc48-b74b-4371-9ce1-840ca6b61141",
   "metadata": {
    "tags": []
   },
   "outputs": [],
   "source": [
    "futr_list"
   ]
  },
  {
   "cell_type": "code",
   "execution_count": null,
   "id": "59231adb-e853-4c0e-ae46-2d09e7b8c7c0",
   "metadata": {
    "tags": []
   },
   "outputs": [],
   "source": [
    "Y_test_df_list = list(Y_test_df)\n",
    "Y_test_df_list = [x for x in Y_test_df_list if x not in futr_list]\n",
    "Y_test_df_list[3:3] = futr_list\n",
    "Y_test_df = Y_test_df[Y_test_df_list]\n",
    "\n",
    "Y_train_df_list = list(Y_train_df)\n",
    "Y_train_df_list = [x for x in Y_train_df if x not in futr_list]\n",
    "Y_train_df_list[3:3] = futr_list\n",
    "Y_train_df = Y_train_df[Y_train_df_list]"
   ]
  },
  {
   "cell_type": "code",
   "execution_count": null,
   "id": "b6a349e3-e146-47f1-aae9-fd4ca29154e8",
   "metadata": {
    "tags": []
   },
   "outputs": [],
   "source": [
    "future_date_series = pd.date_range(pd.date_range(cutoff_date,periods=2,freq='M')[1],periods=test_period,freq='M')\n",
    "future_date = pd.DataFrame(future_date_series,columns=['ds'])\n",
    "# future_date['unique_id'] = 'A'\n",
    "future_df_temp = pd.concat([raw_y_set_resampled.rename(columns={'date':'ds'}).iloc[-(test_period+len(Y_test_df)):,:],future_date])\n",
    "future_df_temp[futr_list] = future_df_temp[futr_list].shift(test_period)\n",
    "\n",
    "future_df_with_index = list(['ds','unique_id']) + futr_list\n",
    "future_df_with_index\n",
    "\n",
    "future_df_temp = future_df_temp[future_df_temp.columns[future_df_temp.columns.isin(future_df_with_index)]].reset_index(drop=True)\n",
    "future_df_temp.insert(1, 'unique_id', 'A')\n",
    "futr_df = future_df_temp.iloc[-test_period:,:].reset_index(drop=True)\n",
    "futr_df"
   ]
  },
  {
   "cell_type": "markdown",
   "id": "41b52225-6b2d-4ffb-939e-beab3e28281e",
   "metadata": {},
   "source": [
    "#### No 변수"
   ]
  },
  {
   "cell_type": "code",
   "execution_count": null,
   "id": "e57c2c7e-3a33-4965-adec-88ef864f2038",
   "metadata": {
    "tags": []
   },
   "outputs": [],
   "source": [
    "# horizon = len(Y_test_df)\n",
    "\n",
    "# models = [\n",
    "#           # NBEATS(input_size=5 * horizon, gpus = 1, h=horizon, max_epochs=100),\n",
    "#           # NBEATSx(h=12, input_size=24,\n",
    "#           #       # loss=DistributionLoss(distribution='Normal', level=[80, 90]),\n",
    "#           #       gpus=1,\n",
    "#           #       scaler_type='robust',\n",
    "#           #       stat_exog_list = None,  \n",
    "#           #       futr_exog_list = futr_list,\n",
    "#           #       max_steps=100,\n",
    "#           #       # val_check_steps=10,\n",
    "#           #       # early_stop_patience_steps=2\n",
    "#           #      ),\n",
    "#           NHITS(input_size=5 * horizon, \n",
    "#                 h=horizon+1,\n",
    "#                 gpus = 1,\n",
    "#                 stat_exog_list = None,\n",
    "#                 hist_exog_list=None,\n",
    "#                 futr_exog_list = None,\n",
    "#                 # futr_exog_list = futr_list,\n",
    "#                 # n_freq_downsample=[24, 12, 1],\n",
    "#                 # mlp_units = [[512, 512], [512, 512], [512, 512]],\n",
    "#                 # n_pool_kernel_size = [2, 2, 1],\n",
    "#                 # n_freq_downsample=[24, 12, 1],\n",
    "#                 scaler_type = 'standard',\n",
    "#                 learning_rate=1e-4,\n",
    "#                 pooling_mode = 'MaxPool1d',\n",
    "#                 activation='ReLU',\n",
    "#                 batch_size=128,\n",
    "#                 random_seed=42,\n",
    "#                 max_epochs=200\n",
    "#                ),\n",
    "#            # NHITS(\n",
    "#            #       h,\n",
    "#            #       input_size,\n",
    "#            #       futr_exog_list=None,\n",
    "#            #       hist_exog_list=None,\n",
    "#            #       stat_exog_list=None,\n",
    "#            #       stack_types: list = ['identity', 'identity', 'identity'],\n",
    "#            #       n_blocks: list = [1, 1, 1],\n",
    "#            #       mlp_units: list = [[512, 512], [512, 512], [512, 512]],\n",
    "#            #       n_pool_kernel_size: list = [2, 2, 1],\n",
    "#            #       n_freq_downsample: list = [4, 2, 1],\n",
    "#            #       pooling_mode: str = 'MaxPool1d',\n",
    "#            #       interpolation_mode: str = 'linear',\n",
    "#            #       dropout_prob_theta=0.0,\n",
    "#            #       activation='ReLU',\n",
    "#            #       loss=MAE(),\n",
    "#            #       learning_rate=0.001,\n",
    "#            #       batch_size=32,\n",
    "#            #       windows_batch_size: int = 1024,\n",
    "#            #       step_size: int = 1,\n",
    "#            #       scaler_type='identity',\n",
    "#            #       random_seed=1,\n",
    "#            #       num_workers_loader=0,\n",
    "#            #       drop_last_loader=False,\n",
    "#            #       **trainer_kwargs,\n",
    "    \n",
    "#           # TFT(h=12, \n",
    "#           #     input_size=5 * horizon,\n",
    "#           #     # hidden_size=20,\n",
    "#           #     #loss=DistributionLoss(distribution='Poisson', level=[80, 90]),\n",
    "#           #     #loss=DistributionLoss(distribution='Normal', level=[80, 90]),\n",
    "#           #     #loss=DistributionLoss(distribution='StudentT', level=[80, 90]),\n",
    "#           #     learning_rate=0.005,\n",
    "#           #     stat_exog_list = None,\n",
    "#           #     futr_exog_list = futr_list,\n",
    "#           #     max_steps=100,\n",
    "#           #     gpus=1,\n",
    "#           #     # val_check_steps=10,\n",
    "#           #     # early_stop_patience_steps=10,\n",
    "#           #     scaler_type='robust',\n",
    "#           #     # windows_batch_size=None,\n",
    "#           #     enable_progress_bar=True),\n",
    "#              ]\n",
    "# nforecast_nv = NeuralForecast(models=models, freq='M')\n",
    "# nforecast_nv.fit(df=Y_train_df)\n",
    "# Y_hat_df_nv = nforecast_nv.predict(futr_df=futr_df).reset_index()"
   ]
  },
  {
   "cell_type": "code",
   "execution_count": null,
   "id": "23a1910f-285e-457a-888e-8ca4fa041ab9",
   "metadata": {
    "tags": []
   },
   "outputs": [],
   "source": [
    "# # Plot predictions\n",
    "# fig, ax = plt.subplots(1, 1, figsize = (20, 7))\n",
    "# Y_hat_df_nv = Y_test_df.merge(Y_hat_df_nv, how='left', on=['unique_id', 'ds'])\n",
    "# plot_df_nv = pd.concat([Y_train_df, Y_hat_df_nv]).set_index('ds')\n",
    "\n",
    "# plot_df_nv[['y', 'NHITS']].plot(ax=ax, linewidth=2, marker='o')\n",
    "# plt.axvline(cutoff_date, color='red')\n",
    "\n",
    "# ax.set_title(f'LI2CO3 Actual and Predicted Plot - Cutoff: {cutoff_date}', fontsize=22)\n",
    "# ax.set_ylabel('LI2CO3_PRICE', fontsize=20)\n",
    "# ax.set_xlabel('Date', fontsize=20)\n",
    "# ax.legend(prop={'size': 15})\n",
    "# ax.grid()\n",
    "\n",
    "# fig.savefig(f'./data/forecast_plot_{cutoff_date}_nv.png')"
   ]
  },
  {
   "cell_type": "code",
   "execution_count": null,
   "id": "940332ca-281c-41c8-ac8f-2bc9646f7638",
   "metadata": {
    "tags": []
   },
   "outputs": [],
   "source": [
    "# plot_df_nv[['y', 'NHITS']].to_csv(f'./data/forecasting_{cutoff_date}_nv.csv',index=False)"
   ]
  },
  {
   "cell_type": "markdown",
   "id": "c5b6e49b-657e-48e0-b389-d96d77b28470",
   "metadata": {},
   "source": [
    "#### Yes 변수"
   ]
  },
  {
   "cell_type": "code",
   "execution_count": null,
   "id": "e6d0bbc1-edcd-4051-a384-10dd3c0e4853",
   "metadata": {
    "tags": []
   },
   "outputs": [],
   "source": [
    "futr_list"
   ]
  },
  {
   "cell_type": "code",
   "execution_count": null,
   "id": "0a7b2d8a-6c4c-4ffa-bc84-0992a19d93c2",
   "metadata": {
    "tags": []
   },
   "outputs": [],
   "source": [
    "horizon"
   ]
  },
  {
   "cell_type": "code",
   "execution_count": null,
   "id": "16b3c015-bcd6-48b4-a847-d414d3e093e7",
   "metadata": {
    "tags": []
   },
   "outputs": [],
   "source": [
    "if len(Y_test_df) >= 6:\n",
    "    horizon = len(Y_test_df)\n",
    "else:\n",
    "    horizon = len(futr_df)\n",
    "    \n",
    "if cutoff_date <= '2021-12-31':\n",
    "    flexible = None\n",
    "else:\n",
    "    flexible = futr_list\n",
    "\n",
    "models = [\n",
    "          # NBEATS(input_size=5 * horizon, gpus = 1, h=horizon, max_epochs=100),\n",
    "          # NBEATSx(h=horizon, input_size=5 * horizon,\n",
    "          #       # loss=DistributionLoss(distribution='Normal', level=[80, 90]),\n",
    "          #       gpus=1,\n",
    "          #       scaler_type='robust',\n",
    "          #       stat_exog_list = None,\n",
    "          #       # hist_exog_list = hist_list,\n",
    "          #       # futr_exog_list = None,  \n",
    "          #       futr_exog_list = flexible,\n",
    "          #       learning_rate=1e-4,\n",
    "          #       mlp_units = [[512, 512], [512, 512], [512, 512]],\n",
    "          #       batch_size=128,\n",
    "          #       random_seed=42,\n",
    "          #       n_blocks=[1, 1, 1],\n",
    "          #       # val_check_steps=10,\n",
    "          #       # early_stop_patience_steps=2\n",
    "          #       max_steps=30\n",
    "          #      ),\n",
    "          NHITS(input_size=5 * horizon, \n",
    "                h=horizon,\n",
    "                gpus = 1,\n",
    "                stat_exog_list = None,\n",
    "                hist_exog_list = hist_list,\n",
    "                futr_exog_list = flexible,\n",
    "                # futr_exog_list = None,\n",
    "                # futr_exog_list = futr_list,\n",
    "                n_blocks = [1, 1, 1],\n",
    "                mlp_units = [[512, 512], [512, 512], [512, 512]],\n",
    "                n_pool_kernel_size = [2, 2, 1],\n",
    "                n_freq_downsample=[24, 12, 1],\n",
    "                scaler_type = 'robust',\n",
    "                learning_rate=1e-4,\n",
    "                pooling_mode = 'MaxPool1d',\n",
    "                activation='ReLU',\n",
    "                batch_size=128,\n",
    "                random_seed=42,\n",
    "                max_epochs=50\n",
    "               ),\n",
    "          # LSTM(h=horizon, input_size=5 * horizon,\n",
    "          #        # loss=DistributionLoss(distribution='Normal', level=[80, 90]),\n",
    "          #        scaler_type='standard',\n",
    "          #        learning_rate=1e-4,\n",
    "          #        encoder_n_layers=2,\n",
    "          #        encoder_hidden_size=128,\n",
    "          #        context_size=10,\n",
    "          #        decoder_hidden_size=128,\n",
    "          #        decoder_layers=2,\n",
    "          #        gpus = 1,\n",
    "          #        futr_exog_list=flexible,\n",
    "          #        hist_exog_list=None,\n",
    "          #        stat_exog_list=None,\n",
    "          #        max_steps=200\n",
    "          #        ),\n",
    "           # NHITS(\n",
    "           #       h,\n",
    "           #       input_size,\n",
    "           #       futr_exog_list=None,\n",
    "           #       hist_exog_list=None,\n",
    "           #       stat_exog_list=None,\n",
    "           #       stack_types: list = ['identity', 'identity', 'identity'],\n",
    "           #       n_blocks: list = [1, 1, 1],\n",
    "           #       mlp_units: list = [[512, 512], [512, 512], [512, 512]],\n",
    "           #       n_pool_kernel_size: list = [2, 2, 1],\n",
    "           #       n_freq_downsample: list = [4, 2, 1],\n",
    "           #       pooling_mode: str = 'MaxPool1d',\n",
    "           #       interpolation_mode: str = 'linear',\n",
    "           #       dropout_prob_theta=0.0,\n",
    "           #       activation='ReLU',\n",
    "           #       loss=MAE(),\n",
    "           #       learning_rate=0.001,\n",
    "           #       batch_size=32,\n",
    "           #       windows_batch_size: int = 1024,\n",
    "           #       step_size: int = 1,\n",
    "           #       scaler_type='identity',\n",
    "           #       random_seed=1,\n",
    "           #       num_workers_loader=0,\n",
    "           #       drop_last_loader=False,\n",
    "           #       **trainer_kwargs,\n",
    "    \n",
    "          # TFT(h=horizon, \n",
    "          #     input_size=5 * horizon,\n",
    "          #     #loss=DistributionLoss(distribution='Poisson', level=[80, 90]),\n",
    "          #     #loss=DistributionLoss(distribution='Normal', level=[80, 90]),\n",
    "          #     #loss=DistributionLoss(distribution='StudentT', level=[80, 90]),\n",
    "          #     hidden_size=128,\n",
    "          #     # n_head=4, \n",
    "          #     attn_dropout=0.2,\n",
    "          #     # hist_exog_list=hist_list,\n",
    "          #     dropout=0.6,\n",
    "          #     learning_rate=1e-4,\n",
    "          #     stat_exog_list = None,\n",
    "          #     futr_exog_list = flexible,\n",
    "          #     gpus=1,\n",
    "          #     # val_check_steps=10,\n",
    "          #     # early_stop_patience_steps=10,\n",
    "          #     scaler_type='robust',\n",
    "          #     # windows_batch_size=None,\n",
    "          #     # enable_progress_bar=True,\n",
    "          #     max_steps=200\n",
    "          #    ),\n",
    "             ]\n",
    "nforecast = NeuralForecast(models=models, freq='M')\n",
    "nforecast.fit(df=df)\n",
    "# Y_hat_df = nforecast.predict(futr_df=futr_df)\n",
    "Y_hat_df = nforecast.predict(futr_df=futr_df, static_df=static_df).reset_index()"
   ]
  },
  {
   "cell_type": "code",
   "execution_count": 113,
   "id": "30866cf9-6543-4f6e-802c-febe741b3492",
   "metadata": {
    "tags": []
   },
   "outputs": [
    {
     "data": {
      "image/png": "[encoded data removed]",
      "text/plain": [
       "<Figure size 2000x700 with 1 Axes>"
      ]
     },
     "metadata": {},
     "output_type": "display_data"
    }
   ],
   "source": [
    "# Plot predictions\n",
    "fig, ax = plt.subplots(1, 1, figsize = (20, 7))\n",
    "\n",
    "if len(Y_test_df) > 0:\n",
    "    Y_hat_df = Y_test_df.merge(Y_hat_df, how='left', on=['unique_id', 'ds'])\n",
    "    # plot_df = pd.concat([Y_train_df, Y_hat_df]).set_index('ds')\n",
    "else:\n",
    "    plot_df = pd.concat([Y_train_df, Y_hat_df]).set_index('ds')\n",
    "\n",
    "plot_df[['y','NHITS']].plot(ax=ax, linewidth=2, marker='o')\n",
    "\n",
    "plt.axvline(cutoff_date, color='red')\n",
    "ax.set_title(f'LI2CO3 Actual and Predicted Plot - Cutoff: {cutoff_date}', fontsize=22)\n",
    "ax.set_ylabel('LI2CO3_PRICE', fontsize=20)\n",
    "ax.set_xlabel('Date', fontsize=20)\n",
    "ax.legend(prop={'size': 15})\n",
    "ax.grid()\n",
    "\n",
    "# fig1.savefig(f'./data/forecasting_{cutoff_date}.png', dpi=100)\n",
    "fig.savefig(f'./data/forecast_plot_{cutoff_date}_wv.png')"
   ]
  },
  {
   "cell_type": "code",
   "execution_count": 111,
   "id": "9724b4e1-2d8c-4f3e-a5f8-433b9850c9d7",
   "metadata": {
    "tags": []
   },
   "outputs": [],
   "source": [
    "plot_df[['y', 'NHITS']].to_csv(f'./data/forecast_plot_{cutoff_date}_wv.csv',index=False)"
   ]
  },
  {
   "cell_type": "code",
   "execution_count": 114,
   "id": "b3f7bc7e-3df5-439a-a1e3-788a6f5ade51",
   "metadata": {
    "tags": []
   },
   "outputs": [
    {
     "data": {
      "text/html": [
       "<div>\n",
       "<style scoped>\n",
       "    .dataframe tbody tr th:only-of-type {\n",
       "        vertical-align: middle;\n",
       "    }\n",
       "\n",
       "    .dataframe tbody tr th {\n",
       "        vertical-align: top;\n",
       "    }\n",
       "\n",
       "    .dataframe thead th {\n",
       "        text-align: right;\n",
       "    }\n",
       "</style>\n",
       "<table border=\"1\" class=\"dataframe\">\n",
       "  <thead>\n",
       "    <tr style=\"text-align: right;\">\n",
       "      <th></th>\n",
       "      <th>ds</th>\n",
       "      <th>unique_id</th>\n",
       "      <th>y_x</th>\n",
       "      <th>HOUSECOST_FIN_x</th>\n",
       "      <th>1772.HK(Ganfeng Lithium)_Price_Low_x</th>\n",
       "      <th>1772.HK(Ganfeng Lithium)_Price_Open_x</th>\n",
       "      <th>1772.HK(Ganfeng Lithium)_Price_Close_x</th>\n",
       "      <th>1772.HK(Ganfeng Lithium)_Price_Adj Close_x</th>\n",
       "      <th>1772.HK(Ganfeng Lithium)_Price_High_x</th>\n",
       "      <th>보일러용 후판 Q345R 30mm Xinyu Steel [중국] 현물_x</th>\n",
       "      <th>...</th>\n",
       "      <th>Pilbara Mineral Limited_price_High_y</th>\n",
       "      <th>Pilbara Mineral Limited_price_Low_y</th>\n",
       "      <th>Pilbara Mineral Limited_price_Close_y</th>\n",
       "      <th>Pilbara Mineral Limited_price_Adj Close_y</th>\n",
       "      <th>Allkem Limited (AKE.AX)_price_Open_y</th>\n",
       "      <th>Allkem Limited (AKE.AX)_price_High_y</th>\n",
       "      <th>Allkem Limited (AKE.AX)_price_Low_y</th>\n",
       "      <th>Allkem Limited (AKE.AX)_price_Close_y</th>\n",
       "      <th>Allkem Limited (AKE.AX)_price_Adj Close_y</th>\n",
       "      <th>NHITS</th>\n",
       "    </tr>\n",
       "  </thead>\n",
       "  <tbody>\n",
       "    <tr>\n",
       "      <th>0</th>\n",
       "      <td>2022-12-31</td>\n",
       "      <td>A</td>\n",
       "      <td>80.882353</td>\n",
       "      <td>3.167846</td>\n",
       "      <td>1.03721</td>\n",
       "      <td>1.011836</td>\n",
       "      <td>1.007555</td>\n",
       "      <td>1.024881</td>\n",
       "      <td>0.990812</td>\n",
       "      <td>-0.213492</td>\n",
       "      <td>...</td>\n",
       "      <td>1.967237</td>\n",
       "      <td>1.981728</td>\n",
       "      <td>1.959693</td>\n",
       "      <td>1.857597</td>\n",
       "      <td>2.230517</td>\n",
       "      <td>2.206089</td>\n",
       "      <td>2.211335</td>\n",
       "      <td>2.207568</td>\n",
       "      <td>2.207568</td>\n",
       "      <td>NaN</td>\n",
       "    </tr>\n",
       "  </tbody>\n",
       "</table>\n",
       "<p>1 rows × 1849 columns</p>\n",
       "</div>"
      ],
      "text/plain": [
       "          ds unique_id        y_x  HOUSECOST_FIN_x  \\\n",
       "0 2022-12-31         A  80.882353         3.167846   \n",
       "\n",
       "   1772.HK(Ganfeng Lithium)_Price_Low_x  \\\n",
       "0                               1.03721   \n",
       "\n",
       "   1772.HK(Ganfeng Lithium)_Price_Open_x  \\\n",
       "0                               1.011836   \n",
       "\n",
       "   1772.HK(Ganfeng Lithium)_Price_Close_x  \\\n",
       "0                                1.007555   \n",
       "\n",
       "   1772.HK(Ganfeng Lithium)_Price_Adj Close_x  \\\n",
       "0                                    1.024881   \n",
       "\n",
       "   1772.HK(Ganfeng Lithium)_Price_High_x  \\\n",
       "0                               0.990812   \n",
       "\n",
       "   보일러용 후판 Q345R 30mm Xinyu Steel [중국] 현물_x  ...  \\\n",
       "0                                 -0.213492  ...   \n",
       "\n",
       "   Pilbara Mineral Limited_price_High_y  Pilbara Mineral Limited_price_Low_y  \\\n",
       "0                              1.967237                             1.981728   \n",
       "\n",
       "   Pilbara Mineral Limited_price_Close_y  \\\n",
       "0                               1.959693   \n",
       "\n",
       "   Pilbara Mineral Limited_price_Adj Close_y  \\\n",
       "0                                   1.857597   \n",
       "\n",
       "   Allkem Limited (AKE.AX)_price_Open_y  Allkem Limited (AKE.AX)_price_High_y  \\\n",
       "0                              2.230517                              2.206089   \n",
       "\n",
       "   Allkem Limited (AKE.AX)_price_Low_y  Allkem Limited (AKE.AX)_price_Close_y  \\\n",
       "0                             2.211335                               2.207568   \n",
       "\n",
       "   Allkem Limited (AKE.AX)_price_Adj Close_y  NHITS  \n",
       "0                                   2.207568    NaN  \n",
       "\n",
       "[1 rows x 1849 columns]"
      ]
     },
     "execution_count": 114,
     "metadata": {},
     "output_type": "execute_result"
    }
   ],
   "source": [
    "Y_hat_df"
   ]
  },
  {
   "cell_type": "code",
   "execution_count": null,
   "id": "6565f296-1ee6-47e8-9717-25176a483b05",
   "metadata": {},
   "outputs": [],
   "source": []
  }
 ],
 "metadata": {
  "kernelspec": {
   "display_name": "Python 3 (ipykernel)",
   "language": "python",
   "name": "python3"
  },
  "language_info": {
   "codemirror_mode": {
    "name": "ipython",
    "version": 3
   },
   "file_extension": ".py",
   "mimetype": "text/x-python",
   "name": "python",
   "nbconvert_exporter": "python",
   "pygments_lexer": "ipython3",
   "version": "3.8.16"
  }
 },
 "nbformat": 4,
 "nbformat_minor": 5
}
