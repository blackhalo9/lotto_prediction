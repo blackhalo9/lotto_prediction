{
 "cells": [
  {
   "cell_type": "code",
   "execution_count": 90,
   "id": "2c709f33-1bfc-4a02-86f6-cd5c76467514",
   "metadata": {
    "tags": []
   },
   "outputs": [
    {
     "name": "stdout",
     "output_type": "stream",
     "text": [
      "C:\\Users\\ESKO\\PYWORK\\NHITS\n"
     ]
    }
   ],
   "source": [
    "import os, torch\n",
    "os.chdir(\"/Users/ESKO/PYWORK/NHITS\")\n",
    "print(os.getcwd())"
   ]
  },
  {
   "cell_type": "code",
   "execution_count": 91,
   "id": "1130c92b-7119-401d-8c4e-99b9474f1fb0",
   "metadata": {
    "tags": []
   },
   "outputs": [],
   "source": [
    "import numpy as np\n",
    "import pandas as pd\n",
    "import pytorch_lightning as pl\n",
    "import matplotlib.pyplot as plt\n",
    "\n",
    "from ray import tune\n",
    "from sklearn.preprocessing import StandardScaler\n",
    "\n",
    "from neuralforecast import NeuralForecast\n",
    "from neuralforecast.auto import AutoTFT\n",
    "from neuralforecast.models import NBEATS, NBEATSx, NHITS, TFT\n",
    "from neuralforecast.losses.pytorch import MQLoss, DistributionLoss, GMM, PMM\n",
    "from neuralforecast.tsdataset import TimeSeriesDataset\n",
    "from neuralforecast.losses.pytorch import MAE"
   ]
  },
  {
   "cell_type": "markdown",
   "id": "092e974b-728b-448b-aca0-03a9c91b7fff",
   "metadata": {},
   "source": [
    "## <기준날짜 및 예측 기간 설정>"
   ]
  },
  {
   "cell_type": "code",
   "execution_count": 85,
   "id": "f91c564f-7439-4f72-9730-ed3e3ccdd549",
   "metadata": {
    "tags": []
   },
   "outputs": [],
   "source": [
    "cutoff_date = '2022-05-31' ## len = 65, 월별 마지막 일자 잘 맞춰 줘야 함\n",
    "test_period = 7 ## 예측 기간 (월)\n",
    "corr_rate = 0.9 ## Lag corr rate"
   ]
  },
  {
   "cell_type": "markdown",
   "id": "60de4ab8-1f14-4139-951e-77f82ba87471",
   "metadata": {},
   "source": [
    "## <원 data set>"
   ]
  },
  {
   "cell_type": "code",
   "execution_count": 86,
   "id": "01ff22bb-7a0d-48ea-9ba3-2c3531f1361f",
   "metadata": {
    "tags": []
   },
   "outputs": [],
   "source": [
    "df = pd.read_csv('./data/metal_pst.csv')\n",
    "df.rename(columns={'date':'ds'},inplace=True)\n",
    "df.rename(columns={'li2co3_cif_fast_kg_spot_exchng':'y'},inplace=True)\n",
    "df['ds'] = pd.to_datetime(df['ds'], format='%Y-%m-%d')\n",
    "\n",
    "raw_y_set_resampled = df.copy()\n",
    "raw_y_set_resampled.rename(columns={'ds':'date'},inplace=True)\n",
    "raw_y_set_resampled.rename(columns={'lioh_cif_fast_kg_spot_exchng':'y2'},inplace=True)\n",
    "del raw_y_set_resampled['unique_id']"
   ]
  },
  {
   "cell_type": "markdown",
   "id": "8a1f5486-9f68-4806-beb7-22fa9219aad0",
   "metadata": {},
   "source": [
    "## Feature shift"
   ]
  },
  {
   "cell_type": "code",
   "execution_count": 87,
   "id": "f178475b-3d21-42b8-a56a-9fe5a627349f",
   "metadata": {
    "tags": []
   },
   "outputs": [
    {
     "ename": "KeyboardInterrupt",
     "evalue": "",
     "output_type": "error",
     "traceback": [
      "\u001b[1;31m---------------------------------------------------------------------------\u001b[0m",
      "\u001b[1;31mKeyboardInterrupt\u001b[0m                         Traceback (most recent call last)",
      "File \u001b[1;32m<timed exec>:10\u001b[0m\n",
      "File \u001b[1;32m~\\anaconda3\\envs\\dl\\lib\\site-packages\\pandas\\core\\reshape\\merge.py:124\u001b[0m, in \u001b[0;36mmerge\u001b[1;34m(left, right, how, on, left_on, right_on, left_index, right_index, sort, suffixes, copy, indicator, validate)\u001b[0m\n\u001b[0;32m     93\u001b[0m \u001b[38;5;129m@Substitution\u001b[39m(\u001b[38;5;124m\"\u001b[39m\u001b[38;5;130;01m\\n\u001b[39;00m\u001b[38;5;124mleft : DataFrame or named Series\u001b[39m\u001b[38;5;124m\"\u001b[39m)\n\u001b[0;32m     94\u001b[0m \u001b[38;5;129m@Appender\u001b[39m(_merge_doc, indents\u001b[38;5;241m=\u001b[39m\u001b[38;5;241m0\u001b[39m)\n\u001b[0;32m     95\u001b[0m \u001b[38;5;28;01mdef\u001b[39;00m \u001b[38;5;21mmerge\u001b[39m(\n\u001b[1;32m   (...)\u001b[0m\n\u001b[0;32m    108\u001b[0m     validate: \u001b[38;5;28mstr\u001b[39m \u001b[38;5;241m|\u001b[39m \u001b[38;5;28;01mNone\u001b[39;00m \u001b[38;5;241m=\u001b[39m \u001b[38;5;28;01mNone\u001b[39;00m,\n\u001b[0;32m    109\u001b[0m ) \u001b[38;5;241m-\u001b[39m\u001b[38;5;241m>\u001b[39m DataFrame:\n\u001b[0;32m    110\u001b[0m     op \u001b[38;5;241m=\u001b[39m _MergeOperation(\n\u001b[0;32m    111\u001b[0m         left,\n\u001b[0;32m    112\u001b[0m         right,\n\u001b[1;32m   (...)\u001b[0m\n\u001b[0;32m    122\u001b[0m         validate\u001b[38;5;241m=\u001b[39mvalidate,\n\u001b[0;32m    123\u001b[0m     )\n\u001b[1;32m--> 124\u001b[0m     \u001b[38;5;28;01mreturn\u001b[39;00m \u001b[43mop\u001b[49m\u001b[38;5;241;43m.\u001b[39;49m\u001b[43mget_result\u001b[49m\u001b[43m(\u001b[49m\u001b[43mcopy\u001b[49m\u001b[38;5;241;43m=\u001b[39;49m\u001b[43mcopy\u001b[49m\u001b[43m)\u001b[49m\n",
      "File \u001b[1;32m~\\anaconda3\\envs\\dl\\lib\\site-packages\\pandas\\core\\reshape\\merge.py:775\u001b[0m, in \u001b[0;36m_MergeOperation.get_result\u001b[1;34m(self, copy)\u001b[0m\n\u001b[0;32m    771\u001b[0m     \u001b[38;5;28mself\u001b[39m\u001b[38;5;241m.\u001b[39mleft, \u001b[38;5;28mself\u001b[39m\u001b[38;5;241m.\u001b[39mright \u001b[38;5;241m=\u001b[39m \u001b[38;5;28mself\u001b[39m\u001b[38;5;241m.\u001b[39m_indicator_pre_merge(\u001b[38;5;28mself\u001b[39m\u001b[38;5;241m.\u001b[39mleft, \u001b[38;5;28mself\u001b[39m\u001b[38;5;241m.\u001b[39mright)\n\u001b[0;32m    773\u001b[0m join_index, left_indexer, right_indexer \u001b[38;5;241m=\u001b[39m \u001b[38;5;28mself\u001b[39m\u001b[38;5;241m.\u001b[39m_get_join_info()\n\u001b[1;32m--> 775\u001b[0m result \u001b[38;5;241m=\u001b[39m \u001b[38;5;28;43mself\u001b[39;49m\u001b[38;5;241;43m.\u001b[39;49m\u001b[43m_reindex_and_concat\u001b[49m\u001b[43m(\u001b[49m\n\u001b[0;32m    776\u001b[0m \u001b[43m    \u001b[49m\u001b[43mjoin_index\u001b[49m\u001b[43m,\u001b[49m\u001b[43m \u001b[49m\u001b[43mleft_indexer\u001b[49m\u001b[43m,\u001b[49m\u001b[43m \u001b[49m\u001b[43mright_indexer\u001b[49m\u001b[43m,\u001b[49m\u001b[43m \u001b[49m\u001b[43mcopy\u001b[49m\u001b[38;5;241;43m=\u001b[39;49m\u001b[43mcopy\u001b[49m\n\u001b[0;32m    777\u001b[0m \u001b[43m\u001b[49m\u001b[43m)\u001b[49m\n\u001b[0;32m    778\u001b[0m result \u001b[38;5;241m=\u001b[39m result\u001b[38;5;241m.\u001b[39m__finalize__(\u001b[38;5;28mself\u001b[39m, method\u001b[38;5;241m=\u001b[39m\u001b[38;5;28mself\u001b[39m\u001b[38;5;241m.\u001b[39m_merge_type)\n\u001b[0;32m    780\u001b[0m \u001b[38;5;28;01mif\u001b[39;00m \u001b[38;5;28mself\u001b[39m\u001b[38;5;241m.\u001b[39mindicator:\n",
      "File \u001b[1;32m~\\anaconda3\\envs\\dl\\lib\\site-packages\\pandas\\core\\reshape\\merge.py:737\u001b[0m, in \u001b[0;36m_MergeOperation._reindex_and_concat\u001b[1;34m(self, join_index, left_indexer, right_indexer, copy)\u001b[0m\n\u001b[0;32m    729\u001b[0m llabels, rlabels \u001b[38;5;241m=\u001b[39m _items_overlap_with_suffix(\n\u001b[0;32m    730\u001b[0m     \u001b[38;5;28mself\u001b[39m\u001b[38;5;241m.\u001b[39mleft\u001b[38;5;241m.\u001b[39m_info_axis, \u001b[38;5;28mself\u001b[39m\u001b[38;5;241m.\u001b[39mright\u001b[38;5;241m.\u001b[39m_info_axis, \u001b[38;5;28mself\u001b[39m\u001b[38;5;241m.\u001b[39msuffixes\n\u001b[0;32m    731\u001b[0m )\n\u001b[0;32m    733\u001b[0m \u001b[38;5;28;01mif\u001b[39;00m left_indexer \u001b[38;5;129;01mis\u001b[39;00m \u001b[38;5;129;01mnot\u001b[39;00m \u001b[38;5;28;01mNone\u001b[39;00m:\n\u001b[0;32m    734\u001b[0m     \u001b[38;5;66;03m# Pinning the index here (and in the right code just below) is not\u001b[39;00m\n\u001b[0;32m    735\u001b[0m     \u001b[38;5;66;03m#  necessary, but makes the `.take` more performant if we have e.g.\u001b[39;00m\n\u001b[0;32m    736\u001b[0m     \u001b[38;5;66;03m#  a MultiIndex for left.index.\u001b[39;00m\n\u001b[1;32m--> 737\u001b[0m     lmgr \u001b[38;5;241m=\u001b[39m \u001b[43mleft\u001b[49m\u001b[38;5;241;43m.\u001b[39;49m\u001b[43m_mgr\u001b[49m\u001b[38;5;241;43m.\u001b[39;49m\u001b[43mreindex_indexer\u001b[49m\u001b[43m(\u001b[49m\n\u001b[0;32m    738\u001b[0m \u001b[43m        \u001b[49m\u001b[43mjoin_index\u001b[49m\u001b[43m,\u001b[49m\n\u001b[0;32m    739\u001b[0m \u001b[43m        \u001b[49m\u001b[43mleft_indexer\u001b[49m\u001b[43m,\u001b[49m\n\u001b[0;32m    740\u001b[0m \u001b[43m        \u001b[49m\u001b[43maxis\u001b[49m\u001b[38;5;241;43m=\u001b[39;49m\u001b[38;5;241;43m1\u001b[39;49m\u001b[43m,\u001b[49m\n\u001b[0;32m    741\u001b[0m \u001b[43m        \u001b[49m\u001b[43mcopy\u001b[49m\u001b[38;5;241;43m=\u001b[39;49m\u001b[38;5;28;43;01mFalse\u001b[39;49;00m\u001b[43m,\u001b[49m\n\u001b[0;32m    742\u001b[0m \u001b[43m        \u001b[49m\u001b[43monly_slice\u001b[49m\u001b[38;5;241;43m=\u001b[39;49m\u001b[38;5;28;43;01mTrue\u001b[39;49;00m\u001b[43m,\u001b[49m\n\u001b[0;32m    743\u001b[0m \u001b[43m        \u001b[49m\u001b[43mallow_dups\u001b[49m\u001b[38;5;241;43m=\u001b[39;49m\u001b[38;5;28;43;01mTrue\u001b[39;49;00m\u001b[43m,\u001b[49m\n\u001b[0;32m    744\u001b[0m \u001b[43m        \u001b[49m\u001b[43muse_na_proxy\u001b[49m\u001b[38;5;241;43m=\u001b[39;49m\u001b[38;5;28;43;01mTrue\u001b[39;49;00m\u001b[43m,\u001b[49m\n\u001b[0;32m    745\u001b[0m \u001b[43m    \u001b[49m\u001b[43m)\u001b[49m\n\u001b[0;32m    746\u001b[0m     left \u001b[38;5;241m=\u001b[39m left\u001b[38;5;241m.\u001b[39m_constructor(lmgr)\n\u001b[0;32m    747\u001b[0m left\u001b[38;5;241m.\u001b[39mindex \u001b[38;5;241m=\u001b[39m join_index\n",
      "File \u001b[1;32m~\\anaconda3\\envs\\dl\\lib\\site-packages\\pandas\\core\\internals\\managers.py:753\u001b[0m, in \u001b[0;36mBaseBlockManager.reindex_indexer\u001b[1;34m(self, new_axis, indexer, axis, fill_value, allow_dups, copy, only_slice, use_na_proxy)\u001b[0m\n\u001b[0;32m    751\u001b[0m     parent \u001b[38;5;241m=\u001b[39m \u001b[38;5;28;01mNone\u001b[39;00m \u001b[38;5;28;01mif\u001b[39;00m com\u001b[38;5;241m.\u001b[39mall_none(\u001b[38;5;241m*\u001b[39mnew_refs) \u001b[38;5;28;01melse\u001b[39;00m \u001b[38;5;28mself\u001b[39m\n\u001b[0;32m    752\u001b[0m \u001b[38;5;28;01melse\u001b[39;00m:\n\u001b[1;32m--> 753\u001b[0m     new_blocks \u001b[38;5;241m=\u001b[39m [\n\u001b[0;32m    754\u001b[0m         blk\u001b[38;5;241m.\u001b[39mtake_nd(\n\u001b[0;32m    755\u001b[0m             indexer,\n\u001b[0;32m    756\u001b[0m             axis\u001b[38;5;241m=\u001b[39m\u001b[38;5;241m1\u001b[39m,\n\u001b[0;32m    757\u001b[0m             fill_value\u001b[38;5;241m=\u001b[39m(\n\u001b[0;32m    758\u001b[0m                 fill_value \u001b[38;5;28;01mif\u001b[39;00m fill_value \u001b[38;5;129;01mis\u001b[39;00m \u001b[38;5;129;01mnot\u001b[39;00m \u001b[38;5;28;01mNone\u001b[39;00m \u001b[38;5;28;01melse\u001b[39;00m blk\u001b[38;5;241m.\u001b[39mfill_value\n\u001b[0;32m    759\u001b[0m             ),\n\u001b[0;32m    760\u001b[0m         )\n\u001b[0;32m    761\u001b[0m         \u001b[38;5;28;01mfor\u001b[39;00m blk \u001b[38;5;129;01min\u001b[39;00m \u001b[38;5;28mself\u001b[39m\u001b[38;5;241m.\u001b[39mblocks\n\u001b[0;32m    762\u001b[0m     ]\n\u001b[0;32m    763\u001b[0m     new_refs \u001b[38;5;241m=\u001b[39m \u001b[38;5;28;01mNone\u001b[39;00m\n\u001b[0;32m    764\u001b[0m     parent \u001b[38;5;241m=\u001b[39m \u001b[38;5;28;01mNone\u001b[39;00m\n",
      "File \u001b[1;32m~\\anaconda3\\envs\\dl\\lib\\site-packages\\pandas\\core\\internals\\managers.py:754\u001b[0m, in \u001b[0;36m<listcomp>\u001b[1;34m(.0)\u001b[0m\n\u001b[0;32m    751\u001b[0m     parent \u001b[38;5;241m=\u001b[39m \u001b[38;5;28;01mNone\u001b[39;00m \u001b[38;5;28;01mif\u001b[39;00m com\u001b[38;5;241m.\u001b[39mall_none(\u001b[38;5;241m*\u001b[39mnew_refs) \u001b[38;5;28;01melse\u001b[39;00m \u001b[38;5;28mself\u001b[39m\n\u001b[0;32m    752\u001b[0m \u001b[38;5;28;01melse\u001b[39;00m:\n\u001b[0;32m    753\u001b[0m     new_blocks \u001b[38;5;241m=\u001b[39m [\n\u001b[1;32m--> 754\u001b[0m         \u001b[43mblk\u001b[49m\u001b[38;5;241;43m.\u001b[39;49m\u001b[43mtake_nd\u001b[49m\u001b[43m(\u001b[49m\n\u001b[0;32m    755\u001b[0m \u001b[43m            \u001b[49m\u001b[43mindexer\u001b[49m\u001b[43m,\u001b[49m\n\u001b[0;32m    756\u001b[0m \u001b[43m            \u001b[49m\u001b[43maxis\u001b[49m\u001b[38;5;241;43m=\u001b[39;49m\u001b[38;5;241;43m1\u001b[39;49m\u001b[43m,\u001b[49m\n\u001b[0;32m    757\u001b[0m \u001b[43m            \u001b[49m\u001b[43mfill_value\u001b[49m\u001b[38;5;241;43m=\u001b[39;49m\u001b[43m(\u001b[49m\n\u001b[0;32m    758\u001b[0m \u001b[43m                \u001b[49m\u001b[43mfill_value\u001b[49m\u001b[43m \u001b[49m\u001b[38;5;28;43;01mif\u001b[39;49;00m\u001b[43m \u001b[49m\u001b[43mfill_value\u001b[49m\u001b[43m \u001b[49m\u001b[38;5;129;43;01mis\u001b[39;49;00m\u001b[43m \u001b[49m\u001b[38;5;129;43;01mnot\u001b[39;49;00m\u001b[43m \u001b[49m\u001b[38;5;28;43;01mNone\u001b[39;49;00m\u001b[43m \u001b[49m\u001b[38;5;28;43;01melse\u001b[39;49;00m\u001b[43m \u001b[49m\u001b[43mblk\u001b[49m\u001b[38;5;241;43m.\u001b[39;49m\u001b[43mfill_value\u001b[49m\n\u001b[0;32m    759\u001b[0m \u001b[43m            \u001b[49m\u001b[43m)\u001b[49m\u001b[43m,\u001b[49m\n\u001b[0;32m    760\u001b[0m \u001b[43m        \u001b[49m\u001b[43m)\u001b[49m\n\u001b[0;32m    761\u001b[0m         \u001b[38;5;28;01mfor\u001b[39;00m blk \u001b[38;5;129;01min\u001b[39;00m \u001b[38;5;28mself\u001b[39m\u001b[38;5;241m.\u001b[39mblocks\n\u001b[0;32m    762\u001b[0m     ]\n\u001b[0;32m    763\u001b[0m     new_refs \u001b[38;5;241m=\u001b[39m \u001b[38;5;28;01mNone\u001b[39;00m\n\u001b[0;32m    764\u001b[0m     parent \u001b[38;5;241m=\u001b[39m \u001b[38;5;28;01mNone\u001b[39;00m\n",
      "File \u001b[1;32m~\\anaconda3\\envs\\dl\\lib\\site-packages\\pandas\\core\\internals\\blocks.py:880\u001b[0m, in \u001b[0;36mBlock.take_nd\u001b[1;34m(self, indexer, axis, new_mgr_locs, fill_value)\u001b[0m\n\u001b[0;32m    877\u001b[0m     allow_fill \u001b[38;5;241m=\u001b[39m \u001b[38;5;28;01mTrue\u001b[39;00m\n\u001b[0;32m    879\u001b[0m \u001b[38;5;66;03m# Note: algos.take_nd has upcast logic similar to coerce_to_target_dtype\u001b[39;00m\n\u001b[1;32m--> 880\u001b[0m new_values \u001b[38;5;241m=\u001b[39m \u001b[43malgos\u001b[49m\u001b[38;5;241;43m.\u001b[39;49m\u001b[43mtake_nd\u001b[49m\u001b[43m(\u001b[49m\n\u001b[0;32m    881\u001b[0m \u001b[43m    \u001b[49m\u001b[43mvalues\u001b[49m\u001b[43m,\u001b[49m\u001b[43m \u001b[49m\u001b[43mindexer\u001b[49m\u001b[43m,\u001b[49m\u001b[43m \u001b[49m\u001b[43maxis\u001b[49m\u001b[38;5;241;43m=\u001b[39;49m\u001b[43maxis\u001b[49m\u001b[43m,\u001b[49m\u001b[43m \u001b[49m\u001b[43mallow_fill\u001b[49m\u001b[38;5;241;43m=\u001b[39;49m\u001b[43mallow_fill\u001b[49m\u001b[43m,\u001b[49m\u001b[43m \u001b[49m\u001b[43mfill_value\u001b[49m\u001b[38;5;241;43m=\u001b[39;49m\u001b[43mfill_value\u001b[49m\n\u001b[0;32m    882\u001b[0m \u001b[43m\u001b[49m\u001b[43m)\u001b[49m\n\u001b[0;32m    884\u001b[0m \u001b[38;5;66;03m# Called from three places in managers, all of which satisfy\u001b[39;00m\n\u001b[0;32m    885\u001b[0m \u001b[38;5;66;03m#  this assertion\u001b[39;00m\n\u001b[0;32m    886\u001b[0m \u001b[38;5;28;01massert\u001b[39;00m \u001b[38;5;129;01mnot\u001b[39;00m (axis \u001b[38;5;241m==\u001b[39m \u001b[38;5;241m0\u001b[39m \u001b[38;5;129;01mand\u001b[39;00m new_mgr_locs \u001b[38;5;129;01mis\u001b[39;00m \u001b[38;5;28;01mNone\u001b[39;00m)\n",
      "File \u001b[1;32m~\\anaconda3\\envs\\dl\\lib\\site-packages\\pandas\\core\\array_algos\\take.py:117\u001b[0m, in \u001b[0;36mtake_nd\u001b[1;34m(arr, indexer, axis, fill_value, allow_fill)\u001b[0m\n\u001b[0;32m    114\u001b[0m     \u001b[38;5;28;01mreturn\u001b[39;00m arr\u001b[38;5;241m.\u001b[39mtake(indexer, fill_value\u001b[38;5;241m=\u001b[39mfill_value, allow_fill\u001b[38;5;241m=\u001b[39mallow_fill)\n\u001b[0;32m    116\u001b[0m arr \u001b[38;5;241m=\u001b[39m np\u001b[38;5;241m.\u001b[39masarray(arr)\n\u001b[1;32m--> 117\u001b[0m \u001b[38;5;28;01mreturn\u001b[39;00m \u001b[43m_take_nd_ndarray\u001b[49m\u001b[43m(\u001b[49m\u001b[43marr\u001b[49m\u001b[43m,\u001b[49m\u001b[43m \u001b[49m\u001b[43mindexer\u001b[49m\u001b[43m,\u001b[49m\u001b[43m \u001b[49m\u001b[43maxis\u001b[49m\u001b[43m,\u001b[49m\u001b[43m \u001b[49m\u001b[43mfill_value\u001b[49m\u001b[43m,\u001b[49m\u001b[43m \u001b[49m\u001b[43mallow_fill\u001b[49m\u001b[43m)\u001b[49m\n",
      "File \u001b[1;32m~\\anaconda3\\envs\\dl\\lib\\site-packages\\pandas\\core\\array_algos\\take.py:160\u001b[0m, in \u001b[0;36m_take_nd_ndarray\u001b[1;34m(arr, indexer, axis, fill_value, allow_fill)\u001b[0m\n\u001b[0;32m    157\u001b[0m \u001b[38;5;28;01melse\u001b[39;00m:\n\u001b[0;32m    158\u001b[0m     out \u001b[38;5;241m=\u001b[39m np\u001b[38;5;241m.\u001b[39mempty(out_shape, dtype\u001b[38;5;241m=\u001b[39mdtype)\n\u001b[1;32m--> 160\u001b[0m func \u001b[38;5;241m=\u001b[39m \u001b[43m_get_take_nd_function\u001b[49m(\n\u001b[0;32m    161\u001b[0m     arr\u001b[38;5;241m.\u001b[39mndim, arr\u001b[38;5;241m.\u001b[39mdtype, out\u001b[38;5;241m.\u001b[39mdtype, axis\u001b[38;5;241m=\u001b[39maxis, mask_info\u001b[38;5;241m=\u001b[39mmask_info\n\u001b[0;32m    162\u001b[0m )\n\u001b[0;32m    163\u001b[0m func(arr, indexer, out, fill_value)\n\u001b[0;32m    165\u001b[0m \u001b[38;5;28;01mif\u001b[39;00m flip_order:\n",
      "\u001b[1;31mKeyboardInterrupt\u001b[0m: "
     ]
    }
   ],
   "source": [
    "%%time\n",
    "\n",
    "raw_y_set_resampled = raw_y_set_resampled[raw_y_set_resampled.date<=cutoff_date]\n",
    "raw_y_set_shifted_merged = raw_y_set_resampled['date']\n",
    "\n",
    "for i in range(len(raw_y_set_resampled.columns)):\n",
    "    if i == len(raw_y_set_resampled.columns) - 1:\n",
    "        break\n",
    "    raw_y_set_shifted = raw_y_set_resampled.iloc[:,[0,i+1]].dropna()\n",
    "    for j in range(10,13):\n",
    "        raw_y_set_shifted = pd.concat([raw_y_set_shifted, (raw_y_set_shifted.iloc[:,1].shift(j+1).rename(raw_y_set_resampled.columns[i+1] + '_' +str(j+1)))],axis=1)\n",
    "        raw_y_set_shifted_merged = pd.merge(raw_y_set_shifted_merged, raw_y_set_shifted, how= 'outer') \n",
    "        if j == len(raw_y_set_shifted.iloc[:,1]) -2 :\n",
    "            break\n",
    "# raw_y_set_shifted_merged.to_csv('./data/raw_y_set_shifted_merged.csv', encoding='cp949')"
   ]
  },
  {
   "cell_type": "code",
   "execution_count": 88,
   "id": "9fc707b4-cf82-4eaf-855c-2e44514a2b57",
   "metadata": {
    "tags": []
   },
   "outputs": [
    {
     "data": {
      "text/html": [
       "<div>\n",
       "<style scoped>\n",
       "    .dataframe tbody tr th:only-of-type {\n",
       "        vertical-align: middle;\n",
       "    }\n",
       "\n",
       "    .dataframe tbody tr th {\n",
       "        vertical-align: top;\n",
       "    }\n",
       "\n",
       "    .dataframe thead th {\n",
       "        text-align: right;\n",
       "    }\n",
       "</style>\n",
       "<table border=\"1\" class=\"dataframe\">\n",
       "  <thead>\n",
       "    <tr style=\"text-align: right;\">\n",
       "      <th></th>\n",
       "      <th>date</th>\n",
       "      <th>y</th>\n",
       "      <th>y_11</th>\n",
       "      <th>y_12</th>\n",
       "      <th>y_13</th>\n",
       "      <th>y2</th>\n",
       "      <th>y2_11</th>\n",
       "      <th>y2_12</th>\n",
       "      <th>y2_13</th>\n",
       "      <th>Baltic Dry Index (BDI)</th>\n",
       "      <th>...</th>\n",
       "      <th>ERAMET(ERA.PA)_Close_12</th>\n",
       "      <th>ERAMET(ERA.PA)_Close_13</th>\n",
       "      <th>ERAMET(ERA.PA)_Adj Close</th>\n",
       "      <th>ERAMET(ERA.PA)_Adj Close_11</th>\n",
       "      <th>ERAMET(ERA.PA)_Adj Close_12</th>\n",
       "      <th>ERAMET(ERA.PA)_Adj Close_13</th>\n",
       "      <th>Lundin Mining(LUN.TO)_Open</th>\n",
       "      <th>Lundin Mining(LUN.TO)_Open_11</th>\n",
       "      <th>Lundin Mining(LUN.TO)_Open_12</th>\n",
       "      <th>Lundin Mining(LUN.TO)_Open_13</th>\n",
       "    </tr>\n",
       "  </thead>\n",
       "  <tbody>\n",
       "    <tr>\n",
       "      <th>0</th>\n",
       "      <td>2016-01-31</td>\n",
       "      <td>20.177268</td>\n",
       "      <td>NaN</td>\n",
       "      <td>NaN</td>\n",
       "      <td>NaN</td>\n",
       "      <td>20.680110</td>\n",
       "      <td>NaN</td>\n",
       "      <td>NaN</td>\n",
       "      <td>NaN</td>\n",
       "      <td>386.300000</td>\n",
       "      <td>...</td>\n",
       "      <td>NaN</td>\n",
       "      <td>NaN</td>\n",
       "      <td>21.652791</td>\n",
       "      <td>NaN</td>\n",
       "      <td>NaN</td>\n",
       "      <td>NaN</td>\n",
       "      <td>3.335500</td>\n",
       "      <td>NaN</td>\n",
       "      <td>NaN</td>\n",
       "      <td>NaN</td>\n",
       "    </tr>\n",
       "    <tr>\n",
       "      <th>1</th>\n",
       "      <td>2016-02-29</td>\n",
       "      <td>23.306868</td>\n",
       "      <td>NaN</td>\n",
       "      <td>NaN</td>\n",
       "      <td>NaN</td>\n",
       "      <td>24.462716</td>\n",
       "      <td>NaN</td>\n",
       "      <td>NaN</td>\n",
       "      <td>NaN</td>\n",
       "      <td>306.904762</td>\n",
       "      <td>...</td>\n",
       "      <td>NaN</td>\n",
       "      <td>NaN</td>\n",
       "      <td>16.932949</td>\n",
       "      <td>NaN</td>\n",
       "      <td>NaN</td>\n",
       "      <td>NaN</td>\n",
       "      <td>3.504000</td>\n",
       "      <td>NaN</td>\n",
       "      <td>NaN</td>\n",
       "      <td>NaN</td>\n",
       "    </tr>\n",
       "    <tr>\n",
       "      <th>2</th>\n",
       "      <td>2016-03-31</td>\n",
       "      <td>25.223010</td>\n",
       "      <td>NaN</td>\n",
       "      <td>NaN</td>\n",
       "      <td>NaN</td>\n",
       "      <td>28.364874</td>\n",
       "      <td>NaN</td>\n",
       "      <td>NaN</td>\n",
       "      <td>NaN</td>\n",
       "      <td>383.333333</td>\n",
       "      <td>...</td>\n",
       "      <td>NaN</td>\n",
       "      <td>NaN</td>\n",
       "      <td>22.360672</td>\n",
       "      <td>NaN</td>\n",
       "      <td>NaN</td>\n",
       "      <td>NaN</td>\n",
       "      <td>4.183182</td>\n",
       "      <td>NaN</td>\n",
       "      <td>NaN</td>\n",
       "      <td>NaN</td>\n",
       "    </tr>\n",
       "    <tr>\n",
       "      <th>3</th>\n",
       "      <td>2016-04-30</td>\n",
       "      <td>25.308243</td>\n",
       "      <td>NaN</td>\n",
       "      <td>NaN</td>\n",
       "      <td>NaN</td>\n",
       "      <td>29.181978</td>\n",
       "      <td>NaN</td>\n",
       "      <td>NaN</td>\n",
       "      <td>NaN</td>\n",
       "      <td>607.476191</td>\n",
       "      <td>...</td>\n",
       "      <td>NaN</td>\n",
       "      <td>NaN</td>\n",
       "      <td>24.981643</td>\n",
       "      <td>NaN</td>\n",
       "      <td>NaN</td>\n",
       "      <td>NaN</td>\n",
       "      <td>4.217143</td>\n",
       "      <td>NaN</td>\n",
       "      <td>NaN</td>\n",
       "      <td>NaN</td>\n",
       "    </tr>\n",
       "    <tr>\n",
       "      <th>4</th>\n",
       "      <td>2016-05-31</td>\n",
       "      <td>24.875099</td>\n",
       "      <td>NaN</td>\n",
       "      <td>NaN</td>\n",
       "      <td>NaN</td>\n",
       "      <td>27.810405</td>\n",
       "      <td>NaN</td>\n",
       "      <td>NaN</td>\n",
       "      <td>NaN</td>\n",
       "      <td>619.900000</td>\n",
       "      <td>...</td>\n",
       "      <td>NaN</td>\n",
       "      <td>NaN</td>\n",
       "      <td>27.587567</td>\n",
       "      <td>NaN</td>\n",
       "      <td>NaN</td>\n",
       "      <td>NaN</td>\n",
       "      <td>4.220952</td>\n",
       "      <td>NaN</td>\n",
       "      <td>NaN</td>\n",
       "      <td>NaN</td>\n",
       "    </tr>\n",
       "    <tr>\n",
       "      <th>...</th>\n",
       "      <td>...</td>\n",
       "      <td>...</td>\n",
       "      <td>...</td>\n",
       "      <td>...</td>\n",
       "      <td>...</td>\n",
       "      <td>...</td>\n",
       "      <td>...</td>\n",
       "      <td>...</td>\n",
       "      <td>...</td>\n",
       "      <td>...</td>\n",
       "      <td>...</td>\n",
       "      <td>...</td>\n",
       "      <td>...</td>\n",
       "      <td>...</td>\n",
       "      <td>...</td>\n",
       "      <td>...</td>\n",
       "      <td>...</td>\n",
       "      <td>...</td>\n",
       "      <td>...</td>\n",
       "      <td>...</td>\n",
       "      <td>...</td>\n",
       "    </tr>\n",
       "    <tr>\n",
       "      <th>72</th>\n",
       "      <td>2022-01-31</td>\n",
       "      <td>43.260870</td>\n",
       "      <td>7.761364</td>\n",
       "      <td>6.940476</td>\n",
       "      <td>6.750000</td>\n",
       "      <td>38.652174</td>\n",
       "      <td>9.227273</td>\n",
       "      <td>9.000000</td>\n",
       "      <td>9.000000</td>\n",
       "      <td>1760.800000</td>\n",
       "      <td>...</td>\n",
       "      <td>45.526000</td>\n",
       "      <td>40.784091</td>\n",
       "      <td>83.810633</td>\n",
       "      <td>52.861635</td>\n",
       "      <td>44.744839</td>\n",
       "      <td>40.084294</td>\n",
       "      <td>10.447500</td>\n",
       "      <td>13.356316</td>\n",
       "      <td>11.763500</td>\n",
       "      <td>10.247619</td>\n",
       "    </tr>\n",
       "    <tr>\n",
       "      <th>73</th>\n",
       "      <td>2022-02-28</td>\n",
       "      <td>56.425000</td>\n",
       "      <td>9.663043</td>\n",
       "      <td>7.761364</td>\n",
       "      <td>6.940476</td>\n",
       "      <td>51.862500</td>\n",
       "      <td>10.869565</td>\n",
       "      <td>9.227273</td>\n",
       "      <td>9.000000</td>\n",
       "      <td>1834.900000</td>\n",
       "      <td>...</td>\n",
       "      <td>53.784500</td>\n",
       "      <td>45.526000</td>\n",
       "      <td>103.090237</td>\n",
       "      <td>56.726189</td>\n",
       "      <td>52.861635</td>\n",
       "      <td>44.744839</td>\n",
       "      <td>11.484211</td>\n",
       "      <td>14.003478</td>\n",
       "      <td>13.356316</td>\n",
       "      <td>11.763500</td>\n",
       "    </tr>\n",
       "    <tr>\n",
       "      <th>74</th>\n",
       "      <td>2022-03-31</td>\n",
       "      <td>71.086957</td>\n",
       "      <td>11.326087</td>\n",
       "      <td>9.663043</td>\n",
       "      <td>7.761364</td>\n",
       "      <td>69.576087</td>\n",
       "      <td>12.097826</td>\n",
       "      <td>10.869565</td>\n",
       "      <td>9.227273</td>\n",
       "      <td>2464.086957</td>\n",
       "      <td>...</td>\n",
       "      <td>57.716522</td>\n",
       "      <td>53.784500</td>\n",
       "      <td>131.760578</td>\n",
       "      <td>58.769003</td>\n",
       "      <td>56.726189</td>\n",
       "      <td>52.861635</td>\n",
       "      <td>12.527391</td>\n",
       "      <td>14.631429</td>\n",
       "      <td>14.003478</td>\n",
       "      <td>13.356316</td>\n",
       "    </tr>\n",
       "    <tr>\n",
       "      <th>75</th>\n",
       "      <td>2022-04-30</td>\n",
       "      <td>75.804348</td>\n",
       "      <td>12.727273</td>\n",
       "      <td>11.326087</td>\n",
       "      <td>9.663043</td>\n",
       "      <td>81.173913</td>\n",
       "      <td>13.147727</td>\n",
       "      <td>12.097826</td>\n",
       "      <td>10.869565</td>\n",
       "      <td>2220.368421</td>\n",
       "      <td>...</td>\n",
       "      <td>59.795000</td>\n",
       "      <td>57.716522</td>\n",
       "      <td>143.334491</td>\n",
       "      <td>60.908089</td>\n",
       "      <td>58.769003</td>\n",
       "      <td>56.726189</td>\n",
       "      <td>12.804500</td>\n",
       "      <td>14.080000</td>\n",
       "      <td>14.631429</td>\n",
       "      <td>14.003478</td>\n",
       "    </tr>\n",
       "    <tr>\n",
       "      <th>76</th>\n",
       "      <td>2022-05-31</td>\n",
       "      <td>74.295455</td>\n",
       "      <td>13.340909</td>\n",
       "      <td>12.727273</td>\n",
       "      <td>11.326087</td>\n",
       "      <td>79.806818</td>\n",
       "      <td>14.329545</td>\n",
       "      <td>13.147727</td>\n",
       "      <td>12.097826</td>\n",
       "      <td>2943.047619</td>\n",
       "      <td>...</td>\n",
       "      <td>61.971429</td>\n",
       "      <td>59.795000</td>\n",
       "      <td>128.314419</td>\n",
       "      <td>54.078616</td>\n",
       "      <td>60.908089</td>\n",
       "      <td>58.769003</td>\n",
       "      <td>10.790000</td>\n",
       "      <td>12.010909</td>\n",
       "      <td>14.080000</td>\n",
       "      <td>14.631429</td>\n",
       "    </tr>\n",
       "  </tbody>\n",
       "</table>\n",
       "<p>77 rows × 3257 columns</p>\n",
       "</div>"
      ],
      "text/plain": [
       "         date          y       y_11       y_12       y_13         y2  \\\n",
       "0  2016-01-31  20.177268        NaN        NaN        NaN  20.680110   \n",
       "1  2016-02-29  23.306868        NaN        NaN        NaN  24.462716   \n",
       "2  2016-03-31  25.223010        NaN        NaN        NaN  28.364874   \n",
       "3  2016-04-30  25.308243        NaN        NaN        NaN  29.181978   \n",
       "4  2016-05-31  24.875099        NaN        NaN        NaN  27.810405   \n",
       "..        ...        ...        ...        ...        ...        ...   \n",
       "72 2022-01-31  43.260870   7.761364   6.940476   6.750000  38.652174   \n",
       "73 2022-02-28  56.425000   9.663043   7.761364   6.940476  51.862500   \n",
       "74 2022-03-31  71.086957  11.326087   9.663043   7.761364  69.576087   \n",
       "75 2022-04-30  75.804348  12.727273  11.326087   9.663043  81.173913   \n",
       "76 2022-05-31  74.295455  13.340909  12.727273  11.326087  79.806818   \n",
       "\n",
       "        y2_11      y2_12      y2_13  Baltic Dry Index (BDI)  ...  \\\n",
       "0         NaN        NaN        NaN              386.300000  ...   \n",
       "1         NaN        NaN        NaN              306.904762  ...   \n",
       "2         NaN        NaN        NaN              383.333333  ...   \n",
       "3         NaN        NaN        NaN              607.476191  ...   \n",
       "4         NaN        NaN        NaN              619.900000  ...   \n",
       "..        ...        ...        ...                     ...  ...   \n",
       "72   9.227273   9.000000   9.000000             1760.800000  ...   \n",
       "73  10.869565   9.227273   9.000000             1834.900000  ...   \n",
       "74  12.097826  10.869565   9.227273             2464.086957  ...   \n",
       "75  13.147727  12.097826  10.869565             2220.368421  ...   \n",
       "76  14.329545  13.147727  12.097826             2943.047619  ...   \n",
       "\n",
       "    ERAMET(ERA.PA)_Close_12  ERAMET(ERA.PA)_Close_13  \\\n",
       "0                       NaN                      NaN   \n",
       "1                       NaN                      NaN   \n",
       "2                       NaN                      NaN   \n",
       "3                       NaN                      NaN   \n",
       "4                       NaN                      NaN   \n",
       "..                      ...                      ...   \n",
       "72                45.526000                40.784091   \n",
       "73                53.784500                45.526000   \n",
       "74                57.716522                53.784500   \n",
       "75                59.795000                57.716522   \n",
       "76                61.971429                59.795000   \n",
       "\n",
       "    ERAMET(ERA.PA)_Adj Close  ERAMET(ERA.PA)_Adj Close_11  \\\n",
       "0                  21.652791                          NaN   \n",
       "1                  16.932949                          NaN   \n",
       "2                  22.360672                          NaN   \n",
       "3                  24.981643                          NaN   \n",
       "4                  27.587567                          NaN   \n",
       "..                       ...                          ...   \n",
       "72                 83.810633                    52.861635   \n",
       "73                103.090237                    56.726189   \n",
       "74                131.760578                    58.769003   \n",
       "75                143.334491                    60.908089   \n",
       "76                128.314419                    54.078616   \n",
       "\n",
       "    ERAMET(ERA.PA)_Adj Close_12  ERAMET(ERA.PA)_Adj Close_13  \\\n",
       "0                           NaN                          NaN   \n",
       "1                           NaN                          NaN   \n",
       "2                           NaN                          NaN   \n",
       "3                           NaN                          NaN   \n",
       "4                           NaN                          NaN   \n",
       "..                          ...                          ...   \n",
       "72                    44.744839                    40.084294   \n",
       "73                    52.861635                    44.744839   \n",
       "74                    56.726189                    52.861635   \n",
       "75                    58.769003                    56.726189   \n",
       "76                    60.908089                    58.769003   \n",
       "\n",
       "    Lundin Mining(LUN.TO)_Open  Lundin Mining(LUN.TO)_Open_11  \\\n",
       "0                     3.335500                            NaN   \n",
       "1                     3.504000                            NaN   \n",
       "2                     4.183182                            NaN   \n",
       "3                     4.217143                            NaN   \n",
       "4                     4.220952                            NaN   \n",
       "..                         ...                            ...   \n",
       "72                   10.447500                      13.356316   \n",
       "73                   11.484211                      14.003478   \n",
       "74                   12.527391                      14.631429   \n",
       "75                   12.804500                      14.080000   \n",
       "76                   10.790000                      12.010909   \n",
       "\n",
       "    Lundin Mining(LUN.TO)_Open_12  Lundin Mining(LUN.TO)_Open_13  \n",
       "0                             NaN                            NaN  \n",
       "1                             NaN                            NaN  \n",
       "2                             NaN                            NaN  \n",
       "3                             NaN                            NaN  \n",
       "4                             NaN                            NaN  \n",
       "..                            ...                            ...  \n",
       "72                      11.763500                      10.247619  \n",
       "73                      13.356316                      11.763500  \n",
       "74                      14.003478                      13.356316  \n",
       "75                      14.631429                      14.003478  \n",
       "76                      14.080000                      14.631429  \n",
       "\n",
       "[77 rows x 3257 columns]"
      ]
     },
     "execution_count": 88,
     "metadata": {},
     "output_type": "execute_result"
    }
   ],
   "source": [
    "raw_y_set_shifted_merged"
   ]
  },
  {
   "cell_type": "markdown",
   "id": "4889fa8d-cdb7-4a0c-a705-894d1746bdb7",
   "metadata": {},
   "source": [
    "#### 해당 기간에서의 12{test_period} lag corr best"
   ]
  },
  {
   "cell_type": "code",
   "execution_count": 89,
   "id": "637d45e9-c3d2-4965-af8f-5553849d1f41",
   "metadata": {
    "tags": []
   },
   "outputs": [
    {
     "ename": "KeyError",
     "evalue": "\"['Lundin Mining(LUN.TO)_High', 'Lundin Mining(LUN.TO)_Low', 'Lundin Mining(LUN.TO)_Close', 'Lundin Mining(LUN.TO)_Adj Close', 'Cameco(CCJ)_Open', 'Cameco(CCJ)_High', 'Cameco(CCJ)_Low', 'Cameco(CCJ)_Close', 'Cameco(CCJ)_Adj Close', 'Rio Tinto(RIO)_Open_x', 'Rio Tinto(RIO)_High_x', 'Rio Tinto(RIO)_Low_x', 'Rio Tinto(RIO)_Close_x', 'Rio Tinto(RIO)_Adj Close_x', 'Rio Tinto(RIO)_Open_y', 'Rio Tinto(RIO)_High_y', 'Rio Tinto(RIO)_Low_y', 'Rio Tinto(RIO)_Close_y', 'Rio Tinto(RIO)_Adj Close_y', 'First Quantum (FM.TO)_Open', 'First Quantum (FM.TO)_High', 'First Quantum (FM.TO)_Low', 'First Quantum (FM.TO)_Close', 'First Quantum (FM.TO)_Adj Close', 'Barrick Gold(GOLD)_Open', 'Barrick Gold(GOLD)_High', 'Barrick Gold(GOLD)_Low', 'Barrick Gold(GOLD)_Close', 'Barrick Gold(GOLD)_Adj Close', 'FRANCO NEVADA(FNV)_Open', 'FRANCO NEVADA(FNV)_High', 'FRANCO NEVADA(FNV)_Low', 'FRANCO NEVADA(FNV)_Close', 'FRANCO NEVADA(FNV)_Adj Close', 'African Rainbow(AFBOF)_Open', 'African Rainbow(AFBOF)_High', 'African Rainbow(AFBOF)_Low', 'African Rainbow(AFBOF)_Close', 'African Rainbow(AFBOF)_Adj Close', 'Anglo Plat(ANGPY)_Open', 'Anglo Plat(ANGPY)_High', 'Anglo Plat(ANGPY)_Low', 'Anglo Plat(ANGPY)_Close', 'Anglo Plat(ANGPY)_Adj Close', 'XSTRATA(Glencore plc (GLNCY))_Open', 'XSTRATA(Glencore plc (GLNCY))_High', 'XSTRATA(Glencore plc (GLNCY))_Low', 'XSTRATA(Glencore plc (GLNCY))_Close', 'XSTRATA(Glencore plc (GLNCY))_Adj Close', 'Anglo American plc (NGLOY)_Open', 'Anglo American plc (NGLOY)_High', 'Anglo American plc (NGLOY)_Low', 'Anglo American plc (NGLOY)_Close', 'Anglo American plc (NGLOY)_Adj Close', 'BHP Group (BHP)_Open', 'BHP Group (BHP)_High', 'BHP Group (BHP)_Low', 'BHP Group (BHP)_Close', 'BHP Group (BHP)_Adj Close', 'SQM_price_Open', 'SQM_price_High', 'SQM_price_Low', 'SQM_price_Close', 'SQM_price_Adj Close', 'ALB_price_Open', 'ALB_price_High', 'ALB_price_Low', 'ALB_price_Close', 'ALB_price_Adj Close', 'LAC_price_Open', 'LAC_price_High', 'LAC_price_Low', 'LAC_price_Close', 'LAC_price_Adj Close', '1772.HK(Ganfeng Lithium)_Price_Open', '1772.HK(Ganfeng Lithium)_Price_High', '1772.HK(Ganfeng Lithium)_Price_Low', '1772.HK(Ganfeng Lithium)_Price_Close', '1772.HK(Ganfeng Lithium)_Price_Adj Close', '002466.SZ(Tianqi Lithium)_price_Open', '002466.SZ(Tianqi Lithium)_price_High', '002466.SZ(Tianqi Lithium)_price_Low', '002466.SZ(Tianqi Lithium)_price_Close', '002466.SZ(Tianqi Lithium)_price_Adj Close', 'independence group_price_Open', 'independence group_price_High', 'independence group_price_Low', 'independence group_price_Close', 'independence group_price_Adj Close', 'Livent Corporation_price_Open', 'Livent Corporation_price_High', 'Livent Corporation_price_Low', 'Livent Corporation_price_Close', 'Livent Corporation_price_Adj Close', 'Orocobre Limited (OROCF)_price_Open', 'Orocobre Limited (OROCF)_price_High', 'Orocobre Limited (OROCF)_price_Low', 'Orocobre Limited (OROCF)_price_Close', 'Orocobre Limited (OROCF)_price_Adj Close', 'Pilbara Mineral Limited_price_Open', 'Pilbara Mineral Limited_price_High', 'Pilbara Mineral Limited_price_Low', 'Pilbara Mineral Limited_price_Close', 'Pilbara Mineral Limited_price_Adj Close', 'Allkem Limited (AKE.AX)_price_Open', 'Allkem Limited (AKE.AX)_price_High', 'Allkem Limited (AKE.AX)_price_Low', 'Allkem Limited (AKE.AX)_price_Close', 'Allkem Limited (AKE.AX)_price_Adj Close'] not in index\"",
     "output_type": "error",
     "traceback": [
      "\u001b[1;31m---------------------------------------------------------------------------\u001b[0m",
      "\u001b[1;31mKeyError\u001b[0m                                  Traceback (most recent call last)",
      "Cell \u001b[1;32mIn[89], line 2\u001b[0m\n\u001b[0;32m      1\u001b[0m raw_y_set_shifted_merged_corr \u001b[38;5;241m=\u001b[39m raw_y_set_shifted_merged\u001b[38;5;241m.\u001b[39mcorr()\n\u001b[1;32m----> 2\u001b[0m raw_y_set_shifted_merged_filtered \u001b[38;5;241m=\u001b[39m \u001b[43mraw_y_set_shifted_merged_corr\u001b[49m\u001b[43m[\u001b[49m\u001b[43mraw_y_set_resampled\u001b[49m\u001b[38;5;241;43m.\u001b[39;49m\u001b[43mcolumns\u001b[49m\u001b[38;5;241;43m.\u001b[39;49m\u001b[43mdrop\u001b[49m\u001b[43m(\u001b[49m\u001b[38;5;124;43m'\u001b[39;49m\u001b[38;5;124;43mdate\u001b[39;49m\u001b[38;5;124;43m'\u001b[39;49m\u001b[43m)\u001b[49m\u001b[43m]\u001b[49m\n\u001b[0;32m      3\u001b[0m \u001b[38;5;66;03m# raw_y_set_shifted_merged_filtered.sort_values('y',ascending=False)\u001b[39;00m\n\u001b[0;32m      4\u001b[0m raw_y_set_shifted_merged_filtered \u001b[38;5;241m=\u001b[39m raw_y_set_shifted_merged_filtered[raw_y_set_shifted_merged_filtered\u001b[38;5;241m.\u001b[39mindex\u001b[38;5;241m.\u001b[39mstr\u001b[38;5;241m.\u001b[39mcontains(\u001b[38;5;124m'\u001b[39m\u001b[38;5;124my\u001b[39m\u001b[38;5;124m'\u001b[39m)\u001b[38;5;241m==\u001b[39m\u001b[38;5;28;01mFalse\u001b[39;00m]\n",
      "File \u001b[1;32m~\\anaconda3\\envs\\dl\\lib\\site-packages\\pandas\\core\\frame.py:3811\u001b[0m, in \u001b[0;36mDataFrame.__getitem__\u001b[1;34m(self, key)\u001b[0m\n\u001b[0;32m   3809\u001b[0m     \u001b[38;5;28;01mif\u001b[39;00m is_iterator(key):\n\u001b[0;32m   3810\u001b[0m         key \u001b[38;5;241m=\u001b[39m \u001b[38;5;28mlist\u001b[39m(key)\n\u001b[1;32m-> 3811\u001b[0m     indexer \u001b[38;5;241m=\u001b[39m \u001b[38;5;28;43mself\u001b[39;49m\u001b[38;5;241;43m.\u001b[39;49m\u001b[43mcolumns\u001b[49m\u001b[38;5;241;43m.\u001b[39;49m\u001b[43m_get_indexer_strict\u001b[49m\u001b[43m(\u001b[49m\u001b[43mkey\u001b[49m\u001b[43m,\u001b[49m\u001b[43m \u001b[49m\u001b[38;5;124;43m\"\u001b[39;49m\u001b[38;5;124;43mcolumns\u001b[39;49m\u001b[38;5;124;43m\"\u001b[39;49m\u001b[43m)\u001b[49m[\u001b[38;5;241m1\u001b[39m]\n\u001b[0;32m   3813\u001b[0m \u001b[38;5;66;03m# take() does not accept boolean indexers\u001b[39;00m\n\u001b[0;32m   3814\u001b[0m \u001b[38;5;28;01mif\u001b[39;00m \u001b[38;5;28mgetattr\u001b[39m(indexer, \u001b[38;5;124m\"\u001b[39m\u001b[38;5;124mdtype\u001b[39m\u001b[38;5;124m\"\u001b[39m, \u001b[38;5;28;01mNone\u001b[39;00m) \u001b[38;5;241m==\u001b[39m \u001b[38;5;28mbool\u001b[39m:\n",
      "File \u001b[1;32m~\\anaconda3\\envs\\dl\\lib\\site-packages\\pandas\\core\\indexes\\base.py:6113\u001b[0m, in \u001b[0;36mIndex._get_indexer_strict\u001b[1;34m(self, key, axis_name)\u001b[0m\n\u001b[0;32m   6110\u001b[0m \u001b[38;5;28;01melse\u001b[39;00m:\n\u001b[0;32m   6111\u001b[0m     keyarr, indexer, new_indexer \u001b[38;5;241m=\u001b[39m \u001b[38;5;28mself\u001b[39m\u001b[38;5;241m.\u001b[39m_reindex_non_unique(keyarr)\n\u001b[1;32m-> 6113\u001b[0m \u001b[38;5;28;43mself\u001b[39;49m\u001b[38;5;241;43m.\u001b[39;49m\u001b[43m_raise_if_missing\u001b[49m\u001b[43m(\u001b[49m\u001b[43mkeyarr\u001b[49m\u001b[43m,\u001b[49m\u001b[43m \u001b[49m\u001b[43mindexer\u001b[49m\u001b[43m,\u001b[49m\u001b[43m \u001b[49m\u001b[43maxis_name\u001b[49m\u001b[43m)\u001b[49m\n\u001b[0;32m   6115\u001b[0m keyarr \u001b[38;5;241m=\u001b[39m \u001b[38;5;28mself\u001b[39m\u001b[38;5;241m.\u001b[39mtake(indexer)\n\u001b[0;32m   6116\u001b[0m \u001b[38;5;28;01mif\u001b[39;00m \u001b[38;5;28misinstance\u001b[39m(key, Index):\n\u001b[0;32m   6117\u001b[0m     \u001b[38;5;66;03m# GH 42790 - Preserve name from an Index\u001b[39;00m\n",
      "File \u001b[1;32m~\\anaconda3\\envs\\dl\\lib\\site-packages\\pandas\\core\\indexes\\base.py:6176\u001b[0m, in \u001b[0;36mIndex._raise_if_missing\u001b[1;34m(self, key, indexer, axis_name)\u001b[0m\n\u001b[0;32m   6173\u001b[0m     \u001b[38;5;28;01mraise\u001b[39;00m \u001b[38;5;167;01mKeyError\u001b[39;00m(\u001b[38;5;124mf\u001b[39m\u001b[38;5;124m\"\u001b[39m\u001b[38;5;124mNone of [\u001b[39m\u001b[38;5;132;01m{\u001b[39;00mkey\u001b[38;5;132;01m}\u001b[39;00m\u001b[38;5;124m] are in the [\u001b[39m\u001b[38;5;132;01m{\u001b[39;00maxis_name\u001b[38;5;132;01m}\u001b[39;00m\u001b[38;5;124m]\u001b[39m\u001b[38;5;124m\"\u001b[39m)\n\u001b[0;32m   6175\u001b[0m not_found \u001b[38;5;241m=\u001b[39m \u001b[38;5;28mlist\u001b[39m(ensure_index(key)[missing_mask\u001b[38;5;241m.\u001b[39mnonzero()[\u001b[38;5;241m0\u001b[39m]]\u001b[38;5;241m.\u001b[39munique())\n\u001b[1;32m-> 6176\u001b[0m \u001b[38;5;28;01mraise\u001b[39;00m \u001b[38;5;167;01mKeyError\u001b[39;00m(\u001b[38;5;124mf\u001b[39m\u001b[38;5;124m\"\u001b[39m\u001b[38;5;132;01m{\u001b[39;00mnot_found\u001b[38;5;132;01m}\u001b[39;00m\u001b[38;5;124m not in index\u001b[39m\u001b[38;5;124m\"\u001b[39m)\n",
      "\u001b[1;31mKeyError\u001b[0m: \"['Lundin Mining(LUN.TO)_High', 'Lundin Mining(LUN.TO)_Low', 'Lundin Mining(LUN.TO)_Close', 'Lundin Mining(LUN.TO)_Adj Close', 'Cameco(CCJ)_Open', 'Cameco(CCJ)_High', 'Cameco(CCJ)_Low', 'Cameco(CCJ)_Close', 'Cameco(CCJ)_Adj Close', 'Rio Tinto(RIO)_Open_x', 'Rio Tinto(RIO)_High_x', 'Rio Tinto(RIO)_Low_x', 'Rio Tinto(RIO)_Close_x', 'Rio Tinto(RIO)_Adj Close_x', 'Rio Tinto(RIO)_Open_y', 'Rio Tinto(RIO)_High_y', 'Rio Tinto(RIO)_Low_y', 'Rio Tinto(RIO)_Close_y', 'Rio Tinto(RIO)_Adj Close_y', 'First Quantum (FM.TO)_Open', 'First Quantum (FM.TO)_High', 'First Quantum (FM.TO)_Low', 'First Quantum (FM.TO)_Close', 'First Quantum (FM.TO)_Adj Close', 'Barrick Gold(GOLD)_Open', 'Barrick Gold(GOLD)_High', 'Barrick Gold(GOLD)_Low', 'Barrick Gold(GOLD)_Close', 'Barrick Gold(GOLD)_Adj Close', 'FRANCO NEVADA(FNV)_Open', 'FRANCO NEVADA(FNV)_High', 'FRANCO NEVADA(FNV)_Low', 'FRANCO NEVADA(FNV)_Close', 'FRANCO NEVADA(FNV)_Adj Close', 'African Rainbow(AFBOF)_Open', 'African Rainbow(AFBOF)_High', 'African Rainbow(AFBOF)_Low', 'African Rainbow(AFBOF)_Close', 'African Rainbow(AFBOF)_Adj Close', 'Anglo Plat(ANGPY)_Open', 'Anglo Plat(ANGPY)_High', 'Anglo Plat(ANGPY)_Low', 'Anglo Plat(ANGPY)_Close', 'Anglo Plat(ANGPY)_Adj Close', 'XSTRATA(Glencore plc (GLNCY))_Open', 'XSTRATA(Glencore plc (GLNCY))_High', 'XSTRATA(Glencore plc (GLNCY))_Low', 'XSTRATA(Glencore plc (GLNCY))_Close', 'XSTRATA(Glencore plc (GLNCY))_Adj Close', 'Anglo American plc (NGLOY)_Open', 'Anglo American plc (NGLOY)_High', 'Anglo American plc (NGLOY)_Low', 'Anglo American plc (NGLOY)_Close', 'Anglo American plc (NGLOY)_Adj Close', 'BHP Group (BHP)_Open', 'BHP Group (BHP)_High', 'BHP Group (BHP)_Low', 'BHP Group (BHP)_Close', 'BHP Group (BHP)_Adj Close', 'SQM_price_Open', 'SQM_price_High', 'SQM_price_Low', 'SQM_price_Close', 'SQM_price_Adj Close', 'ALB_price_Open', 'ALB_price_High', 'ALB_price_Low', 'ALB_price_Close', 'ALB_price_Adj Close', 'LAC_price_Open', 'LAC_price_High', 'LAC_price_Low', 'LAC_price_Close', 'LAC_price_Adj Close', '1772.HK(Ganfeng Lithium)_Price_Open', '1772.HK(Ganfeng Lithium)_Price_High', '1772.HK(Ganfeng Lithium)_Price_Low', '1772.HK(Ganfeng Lithium)_Price_Close', '1772.HK(Ganfeng Lithium)_Price_Adj Close', '002466.SZ(Tianqi Lithium)_price_Open', '002466.SZ(Tianqi Lithium)_price_High', '002466.SZ(Tianqi Lithium)_price_Low', '002466.SZ(Tianqi Lithium)_price_Close', '002466.SZ(Tianqi Lithium)_price_Adj Close', 'independence group_price_Open', 'independence group_price_High', 'independence group_price_Low', 'independence group_price_Close', 'independence group_price_Adj Close', 'Livent Corporation_price_Open', 'Livent Corporation_price_High', 'Livent Corporation_price_Low', 'Livent Corporation_price_Close', 'Livent Corporation_price_Adj Close', 'Orocobre Limited (OROCF)_price_Open', 'Orocobre Limited (OROCF)_price_High', 'Orocobre Limited (OROCF)_price_Low', 'Orocobre Limited (OROCF)_price_Close', 'Orocobre Limited (OROCF)_price_Adj Close', 'Pilbara Mineral Limited_price_Open', 'Pilbara Mineral Limited_price_High', 'Pilbara Mineral Limited_price_Low', 'Pilbara Mineral Limited_price_Close', 'Pilbara Mineral Limited_price_Adj Close', 'Allkem Limited (AKE.AX)_price_Open', 'Allkem Limited (AKE.AX)_price_High', 'Allkem Limited (AKE.AX)_price_Low', 'Allkem Limited (AKE.AX)_price_Close', 'Allkem Limited (AKE.AX)_price_Adj Close'] not in index\""
     ]
    }
   ],
   "source": [
    "raw_y_set_shifted_merged_corr = raw_y_set_shifted_merged.corr()\n",
    "raw_y_set_shifted_merged_filtered = raw_y_set_shifted_merged_corr[raw_y_set_resampled.columns.drop('date')]\n",
    "# raw_y_set_shifted_merged_filtered.sort_values('y',ascending=False)\n",
    "raw_y_set_shifted_merged_filtered = raw_y_set_shifted_merged_filtered[raw_y_set_shifted_merged_filtered.index.str.contains('y')==False]\n",
    "raw_y_set_shifted_merged_filtered = raw_y_set_shifted_merged_filtered[raw_y_set_shifted_merged_filtered.index.str.contains('y2')==False]\n",
    "raw_y_set_shifted_merged_filtered_y = raw_y_set_shifted_merged_filtered.iloc[:,:1]\n",
    "\n",
    "raw_y_set_shifted_merged_filtered_upto_corr_rate = raw_y_set_shifted_merged_filtered_upto_corr_rate[raw_y_set_shifted_merged_filtered_upto_corr_rate.index.str.contains(f'_{test_period}')]\n",
    "raw_y_set_shifted_merged_filtered_upto_corr_rate = raw_y_set_shifted_merged_filtered_y[raw_y_set_shifted_merged_filtered_y.y >= corr_rate]\n",
    "\n",
    "raw_y_set_shifted_merged_filtered_upto_corr_rate = raw_y_set_shifted_merged_filtered_upto_corr_rate.sort_values('y',ascending=False)\n",
    "futr_list = raw_y_set_shifted_merged_filtered_upto_corr_rate.index.values.tolist()\n",
    "futr_list = [word.strip(f'_{test_period}') for word in futr_list ]\n",
    "\n",
    "# futr_list.remove('y')\n",
    "# futr_list.remove('y2')\n",
    "\n",
    "futr_list"
   ]
  },
  {
   "cell_type": "code",
   "execution_count": null,
   "id": "230a8441-1a74-4fc1-bbd7-a371e13abe18",
   "metadata": {
    "tags": []
   },
   "outputs": [],
   "source": [
    "raw_y_set_shifted_merged_filtered_upto_corr_rate"
   ]
  },
  {
   "cell_type": "markdown",
   "id": "7e7e2423-991f-4d6b-882c-50617a2a65e1",
   "metadata": {},
   "source": [
    "#### 해당 기간에서의 12{test_period} corr best"
   ]
  },
  {
   "cell_type": "code",
   "execution_count": 84,
   "id": "e40279d3-f9f2-410e-88ac-452b91a2f75c",
   "metadata": {
    "tags": []
   },
   "outputs": [
    {
     "data": {
      "text/plain": [
       "['CPI_PRT_TOT_FOODENRG_AGRWTH',\n",
       " '대두 [미국(생산자 가격)] 현물',\n",
       " 'CPI_BEL_TOT_AGRWTH',\n",
       " 'CPI_PRT_TOT_AGRWTH',\n",
       " '중국 니켈 SEMIS 수입량',\n",
       " 'CPI_GBR_TOT_FOODENRG_AGRWTH',\n",
       " 'CPI_TUR_ENRG_AGRWTH',\n",
       " '대두유 crude and refined average price [파라나구아(FOB)] 현물',\n",
       " 'CPI_LTU_TOT_AGRWTH',\n",
       " 'CPI_GRC_TOT_AGRWTH',\n",
       " 'CPI_DNK_ENRG_IDX2015',\n",
       " 'CPI_LTU_FOOD_AGRWTH',\n",
       " 'CPI_GRC_ENRG_IDX2015',\n",
       " 'CPI_OECD_TOT_FOODENRG_AGRWTH',\n",
       " 'CPI_BEL_TOT_FOODENRG_AGRWTH',\n",
       " 'CPI_DNK_TOT_AGRWTH',\n",
       " 'HOUSECOST_KOR',\n",
       " 'CPI_EST_TOT_FOODENRG_AGRWTH',\n",
       " 'CPI_EST_TOT_AGRWTH',\n",
       " 'PPP_POL',\n",
       " 'CPI_BEL_ENRG_AGRWTH',\n",
       " 'CPI_GRC_ENRG_AGRWTH',\n",
       " 'CPI_KOR_TOT_FOODENRG_AGRWTH',\n",
       " 'Pilbara Mineral Limited_price_Adj Close',\n",
       " 'CPI_GBR_TOT_AGRWTH',\n",
       " 'CPI_ESP_TOT_FOODENRG_AGRWTH',\n",
       " 'CPI_SWE_TOT_AGRWTH',\n",
       " 'CPI_NLD_ENRG_AGRWTH',\n",
       " 'CPI_CHL_TOT_AGRWTH',\n",
       " 'CPI_OECDE_TOT_AGRWTH',\n",
       " 'CPI_ITA_TOT_AGRWTH',\n",
       " 'CPI_OECDE_TOT_FOODENRG_AGRWTH',\n",
       " 'CPI_LTU_ENRG_IDX2015',\n",
       " 'CPI_TUR_TOT_AGRWTH',\n",
       " 'CPI_CAN_TOT_FOODENRG_AGRWTH',\n",
       " 'Shanghai Containerized Freight Index (SCFI)',\n",
       " 'GDP_SAU',\n",
       " 'CPI_CHL_TOT_FOODENRG_AGRWTH',\n",
       " 'CPI_TUR_TOT_FOODENRG_AGRWTH',\n",
       " 'CPI_AUT_TOT_AGRWTH',\n",
       " 'CPI_EA19_TOT_FOODENRG_AGRWTH',\n",
       " 'CPI_LTU_TOT_FOODENRG_AGRWTH',\n",
       " 'CPI_RUS_TOT_AGRWTH',\n",
       " 'CPI_CZE_ENRG_AGRWTH',\n",
       " 'CPI_EST_ENRG_AGRWTH',\n",
       " 'CPI_EA19_TOT_AGRWTH',\n",
       " 'CPI_G-7_TOT_FOODENRG_AGRWTH',\n",
       " 'CPI_ITA_ENRG_IDX2015',\n",
       " 'CPI_FIN_TOT_AGRWTH',\n",
       " 'CPI_OECD_TOT_AGRWTH',\n",
       " 'CPI_DNK_ENRG_AGRWTH',\n",
       " 'CPI_LVA_TOT_AGRWTH',\n",
       " 'CPI_ESP_FOOD_AGRWTH',\n",
       " 'al_lme_kg',\n",
       " 'CPI_FIN_TOT_FOODENRG_AGRWTH',\n",
       " 'PPP_SRB',\n",
       " 'CPI_AUT_TOT_FOODENRG_AGRWTH',\n",
       " 'CPI_OECDE_ENRG_AGRWTH',\n",
       " 'CPI_EU27_2020_TOT_AGRWTH',\n",
       " 'CPI_GBR_ENRG_AGRWTH',\n",
       " 'CPI_NLD_ENRG_IDX2015',\n",
       " 'CPI_LTU_ENRG_AGRWTH']"
      ]
     },
     "execution_count": 84,
     "metadata": {},
     "output_type": "execute_result"
    }
   ],
   "source": [
    "hist_var_chcek = raw_y_set_resampled.iloc[:,1:]\n",
    "\n",
    "hist_var_corr = hist_var_chcek.corr()\n",
    "hist_var_corr_filtered = hist_var_corr.loc[hist_var_corr.index != 'y']\n",
    "hist_var_corr_filtered = hist_var_corr_filtered.loc[hist_var_corr_filtered.index != 'y2']\n",
    "hist_var_corr_filtered_y = hist_var_corr_filtered.iloc[:,:1]\n",
    "hist_var_corr_filtered_y_corr_rate = hist_var_corr_filtered_y[hist_var_corr_filtered_y.y >= corr_rate]\n",
    "hist_var_corr_filtered_y_only = hist_var_corr_filtered_y_corr_rate[hist_var_corr_filtered_y_corr_rate.index.str.contains('li2co3')==False]\n",
    "hist_var_corr_filtered_y_only = hist_var_corr_filtered_y_only[hist_var_corr_filtered_y_only.index.str.contains('lioh')==False]\n",
    "hist_var_corr_filtered_y_only = hist_var_corr_filtered_y_only.sort_values('y',ascending=False)\n",
    "hist_var_list = hist_var_corr_filtered_y_only.index.values.tolist()\n",
    "\n",
    "hist_var_list"
   ]
  },
  {
   "cell_type": "markdown",
   "id": "e8e986de-da6c-4b2d-9a92-6f5c9c8da01a",
   "metadata": {},
   "source": [
    "## scasler"
   ]
  },
  {
   "cell_type": "code",
   "execution_count": 31,
   "id": "3e37017b-fc8c-4ce2-93ff-3758d04817e2",
   "metadata": {
    "tags": []
   },
   "outputs": [],
   "source": [
    "# df_tgt = df.iloc[:,3:]\n",
    "\n",
    "# scaler = StandardScaler()\n",
    "# scaler.fit(df_tgt)\n",
    "# arr = scaler.transform(df_tgt)\n",
    "# df_tmp = pd.DataFrame(arr, columns=df_tgt.columns)\n",
    "# df = pd.concat([df.iloc[:,:3],df_tmp], axis=1)"
   ]
  },
  {
   "cell_type": "markdown",
   "id": "8a209346-8f24-44ee-ba3b-a08f80614190",
   "metadata": {
    "tags": []
   },
   "source": [
    "#### static DF"
   ]
  },
  {
   "cell_type": "code",
   "execution_count": 32,
   "id": "5ce7033a-2234-4bac-9087-91daee3af55a",
   "metadata": {
    "tags": []
   },
   "outputs": [],
   "source": [
    "static_df = pd.read_csv('/users/ESKO/PYWORK/NHITS/data/static_df.csv')"
   ]
  },
  {
   "cell_type": "markdown",
   "id": "d7fba8f2-a5ab-484b-b1ad-bda6ea55f7af",
   "metadata": {},
   "source": [
    "## <Training & Test>"
   ]
  },
  {
   "cell_type": "markdown",
   "id": "2135deb5-4427-45d2-b085-d0063d554f54",
   "metadata": {},
   "source": [
    "#### 날짜 확인"
   ]
  },
  {
   "cell_type": "code",
   "execution_count": 33,
   "id": "525afb1e-6ec3-4108-9c23-95cc5565c352",
   "metadata": {},
   "outputs": [],
   "source": [
    "# train = df.loc[df.ds < '2021-06-30']\n",
    "# test = df.loc[df.ds > '2021-06-30']"
   ]
  },
  {
   "cell_type": "markdown",
   "id": "9f95faab-68f4-4566-9494-35d2b646a7d7",
   "metadata": {},
   "source": [
    "#### 날짜 별 len 확인"
   ]
  },
  {
   "cell_type": "code",
   "execution_count": 34,
   "id": "8548a462-acb8-462e-afcb-94c8c29af9bd",
   "metadata": {
    "tags": []
   },
   "outputs": [],
   "source": [
    "# len(df.loc[df.ds<'2021-06-30'])"
   ]
  },
  {
   "cell_type": "code",
   "execution_count": 79,
   "id": "b9cbbd7a-3eb3-43be-84fe-2f4ca9267032",
   "metadata": {
    "tags": []
   },
   "outputs": [],
   "source": [
    "Y_train_df = df[df.ds<df['ds'].values[len(df.loc[df.ds<cutoff_date])]] # 132 train\n",
    "Y_test_df = df[df.ds>=df['ds'].values[len(df.loc[df.ds<=cutoff_date])]][:test_period]"
   ]
  },
  {
   "cell_type": "code",
   "execution_count": 36,
   "id": "953d9b81-adb6-440f-acab-b8b5d7a1f53c",
   "metadata": {
    "tags": []
   },
   "outputs": [
    {
     "data": {
      "text/plain": [
       "[]"
      ]
     },
     "execution_count": 36,
     "metadata": {},
     "output_type": "execute_result"
    }
   ],
   "source": [
    "futr_list"
   ]
  },
  {
   "cell_type": "code",
   "execution_count": 80,
   "id": "819f0948-e915-4efb-9507-a64b1c6eef28",
   "metadata": {
    "tags": []
   },
   "outputs": [
    {
     "ename": "KeyError",
     "evalue": "\"['African Rainbow(AFBOF)_Adj Close_11', '1772.HK(Ganfeng Lithium)_Price_Open_13', '1772.HK(Ganfeng Lithium)_Price_High_13', '1772.HK(Ganfeng Lithium)_Price_Low_13', '1772.HK(Ganfeng Lithium)_Price_Close_13', '1772.HK(Ganfeng Lithium)_Price_Adj Close_13', 'African Rainbow(AFBOF)_Adj Close_12', 'HOUSECOST_FIN_13', 'HOUSECOST_FIN_12', 'HOUSECOST_FIN_11', 'African Rainbow(AFBOF)_Adj Close_13', 'Cameco(CCJ)_High_11', 'Cameco(CCJ)_Open_11', 'Cameco(CCJ)_Close_11', '1772.HK(Ganfeng Lithium)_Price_Low_12', 'Cameco(CCJ)_Adj Close_11', '1772.HK(Ganfeng Lithium)_Price_Open_12', '1772.HK(Ganfeng Lithium)_Price_Close_12', '1772.HK(Ganfeng Lithium)_Price_Adj Close_12', '1772.HK(Ganfeng Lithium)_Price_High_12', 'Cameco(CCJ)_Low_11', 'CCI_SWE_11', '옥수수 For Grain [미국(생산자 가격)] 현물_11', 'Howe Robinson Container Index_11', 'LAC_price_Open_13', 'LAC_price_Low_13', 'LAC_price_High_13', 'LAC_price_Close_13', 'LAC_price_Adj Close_13', '1772.HK(Ganfeng Lithium)_Price_Low_11', '1772.HK(Ganfeng Lithium)_Price_Open_11', '1772.HK(Ganfeng Lithium)_Price_Close_11', 'Cameco(CCJ)_High_12', '1772.HK(Ganfeng Lithium)_Price_Adj Close_11', 'Cameco(CCJ)_Adj Close_12', '1772.HK(Ganfeng Lithium)_Price_High_11', 'Cameco(CCJ)_Open_12', 'Cameco(CCJ)_Close_12'] not in index\"",
     "output_type": "error",
     "traceback": [
      "\u001b[1;31m---------------------------------------------------------------------------\u001b[0m",
      "\u001b[1;31mKeyError\u001b[0m                                  Traceback (most recent call last)",
      "Cell \u001b[1;32mIn[80], line 10\u001b[0m\n\u001b[0;32m      2\u001b[0m \u001b[38;5;66;03m# futr_list = [\u001b[39;00m\n\u001b[0;32m      3\u001b[0m \u001b[38;5;66;03m#              'Shanghai Containerized Freight Index (SCFI)',\u001b[39;00m\n\u001b[0;32m      4\u001b[0m \u001b[38;5;66;03m#              '대두 [미국(생산자 가격)] 현물',\u001b[39;00m\n\u001b[1;32m   (...)\u001b[0m\n\u001b[0;32m      7\u001b[0m \u001b[38;5;66;03m#              # 'HOUSECOST_KOR'\u001b[39;00m\n\u001b[0;32m      8\u001b[0m \u001b[38;5;66;03m#              ]\u001b[39;00m\n\u001b[0;32m      9\u001b[0m futr_date \u001b[38;5;241m=\u001b[39m futr_temp\u001b[38;5;241m.\u001b[39miloc[:,:\u001b[38;5;241m2\u001b[39m]\u001b[38;5;241m.\u001b[39mcopy()\n\u001b[1;32m---> 10\u001b[0m futr_df \u001b[38;5;241m=\u001b[39m pd\u001b[38;5;241m.\u001b[39mconcat([futr_date,\u001b[43mfutr_temp\u001b[49m\u001b[43m[\u001b[49m\u001b[43mfutr_list\u001b[49m\u001b[43m]\u001b[49m], axis\u001b[38;5;241m=\u001b[39m\u001b[38;5;241m1\u001b[39m)\n\u001b[0;32m     11\u001b[0m \u001b[38;5;66;03m# futr_df\u001b[39;00m\n",
      "File \u001b[1;32m~\\anaconda3\\envs\\dl\\lib\\site-packages\\pandas\\core\\frame.py:3811\u001b[0m, in \u001b[0;36mDataFrame.__getitem__\u001b[1;34m(self, key)\u001b[0m\n\u001b[0;32m   3809\u001b[0m     \u001b[38;5;28;01mif\u001b[39;00m is_iterator(key):\n\u001b[0;32m   3810\u001b[0m         key \u001b[38;5;241m=\u001b[39m \u001b[38;5;28mlist\u001b[39m(key)\n\u001b[1;32m-> 3811\u001b[0m     indexer \u001b[38;5;241m=\u001b[39m \u001b[38;5;28;43mself\u001b[39;49m\u001b[38;5;241;43m.\u001b[39;49m\u001b[43mcolumns\u001b[49m\u001b[38;5;241;43m.\u001b[39;49m\u001b[43m_get_indexer_strict\u001b[49m\u001b[43m(\u001b[49m\u001b[43mkey\u001b[49m\u001b[43m,\u001b[49m\u001b[43m \u001b[49m\u001b[38;5;124;43m\"\u001b[39;49m\u001b[38;5;124;43mcolumns\u001b[39;49m\u001b[38;5;124;43m\"\u001b[39;49m\u001b[43m)\u001b[49m[\u001b[38;5;241m1\u001b[39m]\n\u001b[0;32m   3813\u001b[0m \u001b[38;5;66;03m# take() does not accept boolean indexers\u001b[39;00m\n\u001b[0;32m   3814\u001b[0m \u001b[38;5;28;01mif\u001b[39;00m \u001b[38;5;28mgetattr\u001b[39m(indexer, \u001b[38;5;124m\"\u001b[39m\u001b[38;5;124mdtype\u001b[39m\u001b[38;5;124m\"\u001b[39m, \u001b[38;5;28;01mNone\u001b[39;00m) \u001b[38;5;241m==\u001b[39m \u001b[38;5;28mbool\u001b[39m:\n",
      "File \u001b[1;32m~\\anaconda3\\envs\\dl\\lib\\site-packages\\pandas\\core\\indexes\\base.py:6113\u001b[0m, in \u001b[0;36mIndex._get_indexer_strict\u001b[1;34m(self, key, axis_name)\u001b[0m\n\u001b[0;32m   6110\u001b[0m \u001b[38;5;28;01melse\u001b[39;00m:\n\u001b[0;32m   6111\u001b[0m     keyarr, indexer, new_indexer \u001b[38;5;241m=\u001b[39m \u001b[38;5;28mself\u001b[39m\u001b[38;5;241m.\u001b[39m_reindex_non_unique(keyarr)\n\u001b[1;32m-> 6113\u001b[0m \u001b[38;5;28;43mself\u001b[39;49m\u001b[38;5;241;43m.\u001b[39;49m\u001b[43m_raise_if_missing\u001b[49m\u001b[43m(\u001b[49m\u001b[43mkeyarr\u001b[49m\u001b[43m,\u001b[49m\u001b[43m \u001b[49m\u001b[43mindexer\u001b[49m\u001b[43m,\u001b[49m\u001b[43m \u001b[49m\u001b[43maxis_name\u001b[49m\u001b[43m)\u001b[49m\n\u001b[0;32m   6115\u001b[0m keyarr \u001b[38;5;241m=\u001b[39m \u001b[38;5;28mself\u001b[39m\u001b[38;5;241m.\u001b[39mtake(indexer)\n\u001b[0;32m   6116\u001b[0m \u001b[38;5;28;01mif\u001b[39;00m \u001b[38;5;28misinstance\u001b[39m(key, Index):\n\u001b[0;32m   6117\u001b[0m     \u001b[38;5;66;03m# GH 42790 - Preserve name from an Index\u001b[39;00m\n",
      "File \u001b[1;32m~\\anaconda3\\envs\\dl\\lib\\site-packages\\pandas\\core\\indexes\\base.py:6176\u001b[0m, in \u001b[0;36mIndex._raise_if_missing\u001b[1;34m(self, key, indexer, axis_name)\u001b[0m\n\u001b[0;32m   6173\u001b[0m     \u001b[38;5;28;01mraise\u001b[39;00m \u001b[38;5;167;01mKeyError\u001b[39;00m(\u001b[38;5;124mf\u001b[39m\u001b[38;5;124m\"\u001b[39m\u001b[38;5;124mNone of [\u001b[39m\u001b[38;5;132;01m{\u001b[39;00mkey\u001b[38;5;132;01m}\u001b[39;00m\u001b[38;5;124m] are in the [\u001b[39m\u001b[38;5;132;01m{\u001b[39;00maxis_name\u001b[38;5;132;01m}\u001b[39;00m\u001b[38;5;124m]\u001b[39m\u001b[38;5;124m\"\u001b[39m)\n\u001b[0;32m   6175\u001b[0m not_found \u001b[38;5;241m=\u001b[39m \u001b[38;5;28mlist\u001b[39m(ensure_index(key)[missing_mask\u001b[38;5;241m.\u001b[39mnonzero()[\u001b[38;5;241m0\u001b[39m]]\u001b[38;5;241m.\u001b[39munique())\n\u001b[1;32m-> 6176\u001b[0m \u001b[38;5;28;01mraise\u001b[39;00m \u001b[38;5;167;01mKeyError\u001b[39;00m(\u001b[38;5;124mf\u001b[39m\u001b[38;5;124m\"\u001b[39m\u001b[38;5;132;01m{\u001b[39;00mnot_found\u001b[38;5;132;01m}\u001b[39;00m\u001b[38;5;124m not in index\u001b[39m\u001b[38;5;124m\"\u001b[39m)\n",
      "\u001b[1;31mKeyError\u001b[0m: \"['African Rainbow(AFBOF)_Adj Close_11', '1772.HK(Ganfeng Lithium)_Price_Open_13', '1772.HK(Ganfeng Lithium)_Price_High_13', '1772.HK(Ganfeng Lithium)_Price_Low_13', '1772.HK(Ganfeng Lithium)_Price_Close_13', '1772.HK(Ganfeng Lithium)_Price_Adj Close_13', 'African Rainbow(AFBOF)_Adj Close_12', 'HOUSECOST_FIN_13', 'HOUSECOST_FIN_12', 'HOUSECOST_FIN_11', 'African Rainbow(AFBOF)_Adj Close_13', 'Cameco(CCJ)_High_11', 'Cameco(CCJ)_Open_11', 'Cameco(CCJ)_Close_11', '1772.HK(Ganfeng Lithium)_Price_Low_12', 'Cameco(CCJ)_Adj Close_11', '1772.HK(Ganfeng Lithium)_Price_Open_12', '1772.HK(Ganfeng Lithium)_Price_Close_12', '1772.HK(Ganfeng Lithium)_Price_Adj Close_12', '1772.HK(Ganfeng Lithium)_Price_High_12', 'Cameco(CCJ)_Low_11', 'CCI_SWE_11', '옥수수 For Grain [미국(생산자 가격)] 현물_11', 'Howe Robinson Container Index_11', 'LAC_price_Open_13', 'LAC_price_Low_13', 'LAC_price_High_13', 'LAC_price_Close_13', 'LAC_price_Adj Close_13', '1772.HK(Ganfeng Lithium)_Price_Low_11', '1772.HK(Ganfeng Lithium)_Price_Open_11', '1772.HK(Ganfeng Lithium)_Price_Close_11', 'Cameco(CCJ)_High_12', '1772.HK(Ganfeng Lithium)_Price_Adj Close_11', 'Cameco(CCJ)_Adj Close_12', '1772.HK(Ganfeng Lithium)_Price_High_11', 'Cameco(CCJ)_Open_12', 'Cameco(CCJ)_Close_12'] not in index\""
     ]
    }
   ],
   "source": [
    "futr_temp = Y_test_df.drop(['y'], axis=1).copy()\n",
    "# futr_list = [\n",
    "#              'Shanghai Containerized Freight Index (SCFI)',\n",
    "#              '대두 [미국(생산자 가격)] 현물',\n",
    "#              # '대두유 crude and refined average price [파라나구아(FOB)] 현물',\n",
    "#              '보일러용 후판 Q245R 30mm Xinyu Steel [중국] 현물',\n",
    "#              # 'HOUSECOST_KOR'\n",
    "#              ]\n",
    "futr_date = futr_temp.iloc[:,:2].copy()\n",
    "futr_df = pd.concat([futr_date,futr_temp[futr_list]], axis=1)\n",
    "# futr_df"
   ]
  },
  {
   "cell_type": "markdown",
   "id": "41b52225-6b2d-4ffb-939e-beab3e28281e",
   "metadata": {},
   "source": [
    "#### No 변수"
   ]
  },
  {
   "cell_type": "code",
   "execution_count": 38,
   "id": "e57c2c7e-3a33-4965-adec-88ef864f2038",
   "metadata": {
    "tags": []
   },
   "outputs": [],
   "source": [
    "# horizon = len(Y_test_df)\n",
    "\n",
    "# models = [\n",
    "#           # NBEATS(input_size=5 * horizon, gpus = 1, h=horizon, max_epochs=100),\n",
    "#           # NBEATSx(h=12, input_size=24,\n",
    "#           #       # loss=DistributionLoss(distribution='Normal', level=[80, 90]),\n",
    "#           #       gpus=1,\n",
    "#           #       scaler_type='robust',\n",
    "#           #       stat_exog_list = None,  \n",
    "#           #       futr_exog_list = futr_list,\n",
    "#           #       max_steps=100,\n",
    "#           #       # val_check_steps=10,\n",
    "#           #       # early_stop_patience_steps=2\n",
    "#           #      ),\n",
    "#           NHITS(input_size=5 * horizon, \n",
    "#                 h=horizon+1,\n",
    "#                 gpus = 1,\n",
    "#                 stat_exog_list = None,\n",
    "#                 hist_exog_list=None,\n",
    "#                 futr_exog_list = None,\n",
    "#                 # futr_exog_list = futr_list,\n",
    "#                 # n_freq_downsample=[24, 12, 1],\n",
    "#                 # mlp_units = [[512, 512], [512, 512], [512, 512]],\n",
    "#                 # n_pool_kernel_size = [2, 2, 1],\n",
    "#                 # n_freq_downsample=[24, 12, 1],\n",
    "#                 scaler_type = 'robust',\n",
    "#                 learning_rate=1e-4,\n",
    "#                 pooling_mode = 'MaxPool1d',\n",
    "#                 activation='ReLU',\n",
    "#                 batch_size=128,\n",
    "#                 random_seed=42,\n",
    "#                 max_epochs=200\n",
    "#                ),\n",
    "#            # NHITS(\n",
    "#            #       h,\n",
    "#            #       input_size,\n",
    "#            #       futr_exog_list=None,\n",
    "#            #       hist_exog_list=None,\n",
    "#            #       stat_exog_list=None,\n",
    "#            #       stack_types: list = ['identity', 'identity', 'identity'],\n",
    "#            #       n_blocks: list = [1, 1, 1],\n",
    "#            #       mlp_units: list = [[512, 512], [512, 512], [512, 512]],\n",
    "#            #       n_pool_kernel_size: list = [2, 2, 1],\n",
    "#            #       n_freq_downsample: list = [4, 2, 1],\n",
    "#            #       pooling_mode: str = 'MaxPool1d',\n",
    "#            #       interpolation_mode: str = 'linear',\n",
    "#            #       dropout_prob_theta=0.0,\n",
    "#            #       activation='ReLU',\n",
    "#            #       loss=MAE(),\n",
    "#            #       learning_rate=0.001,\n",
    "#            #       batch_size=32,\n",
    "#            #       windows_batch_size: int = 1024,\n",
    "#            #       step_size: int = 1,\n",
    "#            #       scaler_type='identity',\n",
    "#            #       random_seed=1,\n",
    "#            #       num_workers_loader=0,\n",
    "#            #       drop_last_loader=False,\n",
    "#            #       **trainer_kwargs,\n",
    "    \n",
    "#           # TFT(h=12, \n",
    "#           #     input_size=5 * horizon,\n",
    "#           #     # hidden_size=20,\n",
    "#           #     #loss=DistributionLoss(distribution='Poisson', level=[80, 90]),\n",
    "#           #     #loss=DistributionLoss(distribution='Normal', level=[80, 90]),\n",
    "#           #     #loss=DistributionLoss(distribution='StudentT', level=[80, 90]),\n",
    "#           #     learning_rate=0.005,\n",
    "#           #     stat_exog_list = None,\n",
    "#           #     futr_exog_list = futr_list,\n",
    "#           #     max_steps=100,\n",
    "#           #     gpus=1,\n",
    "#           #     # val_check_steps=10,\n",
    "#           #     # early_stop_patience_steps=10,\n",
    "#           #     scaler_type='robust',\n",
    "#           #     # windows_batch_size=None,\n",
    "#           #     enable_progress_bar=True),\n",
    "#              ]\n",
    "# nforecast_nv = NeuralForecast(models=models, freq='M')\n",
    "# nforecast_nv.fit(df=Y_train_df)\n",
    "# Y_hat_df_nv = nforecast_nv.predict(futr_df=futr_df).reset_index()"
   ]
  },
  {
   "cell_type": "code",
   "execution_count": 39,
   "id": "23a1910f-285e-457a-888e-8ca4fa041ab9",
   "metadata": {
    "tags": []
   },
   "outputs": [],
   "source": [
    "# # Plot predictions\n",
    "# fig, ax = plt.subplots(1, 1, figsize = (20, 7))\n",
    "# Y_hat_df_nv = Y_test_df.merge(Y_hat_df_nv, how='left', on=['unique_id', 'ds'])\n",
    "# plot_df_nv = pd.concat([Y_train_df, Y_hat_df_nv]).set_index('ds')\n",
    "\n",
    "# plot_df_nv[['y', 'NHITS']].plot(ax=ax, linewidth=2, marker='o')\n",
    "# plt.axvline(cutoff_date, color='red')\n",
    "\n",
    "# ax.set_title(f'LI2CO3 Actual and Predicted Plot - Cutoff: {cutoff_date}', fontsize=22)\n",
    "# ax.set_ylabel('LI2CO3_PRICE', fontsize=20)\n",
    "# ax.set_xlabel('Date', fontsize=20)\n",
    "# ax.legend(prop={'size': 15})\n",
    "# ax.grid()\n",
    "\n",
    "# fig.savefig(f'./data/forecast_plot_{cutoff_date}_nv.png')"
   ]
  },
  {
   "cell_type": "code",
   "execution_count": 40,
   "id": "940332ca-281c-41c8-ac8f-2bc9646f7638",
   "metadata": {},
   "outputs": [],
   "source": [
    "# plot_df_nv[['y', 'NHITS']].to_csv(f'./data/forecasting_{cutoff_date}_nv.csv',index=False)"
   ]
  },
  {
   "cell_type": "markdown",
   "id": "c5b6e49b-657e-48e0-b389-d96d77b28470",
   "metadata": {},
   "source": [
    "#### Yes 변수"
   ]
  },
  {
   "cell_type": "code",
   "execution_count": 41,
   "id": "16b3c015-bcd6-48b4-a847-d414d3e093e7",
   "metadata": {
    "tags": []
   },
   "outputs": [
    {
     "data": {
      "application/vnd.jupyter.widget-view+json": {
       "model_id": "744d7784656c433288423a96fcd98824",
       "version_major": 2,
       "version_minor": 0
      },
      "text/plain": [
       "Sanity Checking: 0it [00:00, ?it/s]"
      ]
     },
     "metadata": {},
     "output_type": "display_data"
    },
    {
     "data": {
      "application/vnd.jupyter.widget-view+json": {
       "model_id": "799a82a748d1474cbd84029c2cd70a9e",
       "version_major": 2,
       "version_minor": 0
      },
      "text/plain": [
       "Training: 0it [00:00, ?it/s]"
      ]
     },
     "metadata": {},
     "output_type": "display_data"
    },
    {
     "data": {
      "application/vnd.jupyter.widget-view+json": {
       "model_id": "4b0334f0bb874ca0a5763ea88f948b38",
       "version_major": 2,
       "version_minor": 0
      },
      "text/plain": [
       "Validation: 0it [00:00, ?it/s]"
      ]
     },
     "metadata": {},
     "output_type": "display_data"
    },
    {
     "data": {
      "application/vnd.jupyter.widget-view+json": {
       "model_id": "c523aefc47ab4341b037f1cd1f049ba8",
       "version_major": 2,
       "version_minor": 0
      },
      "text/plain": [
       "Validation: 0it [00:00, ?it/s]"
      ]
     },
     "metadata": {},
     "output_type": "display_data"
    },
    {
     "data": {
      "application/vnd.jupyter.widget-view+json": {
       "model_id": "9cd8f88ac97f421199ce944d4c885caf",
       "version_major": 2,
       "version_minor": 0
      },
      "text/plain": [
       "Validation: 0it [00:00, ?it/s]"
      ]
     },
     "metadata": {},
     "output_type": "display_data"
    },
    {
     "data": {
      "application/vnd.jupyter.widget-view+json": {
       "model_id": "432c45103cf74d819b1b1201a31faa26",
       "version_major": 2,
       "version_minor": 0
      },
      "text/plain": [
       "Validation: 0it [00:00, ?it/s]"
      ]
     },
     "metadata": {},
     "output_type": "display_data"
    },
    {
     "data": {
      "application/vnd.jupyter.widget-view+json": {
       "model_id": "d62f43d573944318ae04e5e7a4b43777",
       "version_major": 2,
       "version_minor": 0
      },
      "text/plain": [
       "Validation: 0it [00:00, ?it/s]"
      ]
     },
     "metadata": {},
     "output_type": "display_data"
    },
    {
     "data": {
      "application/vnd.jupyter.widget-view+json": {
       "model_id": "40964478ccc7417a923c38af47376dc8",
       "version_major": 2,
       "version_minor": 0
      },
      "text/plain": [
       "Validation: 0it [00:00, ?it/s]"
      ]
     },
     "metadata": {},
     "output_type": "display_data"
    },
    {
     "data": {
      "application/vnd.jupyter.widget-view+json": {
       "model_id": "07d6b470af96496e8e5c23ed4b84a1ae",
       "version_major": 2,
       "version_minor": 0
      },
      "text/plain": [
       "Validation: 0it [00:00, ?it/s]"
      ]
     },
     "metadata": {},
     "output_type": "display_data"
    },
    {
     "data": {
      "application/vnd.jupyter.widget-view+json": {
       "model_id": "f2177a0c37ae4f859712c129557c5d93",
       "version_major": 2,
       "version_minor": 0
      },
      "text/plain": [
       "Validation: 0it [00:00, ?it/s]"
      ]
     },
     "metadata": {},
     "output_type": "display_data"
    },
    {
     "data": {
      "application/vnd.jupyter.widget-view+json": {
       "model_id": "db01c3a63e5447f39008a1f242ea9bf1",
       "version_major": 2,
       "version_minor": 0
      },
      "text/plain": [
       "Validation: 0it [00:00, ?it/s]"
      ]
     },
     "metadata": {},
     "output_type": "display_data"
    },
    {
     "data": {
      "application/vnd.jupyter.widget-view+json": {
       "model_id": "4f5f69e4285b4f5cae81938c3112a3fd",
       "version_major": 2,
       "version_minor": 0
      },
      "text/plain": [
       "Validation: 0it [00:00, ?it/s]"
      ]
     },
     "metadata": {},
     "output_type": "display_data"
    },
    {
     "data": {
      "application/vnd.jupyter.widget-view+json": {
       "model_id": "ff08881f95e94ae8b9df2273f4e46adc",
       "version_major": 2,
       "version_minor": 0
      },
      "text/plain": [
       "Validation: 0it [00:00, ?it/s]"
      ]
     },
     "metadata": {},
     "output_type": "display_data"
    },
    {
     "data": {
      "application/vnd.jupyter.widget-view+json": {
       "model_id": "60e1016e0cae4eb49f13a557e4598ee1",
       "version_major": 2,
       "version_minor": 0
      },
      "text/plain": [
       "Validation: 0it [00:00, ?it/s]"
      ]
     },
     "metadata": {},
     "output_type": "display_data"
    },
    {
     "data": {
      "application/vnd.jupyter.widget-view+json": {
       "model_id": "dd39c69eee9c48cd81a2fde43fc5202b",
       "version_major": 2,
       "version_minor": 0
      },
      "text/plain": [
       "Validation: 0it [00:00, ?it/s]"
      ]
     },
     "metadata": {},
     "output_type": "display_data"
    },
    {
     "data": {
      "application/vnd.jupyter.widget-view+json": {
       "model_id": "85ef5b22b1de4da5bbb31fa1302bc9b8",
       "version_major": 2,
       "version_minor": 0
      },
      "text/plain": [
       "Validation: 0it [00:00, ?it/s]"
      ]
     },
     "metadata": {},
     "output_type": "display_data"
    },
    {
     "data": {
      "application/vnd.jupyter.widget-view+json": {
       "model_id": "fe8997ce031a4877a76120bd914a2044",
       "version_major": 2,
       "version_minor": 0
      },
      "text/plain": [
       "Validation: 0it [00:00, ?it/s]"
      ]
     },
     "metadata": {},
     "output_type": "display_data"
    },
    {
     "data": {
      "application/vnd.jupyter.widget-view+json": {
       "model_id": "1af7e8ac92be46e6ab79f291ca0edc6f",
       "version_major": 2,
       "version_minor": 0
      },
      "text/plain": [
       "Validation: 0it [00:00, ?it/s]"
      ]
     },
     "metadata": {},
     "output_type": "display_data"
    },
    {
     "data": {
      "application/vnd.jupyter.widget-view+json": {
       "model_id": "ff67e44a4bac47a687e80f3530a577ec",
       "version_major": 2,
       "version_minor": 0
      },
      "text/plain": [
       "Validation: 0it [00:00, ?it/s]"
      ]
     },
     "metadata": {},
     "output_type": "display_data"
    },
    {
     "data": {
      "application/vnd.jupyter.widget-view+json": {
       "model_id": "f6eb2ed0cf3f44a0b556e78c852a1d7a",
       "version_major": 2,
       "version_minor": 0
      },
      "text/plain": [
       "Validation: 0it [00:00, ?it/s]"
      ]
     },
     "metadata": {},
     "output_type": "display_data"
    },
    {
     "data": {
      "application/vnd.jupyter.widget-view+json": {
       "model_id": "bcf60fe522f542a297a567664e4b6229",
       "version_major": 2,
       "version_minor": 0
      },
      "text/plain": [
       "Validation: 0it [00:00, ?it/s]"
      ]
     },
     "metadata": {},
     "output_type": "display_data"
    },
    {
     "data": {
      "application/vnd.jupyter.widget-view+json": {
       "model_id": "68afa1526f61481eb8f55f98f471133f",
       "version_major": 2,
       "version_minor": 0
      },
      "text/plain": [
       "Validation: 0it [00:00, ?it/s]"
      ]
     },
     "metadata": {},
     "output_type": "display_data"
    },
    {
     "data": {
      "application/vnd.jupyter.widget-view+json": {
       "model_id": "f80f108b633b44debe03eb544d7a9fea",
       "version_major": 2,
       "version_minor": 0
      },
      "text/plain": [
       "Validation: 0it [00:00, ?it/s]"
      ]
     },
     "metadata": {},
     "output_type": "display_data"
    },
    {
     "data": {
      "application/vnd.jupyter.widget-view+json": {
       "model_id": "cfefd7ca1cc14049a6281f3f6476044d",
       "version_major": 2,
       "version_minor": 0
      },
      "text/plain": [
       "Validation: 0it [00:00, ?it/s]"
      ]
     },
     "metadata": {},
     "output_type": "display_data"
    },
    {
     "data": {
      "application/vnd.jupyter.widget-view+json": {
       "model_id": "b2884ccc5ef84b109571542353c010f3",
       "version_major": 2,
       "version_minor": 0
      },
      "text/plain": [
       "Validation: 0it [00:00, ?it/s]"
      ]
     },
     "metadata": {},
     "output_type": "display_data"
    },
    {
     "data": {
      "application/vnd.jupyter.widget-view+json": {
       "model_id": "34590ac2cbf9492185e4b94be4a75cf3",
       "version_major": 2,
       "version_minor": 0
      },
      "text/plain": [
       "Validation: 0it [00:00, ?it/s]"
      ]
     },
     "metadata": {},
     "output_type": "display_data"
    },
    {
     "data": {
      "application/vnd.jupyter.widget-view+json": {
       "model_id": "ecd0932354ba4b319c5f5f332023a941",
       "version_major": 2,
       "version_minor": 0
      },
      "text/plain": [
       "Validation: 0it [00:00, ?it/s]"
      ]
     },
     "metadata": {},
     "output_type": "display_data"
    },
    {
     "data": {
      "application/vnd.jupyter.widget-view+json": {
       "model_id": "8e52135b1452430a8a5a7cb54b5e79fc",
       "version_major": 2,
       "version_minor": 0
      },
      "text/plain": [
       "Validation: 0it [00:00, ?it/s]"
      ]
     },
     "metadata": {},
     "output_type": "display_data"
    },
    {
     "data": {
      "application/vnd.jupyter.widget-view+json": {
       "model_id": "8fe0a261071b469bb4f8c50017f677d3",
       "version_major": 2,
       "version_minor": 0
      },
      "text/plain": [
       "Validation: 0it [00:00, ?it/s]"
      ]
     },
     "metadata": {},
     "output_type": "display_data"
    },
    {
     "data": {
      "application/vnd.jupyter.widget-view+json": {
       "model_id": "0a321a78ecd44c0a8be8ff1aa7f488a5",
       "version_major": 2,
       "version_minor": 0
      },
      "text/plain": [
       "Validation: 0it [00:00, ?it/s]"
      ]
     },
     "metadata": {},
     "output_type": "display_data"
    },
    {
     "data": {
      "application/vnd.jupyter.widget-view+json": {
       "model_id": "7d792df1a1fe466aa74b9efca2207722",
       "version_major": 2,
       "version_minor": 0
      },
      "text/plain": [
       "Validation: 0it [00:00, ?it/s]"
      ]
     },
     "metadata": {},
     "output_type": "display_data"
    },
    {
     "data": {
      "application/vnd.jupyter.widget-view+json": {
       "model_id": "418070ffca0e43b4bc62646bca5d4b58",
       "version_major": 2,
       "version_minor": 0
      },
      "text/plain": [
       "Validation: 0it [00:00, ?it/s]"
      ]
     },
     "metadata": {},
     "output_type": "display_data"
    },
    {
     "data": {
      "application/vnd.jupyter.widget-view+json": {
       "model_id": "bd5009ad15424b12bfe7c157c2a64560",
       "version_major": 2,
       "version_minor": 0
      },
      "text/plain": [
       "Validation: 0it [00:00, ?it/s]"
      ]
     },
     "metadata": {},
     "output_type": "display_data"
    },
    {
     "data": {
      "application/vnd.jupyter.widget-view+json": {
       "model_id": "8c16f850eb424de1971fee20f2eea3fd",
       "version_major": 2,
       "version_minor": 0
      },
      "text/plain": [
       "Validation: 0it [00:00, ?it/s]"
      ]
     },
     "metadata": {},
     "output_type": "display_data"
    },
    {
     "data": {
      "application/vnd.jupyter.widget-view+json": {
       "model_id": "76d69b4fa2034fd1b9adef3dc5655b1c",
       "version_major": 2,
       "version_minor": 0
      },
      "text/plain": [
       "Validation: 0it [00:00, ?it/s]"
      ]
     },
     "metadata": {},
     "output_type": "display_data"
    },
    {
     "data": {
      "application/vnd.jupyter.widget-view+json": {
       "model_id": "7ddcbba832c04c26a9a130b1746dc66f",
       "version_major": 2,
       "version_minor": 0
      },
      "text/plain": [
       "Validation: 0it [00:00, ?it/s]"
      ]
     },
     "metadata": {},
     "output_type": "display_data"
    },
    {
     "data": {
      "application/vnd.jupyter.widget-view+json": {
       "model_id": "0da4edfde8124c1d9156e74e43514678",
       "version_major": 2,
       "version_minor": 0
      },
      "text/plain": [
       "Validation: 0it [00:00, ?it/s]"
      ]
     },
     "metadata": {},
     "output_type": "display_data"
    },
    {
     "data": {
      "application/vnd.jupyter.widget-view+json": {
       "model_id": "ff6c2d75d6b745b9aa096b6fd1b6f888",
       "version_major": 2,
       "version_minor": 0
      },
      "text/plain": [
       "Validation: 0it [00:00, ?it/s]"
      ]
     },
     "metadata": {},
     "output_type": "display_data"
    },
    {
     "data": {
      "application/vnd.jupyter.widget-view+json": {
       "model_id": "a9a0d359f9a3419892a95374c184e07a",
       "version_major": 2,
       "version_minor": 0
      },
      "text/plain": [
       "Validation: 0it [00:00, ?it/s]"
      ]
     },
     "metadata": {},
     "output_type": "display_data"
    },
    {
     "data": {
      "application/vnd.jupyter.widget-view+json": {
       "model_id": "714b49ed20e942398edb29c77768a9c9",
       "version_major": 2,
       "version_minor": 0
      },
      "text/plain": [
       "Validation: 0it [00:00, ?it/s]"
      ]
     },
     "metadata": {},
     "output_type": "display_data"
    },
    {
     "data": {
      "application/vnd.jupyter.widget-view+json": {
       "model_id": "f70fb19a607b425f84d3669cacbceb09",
       "version_major": 2,
       "version_minor": 0
      },
      "text/plain": [
       "Validation: 0it [00:00, ?it/s]"
      ]
     },
     "metadata": {},
     "output_type": "display_data"
    },
    {
     "data": {
      "application/vnd.jupyter.widget-view+json": {
       "model_id": "be94fe7ed41047a898afffa52f772c1e",
       "version_major": 2,
       "version_minor": 0
      },
      "text/plain": [
       "Validation: 0it [00:00, ?it/s]"
      ]
     },
     "metadata": {},
     "output_type": "display_data"
    },
    {
     "data": {
      "application/vnd.jupyter.widget-view+json": {
       "model_id": "405964fac60447c48c2ee66cf62f9849",
       "version_major": 2,
       "version_minor": 0
      },
      "text/plain": [
       "Validation: 0it [00:00, ?it/s]"
      ]
     },
     "metadata": {},
     "output_type": "display_data"
    },
    {
     "data": {
      "application/vnd.jupyter.widget-view+json": {
       "model_id": "9f49c9bfd2ca4848b3e52a9839754668",
       "version_major": 2,
       "version_minor": 0
      },
      "text/plain": [
       "Validation: 0it [00:00, ?it/s]"
      ]
     },
     "metadata": {},
     "output_type": "display_data"
    },
    {
     "data": {
      "application/vnd.jupyter.widget-view+json": {
       "model_id": "17d03bef06d4468780fcf64d0233ac90",
       "version_major": 2,
       "version_minor": 0
      },
      "text/plain": [
       "Validation: 0it [00:00, ?it/s]"
      ]
     },
     "metadata": {},
     "output_type": "display_data"
    },
    {
     "data": {
      "application/vnd.jupyter.widget-view+json": {
       "model_id": "937abc13cd784e94b0fb85b1caeb2b05",
       "version_major": 2,
       "version_minor": 0
      },
      "text/plain": [
       "Validation: 0it [00:00, ?it/s]"
      ]
     },
     "metadata": {},
     "output_type": "display_data"
    },
    {
     "data": {
      "application/vnd.jupyter.widget-view+json": {
       "model_id": "10cebcdd3981466ca8074ef2bd1b6e4c",
       "version_major": 2,
       "version_minor": 0
      },
      "text/plain": [
       "Validation: 0it [00:00, ?it/s]"
      ]
     },
     "metadata": {},
     "output_type": "display_data"
    },
    {
     "data": {
      "application/vnd.jupyter.widget-view+json": {
       "model_id": "dec5a49115834fdcaeaca4df55462d6f",
       "version_major": 2,
       "version_minor": 0
      },
      "text/plain": [
       "Validation: 0it [00:00, ?it/s]"
      ]
     },
     "metadata": {},
     "output_type": "display_data"
    },
    {
     "data": {
      "application/vnd.jupyter.widget-view+json": {
       "model_id": "bea1619493b94507b1d8211d9ba122c0",
       "version_major": 2,
       "version_minor": 0
      },
      "text/plain": [
       "Validation: 0it [00:00, ?it/s]"
      ]
     },
     "metadata": {},
     "output_type": "display_data"
    },
    {
     "data": {
      "application/vnd.jupyter.widget-view+json": {
       "model_id": "e8920b2f5d5141f9828cfd12c45b0511",
       "version_major": 2,
       "version_minor": 0
      },
      "text/plain": [
       "Validation: 0it [00:00, ?it/s]"
      ]
     },
     "metadata": {},
     "output_type": "display_data"
    },
    {
     "data": {
      "application/vnd.jupyter.widget-view+json": {
       "model_id": "b0a733a2140f4a1fa4e57970dd75e5fd",
       "version_major": 2,
       "version_minor": 0
      },
      "text/plain": [
       "Validation: 0it [00:00, ?it/s]"
      ]
     },
     "metadata": {},
     "output_type": "display_data"
    },
    {
     "data": {
      "application/vnd.jupyter.widget-view+json": {
       "model_id": "b9b3f25e10454ec8ac62329b52ae6afb",
       "version_major": 2,
       "version_minor": 0
      },
      "text/plain": [
       "Validation: 0it [00:00, ?it/s]"
      ]
     },
     "metadata": {},
     "output_type": "display_data"
    },
    {
     "data": {
      "application/vnd.jupyter.widget-view+json": {
       "model_id": "5e6d190a890447528a6f0a47e0762609",
       "version_major": 2,
       "version_minor": 0
      },
      "text/plain": [
       "Validation: 0it [00:00, ?it/s]"
      ]
     },
     "metadata": {},
     "output_type": "display_data"
    },
    {
     "data": {
      "application/vnd.jupyter.widget-view+json": {
       "model_id": "0fe867ac387f421aa0a313120ccd5fbd",
       "version_major": 2,
       "version_minor": 0
      },
      "text/plain": [
       "Validation: 0it [00:00, ?it/s]"
      ]
     },
     "metadata": {},
     "output_type": "display_data"
    },
    {
     "data": {
      "application/vnd.jupyter.widget-view+json": {
       "model_id": "1e8eb1e548844244ba7363a4fb2636c3",
       "version_major": 2,
       "version_minor": 0
      },
      "text/plain": [
       "Validation: 0it [00:00, ?it/s]"
      ]
     },
     "metadata": {},
     "output_type": "display_data"
    },
    {
     "data": {
      "application/vnd.jupyter.widget-view+json": {
       "model_id": "7396dce1161e42f796c2d31fe2887c3b",
       "version_major": 2,
       "version_minor": 0
      },
      "text/plain": [
       "Validation: 0it [00:00, ?it/s]"
      ]
     },
     "metadata": {},
     "output_type": "display_data"
    },
    {
     "data": {
      "application/vnd.jupyter.widget-view+json": {
       "model_id": "2f9fc72624d04f848217a73c6c01e86d",
       "version_major": 2,
       "version_minor": 0
      },
      "text/plain": [
       "Validation: 0it [00:00, ?it/s]"
      ]
     },
     "metadata": {},
     "output_type": "display_data"
    },
    {
     "data": {
      "application/vnd.jupyter.widget-view+json": {
       "model_id": "5e6dae3d3f38453a9858880d90d05d86",
       "version_major": 2,
       "version_minor": 0
      },
      "text/plain": [
       "Validation: 0it [00:00, ?it/s]"
      ]
     },
     "metadata": {},
     "output_type": "display_data"
    },
    {
     "data": {
      "application/vnd.jupyter.widget-view+json": {
       "model_id": "5fd5790826f141098563ec9c3f66a486",
       "version_major": 2,
       "version_minor": 0
      },
      "text/plain": [
       "Validation: 0it [00:00, ?it/s]"
      ]
     },
     "metadata": {},
     "output_type": "display_data"
    },
    {
     "data": {
      "application/vnd.jupyter.widget-view+json": {
       "model_id": "63bad5bc8b57461896fe9baefbb8c089",
       "version_major": 2,
       "version_minor": 0
      },
      "text/plain": [
       "Validation: 0it [00:00, ?it/s]"
      ]
     },
     "metadata": {},
     "output_type": "display_data"
    },
    {
     "data": {
      "application/vnd.jupyter.widget-view+json": {
       "model_id": "69c84684be0e4dd8ae22120d78c164f4",
       "version_major": 2,
       "version_minor": 0
      },
      "text/plain": [
       "Validation: 0it [00:00, ?it/s]"
      ]
     },
     "metadata": {},
     "output_type": "display_data"
    },
    {
     "data": {
      "application/vnd.jupyter.widget-view+json": {
       "model_id": "1ddc9a682f7b455aa1007d44fbeedf68",
       "version_major": 2,
       "version_minor": 0
      },
      "text/plain": [
       "Validation: 0it [00:00, ?it/s]"
      ]
     },
     "metadata": {},
     "output_type": "display_data"
    },
    {
     "data": {
      "application/vnd.jupyter.widget-view+json": {
       "model_id": "2045e9a09cdf4b64b4ab7920a4837745",
       "version_major": 2,
       "version_minor": 0
      },
      "text/plain": [
       "Validation: 0it [00:00, ?it/s]"
      ]
     },
     "metadata": {},
     "output_type": "display_data"
    },
    {
     "data": {
      "application/vnd.jupyter.widget-view+json": {
       "model_id": "da6e19a82aff459494a9a1655fe8d2e5",
       "version_major": 2,
       "version_minor": 0
      },
      "text/plain": [
       "Validation: 0it [00:00, ?it/s]"
      ]
     },
     "metadata": {},
     "output_type": "display_data"
    },
    {
     "data": {
      "application/vnd.jupyter.widget-view+json": {
       "model_id": "d4425fba26da49f898eb27d569a1e827",
       "version_major": 2,
       "version_minor": 0
      },
      "text/plain": [
       "Validation: 0it [00:00, ?it/s]"
      ]
     },
     "metadata": {},
     "output_type": "display_data"
    },
    {
     "data": {
      "application/vnd.jupyter.widget-view+json": {
       "model_id": "9b2a5ee67f584f9482d9cfec981684b2",
       "version_major": 2,
       "version_minor": 0
      },
      "text/plain": [
       "Validation: 0it [00:00, ?it/s]"
      ]
     },
     "metadata": {},
     "output_type": "display_data"
    },
    {
     "data": {
      "application/vnd.jupyter.widget-view+json": {
       "model_id": "54b0584957f04d51acb752173faf71dd",
       "version_major": 2,
       "version_minor": 0
      },
      "text/plain": [
       "Validation: 0it [00:00, ?it/s]"
      ]
     },
     "metadata": {},
     "output_type": "display_data"
    },
    {
     "data": {
      "application/vnd.jupyter.widget-view+json": {
       "model_id": "c237e0823cda4a8b91a9484ee3c3a0c7",
       "version_major": 2,
       "version_minor": 0
      },
      "text/plain": [
       "Validation: 0it [00:00, ?it/s]"
      ]
     },
     "metadata": {},
     "output_type": "display_data"
    },
    {
     "data": {
      "application/vnd.jupyter.widget-view+json": {
       "model_id": "887e361f56e0429e8092fa7e018aed2e",
       "version_major": 2,
       "version_minor": 0
      },
      "text/plain": [
       "Validation: 0it [00:00, ?it/s]"
      ]
     },
     "metadata": {},
     "output_type": "display_data"
    },
    {
     "data": {
      "application/vnd.jupyter.widget-view+json": {
       "model_id": "a16e77ab311f424db16320f526711b5c",
       "version_major": 2,
       "version_minor": 0
      },
      "text/plain": [
       "Validation: 0it [00:00, ?it/s]"
      ]
     },
     "metadata": {},
     "output_type": "display_data"
    },
    {
     "data": {
      "application/vnd.jupyter.widget-view+json": {
       "model_id": "2bf34866a84141548bdc0addce333b8e",
       "version_major": 2,
       "version_minor": 0
      },
      "text/plain": [
       "Validation: 0it [00:00, ?it/s]"
      ]
     },
     "metadata": {},
     "output_type": "display_data"
    },
    {
     "data": {
      "application/vnd.jupyter.widget-view+json": {
       "model_id": "8f89d1ef1b20465e9b4d36a5ef6d648d",
       "version_major": 2,
       "version_minor": 0
      },
      "text/plain": [
       "Validation: 0it [00:00, ?it/s]"
      ]
     },
     "metadata": {},
     "output_type": "display_data"
    },
    {
     "data": {
      "application/vnd.jupyter.widget-view+json": {
       "model_id": "db4229656d0a4f1fbf4ec6abebc0a7e9",
       "version_major": 2,
       "version_minor": 0
      },
      "text/plain": [
       "Validation: 0it [00:00, ?it/s]"
      ]
     },
     "metadata": {},
     "output_type": "display_data"
    },
    {
     "data": {
      "application/vnd.jupyter.widget-view+json": {
       "model_id": "2f0c94b58d1a479aaee21fdbb1179dd5",
       "version_major": 2,
       "version_minor": 0
      },
      "text/plain": [
       "Validation: 0it [00:00, ?it/s]"
      ]
     },
     "metadata": {},
     "output_type": "display_data"
    },
    {
     "data": {
      "application/vnd.jupyter.widget-view+json": {
       "model_id": "92a5b992a7e3458c990c46f5475351f1",
       "version_major": 2,
       "version_minor": 0
      },
      "text/plain": [
       "Validation: 0it [00:00, ?it/s]"
      ]
     },
     "metadata": {},
     "output_type": "display_data"
    },
    {
     "data": {
      "application/vnd.jupyter.widget-view+json": {
       "model_id": "ace36b0d0b8849cc82637622afa04f88",
       "version_major": 2,
       "version_minor": 0
      },
      "text/plain": [
       "Validation: 0it [00:00, ?it/s]"
      ]
     },
     "metadata": {},
     "output_type": "display_data"
    },
    {
     "data": {
      "application/vnd.jupyter.widget-view+json": {
       "model_id": "d757ea5ae6304df69b60084e8376b8cf",
       "version_major": 2,
       "version_minor": 0
      },
      "text/plain": [
       "Validation: 0it [00:00, ?it/s]"
      ]
     },
     "metadata": {},
     "output_type": "display_data"
    },
    {
     "data": {
      "application/vnd.jupyter.widget-view+json": {
       "model_id": "10e0206e2aae44dcb33f4b05dde15fbc",
       "version_major": 2,
       "version_minor": 0
      },
      "text/plain": [
       "Validation: 0it [00:00, ?it/s]"
      ]
     },
     "metadata": {},
     "output_type": "display_data"
    },
    {
     "data": {
      "application/vnd.jupyter.widget-view+json": {
       "model_id": "5af3679f5a644a298b2a37b0523a8fcd",
       "version_major": 2,
       "version_minor": 0
      },
      "text/plain": [
       "Validation: 0it [00:00, ?it/s]"
      ]
     },
     "metadata": {},
     "output_type": "display_data"
    },
    {
     "data": {
      "application/vnd.jupyter.widget-view+json": {
       "model_id": "e63315e2443c4df7a2d9955ec6ace40d",
       "version_major": 2,
       "version_minor": 0
      },
      "text/plain": [
       "Validation: 0it [00:00, ?it/s]"
      ]
     },
     "metadata": {},
     "output_type": "display_data"
    },
    {
     "data": {
      "application/vnd.jupyter.widget-view+json": {
       "model_id": "103b5c30d1304dfbb8f13dc68e3699ae",
       "version_major": 2,
       "version_minor": 0
      },
      "text/plain": [
       "Validation: 0it [00:00, ?it/s]"
      ]
     },
     "metadata": {},
     "output_type": "display_data"
    },
    {
     "data": {
      "application/vnd.jupyter.widget-view+json": {
       "model_id": "24d8a7d2dd7a4cbe81eaa0bbd9a23b7f",
       "version_major": 2,
       "version_minor": 0
      },
      "text/plain": [
       "Validation: 0it [00:00, ?it/s]"
      ]
     },
     "metadata": {},
     "output_type": "display_data"
    },
    {
     "data": {
      "application/vnd.jupyter.widget-view+json": {
       "model_id": "5b0b6abdeaa84afda7b2d14a21f06728",
       "version_major": 2,
       "version_minor": 0
      },
      "text/plain": [
       "Validation: 0it [00:00, ?it/s]"
      ]
     },
     "metadata": {},
     "output_type": "display_data"
    },
    {
     "data": {
      "application/vnd.jupyter.widget-view+json": {
       "model_id": "f38bf35961b646f7907160ea3a5a885f",
       "version_major": 2,
       "version_minor": 0
      },
      "text/plain": [
       "Validation: 0it [00:00, ?it/s]"
      ]
     },
     "metadata": {},
     "output_type": "display_data"
    },
    {
     "data": {
      "application/vnd.jupyter.widget-view+json": {
       "model_id": "5c7414b1f73e4f4d8ae4d4e9bbed6f38",
       "version_major": 2,
       "version_minor": 0
      },
      "text/plain": [
       "Validation: 0it [00:00, ?it/s]"
      ]
     },
     "metadata": {},
     "output_type": "display_data"
    },
    {
     "data": {
      "application/vnd.jupyter.widget-view+json": {
       "model_id": "e0482297dcda44a587c1c374876aaa16",
       "version_major": 2,
       "version_minor": 0
      },
      "text/plain": [
       "Validation: 0it [00:00, ?it/s]"
      ]
     },
     "metadata": {},
     "output_type": "display_data"
    },
    {
     "data": {
      "application/vnd.jupyter.widget-view+json": {
       "model_id": "9bda26b7d0684afbb58f807b5d5dc071",
       "version_major": 2,
       "version_minor": 0
      },
      "text/plain": [
       "Validation: 0it [00:00, ?it/s]"
      ]
     },
     "metadata": {},
     "output_type": "display_data"
    },
    {
     "data": {
      "application/vnd.jupyter.widget-view+json": {
       "model_id": "fb1fa301fad9435e81300dcae3dda4d9",
       "version_major": 2,
       "version_minor": 0
      },
      "text/plain": [
       "Validation: 0it [00:00, ?it/s]"
      ]
     },
     "metadata": {},
     "output_type": "display_data"
    },
    {
     "data": {
      "application/vnd.jupyter.widget-view+json": {
       "model_id": "fddf706cd3a64dac856399e4caf91c67",
       "version_major": 2,
       "version_minor": 0
      },
      "text/plain": [
       "Validation: 0it [00:00, ?it/s]"
      ]
     },
     "metadata": {},
     "output_type": "display_data"
    },
    {
     "data": {
      "application/vnd.jupyter.widget-view+json": {
       "model_id": "74a6d16f21284e6a8b717e8486affecc",
       "version_major": 2,
       "version_minor": 0
      },
      "text/plain": [
       "Validation: 0it [00:00, ?it/s]"
      ]
     },
     "metadata": {},
     "output_type": "display_data"
    },
    {
     "data": {
      "application/vnd.jupyter.widget-view+json": {
       "model_id": "1a909bac5a5a4f7e878ebd6e9cd0d314",
       "version_major": 2,
       "version_minor": 0
      },
      "text/plain": [
       "Validation: 0it [00:00, ?it/s]"
      ]
     },
     "metadata": {},
     "output_type": "display_data"
    },
    {
     "data": {
      "application/vnd.jupyter.widget-view+json": {
       "model_id": "04e00bc4e1004386831fc3255cdae1aa",
       "version_major": 2,
       "version_minor": 0
      },
      "text/plain": [
       "Validation: 0it [00:00, ?it/s]"
      ]
     },
     "metadata": {},
     "output_type": "display_data"
    },
    {
     "data": {
      "application/vnd.jupyter.widget-view+json": {
       "model_id": "1e9ac8a87e0c41e895b85c34d1c50efd",
       "version_major": 2,
       "version_minor": 0
      },
      "text/plain": [
       "Validation: 0it [00:00, ?it/s]"
      ]
     },
     "metadata": {},
     "output_type": "display_data"
    },
    {
     "data": {
      "application/vnd.jupyter.widget-view+json": {
       "model_id": "b54501a6c8114499ada4d0d4c99b7e36",
       "version_major": 2,
       "version_minor": 0
      },
      "text/plain": [
       "Validation: 0it [00:00, ?it/s]"
      ]
     },
     "metadata": {},
     "output_type": "display_data"
    },
    {
     "data": {
      "application/vnd.jupyter.widget-view+json": {
       "model_id": "735660d95d00458eb283345bef70d70f",
       "version_major": 2,
       "version_minor": 0
      },
      "text/plain": [
       "Validation: 0it [00:00, ?it/s]"
      ]
     },
     "metadata": {},
     "output_type": "display_data"
    },
    {
     "data": {
      "application/vnd.jupyter.widget-view+json": {
       "model_id": "4a9004a5e1dc4aa784639c500793041b",
       "version_major": 2,
       "version_minor": 0
      },
      "text/plain": [
       "Validation: 0it [00:00, ?it/s]"
      ]
     },
     "metadata": {},
     "output_type": "display_data"
    },
    {
     "data": {
      "application/vnd.jupyter.widget-view+json": {
       "model_id": "f85fd00b54204aa78d84960938e9ff59",
       "version_major": 2,
       "version_minor": 0
      },
      "text/plain": [
       "Validation: 0it [00:00, ?it/s]"
      ]
     },
     "metadata": {},
     "output_type": "display_data"
    },
    {
     "data": {
      "application/vnd.jupyter.widget-view+json": {
       "model_id": "aa572aa067274ead8248415a40a60e26",
       "version_major": 2,
       "version_minor": 0
      },
      "text/plain": [
       "Validation: 0it [00:00, ?it/s]"
      ]
     },
     "metadata": {},
     "output_type": "display_data"
    },
    {
     "data": {
      "application/vnd.jupyter.widget-view+json": {
       "model_id": "4827976df43a487d94dc5beac653a93c",
       "version_major": 2,
       "version_minor": 0
      },
      "text/plain": [
       "Validation: 0it [00:00, ?it/s]"
      ]
     },
     "metadata": {},
     "output_type": "display_data"
    },
    {
     "data": {
      "application/vnd.jupyter.widget-view+json": {
       "model_id": "016e1722f1544ee191b36a96fd3e4c63",
       "version_major": 2,
       "version_minor": 0
      },
      "text/plain": [
       "Validation: 0it [00:00, ?it/s]"
      ]
     },
     "metadata": {},
     "output_type": "display_data"
    },
    {
     "data": {
      "application/vnd.jupyter.widget-view+json": {
       "model_id": "5db52c67ead14cafb3335cf7636d7e25",
       "version_major": 2,
       "version_minor": 0
      },
      "text/plain": [
       "Validation: 0it [00:00, ?it/s]"
      ]
     },
     "metadata": {},
     "output_type": "display_data"
    },
    {
     "data": {
      "application/vnd.jupyter.widget-view+json": {
       "model_id": "aadf008409204b6c83df2b335c93ca9d",
       "version_major": 2,
       "version_minor": 0
      },
      "text/plain": [
       "Validation: 0it [00:00, ?it/s]"
      ]
     },
     "metadata": {},
     "output_type": "display_data"
    },
    {
     "data": {
      "application/vnd.jupyter.widget-view+json": {
       "model_id": "aeabae9214e841d198cad8a35dc02101",
       "version_major": 2,
       "version_minor": 0
      },
      "text/plain": [
       "Validation: 0it [00:00, ?it/s]"
      ]
     },
     "metadata": {},
     "output_type": "display_data"
    },
    {
     "data": {
      "application/vnd.jupyter.widget-view+json": {
       "model_id": "98a524c31db8412ab3bde8ea938508a0",
       "version_major": 2,
       "version_minor": 0
      },
      "text/plain": [
       "Validation: 0it [00:00, ?it/s]"
      ]
     },
     "metadata": {},
     "output_type": "display_data"
    },
    {
     "data": {
      "application/vnd.jupyter.widget-view+json": {
       "model_id": "7338d4ff872e4219b06282419710ec10",
       "version_major": 2,
       "version_minor": 0
      },
      "text/plain": [
       "Validation: 0it [00:00, ?it/s]"
      ]
     },
     "metadata": {},
     "output_type": "display_data"
    },
    {
     "data": {
      "application/vnd.jupyter.widget-view+json": {
       "model_id": "2c3e947fe62a4744a6fd945c6955b307",
       "version_major": 2,
       "version_minor": 0
      },
      "text/plain": [
       "Validation: 0it [00:00, ?it/s]"
      ]
     },
     "metadata": {},
     "output_type": "display_data"
    },
    {
     "data": {
      "application/vnd.jupyter.widget-view+json": {
       "model_id": "2784de388e584d0e964aac462a60bd9e",
       "version_major": 2,
       "version_minor": 0
      },
      "text/plain": [
       "Validation: 0it [00:00, ?it/s]"
      ]
     },
     "metadata": {},
     "output_type": "display_data"
    },
    {
     "data": {
      "application/vnd.jupyter.widget-view+json": {
       "model_id": "abbad90a50e64bbda3e5e3b94b5ce8df",
       "version_major": 2,
       "version_minor": 0
      },
      "text/plain": [
       "Validation: 0it [00:00, ?it/s]"
      ]
     },
     "metadata": {},
     "output_type": "display_data"
    },
    {
     "data": {
      "application/vnd.jupyter.widget-view+json": {
       "model_id": "5d41d4edce09450d8760bd5100c33a15",
       "version_major": 2,
       "version_minor": 0
      },
      "text/plain": [
       "Validation: 0it [00:00, ?it/s]"
      ]
     },
     "metadata": {},
     "output_type": "display_data"
    },
    {
     "data": {
      "application/vnd.jupyter.widget-view+json": {
       "model_id": "1b1355e2fa9945bf8c1d59aac520a366",
       "version_major": 2,
       "version_minor": 0
      },
      "text/plain": [
       "Validation: 0it [00:00, ?it/s]"
      ]
     },
     "metadata": {},
     "output_type": "display_data"
    },
    {
     "data": {
      "application/vnd.jupyter.widget-view+json": {
       "model_id": "8eadad2c17a24c7c87291e6bf1b02002",
       "version_major": 2,
       "version_minor": 0
      },
      "text/plain": [
       "Validation: 0it [00:00, ?it/s]"
      ]
     },
     "metadata": {},
     "output_type": "display_data"
    },
    {
     "data": {
      "application/vnd.jupyter.widget-view+json": {
       "model_id": "94b3b13f9c5b47adbea77c6b7247d95b",
       "version_major": 2,
       "version_minor": 0
      },
      "text/plain": [
       "Validation: 0it [00:00, ?it/s]"
      ]
     },
     "metadata": {},
     "output_type": "display_data"
    },
    {
     "data": {
      "application/vnd.jupyter.widget-view+json": {
       "model_id": "13cc22ad3e0d4af1a265287a88e771f2",
       "version_major": 2,
       "version_minor": 0
      },
      "text/plain": [
       "Validation: 0it [00:00, ?it/s]"
      ]
     },
     "metadata": {},
     "output_type": "display_data"
    },
    {
     "data": {
      "application/vnd.jupyter.widget-view+json": {
       "model_id": "4fb73c406ed44420b527cf7c4e37838e",
       "version_major": 2,
       "version_minor": 0
      },
      "text/plain": [
       "Validation: 0it [00:00, ?it/s]"
      ]
     },
     "metadata": {},
     "output_type": "display_data"
    },
    {
     "data": {
      "application/vnd.jupyter.widget-view+json": {
       "model_id": "1f59a7a2b6a54328bf61c90e7398cf44",
       "version_major": 2,
       "version_minor": 0
      },
      "text/plain": [
       "Validation: 0it [00:00, ?it/s]"
      ]
     },
     "metadata": {},
     "output_type": "display_data"
    },
    {
     "data": {
      "application/vnd.jupyter.widget-view+json": {
       "model_id": "1a62c33c794b4c98a9142ef5e3e738f6",
       "version_major": 2,
       "version_minor": 0
      },
      "text/plain": [
       "Validation: 0it [00:00, ?it/s]"
      ]
     },
     "metadata": {},
     "output_type": "display_data"
    },
    {
     "data": {
      "application/vnd.jupyter.widget-view+json": {
       "model_id": "f721199a262842568578d3c88af0fa2f",
       "version_major": 2,
       "version_minor": 0
      },
      "text/plain": [
       "Validation: 0it [00:00, ?it/s]"
      ]
     },
     "metadata": {},
     "output_type": "display_data"
    },
    {
     "data": {
      "application/vnd.jupyter.widget-view+json": {
       "model_id": "f39f6e44661246588a9bc191e5992654",
       "version_major": 2,
       "version_minor": 0
      },
      "text/plain": [
       "Validation: 0it [00:00, ?it/s]"
      ]
     },
     "metadata": {},
     "output_type": "display_data"
    },
    {
     "data": {
      "application/vnd.jupyter.widget-view+json": {
       "model_id": "884b52f7acc64e61af200ee0b078ef66",
       "version_major": 2,
       "version_minor": 0
      },
      "text/plain": [
       "Validation: 0it [00:00, ?it/s]"
      ]
     },
     "metadata": {},
     "output_type": "display_data"
    },
    {
     "data": {
      "application/vnd.jupyter.widget-view+json": {
       "model_id": "b105dfb98889420d9ec267e472da906a",
       "version_major": 2,
       "version_minor": 0
      },
      "text/plain": [
       "Validation: 0it [00:00, ?it/s]"
      ]
     },
     "metadata": {},
     "output_type": "display_data"
    },
    {
     "data": {
      "application/vnd.jupyter.widget-view+json": {
       "model_id": "ade248030a334d45954ee223de80da4f",
       "version_major": 2,
       "version_minor": 0
      },
      "text/plain": [
       "Validation: 0it [00:00, ?it/s]"
      ]
     },
     "metadata": {},
     "output_type": "display_data"
    },
    {
     "data": {
      "application/vnd.jupyter.widget-view+json": {
       "model_id": "9276a445033c429db214088e9ee2ed05",
       "version_major": 2,
       "version_minor": 0
      },
      "text/plain": [
       "Validation: 0it [00:00, ?it/s]"
      ]
     },
     "metadata": {},
     "output_type": "display_data"
    },
    {
     "data": {
      "application/vnd.jupyter.widget-view+json": {
       "model_id": "056718c91a4f4c499461a8523d3e7764",
       "version_major": 2,
       "version_minor": 0
      },
      "text/plain": [
       "Validation: 0it [00:00, ?it/s]"
      ]
     },
     "metadata": {},
     "output_type": "display_data"
    },
    {
     "data": {
      "application/vnd.jupyter.widget-view+json": {
       "model_id": "f86c5af90d0b40a58e6f3ff07b3e3bec",
       "version_major": 2,
       "version_minor": 0
      },
      "text/plain": [
       "Validation: 0it [00:00, ?it/s]"
      ]
     },
     "metadata": {},
     "output_type": "display_data"
    },
    {
     "data": {
      "application/vnd.jupyter.widget-view+json": {
       "model_id": "21e9452029ae4f1093c1243611f9d91e",
       "version_major": 2,
       "version_minor": 0
      },
      "text/plain": [
       "Validation: 0it [00:00, ?it/s]"
      ]
     },
     "metadata": {},
     "output_type": "display_data"
    },
    {
     "data": {
      "application/vnd.jupyter.widget-view+json": {
       "model_id": "8fd700194a0545fe9a6fe1baab9ce349",
       "version_major": 2,
       "version_minor": 0
      },
      "text/plain": [
       "Validation: 0it [00:00, ?it/s]"
      ]
     },
     "metadata": {},
     "output_type": "display_data"
    },
    {
     "data": {
      "application/vnd.jupyter.widget-view+json": {
       "model_id": "d5d37429b7384d81bd439a6923b4db19",
       "version_major": 2,
       "version_minor": 0
      },
      "text/plain": [
       "Validation: 0it [00:00, ?it/s]"
      ]
     },
     "metadata": {},
     "output_type": "display_data"
    },
    {
     "data": {
      "application/vnd.jupyter.widget-view+json": {
       "model_id": "74461e808ce445b1a08e94a5e14ba6aa",
       "version_major": 2,
       "version_minor": 0
      },
      "text/plain": [
       "Validation: 0it [00:00, ?it/s]"
      ]
     },
     "metadata": {},
     "output_type": "display_data"
    },
    {
     "data": {
      "application/vnd.jupyter.widget-view+json": {
       "model_id": "a20f31cd9cc94712a15ad78a58d54377",
       "version_major": 2,
       "version_minor": 0
      },
      "text/plain": [
       "Validation: 0it [00:00, ?it/s]"
      ]
     },
     "metadata": {},
     "output_type": "display_data"
    },
    {
     "data": {
      "application/vnd.jupyter.widget-view+json": {
       "model_id": "4d85dd8bbb3a46138e4e2177efa7a96f",
       "version_major": 2,
       "version_minor": 0
      },
      "text/plain": [
       "Validation: 0it [00:00, ?it/s]"
      ]
     },
     "metadata": {},
     "output_type": "display_data"
    },
    {
     "data": {
      "application/vnd.jupyter.widget-view+json": {
       "model_id": "0d400b0e8a204bd9a1c7260233da9eda",
       "version_major": 2,
       "version_minor": 0
      },
      "text/plain": [
       "Validation: 0it [00:00, ?it/s]"
      ]
     },
     "metadata": {},
     "output_type": "display_data"
    },
    {
     "data": {
      "application/vnd.jupyter.widget-view+json": {
       "model_id": "8ea161d5e0dc4eb88d6c9a5258638379",
       "version_major": 2,
       "version_minor": 0
      },
      "text/plain": [
       "Validation: 0it [00:00, ?it/s]"
      ]
     },
     "metadata": {},
     "output_type": "display_data"
    },
    {
     "data": {
      "application/vnd.jupyter.widget-view+json": {
       "model_id": "3a02a8cf0ad343308440e5bd765bda24",
       "version_major": 2,
       "version_minor": 0
      },
      "text/plain": [
       "Validation: 0it [00:00, ?it/s]"
      ]
     },
     "metadata": {},
     "output_type": "display_data"
    },
    {
     "data": {
      "application/vnd.jupyter.widget-view+json": {
       "model_id": "5a51376cce1540d9951d3601484ea30a",
       "version_major": 2,
       "version_minor": 0
      },
      "text/plain": [
       "Validation: 0it [00:00, ?it/s]"
      ]
     },
     "metadata": {},
     "output_type": "display_data"
    },
    {
     "data": {
      "application/vnd.jupyter.widget-view+json": {
       "model_id": "e898b59c4c2f44fa82dcf35086df328e",
       "version_major": 2,
       "version_minor": 0
      },
      "text/plain": [
       "Validation: 0it [00:00, ?it/s]"
      ]
     },
     "metadata": {},
     "output_type": "display_data"
    },
    {
     "data": {
      "application/vnd.jupyter.widget-view+json": {
       "model_id": "18b2c253161d42e6a9b6fe11fb2b8ec4",
       "version_major": 2,
       "version_minor": 0
      },
      "text/plain": [
       "Validation: 0it [00:00, ?it/s]"
      ]
     },
     "metadata": {},
     "output_type": "display_data"
    },
    {
     "data": {
      "application/vnd.jupyter.widget-view+json": {
       "model_id": "18cea64848684d5aa7abfd5dfb3a3304",
       "version_major": 2,
       "version_minor": 0
      },
      "text/plain": [
       "Validation: 0it [00:00, ?it/s]"
      ]
     },
     "metadata": {},
     "output_type": "display_data"
    },
    {
     "data": {
      "application/vnd.jupyter.widget-view+json": {
       "model_id": "08959e1062e0457385e48fb4b39c8831",
       "version_major": 2,
       "version_minor": 0
      },
      "text/plain": [
       "Validation: 0it [00:00, ?it/s]"
      ]
     },
     "metadata": {},
     "output_type": "display_data"
    },
    {
     "data": {
      "application/vnd.jupyter.widget-view+json": {
       "model_id": "cb9e69835ca54eaaa31bb428ed20a577",
       "version_major": 2,
       "version_minor": 0
      },
      "text/plain": [
       "Validation: 0it [00:00, ?it/s]"
      ]
     },
     "metadata": {},
     "output_type": "display_data"
    },
    {
     "data": {
      "application/vnd.jupyter.widget-view+json": {
       "model_id": "7da5ccf5398f4ff7942f9297b14b5dd7",
       "version_major": 2,
       "version_minor": 0
      },
      "text/plain": [
       "Validation: 0it [00:00, ?it/s]"
      ]
     },
     "metadata": {},
     "output_type": "display_data"
    },
    {
     "data": {
      "application/vnd.jupyter.widget-view+json": {
       "model_id": "94453a7e6e00408797db82c86273092f",
       "version_major": 2,
       "version_minor": 0
      },
      "text/plain": [
       "Validation: 0it [00:00, ?it/s]"
      ]
     },
     "metadata": {},
     "output_type": "display_data"
    },
    {
     "data": {
      "application/vnd.jupyter.widget-view+json": {
       "model_id": "af0ddc86af434caabb74b35377594a94",
       "version_major": 2,
       "version_minor": 0
      },
      "text/plain": [
       "Validation: 0it [00:00, ?it/s]"
      ]
     },
     "metadata": {},
     "output_type": "display_data"
    },
    {
     "data": {
      "application/vnd.jupyter.widget-view+json": {
       "model_id": "c0f7feb3f4504df0a516cbb71928bc1f",
       "version_major": 2,
       "version_minor": 0
      },
      "text/plain": [
       "Validation: 0it [00:00, ?it/s]"
      ]
     },
     "metadata": {},
     "output_type": "display_data"
    },
    {
     "data": {
      "application/vnd.jupyter.widget-view+json": {
       "model_id": "4cb447ee995e44e5a83d07e517604bc6",
       "version_major": 2,
       "version_minor": 0
      },
      "text/plain": [
       "Validation: 0it [00:00, ?it/s]"
      ]
     },
     "metadata": {},
     "output_type": "display_data"
    },
    {
     "data": {
      "application/vnd.jupyter.widget-view+json": {
       "model_id": "e2fe8800aef94d4b83bce9f721cb49dc",
       "version_major": 2,
       "version_minor": 0
      },
      "text/plain": [
       "Validation: 0it [00:00, ?it/s]"
      ]
     },
     "metadata": {},
     "output_type": "display_data"
    },
    {
     "data": {
      "application/vnd.jupyter.widget-view+json": {
       "model_id": "90b54f73ee7b4464a1bb6d0dd4319002",
       "version_major": 2,
       "version_minor": 0
      },
      "text/plain": [
       "Validation: 0it [00:00, ?it/s]"
      ]
     },
     "metadata": {},
     "output_type": "display_data"
    },
    {
     "data": {
      "application/vnd.jupyter.widget-view+json": {
       "model_id": "4415fbf6f6e44f2d8df2a43313093340",
       "version_major": 2,
       "version_minor": 0
      },
      "text/plain": [
       "Validation: 0it [00:00, ?it/s]"
      ]
     },
     "metadata": {},
     "output_type": "display_data"
    },
    {
     "data": {
      "application/vnd.jupyter.widget-view+json": {
       "model_id": "ac332ecf07664dbbbfe49d9590f29984",
       "version_major": 2,
       "version_minor": 0
      },
      "text/plain": [
       "Validation: 0it [00:00, ?it/s]"
      ]
     },
     "metadata": {},
     "output_type": "display_data"
    },
    {
     "data": {
      "application/vnd.jupyter.widget-view+json": {
       "model_id": "d6a3479c33ce4246ad04e83a7e087b2b",
       "version_major": 2,
       "version_minor": 0
      },
      "text/plain": [
       "Validation: 0it [00:00, ?it/s]"
      ]
     },
     "metadata": {},
     "output_type": "display_data"
    },
    {
     "data": {
      "application/vnd.jupyter.widget-view+json": {
       "model_id": "5f5196fcfa6941adb9dc67685ee79702",
       "version_major": 2,
       "version_minor": 0
      },
      "text/plain": [
       "Validation: 0it [00:00, ?it/s]"
      ]
     },
     "metadata": {},
     "output_type": "display_data"
    },
    {
     "data": {
      "application/vnd.jupyter.widget-view+json": {
       "model_id": "2f6006ff3cda475c83fd148ed887f157",
       "version_major": 2,
       "version_minor": 0
      },
      "text/plain": [
       "Validation: 0it [00:00, ?it/s]"
      ]
     },
     "metadata": {},
     "output_type": "display_data"
    },
    {
     "data": {
      "application/vnd.jupyter.widget-view+json": {
       "model_id": "8fe209631df34cac89fd02337f813283",
       "version_major": 2,
       "version_minor": 0
      },
      "text/plain": [
       "Validation: 0it [00:00, ?it/s]"
      ]
     },
     "metadata": {},
     "output_type": "display_data"
    },
    {
     "data": {
      "application/vnd.jupyter.widget-view+json": {
       "model_id": "91b747cfe4bd475bbe741adc1ab027a3",
       "version_major": 2,
       "version_minor": 0
      },
      "text/plain": [
       "Validation: 0it [00:00, ?it/s]"
      ]
     },
     "metadata": {},
     "output_type": "display_data"
    },
    {
     "data": {
      "application/vnd.jupyter.widget-view+json": {
       "model_id": "5833f2421e214f4daf33f159850bf6a9",
       "version_major": 2,
       "version_minor": 0
      },
      "text/plain": [
       "Validation: 0it [00:00, ?it/s]"
      ]
     },
     "metadata": {},
     "output_type": "display_data"
    },
    {
     "data": {
      "application/vnd.jupyter.widget-view+json": {
       "model_id": "53bf183a6af642f9bd56cd43f318e071",
       "version_major": 2,
       "version_minor": 0
      },
      "text/plain": [
       "Validation: 0it [00:00, ?it/s]"
      ]
     },
     "metadata": {},
     "output_type": "display_data"
    },
    {
     "data": {
      "application/vnd.jupyter.widget-view+json": {
       "model_id": "56e7e7539f7a4762adb0e63ad245101c",
       "version_major": 2,
       "version_minor": 0
      },
      "text/plain": [
       "Validation: 0it [00:00, ?it/s]"
      ]
     },
     "metadata": {},
     "output_type": "display_data"
    },
    {
     "data": {
      "application/vnd.jupyter.widget-view+json": {
       "model_id": "837e8be5bcf346f9932157a03ececd27",
       "version_major": 2,
       "version_minor": 0
      },
      "text/plain": [
       "Validation: 0it [00:00, ?it/s]"
      ]
     },
     "metadata": {},
     "output_type": "display_data"
    },
    {
     "data": {
      "application/vnd.jupyter.widget-view+json": {
       "model_id": "f712405fb8314409b592b1c55c972cc5",
       "version_major": 2,
       "version_minor": 0
      },
      "text/plain": [
       "Validation: 0it [00:00, ?it/s]"
      ]
     },
     "metadata": {},
     "output_type": "display_data"
    },
    {
     "data": {
      "application/vnd.jupyter.widget-view+json": {
       "model_id": "e560bdb39b144354b05b0de88d209bc0",
       "version_major": 2,
       "version_minor": 0
      },
      "text/plain": [
       "Validation: 0it [00:00, ?it/s]"
      ]
     },
     "metadata": {},
     "output_type": "display_data"
    },
    {
     "data": {
      "application/vnd.jupyter.widget-view+json": {
       "model_id": "3b8f26153bc24c33ad4c51512443af8a",
       "version_major": 2,
       "version_minor": 0
      },
      "text/plain": [
       "Validation: 0it [00:00, ?it/s]"
      ]
     },
     "metadata": {},
     "output_type": "display_data"
    },
    {
     "data": {
      "application/vnd.jupyter.widget-view+json": {
       "model_id": "0625b01d4fe0441b9f4bd87822ae54ce",
       "version_major": 2,
       "version_minor": 0
      },
      "text/plain": [
       "Validation: 0it [00:00, ?it/s]"
      ]
     },
     "metadata": {},
     "output_type": "display_data"
    },
    {
     "data": {
      "application/vnd.jupyter.widget-view+json": {
       "model_id": "6a15c44ec986420b94a2f6bace36b189",
       "version_major": 2,
       "version_minor": 0
      },
      "text/plain": [
       "Validation: 0it [00:00, ?it/s]"
      ]
     },
     "metadata": {},
     "output_type": "display_data"
    },
    {
     "data": {
      "application/vnd.jupyter.widget-view+json": {
       "model_id": "8e7e12ca9f2b453582ca482efa898d6f",
       "version_major": 2,
       "version_minor": 0
      },
      "text/plain": [
       "Validation: 0it [00:00, ?it/s]"
      ]
     },
     "metadata": {},
     "output_type": "display_data"
    },
    {
     "data": {
      "application/vnd.jupyter.widget-view+json": {
       "model_id": "de0f13300a984b85b3b440c5e9c9ce23",
       "version_major": 2,
       "version_minor": 0
      },
      "text/plain": [
       "Validation: 0it [00:00, ?it/s]"
      ]
     },
     "metadata": {},
     "output_type": "display_data"
    },
    {
     "data": {
      "application/vnd.jupyter.widget-view+json": {
       "model_id": "c3db252b18d4466bb42b4b9880a94edf",
       "version_major": 2,
       "version_minor": 0
      },
      "text/plain": [
       "Validation: 0it [00:00, ?it/s]"
      ]
     },
     "metadata": {},
     "output_type": "display_data"
    },
    {
     "data": {
      "application/vnd.jupyter.widget-view+json": {
       "model_id": "fb8e2f9f62724bc49c4dc291df8598cb",
       "version_major": 2,
       "version_minor": 0
      },
      "text/plain": [
       "Validation: 0it [00:00, ?it/s]"
      ]
     },
     "metadata": {},
     "output_type": "display_data"
    },
    {
     "data": {
      "application/vnd.jupyter.widget-view+json": {
       "model_id": "d4776a6bd5d2468889b60d2526123c15",
       "version_major": 2,
       "version_minor": 0
      },
      "text/plain": [
       "Validation: 0it [00:00, ?it/s]"
      ]
     },
     "metadata": {},
     "output_type": "display_data"
    },
    {
     "data": {
      "application/vnd.jupyter.widget-view+json": {
       "model_id": "c5884cc12cf4435da8c78ee5e88436be",
       "version_major": 2,
       "version_minor": 0
      },
      "text/plain": [
       "Validation: 0it [00:00, ?it/s]"
      ]
     },
     "metadata": {},
     "output_type": "display_data"
    },
    {
     "data": {
      "application/vnd.jupyter.widget-view+json": {
       "model_id": "ec577addd26242cb9356439ef8101853",
       "version_major": 2,
       "version_minor": 0
      },
      "text/plain": [
       "Validation: 0it [00:00, ?it/s]"
      ]
     },
     "metadata": {},
     "output_type": "display_data"
    },
    {
     "data": {
      "application/vnd.jupyter.widget-view+json": {
       "model_id": "55cec637a8ef474894fa26e2268e2563",
       "version_major": 2,
       "version_minor": 0
      },
      "text/plain": [
       "Validation: 0it [00:00, ?it/s]"
      ]
     },
     "metadata": {},
     "output_type": "display_data"
    },
    {
     "data": {
      "application/vnd.jupyter.widget-view+json": {
       "model_id": "44aab3fb55a94171a096476f29d74190",
       "version_major": 2,
       "version_minor": 0
      },
      "text/plain": [
       "Validation: 0it [00:00, ?it/s]"
      ]
     },
     "metadata": {},
     "output_type": "display_data"
    },
    {
     "data": {
      "application/vnd.jupyter.widget-view+json": {
       "model_id": "21ec82e0916241218ba0417afef9f86e",
       "version_major": 2,
       "version_minor": 0
      },
      "text/plain": [
       "Validation: 0it [00:00, ?it/s]"
      ]
     },
     "metadata": {},
     "output_type": "display_data"
    },
    {
     "data": {
      "application/vnd.jupyter.widget-view+json": {
       "model_id": "d66b2d3af42e409f9cd9441f2c145707",
       "version_major": 2,
       "version_minor": 0
      },
      "text/plain": [
       "Validation: 0it [00:00, ?it/s]"
      ]
     },
     "metadata": {},
     "output_type": "display_data"
    },
    {
     "data": {
      "application/vnd.jupyter.widget-view+json": {
       "model_id": "43ef7602da4b4284bd62729be7765611",
       "version_major": 2,
       "version_minor": 0
      },
      "text/plain": [
       "Validation: 0it [00:00, ?it/s]"
      ]
     },
     "metadata": {},
     "output_type": "display_data"
    },
    {
     "data": {
      "application/vnd.jupyter.widget-view+json": {
       "model_id": "c7fd39f03b164fbf82c9764d8447074b",
       "version_major": 2,
       "version_minor": 0
      },
      "text/plain": [
       "Validation: 0it [00:00, ?it/s]"
      ]
     },
     "metadata": {},
     "output_type": "display_data"
    },
    {
     "data": {
      "application/vnd.jupyter.widget-view+json": {
       "model_id": "3913710780324b1f8996d808a559cb08",
       "version_major": 2,
       "version_minor": 0
      },
      "text/plain": [
       "Validation: 0it [00:00, ?it/s]"
      ]
     },
     "metadata": {},
     "output_type": "display_data"
    },
    {
     "data": {
      "application/vnd.jupyter.widget-view+json": {
       "model_id": "b96ad838552344febf7518f15126aabc",
       "version_major": 2,
       "version_minor": 0
      },
      "text/plain": [
       "Validation: 0it [00:00, ?it/s]"
      ]
     },
     "metadata": {},
     "output_type": "display_data"
    },
    {
     "data": {
      "application/vnd.jupyter.widget-view+json": {
       "model_id": "d2b61a9dd28148d0913eee1fb42ab4c1",
       "version_major": 2,
       "version_minor": 0
      },
      "text/plain": [
       "Validation: 0it [00:00, ?it/s]"
      ]
     },
     "metadata": {},
     "output_type": "display_data"
    },
    {
     "data": {
      "application/vnd.jupyter.widget-view+json": {
       "model_id": "68d38eb4924e45df8dd4d6193d1b0b5d",
       "version_major": 2,
       "version_minor": 0
      },
      "text/plain": [
       "Validation: 0it [00:00, ?it/s]"
      ]
     },
     "metadata": {},
     "output_type": "display_data"
    },
    {
     "data": {
      "application/vnd.jupyter.widget-view+json": {
       "model_id": "46536076ad5d476daf85f81326bd5cfd",
       "version_major": 2,
       "version_minor": 0
      },
      "text/plain": [
       "Validation: 0it [00:00, ?it/s]"
      ]
     },
     "metadata": {},
     "output_type": "display_data"
    },
    {
     "data": {
      "application/vnd.jupyter.widget-view+json": {
       "model_id": "8a54adcece224e77b5a141f4720fe299",
       "version_major": 2,
       "version_minor": 0
      },
      "text/plain": [
       "Validation: 0it [00:00, ?it/s]"
      ]
     },
     "metadata": {},
     "output_type": "display_data"
    },
    {
     "data": {
      "application/vnd.jupyter.widget-view+json": {
       "model_id": "c35b3e17e9984353bd60c8e5e5389585",
       "version_major": 2,
       "version_minor": 0
      },
      "text/plain": [
       "Validation: 0it [00:00, ?it/s]"
      ]
     },
     "metadata": {},
     "output_type": "display_data"
    },
    {
     "data": {
      "application/vnd.jupyter.widget-view+json": {
       "model_id": "7f50ecabaeee4141a09e4c9c995bc252",
       "version_major": 2,
       "version_minor": 0
      },
      "text/plain": [
       "Validation: 0it [00:00, ?it/s]"
      ]
     },
     "metadata": {},
     "output_type": "display_data"
    },
    {
     "data": {
      "application/vnd.jupyter.widget-view+json": {
       "model_id": "8d9246fc44bb4c5bb38bf95417bfd7b3",
       "version_major": 2,
       "version_minor": 0
      },
      "text/plain": [
       "Validation: 0it [00:00, ?it/s]"
      ]
     },
     "metadata": {},
     "output_type": "display_data"
    },
    {
     "data": {
      "application/vnd.jupyter.widget-view+json": {
       "model_id": "f5010e90a4724d67a553c9d858f01528",
       "version_major": 2,
       "version_minor": 0
      },
      "text/plain": [
       "Validation: 0it [00:00, ?it/s]"
      ]
     },
     "metadata": {},
     "output_type": "display_data"
    },
    {
     "data": {
      "application/vnd.jupyter.widget-view+json": {
       "model_id": "99bc5904bb924b9fb6c8e78c7b89d502",
       "version_major": 2,
       "version_minor": 0
      },
      "text/plain": [
       "Validation: 0it [00:00, ?it/s]"
      ]
     },
     "metadata": {},
     "output_type": "display_data"
    },
    {
     "data": {
      "application/vnd.jupyter.widget-view+json": {
       "model_id": "1018de05010647828f97a4d2416b6c27",
       "version_major": 2,
       "version_minor": 0
      },
      "text/plain": [
       "Validation: 0it [00:00, ?it/s]"
      ]
     },
     "metadata": {},
     "output_type": "display_data"
    },
    {
     "data": {
      "application/vnd.jupyter.widget-view+json": {
       "model_id": "404468c5d2cb4ed8a1907545bb735324",
       "version_major": 2,
       "version_minor": 0
      },
      "text/plain": [
       "Validation: 0it [00:00, ?it/s]"
      ]
     },
     "metadata": {},
     "output_type": "display_data"
    },
    {
     "data": {
      "application/vnd.jupyter.widget-view+json": {
       "model_id": "3ce17e02c1a14932a5bba97539abcb41",
       "version_major": 2,
       "version_minor": 0
      },
      "text/plain": [
       "Validation: 0it [00:00, ?it/s]"
      ]
     },
     "metadata": {},
     "output_type": "display_data"
    },
    {
     "data": {
      "application/vnd.jupyter.widget-view+json": {
       "model_id": "8bc073b2fa6140b0a3dc952a74c88a74",
       "version_major": 2,
       "version_minor": 0
      },
      "text/plain": [
       "Validation: 0it [00:00, ?it/s]"
      ]
     },
     "metadata": {},
     "output_type": "display_data"
    },
    {
     "data": {
      "application/vnd.jupyter.widget-view+json": {
       "model_id": "505275426b034ed0acfc593ab67a13d6",
       "version_major": 2,
       "version_minor": 0
      },
      "text/plain": [
       "Validation: 0it [00:00, ?it/s]"
      ]
     },
     "metadata": {},
     "output_type": "display_data"
    },
    {
     "data": {
      "application/vnd.jupyter.widget-view+json": {
       "model_id": "1027c31027c8487fa45f175a46f31754",
       "version_major": 2,
       "version_minor": 0
      },
      "text/plain": [
       "Validation: 0it [00:00, ?it/s]"
      ]
     },
     "metadata": {},
     "output_type": "display_data"
    },
    {
     "data": {
      "application/vnd.jupyter.widget-view+json": {
       "model_id": "6a91da0475a840c1b1195d22480f32c2",
       "version_major": 2,
       "version_minor": 0
      },
      "text/plain": [
       "Validation: 0it [00:00, ?it/s]"
      ]
     },
     "metadata": {},
     "output_type": "display_data"
    },
    {
     "data": {
      "application/vnd.jupyter.widget-view+json": {
       "model_id": "7a0d3adf54304dc5a834baa407d2ea11",
       "version_major": 2,
       "version_minor": 0
      },
      "text/plain": [
       "Validation: 0it [00:00, ?it/s]"
      ]
     },
     "metadata": {},
     "output_type": "display_data"
    },
    {
     "data": {
      "application/vnd.jupyter.widget-view+json": {
       "model_id": "d4232760f0404e4daaf25565c1ba0931",
       "version_major": 2,
       "version_minor": 0
      },
      "text/plain": [
       "Validation: 0it [00:00, ?it/s]"
      ]
     },
     "metadata": {},
     "output_type": "display_data"
    },
    {
     "data": {
      "application/vnd.jupyter.widget-view+json": {
       "model_id": "7d1e35619fc9484a82bba32e7a45a640",
       "version_major": 2,
       "version_minor": 0
      },
      "text/plain": [
       "Validation: 0it [00:00, ?it/s]"
      ]
     },
     "metadata": {},
     "output_type": "display_data"
    },
    {
     "data": {
      "application/vnd.jupyter.widget-view+json": {
       "model_id": "62302f5785c645b5a5a373b07470a04e",
       "version_major": 2,
       "version_minor": 0
      },
      "text/plain": [
       "Validation: 0it [00:00, ?it/s]"
      ]
     },
     "metadata": {},
     "output_type": "display_data"
    },
    {
     "data": {
      "application/vnd.jupyter.widget-view+json": {
       "model_id": "d215655c421c4587b28bfcab617b7ee7",
       "version_major": 2,
       "version_minor": 0
      },
      "text/plain": [
       "Validation: 0it [00:00, ?it/s]"
      ]
     },
     "metadata": {},
     "output_type": "display_data"
    },
    {
     "data": {
      "application/vnd.jupyter.widget-view+json": {
       "model_id": "5f6eee19ebff4525b5d31b906d2b945d",
       "version_major": 2,
       "version_minor": 0
      },
      "text/plain": [
       "Validation: 0it [00:00, ?it/s]"
      ]
     },
     "metadata": {},
     "output_type": "display_data"
    },
    {
     "data": {
      "application/vnd.jupyter.widget-view+json": {
       "model_id": "3192c0ff4c104cb2aaab29991cf3930b",
       "version_major": 2,
       "version_minor": 0
      },
      "text/plain": [
       "Validation: 0it [00:00, ?it/s]"
      ]
     },
     "metadata": {},
     "output_type": "display_data"
    },
    {
     "data": {
      "application/vnd.jupyter.widget-view+json": {
       "model_id": "c8ad0ac221614faea33f96ca14d0d7e0",
       "version_major": 2,
       "version_minor": 0
      },
      "text/plain": [
       "Validation: 0it [00:00, ?it/s]"
      ]
     },
     "metadata": {},
     "output_type": "display_data"
    },
    {
     "data": {
      "application/vnd.jupyter.widget-view+json": {
       "model_id": "9bb5150ceef045e1abf383ce6ef46752",
       "version_major": 2,
       "version_minor": 0
      },
      "text/plain": [
       "Validation: 0it [00:00, ?it/s]"
      ]
     },
     "metadata": {},
     "output_type": "display_data"
    },
    {
     "data": {
      "application/vnd.jupyter.widget-view+json": {
       "model_id": "f6225cd609184ec5b8d3aabf3da17183",
       "version_major": 2,
       "version_minor": 0
      },
      "text/plain": [
       "Predicting: 0it [00:00, ?it/s]"
      ]
     },
     "metadata": {},
     "output_type": "display_data"
    }
   ],
   "source": [
    "horizon = len(Y_test_df)\n",
    "\n",
    "models = [\n",
    "          # NBEATS(input_size=5 * horizon, gpus = 1, h=horizon, max_epochs=100),\n",
    "          # NBEATSx(h=12, input_size=24,\n",
    "          #       # loss=DistributionLoss(distribution='Normal', level=[80, 90]),\n",
    "          #       gpus=1,\n",
    "          #       scaler_type='robust',\n",
    "          #       stat_exog_list = None,  \n",
    "          #       futr_exog_list = futr_list,\n",
    "          #       max_steps=100,\n",
    "          #       # val_check_steps=10,\n",
    "          #       # early_stop_patience_steps=2\n",
    "          #      ),\n",
    "          NHITS(input_size=5 * horizon, \n",
    "                h=horizon + 1,\n",
    "                gpus = 1,\n",
    "                stat_exog_list = None,\n",
    "                # hist_exog_list = hist_var_list, #22년 3월부터는 안됌\n",
    "                futr_exog_list = futr_list,\n",
    "                # n_blocks = [1, 1, 1],\n",
    "                # mlp_units = [[512, 512], [512, 512], [512, 512]],\n",
    "                # n_pool_kernel_size = [2, 2, 1],\n",
    "                # n_freq_downsample=[24, 12, 1],\n",
    "                pooling_mode = 'MaxPool1d',\n",
    "                scaler_type = 'robust',\n",
    "                learning_rate=1e-4,\n",
    "                activation='ReLU',\n",
    "                batch_size=32,\n",
    "                random_seed=42,\n",
    "                max_epochs=200\n",
    "               ),\n",
    "           # NHITS(\n",
    "           #       h,\n",
    "           #       input_size,\n",
    "           #       futr_exog_list=None,\n",
    "           #       hist_exog_list=None,\n",
    "           #       stat_exog_list=None,\n",
    "           #       stack_types: list = ['identity', 'identity', 'identity'],\n",
    "           #       n_blocks: list = [1, 1, 1],\n",
    "           #       mlp_units: list = [[512, 512], [512, 512], [512, 512]],\n",
    "           #       n_pool_kernel_size: list = [2, 2, 1],\n",
    "           #       n_freq_downsample: list = [4, 2, 1],\n",
    "           #       pooling_mode: str = 'MaxPool1d',\n",
    "           #       interpolation_mode: str = 'linear',\n",
    "           #       dropout_prob_theta=0.0,\n",
    "           #       activation='ReLU',\n",
    "           #       loss=MAE(),\n",
    "           #       learning_rate=0.001,\n",
    "           #       batch_size=32,\n",
    "           #       windows_batch_size: int = 1024,\n",
    "           #       step_size: int = 1,\n",
    "           #       scaler_type='identity',\n",
    "           #       random_seed=1,\n",
    "           #       num_workers_loader=0,\n",
    "           #       drop_last_loader=False,\n",
    "           #       **trainer_kwargs,\n",
    "    \n",
    "          # TFT(h=12, \n",
    "          #     input_size=5 * horizon,\n",
    "          #     # hidden_size=20,\n",
    "          #     #loss=DistributionLoss(distribution='Poisson', level=[80, 90]),\n",
    "          #     #loss=DistributionLoss(distribution='Normal', level=[80, 90]),\n",
    "          #     #loss=DistributionLoss(distribution='StudentT', level=[80, 90]),\n",
    "          #     learning_rate=0.005,\n",
    "          #     stat_exog_list = None,\n",
    "          #     futr_exog_list = futr_list,\n",
    "          #     max_steps=100,\n",
    "          #     gpus=1,\n",
    "          #     # val_check_steps=10,\n",
    "          #     # early_stop_patience_steps=10,\n",
    "          #     scaler_type='robust',\n",
    "          #     # windows_batch_size=None,\n",
    "          #     enable_progress_bar=True),\n",
    "             ]\n",
    "nforecast = NeuralForecast(models=models, freq='M')\n",
    "nforecast.fit(df=Y_train_df)\n",
    "Y_hat_df = nforecast.predict(futr_df=futr_df, static_df=static_df).reset_index()"
   ]
  },
  {
   "cell_type": "code",
   "execution_count": 42,
   "id": "30866cf9-6543-4f6e-802c-febe741b3492",
   "metadata": {
    "tags": []
   },
   "outputs": [
    {
     "data": {
      "image/png": "[encoded data removed]",
      "text/plain": [
       "<Figure size 2000x700 with 1 Axes>"
      ]
     },
     "metadata": {},
     "output_type": "display_data"
    }
   ],
   "source": [
    "# Plot predictions\n",
    "fig, ax = plt.subplots(1, 1, figsize = (20, 7))\n",
    "Y_hat_df = Y_test_df.merge(Y_hat_df, how='left', on=['unique_id', 'ds'])\n",
    "plot_df = pd.concat([Y_train_df, Y_hat_df]).set_index('ds')\n",
    "\n",
    "plot_df[['y', 'NHITS']].plot(ax=ax, linewidth=2, marker='o')\n",
    "\n",
    "plt.axvline(cutoff_date, color='red')\n",
    "ax.set_title(f'LI2CO3 Actual and Predicted Plot - Cutoff: {cutoff_date}', fontsize=22)\n",
    "ax.set_ylabel('LI2CO3_PRICE', fontsize=20)\n",
    "ax.set_xlabel('Date', fontsize=20)\n",
    "ax.legend(prop={'size': 15})\n",
    "ax.grid()\n",
    "\n",
    "# fig1.savefig(f'./data/forecasting_{cutoff_date}.png', dpi=100)\n",
    "fig.savefig(f'./data/forecast_plot_{cutoff_date}_wv.png')"
   ]
  },
  {
   "cell_type": "code",
   "execution_count": 43,
   "id": "9724b4e1-2d8c-4f3e-a5f8-433b9850c9d7",
   "metadata": {
    "tags": []
   },
   "outputs": [],
   "source": [
    "plot_df[['y', 'NHITS']].to_csv(f'./data/forecast_plot_{cutoff_date}_wv.csv',index=False)"
   ]
  },
  {
   "cell_type": "code",
   "execution_count": null,
   "id": "5d334bd2-1e84-48dc-b062-6e86303b0756",
   "metadata": {},
   "outputs": [],
   "source": []
  }
 ],
 "metadata": {
  "kernelspec": {
   "display_name": "Python 3 (ipykernel)",
   "language": "python",
   "name": "python3"
  },
  "language_info": {
   "codemirror_mode": {
    "name": "ipython",
    "version": 3
   },
   "file_extension": ".py",
   "mimetype": "text/x-python",
   "name": "python",
   "nbconvert_exporter": "python",
   "pygments_lexer": "ipython3",
   "version": "3.8.16"
  }
 },
 "nbformat": 4,
 "nbformat_minor": 5
}
