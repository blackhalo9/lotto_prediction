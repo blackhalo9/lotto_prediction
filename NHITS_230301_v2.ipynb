{
 "cells": [
  {
   "cell_type": "code",
   "execution_count": 1,
   "id": "2c709f33-1bfc-4a02-86f6-cd5c76467514",
   "metadata": {
    "tags": []
   },
   "outputs": [
    {
     "name": "stdout",
     "output_type": "stream",
     "text": [
      "C:\\Users\\ESKO\\PYWORK\\NHITS\n"
     ]
    }
   ],
   "source": [
    "import os, torch\n",
    "os.chdir(\"/Users/ESKO/PYWORK/NHITS\")\n",
    "print(os.getcwd())"
   ]
  },
  {
   "cell_type": "code",
   "execution_count": 2,
   "id": "1130c92b-7119-401d-8c4e-99b9474f1fb0",
   "metadata": {
    "tags": []
   },
   "outputs": [],
   "source": [
    "import numpy as np\n",
    "import pandas as pd\n",
    "import pytorch_lightning as pl\n",
    "import matplotlib.pyplot as plt\n",
    "\n",
    "from ray import tune\n",
    "from sklearn.preprocessing import StandardScaler\n",
    "\n",
    "from neuralforecast import NeuralForecast\n",
    "from neuralforecast.auto import AutoTFT\n",
    "from neuralforecast.models import NBEATS, NBEATSx, NHITS, TFT, LSTM\n",
    "from neuralforecast.losses.pytorch import MQLoss, DistributionLoss, GMM, PMM\n",
    "from neuralforecast.tsdataset import TimeSeriesDataset\n",
    "from neuralforecast.losses.pytorch import MAE"
   ]
  },
  {
   "cell_type": "markdown",
   "id": "092e974b-728b-448b-aca0-03a9c91b7fff",
   "metadata": {},
   "source": [
    "## <기준날짜 및 예측 기간 설정>"
   ]
  },
  {
   "cell_type": "code",
   "execution_count": 499,
   "id": "f91c564f-7439-4f72-9730-ed3e3ccdd549",
   "metadata": {
    "tags": []
   },
   "outputs": [],
   "source": [
    "cutoff_date = '2022-12-31' ## len = 65\n",
    "test_period = 12 ## 예측 기간 (월)\n",
    "corr_rate = 0.5 ## Lag corr rate\n",
    "hist_corr_rate = 0.9 ## Lag corr rate\n",
    "future_variable_limit = 30\n",
    "hist_variable_limit = 30"
   ]
  },
  {
   "cell_type": "markdown",
   "id": "60de4ab8-1f14-4139-951e-77f82ba87471",
   "metadata": {},
   "source": [
    "## <원 data set>"
   ]
  },
  {
   "cell_type": "code",
   "execution_count": 505,
   "id": "01ff22bb-7a0d-48ea-9ba3-2c3531f1361f",
   "metadata": {
    "tags": []
   },
   "outputs": [],
   "source": [
    "df = pd.read_csv('./data/metal_pst.csv')\n",
    "df.rename(columns={'date':'ds'},inplace=True)\n",
    "df.rename(columns={'li2co3_cif_fast_kg_spot_exchng':'y'},inplace=True)\n",
    "df['ds'] = pd.to_datetime(df['ds'], format='%Y-%m-%d')\n",
    "\n",
    "df_tgt = df.iloc[:,3:]\n",
    "scaler = StandardScaler()\n",
    "scaler.fit(df_tgt)\n",
    "arr = scaler.transform(df_tgt)\n",
    "df_tmp = pd.DataFrame(arr, columns=df_tgt.columns)\n",
    "df = pd.concat([df.iloc[:,:3],df_tmp], axis=1)\n",
    "\n",
    "raw_y_set_resampled = df.copy()\n",
    "raw_y_set_resampled.rename(columns={'ds':'date'},inplace=True)\n",
    "raw_y_set_resampled.rename(columns={'lioh_cif_fast_kg_spot_exchng':'y2'},inplace=True)\n",
    "del raw_y_set_resampled['unique_id']"
   ]
  },
  {
   "cell_type": "markdown",
   "id": "8a1f5486-9f68-4806-beb7-22fa9219aad0",
   "metadata": {},
   "source": [
    "## Feature shift"
   ]
  },
  {
   "cell_type": "code",
   "execution_count": null,
   "id": "f178475b-3d21-42b8-a56a-9fe5a627349f",
   "metadata": {
    "tags": []
   },
   "outputs": [],
   "source": [
    "%%time\n",
    "\n",
    "raw_y_set_resampled = raw_y_set_resampled[raw_y_set_resampled.date<=cutoff_date]\n",
    "raw_y_set_shifted_merged = raw_y_set_resampled['date']\n",
    "\n",
    "for i in range(len(raw_y_set_resampled.columns)):\n",
    "    if i == len(raw_y_set_resampled.columns) - 1:\n",
    "        break\n",
    "    raw_y_set_shifted = raw_y_set_resampled.iloc[:,[0,i+1]].dropna()\n",
    "    for j in range(test_period-1,test_period):\n",
    "        raw_y_set_shifted = pd.concat([raw_y_set_shifted, (raw_y_set_shifted.iloc[:,1].shift(j+1).rename(raw_y_set_resampled.columns[i+1] + '_' +str(j+1)+ '_'))],axis=1)\n",
    "        raw_y_set_shifted_merged = pd.merge(raw_y_set_shifted_merged, raw_y_set_shifted, how= 'outer') \n",
    "        if j == len(raw_y_set_shifted.iloc[:,1]) -2 :\n",
    "            break\n",
    "# raw_y_set_shifted_merged.to_csv('./data/raw_y_set_shifted_merged.csv', encoding='cp949')"
   ]
  },
  {
   "cell_type": "markdown",
   "id": "4889fa8d-cdb7-4a0c-a705-894d1746bdb7",
   "metadata": {},
   "source": [
    "#### 해당 기간에서의 lag corr best"
   ]
  },
  {
   "cell_type": "code",
   "execution_count": null,
   "id": "637d45e9-c3d2-4965-af8f-5553849d1f41",
   "metadata": {
    "tags": []
   },
   "outputs": [],
   "source": [
    "raw_y_set_shifted_merged_corr = raw_y_set_shifted_merged.corr()\n",
    "raw_y_set_shifted_merged_filtered = raw_y_set_shifted_merged_corr[raw_y_set_resampled.columns.drop('date')]\n",
    "# raw_y_set_shifted_merged_filtered = raw_y_set_shifted_merged_filtered.loc[raw_y_set_shifted_merged_filtered.index != 'y']\n",
    "# raw_y_set_shifted_merged_filtered = raw_y_set_shifted_merged_filtered.loc[raw_y_set_shifted_merged_filtered.index != 'y2']\n",
    "raw_y_set_shifted_merged_filtered_y = raw_y_set_shifted_merged_filtered.iloc[:,:1]\n",
    "raw_y_set_shifted_merged_filtered_y['y'] = abs(raw_y_set_shifted_merged_filtered_y['y'])\n",
    "raw_y_set_shifted_merged_filtered_upto_corr_rate = raw_y_set_shifted_merged_filtered_y[raw_y_set_shifted_merged_filtered_y.y >= corr_rate]\n",
    "raw_y_set_shifted_merged_filtered_upto_corr_rate = raw_y_set_shifted_merged_filtered_upto_corr_rate.sort_values('y',ascending=False)\n",
    "raw_y_set_shifted_merged_filtered_upto_corr_rate = raw_y_set_shifted_merged_filtered_upto_corr_rate[raw_y_set_shifted_merged_filtered_upto_corr_rate.index.str.contains(f'_{test_period}_')]\n",
    "raw_y_set_shifted_merged_filtered_upto_corr_rate = raw_y_set_shifted_merged_filtered_upto_corr_rate[:future_variable_limit]\n",
    "\n",
    "futr_list = raw_y_set_shifted_merged_filtered_upto_corr_rate.index.values.tolist()\n",
    "futr_list = [word.replace(f\"_{test_period}_\", \"\") for word in futr_list]\n",
    "# if 'li2co395_am_kg' in futr_list:\n",
    "#     futr_list = [w.replace('li2co395_am_kg', 'li2co3_995_am_kg') for w in futr_list]\n",
    "# raw_y_set_shifted_merged_filtered_upto_corr_rate = raw_y_set_shifted_merged_filtered_upto_corr_rate.sort_values('y',ascending=False)\n",
    "\n",
    "# if 'y2' in futr_list:\n",
    "#     (futr_list).remove('y2')\n",
    "# if 'li2co395_am_kg' in futr_list:\n",
    "#     (futr_list).remove('li2co395_am_kg')\n",
    "# if 'li2co3_995_am_kg' in futr_list:\n",
    "#     (futr_list).remove('li2co3_995_am_kg')\n",
    "# if 'mn_mb_kg' in futr_list:\n",
    "#     (futr_list).remove('mn_mb_kg')\n",
    "# if 'al_lme_kg' in futr_list:\n",
    "#     (futr_list).remove('al_lme_kg')"
   ]
  },
  {
   "cell_type": "code",
   "execution_count": null,
   "id": "7f71705a-ef29-408c-a653-06fd12682e52",
   "metadata": {
    "tags": []
   },
   "outputs": [],
   "source": [
    "raw_y_set_shifted_merged_filtered_upto_corr_rate"
   ]
  },
  {
   "cell_type": "code",
   "execution_count": null,
   "id": "f6792eab-6024-4482-8075-4895bd41586c",
   "metadata": {
    "tags": []
   },
   "outputs": [],
   "source": [
    "futr_list"
   ]
  },
  {
   "cell_type": "markdown",
   "id": "7e7e2423-991f-4d6b-882c-50617a2a65e1",
   "metadata": {},
   "source": [
    "#### 해당 기간에서의 corr best"
   ]
  },
  {
   "cell_type": "code",
   "execution_count": null,
   "id": "df77e790-0ad9-4403-abdd-53ebc8ad6996",
   "metadata": {
    "tags": []
   },
   "outputs": [],
   "source": [
    "hist_variable_limit"
   ]
  },
  {
   "cell_type": "code",
   "execution_count": null,
   "id": "e40279d3-f9f2-410e-88ac-452b91a2f75c",
   "metadata": {
    "tags": []
   },
   "outputs": [],
   "source": [
    "hist_var_chcek = raw_y_set_resampled.iloc[:,1:]\n",
    "\n",
    "hist_var_corr = hist_var_chcek.corr()\n",
    "hist_var_corr_filtered = hist_var_corr.loc[hist_var_corr.index != 'y']\n",
    "hist_var_corr_filtered = hist_var_corr_filtered.loc[hist_var_corr_filtered.index != 'y2']\n",
    "hist_var_corr_filtered_y = hist_var_corr_filtered.iloc[:,:1]\n",
    "hist_var_corr_filtered_y_corr_rate = hist_var_corr_filtered_y[hist_var_corr_filtered_y.y >= hist_corr_rate]\n",
    "hist_var_corr_filtered_y_only = hist_var_corr_filtered_y_corr_rate[hist_var_corr_filtered_y_corr_rate.index.str.contains('li2co3')==False]\n",
    "hist_var_corr_filtered_y_only = hist_var_corr_filtered_y_only[hist_var_corr_filtered_y_only.index.str.contains('lioh')==False]\n",
    "hist_var_corr_filtered_y_only = hist_var_corr_filtered_y_only.sort_values('y',ascending=False)\n",
    "hist_var_list = hist_var_corr_filtered_y_only.index.values.tolist()\n",
    "\n",
    "hist_list = hist_var_list[:hist_variable_limit]\n",
    "hist_list"
   ]
  },
  {
   "cell_type": "code",
   "execution_count": null,
   "id": "22c2422e-32ee-42b3-abb8-c7fde1f56a45",
   "metadata": {
    "tags": []
   },
   "outputs": [],
   "source": [
    "hist_var_corr_filtered_y_only"
   ]
  },
  {
   "cell_type": "markdown",
   "id": "8a209346-8f24-44ee-ba3b-a08f80614190",
   "metadata": {
    "tags": []
   },
   "source": [
    "#### static DF"
   ]
  },
  {
   "cell_type": "code",
   "execution_count": null,
   "id": "5ce7033a-2234-4bac-9087-91daee3af55a",
   "metadata": {
    "tags": []
   },
   "outputs": [],
   "source": [
    "static_df = pd.read_csv('/users/ESKO/PYWORK/NHITS/data/static_df.csv')"
   ]
  },
  {
   "cell_type": "markdown",
   "id": "d7fba8f2-a5ab-484b-b1ad-bda6ea55f7af",
   "metadata": {},
   "source": [
    "## <Training & Test>"
   ]
  },
  {
   "cell_type": "markdown",
   "id": "2135deb5-4427-45d2-b085-d0063d554f54",
   "metadata": {},
   "source": [
    "#### 날짜 확인"
   ]
  },
  {
   "cell_type": "code",
   "execution_count": null,
   "id": "525afb1e-6ec3-4108-9c23-95cc5565c352",
   "metadata": {},
   "outputs": [],
   "source": [
    "# train = df.loc[df.ds < '2021-06-30']\n",
    "# test = df.loc[df.ds > '2021-06-30']"
   ]
  },
  {
   "cell_type": "markdown",
   "id": "9f95faab-68f4-4566-9494-35d2b646a7d7",
   "metadata": {},
   "source": [
    "#### 날짜 별 len 확인"
   ]
  },
  {
   "cell_type": "code",
   "execution_count": null,
   "id": "8548a462-acb8-462e-afcb-94c8c29af9bd",
   "metadata": {
    "tags": []
   },
   "outputs": [],
   "source": [
    "# len(df.loc[df.ds<'2021-06-30'])"
   ]
  },
  {
   "cell_type": "code",
   "execution_count": null,
   "id": "837791bc-7eab-4e22-9501-5dda050fa80b",
   "metadata": {
    "tags": []
   },
   "outputs": [],
   "source": [
    "# len(Y_train_df)\n",
    "# len(Y_test_df)\n",
    "# len(df)"
   ]
  },
  {
   "cell_type": "markdown",
   "id": "5e48e6ed-d091-4f7e-860d-32db64006c26",
   "metadata": {},
   "source": [
    "Test 용 DF 및 선행 변수 반영"
   ]
  },
  {
   "cell_type": "code",
   "execution_count": null,
   "id": "e7947178-5017-4afa-99bb-de9843ac3061",
   "metadata": {
    "tags": []
   },
   "outputs": [],
   "source": [
    "Y_train_df = df[df.ds<=cutoff_date]\n",
    "Y_test_df = df[df.ds>cutoff_date]\n",
    "\n",
    "if len(Y_test_df) > 12:    \n",
    "    Y_test_df = Y_test_df[:12]\n",
    "else:\n",
    "    pass\n",
    "# Y_train_df = df[df.ds<df['ds'].values[len(df.loc[df.ds<=cutoff_date])]]\n",
    "# Y_test_df = df[df.ds>=df['ds'].values[len(df.loc[df.ds<=cutoff_date])]]"
   ]
  },
  {
   "cell_type": "code",
   "execution_count": 232,
   "id": "bfdd51ae-12ad-4971-b823-3b24a0321736",
   "metadata": {
    "tags": []
   },
   "outputs": [
    {
     "data": {
      "text/plain": [
       "['HOUSECOST_FIN',\n",
       " '1772.HK(Ganfeng Lithium)_Price_Low',\n",
       " '1772.HK(Ganfeng Lithium)_Price_Open',\n",
       " '1772.HK(Ganfeng Lithium)_Price_Close',\n",
       " '1772.HK(Ganfeng Lithium)_Price_Adj Close',\n",
       " '1772.HK(Ganfeng Lithium)_Price_High',\n",
       " 'Cameco(CCJ)_Adj Close',\n",
       " 'Cameco(CCJ)_High',\n",
       " 'Cameco(CCJ)_Open',\n",
       " 'Cameco(CCJ)_Close',\n",
       " '보일러용 후판 Q345R 30mm Xinyu Steel [중국] 현물',\n",
       " 'Cameco(CCJ)_Low',\n",
       " 'PPP_RUS',\n",
       " 'PPP_LVA',\n",
       " 'HOUSECOST_NZL',\n",
       " '옥수수 For Grain [미국(생산자 가격)] 현물',\n",
       " 'ALB_price_Adj Close',\n",
       " 'ALB_price_High',\n",
       " 'ALB_price_Close',\n",
       " 'ALB_price_Open',\n",
       " 'HOUSECOST_AUS',\n",
       " 'ALB_price_Low',\n",
       " 'LAC_price_Low',\n",
       " 'Howe Robinson Container Index',\n",
       " 'LAC_price_Open',\n",
       " 'LAC_price_Close',\n",
       " 'LAC_price_Adj Close',\n",
       " 'LAC_price_High',\n",
       " 'LGES 리튬소요량_수산화리튬(kg)',\n",
       " 'PPP_LTU']"
      ]
     },
     "execution_count": 232,
     "metadata": {},
     "output_type": "execute_result"
    }
   ],
   "source": [
    "futr_list"
   ]
  },
  {
   "cell_type": "code",
   "execution_count": 233,
   "id": "6923b55d-6811-43b3-a993-7e788103fde3",
   "metadata": {
    "tags": []
   },
   "outputs": [],
   "source": [
    "# futr_list = ['HOUSECOST_FIN',\n",
    "#  '1772.HK(Ganfeng Lithium)_Price_Low',\n",
    "#  '1772.HK(Ganfeng Lithium)_Price_Open',\n",
    "#  '1772.HK(Ganfeng Lithium)_Price_Close',\n",
    "#  '1772.HK(Ganfeng Lithium)_Price_Adj Close',\n",
    "#  '1772.HK(Ganfeng Lithium)_Price_High',\n",
    "#  'Cameco(CCJ)_Adj Close',\n",
    "#  'Cameco(CCJ)_High',\n",
    "#  'Cameco(CCJ)_Open',\n",
    "#  'Cameco(CCJ)_Close']"
   ]
  },
  {
   "cell_type": "code",
   "execution_count": 234,
   "id": "d30f9ec6-8444-4464-9812-a65a0c28270b",
   "metadata": {
    "tags": []
   },
   "outputs": [],
   "source": [
    "# futr_list = [\n",
    "#              'Baltic Dry Index (BDI)',\n",
    "#              'Howe Robinson Container Index',\n",
    "#              'Shanghai Containerized Freight Index (SCFI)',\n",
    "#              # 'lioh_mag_am_kg',\n",
    "#              # 'LGES 리튬소요량_수산화리튬(kg)',\n",
    "#              # '옥수수 For Grain [미국(생산자 가격)] 현물',\n",
    "#              # '대두 [미국(생산자 가격)] 현물',\n",
    "#              # '대두박 [파라나구아(FOB)] 현물',\n",
    "#              # '대두유 crude and refined average price [파라나구아(FOB)] 현물',\n",
    "#              # 'LGES 리튬소요량_탄산리튬(kg)',\n",
    "#              # 'Pilbara Mineral Limited price Open',\n",
    "#              # 'li2co3_cif_fast_kg_spot_exchng'\n",
    "#              # '미국 비농업부분고용',\n",
    "#             ]"
   ]
  },
  {
   "cell_type": "code",
   "execution_count": 235,
   "id": "1703cc48-b74b-4371-9ce1-840ca6b61141",
   "metadata": {
    "tags": []
   },
   "outputs": [
    {
     "data": {
      "text/plain": [
       "['HOUSECOST_FIN',\n",
       " '1772.HK(Ganfeng Lithium)_Price_Low',\n",
       " '1772.HK(Ganfeng Lithium)_Price_Open',\n",
       " '1772.HK(Ganfeng Lithium)_Price_Close',\n",
       " '1772.HK(Ganfeng Lithium)_Price_Adj Close',\n",
       " '1772.HK(Ganfeng Lithium)_Price_High',\n",
       " 'Cameco(CCJ)_Adj Close',\n",
       " 'Cameco(CCJ)_High',\n",
       " 'Cameco(CCJ)_Open',\n",
       " 'Cameco(CCJ)_Close',\n",
       " '보일러용 후판 Q345R 30mm Xinyu Steel [중국] 현물',\n",
       " 'Cameco(CCJ)_Low',\n",
       " 'PPP_RUS',\n",
       " 'PPP_LVA',\n",
       " 'HOUSECOST_NZL',\n",
       " '옥수수 For Grain [미국(생산자 가격)] 현물',\n",
       " 'ALB_price_Adj Close',\n",
       " 'ALB_price_High',\n",
       " 'ALB_price_Close',\n",
       " 'ALB_price_Open',\n",
       " 'HOUSECOST_AUS',\n",
       " 'ALB_price_Low',\n",
       " 'LAC_price_Low',\n",
       " 'Howe Robinson Container Index',\n",
       " 'LAC_price_Open',\n",
       " 'LAC_price_Close',\n",
       " 'LAC_price_Adj Close',\n",
       " 'LAC_price_High',\n",
       " 'LGES 리튬소요량_수산화리튬(kg)',\n",
       " 'PPP_LTU']"
      ]
     },
     "execution_count": 235,
     "metadata": {},
     "output_type": "execute_result"
    }
   ],
   "source": [
    "futr_list"
   ]
  },
  {
   "cell_type": "code",
   "execution_count": 236,
   "id": "59231adb-e853-4c0e-ae46-2d09e7b8c7c0",
   "metadata": {
    "tags": []
   },
   "outputs": [],
   "source": [
    "Y_test_df_list = list(Y_test_df)\n",
    "Y_test_df_list = [x for x in Y_test_df_list if x not in futr_list]\n",
    "Y_test_df_list[3:3] = futr_list\n",
    "Y_test_df = Y_test_df[Y_test_df_list]\n",
    "\n",
    "Y_train_df_list = list(Y_train_df)\n",
    "Y_train_df_list = [x for x in Y_train_df if x not in futr_list]\n",
    "Y_train_df_list[3:3] = futr_list\n",
    "Y_train_df = Y_train_df[Y_train_df_list]"
   ]
  },
  {
   "cell_type": "code",
   "execution_count": 237,
   "id": "b6a349e3-e146-47f1-aae9-fd4ca29154e8",
   "metadata": {
    "tags": []
   },
   "outputs": [
    {
     "data": {
      "text/html": [
       "<div>\n",
       "<style scoped>\n",
       "    .dataframe tbody tr th:only-of-type {\n",
       "        vertical-align: middle;\n",
       "    }\n",
       "\n",
       "    .dataframe tbody tr th {\n",
       "        vertical-align: top;\n",
       "    }\n",
       "\n",
       "    .dataframe thead th {\n",
       "        text-align: right;\n",
       "    }\n",
       "</style>\n",
       "<table border=\"1\" class=\"dataframe\">\n",
       "  <thead>\n",
       "    <tr style=\"text-align: right;\">\n",
       "      <th></th>\n",
       "      <th>ds</th>\n",
       "      <th>unique_id</th>\n",
       "      <th>Howe Robinson Container Index</th>\n",
       "      <th>옥수수 For Grain [미국(생산자 가격)] 현물</th>\n",
       "      <th>LGES 리튬소요량_수산화리튬(kg)</th>\n",
       "      <th>보일러용 후판 Q345R 30mm Xinyu Steel [중국] 현물</th>\n",
       "      <th>HOUSECOST_AUS</th>\n",
       "      <th>HOUSECOST_FIN</th>\n",
       "      <th>HOUSECOST_NZL</th>\n",
       "      <th>PPP_LTU</th>\n",
       "      <th>...</th>\n",
       "      <th>LAC_price_Open</th>\n",
       "      <th>LAC_price_High</th>\n",
       "      <th>LAC_price_Low</th>\n",
       "      <th>LAC_price_Close</th>\n",
       "      <th>LAC_price_Adj Close</th>\n",
       "      <th>1772.HK(Ganfeng Lithium)_Price_Open</th>\n",
       "      <th>1772.HK(Ganfeng Lithium)_Price_High</th>\n",
       "      <th>1772.HK(Ganfeng Lithium)_Price_Low</th>\n",
       "      <th>1772.HK(Ganfeng Lithium)_Price_Close</th>\n",
       "      <th>1772.HK(Ganfeng Lithium)_Price_Adj Close</th>\n",
       "    </tr>\n",
       "  </thead>\n",
       "  <tbody>\n",
       "    <tr>\n",
       "      <th>0</th>\n",
       "      <td>2023-01-31</td>\n",
       "      <td>A</td>\n",
       "      <td>1.983558</td>\n",
       "      <td>1.048823</td>\n",
       "      <td>0.935882</td>\n",
       "      <td>1.712108</td>\n",
       "      <td>-0.998466</td>\n",
       "      <td>0.744984</td>\n",
       "      <td>1.766310</td>\n",
       "      <td>1.477524</td>\n",
       "      <td>...</td>\n",
       "      <td>2.005109</td>\n",
       "      <td>1.995952</td>\n",
       "      <td>1.985077</td>\n",
       "      <td>1.982353</td>\n",
       "      <td>1.982353</td>\n",
       "      <td>1.586656</td>\n",
       "      <td>1.566521</td>\n",
       "      <td>1.591698</td>\n",
       "      <td>1.585566</td>\n",
       "      <td>1.583227</td>\n",
       "    </tr>\n",
       "    <tr>\n",
       "      <th>1</th>\n",
       "      <td>2023-02-28</td>\n",
       "      <td>A</td>\n",
       "      <td>2.294724</td>\n",
       "      <td>1.467862</td>\n",
       "      <td>0.897597</td>\n",
       "      <td>1.894103</td>\n",
       "      <td>-0.998466</td>\n",
       "      <td>0.744984</td>\n",
       "      <td>1.766310</td>\n",
       "      <td>1.477524</td>\n",
       "      <td>...</td>\n",
       "      <td>1.909121</td>\n",
       "      <td>1.923140</td>\n",
       "      <td>1.941953</td>\n",
       "      <td>1.940593</td>\n",
       "      <td>1.940593</td>\n",
       "      <td>1.728255</td>\n",
       "      <td>1.720887</td>\n",
       "      <td>1.749242</td>\n",
       "      <td>1.743348</td>\n",
       "      <td>1.740182</td>\n",
       "    </tr>\n",
       "    <tr>\n",
       "      <th>2</th>\n",
       "      <td>2023-03-31</td>\n",
       "      <td>A</td>\n",
       "      <td>2.612162</td>\n",
       "      <td>1.831557</td>\n",
       "      <td>1.163820</td>\n",
       "      <td>1.918363</td>\n",
       "      <td>-0.998466</td>\n",
       "      <td>0.744984</td>\n",
       "      <td>1.766310</td>\n",
       "      <td>1.477524</td>\n",
       "      <td>...</td>\n",
       "      <td>2.074784</td>\n",
       "      <td>2.127488</td>\n",
       "      <td>2.091311</td>\n",
       "      <td>2.126649</td>\n",
       "      <td>2.126649</td>\n",
       "      <td>1.407937</td>\n",
       "      <td>1.397419</td>\n",
       "      <td>1.389449</td>\n",
       "      <td>1.384712</td>\n",
       "      <td>1.383427</td>\n",
       "    </tr>\n",
       "    <tr>\n",
       "      <th>3</th>\n",
       "      <td>2023-04-30</td>\n",
       "      <td>A</td>\n",
       "      <td>2.556884</td>\n",
       "      <td>2.242691</td>\n",
       "      <td>1.212245</td>\n",
       "      <td>1.629483</td>\n",
       "      <td>-0.874747</td>\n",
       "      <td>0.716308</td>\n",
       "      <td>1.581444</td>\n",
       "      <td>1.477524</td>\n",
       "      <td>...</td>\n",
       "      <td>2.316314</td>\n",
       "      <td>2.291464</td>\n",
       "      <td>2.243617</td>\n",
       "      <td>2.228442</td>\n",
       "      <td>2.228442</td>\n",
       "      <td>1.141380</td>\n",
       "      <td>1.140003</td>\n",
       "      <td>1.132464</td>\n",
       "      <td>1.134450</td>\n",
       "      <td>1.134478</td>\n",
       "    </tr>\n",
       "    <tr>\n",
       "      <th>4</th>\n",
       "      <td>2023-05-31</td>\n",
       "      <td>A</td>\n",
       "      <td>2.501607</td>\n",
       "      <td>2.385006</td>\n",
       "      <td>1.083226</td>\n",
       "      <td>1.585083</td>\n",
       "      <td>-0.874747</td>\n",
       "      <td>0.716308</td>\n",
       "      <td>1.581444</td>\n",
       "      <td>1.477524</td>\n",
       "      <td>...</td>\n",
       "      <td>1.588567</td>\n",
       "      <td>1.604325</td>\n",
       "      <td>1.559607</td>\n",
       "      <td>1.584550</td>\n",
       "      <td>1.584550</td>\n",
       "      <td>1.063306</td>\n",
       "      <td>1.066957</td>\n",
       "      <td>1.087993</td>\n",
       "      <td>1.077455</td>\n",
       "      <td>1.077782</td>\n",
       "    </tr>\n",
       "    <tr>\n",
       "      <th>5</th>\n",
       "      <td>2023-06-30</td>\n",
       "      <td>A</td>\n",
       "      <td>2.515599</td>\n",
       "      <td>2.471976</td>\n",
       "      <td>1.078285</td>\n",
       "      <td>1.438440</td>\n",
       "      <td>-0.874747</td>\n",
       "      <td>0.716308</td>\n",
       "      <td>1.581444</td>\n",
       "      <td>1.477524</td>\n",
       "      <td>...</td>\n",
       "      <td>1.339654</td>\n",
       "      <td>1.323487</td>\n",
       "      <td>1.346522</td>\n",
       "      <td>1.331576</td>\n",
       "      <td>1.331576</td>\n",
       "      <td>1.394566</td>\n",
       "      <td>1.411001</td>\n",
       "      <td>1.423868</td>\n",
       "      <td>1.430067</td>\n",
       "      <td>1.439884</td>\n",
       "    </tr>\n",
       "    <tr>\n",
       "      <th>6</th>\n",
       "      <td>2023-07-31</td>\n",
       "      <td>A</td>\n",
       "      <td>2.439292</td>\n",
       "      <td>2.377100</td>\n",
       "      <td>1.903112</td>\n",
       "      <td>0.653879</td>\n",
       "      <td>-0.692016</td>\n",
       "      <td>3.046615</td>\n",
       "      <td>-0.198878</td>\n",
       "      <td>1.477524</td>\n",
       "      <td>...</td>\n",
       "      <td>1.279127</td>\n",
       "      <td>1.273195</td>\n",
       "      <td>1.305257</td>\n",
       "      <td>1.309183</td>\n",
       "      <td>1.309183</td>\n",
       "      <td>1.369106</td>\n",
       "      <td>1.347666</td>\n",
       "      <td>1.377769</td>\n",
       "      <td>1.352985</td>\n",
       "      <td>1.371378</td>\n",
       "    </tr>\n",
       "    <tr>\n",
       "      <th>7</th>\n",
       "      <td>2023-08-31</td>\n",
       "      <td>A</td>\n",
       "      <td>2.119559</td>\n",
       "      <td>2.369193</td>\n",
       "      <td>1.924302</td>\n",
       "      <td>0.335386</td>\n",
       "      <td>-0.692016</td>\n",
       "      <td>3.046615</td>\n",
       "      <td>-0.198878</td>\n",
       "      <td>1.477524</td>\n",
       "      <td>...</td>\n",
       "      <td>2.043213</td>\n",
       "      <td>2.028341</td>\n",
       "      <td>2.083094</td>\n",
       "      <td>2.062310</td>\n",
       "      <td>2.062310</td>\n",
       "      <td>1.179453</td>\n",
       "      <td>1.162265</td>\n",
       "      <td>1.206883</td>\n",
       "      <td>1.188562</td>\n",
       "      <td>1.206447</td>\n",
       "    </tr>\n",
       "    <tr>\n",
       "      <th>8</th>\n",
       "      <td>2023-09-30</td>\n",
       "      <td>A</td>\n",
       "      <td>1.188816</td>\n",
       "      <td>2.250597</td>\n",
       "      <td>2.173007</td>\n",
       "      <td>0.123829</td>\n",
       "      <td>-0.692016</td>\n",
       "      <td>3.046615</td>\n",
       "      <td>-0.198878</td>\n",
       "      <td>1.477524</td>\n",
       "      <td>...</td>\n",
       "      <td>2.028986</td>\n",
       "      <td>2.019256</td>\n",
       "      <td>2.057453</td>\n",
       "      <td>2.041390</td>\n",
       "      <td>2.041390</td>\n",
       "      <td>0.917671</td>\n",
       "      <td>0.901664</td>\n",
       "      <td>0.933301</td>\n",
       "      <td>0.907518</td>\n",
       "      <td>0.924534</td>\n",
       "    </tr>\n",
       "    <tr>\n",
       "      <th>9</th>\n",
       "      <td>2023-10-31</td>\n",
       "      <td>A</td>\n",
       "      <td>0.204375</td>\n",
       "      <td>1.784119</td>\n",
       "      <td>2.608211</td>\n",
       "      <td>-0.077163</td>\n",
       "      <td>2.605922</td>\n",
       "      <td>3.167846</td>\n",
       "      <td>1.999421</td>\n",
       "      <td>1.477524</td>\n",
       "      <td>...</td>\n",
       "      <td>1.630685</td>\n",
       "      <td>1.615169</td>\n",
       "      <td>1.641360</td>\n",
       "      <td>1.631476</td>\n",
       "      <td>1.631476</td>\n",
       "      <td>0.639685</td>\n",
       "      <td>0.634064</td>\n",
       "      <td>0.654932</td>\n",
       "      <td>0.640460</td>\n",
       "      <td>0.656652</td>\n",
       "    </tr>\n",
       "    <tr>\n",
       "      <th>10</th>\n",
       "      <td>2023-11-30</td>\n",
       "      <td>A</td>\n",
       "      <td>-0.008117</td>\n",
       "      <td>1.784119</td>\n",
       "      <td>2.796475</td>\n",
       "      <td>-0.263307</td>\n",
       "      <td>2.605922</td>\n",
       "      <td>3.167846</td>\n",
       "      <td>1.999421</td>\n",
       "      <td>1.477524</td>\n",
       "      <td>...</td>\n",
       "      <td>1.740451</td>\n",
       "      <td>1.707643</td>\n",
       "      <td>1.766118</td>\n",
       "      <td>1.726783</td>\n",
       "      <td>1.726783</td>\n",
       "      <td>0.920304</td>\n",
       "      <td>0.911349</td>\n",
       "      <td>0.938983</td>\n",
       "      <td>0.936081</td>\n",
       "      <td>0.953186</td>\n",
       "    </tr>\n",
       "    <tr>\n",
       "      <th>11</th>\n",
       "      <td>2023-12-31</td>\n",
       "      <td>A</td>\n",
       "      <td>-0.041773</td>\n",
       "      <td>1.784119</td>\n",
       "      <td>3.141224</td>\n",
       "      <td>-0.213492</td>\n",
       "      <td>2.605922</td>\n",
       "      <td>3.167846</td>\n",
       "      <td>1.999421</td>\n",
       "      <td>1.477524</td>\n",
       "      <td>...</td>\n",
       "      <td>1.404525</td>\n",
       "      <td>1.354943</td>\n",
       "      <td>1.422318</td>\n",
       "      <td>1.374380</td>\n",
       "      <td>1.374380</td>\n",
       "      <td>1.011836</td>\n",
       "      <td>0.990812</td>\n",
       "      <td>1.037210</td>\n",
       "      <td>1.007555</td>\n",
       "      <td>1.024881</td>\n",
       "    </tr>\n",
       "  </tbody>\n",
       "</table>\n",
       "<p>12 rows × 32 columns</p>\n",
       "</div>"
      ],
      "text/plain": [
       "           ds unique_id  Howe Robinson Container Index  \\\n",
       "0  2023-01-31         A                       1.983558   \n",
       "1  2023-02-28         A                       2.294724   \n",
       "2  2023-03-31         A                       2.612162   \n",
       "3  2023-04-30         A                       2.556884   \n",
       "4  2023-05-31         A                       2.501607   \n",
       "5  2023-06-30         A                       2.515599   \n",
       "6  2023-07-31         A                       2.439292   \n",
       "7  2023-08-31         A                       2.119559   \n",
       "8  2023-09-30         A                       1.188816   \n",
       "9  2023-10-31         A                       0.204375   \n",
       "10 2023-11-30         A                      -0.008117   \n",
       "11 2023-12-31         A                      -0.041773   \n",
       "\n",
       "    옥수수 For Grain [미국(생산자 가격)] 현물  LGES 리튬소요량_수산화리튬(kg)  \\\n",
       "0                        1.048823              0.935882   \n",
       "1                        1.467862              0.897597   \n",
       "2                        1.831557              1.163820   \n",
       "3                        2.242691              1.212245   \n",
       "4                        2.385006              1.083226   \n",
       "5                        2.471976              1.078285   \n",
       "6                        2.377100              1.903112   \n",
       "7                        2.369193              1.924302   \n",
       "8                        2.250597              2.173007   \n",
       "9                        1.784119              2.608211   \n",
       "10                       1.784119              2.796475   \n",
       "11                       1.784119              3.141224   \n",
       "\n",
       "    보일러용 후판 Q345R 30mm Xinyu Steel [중국] 현물  HOUSECOST_AUS  HOUSECOST_FIN  \\\n",
       "0                                 1.712108      -0.998466       0.744984   \n",
       "1                                 1.894103      -0.998466       0.744984   \n",
       "2                                 1.918363      -0.998466       0.744984   \n",
       "3                                 1.629483      -0.874747       0.716308   \n",
       "4                                 1.585083      -0.874747       0.716308   \n",
       "5                                 1.438440      -0.874747       0.716308   \n",
       "6                                 0.653879      -0.692016       3.046615   \n",
       "7                                 0.335386      -0.692016       3.046615   \n",
       "8                                 0.123829      -0.692016       3.046615   \n",
       "9                                -0.077163       2.605922       3.167846   \n",
       "10                               -0.263307       2.605922       3.167846   \n",
       "11                               -0.213492       2.605922       3.167846   \n",
       "\n",
       "    HOUSECOST_NZL   PPP_LTU  ...  LAC_price_Open  LAC_price_High  \\\n",
       "0        1.766310  1.477524  ...        2.005109        1.995952   \n",
       "1        1.766310  1.477524  ...        1.909121        1.923140   \n",
       "2        1.766310  1.477524  ...        2.074784        2.127488   \n",
       "3        1.581444  1.477524  ...        2.316314        2.291464   \n",
       "4        1.581444  1.477524  ...        1.588567        1.604325   \n",
       "5        1.581444  1.477524  ...        1.339654        1.323487   \n",
       "6       -0.198878  1.477524  ...        1.279127        1.273195   \n",
       "7       -0.198878  1.477524  ...        2.043213        2.028341   \n",
       "8       -0.198878  1.477524  ...        2.028986        2.019256   \n",
       "9        1.999421  1.477524  ...        1.630685        1.615169   \n",
       "10       1.999421  1.477524  ...        1.740451        1.707643   \n",
       "11       1.999421  1.477524  ...        1.404525        1.354943   \n",
       "\n",
       "    LAC_price_Low  LAC_price_Close  LAC_price_Adj Close  \\\n",
       "0        1.985077         1.982353             1.982353   \n",
       "1        1.941953         1.940593             1.940593   \n",
       "2        2.091311         2.126649             2.126649   \n",
       "3        2.243617         2.228442             2.228442   \n",
       "4        1.559607         1.584550             1.584550   \n",
       "5        1.346522         1.331576             1.331576   \n",
       "6        1.305257         1.309183             1.309183   \n",
       "7        2.083094         2.062310             2.062310   \n",
       "8        2.057453         2.041390             2.041390   \n",
       "9        1.641360         1.631476             1.631476   \n",
       "10       1.766118         1.726783             1.726783   \n",
       "11       1.422318         1.374380             1.374380   \n",
       "\n",
       "    1772.HK(Ganfeng Lithium)_Price_Open  1772.HK(Ganfeng Lithium)_Price_High  \\\n",
       "0                              1.586656                             1.566521   \n",
       "1                              1.728255                             1.720887   \n",
       "2                              1.407937                             1.397419   \n",
       "3                              1.141380                             1.140003   \n",
       "4                              1.063306                             1.066957   \n",
       "5                              1.394566                             1.411001   \n",
       "6                              1.369106                             1.347666   \n",
       "7                              1.179453                             1.162265   \n",
       "8                              0.917671                             0.901664   \n",
       "9                              0.639685                             0.634064   \n",
       "10                             0.920304                             0.911349   \n",
       "11                             1.011836                             0.990812   \n",
       "\n",
       "    1772.HK(Ganfeng Lithium)_Price_Low  1772.HK(Ganfeng Lithium)_Price_Close  \\\n",
       "0                             1.591698                              1.585566   \n",
       "1                             1.749242                              1.743348   \n",
       "2                             1.389449                              1.384712   \n",
       "3                             1.132464                              1.134450   \n",
       "4                             1.087993                              1.077455   \n",
       "5                             1.423868                              1.430067   \n",
       "6                             1.377769                              1.352985   \n",
       "7                             1.206883                              1.188562   \n",
       "8                             0.933301                              0.907518   \n",
       "9                             0.654932                              0.640460   \n",
       "10                            0.938983                              0.936081   \n",
       "11                            1.037210                              1.007555   \n",
       "\n",
       "    1772.HK(Ganfeng Lithium)_Price_Adj Close  \n",
       "0                                   1.583227  \n",
       "1                                   1.740182  \n",
       "2                                   1.383427  \n",
       "3                                   1.134478  \n",
       "4                                   1.077782  \n",
       "5                                   1.439884  \n",
       "6                                   1.371378  \n",
       "7                                   1.206447  \n",
       "8                                   0.924534  \n",
       "9                                   0.656652  \n",
       "10                                  0.953186  \n",
       "11                                  1.024881  \n",
       "\n",
       "[12 rows x 32 columns]"
      ]
     },
     "execution_count": 237,
     "metadata": {},
     "output_type": "execute_result"
    }
   ],
   "source": [
    "future_date_series = pd.date_range(pd.date_range(cutoff_date,periods=2,freq='M')[1],periods=test_period,freq='M')\n",
    "future_date = pd.DataFrame(future_date_series,columns=['ds'])\n",
    "# future_date['unique_id'] = 'A'\n",
    "future_df_temp = pd.concat([raw_y_set_resampled.rename(columns={'date':'ds'}).iloc[-(test_period+len(Y_test_df)):,:],future_date])\n",
    "future_df_temp[futr_list] = future_df_temp[futr_list].shift(test_period)\n",
    "\n",
    "future_df_with_index = list(['ds','unique_id']) + futr_list\n",
    "future_df_with_index\n",
    "\n",
    "future_df_temp = future_df_temp[future_df_temp.columns[future_df_temp.columns.isin(future_df_with_index)]].reset_index(drop=True)\n",
    "future_df_temp.insert(1, 'unique_id', 'A')\n",
    "futr_df = future_df_temp.iloc[-test_period:,:].reset_index(drop=True)\n",
    "futr_df"
   ]
  },
  {
   "cell_type": "markdown",
   "id": "41b52225-6b2d-4ffb-939e-beab3e28281e",
   "metadata": {},
   "source": [
    "#### No 변수"
   ]
  },
  {
   "cell_type": "code",
   "execution_count": 238,
   "id": "e57c2c7e-3a33-4965-adec-88ef864f2038",
   "metadata": {
    "jupyter": {
     "source_hidden": true
    },
    "tags": []
   },
   "outputs": [],
   "source": [
    "# horizon = len(Y_test_df)\n",
    "\n",
    "# models = [\n",
    "#           # NBEATS(input_size=5 * horizon, gpus = 1, h=horizon, max_epochs=100),\n",
    "#           # NBEATSx(h=12, input_size=24,\n",
    "#           #       # loss=DistributionLoss(distribution='Normal', level=[80, 90]),\n",
    "#           #       gpus=1,\n",
    "#           #       scaler_type='robust',\n",
    "#           #       stat_exog_list = None,  \n",
    "#           #       futr_exog_list = futr_list,\n",
    "#           #       max_steps=100,\n",
    "#           #       # val_check_steps=10,\n",
    "#           #       # early_stop_patience_steps=2\n",
    "#           #      ),\n",
    "#           NHITS(input_size=5 * horizon, \n",
    "#                 h=horizon+1,\n",
    "#                 gpus = 1,\n",
    "#                 stat_exog_list = None,\n",
    "#                 hist_exog_list=None,\n",
    "#                 futr_exog_list = None,\n",
    "#                 # futr_exog_list = futr_list,\n",
    "#                 # n_freq_downsample=[24, 12, 1],\n",
    "#                 # mlp_units = [[512, 512], [512, 512], [512, 512]],\n",
    "#                 # n_pool_kernel_size = [2, 2, 1],\n",
    "#                 # n_freq_downsample=[24, 12, 1],\n",
    "#                 scaler_type = 'standard',\n",
    "#                 learning_rate=1e-4,\n",
    "#                 pooling_mode = 'MaxPool1d',\n",
    "#                 activation='ReLU',\n",
    "#                 batch_size=128,\n",
    "#                 random_seed=42,\n",
    "#                 max_epochs=200\n",
    "#                ),\n",
    "#            # NHITS(\n",
    "#            #       h,\n",
    "#            #       input_size,\n",
    "#            #       futr_exog_list=None,\n",
    "#            #       hist_exog_list=None,\n",
    "#            #       stat_exog_list=None,\n",
    "#            #       stack_types: list = ['identity', 'identity', 'identity'],\n",
    "#            #       n_blocks: list = [1, 1, 1],\n",
    "#            #       mlp_units: list = [[512, 512], [512, 512], [512, 512]],\n",
    "#            #       n_pool_kernel_size: list = [2, 2, 1],\n",
    "#            #       n_freq_downsample: list = [4, 2, 1],\n",
    "#            #       pooling_mode: str = 'MaxPool1d',\n",
    "#            #       interpolation_mode: str = 'linear',\n",
    "#            #       dropout_prob_theta=0.0,\n",
    "#            #       activation='ReLU',\n",
    "#            #       loss=MAE(),\n",
    "#            #       learning_rate=0.001,\n",
    "#            #       batch_size=32,\n",
    "#            #       windows_batch_size: int = 1024,\n",
    "#            #       step_size: int = 1,\n",
    "#            #       scaler_type='identity',\n",
    "#            #       random_seed=1,\n",
    "#            #       num_workers_loader=0,\n",
    "#            #       drop_last_loader=False,\n",
    "#            #       **trainer_kwargs,\n",
    "    \n",
    "#           # TFT(h=12, \n",
    "#           #     input_size=5 * horizon,\n",
    "#           #     # hidden_size=20,\n",
    "#           #     #loss=DistributionLoss(distribution='Poisson', level=[80, 90]),\n",
    "#           #     #loss=DistributionLoss(distribution='Normal', level=[80, 90]),\n",
    "#           #     #loss=DistributionLoss(distribution='StudentT', level=[80, 90]),\n",
    "#           #     learning_rate=0.005,\n",
    "#           #     stat_exog_list = None,\n",
    "#           #     futr_exog_list = futr_list,\n",
    "#           #     max_steps=100,\n",
    "#           #     gpus=1,\n",
    "#           #     # val_check_steps=10,\n",
    "#           #     # early_stop_patience_steps=10,\n",
    "#           #     scaler_type='robust',\n",
    "#           #     # windows_batch_size=None,\n",
    "#           #     enable_progress_bar=True),\n",
    "#              ]\n",
    "# nforecast_nv = NeuralForecast(models=models, freq='M')\n",
    "# nforecast_nv.fit(df=Y_train_df)\n",
    "# Y_hat_df_nv = nforecast_nv.predict(futr_df=futr_df).reset_index()"
   ]
  },
  {
   "cell_type": "code",
   "execution_count": 239,
   "id": "23a1910f-285e-457a-888e-8ca4fa041ab9",
   "metadata": {
    "jupyter": {
     "source_hidden": true
    },
    "tags": []
   },
   "outputs": [],
   "source": [
    "# # Plot predictions\n",
    "# fig, ax = plt.subplots(1, 1, figsize = (20, 7))\n",
    "# Y_hat_df_nv = Y_test_df.merge(Y_hat_df_nv, how='left', on=['unique_id', 'ds'])\n",
    "# plot_df_nv = pd.concat([Y_train_df, Y_hat_df_nv]).set_index('ds')\n",
    "\n",
    "# plot_df_nv[['y', 'NHITS']].plot(ax=ax, linewidth=2, marker='o')\n",
    "# plt.axvline(cutoff_date, color='red')\n",
    "\n",
    "# ax.set_title(f'LI2CO3 Actual and Predicted Plot - Cutoff: {cutoff_date}', fontsize=22)\n",
    "# ax.set_ylabel('LI2CO3_PRICE', fontsize=20)\n",
    "# ax.set_xlabel('Date', fontsize=20)\n",
    "# ax.legend(prop={'size': 15})\n",
    "# ax.grid()\n",
    "\n",
    "# fig.savefig(f'./data/forecast_plot_{cutoff_date}_nv.png')"
   ]
  },
  {
   "cell_type": "code",
   "execution_count": 240,
   "id": "940332ca-281c-41c8-ac8f-2bc9646f7638",
   "metadata": {
    "jupyter": {
     "source_hidden": true
    },
    "tags": []
   },
   "outputs": [],
   "source": [
    "# plot_df_nv[['y', 'NHITS']].to_csv(f'./data/forecasting_{cutoff_date}_nv.csv',index=False)"
   ]
  },
  {
   "cell_type": "markdown",
   "id": "c5b6e49b-657e-48e0-b389-d96d77b28470",
   "metadata": {
    "tags": []
   },
   "source": [
    "#### Yes 변수"
   ]
  },
  {
   "cell_type": "code",
   "execution_count": 446,
   "id": "e6d0bbc1-edcd-4051-a384-10dd3c0e4853",
   "metadata": {
    "tags": []
   },
   "outputs": [],
   "source": []
  },
  {
   "cell_type": "code",
   "execution_count": 441,
   "id": "4c50745b-5142-4655-8f70-c88b0f2e702d",
   "metadata": {
    "tags": []
   },
   "outputs": [],
   "source": [
    "# futr_list = ['보일러용 후판 Q345R 30mm Xinyu Steel [중국] 현물']"
   ]
  },
  {
   "cell_type": "code",
   "execution_count": 447,
   "id": "16b3c015-bcd6-48b4-a847-d414d3e093e7",
   "metadata": {
    "tags": []
   },
   "outputs": [
    {
     "data": {
      "application/vnd.jupyter.widget-view+json": {
       "model_id": "c7398cb165904135a4b139f2e29b6bcd",
       "version_major": 2,
       "version_minor": 0
      },
      "text/plain": [
       "Sanity Checking: 0it [00:00, ?it/s]"
      ]
     },
     "metadata": {},
     "output_type": "display_data"
    },
    {
     "data": {
      "application/vnd.jupyter.widget-view+json": {
       "model_id": "657e112586be4e25b559506acb5af52a",
       "version_major": 2,
       "version_minor": 0
      },
      "text/plain": [
       "Training: 0it [00:00, ?it/s]"
      ]
     },
     "metadata": {},
     "output_type": "display_data"
    },
    {
     "data": {
      "application/vnd.jupyter.widget-view+json": {
       "model_id": "efd033c9b07a469d82bcb5d44c42b226",
       "version_major": 2,
       "version_minor": 0
      },
      "text/plain": [
       "Validation: 0it [00:00, ?it/s]"
      ]
     },
     "metadata": {},
     "output_type": "display_data"
    },
    {
     "data": {
      "application/vnd.jupyter.widget-view+json": {
       "model_id": "911c34fbbf624dd0a6761c2331efb7c9",
       "version_major": 2,
       "version_minor": 0
      },
      "text/plain": [
       "Validation: 0it [00:00, ?it/s]"
      ]
     },
     "metadata": {},
     "output_type": "display_data"
    },
    {
     "data": {
      "application/vnd.jupyter.widget-view+json": {
       "model_id": "c2daf05fcc1b44b6807aefb6f6d5e7ba",
       "version_major": 2,
       "version_minor": 0
      },
      "text/plain": [
       "Validation: 0it [00:00, ?it/s]"
      ]
     },
     "metadata": {},
     "output_type": "display_data"
    },
    {
     "data": {
      "application/vnd.jupyter.widget-view+json": {
       "model_id": "e8d5cf2317764880838f7281f5a64a6c",
       "version_major": 2,
       "version_minor": 0
      },
      "text/plain": [
       "Validation: 0it [00:00, ?it/s]"
      ]
     },
     "metadata": {},
     "output_type": "display_data"
    },
    {
     "data": {
      "application/vnd.jupyter.widget-view+json": {
       "model_id": "37d1434298e14fbfba3e0033586db28b",
       "version_major": 2,
       "version_minor": 0
      },
      "text/plain": [
       "Validation: 0it [00:00, ?it/s]"
      ]
     },
     "metadata": {},
     "output_type": "display_data"
    },
    {
     "data": {
      "application/vnd.jupyter.widget-view+json": {
       "model_id": "c1465dda76d84900b82c07e579967d3f",
       "version_major": 2,
       "version_minor": 0
      },
      "text/plain": [
       "Validation: 0it [00:00, ?it/s]"
      ]
     },
     "metadata": {},
     "output_type": "display_data"
    },
    {
     "data": {
      "application/vnd.jupyter.widget-view+json": {
       "model_id": "60706e0f43a44433a67ece39fad1c3bf",
       "version_major": 2,
       "version_minor": 0
      },
      "text/plain": [
       "Validation: 0it [00:00, ?it/s]"
      ]
     },
     "metadata": {},
     "output_type": "display_data"
    },
    {
     "data": {
      "application/vnd.jupyter.widget-view+json": {
       "model_id": "2eea51d7b3d24af59f789caa199016df",
       "version_major": 2,
       "version_minor": 0
      },
      "text/plain": [
       "Validation: 0it [00:00, ?it/s]"
      ]
     },
     "metadata": {},
     "output_type": "display_data"
    },
    {
     "data": {
      "application/vnd.jupyter.widget-view+json": {
       "model_id": "56b4f5eb50974fcc88e9c6516c56add2",
       "version_major": 2,
       "version_minor": 0
      },
      "text/plain": [
       "Validation: 0it [00:00, ?it/s]"
      ]
     },
     "metadata": {},
     "output_type": "display_data"
    },
    {
     "data": {
      "application/vnd.jupyter.widget-view+json": {
       "model_id": "62d22a17876c4788a531b1ccb113c779",
       "version_major": 2,
       "version_minor": 0
      },
      "text/plain": [
       "Validation: 0it [00:00, ?it/s]"
      ]
     },
     "metadata": {},
     "output_type": "display_data"
    },
    {
     "data": {
      "application/vnd.jupyter.widget-view+json": {
       "model_id": "fc93457c3b4d4ca78ce079278bdf3656",
       "version_major": 2,
       "version_minor": 0
      },
      "text/plain": [
       "Validation: 0it [00:00, ?it/s]"
      ]
     },
     "metadata": {},
     "output_type": "display_data"
    },
    {
     "data": {
      "application/vnd.jupyter.widget-view+json": {
       "model_id": "4a11868230b349a5972290eb2ebc00a5",
       "version_major": 2,
       "version_minor": 0
      },
      "text/plain": [
       "Validation: 0it [00:00, ?it/s]"
      ]
     },
     "metadata": {},
     "output_type": "display_data"
    },
    {
     "data": {
      "application/vnd.jupyter.widget-view+json": {
       "model_id": "1589447ac3aa46c09eb8c5e79315cb15",
       "version_major": 2,
       "version_minor": 0
      },
      "text/plain": [
       "Validation: 0it [00:00, ?it/s]"
      ]
     },
     "metadata": {},
     "output_type": "display_data"
    },
    {
     "data": {
      "application/vnd.jupyter.widget-view+json": {
       "model_id": "600ac2f9146f443a9c48c7ded709721a",
       "version_major": 2,
       "version_minor": 0
      },
      "text/plain": [
       "Validation: 0it [00:00, ?it/s]"
      ]
     },
     "metadata": {},
     "output_type": "display_data"
    },
    {
     "data": {
      "application/vnd.jupyter.widget-view+json": {
       "model_id": "537446c6786c4253a23d423cc1fa907f",
       "version_major": 2,
       "version_minor": 0
      },
      "text/plain": [
       "Validation: 0it [00:00, ?it/s]"
      ]
     },
     "metadata": {},
     "output_type": "display_data"
    },
    {
     "data": {
      "application/vnd.jupyter.widget-view+json": {
       "model_id": "c321216901254b27b36649207e6f799c",
       "version_major": 2,
       "version_minor": 0
      },
      "text/plain": [
       "Validation: 0it [00:00, ?it/s]"
      ]
     },
     "metadata": {},
     "output_type": "display_data"
    },
    {
     "data": {
      "application/vnd.jupyter.widget-view+json": {
       "model_id": "60e309caf5134e68ad750fc39ecf7c07",
       "version_major": 2,
       "version_minor": 0
      },
      "text/plain": [
       "Validation: 0it [00:00, ?it/s]"
      ]
     },
     "metadata": {},
     "output_type": "display_data"
    },
    {
     "data": {
      "application/vnd.jupyter.widget-view+json": {
       "model_id": "95f732ee8b5c4f0bbebbec912dfa4ee3",
       "version_major": 2,
       "version_minor": 0
      },
      "text/plain": [
       "Validation: 0it [00:00, ?it/s]"
      ]
     },
     "metadata": {},
     "output_type": "display_data"
    },
    {
     "data": {
      "application/vnd.jupyter.widget-view+json": {
       "model_id": "35c70d4c074a49df80d5a006922e7cec",
       "version_major": 2,
       "version_minor": 0
      },
      "text/plain": [
       "Validation: 0it [00:00, ?it/s]"
      ]
     },
     "metadata": {},
     "output_type": "display_data"
    },
    {
     "data": {
      "application/vnd.jupyter.widget-view+json": {
       "model_id": "654560f01e5e4d5d95a631f442de786f",
       "version_major": 2,
       "version_minor": 0
      },
      "text/plain": [
       "Validation: 0it [00:00, ?it/s]"
      ]
     },
     "metadata": {},
     "output_type": "display_data"
    },
    {
     "data": {
      "application/vnd.jupyter.widget-view+json": {
       "model_id": "a0274ee9de2f401ca5732cc65d76d594",
       "version_major": 2,
       "version_minor": 0
      },
      "text/plain": [
       "Validation: 0it [00:00, ?it/s]"
      ]
     },
     "metadata": {},
     "output_type": "display_data"
    },
    {
     "data": {
      "application/vnd.jupyter.widget-view+json": {
       "model_id": "1a9c5698450747fb95443ee1f5b91bb2",
       "version_major": 2,
       "version_minor": 0
      },
      "text/plain": [
       "Validation: 0it [00:00, ?it/s]"
      ]
     },
     "metadata": {},
     "output_type": "display_data"
    },
    {
     "data": {
      "application/vnd.jupyter.widget-view+json": {
       "model_id": "ccf2ad16a2e84f8f89fd9fc5bb43034e",
       "version_major": 2,
       "version_minor": 0
      },
      "text/plain": [
       "Validation: 0it [00:00, ?it/s]"
      ]
     },
     "metadata": {},
     "output_type": "display_data"
    },
    {
     "data": {
      "application/vnd.jupyter.widget-view+json": {
       "model_id": "91d30ec0fcb341709223d7d5f914bbc7",
       "version_major": 2,
       "version_minor": 0
      },
      "text/plain": [
       "Validation: 0it [00:00, ?it/s]"
      ]
     },
     "metadata": {},
     "output_type": "display_data"
    },
    {
     "data": {
      "application/vnd.jupyter.widget-view+json": {
       "model_id": "2b41b09792b54a878a586d81b57444b0",
       "version_major": 2,
       "version_minor": 0
      },
      "text/plain": [
       "Validation: 0it [00:00, ?it/s]"
      ]
     },
     "metadata": {},
     "output_type": "display_data"
    },
    {
     "data": {
      "application/vnd.jupyter.widget-view+json": {
       "model_id": "6b0c0af86e524ec19674357b238be4ac",
       "version_major": 2,
       "version_minor": 0
      },
      "text/plain": [
       "Validation: 0it [00:00, ?it/s]"
      ]
     },
     "metadata": {},
     "output_type": "display_data"
    },
    {
     "data": {
      "application/vnd.jupyter.widget-view+json": {
       "model_id": "539b5efdc2eb43bf92934e1ff75e0923",
       "version_major": 2,
       "version_minor": 0
      },
      "text/plain": [
       "Validation: 0it [00:00, ?it/s]"
      ]
     },
     "metadata": {},
     "output_type": "display_data"
    },
    {
     "data": {
      "application/vnd.jupyter.widget-view+json": {
       "model_id": "4c92306ccd2e47be8ca7b1eb29e74dd3",
       "version_major": 2,
       "version_minor": 0
      },
      "text/plain": [
       "Validation: 0it [00:00, ?it/s]"
      ]
     },
     "metadata": {},
     "output_type": "display_data"
    },
    {
     "data": {
      "application/vnd.jupyter.widget-view+json": {
       "model_id": "934fd55d9a8d47fe8215e6d074b51080",
       "version_major": 2,
       "version_minor": 0
      },
      "text/plain": [
       "Validation: 0it [00:00, ?it/s]"
      ]
     },
     "metadata": {},
     "output_type": "display_data"
    },
    {
     "data": {
      "application/vnd.jupyter.widget-view+json": {
       "model_id": "0340692642a64ff8ba020d271714747b",
       "version_major": 2,
       "version_minor": 0
      },
      "text/plain": [
       "Validation: 0it [00:00, ?it/s]"
      ]
     },
     "metadata": {},
     "output_type": "display_data"
    },
    {
     "data": {
      "application/vnd.jupyter.widget-view+json": {
       "model_id": "9c6b7cf9b15540ec94a27ef4f8d107d2",
       "version_major": 2,
       "version_minor": 0
      },
      "text/plain": [
       "Validation: 0it [00:00, ?it/s]"
      ]
     },
     "metadata": {},
     "output_type": "display_data"
    },
    {
     "data": {
      "application/vnd.jupyter.widget-view+json": {
       "model_id": "e1db15f75e8a4bd79666ad3bed3b2701",
       "version_major": 2,
       "version_minor": 0
      },
      "text/plain": [
       "Validation: 0it [00:00, ?it/s]"
      ]
     },
     "metadata": {},
     "output_type": "display_data"
    },
    {
     "data": {
      "application/vnd.jupyter.widget-view+json": {
       "model_id": "a0a3e42304b941d2908e8be9c9449a3b",
       "version_major": 2,
       "version_minor": 0
      },
      "text/plain": [
       "Validation: 0it [00:00, ?it/s]"
      ]
     },
     "metadata": {},
     "output_type": "display_data"
    },
    {
     "data": {
      "application/vnd.jupyter.widget-view+json": {
       "model_id": "b4322651ca704d7f835c82ce060ddfbc",
       "version_major": 2,
       "version_minor": 0
      },
      "text/plain": [
       "Validation: 0it [00:00, ?it/s]"
      ]
     },
     "metadata": {},
     "output_type": "display_data"
    },
    {
     "data": {
      "application/vnd.jupyter.widget-view+json": {
       "model_id": "3c2dcf3819f44411bfbfb57d90192791",
       "version_major": 2,
       "version_minor": 0
      },
      "text/plain": [
       "Validation: 0it [00:00, ?it/s]"
      ]
     },
     "metadata": {},
     "output_type": "display_data"
    },
    {
     "data": {
      "application/vnd.jupyter.widget-view+json": {
       "model_id": "181cb470922c466f9713696d58baf206",
       "version_major": 2,
       "version_minor": 0
      },
      "text/plain": [
       "Validation: 0it [00:00, ?it/s]"
      ]
     },
     "metadata": {},
     "output_type": "display_data"
    },
    {
     "data": {
      "application/vnd.jupyter.widget-view+json": {
       "model_id": "37ee69e968264efaa7a1c3557c938526",
       "version_major": 2,
       "version_minor": 0
      },
      "text/plain": [
       "Validation: 0it [00:00, ?it/s]"
      ]
     },
     "metadata": {},
     "output_type": "display_data"
    },
    {
     "data": {
      "application/vnd.jupyter.widget-view+json": {
       "model_id": "0bcdb842996b4333b5f637e1bbc8f955",
       "version_major": 2,
       "version_minor": 0
      },
      "text/plain": [
       "Validation: 0it [00:00, ?it/s]"
      ]
     },
     "metadata": {},
     "output_type": "display_data"
    },
    {
     "data": {
      "application/vnd.jupyter.widget-view+json": {
       "model_id": "2cf912028fae4f58852e5362d94e9d8c",
       "version_major": 2,
       "version_minor": 0
      },
      "text/plain": [
       "Validation: 0it [00:00, ?it/s]"
      ]
     },
     "metadata": {},
     "output_type": "display_data"
    },
    {
     "data": {
      "application/vnd.jupyter.widget-view+json": {
       "model_id": "66e9c89058314b1cbf19ddf49b1092bf",
       "version_major": 2,
       "version_minor": 0
      },
      "text/plain": [
       "Validation: 0it [00:00, ?it/s]"
      ]
     },
     "metadata": {},
     "output_type": "display_data"
    },
    {
     "data": {
      "application/vnd.jupyter.widget-view+json": {
       "model_id": "fc69d9c3453644e783cb0700b06d5cb1",
       "version_major": 2,
       "version_minor": 0
      },
      "text/plain": [
       "Validation: 0it [00:00, ?it/s]"
      ]
     },
     "metadata": {},
     "output_type": "display_data"
    },
    {
     "data": {
      "application/vnd.jupyter.widget-view+json": {
       "model_id": "e56a385562634f50afd44276d1999b90",
       "version_major": 2,
       "version_minor": 0
      },
      "text/plain": [
       "Validation: 0it [00:00, ?it/s]"
      ]
     },
     "metadata": {},
     "output_type": "display_data"
    },
    {
     "data": {
      "application/vnd.jupyter.widget-view+json": {
       "model_id": "5b2518fd2d314ec3a856e866e27f2e46",
       "version_major": 2,
       "version_minor": 0
      },
      "text/plain": [
       "Validation: 0it [00:00, ?it/s]"
      ]
     },
     "metadata": {},
     "output_type": "display_data"
    },
    {
     "data": {
      "application/vnd.jupyter.widget-view+json": {
       "model_id": "0f75d5ebacb24bff915b5d607d568844",
       "version_major": 2,
       "version_minor": 0
      },
      "text/plain": [
       "Validation: 0it [00:00, ?it/s]"
      ]
     },
     "metadata": {},
     "output_type": "display_data"
    },
    {
     "data": {
      "application/vnd.jupyter.widget-view+json": {
       "model_id": "8bd6af9f4b1e407587260518feeb8499",
       "version_major": 2,
       "version_minor": 0
      },
      "text/plain": [
       "Validation: 0it [00:00, ?it/s]"
      ]
     },
     "metadata": {},
     "output_type": "display_data"
    },
    {
     "data": {
      "application/vnd.jupyter.widget-view+json": {
       "model_id": "6e22c6e187f846e890b70a079ad3e50a",
       "version_major": 2,
       "version_minor": 0
      },
      "text/plain": [
       "Validation: 0it [00:00, ?it/s]"
      ]
     },
     "metadata": {},
     "output_type": "display_data"
    },
    {
     "data": {
      "application/vnd.jupyter.widget-view+json": {
       "model_id": "55deb2a870e14729a16ef787f38b3522",
       "version_major": 2,
       "version_minor": 0
      },
      "text/plain": [
       "Validation: 0it [00:00, ?it/s]"
      ]
     },
     "metadata": {},
     "output_type": "display_data"
    },
    {
     "data": {
      "application/vnd.jupyter.widget-view+json": {
       "model_id": "ca0140e815db4e1194e20ba6815cda55",
       "version_major": 2,
       "version_minor": 0
      },
      "text/plain": [
       "Validation: 0it [00:00, ?it/s]"
      ]
     },
     "metadata": {},
     "output_type": "display_data"
    },
    {
     "data": {
      "application/vnd.jupyter.widget-view+json": {
       "model_id": "06293a8ca5a5456e852f5238d3574183",
       "version_major": 2,
       "version_minor": 0
      },
      "text/plain": [
       "Validation: 0it [00:00, ?it/s]"
      ]
     },
     "metadata": {},
     "output_type": "display_data"
    },
    {
     "data": {
      "application/vnd.jupyter.widget-view+json": {
       "model_id": "a140dcdc6a97472db2b10ef24df195f7",
       "version_major": 2,
       "version_minor": 0
      },
      "text/plain": [
       "Validation: 0it [00:00, ?it/s]"
      ]
     },
     "metadata": {},
     "output_type": "display_data"
    },
    {
     "data": {
      "application/vnd.jupyter.widget-view+json": {
       "model_id": "e910fdd219e74192a849489ee0d45aa6",
       "version_major": 2,
       "version_minor": 0
      },
      "text/plain": [
       "Validation: 0it [00:00, ?it/s]"
      ]
     },
     "metadata": {},
     "output_type": "display_data"
    },
    {
     "data": {
      "application/vnd.jupyter.widget-view+json": {
       "model_id": "8e9b9d020eb54e61acb38944a2df26b1",
       "version_major": 2,
       "version_minor": 0
      },
      "text/plain": [
       "Validation: 0it [00:00, ?it/s]"
      ]
     },
     "metadata": {},
     "output_type": "display_data"
    },
    {
     "data": {
      "application/vnd.jupyter.widget-view+json": {
       "model_id": "5360d8a1fac14a9892d9298643f870ed",
       "version_major": 2,
       "version_minor": 0
      },
      "text/plain": [
       "Validation: 0it [00:00, ?it/s]"
      ]
     },
     "metadata": {},
     "output_type": "display_data"
    },
    {
     "data": {
      "application/vnd.jupyter.widget-view+json": {
       "model_id": "62fd3995149f4ff6b8184f565bf6b782",
       "version_major": 2,
       "version_minor": 0
      },
      "text/plain": [
       "Validation: 0it [00:00, ?it/s]"
      ]
     },
     "metadata": {},
     "output_type": "display_data"
    },
    {
     "data": {
      "application/vnd.jupyter.widget-view+json": {
       "model_id": "0fa0059bc4cc43659c9869afe7b4be2f",
       "version_major": 2,
       "version_minor": 0
      },
      "text/plain": [
       "Validation: 0it [00:00, ?it/s]"
      ]
     },
     "metadata": {},
     "output_type": "display_data"
    },
    {
     "data": {
      "application/vnd.jupyter.widget-view+json": {
       "model_id": "97e1321067364bbab7d032d481315d2d",
       "version_major": 2,
       "version_minor": 0
      },
      "text/plain": [
       "Validation: 0it [00:00, ?it/s]"
      ]
     },
     "metadata": {},
     "output_type": "display_data"
    },
    {
     "data": {
      "application/vnd.jupyter.widget-view+json": {
       "model_id": "6baca3d7048f40dfae664a3adfb21820",
       "version_major": 2,
       "version_minor": 0
      },
      "text/plain": [
       "Validation: 0it [00:00, ?it/s]"
      ]
     },
     "metadata": {},
     "output_type": "display_data"
    },
    {
     "data": {
      "application/vnd.jupyter.widget-view+json": {
       "model_id": "3cee70a5cd3f41999d72298b7af3684b",
       "version_major": 2,
       "version_minor": 0
      },
      "text/plain": [
       "Validation: 0it [00:00, ?it/s]"
      ]
     },
     "metadata": {},
     "output_type": "display_data"
    },
    {
     "data": {
      "application/vnd.jupyter.widget-view+json": {
       "model_id": "f74ef58ba2e245b095d98204d12c3e53",
       "version_major": 2,
       "version_minor": 0
      },
      "text/plain": [
       "Validation: 0it [00:00, ?it/s]"
      ]
     },
     "metadata": {},
     "output_type": "display_data"
    },
    {
     "data": {
      "application/vnd.jupyter.widget-view+json": {
       "model_id": "22729487a8e3426083427513a0904e6d",
       "version_major": 2,
       "version_minor": 0
      },
      "text/plain": [
       "Validation: 0it [00:00, ?it/s]"
      ]
     },
     "metadata": {},
     "output_type": "display_data"
    },
    {
     "data": {
      "application/vnd.jupyter.widget-view+json": {
       "model_id": "24ae299bfe3b47ccb2b258b4f46fcfc2",
       "version_major": 2,
       "version_minor": 0
      },
      "text/plain": [
       "Validation: 0it [00:00, ?it/s]"
      ]
     },
     "metadata": {},
     "output_type": "display_data"
    },
    {
     "data": {
      "application/vnd.jupyter.widget-view+json": {
       "model_id": "4a804115242040cfbcf797764b0d7834",
       "version_major": 2,
       "version_minor": 0
      },
      "text/plain": [
       "Validation: 0it [00:00, ?it/s]"
      ]
     },
     "metadata": {},
     "output_type": "display_data"
    },
    {
     "data": {
      "application/vnd.jupyter.widget-view+json": {
       "model_id": "3b38e54f9b5c47eb8e8c493e9aff1937",
       "version_major": 2,
       "version_minor": 0
      },
      "text/plain": [
       "Validation: 0it [00:00, ?it/s]"
      ]
     },
     "metadata": {},
     "output_type": "display_data"
    },
    {
     "data": {
      "application/vnd.jupyter.widget-view+json": {
       "model_id": "750c213be212469ea0201a0033fb1ee3",
       "version_major": 2,
       "version_minor": 0
      },
      "text/plain": [
       "Validation: 0it [00:00, ?it/s]"
      ]
     },
     "metadata": {},
     "output_type": "display_data"
    },
    {
     "data": {
      "application/vnd.jupyter.widget-view+json": {
       "model_id": "7349864e0caf489f810c2295b7347234",
       "version_major": 2,
       "version_minor": 0
      },
      "text/plain": [
       "Validation: 0it [00:00, ?it/s]"
      ]
     },
     "metadata": {},
     "output_type": "display_data"
    },
    {
     "data": {
      "application/vnd.jupyter.widget-view+json": {
       "model_id": "46f3bc4fde724b0fb55023fd76a622d3",
       "version_major": 2,
       "version_minor": 0
      },
      "text/plain": [
       "Validation: 0it [00:00, ?it/s]"
      ]
     },
     "metadata": {},
     "output_type": "display_data"
    },
    {
     "data": {
      "application/vnd.jupyter.widget-view+json": {
       "model_id": "c9fbfa4c171f45e8bb6466148f39d5bf",
       "version_major": 2,
       "version_minor": 0
      },
      "text/plain": [
       "Validation: 0it [00:00, ?it/s]"
      ]
     },
     "metadata": {},
     "output_type": "display_data"
    },
    {
     "data": {
      "application/vnd.jupyter.widget-view+json": {
       "model_id": "29bf02ed15884db7b2043a09f8e5f566",
       "version_major": 2,
       "version_minor": 0
      },
      "text/plain": [
       "Validation: 0it [00:00, ?it/s]"
      ]
     },
     "metadata": {},
     "output_type": "display_data"
    },
    {
     "data": {
      "application/vnd.jupyter.widget-view+json": {
       "model_id": "7fdc3e0b65e3430186b0d22c85184e61",
       "version_major": 2,
       "version_minor": 0
      },
      "text/plain": [
       "Validation: 0it [00:00, ?it/s]"
      ]
     },
     "metadata": {},
     "output_type": "display_data"
    },
    {
     "data": {
      "application/vnd.jupyter.widget-view+json": {
       "model_id": "7e21f2f550604f869ea86de3f931ac10",
       "version_major": 2,
       "version_minor": 0
      },
      "text/plain": [
       "Validation: 0it [00:00, ?it/s]"
      ]
     },
     "metadata": {},
     "output_type": "display_data"
    },
    {
     "data": {
      "application/vnd.jupyter.widget-view+json": {
       "model_id": "94a1b4eec42c4dcbab4b9fdbfd46b659",
       "version_major": 2,
       "version_minor": 0
      },
      "text/plain": [
       "Validation: 0it [00:00, ?it/s]"
      ]
     },
     "metadata": {},
     "output_type": "display_data"
    },
    {
     "data": {
      "application/vnd.jupyter.widget-view+json": {
       "model_id": "0587c5acae674db0a070f8c84e89fcf4",
       "version_major": 2,
       "version_minor": 0
      },
      "text/plain": [
       "Validation: 0it [00:00, ?it/s]"
      ]
     },
     "metadata": {},
     "output_type": "display_data"
    },
    {
     "data": {
      "application/vnd.jupyter.widget-view+json": {
       "model_id": "d183236346ab4afebec00c877ea0aa94",
       "version_major": 2,
       "version_minor": 0
      },
      "text/plain": [
       "Validation: 0it [00:00, ?it/s]"
      ]
     },
     "metadata": {},
     "output_type": "display_data"
    },
    {
     "data": {
      "application/vnd.jupyter.widget-view+json": {
       "model_id": "0035bcc019e645c491fb9cc09f7757f8",
       "version_major": 2,
       "version_minor": 0
      },
      "text/plain": [
       "Validation: 0it [00:00, ?it/s]"
      ]
     },
     "metadata": {},
     "output_type": "display_data"
    },
    {
     "data": {
      "application/vnd.jupyter.widget-view+json": {
       "model_id": "e6174db1991d407c89910c30cc07c53f",
       "version_major": 2,
       "version_minor": 0
      },
      "text/plain": [
       "Validation: 0it [00:00, ?it/s]"
      ]
     },
     "metadata": {},
     "output_type": "display_data"
    },
    {
     "data": {
      "application/vnd.jupyter.widget-view+json": {
       "model_id": "7226da238b004898b1a49ca68eb290b9",
       "version_major": 2,
       "version_minor": 0
      },
      "text/plain": [
       "Validation: 0it [00:00, ?it/s]"
      ]
     },
     "metadata": {},
     "output_type": "display_data"
    },
    {
     "data": {
      "application/vnd.jupyter.widget-view+json": {
       "model_id": "2566bd63f3344da7b05734753c136a97",
       "version_major": 2,
       "version_minor": 0
      },
      "text/plain": [
       "Validation: 0it [00:00, ?it/s]"
      ]
     },
     "metadata": {},
     "output_type": "display_data"
    },
    {
     "data": {
      "application/vnd.jupyter.widget-view+json": {
       "model_id": "fed46db8bda04b0e972c06bc9bc13979",
       "version_major": 2,
       "version_minor": 0
      },
      "text/plain": [
       "Validation: 0it [00:00, ?it/s]"
      ]
     },
     "metadata": {},
     "output_type": "display_data"
    },
    {
     "data": {
      "application/vnd.jupyter.widget-view+json": {
       "model_id": "3e517f7e39ec4a3ca5babdaf93be515f",
       "version_major": 2,
       "version_minor": 0
      },
      "text/plain": [
       "Validation: 0it [00:00, ?it/s]"
      ]
     },
     "metadata": {},
     "output_type": "display_data"
    },
    {
     "data": {
      "application/vnd.jupyter.widget-view+json": {
       "model_id": "330798163d5841069622eddb95a7e19a",
       "version_major": 2,
       "version_minor": 0
      },
      "text/plain": [
       "Validation: 0it [00:00, ?it/s]"
      ]
     },
     "metadata": {},
     "output_type": "display_data"
    },
    {
     "data": {
      "application/vnd.jupyter.widget-view+json": {
       "model_id": "3a0d89a5df1c42b0bed0e874f5b0a4b7",
       "version_major": 2,
       "version_minor": 0
      },
      "text/plain": [
       "Validation: 0it [00:00, ?it/s]"
      ]
     },
     "metadata": {},
     "output_type": "display_data"
    },
    {
     "data": {
      "application/vnd.jupyter.widget-view+json": {
       "model_id": "3f0c0adad00641f2b85bc437f6e9ffa6",
       "version_major": 2,
       "version_minor": 0
      },
      "text/plain": [
       "Validation: 0it [00:00, ?it/s]"
      ]
     },
     "metadata": {},
     "output_type": "display_data"
    },
    {
     "data": {
      "application/vnd.jupyter.widget-view+json": {
       "model_id": "e239e5f28399404689daa13b48bcc9c5",
       "version_major": 2,
       "version_minor": 0
      },
      "text/plain": [
       "Validation: 0it [00:00, ?it/s]"
      ]
     },
     "metadata": {},
     "output_type": "display_data"
    },
    {
     "data": {
      "application/vnd.jupyter.widget-view+json": {
       "model_id": "3ffadba82049483cb58820b854bd3038",
       "version_major": 2,
       "version_minor": 0
      },
      "text/plain": [
       "Validation: 0it [00:00, ?it/s]"
      ]
     },
     "metadata": {},
     "output_type": "display_data"
    },
    {
     "data": {
      "application/vnd.jupyter.widget-view+json": {
       "model_id": "51b357d9fb2245d3936654ca0f1472f6",
       "version_major": 2,
       "version_minor": 0
      },
      "text/plain": [
       "Validation: 0it [00:00, ?it/s]"
      ]
     },
     "metadata": {},
     "output_type": "display_data"
    },
    {
     "data": {
      "application/vnd.jupyter.widget-view+json": {
       "model_id": "237f3e27a6134ad6be7c61a914bf1a17",
       "version_major": 2,
       "version_minor": 0
      },
      "text/plain": [
       "Validation: 0it [00:00, ?it/s]"
      ]
     },
     "metadata": {},
     "output_type": "display_data"
    },
    {
     "data": {
      "application/vnd.jupyter.widget-view+json": {
       "model_id": "6d81c99d76d847968e9ff49a4895044e",
       "version_major": 2,
       "version_minor": 0
      },
      "text/plain": [
       "Validation: 0it [00:00, ?it/s]"
      ]
     },
     "metadata": {},
     "output_type": "display_data"
    },
    {
     "data": {
      "application/vnd.jupyter.widget-view+json": {
       "model_id": "1e370d2c43b44b95940cbd85d109ab14",
       "version_major": 2,
       "version_minor": 0
      },
      "text/plain": [
       "Validation: 0it [00:00, ?it/s]"
      ]
     },
     "metadata": {},
     "output_type": "display_data"
    },
    {
     "data": {
      "application/vnd.jupyter.widget-view+json": {
       "model_id": "88ce2b10f9c94508bd3f9cb78ac44bb7",
       "version_major": 2,
       "version_minor": 0
      },
      "text/plain": [
       "Validation: 0it [00:00, ?it/s]"
      ]
     },
     "metadata": {},
     "output_type": "display_data"
    },
    {
     "data": {
      "application/vnd.jupyter.widget-view+json": {
       "model_id": "a8e7bdbf385a4128902da0a2efa2bfad",
       "version_major": 2,
       "version_minor": 0
      },
      "text/plain": [
       "Validation: 0it [00:00, ?it/s]"
      ]
     },
     "metadata": {},
     "output_type": "display_data"
    },
    {
     "data": {
      "application/vnd.jupyter.widget-view+json": {
       "model_id": "1e514408e1b947d0816a96abe83340aa",
       "version_major": 2,
       "version_minor": 0
      },
      "text/plain": [
       "Validation: 0it [00:00, ?it/s]"
      ]
     },
     "metadata": {},
     "output_type": "display_data"
    },
    {
     "data": {
      "application/vnd.jupyter.widget-view+json": {
       "model_id": "3b42e3ae9aeb470392c9f45acd0ed30f",
       "version_major": 2,
       "version_minor": 0
      },
      "text/plain": [
       "Validation: 0it [00:00, ?it/s]"
      ]
     },
     "metadata": {},
     "output_type": "display_data"
    },
    {
     "data": {
      "application/vnd.jupyter.widget-view+json": {
       "model_id": "c52b5651dbaa4cb3879db0e409522b7b",
       "version_major": 2,
       "version_minor": 0
      },
      "text/plain": [
       "Validation: 0it [00:00, ?it/s]"
      ]
     },
     "metadata": {},
     "output_type": "display_data"
    },
    {
     "data": {
      "application/vnd.jupyter.widget-view+json": {
       "model_id": "fae2e37c8caf462e922cdb33c123ce19",
       "version_major": 2,
       "version_minor": 0
      },
      "text/plain": [
       "Validation: 0it [00:00, ?it/s]"
      ]
     },
     "metadata": {},
     "output_type": "display_data"
    },
    {
     "data": {
      "application/vnd.jupyter.widget-view+json": {
       "model_id": "cd21e29b33db42ca8590c3e390f31c1a",
       "version_major": 2,
       "version_minor": 0
      },
      "text/plain": [
       "Validation: 0it [00:00, ?it/s]"
      ]
     },
     "metadata": {},
     "output_type": "display_data"
    },
    {
     "data": {
      "application/vnd.jupyter.widget-view+json": {
       "model_id": "92d8e8181ec4457f99b41d62671a6745",
       "version_major": 2,
       "version_minor": 0
      },
      "text/plain": [
       "Validation: 0it [00:00, ?it/s]"
      ]
     },
     "metadata": {},
     "output_type": "display_data"
    },
    {
     "data": {
      "application/vnd.jupyter.widget-view+json": {
       "model_id": "48f07cb3e5e9471db308a54fc316756e",
       "version_major": 2,
       "version_minor": 0
      },
      "text/plain": [
       "Validation: 0it [00:00, ?it/s]"
      ]
     },
     "metadata": {},
     "output_type": "display_data"
    },
    {
     "data": {
      "application/vnd.jupyter.widget-view+json": {
       "model_id": "644a430ca019478abac9fba3b216519e",
       "version_major": 2,
       "version_minor": 0
      },
      "text/plain": [
       "Validation: 0it [00:00, ?it/s]"
      ]
     },
     "metadata": {},
     "output_type": "display_data"
    },
    {
     "data": {
      "application/vnd.jupyter.widget-view+json": {
       "model_id": "4a412d2e28e0409a8c62f3b361dce183",
       "version_major": 2,
       "version_minor": 0
      },
      "text/plain": [
       "Validation: 0it [00:00, ?it/s]"
      ]
     },
     "metadata": {},
     "output_type": "display_data"
    },
    {
     "data": {
      "application/vnd.jupyter.widget-view+json": {
       "model_id": "46c3d5be67ab4c5fb103385e09a6a364",
       "version_major": 2,
       "version_minor": 0
      },
      "text/plain": [
       "Validation: 0it [00:00, ?it/s]"
      ]
     },
     "metadata": {},
     "output_type": "display_data"
    },
    {
     "data": {
      "application/vnd.jupyter.widget-view+json": {
       "model_id": "9aeb73b9cc114785b3b1876a76f7a201",
       "version_major": 2,
       "version_minor": 0
      },
      "text/plain": [
       "Predicting: 0it [00:00, ?it/s]"
      ]
     },
     "metadata": {},
     "output_type": "display_data"
    }
   ],
   "source": [
    "if len(Y_test_df) >= 6:\n",
    "    horizon = len(Y_test_df)\n",
    "else:\n",
    "    horizon = len(futr_df)\n",
    "    \n",
    "if cutoff_date <= '2021-12-31':\n",
    "    flexible = None\n",
    "else:\n",
    "    flexible = futr_list\n",
    "\n",
    "models = [\n",
    "          # NBEATS(input_size=5 * horizon, gpus = 1, h=horizon, max_epochs=100),\n",
    "          # NBEATSx(h=horizon, input_size=5 * horizon,\n",
    "          #       # loss=DistributionLoss(distribution='Normal', level=[80, 90]),\n",
    "          #       gpus=1,\n",
    "          #       scaler_type='robust',\n",
    "          #       stat_exog_list = None,\n",
    "          #       # hist_exog_list = hist_list,\n",
    "          #       # futr_exog_list = None,  \n",
    "          #       futr_exog_list = flexible,\n",
    "          #       learning_rate=1e-4,\n",
    "          #       mlp_units = [[512, 512], [512, 512], [512, 512]],\n",
    "          #       batch_size=128,\n",
    "          #       random_seed=42,\n",
    "          #       n_blocks=[1, 1, 1],\n",
    "          #       # val_check_steps=10,\n",
    "          #       # early_stop_patience_steps=2\n",
    "          #       max_steps=30\n",
    "          #      ),\n",
    "          NHITS(input_size=5 * horizon, \n",
    "                h=horizon,\n",
    "                gpus = 1,\n",
    "                stat_exog_list = None,\n",
    "                hist_exog_list = hist_list,\n",
    "                futr_exog_list = flexible,\n",
    "                # futr_exog_list = None,\n",
    "                # futr_exog_list = futr_list,\n",
    "                n_blocks = [1, 1, 1],\n",
    "                mlp_units = [[512, 512], [512, 512], [512, 512]],\n",
    "                n_pool_kernel_size = [2, 2, 1],\n",
    "                n_freq_downsample=[24, 12, 1],\n",
    "                scaler_type = 'standard',\n",
    "                learning_rate=1e-4,\n",
    "                pooling_mode = 'MaxPool1d',\n",
    "                activation='ReLU',\n",
    "                batch_size=128,\n",
    "                random_seed=42,\n",
    "                max_epochs=100\n",
    "               ),\n",
    "          # LSTM(h=horizon, input_size=5 * horizon,\n",
    "          #        # loss=DistributionLoss(distribution='Normal', level=[80, 90]),\n",
    "          #        scaler_type='standard',\n",
    "          #        learning_rate=1e-4,\n",
    "          #        encoder_n_layers=2,\n",
    "          #        encoder_hidden_size=128,\n",
    "          #        context_size=10,\n",
    "          #        decoder_hidden_size=128,\n",
    "          #        decoder_layers=2,\n",
    "          #        gpus = 1,\n",
    "          #        futr_exog_list=flexible,\n",
    "          #        hist_exog_list=None,\n",
    "          #        stat_exog_list=None,\n",
    "          #        max_steps=200\n",
    "          #        ),\n",
    "           # NHITS(\n",
    "           #       h,\n",
    "           #       input_size,\n",
    "           #       futr_exog_list=None,\n",
    "           #       hist_exog_list=None,\n",
    "           #       stat_exog_list=None,\n",
    "           #       stack_types: list = ['identity', 'identity', 'identity'],\n",
    "           #       n_blocks: list = [1, 1, 1],\n",
    "           #       mlp_units: list = [[512, 512], [512, 512], [512, 512]],\n",
    "           #       n_pool_kernel_size: list = [2, 2, 1],\n",
    "           #       n_freq_downsample: list = [4, 2, 1],\n",
    "           #       pooling_mode: str = 'MaxPool1d',\n",
    "           #       interpolation_mode: str = 'linear',\n",
    "           #       dropout_prob_theta=0.0,\n",
    "           #       activation='ReLU',\n",
    "           #       loss=MAE(),\n",
    "           #       learning_rate=0.001,\n",
    "           #       batch_size=32,\n",
    "           #       windows_batch_size: int = 1024,\n",
    "           #       step_size: int = 1,\n",
    "           #       scaler_type='identity',\n",
    "           #       random_seed=1,\n",
    "           #       num_workers_loader=0,\n",
    "           #       drop_last_loader=False,\n",
    "           #       **trainer_kwargs,\n",
    "    \n",
    "          # TFT(h=horizon, \n",
    "          #     input_size=5 * horizon,\n",
    "          #     #loss=DistributionLoss(distribution='Poisson', level=[80, 90]),\n",
    "          #     #loss=DistributionLoss(distribution='Normal', level=[80, 90]),\n",
    "          #     #loss=DistributionLoss(distribution='StudentT', level=[80, 90]),\n",
    "          #     hidden_size=128,\n",
    "          #     # n_head=4, \n",
    "          #     attn_dropout=0.2,\n",
    "          #     # hist_exog_list=hist_list,\n",
    "          #     dropout=0.6,\n",
    "          #     learning_rate=1e-4,\n",
    "          #     stat_exog_list = None,\n",
    "          #     futr_exog_list = flexible,\n",
    "          #     gpus=1,\n",
    "          #     # val_check_steps=10,\n",
    "          #     # early_stop_patience_steps=10,\n",
    "          #     scaler_type='robust',\n",
    "          #     # windows_batch_size=None,\n",
    "          #     # enable_progress_bar=True,\n",
    "          #     max_steps=200\n",
    "          #    ),\n",
    "             ]\n",
    "nforecast = NeuralForecast(models=models, freq='M')\n",
    "nforecast.fit(df=Y_train_df)\n",
    "# Y_hat_df = nforecast.predict(futr_df=futr_df)\n",
    "\n",
    "Y_hat_df = nforecast.predict(futr_df=futr_df, static_df=static_df).reset_index()"
   ]
  },
  {
   "cell_type": "code",
   "execution_count": 448,
   "id": "30866cf9-6543-4f6e-802c-febe741b3492",
   "metadata": {
    "tags": []
   },
   "outputs": [
    {
     "data": {
      "image/png": "[encoded data removed]",
      "text/plain": [
       "<Figure size 2000x700 with 1 Axes>"
      ]
     },
     "metadata": {},
     "output_type": "display_data"
    }
   ],
   "source": [
    "# Plot predictions\n",
    "fig, ax = plt.subplots(1, 1, figsize = (20, 7))\n",
    "\n",
    "if len(Y_test_df) > 0:\n",
    "    Y_hat_df = Y_test_df.merge(Y_hat_df, how='left', on=['unique_id', 'ds'])\n",
    "else:\n",
    "    plot_df = pd.concat([Y_train_df, Y_hat_df]).set_index('ds')\n",
    "\n",
    "plot_df[['y','NHITS']].plot(ax=ax, linewidth=2, marker='o')\n",
    "\n",
    "plt.axvline(cutoff_date, color='red')\n",
    "ax.set_title(f'LI2CO3 Actual and Predicted Plot - Cutoff: {cutoff_date}', fontsize=22)\n",
    "ax.set_ylabel('LI2CO3_PRICE', fontsize=20)\n",
    "ax.set_xlabel('Date', fontsize=20)\n",
    "ax.legend(prop={'size': 15})\n",
    "ax.grid()\n",
    "\n",
    "# fig1.savefig(f'./data/forecasting_{cutoff_date}.png', dpi=100)\n",
    "fig.savefig(f'./data/forecast_plot_{cutoff_date}_wv.png')"
   ]
  },
  {
   "cell_type": "code",
   "execution_count": 449,
   "id": "b3f7bc7e-3df5-439a-a1e3-788a6f5ade51",
   "metadata": {
    "tags": []
   },
   "outputs": [
    {
     "data": {
      "text/html": [
       "<div>\n",
       "<style scoped>\n",
       "    .dataframe tbody tr th:only-of-type {\n",
       "        vertical-align: middle;\n",
       "    }\n",
       "\n",
       "    .dataframe tbody tr th {\n",
       "        vertical-align: top;\n",
       "    }\n",
       "\n",
       "    .dataframe thead th {\n",
       "        text-align: right;\n",
       "    }\n",
       "</style>\n",
       "<table border=\"1\" class=\"dataframe\">\n",
       "  <thead>\n",
       "    <tr style=\"text-align: right;\">\n",
       "      <th></th>\n",
       "      <th>unique_id</th>\n",
       "      <th>y</th>\n",
       "      <th>HOUSECOST_FIN</th>\n",
       "      <th>1772.HK(Ganfeng Lithium)_Price_Low</th>\n",
       "      <th>1772.HK(Ganfeng Lithium)_Price_Open</th>\n",
       "      <th>1772.HK(Ganfeng Lithium)_Price_Close</th>\n",
       "      <th>1772.HK(Ganfeng Lithium)_Price_Adj Close</th>\n",
       "      <th>1772.HK(Ganfeng Lithium)_Price_High</th>\n",
       "      <th>Cameco(CCJ)_Adj Close</th>\n",
       "      <th>Cameco(CCJ)_High</th>\n",
       "      <th>...</th>\n",
       "      <th>Pilbara Mineral Limited_price_High</th>\n",
       "      <th>Pilbara Mineral Limited_price_Low</th>\n",
       "      <th>Pilbara Mineral Limited_price_Close</th>\n",
       "      <th>Pilbara Mineral Limited_price_Adj Close</th>\n",
       "      <th>Allkem Limited (AKE.AX)_price_Open</th>\n",
       "      <th>Allkem Limited (AKE.AX)_price_High</th>\n",
       "      <th>Allkem Limited (AKE.AX)_price_Low</th>\n",
       "      <th>Allkem Limited (AKE.AX)_price_Close</th>\n",
       "      <th>Allkem Limited (AKE.AX)_price_Adj Close</th>\n",
       "      <th>NHITS</th>\n",
       "    </tr>\n",
       "    <tr>\n",
       "      <th>ds</th>\n",
       "      <th></th>\n",
       "      <th></th>\n",
       "      <th></th>\n",
       "      <th></th>\n",
       "      <th></th>\n",
       "      <th></th>\n",
       "      <th></th>\n",
       "      <th></th>\n",
       "      <th></th>\n",
       "      <th></th>\n",
       "      <th></th>\n",
       "      <th></th>\n",
       "      <th></th>\n",
       "      <th></th>\n",
       "      <th></th>\n",
       "      <th></th>\n",
       "      <th></th>\n",
       "      <th></th>\n",
       "      <th></th>\n",
       "      <th></th>\n",
       "      <th></th>\n",
       "    </tr>\n",
       "  </thead>\n",
       "  <tbody>\n",
       "    <tr>\n",
       "      <th>2016-01-31</th>\n",
       "      <td>A</td>\n",
       "      <td>20.177268</td>\n",
       "      <td>-0.697250</td>\n",
       "      <td>-0.71162</td>\n",
       "      <td>-0.708309</td>\n",
       "      <td>-0.710711</td>\n",
       "      <td>-0.712605</td>\n",
       "      <td>-0.708782</td>\n",
       "      <td>-0.492954</td>\n",
       "      <td>-0.388143</td>\n",
       "      <td>...</td>\n",
       "      <td>-0.828692</td>\n",
       "      <td>-0.830830</td>\n",
       "      <td>-0.827825</td>\n",
       "      <td>-0.397665</td>\n",
       "      <td>-0.915916</td>\n",
       "      <td>-0.911882</td>\n",
       "      <td>-0.921663</td>\n",
       "      <td>-0.909069</td>\n",
       "      <td>-0.909069</td>\n",
       "      <td>NaN</td>\n",
       "    </tr>\n",
       "    <tr>\n",
       "      <th>2016-02-29</th>\n",
       "      <td>A</td>\n",
       "      <td>23.306868</td>\n",
       "      <td>-0.697250</td>\n",
       "      <td>-0.71162</td>\n",
       "      <td>-0.708309</td>\n",
       "      <td>-0.710711</td>\n",
       "      <td>-0.712605</td>\n",
       "      <td>-0.708782</td>\n",
       "      <td>-0.426244</td>\n",
       "      <td>-0.323633</td>\n",
       "      <td>...</td>\n",
       "      <td>-0.746808</td>\n",
       "      <td>-0.752678</td>\n",
       "      <td>-0.750469</td>\n",
       "      <td>-0.397665</td>\n",
       "      <td>-0.910118</td>\n",
       "      <td>-0.915569</td>\n",
       "      <td>-0.908508</td>\n",
       "      <td>-0.916207</td>\n",
       "      <td>-0.916207</td>\n",
       "      <td>NaN</td>\n",
       "    </tr>\n",
       "    <tr>\n",
       "      <th>2016-03-31</th>\n",
       "      <td>A</td>\n",
       "      <td>25.223010</td>\n",
       "      <td>-0.697250</td>\n",
       "      <td>-0.71162</td>\n",
       "      <td>-0.708309</td>\n",
       "      <td>-0.710711</td>\n",
       "      <td>-0.712605</td>\n",
       "      <td>-0.708782</td>\n",
       "      <td>-0.304957</td>\n",
       "      <td>-0.188554</td>\n",
       "      <td>...</td>\n",
       "      <td>-0.730402</td>\n",
       "      <td>-0.733675</td>\n",
       "      <td>-0.731680</td>\n",
       "      <td>-0.397665</td>\n",
       "      <td>-0.833402</td>\n",
       "      <td>-0.834459</td>\n",
       "      <td>-0.834589</td>\n",
       "      <td>-0.834453</td>\n",
       "      <td>-0.834453</td>\n",
       "      <td>NaN</td>\n",
       "    </tr>\n",
       "    <tr>\n",
       "      <th>2016-04-30</th>\n",
       "      <td>A</td>\n",
       "      <td>25.308243</td>\n",
       "      <td>-0.671888</td>\n",
       "      <td>-0.71162</td>\n",
       "      <td>-0.708309</td>\n",
       "      <td>-0.710711</td>\n",
       "      <td>-0.712605</td>\n",
       "      <td>-0.708782</td>\n",
       "      <td>-0.296984</td>\n",
       "      <td>-0.190278</td>\n",
       "      <td>...</td>\n",
       "      <td>-0.501075</td>\n",
       "      <td>-0.525438</td>\n",
       "      <td>-0.509230</td>\n",
       "      <td>-0.397665</td>\n",
       "      <td>-0.691659</td>\n",
       "      <td>-0.695181</td>\n",
       "      <td>-0.693237</td>\n",
       "      <td>-0.700107</td>\n",
       "      <td>-0.700107</td>\n",
       "      <td>NaN</td>\n",
       "    </tr>\n",
       "    <tr>\n",
       "      <th>2016-05-31</th>\n",
       "      <td>A</td>\n",
       "      <td>24.875099</td>\n",
       "      <td>-0.671888</td>\n",
       "      <td>-0.71162</td>\n",
       "      <td>-0.708309</td>\n",
       "      <td>-0.710711</td>\n",
       "      <td>-0.712605</td>\n",
       "      <td>-0.708782</td>\n",
       "      <td>-0.435479</td>\n",
       "      <td>-0.337433</td>\n",
       "      <td>...</td>\n",
       "      <td>-0.367456</td>\n",
       "      <td>-0.391346</td>\n",
       "      <td>-0.377609</td>\n",
       "      <td>-0.397665</td>\n",
       "      <td>-0.497700</td>\n",
       "      <td>-0.494779</td>\n",
       "      <td>-0.496022</td>\n",
       "      <td>-0.493870</td>\n",
       "      <td>-0.493870</td>\n",
       "      <td>NaN</td>\n",
       "    </tr>\n",
       "    <tr>\n",
       "      <th>...</th>\n",
       "      <td>...</td>\n",
       "      <td>...</td>\n",
       "      <td>...</td>\n",
       "      <td>...</td>\n",
       "      <td>...</td>\n",
       "      <td>...</td>\n",
       "      <td>...</td>\n",
       "      <td>...</td>\n",
       "      <td>...</td>\n",
       "      <td>...</td>\n",
       "      <td>...</td>\n",
       "      <td>...</td>\n",
       "      <td>...</td>\n",
       "      <td>...</td>\n",
       "      <td>...</td>\n",
       "      <td>...</td>\n",
       "      <td>...</td>\n",
       "      <td>...</td>\n",
       "      <td>...</td>\n",
       "      <td>...</td>\n",
       "      <td>...</td>\n",
       "    </tr>\n",
       "    <tr>\n",
       "      <th>2023-08-31</th>\n",
       "      <td>A</td>\n",
       "      <td>NaN</td>\n",
       "      <td>NaN</td>\n",
       "      <td>NaN</td>\n",
       "      <td>NaN</td>\n",
       "      <td>NaN</td>\n",
       "      <td>NaN</td>\n",
       "      <td>NaN</td>\n",
       "      <td>NaN</td>\n",
       "      <td>NaN</td>\n",
       "      <td>...</td>\n",
       "      <td>NaN</td>\n",
       "      <td>NaN</td>\n",
       "      <td>NaN</td>\n",
       "      <td>NaN</td>\n",
       "      <td>NaN</td>\n",
       "      <td>NaN</td>\n",
       "      <td>NaN</td>\n",
       "      <td>NaN</td>\n",
       "      <td>NaN</td>\n",
       "      <td>100.916977</td>\n",
       "    </tr>\n",
       "    <tr>\n",
       "      <th>2023-09-30</th>\n",
       "      <td>A</td>\n",
       "      <td>NaN</td>\n",
       "      <td>NaN</td>\n",
       "      <td>NaN</td>\n",
       "      <td>NaN</td>\n",
       "      <td>NaN</td>\n",
       "      <td>NaN</td>\n",
       "      <td>NaN</td>\n",
       "      <td>NaN</td>\n",
       "      <td>NaN</td>\n",
       "      <td>...</td>\n",
       "      <td>NaN</td>\n",
       "      <td>NaN</td>\n",
       "      <td>NaN</td>\n",
       "      <td>NaN</td>\n",
       "      <td>NaN</td>\n",
       "      <td>NaN</td>\n",
       "      <td>NaN</td>\n",
       "      <td>NaN</td>\n",
       "      <td>NaN</td>\n",
       "      <td>98.817810</td>\n",
       "    </tr>\n",
       "    <tr>\n",
       "      <th>2023-10-31</th>\n",
       "      <td>A</td>\n",
       "      <td>NaN</td>\n",
       "      <td>NaN</td>\n",
       "      <td>NaN</td>\n",
       "      <td>NaN</td>\n",
       "      <td>NaN</td>\n",
       "      <td>NaN</td>\n",
       "      <td>NaN</td>\n",
       "      <td>NaN</td>\n",
       "      <td>NaN</td>\n",
       "      <td>...</td>\n",
       "      <td>NaN</td>\n",
       "      <td>NaN</td>\n",
       "      <td>NaN</td>\n",
       "      <td>NaN</td>\n",
       "      <td>NaN</td>\n",
       "      <td>NaN</td>\n",
       "      <td>NaN</td>\n",
       "      <td>NaN</td>\n",
       "      <td>NaN</td>\n",
       "      <td>98.369675</td>\n",
       "    </tr>\n",
       "    <tr>\n",
       "      <th>2023-11-30</th>\n",
       "      <td>A</td>\n",
       "      <td>NaN</td>\n",
       "      <td>NaN</td>\n",
       "      <td>NaN</td>\n",
       "      <td>NaN</td>\n",
       "      <td>NaN</td>\n",
       "      <td>NaN</td>\n",
       "      <td>NaN</td>\n",
       "      <td>NaN</td>\n",
       "      <td>NaN</td>\n",
       "      <td>...</td>\n",
       "      <td>NaN</td>\n",
       "      <td>NaN</td>\n",
       "      <td>NaN</td>\n",
       "      <td>NaN</td>\n",
       "      <td>NaN</td>\n",
       "      <td>NaN</td>\n",
       "      <td>NaN</td>\n",
       "      <td>NaN</td>\n",
       "      <td>NaN</td>\n",
       "      <td>100.034004</td>\n",
       "    </tr>\n",
       "    <tr>\n",
       "      <th>2023-12-31</th>\n",
       "      <td>A</td>\n",
       "      <td>NaN</td>\n",
       "      <td>NaN</td>\n",
       "      <td>NaN</td>\n",
       "      <td>NaN</td>\n",
       "      <td>NaN</td>\n",
       "      <td>NaN</td>\n",
       "      <td>NaN</td>\n",
       "      <td>NaN</td>\n",
       "      <td>NaN</td>\n",
       "      <td>...</td>\n",
       "      <td>NaN</td>\n",
       "      <td>NaN</td>\n",
       "      <td>NaN</td>\n",
       "      <td>NaN</td>\n",
       "      <td>NaN</td>\n",
       "      <td>NaN</td>\n",
       "      <td>NaN</td>\n",
       "      <td>NaN</td>\n",
       "      <td>NaN</td>\n",
       "      <td>104.445732</td>\n",
       "    </tr>\n",
       "  </tbody>\n",
       "</table>\n",
       "<p>96 rows × 925 columns</p>\n",
       "</div>"
      ],
      "text/plain": [
       "           unique_id          y  HOUSECOST_FIN  \\\n",
       "ds                                               \n",
       "2016-01-31         A  20.177268      -0.697250   \n",
       "2016-02-29         A  23.306868      -0.697250   \n",
       "2016-03-31         A  25.223010      -0.697250   \n",
       "2016-04-30         A  25.308243      -0.671888   \n",
       "2016-05-31         A  24.875099      -0.671888   \n",
       "...              ...        ...            ...   \n",
       "2023-08-31         A        NaN            NaN   \n",
       "2023-09-30         A        NaN            NaN   \n",
       "2023-10-31         A        NaN            NaN   \n",
       "2023-11-30         A        NaN            NaN   \n",
       "2023-12-31         A        NaN            NaN   \n",
       "\n",
       "            1772.HK(Ganfeng Lithium)_Price_Low  \\\n",
       "ds                                               \n",
       "2016-01-31                            -0.71162   \n",
       "2016-02-29                            -0.71162   \n",
       "2016-03-31                            -0.71162   \n",
       "2016-04-30                            -0.71162   \n",
       "2016-05-31                            -0.71162   \n",
       "...                                        ...   \n",
       "2023-08-31                                 NaN   \n",
       "2023-09-30                                 NaN   \n",
       "2023-10-31                                 NaN   \n",
       "2023-11-30                                 NaN   \n",
       "2023-12-31                                 NaN   \n",
       "\n",
       "            1772.HK(Ganfeng Lithium)_Price_Open  \\\n",
       "ds                                                \n",
       "2016-01-31                            -0.708309   \n",
       "2016-02-29                            -0.708309   \n",
       "2016-03-31                            -0.708309   \n",
       "2016-04-30                            -0.708309   \n",
       "2016-05-31                            -0.708309   \n",
       "...                                         ...   \n",
       "2023-08-31                                  NaN   \n",
       "2023-09-30                                  NaN   \n",
       "2023-10-31                                  NaN   \n",
       "2023-11-30                                  NaN   \n",
       "2023-12-31                                  NaN   \n",
       "\n",
       "            1772.HK(Ganfeng Lithium)_Price_Close  \\\n",
       "ds                                                 \n",
       "2016-01-31                             -0.710711   \n",
       "2016-02-29                             -0.710711   \n",
       "2016-03-31                             -0.710711   \n",
       "2016-04-30                             -0.710711   \n",
       "2016-05-31                             -0.710711   \n",
       "...                                          ...   \n",
       "2023-08-31                                   NaN   \n",
       "2023-09-30                                   NaN   \n",
       "2023-10-31                                   NaN   \n",
       "2023-11-30                                   NaN   \n",
       "2023-12-31                                   NaN   \n",
       "\n",
       "            1772.HK(Ganfeng Lithium)_Price_Adj Close  \\\n",
       "ds                                                     \n",
       "2016-01-31                                 -0.712605   \n",
       "2016-02-29                                 -0.712605   \n",
       "2016-03-31                                 -0.712605   \n",
       "2016-04-30                                 -0.712605   \n",
       "2016-05-31                                 -0.712605   \n",
       "...                                              ...   \n",
       "2023-08-31                                       NaN   \n",
       "2023-09-30                                       NaN   \n",
       "2023-10-31                                       NaN   \n",
       "2023-11-30                                       NaN   \n",
       "2023-12-31                                       NaN   \n",
       "\n",
       "            1772.HK(Ganfeng Lithium)_Price_High  Cameco(CCJ)_Adj Close  \\\n",
       "ds                                                                       \n",
       "2016-01-31                            -0.708782              -0.492954   \n",
       "2016-02-29                            -0.708782              -0.426244   \n",
       "2016-03-31                            -0.708782              -0.304957   \n",
       "2016-04-30                            -0.708782              -0.296984   \n",
       "2016-05-31                            -0.708782              -0.435479   \n",
       "...                                         ...                    ...   \n",
       "2023-08-31                                  NaN                    NaN   \n",
       "2023-09-30                                  NaN                    NaN   \n",
       "2023-10-31                                  NaN                    NaN   \n",
       "2023-11-30                                  NaN                    NaN   \n",
       "2023-12-31                                  NaN                    NaN   \n",
       "\n",
       "            Cameco(CCJ)_High  ...  Pilbara Mineral Limited_price_High  \\\n",
       "ds                            ...                                       \n",
       "2016-01-31         -0.388143  ...                           -0.828692   \n",
       "2016-02-29         -0.323633  ...                           -0.746808   \n",
       "2016-03-31         -0.188554  ...                           -0.730402   \n",
       "2016-04-30         -0.190278  ...                           -0.501075   \n",
       "2016-05-31         -0.337433  ...                           -0.367456   \n",
       "...                      ...  ...                                 ...   \n",
       "2023-08-31               NaN  ...                                 NaN   \n",
       "2023-09-30               NaN  ...                                 NaN   \n",
       "2023-10-31               NaN  ...                                 NaN   \n",
       "2023-11-30               NaN  ...                                 NaN   \n",
       "2023-12-31               NaN  ...                                 NaN   \n",
       "\n",
       "            Pilbara Mineral Limited_price_Low  \\\n",
       "ds                                              \n",
       "2016-01-31                          -0.830830   \n",
       "2016-02-29                          -0.752678   \n",
       "2016-03-31                          -0.733675   \n",
       "2016-04-30                          -0.525438   \n",
       "2016-05-31                          -0.391346   \n",
       "...                                       ...   \n",
       "2023-08-31                                NaN   \n",
       "2023-09-30                                NaN   \n",
       "2023-10-31                                NaN   \n",
       "2023-11-30                                NaN   \n",
       "2023-12-31                                NaN   \n",
       "\n",
       "            Pilbara Mineral Limited_price_Close  \\\n",
       "ds                                                \n",
       "2016-01-31                            -0.827825   \n",
       "2016-02-29                            -0.750469   \n",
       "2016-03-31                            -0.731680   \n",
       "2016-04-30                            -0.509230   \n",
       "2016-05-31                            -0.377609   \n",
       "...                                         ...   \n",
       "2023-08-31                                  NaN   \n",
       "2023-09-30                                  NaN   \n",
       "2023-10-31                                  NaN   \n",
       "2023-11-30                                  NaN   \n",
       "2023-12-31                                  NaN   \n",
       "\n",
       "            Pilbara Mineral Limited_price_Adj Close  \\\n",
       "ds                                                    \n",
       "2016-01-31                                -0.397665   \n",
       "2016-02-29                                -0.397665   \n",
       "2016-03-31                                -0.397665   \n",
       "2016-04-30                                -0.397665   \n",
       "2016-05-31                                -0.397665   \n",
       "...                                             ...   \n",
       "2023-08-31                                      NaN   \n",
       "2023-09-30                                      NaN   \n",
       "2023-10-31                                      NaN   \n",
       "2023-11-30                                      NaN   \n",
       "2023-12-31                                      NaN   \n",
       "\n",
       "            Allkem Limited (AKE.AX)_price_Open  \\\n",
       "ds                                               \n",
       "2016-01-31                           -0.915916   \n",
       "2016-02-29                           -0.910118   \n",
       "2016-03-31                           -0.833402   \n",
       "2016-04-30                           -0.691659   \n",
       "2016-05-31                           -0.497700   \n",
       "...                                        ...   \n",
       "2023-08-31                                 NaN   \n",
       "2023-09-30                                 NaN   \n",
       "2023-10-31                                 NaN   \n",
       "2023-11-30                                 NaN   \n",
       "2023-12-31                                 NaN   \n",
       "\n",
       "            Allkem Limited (AKE.AX)_price_High  \\\n",
       "ds                                               \n",
       "2016-01-31                           -0.911882   \n",
       "2016-02-29                           -0.915569   \n",
       "2016-03-31                           -0.834459   \n",
       "2016-04-30                           -0.695181   \n",
       "2016-05-31                           -0.494779   \n",
       "...                                        ...   \n",
       "2023-08-31                                 NaN   \n",
       "2023-09-30                                 NaN   \n",
       "2023-10-31                                 NaN   \n",
       "2023-11-30                                 NaN   \n",
       "2023-12-31                                 NaN   \n",
       "\n",
       "            Allkem Limited (AKE.AX)_price_Low  \\\n",
       "ds                                              \n",
       "2016-01-31                          -0.921663   \n",
       "2016-02-29                          -0.908508   \n",
       "2016-03-31                          -0.834589   \n",
       "2016-04-30                          -0.693237   \n",
       "2016-05-31                          -0.496022   \n",
       "...                                       ...   \n",
       "2023-08-31                                NaN   \n",
       "2023-09-30                                NaN   \n",
       "2023-10-31                                NaN   \n",
       "2023-11-30                                NaN   \n",
       "2023-12-31                                NaN   \n",
       "\n",
       "            Allkem Limited (AKE.AX)_price_Close  \\\n",
       "ds                                                \n",
       "2016-01-31                            -0.909069   \n",
       "2016-02-29                            -0.916207   \n",
       "2016-03-31                            -0.834453   \n",
       "2016-04-30                            -0.700107   \n",
       "2016-05-31                            -0.493870   \n",
       "...                                         ...   \n",
       "2023-08-31                                  NaN   \n",
       "2023-09-30                                  NaN   \n",
       "2023-10-31                                  NaN   \n",
       "2023-11-30                                  NaN   \n",
       "2023-12-31                                  NaN   \n",
       "\n",
       "            Allkem Limited (AKE.AX)_price_Adj Close       NHITS  \n",
       "ds                                                               \n",
       "2016-01-31                                -0.909069         NaN  \n",
       "2016-02-29                                -0.916207         NaN  \n",
       "2016-03-31                                -0.834453         NaN  \n",
       "2016-04-30                                -0.700107         NaN  \n",
       "2016-05-31                                -0.493870         NaN  \n",
       "...                                             ...         ...  \n",
       "2023-08-31                                      NaN  100.916977  \n",
       "2023-09-30                                      NaN   98.817810  \n",
       "2023-10-31                                      NaN   98.369675  \n",
       "2023-11-30                                      NaN  100.034004  \n",
       "2023-12-31                                      NaN  104.445732  \n",
       "\n",
       "[96 rows x 925 columns]"
      ]
     },
     "execution_count": 449,
     "metadata": {},
     "output_type": "execute_result"
    }
   ],
   "source": [
    "plot_df"
   ]
  },
  {
   "cell_type": "code",
   "execution_count": 445,
   "id": "6565f296-1ee6-47e8-9717-25176a483b05",
   "metadata": {
    "tags": []
   },
   "outputs": [],
   "source": [
    "plot_df[['y', 'NHITS']].to_csv(f'./data/forecast_plot_{cutoff_date}_wv.csv',index=False)"
   ]
  },
  {
   "cell_type": "code",
   "execution_count": null,
   "id": "217f461e-d351-4f08-b05a-f7a996fc1a98",
   "metadata": {},
   "outputs": [],
   "source": []
  },
  {
   "cell_type": "code",
   "execution_count": null,
   "id": "c88814b2-7b8b-400a-8ebf-43ee94aafcd4",
   "metadata": {},
   "outputs": [],
   "source": []
  }
 ],
 "metadata": {
  "kernelspec": {
   "display_name": "Python 3 (ipykernel)",
   "language": "python",
   "name": "python3"
  },
  "language_info": {
   "codemirror_mode": {
    "name": "ipython",
    "version": 3
   },
   "file_extension": ".py",
   "mimetype": "text/x-python",
   "name": "python",
   "nbconvert_exporter": "python",
   "pygments_lexer": "ipython3",
   "version": "3.8.16"
  }
 },
 "nbformat": 4,
 "nbformat_minor": 5
}
