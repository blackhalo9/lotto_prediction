{
 "cells": [
  {
   "cell_type": "code",
   "execution_count": 1,
   "id": "3304f140-4e90-48f9-82a5-a39f7b55b4fe",
   "metadata": {
    "tags": []
   },
   "outputs": [],
   "source": [
    "import pathlib\n",
    "\n",
    "path = pathlib.Path.cwd()"
   ]
  },
  {
   "cell_type": "code",
   "execution_count": 2,
   "id": "13e679a8-4f9d-4a0a-aaaa-d3d9f16783b1",
   "metadata": {
    "tags": []
   },
   "outputs": [
    {
     "data": {
      "text/plain": [
       "WindowsPath('C:/Users/ESKO/PYWORK/NHITS')"
      ]
     },
     "execution_count": 2,
     "metadata": {},
     "output_type": "execute_result"
    }
   ],
   "source": [
    "path"
   ]
  },
  {
   "cell_type": "code",
   "execution_count": 3,
   "id": "2c709f33-1bfc-4a02-86f6-cd5c76467514",
   "metadata": {
    "tags": []
   },
   "outputs": [
    {
     "name": "stdout",
     "output_type": "stream",
     "text": [
      "C:\\Users\\ESKO\\PYWORK\\NHITS\n"
     ]
    }
   ],
   "source": [
    "import os, torch\n",
    "os.chdir(\"/Users/ESKO/PYWORK/NHITS\")\n",
    "print(os.getcwd())"
   ]
  },
  {
   "cell_type": "code",
   "execution_count": 4,
   "id": "1130c92b-7119-401d-8c4e-99b9474f1fb0",
   "metadata": {
    "tags": []
   },
   "outputs": [],
   "source": [
    "import numpy as np\n",
    "import pandas as pd\n",
    "import pytorch_lightning as pl\n",
    "import matplotlib.pyplot as plt\n",
    "\n",
    "from ray import tune\n",
    "from sklearn.preprocessing import StandardScaler\n",
    "\n",
    "from neuralforecast import NeuralForecast\n",
    "from neuralforecast.auto import AutoTFT\n",
    "from neuralforecast.models import NBEATS, NBEATSx, NHITS, TFT, LSTM\n",
    "from neuralforecast.losses.pytorch import MQLoss, DistributionLoss, GMM, PMM\n",
    "from neuralforecast.tsdataset import TimeSeriesDataset\n",
    "from neuralforecast.losses.pytorch import MAE"
   ]
  },
  {
   "cell_type": "markdown",
   "id": "092e974b-728b-448b-aca0-03a9c91b7fff",
   "metadata": {},
   "source": [
    "## <기준날짜 및 예측 기간 설정>"
   ]
  },
  {
   "cell_type": "code",
   "execution_count": 29,
   "id": "f91c564f-7439-4f72-9730-ed3e3ccdd549",
   "metadata": {
    "tags": []
   },
   "outputs": [],
   "source": [
    "cutoff_date = '2022-07-31' ## len = 65\n",
    "test_period = 5  ## 예측 기간 (월)\n",
    "corr_rate = 0.8 ## Lag corr rate\n",
    "future_variable_limit = 5\n",
    "hist_corr_rate = 0.8 ## Lag corr rate\n",
    "hist_variable_limit = 5"
   ]
  },
  {
   "cell_type": "markdown",
   "id": "60de4ab8-1f14-4139-951e-77f82ba87471",
   "metadata": {},
   "source": [
    "## <원 data set>"
   ]
  },
  {
   "cell_type": "code",
   "execution_count": 30,
   "id": "01ff22bb-7a0d-48ea-9ba3-2c3531f1361f",
   "metadata": {
    "tags": []
   },
   "outputs": [],
   "source": [
    "df = pd.read_csv('./data/metal_pst.csv')\n",
    "df.rename(columns={'date':'ds'},inplace=True)\n",
    "df.rename(columns={'li2co3_cif_fast_kg_spot_exchng':'y'},inplace=True)\n",
    "df['ds'] = pd.to_datetime(df['ds'], format='%Y-%m-%d')\n",
    "\n",
    "# 스케일링\n",
    "df_tgt = df.iloc[:,3:]\n",
    "scaler = StandardScaler()\n",
    "scaler.fit(df_tgt)\n",
    "arr = scaler.transform(df_tgt)\n",
    "df_tmp = pd.DataFrame(arr, columns=df_tgt.columns)\n",
    "df = pd.concat([df.iloc[:,:3],df_tmp], axis=1)\n",
    "\n",
    "raw_y_set_resampled = df.copy()\n",
    "raw_y_set_resampled.rename(columns={'ds':'date'},inplace=True)\n",
    "raw_y_set_resampled.rename(columns={'lioh_cif_fast_kg_spot_exchng':'y2'},inplace=True)\n",
    "del raw_y_set_resampled['unique_id']"
   ]
  },
  {
   "cell_type": "markdown",
   "id": "57908d5d-29ab-4587-96af-6209d303ce2e",
   "metadata": {},
   "source": [
    "#### FFT"
   ]
  },
  {
   "cell_type": "code",
   "execution_count": 31,
   "id": "01a635f8-53f2-4ce0-ad6e-dd424817ce39",
   "metadata": {
    "tags": []
   },
   "outputs": [],
   "source": [
    "# def FFT(df, col, topn=2):\n",
    "#     fft = np.fft.fft(df[col])\n",
    "#     fft[topn:-topn] = 0\n",
    "#     ifft = np.fft.ifft(fft)\n",
    "#     return ifft\n",
    "\n",
    "# df['y'] = FFT(df, 'y', 40)"
   ]
  },
  {
   "cell_type": "markdown",
   "id": "69d2c46a-14cc-4729-a884-e81e574e7301",
   "metadata": {
    "tags": []
   },
   "source": [
    "#### WAVELET"
   ]
  },
  {
   "cell_type": "code",
   "execution_count": 32,
   "id": "40bed5d0-9d84-41f8-883c-34856936fbb8",
   "metadata": {
    "tags": []
   },
   "outputs": [],
   "source": [
    "# !pip install PyWavelets\n",
    "# import pywt\n",
    "\n",
    "# def WT(df, col, wavelet='db5', thresh=0.63):\n",
    "#     signal = df['y'].values\n",
    "#     thresh = thresh*np.nanmax(signal)\n",
    "#     coeff = pywt.wavedec(signal, wavelet, mode=\"per\" )\n",
    "#     coeff[1:] = (pywt.threshold(i, value=thresh, mode=\"soft\" ) for i in coeff[1:])\n",
    "#     reconstructed_signal = pywt.waverec(coeff, wavelet, mode=\"per\" )\n",
    "#     return reconstructed_signal\n",
    "\n",
    "# df['y'] = WT(df, 'y', wavelet='db5', thresh=0.63)"
   ]
  },
  {
   "cell_type": "markdown",
   "id": "8a1f5486-9f68-4806-beb7-22fa9219aad0",
   "metadata": {},
   "source": [
    "## Feature shift"
   ]
  },
  {
   "cell_type": "code",
   "execution_count": 33,
   "id": "f178475b-3d21-42b8-a56a-9fe5a627349f",
   "metadata": {
    "tags": []
   },
   "outputs": [
    {
     "name": "stdout",
     "output_type": "stream",
     "text": [
      "CPU times: total: 13 s\n",
      "Wall time: 24.1 s\n"
     ]
    }
   ],
   "source": [
    "%%time\n",
    "\n",
    "raw_y_set_resampled = raw_y_set_resampled[raw_y_set_resampled.date<=cutoff_date]\n",
    "raw_y_set_shifted_merged = raw_y_set_resampled['date']\n",
    "\n",
    "for i in range(len(raw_y_set_resampled.columns)):\n",
    "    if i == len(raw_y_set_resampled.columns) - 1:\n",
    "        break\n",
    "    raw_y_set_shifted = raw_y_set_resampled.iloc[:,[0,i+1]].dropna()\n",
    "    for j in range(test_period-1,test_period):\n",
    "        raw_y_set_shifted = pd.concat([raw_y_set_shifted, (raw_y_set_shifted.iloc[:,1].shift(j+1).rename(raw_y_set_resampled.columns[i+1] + '_' +str(j+1)+ '_'))],axis=1)\n",
    "        raw_y_set_shifted_merged = pd.merge(raw_y_set_shifted_merged, raw_y_set_shifted, how= 'outer') \n",
    "        if j == len(raw_y_set_shifted.iloc[:,1]) -2 :\n",
    "            break\n",
    "# raw_y_set_shifted_merged.to_csv('./data/raw_y_set_shifted_merged.csv', encoding='cp949')"
   ]
  },
  {
   "cell_type": "code",
   "execution_count": 34,
   "id": "683da55d-cb36-408c-9a04-795df2721a34",
   "metadata": {
    "tags": []
   },
   "outputs": [
    {
     "data": {
      "text/html": [
       "<div>\n",
       "<style scoped>\n",
       "    .dataframe tbody tr th:only-of-type {\n",
       "        vertical-align: middle;\n",
       "    }\n",
       "\n",
       "    .dataframe tbody tr th {\n",
       "        vertical-align: top;\n",
       "    }\n",
       "\n",
       "    .dataframe thead th {\n",
       "        text-align: right;\n",
       "    }\n",
       "</style>\n",
       "<table border=\"1\" class=\"dataframe\">\n",
       "  <thead>\n",
       "    <tr style=\"text-align: right;\">\n",
       "      <th></th>\n",
       "      <th>date</th>\n",
       "      <th>y</th>\n",
       "      <th>y_5_</th>\n",
       "      <th>y2</th>\n",
       "      <th>y2_5_</th>\n",
       "      <th>Baltic Dry Index (BDI)</th>\n",
       "      <th>Baltic Dry Index (BDI)_5_</th>\n",
       "      <th>Howe Robinson Container Index</th>\n",
       "      <th>Howe Robinson Container Index_5_</th>\n",
       "      <th>Shanghai Containerized Freight Index (SCFI)</th>\n",
       "      <th>...</th>\n",
       "      <th>Allkem Limited (AKE.AX)_price_Open</th>\n",
       "      <th>Allkem Limited (AKE.AX)_price_Open_5_</th>\n",
       "      <th>Allkem Limited (AKE.AX)_price_High</th>\n",
       "      <th>Allkem Limited (AKE.AX)_price_High_5_</th>\n",
       "      <th>Allkem Limited (AKE.AX)_price_Low</th>\n",
       "      <th>Allkem Limited (AKE.AX)_price_Low_5_</th>\n",
       "      <th>Allkem Limited (AKE.AX)_price_Close</th>\n",
       "      <th>Allkem Limited (AKE.AX)_price_Close_5_</th>\n",
       "      <th>Allkem Limited (AKE.AX)_price_Adj Close</th>\n",
       "      <th>Allkem Limited (AKE.AX)_price_Adj Close_5_</th>\n",
       "    </tr>\n",
       "  </thead>\n",
       "  <tbody>\n",
       "    <tr>\n",
       "      <th>0</th>\n",
       "      <td>2016-01-31</td>\n",
       "      <td>20.177268</td>\n",
       "      <td>NaN</td>\n",
       "      <td>-0.237734</td>\n",
       "      <td>NaN</td>\n",
       "      <td>-1.302468</td>\n",
       "      <td>NaN</td>\n",
       "      <td>-0.644064</td>\n",
       "      <td>NaN</td>\n",
       "      <td>-0.195705</td>\n",
       "      <td>...</td>\n",
       "      <td>-0.915916</td>\n",
       "      <td>NaN</td>\n",
       "      <td>-0.911882</td>\n",
       "      <td>NaN</td>\n",
       "      <td>-0.921663</td>\n",
       "      <td>NaN</td>\n",
       "      <td>-0.909069</td>\n",
       "      <td>NaN</td>\n",
       "      <td>-0.909069</td>\n",
       "      <td>NaN</td>\n",
       "    </tr>\n",
       "    <tr>\n",
       "      <th>1</th>\n",
       "      <td>2016-02-29</td>\n",
       "      <td>23.306868</td>\n",
       "      <td>NaN</td>\n",
       "      <td>-0.054803</td>\n",
       "      <td>NaN</td>\n",
       "      <td>-1.396112</td>\n",
       "      <td>NaN</td>\n",
       "      <td>-0.645288</td>\n",
       "      <td>NaN</td>\n",
       "      <td>-0.182527</td>\n",
       "      <td>...</td>\n",
       "      <td>-0.910118</td>\n",
       "      <td>NaN</td>\n",
       "      <td>-0.915569</td>\n",
       "      <td>NaN</td>\n",
       "      <td>-0.908508</td>\n",
       "      <td>NaN</td>\n",
       "      <td>-0.916207</td>\n",
       "      <td>NaN</td>\n",
       "      <td>-0.916207</td>\n",
       "      <td>NaN</td>\n",
       "    </tr>\n",
       "    <tr>\n",
       "      <th>2</th>\n",
       "      <td>2016-03-31</td>\n",
       "      <td>25.223010</td>\n",
       "      <td>NaN</td>\n",
       "      <td>0.133909</td>\n",
       "      <td>NaN</td>\n",
       "      <td>-1.305967</td>\n",
       "      <td>NaN</td>\n",
       "      <td>-0.644523</td>\n",
       "      <td>NaN</td>\n",
       "      <td>-0.362815</td>\n",
       "      <td>...</td>\n",
       "      <td>-0.833402</td>\n",
       "      <td>NaN</td>\n",
       "      <td>-0.834459</td>\n",
       "      <td>NaN</td>\n",
       "      <td>-0.834589</td>\n",
       "      <td>NaN</td>\n",
       "      <td>-0.834453</td>\n",
       "      <td>NaN</td>\n",
       "      <td>-0.834453</td>\n",
       "      <td>NaN</td>\n",
       "    </tr>\n",
       "    <tr>\n",
       "      <th>3</th>\n",
       "      <td>2016-04-30</td>\n",
       "      <td>25.308243</td>\n",
       "      <td>NaN</td>\n",
       "      <td>0.173425</td>\n",
       "      <td>NaN</td>\n",
       "      <td>-1.041598</td>\n",
       "      <td>NaN</td>\n",
       "      <td>-0.648195</td>\n",
       "      <td>NaN</td>\n",
       "      <td>-0.472294</td>\n",
       "      <td>...</td>\n",
       "      <td>-0.691659</td>\n",
       "      <td>NaN</td>\n",
       "      <td>-0.695181</td>\n",
       "      <td>NaN</td>\n",
       "      <td>-0.693237</td>\n",
       "      <td>NaN</td>\n",
       "      <td>-0.700107</td>\n",
       "      <td>NaN</td>\n",
       "      <td>-0.700107</td>\n",
       "      <td>NaN</td>\n",
       "    </tr>\n",
       "    <tr>\n",
       "      <th>4</th>\n",
       "      <td>2016-05-31</td>\n",
       "      <td>24.875099</td>\n",
       "      <td>NaN</td>\n",
       "      <td>0.107095</td>\n",
       "      <td>NaN</td>\n",
       "      <td>-1.026945</td>\n",
       "      <td>NaN</td>\n",
       "      <td>-0.645747</td>\n",
       "      <td>NaN</td>\n",
       "      <td>-0.487834</td>\n",
       "      <td>...</td>\n",
       "      <td>-0.497700</td>\n",
       "      <td>NaN</td>\n",
       "      <td>-0.494779</td>\n",
       "      <td>NaN</td>\n",
       "      <td>-0.496022</td>\n",
       "      <td>NaN</td>\n",
       "      <td>-0.493870</td>\n",
       "      <td>NaN</td>\n",
       "      <td>-0.493870</td>\n",
       "      <td>NaN</td>\n",
       "    </tr>\n",
       "    <tr>\n",
       "      <th>...</th>\n",
       "      <td>...</td>\n",
       "      <td>...</td>\n",
       "      <td>...</td>\n",
       "      <td>...</td>\n",
       "      <td>...</td>\n",
       "      <td>...</td>\n",
       "      <td>...</td>\n",
       "      <td>...</td>\n",
       "      <td>...</td>\n",
       "      <td>...</td>\n",
       "      <td>...</td>\n",
       "      <td>...</td>\n",
       "      <td>...</td>\n",
       "      <td>...</td>\n",
       "      <td>...</td>\n",
       "      <td>...</td>\n",
       "      <td>...</td>\n",
       "      <td>...</td>\n",
       "      <td>...</td>\n",
       "      <td>...</td>\n",
       "      <td>...</td>\n",
       "    </tr>\n",
       "    <tr>\n",
       "      <th>74</th>\n",
       "      <td>2022-03-31</td>\n",
       "      <td>71.086957</td>\n",
       "      <td>22.750000</td>\n",
       "      <td>2.126927</td>\n",
       "      <td>-0.096964</td>\n",
       "      <td>1.148209</td>\n",
       "      <td>3.926870</td>\n",
       "      <td>2.612162</td>\n",
       "      <td>1.998856</td>\n",
       "      <td>1.241856</td>\n",
       "      <td>...</td>\n",
       "      <td>1.471655</td>\n",
       "      <td>1.020054</td>\n",
       "      <td>1.468981</td>\n",
       "      <td>1.006143</td>\n",
       "      <td>1.476677</td>\n",
       "      <td>1.008416</td>\n",
       "      <td>1.477051</td>\n",
       "      <td>1.008169</td>\n",
       "      <td>1.477051</td>\n",
       "      <td>1.008169</td>\n",
       "    </tr>\n",
       "    <tr>\n",
       "      <th>75</th>\n",
       "      <td>2022-04-30</td>\n",
       "      <td>75.804348</td>\n",
       "      <td>28.170455</td>\n",
       "      <td>2.687810</td>\n",
       "      <td>0.164625</td>\n",
       "      <td>0.860751</td>\n",
       "      <td>1.521353</td>\n",
       "      <td>2.556884</td>\n",
       "      <td>1.794166</td>\n",
       "      <td>1.425830</td>\n",
       "      <td>...</td>\n",
       "      <td>2.259286</td>\n",
       "      <td>1.240984</td>\n",
       "      <td>2.271036</td>\n",
       "      <td>1.248657</td>\n",
       "      <td>2.255625</td>\n",
       "      <td>1.253894</td>\n",
       "      <td>2.261700</td>\n",
       "      <td>1.257281</td>\n",
       "      <td>2.261700</td>\n",
       "      <td>1.257281</td>\n",
       "    </tr>\n",
       "    <tr>\n",
       "      <th>76</th>\n",
       "      <td>2022-05-31</td>\n",
       "      <td>74.295455</td>\n",
       "      <td>33.043478</td>\n",
       "      <td>2.621695</td>\n",
       "      <td>0.286579</td>\n",
       "      <td>1.713126</td>\n",
       "      <td>1.582281</td>\n",
       "      <td>2.501607</td>\n",
       "      <td>1.839908</td>\n",
       "      <td>1.892086</td>\n",
       "      <td>...</td>\n",
       "      <td>2.106495</td>\n",
       "      <td>1.185124</td>\n",
       "      <td>2.106820</td>\n",
       "      <td>1.187299</td>\n",
       "      <td>2.111163</td>\n",
       "      <td>1.189690</td>\n",
       "      <td>2.116623</td>\n",
       "      <td>1.197156</td>\n",
       "      <td>2.116623</td>\n",
       "      <td>1.197156</td>\n",
       "    </tr>\n",
       "    <tr>\n",
       "      <th>77</th>\n",
       "      <td>2022-06-30</td>\n",
       "      <td>73.000000</td>\n",
       "      <td>43.260870</td>\n",
       "      <td>2.389233</td>\n",
       "      <td>0.631414</td>\n",
       "      <td>1.060177</td>\n",
       "      <td>0.318707</td>\n",
       "      <td>2.515599</td>\n",
       "      <td>1.983558</td>\n",
       "      <td>2.230336</td>\n",
       "      <td>...</td>\n",
       "      <td>1.628496</td>\n",
       "      <td>1.610945</td>\n",
       "      <td>1.623594</td>\n",
       "      <td>1.608097</td>\n",
       "      <td>1.607981</td>\n",
       "      <td>1.585530</td>\n",
       "      <td>1.608344</td>\n",
       "      <td>1.586450</td>\n",
       "      <td>1.608344</td>\n",
       "      <td>1.586450</td>\n",
       "    </tr>\n",
       "    <tr>\n",
       "      <th>78</th>\n",
       "      <td>2022-07-31</td>\n",
       "      <td>73.000000</td>\n",
       "      <td>56.425000</td>\n",
       "      <td>2.389233</td>\n",
       "      <td>1.270279</td>\n",
       "      <td>0.691597</td>\n",
       "      <td>0.406105</td>\n",
       "      <td>2.439292</td>\n",
       "      <td>2.294724</td>\n",
       "      <td>2.526593</td>\n",
       "      <td>...</td>\n",
       "      <td>1.436494</td>\n",
       "      <td>1.168835</td>\n",
       "      <td>1.434052</td>\n",
       "      <td>1.174279</td>\n",
       "      <td>1.439497</td>\n",
       "      <td>1.163390</td>\n",
       "      <td>1.441548</td>\n",
       "      <td>1.167415</td>\n",
       "      <td>1.441548</td>\n",
       "      <td>1.167415</td>\n",
       "    </tr>\n",
       "  </tbody>\n",
       "</table>\n",
       "<p>79 rows × 1847 columns</p>\n",
       "</div>"
      ],
      "text/plain": [
       "         date          y       y_5_        y2     y2_5_  \\\n",
       "0  2016-01-31  20.177268        NaN -0.237734       NaN   \n",
       "1  2016-02-29  23.306868        NaN -0.054803       NaN   \n",
       "2  2016-03-31  25.223010        NaN  0.133909       NaN   \n",
       "3  2016-04-30  25.308243        NaN  0.173425       NaN   \n",
       "4  2016-05-31  24.875099        NaN  0.107095       NaN   \n",
       "..        ...        ...        ...       ...       ...   \n",
       "74 2022-03-31  71.086957  22.750000  2.126927 -0.096964   \n",
       "75 2022-04-30  75.804348  28.170455  2.687810  0.164625   \n",
       "76 2022-05-31  74.295455  33.043478  2.621695  0.286579   \n",
       "77 2022-06-30  73.000000  43.260870  2.389233  0.631414   \n",
       "78 2022-07-31  73.000000  56.425000  2.389233  1.270279   \n",
       "\n",
       "    Baltic Dry Index (BDI)  Baltic Dry Index (BDI)_5_  \\\n",
       "0                -1.302468                        NaN   \n",
       "1                -1.396112                        NaN   \n",
       "2                -1.305967                        NaN   \n",
       "3                -1.041598                        NaN   \n",
       "4                -1.026945                        NaN   \n",
       "..                     ...                        ...   \n",
       "74                1.148209                   3.926870   \n",
       "75                0.860751                   1.521353   \n",
       "76                1.713126                   1.582281   \n",
       "77                1.060177                   0.318707   \n",
       "78                0.691597                   0.406105   \n",
       "\n",
       "    Howe Robinson Container Index  Howe Robinson Container Index_5_  \\\n",
       "0                       -0.644064                               NaN   \n",
       "1                       -0.645288                               NaN   \n",
       "2                       -0.644523                               NaN   \n",
       "3                       -0.648195                               NaN   \n",
       "4                       -0.645747                               NaN   \n",
       "..                            ...                               ...   \n",
       "74                       2.612162                          1.998856   \n",
       "75                       2.556884                          1.794166   \n",
       "76                       2.501607                          1.839908   \n",
       "77                       2.515599                          1.983558   \n",
       "78                       2.439292                          2.294724   \n",
       "\n",
       "    Shanghai Containerized Freight Index (SCFI)  ...  \\\n",
       "0                                     -0.195705  ...   \n",
       "1                                     -0.182527  ...   \n",
       "2                                     -0.362815  ...   \n",
       "3                                     -0.472294  ...   \n",
       "4                                     -0.487834  ...   \n",
       "..                                          ...  ...   \n",
       "74                                     1.241856  ...   \n",
       "75                                     1.425830  ...   \n",
       "76                                     1.892086  ...   \n",
       "77                                     2.230336  ...   \n",
       "78                                     2.526593  ...   \n",
       "\n",
       "    Allkem Limited (AKE.AX)_price_Open  Allkem Limited (AKE.AX)_price_Open_5_  \\\n",
       "0                            -0.915916                                    NaN   \n",
       "1                            -0.910118                                    NaN   \n",
       "2                            -0.833402                                    NaN   \n",
       "3                            -0.691659                                    NaN   \n",
       "4                            -0.497700                                    NaN   \n",
       "..                                 ...                                    ...   \n",
       "74                            1.471655                               1.020054   \n",
       "75                            2.259286                               1.240984   \n",
       "76                            2.106495                               1.185124   \n",
       "77                            1.628496                               1.610945   \n",
       "78                            1.436494                               1.168835   \n",
       "\n",
       "    Allkem Limited (AKE.AX)_price_High  Allkem Limited (AKE.AX)_price_High_5_  \\\n",
       "0                            -0.911882                                    NaN   \n",
       "1                            -0.915569                                    NaN   \n",
       "2                            -0.834459                                    NaN   \n",
       "3                            -0.695181                                    NaN   \n",
       "4                            -0.494779                                    NaN   \n",
       "..                                 ...                                    ...   \n",
       "74                            1.468981                               1.006143   \n",
       "75                            2.271036                               1.248657   \n",
       "76                            2.106820                               1.187299   \n",
       "77                            1.623594                               1.608097   \n",
       "78                            1.434052                               1.174279   \n",
       "\n",
       "    Allkem Limited (AKE.AX)_price_Low  Allkem Limited (AKE.AX)_price_Low_5_  \\\n",
       "0                           -0.921663                                   NaN   \n",
       "1                           -0.908508                                   NaN   \n",
       "2                           -0.834589                                   NaN   \n",
       "3                           -0.693237                                   NaN   \n",
       "4                           -0.496022                                   NaN   \n",
       "..                                ...                                   ...   \n",
       "74                           1.476677                              1.008416   \n",
       "75                           2.255625                              1.253894   \n",
       "76                           2.111163                              1.189690   \n",
       "77                           1.607981                              1.585530   \n",
       "78                           1.439497                              1.163390   \n",
       "\n",
       "    Allkem Limited (AKE.AX)_price_Close  \\\n",
       "0                             -0.909069   \n",
       "1                             -0.916207   \n",
       "2                             -0.834453   \n",
       "3                             -0.700107   \n",
       "4                             -0.493870   \n",
       "..                                  ...   \n",
       "74                             1.477051   \n",
       "75                             2.261700   \n",
       "76                             2.116623   \n",
       "77                             1.608344   \n",
       "78                             1.441548   \n",
       "\n",
       "    Allkem Limited (AKE.AX)_price_Close_5_  \\\n",
       "0                                      NaN   \n",
       "1                                      NaN   \n",
       "2                                      NaN   \n",
       "3                                      NaN   \n",
       "4                                      NaN   \n",
       "..                                     ...   \n",
       "74                                1.008169   \n",
       "75                                1.257281   \n",
       "76                                1.197156   \n",
       "77                                1.586450   \n",
       "78                                1.167415   \n",
       "\n",
       "    Allkem Limited (AKE.AX)_price_Adj Close  \\\n",
       "0                                 -0.909069   \n",
       "1                                 -0.916207   \n",
       "2                                 -0.834453   \n",
       "3                                 -0.700107   \n",
       "4                                 -0.493870   \n",
       "..                                      ...   \n",
       "74                                 1.477051   \n",
       "75                                 2.261700   \n",
       "76                                 2.116623   \n",
       "77                                 1.608344   \n",
       "78                                 1.441548   \n",
       "\n",
       "    Allkem Limited (AKE.AX)_price_Adj Close_5_  \n",
       "0                                          NaN  \n",
       "1                                          NaN  \n",
       "2                                          NaN  \n",
       "3                                          NaN  \n",
       "4                                          NaN  \n",
       "..                                         ...  \n",
       "74                                    1.008169  \n",
       "75                                    1.257281  \n",
       "76                                    1.197156  \n",
       "77                                    1.586450  \n",
       "78                                    1.167415  \n",
       "\n",
       "[79 rows x 1847 columns]"
      ]
     },
     "execution_count": 34,
     "metadata": {},
     "output_type": "execute_result"
    }
   ],
   "source": [
    "raw_y_set_shifted_merged"
   ]
  },
  {
   "cell_type": "markdown",
   "id": "4889fa8d-cdb7-4a0c-a705-894d1746bdb7",
   "metadata": {},
   "source": [
    "#### 해당 기간에서의 lag corr best"
   ]
  },
  {
   "cell_type": "code",
   "execution_count": 35,
   "id": "637d45e9-c3d2-4965-af8f-5553849d1f41",
   "metadata": {
    "tags": []
   },
   "outputs": [
    {
     "data": {
      "text/plain": [
       "['mn_mb_kg',\n",
       " '소맥 Durum [미국(생산자 가격)] 현물',\n",
       " '커피 Arabicas [미국/유럽] 현물',\n",
       " 'Pilbara Mineral Limited_price_Adj Close',\n",
       " 'Pilbara Mineral Limited_price_Low']"
      ]
     },
     "execution_count": 35,
     "metadata": {},
     "output_type": "execute_result"
    }
   ],
   "source": [
    "raw_y_set_shifted_merged_corr = raw_y_set_shifted_merged.corr()\n",
    "raw_y_set_shifted_merged_filtered = raw_y_set_shifted_merged_corr[raw_y_set_resampled.columns.drop('date')]\n",
    "# raw_y_set_shifted_merged_filtered = raw_y_set_shifted_merged_filtered.loc[raw_y_set_shifted_merged_filtered.index != 'y']\n",
    "# raw_y_set_shifted_merged_filtered = raw_y_set_shifted_merged_filtered.loc[raw_y_set_shifted_merged_filtered.index != 'y2']\n",
    "raw_y_set_shifted_merged_filtered_y = raw_y_set_shifted_merged_filtered.iloc[:,:1]\n",
    "raw_y_set_shifted_merged_filtered_y['y'] = abs(raw_y_set_shifted_merged_filtered_y['y'])\n",
    "raw_y_set_shifted_merged_filtered_upto_corr_rate = raw_y_set_shifted_merged_filtered_y[raw_y_set_shifted_merged_filtered_y.y >= corr_rate]\n",
    "raw_y_set_shifted_merged_filtered_upto_corr_rate = raw_y_set_shifted_merged_filtered_upto_corr_rate.sort_values('y',ascending=False)\n",
    "raw_y_set_shifted_merged_filtered_upto_corr_rate = raw_y_set_shifted_merged_filtered_upto_corr_rate[raw_y_set_shifted_merged_filtered_upto_corr_rate.index.str.contains(f'_{test_period}_')]\n",
    "raw_y_set_shifted_merged_filtered_upto_corr_rate = raw_y_set_shifted_merged_filtered_upto_corr_rate[:future_variable_limit]\n",
    "\n",
    "futr_list = raw_y_set_shifted_merged_filtered_upto_corr_rate.index.values.tolist()\n",
    "futr_list = [word.replace(f\"_{test_period}_\", \"\") for word in futr_list]\n",
    "\n",
    "# if 'li2co395_am_kg' in futr_list:\n",
    "#     futr_list = [w.replace('li2co395_am_kg', 'li2co3_995_am_kg') for w in futr_list]\n",
    "# raw_y_set_shifted_merged_filtered_upto_corr_rate = raw_y_set_shifted_merged_filtered_upto_corr_rate.sort_values('y',ascending=False)\n",
    "\n",
    "# if 'y2' in futr_list:\n",
    "#     (futr_list).remove('y2')\n",
    "# if 'li2co395_am_kg' in futr_list:\n",
    "#     (futr_list).remove('li2co395_am_kg')\n",
    "# if 'li2co3_995_am_kg' in futr_list:\n",
    "#     (futr_list).remove('li2co3_995_am_kg')\n",
    "# if 'mn_mb_kg' in futr_list:\n",
    "#     (futr_list).remove('mn_mb_kg')\n",
    "# if 'al_lme_kg' in futr_list:\n",
    "#     (futr_list).remove('al_lme_kg')\n",
    "\n",
    "futr_list"
   ]
  },
  {
   "cell_type": "markdown",
   "id": "7e7e2423-991f-4d6b-882c-50617a2a65e1",
   "metadata": {},
   "source": [
    "#### 해당 기간에서의 corr best"
   ]
  },
  {
   "cell_type": "code",
   "execution_count": 36,
   "id": "df77e790-0ad9-4403-abdd-53ebc8ad6996",
   "metadata": {
    "tags": []
   },
   "outputs": [
    {
     "data": {
      "text/plain": [
       "5"
      ]
     },
     "execution_count": 36,
     "metadata": {},
     "output_type": "execute_result"
    }
   ],
   "source": [
    "hist_variable_limit"
   ]
  },
  {
   "cell_type": "code",
   "execution_count": 37,
   "id": "e40279d3-f9f2-410e-88ac-452b91a2f75c",
   "metadata": {
    "tags": []
   },
   "outputs": [
    {
     "data": {
      "text/plain": [
       "['대두 [미국(생산자 가격)] 현물',\n",
       " 'CPI_PRT_TOT_FOODENRG_AGRWTH',\n",
       " 'CPI_BEL_TOT_AGRWTH',\n",
       " 'CPI_PRT_TOT_AGRWTH',\n",
       " 'African Rainbow(AFBOF)_Adj Close']"
      ]
     },
     "execution_count": 37,
     "metadata": {},
     "output_type": "execute_result"
    }
   ],
   "source": [
    "hist_var_chcek = raw_y_set_resampled.iloc[:,1:]\n",
    "\n",
    "hist_var_corr = hist_var_chcek.corr()\n",
    "hist_var_corr_filtered = hist_var_corr.loc[hist_var_corr.index != 'y']\n",
    "hist_var_corr_filtered = hist_var_corr_filtered.loc[hist_var_corr_filtered.index != 'y2']\n",
    "hist_var_corr_filtered_y = hist_var_corr_filtered.iloc[:,:1]\n",
    "hist_var_corr_filtered_y['y'] = abs(hist_var_corr_filtered_y['y'])\n",
    "hist_var_corr_filtered_y_corr_rate = hist_var_corr_filtered_y[hist_var_corr_filtered_y.y >= hist_corr_rate]\n",
    "hist_var_corr_filtered_y_only = hist_var_corr_filtered_y_corr_rate[hist_var_corr_filtered_y_corr_rate.index.str.contains('li2co3')==False]\n",
    "hist_var_corr_filtered_y_only = hist_var_corr_filtered_y_only[hist_var_corr_filtered_y_only.index.str.contains('lioh')==False]\n",
    "hist_var_corr_filtered_y_only = hist_var_corr_filtered_y_only.sort_values('y',ascending=False)\n",
    "hist_var_list = hist_var_corr_filtered_y_only.index.values.tolist()\n",
    "\n",
    "hist_list = hist_var_list[:hist_variable_limit]\n",
    "hist_list"
   ]
  },
  {
   "cell_type": "code",
   "execution_count": 38,
   "id": "22c2422e-32ee-42b3-abb8-c7fde1f56a45",
   "metadata": {
    "tags": []
   },
   "outputs": [
    {
     "data": {
      "text/html": [
       "<div>\n",
       "<style scoped>\n",
       "    .dataframe tbody tr th:only-of-type {\n",
       "        vertical-align: middle;\n",
       "    }\n",
       "\n",
       "    .dataframe tbody tr th {\n",
       "        vertical-align: top;\n",
       "    }\n",
       "\n",
       "    .dataframe thead th {\n",
       "        text-align: right;\n",
       "    }\n",
       "</style>\n",
       "<table border=\"1\" class=\"dataframe\">\n",
       "  <thead>\n",
       "    <tr style=\"text-align: right;\">\n",
       "      <th></th>\n",
       "      <th>y</th>\n",
       "    </tr>\n",
       "  </thead>\n",
       "  <tbody>\n",
       "    <tr>\n",
       "      <th>대두 [미국(생산자 가격)] 현물</th>\n",
       "      <td>0.953717</td>\n",
       "    </tr>\n",
       "    <tr>\n",
       "      <th>CPI_PRT_TOT_FOODENRG_AGRWTH</th>\n",
       "      <td>0.952022</td>\n",
       "    </tr>\n",
       "    <tr>\n",
       "      <th>CPI_BEL_TOT_AGRWTH</th>\n",
       "      <td>0.947410</td>\n",
       "    </tr>\n",
       "    <tr>\n",
       "      <th>CPI_PRT_TOT_AGRWTH</th>\n",
       "      <td>0.940930</td>\n",
       "    </tr>\n",
       "    <tr>\n",
       "      <th>African Rainbow(AFBOF)_Adj Close</th>\n",
       "      <td>0.918059</td>\n",
       "    </tr>\n",
       "    <tr>\n",
       "      <th>...</th>\n",
       "      <td>...</td>\n",
       "    </tr>\n",
       "    <tr>\n",
       "      <th>CPI_IRL_TOT_IDX2015</th>\n",
       "      <td>0.804007</td>\n",
       "    </tr>\n",
       "    <tr>\n",
       "      <th>CPI_EU27_2020_FOOD_AGRWTH</th>\n",
       "      <td>0.803044</td>\n",
       "    </tr>\n",
       "    <tr>\n",
       "      <th>CPI_IRL_TOT_FOODENRG_AGRWTH</th>\n",
       "      <td>0.802243</td>\n",
       "    </tr>\n",
       "    <tr>\n",
       "      <th>CPI_OECD_FOOD_AGRWTH</th>\n",
       "      <td>0.801226</td>\n",
       "    </tr>\n",
       "    <tr>\n",
       "      <th>CPI_FIN_ENRG_AGRWTH</th>\n",
       "      <td>0.800161</td>\n",
       "    </tr>\n",
       "  </tbody>\n",
       "</table>\n",
       "<p>131 rows × 1 columns</p>\n",
       "</div>"
      ],
      "text/plain": [
       "                                         y\n",
       "대두 [미국(생산자 가격)] 현물                0.953717\n",
       "CPI_PRT_TOT_FOODENRG_AGRWTH       0.952022\n",
       "CPI_BEL_TOT_AGRWTH                0.947410\n",
       "CPI_PRT_TOT_AGRWTH                0.940930\n",
       "African Rainbow(AFBOF)_Adj Close  0.918059\n",
       "...                                    ...\n",
       "CPI_IRL_TOT_IDX2015               0.804007\n",
       "CPI_EU27_2020_FOOD_AGRWTH         0.803044\n",
       "CPI_IRL_TOT_FOODENRG_AGRWTH       0.802243\n",
       "CPI_OECD_FOOD_AGRWTH              0.801226\n",
       "CPI_FIN_ENRG_AGRWTH               0.800161\n",
       "\n",
       "[131 rows x 1 columns]"
      ]
     },
     "execution_count": 38,
     "metadata": {},
     "output_type": "execute_result"
    }
   ],
   "source": [
    "hist_var_corr_filtered_y_only"
   ]
  },
  {
   "cell_type": "markdown",
   "id": "8a209346-8f24-44ee-ba3b-a08f80614190",
   "metadata": {
    "tags": []
   },
   "source": [
    "#### static DF"
   ]
  },
  {
   "cell_type": "code",
   "execution_count": 39,
   "id": "5ce7033a-2234-4bac-9087-91daee3af55a",
   "metadata": {
    "tags": []
   },
   "outputs": [],
   "source": [
    "static_df = pd.read_csv('/users/ESKO/PYWORK/NHITS/data/static_df.csv')"
   ]
  },
  {
   "cell_type": "markdown",
   "id": "d7fba8f2-a5ab-484b-b1ad-bda6ea55f7af",
   "metadata": {},
   "source": [
    "## <Training & Test>"
   ]
  },
  {
   "cell_type": "markdown",
   "id": "2135deb5-4427-45d2-b085-d0063d554f54",
   "metadata": {},
   "source": [
    "#### 날짜 확인"
   ]
  },
  {
   "cell_type": "code",
   "execution_count": 40,
   "id": "525afb1e-6ec3-4108-9c23-95cc5565c352",
   "metadata": {},
   "outputs": [],
   "source": [
    "# train = df.loc[df.ds < '2021-06-30']\n",
    "# test = df.loc[df.ds > '2021-06-30']"
   ]
  },
  {
   "cell_type": "markdown",
   "id": "9f95faab-68f4-4566-9494-35d2b646a7d7",
   "metadata": {},
   "source": [
    "#### 날짜 별 len 확인"
   ]
  },
  {
   "cell_type": "code",
   "execution_count": 41,
   "id": "8548a462-acb8-462e-afcb-94c8c29af9bd",
   "metadata": {
    "tags": []
   },
   "outputs": [],
   "source": [
    "# len(df.loc[df.ds<'2021-06-30'])"
   ]
  },
  {
   "cell_type": "code",
   "execution_count": 42,
   "id": "837791bc-7eab-4e22-9501-5dda050fa80b",
   "metadata": {
    "tags": []
   },
   "outputs": [],
   "source": [
    "# len(Y_train_df)\n",
    "# len(Y_test_df)\n",
    "# len(df)"
   ]
  },
  {
   "cell_type": "markdown",
   "id": "5e48e6ed-d091-4f7e-860d-32db64006c26",
   "metadata": {},
   "source": [
    "Test 용 DF 및 선행 변수 반영"
   ]
  },
  {
   "cell_type": "code",
   "execution_count": 43,
   "id": "e7947178-5017-4afa-99bb-de9843ac3061",
   "metadata": {
    "tags": []
   },
   "outputs": [],
   "source": [
    "Y_train_df = df[df.ds<=cutoff_date]\n",
    "Y_test_df = df[df.ds>cutoff_date]\n",
    "\n",
    "if len(Y_test_df) > 12:    \n",
    "    Y_test_df = Y_test_df[:12]\n",
    "else:\n",
    "    pass\n",
    "# Y_train_df = df[df.ds<df['ds'].values[len(df.loc[df.ds<=cutoff_date])]]\n",
    "# Y_test_df = df[df.ds>=df['ds'].values[len(df.loc[df.ds<=cutoff_date])]]"
   ]
  },
  {
   "cell_type": "code",
   "execution_count": 44,
   "id": "b6a349e3-e146-47f1-aae9-fd4ca29154e8",
   "metadata": {
    "tags": []
   },
   "outputs": [
    {
     "data": {
      "text/html": [
       "<div>\n",
       "<style scoped>\n",
       "    .dataframe tbody tr th:only-of-type {\n",
       "        vertical-align: middle;\n",
       "    }\n",
       "\n",
       "    .dataframe tbody tr th {\n",
       "        vertical-align: top;\n",
       "    }\n",
       "\n",
       "    .dataframe thead th {\n",
       "        text-align: right;\n",
       "    }\n",
       "</style>\n",
       "<table border=\"1\" class=\"dataframe\">\n",
       "  <thead>\n",
       "    <tr style=\"text-align: right;\">\n",
       "      <th></th>\n",
       "      <th>ds</th>\n",
       "      <th>unique_id</th>\n",
       "      <th>소맥 Durum [미국(생산자 가격)] 현물</th>\n",
       "      <th>커피 Arabicas [미국/유럽] 현물</th>\n",
       "      <th>mn_mb_kg</th>\n",
       "      <th>Pilbara Mineral Limited_price_Low</th>\n",
       "      <th>Pilbara Mineral Limited_price_Adj Close</th>\n",
       "    </tr>\n",
       "  </thead>\n",
       "  <tbody>\n",
       "    <tr>\n",
       "      <th>0</th>\n",
       "      <td>2022-08-31</td>\n",
       "      <td>A</td>\n",
       "      <td>2.686761</td>\n",
       "      <td>2.094098</td>\n",
       "      <td>1.549461</td>\n",
       "      <td>2.037362</td>\n",
       "      <td>1.906047</td>\n",
       "    </tr>\n",
       "    <tr>\n",
       "      <th>1</th>\n",
       "      <td>2022-09-30</td>\n",
       "      <td>A</td>\n",
       "      <td>2.752854</td>\n",
       "      <td>2.185085</td>\n",
       "      <td>0.363279</td>\n",
       "      <td>2.152352</td>\n",
       "      <td>2.410643</td>\n",
       "    </tr>\n",
       "    <tr>\n",
       "      <th>2</th>\n",
       "      <td>2022-10-31</td>\n",
       "      <td>A</td>\n",
       "      <td>2.356296</td>\n",
       "      <td>1.978233</td>\n",
       "      <td>0.161546</td>\n",
       "      <td>1.810962</td>\n",
       "      <td>2.410643</td>\n",
       "    </tr>\n",
       "    <tr>\n",
       "      <th>3</th>\n",
       "      <td>2022-11-30</td>\n",
       "      <td>A</td>\n",
       "      <td>1.596226</td>\n",
       "      <td>2.286805</td>\n",
       "      <td>0.058028</td>\n",
       "      <td>1.273957</td>\n",
       "      <td>2.410643</td>\n",
       "    </tr>\n",
       "    <tr>\n",
       "      <th>4</th>\n",
       "      <td>2022-12-31</td>\n",
       "      <td>A</td>\n",
       "      <td>1.827551</td>\n",
       "      <td>1.905518</td>\n",
       "      <td>-0.086818</td>\n",
       "      <td>1.481963</td>\n",
       "      <td>2.410643</td>\n",
       "    </tr>\n",
       "  </tbody>\n",
       "</table>\n",
       "</div>"
      ],
      "text/plain": [
       "          ds unique_id  소맥 Durum [미국(생산자 가격)] 현물  커피 Arabicas [미국/유럽] 현물  \\\n",
       "0 2022-08-31         A                  2.686761                2.094098   \n",
       "1 2022-09-30         A                  2.752854                2.185085   \n",
       "2 2022-10-31         A                  2.356296                1.978233   \n",
       "3 2022-11-30         A                  1.596226                2.286805   \n",
       "4 2022-12-31         A                  1.827551                1.905518   \n",
       "\n",
       "   mn_mb_kg  Pilbara Mineral Limited_price_Low  \\\n",
       "0  1.549461                           2.037362   \n",
       "1  0.363279                           2.152352   \n",
       "2  0.161546                           1.810962   \n",
       "3  0.058028                           1.273957   \n",
       "4 -0.086818                           1.481963   \n",
       "\n",
       "   Pilbara Mineral Limited_price_Adj Close  \n",
       "0                                 1.906047  \n",
       "1                                 2.410643  \n",
       "2                                 2.410643  \n",
       "3                                 2.410643  \n",
       "4                                 2.410643  "
      ]
     },
     "execution_count": 44,
     "metadata": {},
     "output_type": "execute_result"
    }
   ],
   "source": [
    "future_date_series = pd.date_range(pd.date_range(cutoff_date,periods=2,freq='M')[1],periods=test_period,freq='M')\n",
    "future_date = pd.DataFrame(future_date_series,columns=['ds'])\n",
    "# future_date['unique_id'] = 'A'\n",
    "future_df_temp = pd.concat([raw_y_set_resampled.rename(columns={'date':'ds'}).iloc[-(test_period+len(Y_test_df)):,:],future_date])\n",
    "future_df_temp[futr_list] = future_df_temp[futr_list].shift(test_period)\n",
    "\n",
    "future_df_with_index = list(['ds','unique_id']) + futr_list\n",
    "future_df_with_index\n",
    "\n",
    "future_df_temp = future_df_temp[future_df_temp.columns[future_df_temp.columns.isin(future_df_with_index)]].reset_index(drop=True)\n",
    "future_df_temp.insert(1, 'unique_id', 'A')\n",
    "futr_df = future_df_temp.iloc[-test_period:,:].reset_index(drop=True)\n",
    "futr_df"
   ]
  },
  {
   "cell_type": "markdown",
   "id": "41b52225-6b2d-4ffb-939e-beab3e28281e",
   "metadata": {},
   "source": [
    "#### No 변수"
   ]
  },
  {
   "cell_type": "code",
   "execution_count": 45,
   "id": "e57c2c7e-3a33-4965-adec-88ef864f2038",
   "metadata": {
    "tags": []
   },
   "outputs": [],
   "source": [
    "# horizon = len(Y_test_df)\n",
    "\n",
    "# models = [\n",
    "#           # NBEATS(input_size=5 * horizon, gpus = 1, h=horizon, max_epochs=100),\n",
    "#           # NBEATSx(h=12, input_size=24,\n",
    "#           #       # loss=DistributionLoss(distribution='Normal', level=[80, 90]),\n",
    "#           #       gpus=1,\n",
    "#           #       scaler_type='robust',\n",
    "#           #       stat_exog_list = None,  \n",
    "#           #       futr_exog_list = futr_list,\n",
    "#           #       max_steps=100,\n",
    "#           #       # val_check_steps=10,\n",
    "#           #       # early_stop_patience_steps=2\n",
    "#           #      ),\n",
    "#           NHITS(input_size=5 * horizon, \n",
    "#                 h=horizon+1,\n",
    "#                 gpus = 1,\n",
    "#                 stat_exog_list = None,\n",
    "#                 hist_exog_list=None,\n",
    "#                 futr_exog_list = None,\n",
    "#                 # futr_exog_list = futr_list,\n",
    "#                 # n_freq_downsample=[24, 12, 1],\n",
    "#                 # mlp_units = [[512, 512], [512, 512], [512, 512]],\n",
    "#                 # n_pool_kernel_size = [2, 2, 1],\n",
    "#                 # n_freq_downsample=[24, 12, 1],\n",
    "#                 scaler_type = 'standard',\n",
    "#                 learning_rate=1e-4,\n",
    "#                 pooling_mode = 'MaxPool1d',\n",
    "#                 activation='ReLU',\n",
    "#                 batch_size=128,\n",
    "#                 random_seed=42,\n",
    "#                 max_epochs=200\n",
    "#                ),\n",
    "#            # NHITS(\n",
    "#            #       h,\n",
    "#            #       input_size,\n",
    "#            #       futr_exog_list=None,\n",
    "#            #       hist_exog_list=None,\n",
    "#            #       stat_exog_list=None,\n",
    "#            #       stack_types: list = ['identity', 'identity', 'identity'],\n",
    "#            #       n_blocks: list = [1, 1, 1],\n",
    "#            #       mlp_units: list = [[512, 512], [512, 512], [512, 512]],\n",
    "#            #       n_pool_kernel_size: list = [2, 2, 1],\n",
    "#            #       n_freq_downsample: list = [4, 2, 1],\n",
    "#            #       pooling_mode: str = 'MaxPool1d',\n",
    "#            #       interpolation_mode: str = 'linear',\n",
    "#            #       dropout_prob_theta=0.0,\n",
    "#            #       activation='ReLU',\n",
    "#            #       loss=MAE(),\n",
    "#            #       learning_rate=0.001,\n",
    "#            #       batch_size=32,\n",
    "#            #       windows_batch_size: int = 1024,\n",
    "#            #       step_size: int = 1,\n",
    "#            #       scaler_type='identity',\n",
    "#            #       random_seed=1,\n",
    "#            #       num_workers_loader=0,\n",
    "#            #       drop_last_loader=False,\n",
    "#            #       **trainer_kwargs,\n",
    "    \n",
    "#           # TFT(h=12, \n",
    "#           #     input_size=5 * horizon,\n",
    "#           #     # hidden_size=20,\n",
    "#           #     #loss=DistributionLoss(distribution='Poisson', level=[80, 90]),\n",
    "#           #     #loss=DistributionLoss(distribution='Normal', level=[80, 90]),\n",
    "#           #     #loss=DistributionLoss(distribution='StudentT', level=[80, 90]),\n",
    "#           #     learning_rate=0.005,\n",
    "#           #     stat_exog_list = None,\n",
    "#           #     futr_exog_list = futr_list,\n",
    "#           #     max_steps=100,\n",
    "#           #     gpus=1,\n",
    "#           #     # val_check_steps=10,\n",
    "#           #     # early_stop_patience_steps=10,\n",
    "#           #     scaler_type='robust',\n",
    "#           #     # windows_batch_size=None,\n",
    "#           #     enable_progress_bar=True),\n",
    "#              ]\n",
    "# nforecast_nv = NeuralForecast(models=models, freq='M')\n",
    "# nforecast_nv.fit(df=Y_train_df)\n",
    "# Y_hat_df_nv = nforecast_nv.predict(futr_df=futr_df).reset_index()"
   ]
  },
  {
   "cell_type": "code",
   "execution_count": 46,
   "id": "23a1910f-285e-457a-888e-8ca4fa041ab9",
   "metadata": {
    "tags": []
   },
   "outputs": [],
   "source": [
    "# # Plot predictions\n",
    "# fig, ax = plt.subplots(1, 1, figsize = (20, 7))\n",
    "# Y_hat_df_nv = Y_test_df.merge(Y_hat_df_nv, how='left', on=['unique_id', 'ds'])\n",
    "# plot_df_nv = pd.concat([Y_train_df, Y_hat_df_nv]).set_index('ds')\n",
    "\n",
    "# plot_df_nv[['y', 'NHITS']].plot(ax=ax, linewidth=2, marker='o')\n",
    "# plt.axvline(cutoff_date, color='red')\n",
    "\n",
    "# ax.set_title(f'LI2CO3 Actual and Predicted Plot - Cutoff: {cutoff_date}', fontsize=22)\n",
    "# ax.set_ylabel('LI2CO3_PRICE', fontsize=20)\n",
    "# ax.set_xlabel('Date', fontsize=20)\n",
    "# ax.legend(prop={'size': 15})\n",
    "# ax.grid()\n",
    "\n",
    "# fig.savefig(f'./data/forecast_plot_{cutoff_date}_nv.png')"
   ]
  },
  {
   "cell_type": "code",
   "execution_count": 47,
   "id": "940332ca-281c-41c8-ac8f-2bc9646f7638",
   "metadata": {
    "tags": []
   },
   "outputs": [],
   "source": [
    "# plot_df_nv[['y', 'NHITS']].to_csv(f'./data/forecasting_{cutoff_date}_nv.csv',index=False)"
   ]
  },
  {
   "cell_type": "code",
   "execution_count": 48,
   "id": "431852f2-b89b-40fc-9e76-3a7ea1ae7d81",
   "metadata": {
    "tags": []
   },
   "outputs": [
    {
     "data": {
      "text/plain": [
       "['mn_mb_kg',\n",
       " '소맥 Durum [미국(생산자 가격)] 현물',\n",
       " '커피 Arabicas [미국/유럽] 현물',\n",
       " 'Pilbara Mineral Limited_price_Adj Close',\n",
       " 'Pilbara Mineral Limited_price_Low']"
      ]
     },
     "execution_count": 48,
     "metadata": {},
     "output_type": "execute_result"
    }
   ],
   "source": [
    "futr_list"
   ]
  },
  {
   "cell_type": "markdown",
   "id": "c5b6e49b-657e-48e0-b389-d96d77b28470",
   "metadata": {},
   "source": [
    "#### Yes 변수"
   ]
  },
  {
   "cell_type": "code",
   "execution_count": 54,
   "id": "16b3c015-bcd6-48b4-a847-d414d3e093e7",
   "metadata": {
    "tags": []
   },
   "outputs": [
    {
     "data": {
      "application/vnd.jupyter.widget-view+json": {
       "model_id": "22e20c7e47ec417493dc71803169760a",
       "version_major": 2,
       "version_minor": 0
      },
      "text/plain": [
       "Sanity Checking: 0it [00:00, ?it/s]"
      ]
     },
     "metadata": {},
     "output_type": "display_data"
    },
    {
     "data": {
      "application/vnd.jupyter.widget-view+json": {
       "model_id": "07cabaede34149db896a32c8fe5d4aa0",
       "version_major": 2,
       "version_minor": 0
      },
      "text/plain": [
       "Training: 0it [00:00, ?it/s]"
      ]
     },
     "metadata": {},
     "output_type": "display_data"
    },
    {
     "data": {
      "application/vnd.jupyter.widget-view+json": {
       "model_id": "9d7b8c72a46a40469955679fcc1e0e2b",
       "version_major": 2,
       "version_minor": 0
      },
      "text/plain": [
       "Validation: 0it [00:00, ?it/s]"
      ]
     },
     "metadata": {},
     "output_type": "display_data"
    },
    {
     "data": {
      "application/vnd.jupyter.widget-view+json": {
       "model_id": "1cafa0f726714128aa0efbb0196c3596",
       "version_major": 2,
       "version_minor": 0
      },
      "text/plain": [
       "Sanity Checking: 0it [00:00, ?it/s]"
      ]
     },
     "metadata": {},
     "output_type": "display_data"
    },
    {
     "data": {
      "application/vnd.jupyter.widget-view+json": {
       "model_id": "4319e544bf874829b32cfc1d58e28bcf",
       "version_major": 2,
       "version_minor": 0
      },
      "text/plain": [
       "Training: 0it [00:00, ?it/s]"
      ]
     },
     "metadata": {},
     "output_type": "display_data"
    },
    {
     "data": {
      "application/vnd.jupyter.widget-view+json": {
       "model_id": "db4dabab8a7f4470bff31c13f43d02c4",
       "version_major": 2,
       "version_minor": 0
      },
      "text/plain": [
       "Validation: 0it [00:00, ?it/s]"
      ]
     },
     "metadata": {},
     "output_type": "display_data"
    },
    {
     "data": {
      "application/vnd.jupyter.widget-view+json": {
       "model_id": "bb6b8a76525742d1ae90ba95f5c66948",
       "version_major": 2,
       "version_minor": 0
      },
      "text/plain": [
       "Validation: 0it [00:00, ?it/s]"
      ]
     },
     "metadata": {},
     "output_type": "display_data"
    },
    {
     "data": {
      "application/vnd.jupyter.widget-view+json": {
       "model_id": "fc4cdcd799b944769b0710688afaa8d7",
       "version_major": 2,
       "version_minor": 0
      },
      "text/plain": [
       "Validation: 0it [00:00, ?it/s]"
      ]
     },
     "metadata": {},
     "output_type": "display_data"
    },
    {
     "data": {
      "application/vnd.jupyter.widget-view+json": {
       "model_id": "01977b4b544744fda1b7007f4027f860",
       "version_major": 2,
       "version_minor": 0
      },
      "text/plain": [
       "Validation: 0it [00:00, ?it/s]"
      ]
     },
     "metadata": {},
     "output_type": "display_data"
    },
    {
     "data": {
      "application/vnd.jupyter.widget-view+json": {
       "model_id": "f90ea232abe34e2893bae02f841eae2d",
       "version_major": 2,
       "version_minor": 0
      },
      "text/plain": [
       "Validation: 0it [00:00, ?it/s]"
      ]
     },
     "metadata": {},
     "output_type": "display_data"
    },
    {
     "data": {
      "application/vnd.jupyter.widget-view+json": {
       "model_id": "c53ae8bb4ab749efa4a5e69e73e16828",
       "version_major": 2,
       "version_minor": 0
      },
      "text/plain": [
       "Validation: 0it [00:00, ?it/s]"
      ]
     },
     "metadata": {},
     "output_type": "display_data"
    },
    {
     "data": {
      "application/vnd.jupyter.widget-view+json": {
       "model_id": "72c5317901484bfb99ab779fcc156495",
       "version_major": 2,
       "version_minor": 0
      },
      "text/plain": [
       "Validation: 0it [00:00, ?it/s]"
      ]
     },
     "metadata": {},
     "output_type": "display_data"
    },
    {
     "data": {
      "application/vnd.jupyter.widget-view+json": {
       "model_id": "dd3925abfb604efd8c16048900549f30",
       "version_major": 2,
       "version_minor": 0
      },
      "text/plain": [
       "Validation: 0it [00:00, ?it/s]"
      ]
     },
     "metadata": {},
     "output_type": "display_data"
    },
    {
     "data": {
      "application/vnd.jupyter.widget-view+json": {
       "model_id": "0ec2f522ab124913abe366a63b605663",
       "version_major": 2,
       "version_minor": 0
      },
      "text/plain": [
       "Validation: 0it [00:00, ?it/s]"
      ]
     },
     "metadata": {},
     "output_type": "display_data"
    },
    {
     "data": {
      "application/vnd.jupyter.widget-view+json": {
       "model_id": "2b8e8849ad534ac7ab39d8cc6a7c10eb",
       "version_major": 2,
       "version_minor": 0
      },
      "text/plain": [
       "Validation: 0it [00:00, ?it/s]"
      ]
     },
     "metadata": {},
     "output_type": "display_data"
    },
    {
     "data": {
      "application/vnd.jupyter.widget-view+json": {
       "model_id": "1abd5e1ffa9f4192ab86ad0d4103f50b",
       "version_major": 2,
       "version_minor": 0
      },
      "text/plain": [
       "Predicting: 0it [00:00, ?it/s]"
      ]
     },
     "metadata": {},
     "output_type": "display_data"
    },
    {
     "data": {
      "application/vnd.jupyter.widget-view+json": {
       "model_id": "47faa5258e1945c1b3501cc6aea8b4fa",
       "version_major": 2,
       "version_minor": 0
      },
      "text/plain": [
       "Predicting: 0it [00:00, ?it/s]"
      ]
     },
     "metadata": {},
     "output_type": "display_data"
    }
   ],
   "source": [
    "if len(Y_test_df) > 0:\n",
    "    horizon = len(Y_test_df)\n",
    "else:\n",
    "    horizon = len(futr_df)\n",
    "    \n",
    "if cutoff_date <= '2021-12-31':\n",
    "    flexible = None\n",
    "else:\n",
    "    flexible = futr_list\n",
    "\n",
    "models = [\n",
    "          # NBEATS(input_size=5 * horizon, gpus = 1, h=horizon, max_epochs=100),\n",
    "          NBEATSx(h=horizon, input_size= horizon * 5,\n",
    "                # loss=DistributionLoss(distribution='Normal', level=[80, 90]),\n",
    "                gpus=1,\n",
    "                scaler_type='standard',\n",
    "                # stat_exog_list = None,\n",
    "                hist_exog_list = hist_list,\n",
    "                futr_exog_list = flexible,\n",
    "                learning_rate=1e-4,\n",
    "                mlp_units = [[512, 512], [512, 512], [512, 512]],\n",
    "                batch_size=128,\n",
    "                random_seed=42,\n",
    "                n_blocks=[1, 1, 1],\n",
    "                # val_check_steps=10,\n",
    "                # early_stop_patience_steps=2,\n",
    "                max_steps=1\n",
    "               ),\n",
    "          NHITS(input_size=5 * horizon, \n",
    "                h=horizon,\n",
    "                gpus = 1,\n",
    "                # stat_exog_list = None,\n",
    "                # hist_exog_list = None, #22년 3월부터는 안됌\n",
    "                futr_exog_list = futr_list,\n",
    "                n_blocks = [1, 1, 1],\n",
    "                mlp_units = [[512, 512], [512, 512], [512, 512]],\n",
    "                n_pool_kernel_size = [2, 2, 1],\n",
    "                n_freq_downsample=[24, 12, 1],\n",
    "                pooling_mode = 'MaxPool1d',\n",
    "                scaler_type = 'standard',\n",
    "                learning_rate=1e-4,\n",
    "                activation='ReLU',\n",
    "                batch_size=128,\n",
    "                random_seed=42,\n",
    "                max_epochs=10\n",
    "           # NHITS(input_size = horizon * 5, \n",
    "           #      h=horizon,\n",
    "           #      gpus = 1,\n",
    "           #      scaler_type = 'standard',\n",
    "           #      # stat_exog_list = None,\n",
    "           #      hist_exog_list = hist_list,\n",
    "           #      futr_exog_list = flexible,\n",
    "           #      n_blocks = [1, 1, 1],\n",
    "           #      mlp_units = [[512, 512], [512, 512], [512, 512]],\n",
    "           #      n_pool_kernel_size = [2, 2, 1],\n",
    "           #      n_freq_downsample=[24, 12, 1],\n",
    "           #      learning_rate=1e-4,\n",
    "           #      pooling_mode = 'MaxPool1d',\n",
    "           #      activation='ReLU',\n",
    "           #      batch_size=128,\n",
    "           #      random_seed=42,\n",
    "           #      max_epochs=10\n",
    "               ),\n",
    "          # LSTM(h=horizon, input_size=5 * horizon,\n",
    "          #        # loss=DistributionLoss(distribution='Normal', level=[80, 90]),\n",
    "          #        scaler_type='robust',\n",
    "          #        encoder_n_layers=2,\n",
    "          #        encoder_hidden_size=128,\n",
    "          #        context_size=10,\n",
    "          #        decoder_hidden_size=128,\n",
    "          #        decoder_layers=2,\n",
    "          #        gpus = 1,\n",
    "          #        futr_exog_list=futr_df,\n",
    "          #        hist_exog_list=hist_list,\n",
    "          #        stat_exog_list=None,\n",
    "          #        max_steps=10\n",
    "          #        ),\n",
    "           # NHITS(\n",
    "           #       h,\n",
    "           #       input_size,\n",
    "           #       futr_exog_list=None,\n",
    "           #       hist_exog_list=None,\n",
    "           #       stat_exog_list=None,\n",
    "           #       stack_types: list = ['identity', 'identity', 'identity'],\n",
    "           #       n_blocks: list = [1, 1, 1],\n",
    "           #       mlp_units: list = [[512, 512], [512, 512], [512, 512]],\n",
    "           #       n_pool_kernel_size: list = [2, 2, 1],\n",
    "           #       n_freq_downsample: list = [4, 2, 1],\n",
    "           #       pooling_mode: str = 'MaxPool1d',\n",
    "           #       interpolation_mode: str = 'linear',\n",
    "           #       dropout_prob_theta=0.0,\n",
    "           #       activation='ReLU',\n",
    "           #       loss=MAE(),\n",
    "           #       learning_rate=0.001,\n",
    "           #       batch_size=32,\n",
    "           #       windows_batch_size: int = 1024,\n",
    "           #       step_size: int = 1,\n",
    "           #       scaler_type='identity',\n",
    "           #       random_seed=1,\n",
    "           #       num_workers_loader=0,\n",
    "           #       drop_last_loader=False,\n",
    "           #       **trainer_kwargs,\n",
    "    \n",
    "          # TFT(h=horizon, \n",
    "          #     input_size=5 * horizon,\n",
    "          #     #loss=DistributionLoss(distribution='Poisson', level=[80, 90]),\n",
    "          #     #loss=DistributionLoss(distribution='Normal', level=[80, 90]),\n",
    "          #     #loss=DistributionLoss(distribution='StudentT', level=[80, 90]),\n",
    "          #     # hidden_size=128,\n",
    "          #     # n_head=4, \n",
    "          #     # attn_dropout=0.0,\n",
    "          #     hist_exog_list=hist_list,\n",
    "          #     dropout=0.1,\n",
    "          #     learning_rate=0.005,\n",
    "          #     stat_exog_list = None,\n",
    "          #     futr_exog_list = flexible,\n",
    "          #     gpus=1,\n",
    "          #     # val_check_steps=10,\n",
    "          #     # early_stop_patience_steps=10,\n",
    "          #     scaler_type='robust',\n",
    "          #     # windows_batch_size=None,\n",
    "          #     enable_progress_bar=True,\n",
    "          #     max_steps=10\n",
    "          #    ),\n",
    "             ]\n",
    "nforecast = NeuralForecast(models=models, freq='M')\n",
    "nforecast.fit(df=Y_train_df)\n",
    "Y_hat_df = nforecast.predict(futr_df=futr_df).reset_index()"
   ]
  },
  {
   "cell_type": "code",
   "execution_count": 55,
   "id": "30866cf9-6543-4f6e-802c-febe741b3492",
   "metadata": {
    "tags": []
   },
   "outputs": [
    {
     "data": {
      "image/png": "[encoded data removed]",
      "text/plain": [
       "<Figure size 2000x700 with 1 Axes>"
      ]
     },
     "metadata": {},
     "output_type": "display_data"
    }
   ],
   "source": [
    "# Plot predictions\n",
    "fig, ax = plt.subplots(1, 1, figsize = (20, 7))\n",
    "Y_hat_df = Y_test_df.merge(Y_hat_df, how='left', on=['unique_id', 'ds'])\n",
    "plot_df = pd.concat([Y_train_df, Y_hat_df]).set_index('ds')\n",
    "\n",
    "# plot_df['NHITS_30'] = (plot_df['NHITS'] - 30).copy()\n",
    "plot_df[['y', 'NHITS']].plot(ax=ax, linewidth=2, marker='o')\n",
    "\n",
    "plt.axvline(cutoff_date, color='red')\n",
    "ax.set_title(f'LI2CO3 Actual and Predicted Plot - Cutoff: {cutoff_date}', fontsize=22)\n",
    "ax.set_ylabel('LI2CO3_PRICE', fontsize=20)\n",
    "ax.set_xlabel('Date', fontsize=20)\n",
    "ax.legend(prop={'size': 15})\n",
    "ax.grid()\n",
    "\n",
    "# fig1.savefig(f'./data/forecasting_{cutoff_date}.png', dpi=100)\n",
    "fig.savefig(f'./data/forecast_plot_{cutoff_date}_wv.png')"
   ]
  },
  {
   "cell_type": "code",
   "execution_count": 51,
   "id": "1c6a7b7d-0c76-4d10-ba18-567112c03448",
   "metadata": {
    "tags": []
   },
   "outputs": [
    {
     "data": {
      "text/html": [
       "<div>\n",
       "<style scoped>\n",
       "    .dataframe tbody tr th:only-of-type {\n",
       "        vertical-align: middle;\n",
       "    }\n",
       "\n",
       "    .dataframe tbody tr th {\n",
       "        vertical-align: top;\n",
       "    }\n",
       "\n",
       "    .dataframe thead th {\n",
       "        text-align: right;\n",
       "    }\n",
       "</style>\n",
       "<table border=\"1\" class=\"dataframe\">\n",
       "  <thead>\n",
       "    <tr style=\"text-align: right;\">\n",
       "      <th></th>\n",
       "      <th>unique_id</th>\n",
       "      <th>y</th>\n",
       "      <th>lioh_cif_fast_kg_spot_exchng</th>\n",
       "      <th>Baltic Dry Index (BDI)</th>\n",
       "      <th>Howe Robinson Container Index</th>\n",
       "      <th>Shanghai Containerized Freight Index (SCFI)</th>\n",
       "      <th>옥수수 For Grain [미국(생산자 가격)] 현물</th>\n",
       "      <th>원당 (daily) [ISA] 현물</th>\n",
       "      <th>대두 [미국(생산자 가격)] 현물</th>\n",
       "      <th>대두박 [파라나구아(FOB)] 현물</th>\n",
       "      <th>...</th>\n",
       "      <th>Pilbara Mineral Limited_price_Low</th>\n",
       "      <th>Pilbara Mineral Limited_price_Close</th>\n",
       "      <th>Pilbara Mineral Limited_price_Adj Close</th>\n",
       "      <th>Allkem Limited (AKE.AX)_price_Open</th>\n",
       "      <th>Allkem Limited (AKE.AX)_price_High</th>\n",
       "      <th>Allkem Limited (AKE.AX)_price_Low</th>\n",
       "      <th>Allkem Limited (AKE.AX)_price_Close</th>\n",
       "      <th>Allkem Limited (AKE.AX)_price_Adj Close</th>\n",
       "      <th>NBEATSx</th>\n",
       "      <th>NHITS</th>\n",
       "    </tr>\n",
       "    <tr>\n",
       "      <th>ds</th>\n",
       "      <th></th>\n",
       "      <th></th>\n",
       "      <th></th>\n",
       "      <th></th>\n",
       "      <th></th>\n",
       "      <th></th>\n",
       "      <th></th>\n",
       "      <th></th>\n",
       "      <th></th>\n",
       "      <th></th>\n",
       "      <th></th>\n",
       "      <th></th>\n",
       "      <th></th>\n",
       "      <th></th>\n",
       "      <th></th>\n",
       "      <th></th>\n",
       "      <th></th>\n",
       "      <th></th>\n",
       "      <th></th>\n",
       "      <th></th>\n",
       "      <th></th>\n",
       "    </tr>\n",
       "  </thead>\n",
       "  <tbody>\n",
       "    <tr>\n",
       "      <th>2016-01-31</th>\n",
       "      <td>A</td>\n",
       "      <td>20.177268</td>\n",
       "      <td>-0.237734</td>\n",
       "      <td>-1.302468</td>\n",
       "      <td>-0.644064</td>\n",
       "      <td>-0.195705</td>\n",
       "      <td>-0.461301</td>\n",
       "      <td>-0.468886</td>\n",
       "      <td>0.391356</td>\n",
       "      <td>-1.226492</td>\n",
       "      <td>...</td>\n",
       "      <td>-0.830830</td>\n",
       "      <td>-0.827825</td>\n",
       "      <td>-0.397665</td>\n",
       "      <td>-0.915916</td>\n",
       "      <td>-0.911882</td>\n",
       "      <td>-0.921663</td>\n",
       "      <td>-0.909069</td>\n",
       "      <td>-0.909069</td>\n",
       "      <td>NaN</td>\n",
       "      <td>NaN</td>\n",
       "    </tr>\n",
       "    <tr>\n",
       "      <th>2016-02-29</th>\n",
       "      <td>A</td>\n",
       "      <td>23.306868</td>\n",
       "      <td>-0.054803</td>\n",
       "      <td>-1.396112</td>\n",
       "      <td>-0.645288</td>\n",
       "      <td>-0.182527</td>\n",
       "      <td>-0.532459</td>\n",
       "      <td>-0.733272</td>\n",
       "      <td>0.138779</td>\n",
       "      <td>-1.332251</td>\n",
       "      <td>...</td>\n",
       "      <td>-0.752678</td>\n",
       "      <td>-0.750469</td>\n",
       "      <td>-0.397665</td>\n",
       "      <td>-0.910118</td>\n",
       "      <td>-0.915569</td>\n",
       "      <td>-0.908508</td>\n",
       "      <td>-0.916207</td>\n",
       "      <td>-0.916207</td>\n",
       "      <td>NaN</td>\n",
       "      <td>NaN</td>\n",
       "    </tr>\n",
       "    <tr>\n",
       "      <th>2016-03-31</th>\n",
       "      <td>A</td>\n",
       "      <td>25.223010</td>\n",
       "      <td>0.133909</td>\n",
       "      <td>-1.305967</td>\n",
       "      <td>-0.644523</td>\n",
       "      <td>-0.362815</td>\n",
       "      <td>-0.532459</td>\n",
       "      <td>-0.012903</td>\n",
       "      <td>0.099921</td>\n",
       "      <td>-1.436497</td>\n",
       "      <td>...</td>\n",
       "      <td>-0.733675</td>\n",
       "      <td>-0.731680</td>\n",
       "      <td>-0.397665</td>\n",
       "      <td>-0.833402</td>\n",
       "      <td>-0.834459</td>\n",
       "      <td>-0.834589</td>\n",
       "      <td>-0.834453</td>\n",
       "      <td>-0.834453</td>\n",
       "      <td>NaN</td>\n",
       "      <td>NaN</td>\n",
       "    </tr>\n",
       "    <tr>\n",
       "      <th>2016-04-30</th>\n",
       "      <td>A</td>\n",
       "      <td>25.308243</td>\n",
       "      <td>0.173425</td>\n",
       "      <td>-1.041598</td>\n",
       "      <td>-0.648195</td>\n",
       "      <td>-0.472294</td>\n",
       "      <td>-0.524553</td>\n",
       "      <td>-0.083130</td>\n",
       "      <td>-0.003701</td>\n",
       "      <td>-1.168180</td>\n",
       "      <td>...</td>\n",
       "      <td>-0.525438</td>\n",
       "      <td>-0.509230</td>\n",
       "      <td>-0.397665</td>\n",
       "      <td>-0.691659</td>\n",
       "      <td>-0.695181</td>\n",
       "      <td>-0.693237</td>\n",
       "      <td>-0.700107</td>\n",
       "      <td>-0.700107</td>\n",
       "      <td>NaN</td>\n",
       "      <td>NaN</td>\n",
       "    </tr>\n",
       "    <tr>\n",
       "      <th>2016-05-31</th>\n",
       "      <td>A</td>\n",
       "      <td>24.875099</td>\n",
       "      <td>0.107095</td>\n",
       "      <td>-1.026945</td>\n",
       "      <td>-0.645747</td>\n",
       "      <td>-0.487834</td>\n",
       "      <td>-0.445488</td>\n",
       "      <td>0.514051</td>\n",
       "      <td>-0.074941</td>\n",
       "      <td>0.104912</td>\n",
       "      <td>...</td>\n",
       "      <td>-0.391346</td>\n",
       "      <td>-0.377609</td>\n",
       "      <td>-0.397665</td>\n",
       "      <td>-0.497700</td>\n",
       "      <td>-0.494779</td>\n",
       "      <td>-0.496022</td>\n",
       "      <td>-0.493870</td>\n",
       "      <td>-0.493870</td>\n",
       "      <td>NaN</td>\n",
       "      <td>NaN</td>\n",
       "    </tr>\n",
       "    <tr>\n",
       "      <th>...</th>\n",
       "      <td>...</td>\n",
       "      <td>...</td>\n",
       "      <td>...</td>\n",
       "      <td>...</td>\n",
       "      <td>...</td>\n",
       "      <td>...</td>\n",
       "      <td>...</td>\n",
       "      <td>...</td>\n",
       "      <td>...</td>\n",
       "      <td>...</td>\n",
       "      <td>...</td>\n",
       "      <td>...</td>\n",
       "      <td>...</td>\n",
       "      <td>...</td>\n",
       "      <td>...</td>\n",
       "      <td>...</td>\n",
       "      <td>...</td>\n",
       "      <td>...</td>\n",
       "      <td>...</td>\n",
       "      <td>...</td>\n",
       "      <td>...</td>\n",
       "    </tr>\n",
       "    <tr>\n",
       "      <th>2022-08-31</th>\n",
       "      <td>A</td>\n",
       "      <td>73.000000</td>\n",
       "      <td>2.420773</td>\n",
       "      <td>-0.092744</td>\n",
       "      <td>2.119559</td>\n",
       "      <td>2.773368</td>\n",
       "      <td>2.369193</td>\n",
       "      <td>0.793818</td>\n",
       "      <td>2.593314</td>\n",
       "      <td>1.844361</td>\n",
       "      <td>...</td>\n",
       "      <td>2.245839</td>\n",
       "      <td>2.264053</td>\n",
       "      <td>2.410643</td>\n",
       "      <td>2.144853</td>\n",
       "      <td>2.155770</td>\n",
       "      <td>2.181382</td>\n",
       "      <td>2.184215</td>\n",
       "      <td>2.184215</td>\n",
       "      <td>NaN</td>\n",
       "      <td>86.064316</td>\n",
       "    </tr>\n",
       "    <tr>\n",
       "      <th>2022-09-30</th>\n",
       "      <td>A</td>\n",
       "      <td>74.047619</td>\n",
       "      <td>2.507937</td>\n",
       "      <td>-0.004062</td>\n",
       "      <td>1.188816</td>\n",
       "      <td>3.024986</td>\n",
       "      <td>2.250597</td>\n",
       "      <td>0.750690</td>\n",
       "      <td>1.621862</td>\n",
       "      <td>1.935267</td>\n",
       "      <td>...</td>\n",
       "      <td>2.084336</td>\n",
       "      <td>2.084871</td>\n",
       "      <td>1.970948</td>\n",
       "      <td>2.828439</td>\n",
       "      <td>2.823884</td>\n",
       "      <td>2.834908</td>\n",
       "      <td>2.836251</td>\n",
       "      <td>2.836251</td>\n",
       "      <td>NaN</td>\n",
       "      <td>85.829361</td>\n",
       "    </tr>\n",
       "    <tr>\n",
       "      <th>2022-10-31</th>\n",
       "      <td>A</td>\n",
       "      <td>77.673913</td>\n",
       "      <td>2.664680</td>\n",
       "      <td>0.381286</td>\n",
       "      <td>0.204375</td>\n",
       "      <td>3.036207</td>\n",
       "      <td>1.784119</td>\n",
       "      <td>0.691518</td>\n",
       "      <td>1.427572</td>\n",
       "      <td>1.447594</td>\n",
       "      <td>...</td>\n",
       "      <td>2.354164</td>\n",
       "      <td>2.362142</td>\n",
       "      <td>2.222022</td>\n",
       "      <td>2.765597</td>\n",
       "      <td>2.782167</td>\n",
       "      <td>2.764528</td>\n",
       "      <td>2.761120</td>\n",
       "      <td>2.761120</td>\n",
       "      <td>NaN</td>\n",
       "      <td>85.927330</td>\n",
       "    </tr>\n",
       "    <tr>\n",
       "      <th>2022-11-30</th>\n",
       "      <td>A</td>\n",
       "      <td>80.818182</td>\n",
       "      <td>2.828879</td>\n",
       "      <td>-0.226024</td>\n",
       "      <td>-0.008117</td>\n",
       "      <td>3.004479</td>\n",
       "      <td>1.784119</td>\n",
       "      <td>1.005474</td>\n",
       "      <td>1.621862</td>\n",
       "      <td>1.346924</td>\n",
       "      <td>...</td>\n",
       "      <td>2.455263</td>\n",
       "      <td>2.452607</td>\n",
       "      <td>2.303940</td>\n",
       "      <td>2.830058</td>\n",
       "      <td>2.817705</td>\n",
       "      <td>2.816214</td>\n",
       "      <td>2.795982</td>\n",
       "      <td>2.795982</td>\n",
       "      <td>NaN</td>\n",
       "      <td>84.977592</td>\n",
       "    </tr>\n",
       "    <tr>\n",
       "      <th>2022-12-31</th>\n",
       "      <td>A</td>\n",
       "      <td>80.882353</td>\n",
       "      <td>2.867154</td>\n",
       "      <td>-0.043847</td>\n",
       "      <td>-0.041773</td>\n",
       "      <td>3.301048</td>\n",
       "      <td>1.784119</td>\n",
       "      <td>1.131385</td>\n",
       "      <td>1.816153</td>\n",
       "      <td>1.346924</td>\n",
       "      <td>...</td>\n",
       "      <td>1.981728</td>\n",
       "      <td>1.959693</td>\n",
       "      <td>1.857597</td>\n",
       "      <td>2.230517</td>\n",
       "      <td>2.206089</td>\n",
       "      <td>2.211335</td>\n",
       "      <td>2.207568</td>\n",
       "      <td>2.207568</td>\n",
       "      <td>NaN</td>\n",
       "      <td>85.826988</td>\n",
       "    </tr>\n",
       "  </tbody>\n",
       "</table>\n",
       "<p>84 rows × 926 columns</p>\n",
       "</div>"
      ],
      "text/plain": [
       "           unique_id          y  lioh_cif_fast_kg_spot_exchng  \\\n",
       "ds                                                              \n",
       "2016-01-31         A  20.177268                     -0.237734   \n",
       "2016-02-29         A  23.306868                     -0.054803   \n",
       "2016-03-31         A  25.223010                      0.133909   \n",
       "2016-04-30         A  25.308243                      0.173425   \n",
       "2016-05-31         A  24.875099                      0.107095   \n",
       "...              ...        ...                           ...   \n",
       "2022-08-31         A  73.000000                      2.420773   \n",
       "2022-09-30         A  74.047619                      2.507937   \n",
       "2022-10-31         A  77.673913                      2.664680   \n",
       "2022-11-30         A  80.818182                      2.828879   \n",
       "2022-12-31         A  80.882353                      2.867154   \n",
       "\n",
       "            Baltic Dry Index (BDI)  Howe Robinson Container Index  \\\n",
       "ds                                                                  \n",
       "2016-01-31               -1.302468                      -0.644064   \n",
       "2016-02-29               -1.396112                      -0.645288   \n",
       "2016-03-31               -1.305967                      -0.644523   \n",
       "2016-04-30               -1.041598                      -0.648195   \n",
       "2016-05-31               -1.026945                      -0.645747   \n",
       "...                            ...                            ...   \n",
       "2022-08-31               -0.092744                       2.119559   \n",
       "2022-09-30               -0.004062                       1.188816   \n",
       "2022-10-31                0.381286                       0.204375   \n",
       "2022-11-30               -0.226024                      -0.008117   \n",
       "2022-12-31               -0.043847                      -0.041773   \n",
       "\n",
       "            Shanghai Containerized Freight Index (SCFI)  \\\n",
       "ds                                                        \n",
       "2016-01-31                                    -0.195705   \n",
       "2016-02-29                                    -0.182527   \n",
       "2016-03-31                                    -0.362815   \n",
       "2016-04-30                                    -0.472294   \n",
       "2016-05-31                                    -0.487834   \n",
       "...                                                 ...   \n",
       "2022-08-31                                     2.773368   \n",
       "2022-09-30                                     3.024986   \n",
       "2022-10-31                                     3.036207   \n",
       "2022-11-30                                     3.004479   \n",
       "2022-12-31                                     3.301048   \n",
       "\n",
       "            옥수수 For Grain [미국(생산자 가격)] 현물  원당 (daily) [ISA] 현물  \\\n",
       "ds                                                               \n",
       "2016-01-31                      -0.461301            -0.468886   \n",
       "2016-02-29                      -0.532459            -0.733272   \n",
       "2016-03-31                      -0.532459            -0.012903   \n",
       "2016-04-30                      -0.524553            -0.083130   \n",
       "2016-05-31                      -0.445488             0.514051   \n",
       "...                                   ...                  ...   \n",
       "2022-08-31                       2.369193             0.793818   \n",
       "2022-09-30                       2.250597             0.750690   \n",
       "2022-10-31                       1.784119             0.691518   \n",
       "2022-11-30                       1.784119             1.005474   \n",
       "2022-12-31                       1.784119             1.131385   \n",
       "\n",
       "            대두 [미국(생산자 가격)] 현물  대두박 [파라나구아(FOB)] 현물  ...  \\\n",
       "ds                                                   ...   \n",
       "2016-01-31            0.391356            -1.226492  ...   \n",
       "2016-02-29            0.138779            -1.332251  ...   \n",
       "2016-03-31            0.099921            -1.436497  ...   \n",
       "2016-04-30           -0.003701            -1.168180  ...   \n",
       "2016-05-31           -0.074941             0.104912  ...   \n",
       "...                        ...                  ...  ...   \n",
       "2022-08-31            2.593314             1.844361  ...   \n",
       "2022-09-30            1.621862             1.935267  ...   \n",
       "2022-10-31            1.427572             1.447594  ...   \n",
       "2022-11-30            1.621862             1.346924  ...   \n",
       "2022-12-31            1.816153             1.346924  ...   \n",
       "\n",
       "            Pilbara Mineral Limited_price_Low  \\\n",
       "ds                                              \n",
       "2016-01-31                          -0.830830   \n",
       "2016-02-29                          -0.752678   \n",
       "2016-03-31                          -0.733675   \n",
       "2016-04-30                          -0.525438   \n",
       "2016-05-31                          -0.391346   \n",
       "...                                       ...   \n",
       "2022-08-31                           2.245839   \n",
       "2022-09-30                           2.084336   \n",
       "2022-10-31                           2.354164   \n",
       "2022-11-30                           2.455263   \n",
       "2022-12-31                           1.981728   \n",
       "\n",
       "            Pilbara Mineral Limited_price_Close  \\\n",
       "ds                                                \n",
       "2016-01-31                            -0.827825   \n",
       "2016-02-29                            -0.750469   \n",
       "2016-03-31                            -0.731680   \n",
       "2016-04-30                            -0.509230   \n",
       "2016-05-31                            -0.377609   \n",
       "...                                         ...   \n",
       "2022-08-31                             2.264053   \n",
       "2022-09-30                             2.084871   \n",
       "2022-10-31                             2.362142   \n",
       "2022-11-30                             2.452607   \n",
       "2022-12-31                             1.959693   \n",
       "\n",
       "            Pilbara Mineral Limited_price_Adj Close  \\\n",
       "ds                                                    \n",
       "2016-01-31                                -0.397665   \n",
       "2016-02-29                                -0.397665   \n",
       "2016-03-31                                -0.397665   \n",
       "2016-04-30                                -0.397665   \n",
       "2016-05-31                                -0.397665   \n",
       "...                                             ...   \n",
       "2022-08-31                                 2.410643   \n",
       "2022-09-30                                 1.970948   \n",
       "2022-10-31                                 2.222022   \n",
       "2022-11-30                                 2.303940   \n",
       "2022-12-31                                 1.857597   \n",
       "\n",
       "            Allkem Limited (AKE.AX)_price_Open  \\\n",
       "ds                                               \n",
       "2016-01-31                           -0.915916   \n",
       "2016-02-29                           -0.910118   \n",
       "2016-03-31                           -0.833402   \n",
       "2016-04-30                           -0.691659   \n",
       "2016-05-31                           -0.497700   \n",
       "...                                        ...   \n",
       "2022-08-31                            2.144853   \n",
       "2022-09-30                            2.828439   \n",
       "2022-10-31                            2.765597   \n",
       "2022-11-30                            2.830058   \n",
       "2022-12-31                            2.230517   \n",
       "\n",
       "            Allkem Limited (AKE.AX)_price_High  \\\n",
       "ds                                               \n",
       "2016-01-31                           -0.911882   \n",
       "2016-02-29                           -0.915569   \n",
       "2016-03-31                           -0.834459   \n",
       "2016-04-30                           -0.695181   \n",
       "2016-05-31                           -0.494779   \n",
       "...                                        ...   \n",
       "2022-08-31                            2.155770   \n",
       "2022-09-30                            2.823884   \n",
       "2022-10-31                            2.782167   \n",
       "2022-11-30                            2.817705   \n",
       "2022-12-31                            2.206089   \n",
       "\n",
       "            Allkem Limited (AKE.AX)_price_Low  \\\n",
       "ds                                              \n",
       "2016-01-31                          -0.921663   \n",
       "2016-02-29                          -0.908508   \n",
       "2016-03-31                          -0.834589   \n",
       "2016-04-30                          -0.693237   \n",
       "2016-05-31                          -0.496022   \n",
       "...                                       ...   \n",
       "2022-08-31                           2.181382   \n",
       "2022-09-30                           2.834908   \n",
       "2022-10-31                           2.764528   \n",
       "2022-11-30                           2.816214   \n",
       "2022-12-31                           2.211335   \n",
       "\n",
       "            Allkem Limited (AKE.AX)_price_Close  \\\n",
       "ds                                                \n",
       "2016-01-31                            -0.909069   \n",
       "2016-02-29                            -0.916207   \n",
       "2016-03-31                            -0.834453   \n",
       "2016-04-30                            -0.700107   \n",
       "2016-05-31                            -0.493870   \n",
       "...                                         ...   \n",
       "2022-08-31                             2.184215   \n",
       "2022-09-30                             2.836251   \n",
       "2022-10-31                             2.761120   \n",
       "2022-11-30                             2.795982   \n",
       "2022-12-31                             2.207568   \n",
       "\n",
       "            Allkem Limited (AKE.AX)_price_Adj Close  NBEATSx      NHITS  \n",
       "ds                                                                       \n",
       "2016-01-31                                -0.909069      NaN        NaN  \n",
       "2016-02-29                                -0.916207      NaN        NaN  \n",
       "2016-03-31                                -0.834453      NaN        NaN  \n",
       "2016-04-30                                -0.700107      NaN        NaN  \n",
       "2016-05-31                                -0.493870      NaN        NaN  \n",
       "...                                             ...      ...        ...  \n",
       "2022-08-31                                 2.184215      NaN  86.064316  \n",
       "2022-09-30                                 2.836251      NaN  85.829361  \n",
       "2022-10-31                                 2.761120      NaN  85.927330  \n",
       "2022-11-30                                 2.795982      NaN  84.977592  \n",
       "2022-12-31                                 2.207568      NaN  85.826988  \n",
       "\n",
       "[84 rows x 926 columns]"
      ]
     },
     "execution_count": 51,
     "metadata": {},
     "output_type": "execute_result"
    }
   ],
   "source": [
    "plot_df"
   ]
  },
  {
   "cell_type": "code",
   "execution_count": 52,
   "id": "b570be7d-7248-4615-b95f-fbb9a56ba9fc",
   "metadata": {
    "tags": []
   },
   "outputs": [],
   "source": [
    "plot_df[['y', 'NHITS']].to_csv(f'./data/forecast_plot_{cutoff_date}_wv.csv',index=False)"
   ]
  },
  {
   "cell_type": "code",
   "execution_count": 53,
   "id": "c1e136c9-b15c-4364-8515-ee8c446c2ca5",
   "metadata": {},
   "outputs": [],
   "source": [
    "# pip install jupyterlab_widgets"
   ]
  }
 ],
 "metadata": {
  "kernelspec": {
   "display_name": "Python 3 (ipykernel)",
   "language": "python",
   "name": "python3"
  },
  "language_info": {
   "codemirror_mode": {
    "name": "ipython",
    "version": 3
   },
   "file_extension": ".py",
   "mimetype": "text/x-python",
   "name": "python",
   "nbconvert_exporter": "python",
   "pygments_lexer": "ipython3",
   "version": "3.8.16"
  }
 },
 "nbformat": 4,
 "nbformat_minor": 5
}
