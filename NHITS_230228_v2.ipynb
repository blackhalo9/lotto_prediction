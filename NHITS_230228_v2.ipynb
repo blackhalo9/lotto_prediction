{
 "cells": [
  {
   "cell_type": "code",
   "execution_count": 193,
   "id": "2c709f33-1bfc-4a02-86f6-cd5c76467514",
   "metadata": {
    "tags": []
   },
   "outputs": [
    {
     "name": "stdout",
     "output_type": "stream",
     "text": [
      "C:\\Users\\ESKO\\PYWORK\\NHITS\n"
     ]
    }
   ],
   "source": [
    "import os, torch\n",
    "os.chdir(\"/Users/ESKO/PYWORK/NHITS\")\n",
    "print(os.getcwd())"
   ]
  },
  {
   "cell_type": "code",
   "execution_count": 194,
   "id": "1130c92b-7119-401d-8c4e-99b9474f1fb0",
   "metadata": {
    "tags": []
   },
   "outputs": [],
   "source": [
    "import numpy as np\n",
    "import pandas as pd\n",
    "import pytorch_lightning as pl\n",
    "import matplotlib.pyplot as plt\n",
    "\n",
    "from ray import tune\n",
    "from sklearn.preprocessing import StandardScaler\n",
    "\n",
    "from neuralforecast import NeuralForecast\n",
    "from neuralforecast.auto import AutoTFT\n",
    "from neuralforecast.models import NBEATS, NBEATSx, NHITS, TFT, LSTM\n",
    "from neuralforecast.losses.pytorch import MQLoss, DistributionLoss, GMM, PMM\n",
    "from neuralforecast.tsdataset import TimeSeriesDataset\n",
    "from neuralforecast.losses.pytorch import MAE"
   ]
  },
  {
   "cell_type": "markdown",
   "id": "092e974b-728b-448b-aca0-03a9c91b7fff",
   "metadata": {},
   "source": [
    "## <기준날짜 및 예측 기간 설정>"
   ]
  },
  {
   "cell_type": "code",
   "execution_count": 467,
   "id": "f91c564f-7439-4f72-9730-ed3e3ccdd549",
   "metadata": {
    "tags": []
   },
   "outputs": [],
   "source": [
    "cutoff_date = '2021-12-31' ## len = 65\n",
    "test_period = 12  ## 예측 기간 (월)\n",
    "corr_rate = 0.7 ## Lag corr rate\n",
    "hist_corr_rate = 0.9 ## Lag corr rate\n",
    "future_variable_limit = 2\n",
    "hist_variable_limit = 5"
   ]
  },
  {
   "cell_type": "markdown",
   "id": "60de4ab8-1f14-4139-951e-77f82ba87471",
   "metadata": {},
   "source": [
    "## <원 data set>"
   ]
  },
  {
   "cell_type": "code",
   "execution_count": 468,
   "id": "01ff22bb-7a0d-48ea-9ba3-2c3531f1361f",
   "metadata": {
    "tags": []
   },
   "outputs": [],
   "source": [
    "df = pd.read_csv('./data/metal_pst.csv')\n",
    "df.rename(columns={'date':'ds'},inplace=True)\n",
    "df.rename(columns={'li2co3_cif_fast_kg_spot_exchng':'y'},inplace=True)\n",
    "df['ds'] = pd.to_datetime(df['ds'], format='%Y-%m-%d')\n",
    "\n",
    "df_tgt = df.iloc[:,3:]\n",
    "scaler = StandardScaler()\n",
    "scaler.fit(df_tgt)\n",
    "arr = scaler.transform(df_tgt)\n",
    "df_tmp = pd.DataFrame(arr, columns=df_tgt.columns)\n",
    "df = pd.concat([df.iloc[:,:3],df_tmp], axis=1)\n",
    "\n",
    "raw_y_set_resampled = df.copy()\n",
    "raw_y_set_resampled.rename(columns={'ds':'date'},inplace=True)\n",
    "raw_y_set_resampled.rename(columns={'lioh_cif_fast_kg_spot_exchng':'y2'},inplace=True)\n",
    "del raw_y_set_resampled['unique_id']"
   ]
  },
  {
   "cell_type": "markdown",
   "id": "8a1f5486-9f68-4806-beb7-22fa9219aad0",
   "metadata": {},
   "source": [
    "## Feature shift"
   ]
  },
  {
   "cell_type": "code",
   "execution_count": 469,
   "id": "f178475b-3d21-42b8-a56a-9fe5a627349f",
   "metadata": {
    "tags": []
   },
   "outputs": [
    {
     "name": "stdout",
     "output_type": "stream",
     "text": [
      "CPU times: total: 4.98 s\n",
      "Wall time: 20.8 s\n"
     ]
    }
   ],
   "source": [
    "%%time\n",
    "\n",
    "raw_y_set_resampled = raw_y_set_resampled[raw_y_set_resampled.date<=cutoff_date]\n",
    "raw_y_set_shifted_merged = raw_y_set_resampled['date']\n",
    "\n",
    "for i in range(len(raw_y_set_resampled.columns)):\n",
    "    if i == len(raw_y_set_resampled.columns) - 1:\n",
    "        break\n",
    "    raw_y_set_shifted = raw_y_set_resampled.iloc[:,[0,i+1]].dropna()\n",
    "    for j in range(test_period-1,test_period):\n",
    "        raw_y_set_shifted = pd.concat([raw_y_set_shifted, (raw_y_set_shifted.iloc[:,1].shift(j+1).rename(raw_y_set_resampled.columns[i+1] + '_' +str(j+1)+ '_'))],axis=1)\n",
    "        raw_y_set_shifted_merged = pd.merge(raw_y_set_shifted_merged, raw_y_set_shifted, how= 'outer') \n",
    "        if j == len(raw_y_set_shifted.iloc[:,1]) -2 :\n",
    "            break\n",
    "# raw_y_set_shifted_merged.to_csv('./data/raw_y_set_shifted_merged.csv', encoding='cp949')"
   ]
  },
  {
   "cell_type": "markdown",
   "id": "4889fa8d-cdb7-4a0c-a705-894d1746bdb7",
   "metadata": {},
   "source": [
    "#### 해당 기간에서의 lag corr best"
   ]
  },
  {
   "cell_type": "code",
   "execution_count": 470,
   "id": "36ca6511-1107-4780-8b99-0a65cb197401",
   "metadata": {
    "tags": []
   },
   "outputs": [
    {
     "data": {
      "text/html": [
       "<div>\n",
       "<style scoped>\n",
       "    .dataframe tbody tr th:only-of-type {\n",
       "        vertical-align: middle;\n",
       "    }\n",
       "\n",
       "    .dataframe tbody tr th {\n",
       "        vertical-align: top;\n",
       "    }\n",
       "\n",
       "    .dataframe thead th {\n",
       "        text-align: right;\n",
       "    }\n",
       "</style>\n",
       "<table border=\"1\" class=\"dataframe\">\n",
       "  <thead>\n",
       "    <tr style=\"text-align: right;\">\n",
       "      <th></th>\n",
       "      <th>date</th>\n",
       "      <th>y</th>\n",
       "      <th>y_12_</th>\n",
       "      <th>y2</th>\n",
       "      <th>y2_12_</th>\n",
       "      <th>Baltic Dry Index (BDI)</th>\n",
       "      <th>Baltic Dry Index (BDI)_12_</th>\n",
       "      <th>Howe Robinson Container Index</th>\n",
       "      <th>Howe Robinson Container Index_12_</th>\n",
       "      <th>Shanghai Containerized Freight Index (SCFI)</th>\n",
       "      <th>...</th>\n",
       "      <th>Allkem Limited (AKE.AX)_price_Open</th>\n",
       "      <th>Allkem Limited (AKE.AX)_price_Open_12_</th>\n",
       "      <th>Allkem Limited (AKE.AX)_price_High</th>\n",
       "      <th>Allkem Limited (AKE.AX)_price_High_12_</th>\n",
       "      <th>Allkem Limited (AKE.AX)_price_Low</th>\n",
       "      <th>Allkem Limited (AKE.AX)_price_Low_12_</th>\n",
       "      <th>Allkem Limited (AKE.AX)_price_Close</th>\n",
       "      <th>Allkem Limited (AKE.AX)_price_Close_12_</th>\n",
       "      <th>Allkem Limited (AKE.AX)_price_Adj Close</th>\n",
       "      <th>Allkem Limited (AKE.AX)_price_Adj Close_12_</th>\n",
       "    </tr>\n",
       "  </thead>\n",
       "  <tbody>\n",
       "    <tr>\n",
       "      <th>0</th>\n",
       "      <td>2016-01-31</td>\n",
       "      <td>20.177268</td>\n",
       "      <td>NaN</td>\n",
       "      <td>-0.237734</td>\n",
       "      <td>NaN</td>\n",
       "      <td>-1.302468</td>\n",
       "      <td>NaN</td>\n",
       "      <td>-0.644064</td>\n",
       "      <td>NaN</td>\n",
       "      <td>-0.195705</td>\n",
       "      <td>...</td>\n",
       "      <td>-0.915916</td>\n",
       "      <td>NaN</td>\n",
       "      <td>-0.911882</td>\n",
       "      <td>NaN</td>\n",
       "      <td>-0.921663</td>\n",
       "      <td>NaN</td>\n",
       "      <td>-0.909069</td>\n",
       "      <td>NaN</td>\n",
       "      <td>-0.909069</td>\n",
       "      <td>NaN</td>\n",
       "    </tr>\n",
       "    <tr>\n",
       "      <th>1</th>\n",
       "      <td>2016-02-29</td>\n",
       "      <td>23.306868</td>\n",
       "      <td>NaN</td>\n",
       "      <td>-0.054803</td>\n",
       "      <td>NaN</td>\n",
       "      <td>-1.396112</td>\n",
       "      <td>NaN</td>\n",
       "      <td>-0.645288</td>\n",
       "      <td>NaN</td>\n",
       "      <td>-0.182527</td>\n",
       "      <td>...</td>\n",
       "      <td>-0.910118</td>\n",
       "      <td>NaN</td>\n",
       "      <td>-0.915569</td>\n",
       "      <td>NaN</td>\n",
       "      <td>-0.908508</td>\n",
       "      <td>NaN</td>\n",
       "      <td>-0.916207</td>\n",
       "      <td>NaN</td>\n",
       "      <td>-0.916207</td>\n",
       "      <td>NaN</td>\n",
       "    </tr>\n",
       "    <tr>\n",
       "      <th>2</th>\n",
       "      <td>2016-03-31</td>\n",
       "      <td>25.223010</td>\n",
       "      <td>NaN</td>\n",
       "      <td>0.133909</td>\n",
       "      <td>NaN</td>\n",
       "      <td>-1.305967</td>\n",
       "      <td>NaN</td>\n",
       "      <td>-0.644523</td>\n",
       "      <td>NaN</td>\n",
       "      <td>-0.362815</td>\n",
       "      <td>...</td>\n",
       "      <td>-0.833402</td>\n",
       "      <td>NaN</td>\n",
       "      <td>-0.834459</td>\n",
       "      <td>NaN</td>\n",
       "      <td>-0.834589</td>\n",
       "      <td>NaN</td>\n",
       "      <td>-0.834453</td>\n",
       "      <td>NaN</td>\n",
       "      <td>-0.834453</td>\n",
       "      <td>NaN</td>\n",
       "    </tr>\n",
       "    <tr>\n",
       "      <th>3</th>\n",
       "      <td>2016-04-30</td>\n",
       "      <td>25.308243</td>\n",
       "      <td>NaN</td>\n",
       "      <td>0.173425</td>\n",
       "      <td>NaN</td>\n",
       "      <td>-1.041598</td>\n",
       "      <td>NaN</td>\n",
       "      <td>-0.648195</td>\n",
       "      <td>NaN</td>\n",
       "      <td>-0.472294</td>\n",
       "      <td>...</td>\n",
       "      <td>-0.691659</td>\n",
       "      <td>NaN</td>\n",
       "      <td>-0.695181</td>\n",
       "      <td>NaN</td>\n",
       "      <td>-0.693237</td>\n",
       "      <td>NaN</td>\n",
       "      <td>-0.700107</td>\n",
       "      <td>NaN</td>\n",
       "      <td>-0.700107</td>\n",
       "      <td>NaN</td>\n",
       "    </tr>\n",
       "    <tr>\n",
       "      <th>4</th>\n",
       "      <td>2016-05-31</td>\n",
       "      <td>24.875099</td>\n",
       "      <td>NaN</td>\n",
       "      <td>0.107095</td>\n",
       "      <td>NaN</td>\n",
       "      <td>-1.026945</td>\n",
       "      <td>NaN</td>\n",
       "      <td>-0.645747</td>\n",
       "      <td>NaN</td>\n",
       "      <td>-0.487834</td>\n",
       "      <td>...</td>\n",
       "      <td>-0.497700</td>\n",
       "      <td>NaN</td>\n",
       "      <td>-0.494779</td>\n",
       "      <td>NaN</td>\n",
       "      <td>-0.496022</td>\n",
       "      <td>NaN</td>\n",
       "      <td>-0.493870</td>\n",
       "      <td>NaN</td>\n",
       "      <td>-0.493870</td>\n",
       "      <td>NaN</td>\n",
       "    </tr>\n",
       "    <tr>\n",
       "      <th>...</th>\n",
       "      <td>...</td>\n",
       "      <td>...</td>\n",
       "      <td>...</td>\n",
       "      <td>...</td>\n",
       "      <td>...</td>\n",
       "      <td>...</td>\n",
       "      <td>...</td>\n",
       "      <td>...</td>\n",
       "      <td>...</td>\n",
       "      <td>...</td>\n",
       "      <td>...</td>\n",
       "      <td>...</td>\n",
       "      <td>...</td>\n",
       "      <td>...</td>\n",
       "      <td>...</td>\n",
       "      <td>...</td>\n",
       "      <td>...</td>\n",
       "      <td>...</td>\n",
       "      <td>...</td>\n",
       "      <td>...</td>\n",
       "      <td>...</td>\n",
       "    </tr>\n",
       "    <tr>\n",
       "      <th>67</th>\n",
       "      <td>2021-08-31</td>\n",
       "      <td>14.590909</td>\n",
       "      <td>7.250000</td>\n",
       "      <td>-0.464069</td>\n",
       "      <td>-0.783252</td>\n",
       "      <td>2.629514</td>\n",
       "      <td>0.029561</td>\n",
       "      <td>1.687843</td>\n",
       "      <td>-0.508063</td>\n",
       "      <td>-0.078270</td>\n",
       "      <td>...</td>\n",
       "      <td>1.083831</td>\n",
       "      <td>-0.742574</td>\n",
       "      <td>1.090253</td>\n",
       "      <td>-0.745291</td>\n",
       "      <td>1.075285</td>\n",
       "      <td>-0.736902</td>\n",
       "      <td>1.087407</td>\n",
       "      <td>-0.744492</td>\n",
       "      <td>1.087407</td>\n",
       "      <td>-0.744492</td>\n",
       "    </tr>\n",
       "    <tr>\n",
       "      <th>68</th>\n",
       "      <td>2021-09-30</td>\n",
       "      <td>19.083333</td>\n",
       "      <td>7.022727</td>\n",
       "      <td>-0.280700</td>\n",
       "      <td>-0.787648</td>\n",
       "      <td>3.299182</td>\n",
       "      <td>-0.094138</td>\n",
       "      <td>1.991462</td>\n",
       "      <td>-0.439833</td>\n",
       "      <td>0.100634</td>\n",
       "      <td>...</td>\n",
       "      <td>1.124191</td>\n",
       "      <td>-0.841109</td>\n",
       "      <td>1.123562</td>\n",
       "      <td>-0.840986</td>\n",
       "      <td>1.129411</td>\n",
       "      <td>-0.836138</td>\n",
       "      <td>1.129772</td>\n",
       "      <td>-0.838254</td>\n",
       "      <td>1.129772</td>\n",
       "      <td>-0.838254</td>\n",
       "    </tr>\n",
       "    <tr>\n",
       "      <th>69</th>\n",
       "      <td>2021-10-31</td>\n",
       "      <td>22.750000</td>\n",
       "      <td>6.750000</td>\n",
       "      <td>-0.096964</td>\n",
       "      <td>-0.802596</td>\n",
       "      <td>3.926870</td>\n",
       "      <td>0.165344</td>\n",
       "      <td>1.998856</td>\n",
       "      <td>-0.398120</td>\n",
       "      <td>0.187008</td>\n",
       "      <td>...</td>\n",
       "      <td>1.020054</td>\n",
       "      <td>-0.836410</td>\n",
       "      <td>1.006143</td>\n",
       "      <td>-0.841054</td>\n",
       "      <td>1.008416</td>\n",
       "      <td>-0.831269</td>\n",
       "      <td>1.008169</td>\n",
       "      <td>-0.834654</td>\n",
       "      <td>1.008169</td>\n",
       "      <td>-0.834654</td>\n",
       "    </tr>\n",
       "    <tr>\n",
       "      <th>70</th>\n",
       "      <td>2021-11-30</td>\n",
       "      <td>28.170455</td>\n",
       "      <td>6.750000</td>\n",
       "      <td>0.164625</td>\n",
       "      <td>-0.802596</td>\n",
       "      <td>1.521353</td>\n",
       "      <td>-0.365877</td>\n",
       "      <td>1.794166</td>\n",
       "      <td>-0.274918</td>\n",
       "      <td>0.556798</td>\n",
       "      <td>...</td>\n",
       "      <td>1.240984</td>\n",
       "      <td>-0.685379</td>\n",
       "      <td>1.248657</td>\n",
       "      <td>-0.671095</td>\n",
       "      <td>1.253894</td>\n",
       "      <td>-0.678276</td>\n",
       "      <td>1.257281</td>\n",
       "      <td>-0.670957</td>\n",
       "      <td>1.257281</td>\n",
       "      <td>-0.670957</td>\n",
       "    </tr>\n",
       "    <tr>\n",
       "      <th>71</th>\n",
       "      <td>2021-12-31</td>\n",
       "      <td>33.043478</td>\n",
       "      <td>6.750000</td>\n",
       "      <td>0.286579</td>\n",
       "      <td>-0.802596</td>\n",
       "      <td>1.582281</td>\n",
       "      <td>-0.291234</td>\n",
       "      <td>1.839908</td>\n",
       "      <td>-0.201334</td>\n",
       "      <td>1.084157</td>\n",
       "      <td>...</td>\n",
       "      <td>1.185124</td>\n",
       "      <td>-0.383040</td>\n",
       "      <td>1.187299</td>\n",
       "      <td>-0.378218</td>\n",
       "      <td>1.189690</td>\n",
       "      <td>-0.375241</td>\n",
       "      <td>1.197156</td>\n",
       "      <td>-0.374061</td>\n",
       "      <td>1.197156</td>\n",
       "      <td>-0.374061</td>\n",
       "    </tr>\n",
       "  </tbody>\n",
       "</table>\n",
       "<p>72 rows × 1847 columns</p>\n",
       "</div>"
      ],
      "text/plain": [
       "         date          y     y_12_        y2    y2_12_  \\\n",
       "0  2016-01-31  20.177268       NaN -0.237734       NaN   \n",
       "1  2016-02-29  23.306868       NaN -0.054803       NaN   \n",
       "2  2016-03-31  25.223010       NaN  0.133909       NaN   \n",
       "3  2016-04-30  25.308243       NaN  0.173425       NaN   \n",
       "4  2016-05-31  24.875099       NaN  0.107095       NaN   \n",
       "..        ...        ...       ...       ...       ...   \n",
       "67 2021-08-31  14.590909  7.250000 -0.464069 -0.783252   \n",
       "68 2021-09-30  19.083333  7.022727 -0.280700 -0.787648   \n",
       "69 2021-10-31  22.750000  6.750000 -0.096964 -0.802596   \n",
       "70 2021-11-30  28.170455  6.750000  0.164625 -0.802596   \n",
       "71 2021-12-31  33.043478  6.750000  0.286579 -0.802596   \n",
       "\n",
       "    Baltic Dry Index (BDI)  Baltic Dry Index (BDI)_12_  \\\n",
       "0                -1.302468                         NaN   \n",
       "1                -1.396112                         NaN   \n",
       "2                -1.305967                         NaN   \n",
       "3                -1.041598                         NaN   \n",
       "4                -1.026945                         NaN   \n",
       "..                     ...                         ...   \n",
       "67                2.629514                    0.029561   \n",
       "68                3.299182                   -0.094138   \n",
       "69                3.926870                    0.165344   \n",
       "70                1.521353                   -0.365877   \n",
       "71                1.582281                   -0.291234   \n",
       "\n",
       "    Howe Robinson Container Index  Howe Robinson Container Index_12_  \\\n",
       "0                       -0.644064                                NaN   \n",
       "1                       -0.645288                                NaN   \n",
       "2                       -0.644523                                NaN   \n",
       "3                       -0.648195                                NaN   \n",
       "4                       -0.645747                                NaN   \n",
       "..                            ...                                ...   \n",
       "67                       1.687843                          -0.508063   \n",
       "68                       1.991462                          -0.439833   \n",
       "69                       1.998856                          -0.398120   \n",
       "70                       1.794166                          -0.274918   \n",
       "71                       1.839908                          -0.201334   \n",
       "\n",
       "    Shanghai Containerized Freight Index (SCFI)  ...  \\\n",
       "0                                     -0.195705  ...   \n",
       "1                                     -0.182527  ...   \n",
       "2                                     -0.362815  ...   \n",
       "3                                     -0.472294  ...   \n",
       "4                                     -0.487834  ...   \n",
       "..                                          ...  ...   \n",
       "67                                    -0.078270  ...   \n",
       "68                                     0.100634  ...   \n",
       "69                                     0.187008  ...   \n",
       "70                                     0.556798  ...   \n",
       "71                                     1.084157  ...   \n",
       "\n",
       "    Allkem Limited (AKE.AX)_price_Open  \\\n",
       "0                            -0.915916   \n",
       "1                            -0.910118   \n",
       "2                            -0.833402   \n",
       "3                            -0.691659   \n",
       "4                            -0.497700   \n",
       "..                                 ...   \n",
       "67                            1.083831   \n",
       "68                            1.124191   \n",
       "69                            1.020054   \n",
       "70                            1.240984   \n",
       "71                            1.185124   \n",
       "\n",
       "    Allkem Limited (AKE.AX)_price_Open_12_  \\\n",
       "0                                      NaN   \n",
       "1                                      NaN   \n",
       "2                                      NaN   \n",
       "3                                      NaN   \n",
       "4                                      NaN   \n",
       "..                                     ...   \n",
       "67                               -0.742574   \n",
       "68                               -0.841109   \n",
       "69                               -0.836410   \n",
       "70                               -0.685379   \n",
       "71                               -0.383040   \n",
       "\n",
       "    Allkem Limited (AKE.AX)_price_High  \\\n",
       "0                            -0.911882   \n",
       "1                            -0.915569   \n",
       "2                            -0.834459   \n",
       "3                            -0.695181   \n",
       "4                            -0.494779   \n",
       "..                                 ...   \n",
       "67                            1.090253   \n",
       "68                            1.123562   \n",
       "69                            1.006143   \n",
       "70                            1.248657   \n",
       "71                            1.187299   \n",
       "\n",
       "    Allkem Limited (AKE.AX)_price_High_12_  Allkem Limited (AKE.AX)_price_Low  \\\n",
       "0                                      NaN                          -0.921663   \n",
       "1                                      NaN                          -0.908508   \n",
       "2                                      NaN                          -0.834589   \n",
       "3                                      NaN                          -0.693237   \n",
       "4                                      NaN                          -0.496022   \n",
       "..                                     ...                                ...   \n",
       "67                               -0.745291                           1.075285   \n",
       "68                               -0.840986                           1.129411   \n",
       "69                               -0.841054                           1.008416   \n",
       "70                               -0.671095                           1.253894   \n",
       "71                               -0.378218                           1.189690   \n",
       "\n",
       "    Allkem Limited (AKE.AX)_price_Low_12_  \\\n",
       "0                                     NaN   \n",
       "1                                     NaN   \n",
       "2                                     NaN   \n",
       "3                                     NaN   \n",
       "4                                     NaN   \n",
       "..                                    ...   \n",
       "67                              -0.736902   \n",
       "68                              -0.836138   \n",
       "69                              -0.831269   \n",
       "70                              -0.678276   \n",
       "71                              -0.375241   \n",
       "\n",
       "    Allkem Limited (AKE.AX)_price_Close  \\\n",
       "0                             -0.909069   \n",
       "1                             -0.916207   \n",
       "2                             -0.834453   \n",
       "3                             -0.700107   \n",
       "4                             -0.493870   \n",
       "..                                  ...   \n",
       "67                             1.087407   \n",
       "68                             1.129772   \n",
       "69                             1.008169   \n",
       "70                             1.257281   \n",
       "71                             1.197156   \n",
       "\n",
       "    Allkem Limited (AKE.AX)_price_Close_12_  \\\n",
       "0                                       NaN   \n",
       "1                                       NaN   \n",
       "2                                       NaN   \n",
       "3                                       NaN   \n",
       "4                                       NaN   \n",
       "..                                      ...   \n",
       "67                                -0.744492   \n",
       "68                                -0.838254   \n",
       "69                                -0.834654   \n",
       "70                                -0.670957   \n",
       "71                                -0.374061   \n",
       "\n",
       "    Allkem Limited (AKE.AX)_price_Adj Close  \\\n",
       "0                                 -0.909069   \n",
       "1                                 -0.916207   \n",
       "2                                 -0.834453   \n",
       "3                                 -0.700107   \n",
       "4                                 -0.493870   \n",
       "..                                      ...   \n",
       "67                                 1.087407   \n",
       "68                                 1.129772   \n",
       "69                                 1.008169   \n",
       "70                                 1.257281   \n",
       "71                                 1.197156   \n",
       "\n",
       "    Allkem Limited (AKE.AX)_price_Adj Close_12_  \n",
       "0                                           NaN  \n",
       "1                                           NaN  \n",
       "2                                           NaN  \n",
       "3                                           NaN  \n",
       "4                                           NaN  \n",
       "..                                          ...  \n",
       "67                                    -0.744492  \n",
       "68                                    -0.838254  \n",
       "69                                    -0.834654  \n",
       "70                                    -0.670957  \n",
       "71                                    -0.374061  \n",
       "\n",
       "[72 rows x 1847 columns]"
      ]
     },
     "execution_count": 470,
     "metadata": {},
     "output_type": "execute_result"
    }
   ],
   "source": [
    "raw_y_set_shifted_merged"
   ]
  },
  {
   "cell_type": "code",
   "execution_count": 471,
   "id": "637d45e9-c3d2-4965-af8f-5553849d1f41",
   "metadata": {
    "tags": []
   },
   "outputs": [],
   "source": [
    "raw_y_set_shifted_merged_corr = raw_y_set_shifted_merged.corr()\n",
    "raw_y_set_shifted_merged_filtered = raw_y_set_shifted_merged_corr[raw_y_set_resampled.columns.drop('date')]\n",
    "# raw_y_set_shifted_merged_filtered = raw_y_set_shifted_merged_filtered.loc[raw_y_set_shifted_merged_filtered.index != 'y']\n",
    "# raw_y_set_shifted_merged_filtered = raw_y_set_shifted_merged_filtered.loc[raw_y_set_shifted_merged_filtered.index != 'y2']\n",
    "raw_y_set_shifted_merged_filtered_y = raw_y_set_shifted_merged_filtered.iloc[:,:1]\n",
    "raw_y_set_shifted_merged_filtered_upto_corr_rate = raw_y_set_shifted_merged_filtered_y[raw_y_set_shifted_merged_filtered_y.y >= corr_rate]\n",
    "# raw_y_set_shifted_merged_filtered_upto_corr_rate = raw_y_set_shifted_merged_filtered_upto_corr_rate.sort_values('y',ascending=False)\n",
    "raw_y_set_shifted_merged_filtered_upto_corr_rate = raw_y_set_shifted_merged_filtered_upto_corr_rate[raw_y_set_shifted_merged_filtered_upto_corr_rate.index.str.contains(f'_{test_period}_')]\n",
    "raw_y_set_shifted_merged_filtered_upto_corr_rate = raw_y_set_shifted_merged_filtered_upto_corr_rate[:future_variable_limit]\n",
    "\n",
    "futr_list = raw_y_set_shifted_merged_filtered_upto_corr_rate.index.values.tolist()\n",
    "futr_list = [word.replace(f\"_{test_period}_\", \"\") for word in futr_list]\n",
    "\n",
    "# if 'li2co395_am_kg' in futr_list:\n",
    "#     futr_list = [w.replace('li2co395_am_kg', 'li2co3_995_am_kg') for w in futr_list]\n",
    "# raw_y_set_shifted_merged_filtered_upto_corr_rate = raw_y_set_shifted_merged_filtered_upto_corr_rate.sort_values('y',ascending=False)\n",
    "\n",
    "# if 'y2' in futr_list:\n",
    "#     (futr_list).remove('y2')\n",
    "# if 'li2co395_am_kg' in futr_list:\n",
    "#     (futr_list).remove('li2co395_am_kg')\n",
    "# if 'li2co3_995_am_kg' in futr_list:\n",
    "#     (futr_list).remove('li2co3_995_am_kg')\n",
    "# if 'mn_mb_kg' in futr_list:\n",
    "#     (futr_list).remove('mn_mb_kg')\n",
    "# if 'al_lme_kg' in futr_list:\n",
    "#     (futr_list).remove('al_lme_kg')"
   ]
  },
  {
   "cell_type": "code",
   "execution_count": 472,
   "id": "27019fc5-510b-4bd6-97ce-001677901aa2",
   "metadata": {
    "tags": []
   },
   "outputs": [
    {
     "data": {
      "text/html": [
       "<div>\n",
       "<style scoped>\n",
       "    .dataframe tbody tr th:only-of-type {\n",
       "        vertical-align: middle;\n",
       "    }\n",
       "\n",
       "    .dataframe tbody tr th {\n",
       "        vertical-align: top;\n",
       "    }\n",
       "\n",
       "    .dataframe thead th {\n",
       "        text-align: right;\n",
       "    }\n",
       "</style>\n",
       "<table border=\"1\" class=\"dataframe\">\n",
       "  <thead>\n",
       "    <tr style=\"text-align: right;\">\n",
       "      <th></th>\n",
       "      <th>y</th>\n",
       "    </tr>\n",
       "  </thead>\n",
       "  <tbody>\n",
       "    <tr>\n",
       "      <th>CLI_KOR_12_</th>\n",
       "      <td>0.831564</td>\n",
       "    </tr>\n",
       "  </tbody>\n",
       "</table>\n",
       "</div>"
      ],
      "text/plain": [
       "                    y\n",
       "CLI_KOR_12_  0.831564"
      ]
     },
     "execution_count": 472,
     "metadata": {},
     "output_type": "execute_result"
    }
   ],
   "source": [
    "raw_y_set_shifted_merged_filtered_upto_corr_rate"
   ]
  },
  {
   "cell_type": "code",
   "execution_count": 473,
   "id": "f6792eab-6024-4482-8075-4895bd41586c",
   "metadata": {
    "tags": []
   },
   "outputs": [
    {
     "data": {
      "text/plain": [
       "['CLI_KOR']"
      ]
     },
     "execution_count": 473,
     "metadata": {},
     "output_type": "execute_result"
    }
   ],
   "source": [
    "futr_list"
   ]
  },
  {
   "cell_type": "markdown",
   "id": "7e7e2423-991f-4d6b-882c-50617a2a65e1",
   "metadata": {},
   "source": [
    "#### 해당 기간에서의 corr best"
   ]
  },
  {
   "cell_type": "code",
   "execution_count": 474,
   "id": "df77e790-0ad9-4403-abdd-53ebc8ad6996",
   "metadata": {
    "tags": []
   },
   "outputs": [
    {
     "data": {
      "text/plain": [
       "5"
      ]
     },
     "execution_count": 474,
     "metadata": {},
     "output_type": "execute_result"
    }
   ],
   "source": [
    "hist_variable_limit"
   ]
  },
  {
   "cell_type": "code",
   "execution_count": 475,
   "id": "e40279d3-f9f2-410e-88ac-452b91a2f75c",
   "metadata": {
    "tags": []
   },
   "outputs": [
    {
     "data": {
      "text/plain": [
       "[]"
      ]
     },
     "execution_count": 475,
     "metadata": {},
     "output_type": "execute_result"
    }
   ],
   "source": [
    "hist_var_chcek = raw_y_set_resampled.iloc[:,1:]\n",
    "\n",
    "hist_var_corr = hist_var_chcek.corr()\n",
    "hist_var_corr_filtered = hist_var_corr.loc[hist_var_corr.index != 'y']\n",
    "hist_var_corr_filtered = hist_var_corr_filtered.loc[hist_var_corr_filtered.index != 'y2']\n",
    "hist_var_corr_filtered_y = hist_var_corr_filtered.iloc[:,:1]\n",
    "hist_var_corr_filtered_y_corr_rate = hist_var_corr_filtered_y[hist_var_corr_filtered_y.y >= hist_corr_rate]\n",
    "hist_var_corr_filtered_y_only = hist_var_corr_filtered_y_corr_rate[hist_var_corr_filtered_y_corr_rate.index.str.contains('li2co3')==False]\n",
    "hist_var_corr_filtered_y_only = hist_var_corr_filtered_y_only[hist_var_corr_filtered_y_only.index.str.contains('lioh')==False]\n",
    "hist_var_corr_filtered_y_only = hist_var_corr_filtered_y_only.sort_values('y',ascending=False)\n",
    "hist_var_list = hist_var_corr_filtered_y_only.index.values.tolist()\n",
    "\n",
    "hist_list = hist_var_list[:hist_variable_limit]\n",
    "hist_list"
   ]
  },
  {
   "cell_type": "code",
   "execution_count": 476,
   "id": "22c2422e-32ee-42b3-abb8-c7fde1f56a45",
   "metadata": {
    "tags": []
   },
   "outputs": [
    {
     "data": {
      "text/html": [
       "<div>\n",
       "<style scoped>\n",
       "    .dataframe tbody tr th:only-of-type {\n",
       "        vertical-align: middle;\n",
       "    }\n",
       "\n",
       "    .dataframe tbody tr th {\n",
       "        vertical-align: top;\n",
       "    }\n",
       "\n",
       "    .dataframe thead th {\n",
       "        text-align: right;\n",
       "    }\n",
       "</style>\n",
       "<table border=\"1\" class=\"dataframe\">\n",
       "  <thead>\n",
       "    <tr style=\"text-align: right;\">\n",
       "      <th></th>\n",
       "      <th>y</th>\n",
       "    </tr>\n",
       "  </thead>\n",
       "  <tbody>\n",
       "  </tbody>\n",
       "</table>\n",
       "</div>"
      ],
      "text/plain": [
       "Empty DataFrame\n",
       "Columns: [y]\n",
       "Index: []"
      ]
     },
     "execution_count": 476,
     "metadata": {},
     "output_type": "execute_result"
    }
   ],
   "source": [
    "hist_var_corr_filtered_y_only"
   ]
  },
  {
   "cell_type": "markdown",
   "id": "8a209346-8f24-44ee-ba3b-a08f80614190",
   "metadata": {
    "tags": []
   },
   "source": [
    "#### static DF"
   ]
  },
  {
   "cell_type": "code",
   "execution_count": 477,
   "id": "5ce7033a-2234-4bac-9087-91daee3af55a",
   "metadata": {
    "tags": []
   },
   "outputs": [],
   "source": [
    "static_df = pd.read_csv('/users/ESKO/PYWORK/NHITS/data/static_df.csv')"
   ]
  },
  {
   "cell_type": "markdown",
   "id": "d7fba8f2-a5ab-484b-b1ad-bda6ea55f7af",
   "metadata": {},
   "source": [
    "## <Training & Test>"
   ]
  },
  {
   "cell_type": "markdown",
   "id": "2135deb5-4427-45d2-b085-d0063d554f54",
   "metadata": {},
   "source": [
    "#### 날짜 확인"
   ]
  },
  {
   "cell_type": "code",
   "execution_count": 478,
   "id": "525afb1e-6ec3-4108-9c23-95cc5565c352",
   "metadata": {},
   "outputs": [],
   "source": [
    "# train = df.loc[df.ds < '2021-06-30']\n",
    "# test = df.loc[df.ds > '2021-06-30']"
   ]
  },
  {
   "cell_type": "markdown",
   "id": "9f95faab-68f4-4566-9494-35d2b646a7d7",
   "metadata": {},
   "source": [
    "#### 날짜 별 len 확인"
   ]
  },
  {
   "cell_type": "code",
   "execution_count": 479,
   "id": "8548a462-acb8-462e-afcb-94c8c29af9bd",
   "metadata": {
    "tags": []
   },
   "outputs": [],
   "source": [
    "# len(df.loc[df.ds<'2021-06-30'])"
   ]
  },
  {
   "cell_type": "code",
   "execution_count": 480,
   "id": "837791bc-7eab-4e22-9501-5dda050fa80b",
   "metadata": {
    "tags": []
   },
   "outputs": [],
   "source": [
    "# len(Y_train_df)\n",
    "# len(Y_test_df)\n",
    "# len(df)"
   ]
  },
  {
   "cell_type": "markdown",
   "id": "5e48e6ed-d091-4f7e-860d-32db64006c26",
   "metadata": {},
   "source": [
    "Test 용 DF 및 선행 변수 반영"
   ]
  },
  {
   "cell_type": "code",
   "execution_count": 481,
   "id": "e7947178-5017-4afa-99bb-de9843ac3061",
   "metadata": {
    "tags": []
   },
   "outputs": [],
   "source": [
    "Y_train_df = df[df.ds<=cutoff_date]\n",
    "Y_test_df = df[df.ds>cutoff_date]\n",
    "\n",
    "if len(Y_test_df) > 12:    \n",
    "    Y_test_df = Y_test_df[:12]\n",
    "else:\n",
    "    pass\n",
    "# Y_train_df = df[df.ds<df['ds'].values[len(df.loc[df.ds<=cutoff_date])]]\n",
    "# Y_test_df = df[df.ds>=df['ds'].values[len(df.loc[df.ds<=cutoff_date])]]"
   ]
  },
  {
   "cell_type": "code",
   "execution_count": 482,
   "id": "bfdd51ae-12ad-4971-b823-3b24a0321736",
   "metadata": {
    "tags": []
   },
   "outputs": [
    {
     "data": {
      "text/plain": [
       "['CLI_KOR']"
      ]
     },
     "execution_count": 482,
     "metadata": {},
     "output_type": "execute_result"
    }
   ],
   "source": [
    "futr_list"
   ]
  },
  {
   "cell_type": "code",
   "execution_count": 483,
   "id": "850422b8-bcba-4601-ac25-bbff88086054",
   "metadata": {
    "tags": []
   },
   "outputs": [
    {
     "data": {
      "text/html": [
       "<div>\n",
       "<style scoped>\n",
       "    .dataframe tbody tr th:only-of-type {\n",
       "        vertical-align: middle;\n",
       "    }\n",
       "\n",
       "    .dataframe tbody tr th {\n",
       "        vertical-align: top;\n",
       "    }\n",
       "\n",
       "    .dataframe thead th {\n",
       "        text-align: right;\n",
       "    }\n",
       "</style>\n",
       "<table border=\"1\" class=\"dataframe\">\n",
       "  <thead>\n",
       "    <tr style=\"text-align: right;\">\n",
       "      <th></th>\n",
       "      <th>ds</th>\n",
       "      <th>unique_id</th>\n",
       "      <th>y</th>\n",
       "      <th>lioh_cif_fast_kg_spot_exchng</th>\n",
       "      <th>Baltic Dry Index (BDI)</th>\n",
       "      <th>Howe Robinson Container Index</th>\n",
       "      <th>Shanghai Containerized Freight Index (SCFI)</th>\n",
       "      <th>옥수수 For Grain [미국(생산자 가격)] 현물</th>\n",
       "      <th>원당 (daily) [ISA] 현물</th>\n",
       "      <th>대두 [미국(생산자 가격)] 현물</th>\n",
       "      <th>...</th>\n",
       "      <th>Pilbara Mineral Limited_price_Open</th>\n",
       "      <th>Pilbara Mineral Limited_price_High</th>\n",
       "      <th>Pilbara Mineral Limited_price_Low</th>\n",
       "      <th>Pilbara Mineral Limited_price_Close</th>\n",
       "      <th>Pilbara Mineral Limited_price_Adj Close</th>\n",
       "      <th>Allkem Limited (AKE.AX)_price_Open</th>\n",
       "      <th>Allkem Limited (AKE.AX)_price_High</th>\n",
       "      <th>Allkem Limited (AKE.AX)_price_Low</th>\n",
       "      <th>Allkem Limited (AKE.AX)_price_Close</th>\n",
       "      <th>Allkem Limited (AKE.AX)_price_Adj Close</th>\n",
       "    </tr>\n",
       "  </thead>\n",
       "  <tbody>\n",
       "    <tr>\n",
       "      <th>72</th>\n",
       "      <td>2022-01-31</td>\n",
       "      <td>A</td>\n",
       "      <td>43.260870</td>\n",
       "      <td>0.631414</td>\n",
       "      <td>0.318707</td>\n",
       "      <td>1.983558</td>\n",
       "      <td>1.463396</td>\n",
       "      <td>1.048823</td>\n",
       "      <td>0.916574</td>\n",
       "      <td>0.779937</td>\n",
       "      <td>...</td>\n",
       "      <td>2.677508</td>\n",
       "      <td>2.680955</td>\n",
       "      <td>2.665481</td>\n",
       "      <td>2.680401</td>\n",
       "      <td>2.510212</td>\n",
       "      <td>1.610945</td>\n",
       "      <td>1.608097</td>\n",
       "      <td>1.585530</td>\n",
       "      <td>1.586450</td>\n",
       "      <td>1.586450</td>\n",
       "    </tr>\n",
       "    <tr>\n",
       "      <th>73</th>\n",
       "      <td>2022-02-28</td>\n",
       "      <td>A</td>\n",
       "      <td>56.425000</td>\n",
       "      <td>1.270279</td>\n",
       "      <td>0.406105</td>\n",
       "      <td>2.294724</td>\n",
       "      <td>1.435042</td>\n",
       "      <td>1.467862</td>\n",
       "      <td>0.798730</td>\n",
       "      <td>1.945680</td>\n",
       "      <td>...</td>\n",
       "      <td>2.197789</td>\n",
       "      <td>2.207543</td>\n",
       "      <td>2.190755</td>\n",
       "      <td>2.181831</td>\n",
       "      <td>2.058747</td>\n",
       "      <td>1.168835</td>\n",
       "      <td>1.174279</td>\n",
       "      <td>1.163390</td>\n",
       "      <td>1.167415</td>\n",
       "      <td>1.167415</td>\n",
       "    </tr>\n",
       "    <tr>\n",
       "      <th>74</th>\n",
       "      <td>2022-03-31</td>\n",
       "      <td>A</td>\n",
       "      <td>71.086957</td>\n",
       "      <td>2.126927</td>\n",
       "      <td>1.148209</td>\n",
       "      <td>2.612162</td>\n",
       "      <td>1.241856</td>\n",
       "      <td>1.831557</td>\n",
       "      <td>1.195636</td>\n",
       "      <td>2.269497</td>\n",
       "      <td>...</td>\n",
       "      <td>2.026895</td>\n",
       "      <td>2.013125</td>\n",
       "      <td>2.037362</td>\n",
       "      <td>2.013198</td>\n",
       "      <td>1.906047</td>\n",
       "      <td>1.471655</td>\n",
       "      <td>1.468981</td>\n",
       "      <td>1.476677</td>\n",
       "      <td>1.477051</td>\n",
       "      <td>1.477051</td>\n",
       "    </tr>\n",
       "    <tr>\n",
       "      <th>75</th>\n",
       "      <td>2022-04-30</td>\n",
       "      <td>A</td>\n",
       "      <td>75.804348</td>\n",
       "      <td>2.687810</td>\n",
       "      <td>0.860751</td>\n",
       "      <td>2.556884</td>\n",
       "      <td>1.425830</td>\n",
       "      <td>2.242691</td>\n",
       "      <td>1.391677</td>\n",
       "      <td>2.722841</td>\n",
       "      <td>...</td>\n",
       "      <td>2.170896</td>\n",
       "      <td>2.152358</td>\n",
       "      <td>2.152352</td>\n",
       "      <td>2.132638</td>\n",
       "      <td>2.410643</td>\n",
       "      <td>2.259286</td>\n",
       "      <td>2.271036</td>\n",
       "      <td>2.255625</td>\n",
       "      <td>2.261700</td>\n",
       "      <td>2.261700</td>\n",
       "    </tr>\n",
       "    <tr>\n",
       "      <th>76</th>\n",
       "      <td>2022-05-31</td>\n",
       "      <td>A</td>\n",
       "      <td>74.295455</td>\n",
       "      <td>2.621695</td>\n",
       "      <td>1.713126</td>\n",
       "      <td>2.501607</td>\n",
       "      <td>1.892086</td>\n",
       "      <td>2.385006</td>\n",
       "      <td>1.329234</td>\n",
       "      <td>3.305713</td>\n",
       "      <td>...</td>\n",
       "      <td>1.814178</td>\n",
       "      <td>1.807191</td>\n",
       "      <td>1.810962</td>\n",
       "      <td>1.808275</td>\n",
       "      <td>2.410643</td>\n",
       "      <td>2.106495</td>\n",
       "      <td>2.106820</td>\n",
       "      <td>2.111163</td>\n",
       "      <td>2.116623</td>\n",
       "      <td>2.116623</td>\n",
       "    </tr>\n",
       "    <tr>\n",
       "      <th>77</th>\n",
       "      <td>2022-06-30</td>\n",
       "      <td>A</td>\n",
       "      <td>73.000000</td>\n",
       "      <td>2.389233</td>\n",
       "      <td>1.060177</td>\n",
       "      <td>2.515599</td>\n",
       "      <td>2.230336</td>\n",
       "      <td>2.471976</td>\n",
       "      <td>1.161657</td>\n",
       "      <td>3.111422</td>\n",
       "      <td>...</td>\n",
       "      <td>1.310465</td>\n",
       "      <td>1.314768</td>\n",
       "      <td>1.273957</td>\n",
       "      <td>1.284862</td>\n",
       "      <td>2.410643</td>\n",
       "      <td>1.628496</td>\n",
       "      <td>1.623594</td>\n",
       "      <td>1.607981</td>\n",
       "      <td>1.608344</td>\n",
       "      <td>1.608344</td>\n",
       "    </tr>\n",
       "    <tr>\n",
       "      <th>78</th>\n",
       "      <td>2022-07-31</td>\n",
       "      <td>A</td>\n",
       "      <td>73.000000</td>\n",
       "      <td>2.389233</td>\n",
       "      <td>0.691597</td>\n",
       "      <td>2.439292</td>\n",
       "      <td>2.526593</td>\n",
       "      <td>2.377100</td>\n",
       "      <td>0.921668</td>\n",
       "      <td>2.852368</td>\n",
       "      <td>...</td>\n",
       "      <td>1.464141</td>\n",
       "      <td>1.460176</td>\n",
       "      <td>1.481963</td>\n",
       "      <td>1.473009</td>\n",
       "      <td>2.410643</td>\n",
       "      <td>1.436494</td>\n",
       "      <td>1.434052</td>\n",
       "      <td>1.439497</td>\n",
       "      <td>1.441548</td>\n",
       "      <td>1.441548</td>\n",
       "    </tr>\n",
       "    <tr>\n",
       "      <th>79</th>\n",
       "      <td>2022-08-31</td>\n",
       "      <td>A</td>\n",
       "      <td>73.000000</td>\n",
       "      <td>2.420773</td>\n",
       "      <td>-0.092744</td>\n",
       "      <td>2.119559</td>\n",
       "      <td>2.773368</td>\n",
       "      <td>2.369193</td>\n",
       "      <td>0.793818</td>\n",
       "      <td>2.593314</td>\n",
       "      <td>...</td>\n",
       "      <td>2.219001</td>\n",
       "      <td>2.233095</td>\n",
       "      <td>2.245839</td>\n",
       "      <td>2.264053</td>\n",
       "      <td>2.410643</td>\n",
       "      <td>2.144853</td>\n",
       "      <td>2.155770</td>\n",
       "      <td>2.181382</td>\n",
       "      <td>2.184215</td>\n",
       "      <td>2.184215</td>\n",
       "    </tr>\n",
       "    <tr>\n",
       "      <th>80</th>\n",
       "      <td>2022-09-30</td>\n",
       "      <td>A</td>\n",
       "      <td>74.047619</td>\n",
       "      <td>2.507937</td>\n",
       "      <td>-0.004062</td>\n",
       "      <td>1.188816</td>\n",
       "      <td>3.024986</td>\n",
       "      <td>2.250597</td>\n",
       "      <td>0.750690</td>\n",
       "      <td>1.621862</td>\n",
       "      <td>...</td>\n",
       "      <td>2.107414</td>\n",
       "      <td>2.092161</td>\n",
       "      <td>2.084336</td>\n",
       "      <td>2.084871</td>\n",
       "      <td>1.970948</td>\n",
       "      <td>2.828439</td>\n",
       "      <td>2.823884</td>\n",
       "      <td>2.834908</td>\n",
       "      <td>2.836251</td>\n",
       "      <td>2.836251</td>\n",
       "    </tr>\n",
       "    <tr>\n",
       "      <th>81</th>\n",
       "      <td>2022-10-31</td>\n",
       "      <td>A</td>\n",
       "      <td>77.673913</td>\n",
       "      <td>2.664680</td>\n",
       "      <td>0.381286</td>\n",
       "      <td>0.204375</td>\n",
       "      <td>3.036207</td>\n",
       "      <td>1.784119</td>\n",
       "      <td>0.691518</td>\n",
       "      <td>1.427572</td>\n",
       "      <td>...</td>\n",
       "      <td>2.352264</td>\n",
       "      <td>2.359441</td>\n",
       "      <td>2.354164</td>\n",
       "      <td>2.362142</td>\n",
       "      <td>2.222022</td>\n",
       "      <td>2.765597</td>\n",
       "      <td>2.782167</td>\n",
       "      <td>2.764528</td>\n",
       "      <td>2.761120</td>\n",
       "      <td>2.761120</td>\n",
       "    </tr>\n",
       "    <tr>\n",
       "      <th>82</th>\n",
       "      <td>2022-11-30</td>\n",
       "      <td>A</td>\n",
       "      <td>80.818182</td>\n",
       "      <td>2.828879</td>\n",
       "      <td>-0.226024</td>\n",
       "      <td>-0.008117</td>\n",
       "      <td>3.004479</td>\n",
       "      <td>1.784119</td>\n",
       "      <td>1.005474</td>\n",
       "      <td>1.621862</td>\n",
       "      <td>...</td>\n",
       "      <td>2.433279</td>\n",
       "      <td>2.443712</td>\n",
       "      <td>2.455263</td>\n",
       "      <td>2.452607</td>\n",
       "      <td>2.303940</td>\n",
       "      <td>2.830058</td>\n",
       "      <td>2.817705</td>\n",
       "      <td>2.816214</td>\n",
       "      <td>2.795982</td>\n",
       "      <td>2.795982</td>\n",
       "    </tr>\n",
       "    <tr>\n",
       "      <th>83</th>\n",
       "      <td>2022-12-31</td>\n",
       "      <td>A</td>\n",
       "      <td>80.882353</td>\n",
       "      <td>2.867154</td>\n",
       "      <td>-0.043847</td>\n",
       "      <td>-0.041773</td>\n",
       "      <td>3.301048</td>\n",
       "      <td>1.784119</td>\n",
       "      <td>1.131385</td>\n",
       "      <td>1.816153</td>\n",
       "      <td>...</td>\n",
       "      <td>1.980999</td>\n",
       "      <td>1.967237</td>\n",
       "      <td>1.981728</td>\n",
       "      <td>1.959693</td>\n",
       "      <td>1.857597</td>\n",
       "      <td>2.230517</td>\n",
       "      <td>2.206089</td>\n",
       "      <td>2.211335</td>\n",
       "      <td>2.207568</td>\n",
       "      <td>2.207568</td>\n",
       "    </tr>\n",
       "  </tbody>\n",
       "</table>\n",
       "<p>12 rows × 925 columns</p>\n",
       "</div>"
      ],
      "text/plain": [
       "           ds unique_id          y  lioh_cif_fast_kg_spot_exchng  \\\n",
       "72 2022-01-31         A  43.260870                      0.631414   \n",
       "73 2022-02-28         A  56.425000                      1.270279   \n",
       "74 2022-03-31         A  71.086957                      2.126927   \n",
       "75 2022-04-30         A  75.804348                      2.687810   \n",
       "76 2022-05-31         A  74.295455                      2.621695   \n",
       "77 2022-06-30         A  73.000000                      2.389233   \n",
       "78 2022-07-31         A  73.000000                      2.389233   \n",
       "79 2022-08-31         A  73.000000                      2.420773   \n",
       "80 2022-09-30         A  74.047619                      2.507937   \n",
       "81 2022-10-31         A  77.673913                      2.664680   \n",
       "82 2022-11-30         A  80.818182                      2.828879   \n",
       "83 2022-12-31         A  80.882353                      2.867154   \n",
       "\n",
       "    Baltic Dry Index (BDI)  Howe Robinson Container Index  \\\n",
       "72                0.318707                       1.983558   \n",
       "73                0.406105                       2.294724   \n",
       "74                1.148209                       2.612162   \n",
       "75                0.860751                       2.556884   \n",
       "76                1.713126                       2.501607   \n",
       "77                1.060177                       2.515599   \n",
       "78                0.691597                       2.439292   \n",
       "79               -0.092744                       2.119559   \n",
       "80               -0.004062                       1.188816   \n",
       "81                0.381286                       0.204375   \n",
       "82               -0.226024                      -0.008117   \n",
       "83               -0.043847                      -0.041773   \n",
       "\n",
       "    Shanghai Containerized Freight Index (SCFI)  \\\n",
       "72                                     1.463396   \n",
       "73                                     1.435042   \n",
       "74                                     1.241856   \n",
       "75                                     1.425830   \n",
       "76                                     1.892086   \n",
       "77                                     2.230336   \n",
       "78                                     2.526593   \n",
       "79                                     2.773368   \n",
       "80                                     3.024986   \n",
       "81                                     3.036207   \n",
       "82                                     3.004479   \n",
       "83                                     3.301048   \n",
       "\n",
       "    옥수수 For Grain [미국(생산자 가격)] 현물  원당 (daily) [ISA] 현물  대두 [미국(생산자 가격)] 현물  \\\n",
       "72                       1.048823             0.916574            0.779937   \n",
       "73                       1.467862             0.798730            1.945680   \n",
       "74                       1.831557             1.195636            2.269497   \n",
       "75                       2.242691             1.391677            2.722841   \n",
       "76                       2.385006             1.329234            3.305713   \n",
       "77                       2.471976             1.161657            3.111422   \n",
       "78                       2.377100             0.921668            2.852368   \n",
       "79                       2.369193             0.793818            2.593314   \n",
       "80                       2.250597             0.750690            1.621862   \n",
       "81                       1.784119             0.691518            1.427572   \n",
       "82                       1.784119             1.005474            1.621862   \n",
       "83                       1.784119             1.131385            1.816153   \n",
       "\n",
       "    ...  Pilbara Mineral Limited_price_Open  \\\n",
       "72  ...                            2.677508   \n",
       "73  ...                            2.197789   \n",
       "74  ...                            2.026895   \n",
       "75  ...                            2.170896   \n",
       "76  ...                            1.814178   \n",
       "77  ...                            1.310465   \n",
       "78  ...                            1.464141   \n",
       "79  ...                            2.219001   \n",
       "80  ...                            2.107414   \n",
       "81  ...                            2.352264   \n",
       "82  ...                            2.433279   \n",
       "83  ...                            1.980999   \n",
       "\n",
       "    Pilbara Mineral Limited_price_High  Pilbara Mineral Limited_price_Low  \\\n",
       "72                            2.680955                           2.665481   \n",
       "73                            2.207543                           2.190755   \n",
       "74                            2.013125                           2.037362   \n",
       "75                            2.152358                           2.152352   \n",
       "76                            1.807191                           1.810962   \n",
       "77                            1.314768                           1.273957   \n",
       "78                            1.460176                           1.481963   \n",
       "79                            2.233095                           2.245839   \n",
       "80                            2.092161                           2.084336   \n",
       "81                            2.359441                           2.354164   \n",
       "82                            2.443712                           2.455263   \n",
       "83                            1.967237                           1.981728   \n",
       "\n",
       "    Pilbara Mineral Limited_price_Close  \\\n",
       "72                             2.680401   \n",
       "73                             2.181831   \n",
       "74                             2.013198   \n",
       "75                             2.132638   \n",
       "76                             1.808275   \n",
       "77                             1.284862   \n",
       "78                             1.473009   \n",
       "79                             2.264053   \n",
       "80                             2.084871   \n",
       "81                             2.362142   \n",
       "82                             2.452607   \n",
       "83                             1.959693   \n",
       "\n",
       "    Pilbara Mineral Limited_price_Adj Close  \\\n",
       "72                                 2.510212   \n",
       "73                                 2.058747   \n",
       "74                                 1.906047   \n",
       "75                                 2.410643   \n",
       "76                                 2.410643   \n",
       "77                                 2.410643   \n",
       "78                                 2.410643   \n",
       "79                                 2.410643   \n",
       "80                                 1.970948   \n",
       "81                                 2.222022   \n",
       "82                                 2.303940   \n",
       "83                                 1.857597   \n",
       "\n",
       "    Allkem Limited (AKE.AX)_price_Open  Allkem Limited (AKE.AX)_price_High  \\\n",
       "72                            1.610945                            1.608097   \n",
       "73                            1.168835                            1.174279   \n",
       "74                            1.471655                            1.468981   \n",
       "75                            2.259286                            2.271036   \n",
       "76                            2.106495                            2.106820   \n",
       "77                            1.628496                            1.623594   \n",
       "78                            1.436494                            1.434052   \n",
       "79                            2.144853                            2.155770   \n",
       "80                            2.828439                            2.823884   \n",
       "81                            2.765597                            2.782167   \n",
       "82                            2.830058                            2.817705   \n",
       "83                            2.230517                            2.206089   \n",
       "\n",
       "    Allkem Limited (AKE.AX)_price_Low  Allkem Limited (AKE.AX)_price_Close  \\\n",
       "72                           1.585530                             1.586450   \n",
       "73                           1.163390                             1.167415   \n",
       "74                           1.476677                             1.477051   \n",
       "75                           2.255625                             2.261700   \n",
       "76                           2.111163                             2.116623   \n",
       "77                           1.607981                             1.608344   \n",
       "78                           1.439497                             1.441548   \n",
       "79                           2.181382                             2.184215   \n",
       "80                           2.834908                             2.836251   \n",
       "81                           2.764528                             2.761120   \n",
       "82                           2.816214                             2.795982   \n",
       "83                           2.211335                             2.207568   \n",
       "\n",
       "    Allkem Limited (AKE.AX)_price_Adj Close  \n",
       "72                                 1.586450  \n",
       "73                                 1.167415  \n",
       "74                                 1.477051  \n",
       "75                                 2.261700  \n",
       "76                                 2.116623  \n",
       "77                                 1.608344  \n",
       "78                                 1.441548  \n",
       "79                                 2.184215  \n",
       "80                                 2.836251  \n",
       "81                                 2.761120  \n",
       "82                                 2.795982  \n",
       "83                                 2.207568  \n",
       "\n",
       "[12 rows x 925 columns]"
      ]
     },
     "execution_count": 483,
     "metadata": {},
     "output_type": "execute_result"
    }
   ],
   "source": [
    "Y_test_df"
   ]
  },
  {
   "cell_type": "code",
   "execution_count": 484,
   "id": "d30f9ec6-8444-4464-9812-a65a0c28270b",
   "metadata": {
    "tags": []
   },
   "outputs": [],
   "source": [
    "futr_list = [\n",
    "             'Baltic Dry Index (BDI)',\n",
    "             # 'LGES 리튬소요량_수산화리튬(kg)',\n",
    "             # '미국 비농업부분고용',\n",
    "             'Howe Robinson Container Index',\n",
    "             # 'Pilbara Mineral Limited price Open',\n",
    "             # 'lioh_mag_am_kg',\n",
    "             # 'Shanghai Containerized Freight Index (SCFI)',\n",
    "             # 'li2co3_cif_fast_kg_spot_exchng'\n",
    "            ]"
   ]
  },
  {
   "cell_type": "code",
   "execution_count": 485,
   "id": "b6a349e3-e146-47f1-aae9-fd4ca29154e8",
   "metadata": {
    "tags": []
   },
   "outputs": [
    {
     "data": {
      "text/html": [
       "<div>\n",
       "<style scoped>\n",
       "    .dataframe tbody tr th:only-of-type {\n",
       "        vertical-align: middle;\n",
       "    }\n",
       "\n",
       "    .dataframe tbody tr th {\n",
       "        vertical-align: top;\n",
       "    }\n",
       "\n",
       "    .dataframe thead th {\n",
       "        text-align: right;\n",
       "    }\n",
       "</style>\n",
       "<table border=\"1\" class=\"dataframe\">\n",
       "  <thead>\n",
       "    <tr style=\"text-align: right;\">\n",
       "      <th></th>\n",
       "      <th>ds</th>\n",
       "      <th>unique_id</th>\n",
       "      <th>Baltic Dry Index (BDI)</th>\n",
       "      <th>Howe Robinson Container Index</th>\n",
       "    </tr>\n",
       "  </thead>\n",
       "  <tbody>\n",
       "    <tr>\n",
       "      <th>0</th>\n",
       "      <td>2022-01-31</td>\n",
       "      <td>A</td>\n",
       "      <td>0.196868</td>\n",
       "      <td>-0.158958</td>\n",
       "    </tr>\n",
       "    <tr>\n",
       "      <th>1</th>\n",
       "      <td>2022-02-28</td>\n",
       "      <td>A</td>\n",
       "      <td>0.010630</td>\n",
       "      <td>-0.056460</td>\n",
       "    </tr>\n",
       "    <tr>\n",
       "      <th>2</th>\n",
       "      <td>2022-03-31</td>\n",
       "      <td>A</td>\n",
       "      <td>0.621604</td>\n",
       "      <td>0.080307</td>\n",
       "    </tr>\n",
       "    <tr>\n",
       "      <th>3</th>\n",
       "      <td>2022-04-30</td>\n",
       "      <td>A</td>\n",
       "      <td>1.161139</td>\n",
       "      <td>0.215543</td>\n",
       "    </tr>\n",
       "    <tr>\n",
       "      <th>4</th>\n",
       "      <td>2022-05-31</td>\n",
       "      <td>A</td>\n",
       "      <td>1.739329</td>\n",
       "      <td>0.394838</td>\n",
       "    </tr>\n",
       "    <tr>\n",
       "      <th>5</th>\n",
       "      <td>2022-06-30</td>\n",
       "      <td>A</td>\n",
       "      <td>1.700096</td>\n",
       "      <td>0.652644</td>\n",
       "    </tr>\n",
       "    <tr>\n",
       "      <th>6</th>\n",
       "      <td>2022-07-31</td>\n",
       "      <td>A</td>\n",
       "      <td>2.001985</td>\n",
       "      <td>1.135170</td>\n",
       "    </tr>\n",
       "    <tr>\n",
       "      <th>7</th>\n",
       "      <td>2022-08-31</td>\n",
       "      <td>A</td>\n",
       "      <td>2.629514</td>\n",
       "      <td>1.687843</td>\n",
       "    </tr>\n",
       "    <tr>\n",
       "      <th>8</th>\n",
       "      <td>2022-09-30</td>\n",
       "      <td>A</td>\n",
       "      <td>3.299182</td>\n",
       "      <td>1.991462</td>\n",
       "    </tr>\n",
       "    <tr>\n",
       "      <th>9</th>\n",
       "      <td>2022-10-31</td>\n",
       "      <td>A</td>\n",
       "      <td>3.926870</td>\n",
       "      <td>1.998856</td>\n",
       "    </tr>\n",
       "    <tr>\n",
       "      <th>10</th>\n",
       "      <td>2022-11-30</td>\n",
       "      <td>A</td>\n",
       "      <td>1.521353</td>\n",
       "      <td>1.794166</td>\n",
       "    </tr>\n",
       "    <tr>\n",
       "      <th>11</th>\n",
       "      <td>2022-12-31</td>\n",
       "      <td>A</td>\n",
       "      <td>1.582281</td>\n",
       "      <td>1.839908</td>\n",
       "    </tr>\n",
       "  </tbody>\n",
       "</table>\n",
       "</div>"
      ],
      "text/plain": [
       "           ds unique_id  Baltic Dry Index (BDI)  Howe Robinson Container Index\n",
       "0  2022-01-31         A                0.196868                      -0.158958\n",
       "1  2022-02-28         A                0.010630                      -0.056460\n",
       "2  2022-03-31         A                0.621604                       0.080307\n",
       "3  2022-04-30         A                1.161139                       0.215543\n",
       "4  2022-05-31         A                1.739329                       0.394838\n",
       "5  2022-06-30         A                1.700096                       0.652644\n",
       "6  2022-07-31         A                2.001985                       1.135170\n",
       "7  2022-08-31         A                2.629514                       1.687843\n",
       "8  2022-09-30         A                3.299182                       1.991462\n",
       "9  2022-10-31         A                3.926870                       1.998856\n",
       "10 2022-11-30         A                1.521353                       1.794166\n",
       "11 2022-12-31         A                1.582281                       1.839908"
      ]
     },
     "execution_count": 485,
     "metadata": {},
     "output_type": "execute_result"
    }
   ],
   "source": [
    "future_date_series = pd.date_range(pd.date_range(cutoff_date,periods=2,freq='M')[1],periods=test_period,freq='M')\n",
    "future_date = pd.DataFrame(future_date_series,columns=['ds'])\n",
    "# future_date['unique_id'] = 'A'\n",
    "future_df_temp = pd.concat([raw_y_set_resampled.rename(columns={'date':'ds'}).iloc[-(test_period+len(Y_test_df)):,:],future_date])\n",
    "future_df_temp[futr_list] = future_df_temp[futr_list].shift(test_period)\n",
    "\n",
    "future_df_with_index = list(['ds','unique_id']) + futr_list\n",
    "future_df_with_index\n",
    "\n",
    "future_df_temp = future_df_temp[future_df_temp.columns[future_df_temp.columns.isin(future_df_with_index)]].reset_index(drop=True)\n",
    "future_df_temp.insert(1, 'unique_id', 'A')\n",
    "futr_df = future_df_temp.iloc[-test_period:,:].reset_index(drop=True)\n",
    "futr_df"
   ]
  },
  {
   "cell_type": "markdown",
   "id": "41b52225-6b2d-4ffb-939e-beab3e28281e",
   "metadata": {},
   "source": [
    "#### No 변수"
   ]
  },
  {
   "cell_type": "code",
   "execution_count": 486,
   "id": "e57c2c7e-3a33-4965-adec-88ef864f2038",
   "metadata": {
    "tags": []
   },
   "outputs": [],
   "source": [
    "# horizon = len(Y_test_df)\n",
    "\n",
    "# models = [\n",
    "#           # NBEATS(input_size=5 * horizon, gpus = 1, h=horizon, max_epochs=100),\n",
    "#           # NBEATSx(h=12, input_size=24,\n",
    "#           #       # loss=DistributionLoss(distribution='Normal', level=[80, 90]),\n",
    "#           #       gpus=1,\n",
    "#           #       scaler_type='robust',\n",
    "#           #       stat_exog_list = None,  \n",
    "#           #       futr_exog_list = futr_list,\n",
    "#           #       max_steps=100,\n",
    "#           #       # val_check_steps=10,\n",
    "#           #       # early_stop_patience_steps=2\n",
    "#           #      ),\n",
    "#           NHITS(input_size=5 * horizon, \n",
    "#                 h=horizon+1,\n",
    "#                 gpus = 1,\n",
    "#                 stat_exog_list = None,\n",
    "#                 hist_exog_list=None,\n",
    "#                 futr_exog_list = None,\n",
    "#                 # futr_exog_list = futr_list,\n",
    "#                 # n_freq_downsample=[24, 12, 1],\n",
    "#                 # mlp_units = [[512, 512], [512, 512], [512, 512]],\n",
    "#                 # n_pool_kernel_size = [2, 2, 1],\n",
    "#                 # n_freq_downsample=[24, 12, 1],\n",
    "#                 scaler_type = 'standard',\n",
    "#                 learning_rate=1e-4,\n",
    "#                 pooling_mode = 'MaxPool1d',\n",
    "#                 activation='ReLU',\n",
    "#                 batch_size=128,\n",
    "#                 random_seed=42,\n",
    "#                 max_epochs=200\n",
    "#                ),\n",
    "#            # NHITS(\n",
    "#            #       h,\n",
    "#            #       input_size,\n",
    "#            #       futr_exog_list=None,\n",
    "#            #       hist_exog_list=None,\n",
    "#            #       stat_exog_list=None,\n",
    "#            #       stack_types: list = ['identity', 'identity', 'identity'],\n",
    "#            #       n_blocks: list = [1, 1, 1],\n",
    "#            #       mlp_units: list = [[512, 512], [512, 512], [512, 512]],\n",
    "#            #       n_pool_kernel_size: list = [2, 2, 1],\n",
    "#            #       n_freq_downsample: list = [4, 2, 1],\n",
    "#            #       pooling_mode: str = 'MaxPool1d',\n",
    "#            #       interpolation_mode: str = 'linear',\n",
    "#            #       dropout_prob_theta=0.0,\n",
    "#            #       activation='ReLU',\n",
    "#            #       loss=MAE(),\n",
    "#            #       learning_rate=0.001,\n",
    "#            #       batch_size=32,\n",
    "#            #       windows_batch_size: int = 1024,\n",
    "#            #       step_size: int = 1,\n",
    "#            #       scaler_type='identity',\n",
    "#            #       random_seed=1,\n",
    "#            #       num_workers_loader=0,\n",
    "#            #       drop_last_loader=False,\n",
    "#            #       **trainer_kwargs,\n",
    "    \n",
    "#           # TFT(h=12, \n",
    "#           #     input_size=5 * horizon,\n",
    "#           #     # hidden_size=20,\n",
    "#           #     #loss=DistributionLoss(distribution='Poisson', level=[80, 90]),\n",
    "#           #     #loss=DistributionLoss(distribution='Normal', level=[80, 90]),\n",
    "#           #     #loss=DistributionLoss(distribution='StudentT', level=[80, 90]),\n",
    "#           #     learning_rate=0.005,\n",
    "#           #     stat_exog_list = None,\n",
    "#           #     futr_exog_list = futr_list,\n",
    "#           #     max_steps=100,\n",
    "#           #     gpus=1,\n",
    "#           #     # val_check_steps=10,\n",
    "#           #     # early_stop_patience_steps=10,\n",
    "#           #     scaler_type='robust',\n",
    "#           #     # windows_batch_size=None,\n",
    "#           #     enable_progress_bar=True),\n",
    "#              ]\n",
    "# nforecast_nv = NeuralForecast(models=models, freq='M')\n",
    "# nforecast_nv.fit(df=Y_train_df)\n",
    "# Y_hat_df_nv = nforecast_nv.predict(futr_df=futr_df).reset_index()"
   ]
  },
  {
   "cell_type": "code",
   "execution_count": 487,
   "id": "23a1910f-285e-457a-888e-8ca4fa041ab9",
   "metadata": {
    "tags": []
   },
   "outputs": [],
   "source": [
    "# # Plot predictions\n",
    "# fig, ax = plt.subplots(1, 1, figsize = (20, 7))\n",
    "# Y_hat_df_nv = Y_test_df.merge(Y_hat_df_nv, how='left', on=['unique_id', 'ds'])\n",
    "# plot_df_nv = pd.concat([Y_train_df, Y_hat_df_nv]).set_index('ds')\n",
    "\n",
    "# plot_df_nv[['y', 'NHITS']].plot(ax=ax, linewidth=2, marker='o')\n",
    "# plt.axvline(cutoff_date, color='red')\n",
    "\n",
    "# ax.set_title(f'LI2CO3 Actual and Predicted Plot - Cutoff: {cutoff_date}', fontsize=22)\n",
    "# ax.set_ylabel('LI2CO3_PRICE', fontsize=20)\n",
    "# ax.set_xlabel('Date', fontsize=20)\n",
    "# ax.legend(prop={'size': 15})\n",
    "# ax.grid()\n",
    "\n",
    "# fig.savefig(f'./data/forecast_plot_{cutoff_date}_nv.png')"
   ]
  },
  {
   "cell_type": "code",
   "execution_count": 488,
   "id": "940332ca-281c-41c8-ac8f-2bc9646f7638",
   "metadata": {
    "tags": []
   },
   "outputs": [],
   "source": [
    "# plot_df_nv[['y', 'NHITS']].to_csv(f'./data/forecasting_{cutoff_date}_nv.csv',index=False)"
   ]
  },
  {
   "cell_type": "markdown",
   "id": "c5b6e49b-657e-48e0-b389-d96d77b28470",
   "metadata": {},
   "source": [
    "#### Yes 변수"
   ]
  },
  {
   "cell_type": "code",
   "execution_count": 489,
   "id": "d139885f-94df-4437-9a56-412123466be7",
   "metadata": {
    "tags": []
   },
   "outputs": [
    {
     "data": {
      "text/html": [
       "<div>\n",
       "<style scoped>\n",
       "    .dataframe tbody tr th:only-of-type {\n",
       "        vertical-align: middle;\n",
       "    }\n",
       "\n",
       "    .dataframe tbody tr th {\n",
       "        vertical-align: top;\n",
       "    }\n",
       "\n",
       "    .dataframe thead th {\n",
       "        text-align: right;\n",
       "    }\n",
       "</style>\n",
       "<table border=\"1\" class=\"dataframe\">\n",
       "  <thead>\n",
       "    <tr style=\"text-align: right;\">\n",
       "      <th></th>\n",
       "      <th>ds</th>\n",
       "      <th>unique_id</th>\n",
       "      <th>Baltic Dry Index (BDI)</th>\n",
       "      <th>Howe Robinson Container Index</th>\n",
       "    </tr>\n",
       "  </thead>\n",
       "  <tbody>\n",
       "    <tr>\n",
       "      <th>0</th>\n",
       "      <td>2022-01-31</td>\n",
       "      <td>A</td>\n",
       "      <td>0.196868</td>\n",
       "      <td>-0.158958</td>\n",
       "    </tr>\n",
       "    <tr>\n",
       "      <th>1</th>\n",
       "      <td>2022-02-28</td>\n",
       "      <td>A</td>\n",
       "      <td>0.010630</td>\n",
       "      <td>-0.056460</td>\n",
       "    </tr>\n",
       "    <tr>\n",
       "      <th>2</th>\n",
       "      <td>2022-03-31</td>\n",
       "      <td>A</td>\n",
       "      <td>0.621604</td>\n",
       "      <td>0.080307</td>\n",
       "    </tr>\n",
       "    <tr>\n",
       "      <th>3</th>\n",
       "      <td>2022-04-30</td>\n",
       "      <td>A</td>\n",
       "      <td>1.161139</td>\n",
       "      <td>0.215543</td>\n",
       "    </tr>\n",
       "    <tr>\n",
       "      <th>4</th>\n",
       "      <td>2022-05-31</td>\n",
       "      <td>A</td>\n",
       "      <td>1.739329</td>\n",
       "      <td>0.394838</td>\n",
       "    </tr>\n",
       "    <tr>\n",
       "      <th>5</th>\n",
       "      <td>2022-06-30</td>\n",
       "      <td>A</td>\n",
       "      <td>1.700096</td>\n",
       "      <td>0.652644</td>\n",
       "    </tr>\n",
       "    <tr>\n",
       "      <th>6</th>\n",
       "      <td>2022-07-31</td>\n",
       "      <td>A</td>\n",
       "      <td>2.001985</td>\n",
       "      <td>1.135170</td>\n",
       "    </tr>\n",
       "    <tr>\n",
       "      <th>7</th>\n",
       "      <td>2022-08-31</td>\n",
       "      <td>A</td>\n",
       "      <td>2.629514</td>\n",
       "      <td>1.687843</td>\n",
       "    </tr>\n",
       "    <tr>\n",
       "      <th>8</th>\n",
       "      <td>2022-09-30</td>\n",
       "      <td>A</td>\n",
       "      <td>3.299182</td>\n",
       "      <td>1.991462</td>\n",
       "    </tr>\n",
       "    <tr>\n",
       "      <th>9</th>\n",
       "      <td>2022-10-31</td>\n",
       "      <td>A</td>\n",
       "      <td>3.926870</td>\n",
       "      <td>1.998856</td>\n",
       "    </tr>\n",
       "    <tr>\n",
       "      <th>10</th>\n",
       "      <td>2022-11-30</td>\n",
       "      <td>A</td>\n",
       "      <td>1.521353</td>\n",
       "      <td>1.794166</td>\n",
       "    </tr>\n",
       "    <tr>\n",
       "      <th>11</th>\n",
       "      <td>2022-12-31</td>\n",
       "      <td>A</td>\n",
       "      <td>1.582281</td>\n",
       "      <td>1.839908</td>\n",
       "    </tr>\n",
       "  </tbody>\n",
       "</table>\n",
       "</div>"
      ],
      "text/plain": [
       "           ds unique_id  Baltic Dry Index (BDI)  Howe Robinson Container Index\n",
       "0  2022-01-31         A                0.196868                      -0.158958\n",
       "1  2022-02-28         A                0.010630                      -0.056460\n",
       "2  2022-03-31         A                0.621604                       0.080307\n",
       "3  2022-04-30         A                1.161139                       0.215543\n",
       "4  2022-05-31         A                1.739329                       0.394838\n",
       "5  2022-06-30         A                1.700096                       0.652644\n",
       "6  2022-07-31         A                2.001985                       1.135170\n",
       "7  2022-08-31         A                2.629514                       1.687843\n",
       "8  2022-09-30         A                3.299182                       1.991462\n",
       "9  2022-10-31         A                3.926870                       1.998856\n",
       "10 2022-11-30         A                1.521353                       1.794166\n",
       "11 2022-12-31         A                1.582281                       1.839908"
      ]
     },
     "execution_count": 489,
     "metadata": {},
     "output_type": "execute_result"
    }
   ],
   "source": [
    "futr_df"
   ]
  },
  {
   "cell_type": "code",
   "execution_count": 494,
   "id": "16b3c015-bcd6-48b4-a847-d414d3e093e7",
   "metadata": {
    "tags": []
   },
   "outputs": [
    {
     "data": {
      "application/vnd.jupyter.widget-view+json": {
       "model_id": "84052c39a38540f39f3d33348a28dc14",
       "version_major": 2,
       "version_minor": 0
      },
      "text/plain": [
       "Sanity Checking: 0it [00:00, ?it/s]"
      ]
     },
     "metadata": {},
     "output_type": "display_data"
    },
    {
     "data": {
      "application/vnd.jupyter.widget-view+json": {
       "model_id": "bbd127f5ad934baa903e5b825c80e8b9",
       "version_major": 2,
       "version_minor": 0
      },
      "text/plain": [
       "Training: 0it [00:00, ?it/s]"
      ]
     },
     "metadata": {},
     "output_type": "display_data"
    },
    {
     "data": {
      "application/vnd.jupyter.widget-view+json": {
       "model_id": "3aa5664065ab40abab6f7fe67842de72",
       "version_major": 2,
       "version_minor": 0
      },
      "text/plain": [
       "Validation: 0it [00:00, ?it/s]"
      ]
     },
     "metadata": {},
     "output_type": "display_data"
    },
    {
     "data": {
      "application/vnd.jupyter.widget-view+json": {
       "model_id": "8fc67758bf214a08a04f42da861b7c01",
       "version_major": 2,
       "version_minor": 0
      },
      "text/plain": [
       "Validation: 0it [00:00, ?it/s]"
      ]
     },
     "metadata": {},
     "output_type": "display_data"
    },
    {
     "data": {
      "application/vnd.jupyter.widget-view+json": {
       "model_id": "320970064f014bc29096cff8429bd3e0",
       "version_major": 2,
       "version_minor": 0
      },
      "text/plain": [
       "Validation: 0it [00:00, ?it/s]"
      ]
     },
     "metadata": {},
     "output_type": "display_data"
    },
    {
     "data": {
      "application/vnd.jupyter.widget-view+json": {
       "model_id": "f4693e440c6545558ffd9517d1994047",
       "version_major": 2,
       "version_minor": 0
      },
      "text/plain": [
       "Validation: 0it [00:00, ?it/s]"
      ]
     },
     "metadata": {},
     "output_type": "display_data"
    },
    {
     "data": {
      "application/vnd.jupyter.widget-view+json": {
       "model_id": "157ba4e4be0c410e824e8bf94e2a52fc",
       "version_major": 2,
       "version_minor": 0
      },
      "text/plain": [
       "Validation: 0it [00:00, ?it/s]"
      ]
     },
     "metadata": {},
     "output_type": "display_data"
    },
    {
     "data": {
      "application/vnd.jupyter.widget-view+json": {
       "model_id": "012ea34feb024392b4f0ce244aa3790d",
       "version_major": 2,
       "version_minor": 0
      },
      "text/plain": [
       "Validation: 0it [00:00, ?it/s]"
      ]
     },
     "metadata": {},
     "output_type": "display_data"
    },
    {
     "data": {
      "application/vnd.jupyter.widget-view+json": {
       "model_id": "5cd02d8c47ff433aaad22f24f35ac671",
       "version_major": 2,
       "version_minor": 0
      },
      "text/plain": [
       "Validation: 0it [00:00, ?it/s]"
      ]
     },
     "metadata": {},
     "output_type": "display_data"
    },
    {
     "data": {
      "application/vnd.jupyter.widget-view+json": {
       "model_id": "6852f0f0b9ec4adda3d762b093a099e0",
       "version_major": 2,
       "version_minor": 0
      },
      "text/plain": [
       "Validation: 0it [00:00, ?it/s]"
      ]
     },
     "metadata": {},
     "output_type": "display_data"
    },
    {
     "data": {
      "application/vnd.jupyter.widget-view+json": {
       "model_id": "2ae67dceaa504fccb62435eed30fa8ec",
       "version_major": 2,
       "version_minor": 0
      },
      "text/plain": [
       "Validation: 0it [00:00, ?it/s]"
      ]
     },
     "metadata": {},
     "output_type": "display_data"
    },
    {
     "data": {
      "application/vnd.jupyter.widget-view+json": {
       "model_id": "78ec8e4366264c2492234239209371ce",
       "version_major": 2,
       "version_minor": 0
      },
      "text/plain": [
       "Validation: 0it [00:00, ?it/s]"
      ]
     },
     "metadata": {},
     "output_type": "display_data"
    },
    {
     "data": {
      "application/vnd.jupyter.widget-view+json": {
       "model_id": "7658d6c6a71147d4bd0dfeff1a655863",
       "version_major": 2,
       "version_minor": 0
      },
      "text/plain": [
       "Validation: 0it [00:00, ?it/s]"
      ]
     },
     "metadata": {},
     "output_type": "display_data"
    },
    {
     "data": {
      "application/vnd.jupyter.widget-view+json": {
       "model_id": "bc4e36333ced46c9826ca569cf4eef40",
       "version_major": 2,
       "version_minor": 0
      },
      "text/plain": [
       "Validation: 0it [00:00, ?it/s]"
      ]
     },
     "metadata": {},
     "output_type": "display_data"
    },
    {
     "data": {
      "application/vnd.jupyter.widget-view+json": {
       "model_id": "0e8452e7ec3841c09c49be89f44484f1",
       "version_major": 2,
       "version_minor": 0
      },
      "text/plain": [
       "Validation: 0it [00:00, ?it/s]"
      ]
     },
     "metadata": {},
     "output_type": "display_data"
    },
    {
     "data": {
      "application/vnd.jupyter.widget-view+json": {
       "model_id": "d9be1ee8bed64fe4b5643e60216d75dd",
       "version_major": 2,
       "version_minor": 0
      },
      "text/plain": [
       "Validation: 0it [00:00, ?it/s]"
      ]
     },
     "metadata": {},
     "output_type": "display_data"
    },
    {
     "data": {
      "application/vnd.jupyter.widget-view+json": {
       "model_id": "0926407b75404022ae624ef5ebeaf283",
       "version_major": 2,
       "version_minor": 0
      },
      "text/plain": [
       "Validation: 0it [00:00, ?it/s]"
      ]
     },
     "metadata": {},
     "output_type": "display_data"
    },
    {
     "data": {
      "application/vnd.jupyter.widget-view+json": {
       "model_id": "a508d4fb1a664d94832c46d032ee76bc",
       "version_major": 2,
       "version_minor": 0
      },
      "text/plain": [
       "Validation: 0it [00:00, ?it/s]"
      ]
     },
     "metadata": {},
     "output_type": "display_data"
    },
    {
     "data": {
      "application/vnd.jupyter.widget-view+json": {
       "model_id": "088d88c97a5c413eb17af801c811e96e",
       "version_major": 2,
       "version_minor": 0
      },
      "text/plain": [
       "Validation: 0it [00:00, ?it/s]"
      ]
     },
     "metadata": {},
     "output_type": "display_data"
    },
    {
     "data": {
      "application/vnd.jupyter.widget-view+json": {
       "model_id": "b59898839546450aa2e810eacf3bbd60",
       "version_major": 2,
       "version_minor": 0
      },
      "text/plain": [
       "Validation: 0it [00:00, ?it/s]"
      ]
     },
     "metadata": {},
     "output_type": "display_data"
    },
    {
     "data": {
      "application/vnd.jupyter.widget-view+json": {
       "model_id": "9567b00ec5064dd7bf19efacf44b5c2a",
       "version_major": 2,
       "version_minor": 0
      },
      "text/plain": [
       "Validation: 0it [00:00, ?it/s]"
      ]
     },
     "metadata": {},
     "output_type": "display_data"
    },
    {
     "data": {
      "application/vnd.jupyter.widget-view+json": {
       "model_id": "97cbaa56909344358a1b4c8a20862619",
       "version_major": 2,
       "version_minor": 0
      },
      "text/plain": [
       "Validation: 0it [00:00, ?it/s]"
      ]
     },
     "metadata": {},
     "output_type": "display_data"
    },
    {
     "data": {
      "application/vnd.jupyter.widget-view+json": {
       "model_id": "89b790443604419bbe6b08b34e3ec9c5",
       "version_major": 2,
       "version_minor": 0
      },
      "text/plain": [
       "Validation: 0it [00:00, ?it/s]"
      ]
     },
     "metadata": {},
     "output_type": "display_data"
    },
    {
     "data": {
      "application/vnd.jupyter.widget-view+json": {
       "model_id": "c53a1f84736f44d3abfe9c1f8f528a93",
       "version_major": 2,
       "version_minor": 0
      },
      "text/plain": [
       "Validation: 0it [00:00, ?it/s]"
      ]
     },
     "metadata": {},
     "output_type": "display_data"
    },
    {
     "data": {
      "application/vnd.jupyter.widget-view+json": {
       "model_id": "4e15b24d67434c5f8819e3defe6e1d9f",
       "version_major": 2,
       "version_minor": 0
      },
      "text/plain": [
       "Validation: 0it [00:00, ?it/s]"
      ]
     },
     "metadata": {},
     "output_type": "display_data"
    },
    {
     "data": {
      "application/vnd.jupyter.widget-view+json": {
       "model_id": "0156447eba684472ac3a63097bb6f4c0",
       "version_major": 2,
       "version_minor": 0
      },
      "text/plain": [
       "Validation: 0it [00:00, ?it/s]"
      ]
     },
     "metadata": {},
     "output_type": "display_data"
    },
    {
     "data": {
      "application/vnd.jupyter.widget-view+json": {
       "model_id": "2a140cefda364136b7fe86af0441d600",
       "version_major": 2,
       "version_minor": 0
      },
      "text/plain": [
       "Validation: 0it [00:00, ?it/s]"
      ]
     },
     "metadata": {},
     "output_type": "display_data"
    },
    {
     "data": {
      "application/vnd.jupyter.widget-view+json": {
       "model_id": "5b330d32a6114021b4f52b30a762129b",
       "version_major": 2,
       "version_minor": 0
      },
      "text/plain": [
       "Validation: 0it [00:00, ?it/s]"
      ]
     },
     "metadata": {},
     "output_type": "display_data"
    },
    {
     "data": {
      "application/vnd.jupyter.widget-view+json": {
       "model_id": "fcd4c9ff385f410581e98da6b91aed5b",
       "version_major": 2,
       "version_minor": 0
      },
      "text/plain": [
       "Validation: 0it [00:00, ?it/s]"
      ]
     },
     "metadata": {},
     "output_type": "display_data"
    },
    {
     "data": {
      "application/vnd.jupyter.widget-view+json": {
       "model_id": "099137faf0414977bf43499d43d0bcf3",
       "version_major": 2,
       "version_minor": 0
      },
      "text/plain": [
       "Validation: 0it [00:00, ?it/s]"
      ]
     },
     "metadata": {},
     "output_type": "display_data"
    },
    {
     "data": {
      "application/vnd.jupyter.widget-view+json": {
       "model_id": "e6d6e0ee0c7e45938fee585e2ff0a39b",
       "version_major": 2,
       "version_minor": 0
      },
      "text/plain": [
       "Validation: 0it [00:00, ?it/s]"
      ]
     },
     "metadata": {},
     "output_type": "display_data"
    },
    {
     "data": {
      "application/vnd.jupyter.widget-view+json": {
       "model_id": "407bf81a175147ecb705f6b67161cd42",
       "version_major": 2,
       "version_minor": 0
      },
      "text/plain": [
       "Validation: 0it [00:00, ?it/s]"
      ]
     },
     "metadata": {},
     "output_type": "display_data"
    },
    {
     "data": {
      "application/vnd.jupyter.widget-view+json": {
       "model_id": "803f004b4958473b9f755cd6c262bed2",
       "version_major": 2,
       "version_minor": 0
      },
      "text/plain": [
       "Validation: 0it [00:00, ?it/s]"
      ]
     },
     "metadata": {},
     "output_type": "display_data"
    },
    {
     "data": {
      "application/vnd.jupyter.widget-view+json": {
       "model_id": "5edab16c665940bea29f996e28102ff7",
       "version_major": 2,
       "version_minor": 0
      },
      "text/plain": [
       "Validation: 0it [00:00, ?it/s]"
      ]
     },
     "metadata": {},
     "output_type": "display_data"
    },
    {
     "data": {
      "application/vnd.jupyter.widget-view+json": {
       "model_id": "7682fa8f0ec848bf9f0ed0c968c6ac3b",
       "version_major": 2,
       "version_minor": 0
      },
      "text/plain": [
       "Validation: 0it [00:00, ?it/s]"
      ]
     },
     "metadata": {},
     "output_type": "display_data"
    },
    {
     "data": {
      "application/vnd.jupyter.widget-view+json": {
       "model_id": "5e018ffa4eae455f842d280536a6dcb3",
       "version_major": 2,
       "version_minor": 0
      },
      "text/plain": [
       "Validation: 0it [00:00, ?it/s]"
      ]
     },
     "metadata": {},
     "output_type": "display_data"
    },
    {
     "data": {
      "application/vnd.jupyter.widget-view+json": {
       "model_id": "f23acf5b74224897bc0601ee091acbc5",
       "version_major": 2,
       "version_minor": 0
      },
      "text/plain": [
       "Validation: 0it [00:00, ?it/s]"
      ]
     },
     "metadata": {},
     "output_type": "display_data"
    },
    {
     "data": {
      "application/vnd.jupyter.widget-view+json": {
       "model_id": "61d4249262a34e79b6e392ff3badcb66",
       "version_major": 2,
       "version_minor": 0
      },
      "text/plain": [
       "Validation: 0it [00:00, ?it/s]"
      ]
     },
     "metadata": {},
     "output_type": "display_data"
    },
    {
     "data": {
      "application/vnd.jupyter.widget-view+json": {
       "model_id": "cb88dcb907454af6961ca94b9715aca4",
       "version_major": 2,
       "version_minor": 0
      },
      "text/plain": [
       "Validation: 0it [00:00, ?it/s]"
      ]
     },
     "metadata": {},
     "output_type": "display_data"
    },
    {
     "data": {
      "application/vnd.jupyter.widget-view+json": {
       "model_id": "5a56252e4b6149bcafc1362c6590b2fb",
       "version_major": 2,
       "version_minor": 0
      },
      "text/plain": [
       "Validation: 0it [00:00, ?it/s]"
      ]
     },
     "metadata": {},
     "output_type": "display_data"
    },
    {
     "data": {
      "application/vnd.jupyter.widget-view+json": {
       "model_id": "838ddc68cae54661b25f82aa3c336dd9",
       "version_major": 2,
       "version_minor": 0
      },
      "text/plain": [
       "Validation: 0it [00:00, ?it/s]"
      ]
     },
     "metadata": {},
     "output_type": "display_data"
    },
    {
     "data": {
      "application/vnd.jupyter.widget-view+json": {
       "model_id": "b410e47249c444a08b2287eeb95bc979",
       "version_major": 2,
       "version_minor": 0
      },
      "text/plain": [
       "Validation: 0it [00:00, ?it/s]"
      ]
     },
     "metadata": {},
     "output_type": "display_data"
    },
    {
     "data": {
      "application/vnd.jupyter.widget-view+json": {
       "model_id": "0c180078b8424c8b94aa327d82b5ea22",
       "version_major": 2,
       "version_minor": 0
      },
      "text/plain": [
       "Validation: 0it [00:00, ?it/s]"
      ]
     },
     "metadata": {},
     "output_type": "display_data"
    },
    {
     "data": {
      "application/vnd.jupyter.widget-view+json": {
       "model_id": "5d6b871e59ad41389c7284d00e041c11",
       "version_major": 2,
       "version_minor": 0
      },
      "text/plain": [
       "Validation: 0it [00:00, ?it/s]"
      ]
     },
     "metadata": {},
     "output_type": "display_data"
    },
    {
     "data": {
      "application/vnd.jupyter.widget-view+json": {
       "model_id": "07edc2422a4e4d40a470f26f9f66ea47",
       "version_major": 2,
       "version_minor": 0
      },
      "text/plain": [
       "Validation: 0it [00:00, ?it/s]"
      ]
     },
     "metadata": {},
     "output_type": "display_data"
    },
    {
     "data": {
      "application/vnd.jupyter.widget-view+json": {
       "model_id": "277be9f0f1214134a4786f18d515cde1",
       "version_major": 2,
       "version_minor": 0
      },
      "text/plain": [
       "Validation: 0it [00:00, ?it/s]"
      ]
     },
     "metadata": {},
     "output_type": "display_data"
    },
    {
     "data": {
      "application/vnd.jupyter.widget-view+json": {
       "model_id": "125ea027b40a4dd39c8b3b86eea56dd9",
       "version_major": 2,
       "version_minor": 0
      },
      "text/plain": [
       "Validation: 0it [00:00, ?it/s]"
      ]
     },
     "metadata": {},
     "output_type": "display_data"
    },
    {
     "data": {
      "application/vnd.jupyter.widget-view+json": {
       "model_id": "c18e4e50abfb488da40e30661852e511",
       "version_major": 2,
       "version_minor": 0
      },
      "text/plain": [
       "Validation: 0it [00:00, ?it/s]"
      ]
     },
     "metadata": {},
     "output_type": "display_data"
    },
    {
     "data": {
      "application/vnd.jupyter.widget-view+json": {
       "model_id": "2d78a44ee87e4032b7344cf0b5b43274",
       "version_major": 2,
       "version_minor": 0
      },
      "text/plain": [
       "Validation: 0it [00:00, ?it/s]"
      ]
     },
     "metadata": {},
     "output_type": "display_data"
    },
    {
     "data": {
      "application/vnd.jupyter.widget-view+json": {
       "model_id": "f428ff6c218b4431ab6c8f3419b561fe",
       "version_major": 2,
       "version_minor": 0
      },
      "text/plain": [
       "Validation: 0it [00:00, ?it/s]"
      ]
     },
     "metadata": {},
     "output_type": "display_data"
    },
    {
     "data": {
      "application/vnd.jupyter.widget-view+json": {
       "model_id": "81b344888d9b4937b62c95840fecb45f",
       "version_major": 2,
       "version_minor": 0
      },
      "text/plain": [
       "Validation: 0it [00:00, ?it/s]"
      ]
     },
     "metadata": {},
     "output_type": "display_data"
    },
    {
     "data": {
      "application/vnd.jupyter.widget-view+json": {
       "model_id": "c9362f78dc0a4ac3af9929904db7f055",
       "version_major": 2,
       "version_minor": 0
      },
      "text/plain": [
       "Validation: 0it [00:00, ?it/s]"
      ]
     },
     "metadata": {},
     "output_type": "display_data"
    },
    {
     "data": {
      "application/vnd.jupyter.widget-view+json": {
       "model_id": "d0770aaef2d8492e88f5c3736460b6c5",
       "version_major": 2,
       "version_minor": 0
      },
      "text/plain": [
       "Validation: 0it [00:00, ?it/s]"
      ]
     },
     "metadata": {},
     "output_type": "display_data"
    },
    {
     "data": {
      "application/vnd.jupyter.widget-view+json": {
       "model_id": "c58acd486d4a4755848c763294ccd44c",
       "version_major": 2,
       "version_minor": 0
      },
      "text/plain": [
       "Validation: 0it [00:00, ?it/s]"
      ]
     },
     "metadata": {},
     "output_type": "display_data"
    },
    {
     "data": {
      "application/vnd.jupyter.widget-view+json": {
       "model_id": "41e01b2006a642d2b4a22c262215da61",
       "version_major": 2,
       "version_minor": 0
      },
      "text/plain": [
       "Validation: 0it [00:00, ?it/s]"
      ]
     },
     "metadata": {},
     "output_type": "display_data"
    },
    {
     "data": {
      "application/vnd.jupyter.widget-view+json": {
       "model_id": "9237d727d3ea4717b478c930f9e97d88",
       "version_major": 2,
       "version_minor": 0
      },
      "text/plain": [
       "Validation: 0it [00:00, ?it/s]"
      ]
     },
     "metadata": {},
     "output_type": "display_data"
    },
    {
     "data": {
      "application/vnd.jupyter.widget-view+json": {
       "model_id": "4f6759b6769d4992bfdc854d60d630e5",
       "version_major": 2,
       "version_minor": 0
      },
      "text/plain": [
       "Validation: 0it [00:00, ?it/s]"
      ]
     },
     "metadata": {},
     "output_type": "display_data"
    },
    {
     "data": {
      "application/vnd.jupyter.widget-view+json": {
       "model_id": "bf0c4fea270a4caa9f33122c6ee9f1c1",
       "version_major": 2,
       "version_minor": 0
      },
      "text/plain": [
       "Validation: 0it [00:00, ?it/s]"
      ]
     },
     "metadata": {},
     "output_type": "display_data"
    },
    {
     "data": {
      "application/vnd.jupyter.widget-view+json": {
       "model_id": "9cecd3ea379440f28a73cc1e97e41edd",
       "version_major": 2,
       "version_minor": 0
      },
      "text/plain": [
       "Validation: 0it [00:00, ?it/s]"
      ]
     },
     "metadata": {},
     "output_type": "display_data"
    },
    {
     "data": {
      "application/vnd.jupyter.widget-view+json": {
       "model_id": "64e17cc920ef4ef7a3e2b89fd9a67299",
       "version_major": 2,
       "version_minor": 0
      },
      "text/plain": [
       "Validation: 0it [00:00, ?it/s]"
      ]
     },
     "metadata": {},
     "output_type": "display_data"
    },
    {
     "data": {
      "application/vnd.jupyter.widget-view+json": {
       "model_id": "feb3b24c84194591ae8fddb2d996cf4a",
       "version_major": 2,
       "version_minor": 0
      },
      "text/plain": [
       "Validation: 0it [00:00, ?it/s]"
      ]
     },
     "metadata": {},
     "output_type": "display_data"
    },
    {
     "data": {
      "application/vnd.jupyter.widget-view+json": {
       "model_id": "4cb173c18b0b48f9b2ed556e1669d568",
       "version_major": 2,
       "version_minor": 0
      },
      "text/plain": [
       "Validation: 0it [00:00, ?it/s]"
      ]
     },
     "metadata": {},
     "output_type": "display_data"
    },
    {
     "data": {
      "application/vnd.jupyter.widget-view+json": {
       "model_id": "5a6ee7e1a85a44659f78a80b957a27db",
       "version_major": 2,
       "version_minor": 0
      },
      "text/plain": [
       "Validation: 0it [00:00, ?it/s]"
      ]
     },
     "metadata": {},
     "output_type": "display_data"
    },
    {
     "data": {
      "application/vnd.jupyter.widget-view+json": {
       "model_id": "cf9993ef6a204d58bd12c7489a1e998a",
       "version_major": 2,
       "version_minor": 0
      },
      "text/plain": [
       "Validation: 0it [00:00, ?it/s]"
      ]
     },
     "metadata": {},
     "output_type": "display_data"
    },
    {
     "data": {
      "application/vnd.jupyter.widget-view+json": {
       "model_id": "4e54e99a331c4c9a98dde8d62b706223",
       "version_major": 2,
       "version_minor": 0
      },
      "text/plain": [
       "Validation: 0it [00:00, ?it/s]"
      ]
     },
     "metadata": {},
     "output_type": "display_data"
    },
    {
     "data": {
      "application/vnd.jupyter.widget-view+json": {
       "model_id": "ebf37aed00314875a9c0afe9f8fd4963",
       "version_major": 2,
       "version_minor": 0
      },
      "text/plain": [
       "Validation: 0it [00:00, ?it/s]"
      ]
     },
     "metadata": {},
     "output_type": "display_data"
    },
    {
     "data": {
      "application/vnd.jupyter.widget-view+json": {
       "model_id": "18e02dac117d4e79b8cdecde5c12738b",
       "version_major": 2,
       "version_minor": 0
      },
      "text/plain": [
       "Validation: 0it [00:00, ?it/s]"
      ]
     },
     "metadata": {},
     "output_type": "display_data"
    },
    {
     "data": {
      "application/vnd.jupyter.widget-view+json": {
       "model_id": "489ff2d981a24de0a58665f1db776230",
       "version_major": 2,
       "version_minor": 0
      },
      "text/plain": [
       "Validation: 0it [00:00, ?it/s]"
      ]
     },
     "metadata": {},
     "output_type": "display_data"
    },
    {
     "data": {
      "application/vnd.jupyter.widget-view+json": {
       "model_id": "1b551e25ebbe48d8bb3f3aee2718b355",
       "version_major": 2,
       "version_minor": 0
      },
      "text/plain": [
       "Validation: 0it [00:00, ?it/s]"
      ]
     },
     "metadata": {},
     "output_type": "display_data"
    },
    {
     "data": {
      "application/vnd.jupyter.widget-view+json": {
       "model_id": "f93bc5dfb6914b07a1b362cd08935b68",
       "version_major": 2,
       "version_minor": 0
      },
      "text/plain": [
       "Validation: 0it [00:00, ?it/s]"
      ]
     },
     "metadata": {},
     "output_type": "display_data"
    },
    {
     "data": {
      "application/vnd.jupyter.widget-view+json": {
       "model_id": "2505daf4cc7c493da6b7c5c28e99dc9a",
       "version_major": 2,
       "version_minor": 0
      },
      "text/plain": [
       "Validation: 0it [00:00, ?it/s]"
      ]
     },
     "metadata": {},
     "output_type": "display_data"
    },
    {
     "data": {
      "application/vnd.jupyter.widget-view+json": {
       "model_id": "6faa4ac8922a4be6a5b29caf2e134d92",
       "version_major": 2,
       "version_minor": 0
      },
      "text/plain": [
       "Validation: 0it [00:00, ?it/s]"
      ]
     },
     "metadata": {},
     "output_type": "display_data"
    },
    {
     "data": {
      "application/vnd.jupyter.widget-view+json": {
       "model_id": "e24f08f6277d4a05841dd73bcd7d5383",
       "version_major": 2,
       "version_minor": 0
      },
      "text/plain": [
       "Validation: 0it [00:00, ?it/s]"
      ]
     },
     "metadata": {},
     "output_type": "display_data"
    },
    {
     "data": {
      "application/vnd.jupyter.widget-view+json": {
       "model_id": "02159e7df11c487db129d990e5da1618",
       "version_major": 2,
       "version_minor": 0
      },
      "text/plain": [
       "Validation: 0it [00:00, ?it/s]"
      ]
     },
     "metadata": {},
     "output_type": "display_data"
    },
    {
     "data": {
      "application/vnd.jupyter.widget-view+json": {
       "model_id": "f8cdfa76198b4c058b106bc378c81b5b",
       "version_major": 2,
       "version_minor": 0
      },
      "text/plain": [
       "Validation: 0it [00:00, ?it/s]"
      ]
     },
     "metadata": {},
     "output_type": "display_data"
    },
    {
     "data": {
      "application/vnd.jupyter.widget-view+json": {
       "model_id": "c48a494b4bb0480dbae111042c819f29",
       "version_major": 2,
       "version_minor": 0
      },
      "text/plain": [
       "Validation: 0it [00:00, ?it/s]"
      ]
     },
     "metadata": {},
     "output_type": "display_data"
    },
    {
     "data": {
      "application/vnd.jupyter.widget-view+json": {
       "model_id": "a92e3f44871d4a39bce41076d12eb3c9",
       "version_major": 2,
       "version_minor": 0
      },
      "text/plain": [
       "Validation: 0it [00:00, ?it/s]"
      ]
     },
     "metadata": {},
     "output_type": "display_data"
    },
    {
     "data": {
      "application/vnd.jupyter.widget-view+json": {
       "model_id": "d3173c7f3c7040989227d722a851385b",
       "version_major": 2,
       "version_minor": 0
      },
      "text/plain": [
       "Validation: 0it [00:00, ?it/s]"
      ]
     },
     "metadata": {},
     "output_type": "display_data"
    },
    {
     "data": {
      "application/vnd.jupyter.widget-view+json": {
       "model_id": "81417e6c681d4355b386e0b0c4705a0f",
       "version_major": 2,
       "version_minor": 0
      },
      "text/plain": [
       "Validation: 0it [00:00, ?it/s]"
      ]
     },
     "metadata": {},
     "output_type": "display_data"
    },
    {
     "data": {
      "application/vnd.jupyter.widget-view+json": {
       "model_id": "bf96c2b6034c4eb4895bc74564c160c3",
       "version_major": 2,
       "version_minor": 0
      },
      "text/plain": [
       "Validation: 0it [00:00, ?it/s]"
      ]
     },
     "metadata": {},
     "output_type": "display_data"
    },
    {
     "data": {
      "application/vnd.jupyter.widget-view+json": {
       "model_id": "45870d39f363495681cdc64f961b6f2d",
       "version_major": 2,
       "version_minor": 0
      },
      "text/plain": [
       "Validation: 0it [00:00, ?it/s]"
      ]
     },
     "metadata": {},
     "output_type": "display_data"
    },
    {
     "data": {
      "application/vnd.jupyter.widget-view+json": {
       "model_id": "4ea61f800c4a463b97052208b93dbd95",
       "version_major": 2,
       "version_minor": 0
      },
      "text/plain": [
       "Validation: 0it [00:00, ?it/s]"
      ]
     },
     "metadata": {},
     "output_type": "display_data"
    },
    {
     "data": {
      "application/vnd.jupyter.widget-view+json": {
       "model_id": "42249e3c1200497981dc231b3a811917",
       "version_major": 2,
       "version_minor": 0
      },
      "text/plain": [
       "Validation: 0it [00:00, ?it/s]"
      ]
     },
     "metadata": {},
     "output_type": "display_data"
    },
    {
     "data": {
      "application/vnd.jupyter.widget-view+json": {
       "model_id": "ed796e168cdc41a5b8de2e0c363b7d09",
       "version_major": 2,
       "version_minor": 0
      },
      "text/plain": [
       "Validation: 0it [00:00, ?it/s]"
      ]
     },
     "metadata": {},
     "output_type": "display_data"
    },
    {
     "data": {
      "application/vnd.jupyter.widget-view+json": {
       "model_id": "3f960e4c77a04e299fe9d58220e391d9",
       "version_major": 2,
       "version_minor": 0
      },
      "text/plain": [
       "Validation: 0it [00:00, ?it/s]"
      ]
     },
     "metadata": {},
     "output_type": "display_data"
    },
    {
     "data": {
      "application/vnd.jupyter.widget-view+json": {
       "model_id": "8121bcef01ed41619c5eda6a7e015d50",
       "version_major": 2,
       "version_minor": 0
      },
      "text/plain": [
       "Validation: 0it [00:00, ?it/s]"
      ]
     },
     "metadata": {},
     "output_type": "display_data"
    },
    {
     "data": {
      "application/vnd.jupyter.widget-view+json": {
       "model_id": "c7e84e16807c4c98b45a66e41c9c6c14",
       "version_major": 2,
       "version_minor": 0
      },
      "text/plain": [
       "Validation: 0it [00:00, ?it/s]"
      ]
     },
     "metadata": {},
     "output_type": "display_data"
    },
    {
     "data": {
      "application/vnd.jupyter.widget-view+json": {
       "model_id": "44aa8a649e704983aed5f437261bdae4",
       "version_major": 2,
       "version_minor": 0
      },
      "text/plain": [
       "Validation: 0it [00:00, ?it/s]"
      ]
     },
     "metadata": {},
     "output_type": "display_data"
    },
    {
     "data": {
      "application/vnd.jupyter.widget-view+json": {
       "model_id": "d218c6a24c7741cfa36f32bda868a2ad",
       "version_major": 2,
       "version_minor": 0
      },
      "text/plain": [
       "Validation: 0it [00:00, ?it/s]"
      ]
     },
     "metadata": {},
     "output_type": "display_data"
    },
    {
     "data": {
      "application/vnd.jupyter.widget-view+json": {
       "model_id": "feecf27f24da42b4935e1b7580ee8d01",
       "version_major": 2,
       "version_minor": 0
      },
      "text/plain": [
       "Validation: 0it [00:00, ?it/s]"
      ]
     },
     "metadata": {},
     "output_type": "display_data"
    },
    {
     "data": {
      "application/vnd.jupyter.widget-view+json": {
       "model_id": "4936cf08525248c6af64e0bc2b201c43",
       "version_major": 2,
       "version_minor": 0
      },
      "text/plain": [
       "Validation: 0it [00:00, ?it/s]"
      ]
     },
     "metadata": {},
     "output_type": "display_data"
    },
    {
     "data": {
      "application/vnd.jupyter.widget-view+json": {
       "model_id": "1d2644b4104840b6a3ec4cc4280358b8",
       "version_major": 2,
       "version_minor": 0
      },
      "text/plain": [
       "Validation: 0it [00:00, ?it/s]"
      ]
     },
     "metadata": {},
     "output_type": "display_data"
    },
    {
     "data": {
      "application/vnd.jupyter.widget-view+json": {
       "model_id": "758de970c83e4eea8c7c3702237db03d",
       "version_major": 2,
       "version_minor": 0
      },
      "text/plain": [
       "Validation: 0it [00:00, ?it/s]"
      ]
     },
     "metadata": {},
     "output_type": "display_data"
    },
    {
     "data": {
      "application/vnd.jupyter.widget-view+json": {
       "model_id": "bf95de940b124d0b9f9aa4fb950589dd",
       "version_major": 2,
       "version_minor": 0
      },
      "text/plain": [
       "Validation: 0it [00:00, ?it/s]"
      ]
     },
     "metadata": {},
     "output_type": "display_data"
    },
    {
     "data": {
      "application/vnd.jupyter.widget-view+json": {
       "model_id": "797fb6a6ef554f54a1d43974837d1e97",
       "version_major": 2,
       "version_minor": 0
      },
      "text/plain": [
       "Validation: 0it [00:00, ?it/s]"
      ]
     },
     "metadata": {},
     "output_type": "display_data"
    },
    {
     "data": {
      "application/vnd.jupyter.widget-view+json": {
       "model_id": "b47a1bd1a26048278bc37c9bf184b884",
       "version_major": 2,
       "version_minor": 0
      },
      "text/plain": [
       "Validation: 0it [00:00, ?it/s]"
      ]
     },
     "metadata": {},
     "output_type": "display_data"
    },
    {
     "data": {
      "application/vnd.jupyter.widget-view+json": {
       "model_id": "054ebb86c5974cf98436cb9f79c15151",
       "version_major": 2,
       "version_minor": 0
      },
      "text/plain": [
       "Validation: 0it [00:00, ?it/s]"
      ]
     },
     "metadata": {},
     "output_type": "display_data"
    },
    {
     "data": {
      "application/vnd.jupyter.widget-view+json": {
       "model_id": "c5be20292c94406c85f87e77febe9b38",
       "version_major": 2,
       "version_minor": 0
      },
      "text/plain": [
       "Validation: 0it [00:00, ?it/s]"
      ]
     },
     "metadata": {},
     "output_type": "display_data"
    },
    {
     "data": {
      "application/vnd.jupyter.widget-view+json": {
       "model_id": "07d3bc5ced7745f3ab55f6182e9b0d14",
       "version_major": 2,
       "version_minor": 0
      },
      "text/plain": [
       "Validation: 0it [00:00, ?it/s]"
      ]
     },
     "metadata": {},
     "output_type": "display_data"
    },
    {
     "data": {
      "application/vnd.jupyter.widget-view+json": {
       "model_id": "4705885246c243288874450a78d20953",
       "version_major": 2,
       "version_minor": 0
      },
      "text/plain": [
       "Validation: 0it [00:00, ?it/s]"
      ]
     },
     "metadata": {},
     "output_type": "display_data"
    },
    {
     "data": {
      "application/vnd.jupyter.widget-view+json": {
       "model_id": "3bf34093ab544eabadfbb63e3b0894d9",
       "version_major": 2,
       "version_minor": 0
      },
      "text/plain": [
       "Validation: 0it [00:00, ?it/s]"
      ]
     },
     "metadata": {},
     "output_type": "display_data"
    },
    {
     "data": {
      "application/vnd.jupyter.widget-view+json": {
       "model_id": "1034187086294a05822568f6e0f5e7a0",
       "version_major": 2,
       "version_minor": 0
      },
      "text/plain": [
       "Validation: 0it [00:00, ?it/s]"
      ]
     },
     "metadata": {},
     "output_type": "display_data"
    },
    {
     "data": {
      "application/vnd.jupyter.widget-view+json": {
       "model_id": "9517526332de45aba9e2987c70448df1",
       "version_major": 2,
       "version_minor": 0
      },
      "text/plain": [
       "Validation: 0it [00:00, ?it/s]"
      ]
     },
     "metadata": {},
     "output_type": "display_data"
    },
    {
     "data": {
      "application/vnd.jupyter.widget-view+json": {
       "model_id": "f8fbc28bf31c44a2975acf32b3032502",
       "version_major": 2,
       "version_minor": 0
      },
      "text/plain": [
       "Validation: 0it [00:00, ?it/s]"
      ]
     },
     "metadata": {},
     "output_type": "display_data"
    },
    {
     "data": {
      "application/vnd.jupyter.widget-view+json": {
       "model_id": "678a8ddd72f548968d6fab511a4f3481",
       "version_major": 2,
       "version_minor": 0
      },
      "text/plain": [
       "Validation: 0it [00:00, ?it/s]"
      ]
     },
     "metadata": {},
     "output_type": "display_data"
    },
    {
     "data": {
      "application/vnd.jupyter.widget-view+json": {
       "model_id": "11deafa70fad4c7d804dd6a2e7c9bd06",
       "version_major": 2,
       "version_minor": 0
      },
      "text/plain": [
       "Validation: 0it [00:00, ?it/s]"
      ]
     },
     "metadata": {},
     "output_type": "display_data"
    },
    {
     "data": {
      "application/vnd.jupyter.widget-view+json": {
       "model_id": "35242dd8aa5f45e7b999905abee5529e",
       "version_major": 2,
       "version_minor": 0
      },
      "text/plain": [
       "Validation: 0it [00:00, ?it/s]"
      ]
     },
     "metadata": {},
     "output_type": "display_data"
    },
    {
     "data": {
      "application/vnd.jupyter.widget-view+json": {
       "model_id": "85aebfbfc8c24c56bf29ee1efdb070f1",
       "version_major": 2,
       "version_minor": 0
      },
      "text/plain": [
       "Validation: 0it [00:00, ?it/s]"
      ]
     },
     "metadata": {},
     "output_type": "display_data"
    },
    {
     "data": {
      "application/vnd.jupyter.widget-view+json": {
       "model_id": "28c0952270414c62b2b2e76895204055",
       "version_major": 2,
       "version_minor": 0
      },
      "text/plain": [
       "Validation: 0it [00:00, ?it/s]"
      ]
     },
     "metadata": {},
     "output_type": "display_data"
    },
    {
     "data": {
      "application/vnd.jupyter.widget-view+json": {
       "model_id": "43206a40bc664271872bd8b8469713f3",
       "version_major": 2,
       "version_minor": 0
      },
      "text/plain": [
       "Validation: 0it [00:00, ?it/s]"
      ]
     },
     "metadata": {},
     "output_type": "display_data"
    },
    {
     "data": {
      "application/vnd.jupyter.widget-view+json": {
       "model_id": "b2c24814d63e4c8a8c144429a10a145d",
       "version_major": 2,
       "version_minor": 0
      },
      "text/plain": [
       "Validation: 0it [00:00, ?it/s]"
      ]
     },
     "metadata": {},
     "output_type": "display_data"
    },
    {
     "data": {
      "application/vnd.jupyter.widget-view+json": {
       "model_id": "8f0fc9e8cf90492c8d764168f5354dee",
       "version_major": 2,
       "version_minor": 0
      },
      "text/plain": [
       "Validation: 0it [00:00, ?it/s]"
      ]
     },
     "metadata": {},
     "output_type": "display_data"
    },
    {
     "data": {
      "application/vnd.jupyter.widget-view+json": {
       "model_id": "625963a9ce68447a825605b4d1d17b40",
       "version_major": 2,
       "version_minor": 0
      },
      "text/plain": [
       "Validation: 0it [00:00, ?it/s]"
      ]
     },
     "metadata": {},
     "output_type": "display_data"
    },
    {
     "data": {
      "application/vnd.jupyter.widget-view+json": {
       "model_id": "b3d16cc69d44456b90ff59baeac4c306",
       "version_major": 2,
       "version_minor": 0
      },
      "text/plain": [
       "Validation: 0it [00:00, ?it/s]"
      ]
     },
     "metadata": {},
     "output_type": "display_data"
    },
    {
     "data": {
      "application/vnd.jupyter.widget-view+json": {
       "model_id": "b29a845d628d49d9bb46d420c277999e",
       "version_major": 2,
       "version_minor": 0
      },
      "text/plain": [
       "Validation: 0it [00:00, ?it/s]"
      ]
     },
     "metadata": {},
     "output_type": "display_data"
    },
    {
     "data": {
      "application/vnd.jupyter.widget-view+json": {
       "model_id": "bdc533c8934147b7bd760f2215831928",
       "version_major": 2,
       "version_minor": 0
      },
      "text/plain": [
       "Validation: 0it [00:00, ?it/s]"
      ]
     },
     "metadata": {},
     "output_type": "display_data"
    },
    {
     "data": {
      "application/vnd.jupyter.widget-view+json": {
       "model_id": "07664ac63c4846febfb9a196fed56b39",
       "version_major": 2,
       "version_minor": 0
      },
      "text/plain": [
       "Validation: 0it [00:00, ?it/s]"
      ]
     },
     "metadata": {},
     "output_type": "display_data"
    },
    {
     "data": {
      "application/vnd.jupyter.widget-view+json": {
       "model_id": "5c7e111ea8484f31a55b6dfe4882c6ca",
       "version_major": 2,
       "version_minor": 0
      },
      "text/plain": [
       "Validation: 0it [00:00, ?it/s]"
      ]
     },
     "metadata": {},
     "output_type": "display_data"
    },
    {
     "data": {
      "application/vnd.jupyter.widget-view+json": {
       "model_id": "7129496826794dc0bbcc04fd74a88a8e",
       "version_major": 2,
       "version_minor": 0
      },
      "text/plain": [
       "Validation: 0it [00:00, ?it/s]"
      ]
     },
     "metadata": {},
     "output_type": "display_data"
    },
    {
     "data": {
      "application/vnd.jupyter.widget-view+json": {
       "model_id": "1bffb92cfcb14b769e46a32433978fbc",
       "version_major": 2,
       "version_minor": 0
      },
      "text/plain": [
       "Validation: 0it [00:00, ?it/s]"
      ]
     },
     "metadata": {},
     "output_type": "display_data"
    },
    {
     "data": {
      "application/vnd.jupyter.widget-view+json": {
       "model_id": "0218e682a2514293beeb302ff40d6bfa",
       "version_major": 2,
       "version_minor": 0
      },
      "text/plain": [
       "Validation: 0it [00:00, ?it/s]"
      ]
     },
     "metadata": {},
     "output_type": "display_data"
    },
    {
     "data": {
      "application/vnd.jupyter.widget-view+json": {
       "model_id": "fa6898777d4e4b509bee067aebe51106",
       "version_major": 2,
       "version_minor": 0
      },
      "text/plain": [
       "Validation: 0it [00:00, ?it/s]"
      ]
     },
     "metadata": {},
     "output_type": "display_data"
    },
    {
     "data": {
      "application/vnd.jupyter.widget-view+json": {
       "model_id": "767cfc6b426c421dbdd7d4307e443e35",
       "version_major": 2,
       "version_minor": 0
      },
      "text/plain": [
       "Validation: 0it [00:00, ?it/s]"
      ]
     },
     "metadata": {},
     "output_type": "display_data"
    },
    {
     "data": {
      "application/vnd.jupyter.widget-view+json": {
       "model_id": "b6b9ef85b67443b980d1dffa2e445a37",
       "version_major": 2,
       "version_minor": 0
      },
      "text/plain": [
       "Validation: 0it [00:00, ?it/s]"
      ]
     },
     "metadata": {},
     "output_type": "display_data"
    },
    {
     "data": {
      "application/vnd.jupyter.widget-view+json": {
       "model_id": "c5aa815b6e1b49fdb3f34913b06f090e",
       "version_major": 2,
       "version_minor": 0
      },
      "text/plain": [
       "Validation: 0it [00:00, ?it/s]"
      ]
     },
     "metadata": {},
     "output_type": "display_data"
    },
    {
     "data": {
      "application/vnd.jupyter.widget-view+json": {
       "model_id": "3fb9e021411943c281207240c93e4cb8",
       "version_major": 2,
       "version_minor": 0
      },
      "text/plain": [
       "Validation: 0it [00:00, ?it/s]"
      ]
     },
     "metadata": {},
     "output_type": "display_data"
    },
    {
     "data": {
      "application/vnd.jupyter.widget-view+json": {
       "model_id": "a978e52909e54dc8956bfd534828e425",
       "version_major": 2,
       "version_minor": 0
      },
      "text/plain": [
       "Validation: 0it [00:00, ?it/s]"
      ]
     },
     "metadata": {},
     "output_type": "display_data"
    },
    {
     "data": {
      "application/vnd.jupyter.widget-view+json": {
       "model_id": "bfeb8041dd71487a97e3ed9cc7e5eae1",
       "version_major": 2,
       "version_minor": 0
      },
      "text/plain": [
       "Validation: 0it [00:00, ?it/s]"
      ]
     },
     "metadata": {},
     "output_type": "display_data"
    },
    {
     "data": {
      "application/vnd.jupyter.widget-view+json": {
       "model_id": "7946746b9d4949ad870b2b0c17dd6ff3",
       "version_major": 2,
       "version_minor": 0
      },
      "text/plain": [
       "Validation: 0it [00:00, ?it/s]"
      ]
     },
     "metadata": {},
     "output_type": "display_data"
    },
    {
     "data": {
      "application/vnd.jupyter.widget-view+json": {
       "model_id": "426061f4444449e2bfdbd186de3e948b",
       "version_major": 2,
       "version_minor": 0
      },
      "text/plain": [
       "Validation: 0it [00:00, ?it/s]"
      ]
     },
     "metadata": {},
     "output_type": "display_data"
    },
    {
     "data": {
      "application/vnd.jupyter.widget-view+json": {
       "model_id": "b84aca9a11fa4bc0a28c66517848b8d3",
       "version_major": 2,
       "version_minor": 0
      },
      "text/plain": [
       "Validation: 0it [00:00, ?it/s]"
      ]
     },
     "metadata": {},
     "output_type": "display_data"
    },
    {
     "data": {
      "application/vnd.jupyter.widget-view+json": {
       "model_id": "53914d1e5ecf42d7b7f111a9e802962c",
       "version_major": 2,
       "version_minor": 0
      },
      "text/plain": [
       "Validation: 0it [00:00, ?it/s]"
      ]
     },
     "metadata": {},
     "output_type": "display_data"
    },
    {
     "data": {
      "application/vnd.jupyter.widget-view+json": {
       "model_id": "158da425abdc46908e4950bd878f61cc",
       "version_major": 2,
       "version_minor": 0
      },
      "text/plain": [
       "Validation: 0it [00:00, ?it/s]"
      ]
     },
     "metadata": {},
     "output_type": "display_data"
    },
    {
     "data": {
      "application/vnd.jupyter.widget-view+json": {
       "model_id": "4f30d8137b7e467aa28449e5ad1ee4fc",
       "version_major": 2,
       "version_minor": 0
      },
      "text/plain": [
       "Validation: 0it [00:00, ?it/s]"
      ]
     },
     "metadata": {},
     "output_type": "display_data"
    },
    {
     "data": {
      "application/vnd.jupyter.widget-view+json": {
       "model_id": "f702bab2be70499a900aca2199496cb4",
       "version_major": 2,
       "version_minor": 0
      },
      "text/plain": [
       "Validation: 0it [00:00, ?it/s]"
      ]
     },
     "metadata": {},
     "output_type": "display_data"
    },
    {
     "data": {
      "application/vnd.jupyter.widget-view+json": {
       "model_id": "257bbff0cf9f446fb1ecbb26efd75cf7",
       "version_major": 2,
       "version_minor": 0
      },
      "text/plain": [
       "Validation: 0it [00:00, ?it/s]"
      ]
     },
     "metadata": {},
     "output_type": "display_data"
    },
    {
     "data": {
      "application/vnd.jupyter.widget-view+json": {
       "model_id": "acb71dc05d1f4b1498aec2429da13f27",
       "version_major": 2,
       "version_minor": 0
      },
      "text/plain": [
       "Validation: 0it [00:00, ?it/s]"
      ]
     },
     "metadata": {},
     "output_type": "display_data"
    },
    {
     "data": {
      "application/vnd.jupyter.widget-view+json": {
       "model_id": "97f3d7dd96bc45b088faf4abd81516b1",
       "version_major": 2,
       "version_minor": 0
      },
      "text/plain": [
       "Validation: 0it [00:00, ?it/s]"
      ]
     },
     "metadata": {},
     "output_type": "display_data"
    },
    {
     "data": {
      "application/vnd.jupyter.widget-view+json": {
       "model_id": "8c2ddcc2b2ff4ff884b9974292952cde",
       "version_major": 2,
       "version_minor": 0
      },
      "text/plain": [
       "Validation: 0it [00:00, ?it/s]"
      ]
     },
     "metadata": {},
     "output_type": "display_data"
    },
    {
     "data": {
      "application/vnd.jupyter.widget-view+json": {
       "model_id": "ea970bdcb34945e4aa616c346bdfdc9c",
       "version_major": 2,
       "version_minor": 0
      },
      "text/plain": [
       "Validation: 0it [00:00, ?it/s]"
      ]
     },
     "metadata": {},
     "output_type": "display_data"
    },
    {
     "data": {
      "application/vnd.jupyter.widget-view+json": {
       "model_id": "a591992a36d84c86993aee3374551c54",
       "version_major": 2,
       "version_minor": 0
      },
      "text/plain": [
       "Validation: 0it [00:00, ?it/s]"
      ]
     },
     "metadata": {},
     "output_type": "display_data"
    },
    {
     "data": {
      "application/vnd.jupyter.widget-view+json": {
       "model_id": "287467b399fa4b3493f3c3556774eb58",
       "version_major": 2,
       "version_minor": 0
      },
      "text/plain": [
       "Validation: 0it [00:00, ?it/s]"
      ]
     },
     "metadata": {},
     "output_type": "display_data"
    },
    {
     "data": {
      "application/vnd.jupyter.widget-view+json": {
       "model_id": "860541e301f04d09abadd8c156df5b1b",
       "version_major": 2,
       "version_minor": 0
      },
      "text/plain": [
       "Validation: 0it [00:00, ?it/s]"
      ]
     },
     "metadata": {},
     "output_type": "display_data"
    },
    {
     "data": {
      "application/vnd.jupyter.widget-view+json": {
       "model_id": "ad6b53cdbd2247f196d6ed8a869708e1",
       "version_major": 2,
       "version_minor": 0
      },
      "text/plain": [
       "Validation: 0it [00:00, ?it/s]"
      ]
     },
     "metadata": {},
     "output_type": "display_data"
    },
    {
     "data": {
      "application/vnd.jupyter.widget-view+json": {
       "model_id": "9d0fb49313f64e479fceed2ef5e70f15",
       "version_major": 2,
       "version_minor": 0
      },
      "text/plain": [
       "Validation: 0it [00:00, ?it/s]"
      ]
     },
     "metadata": {},
     "output_type": "display_data"
    },
    {
     "data": {
      "application/vnd.jupyter.widget-view+json": {
       "model_id": "a297f05f76fb4c3b9a2fd58b3e924196",
       "version_major": 2,
       "version_minor": 0
      },
      "text/plain": [
       "Validation: 0it [00:00, ?it/s]"
      ]
     },
     "metadata": {},
     "output_type": "display_data"
    },
    {
     "data": {
      "application/vnd.jupyter.widget-view+json": {
       "model_id": "ca3bc2f214bd4241a5b11959b4694b06",
       "version_major": 2,
       "version_minor": 0
      },
      "text/plain": [
       "Validation: 0it [00:00, ?it/s]"
      ]
     },
     "metadata": {},
     "output_type": "display_data"
    },
    {
     "data": {
      "application/vnd.jupyter.widget-view+json": {
       "model_id": "bc1a23ba785e4423930ebc9546e8c922",
       "version_major": 2,
       "version_minor": 0
      },
      "text/plain": [
       "Validation: 0it [00:00, ?it/s]"
      ]
     },
     "metadata": {},
     "output_type": "display_data"
    },
    {
     "data": {
      "application/vnd.jupyter.widget-view+json": {
       "model_id": "8ea492dd68274837aba0b679ed414699",
       "version_major": 2,
       "version_minor": 0
      },
      "text/plain": [
       "Validation: 0it [00:00, ?it/s]"
      ]
     },
     "metadata": {},
     "output_type": "display_data"
    },
    {
     "data": {
      "application/vnd.jupyter.widget-view+json": {
       "model_id": "0260fb0e6bfb4ea9a5fdcb77c509fdee",
       "version_major": 2,
       "version_minor": 0
      },
      "text/plain": [
       "Validation: 0it [00:00, ?it/s]"
      ]
     },
     "metadata": {},
     "output_type": "display_data"
    },
    {
     "data": {
      "application/vnd.jupyter.widget-view+json": {
       "model_id": "e35a1e7b5af747f083ae9a0df0dae1b9",
       "version_major": 2,
       "version_minor": 0
      },
      "text/plain": [
       "Validation: 0it [00:00, ?it/s]"
      ]
     },
     "metadata": {},
     "output_type": "display_data"
    },
    {
     "data": {
      "application/vnd.jupyter.widget-view+json": {
       "model_id": "53dfa41062514a31a999283d87316734",
       "version_major": 2,
       "version_minor": 0
      },
      "text/plain": [
       "Validation: 0it [00:00, ?it/s]"
      ]
     },
     "metadata": {},
     "output_type": "display_data"
    },
    {
     "data": {
      "application/vnd.jupyter.widget-view+json": {
       "model_id": "3c4db0e02ed141908ce04367cea80072",
       "version_major": 2,
       "version_minor": 0
      },
      "text/plain": [
       "Validation: 0it [00:00, ?it/s]"
      ]
     },
     "metadata": {},
     "output_type": "display_data"
    },
    {
     "data": {
      "application/vnd.jupyter.widget-view+json": {
       "model_id": "0519d4fa75ff4b8ab3921f6c6571b464",
       "version_major": 2,
       "version_minor": 0
      },
      "text/plain": [
       "Validation: 0it [00:00, ?it/s]"
      ]
     },
     "metadata": {},
     "output_type": "display_data"
    },
    {
     "data": {
      "application/vnd.jupyter.widget-view+json": {
       "model_id": "554603dd6c1344589219e3d2417e7d9e",
       "version_major": 2,
       "version_minor": 0
      },
      "text/plain": [
       "Validation: 0it [00:00, ?it/s]"
      ]
     },
     "metadata": {},
     "output_type": "display_data"
    },
    {
     "data": {
      "application/vnd.jupyter.widget-view+json": {
       "model_id": "987822fed513495c8ae13758674f0ad3",
       "version_major": 2,
       "version_minor": 0
      },
      "text/plain": [
       "Validation: 0it [00:00, ?it/s]"
      ]
     },
     "metadata": {},
     "output_type": "display_data"
    },
    {
     "data": {
      "application/vnd.jupyter.widget-view+json": {
       "model_id": "ff3acb20b2614ce28bf7d28c6867c67b",
       "version_major": 2,
       "version_minor": 0
      },
      "text/plain": [
       "Validation: 0it [00:00, ?it/s]"
      ]
     },
     "metadata": {},
     "output_type": "display_data"
    },
    {
     "data": {
      "application/vnd.jupyter.widget-view+json": {
       "model_id": "390f8db432794049a479ac9cbb6afd9a",
       "version_major": 2,
       "version_minor": 0
      },
      "text/plain": [
       "Validation: 0it [00:00, ?it/s]"
      ]
     },
     "metadata": {},
     "output_type": "display_data"
    },
    {
     "data": {
      "application/vnd.jupyter.widget-view+json": {
       "model_id": "6662d986547949cb97da7a5e47f4297e",
       "version_major": 2,
       "version_minor": 0
      },
      "text/plain": [
       "Validation: 0it [00:00, ?it/s]"
      ]
     },
     "metadata": {},
     "output_type": "display_data"
    },
    {
     "data": {
      "application/vnd.jupyter.widget-view+json": {
       "model_id": "940ee793ac9144238ff15cf902bdf2ee",
       "version_major": 2,
       "version_minor": 0
      },
      "text/plain": [
       "Validation: 0it [00:00, ?it/s]"
      ]
     },
     "metadata": {},
     "output_type": "display_data"
    },
    {
     "data": {
      "application/vnd.jupyter.widget-view+json": {
       "model_id": "0cb4d941704a42aa954a2ca95697e00b",
       "version_major": 2,
       "version_minor": 0
      },
      "text/plain": [
       "Validation: 0it [00:00, ?it/s]"
      ]
     },
     "metadata": {},
     "output_type": "display_data"
    },
    {
     "data": {
      "application/vnd.jupyter.widget-view+json": {
       "model_id": "2edc12a06c284631849454c79f27e00a",
       "version_major": 2,
       "version_minor": 0
      },
      "text/plain": [
       "Validation: 0it [00:00, ?it/s]"
      ]
     },
     "metadata": {},
     "output_type": "display_data"
    },
    {
     "data": {
      "application/vnd.jupyter.widget-view+json": {
       "model_id": "a52a9aa9c76b40968ad5808c42fc1501",
       "version_major": 2,
       "version_minor": 0
      },
      "text/plain": [
       "Validation: 0it [00:00, ?it/s]"
      ]
     },
     "metadata": {},
     "output_type": "display_data"
    },
    {
     "data": {
      "application/vnd.jupyter.widget-view+json": {
       "model_id": "967096e1854d4069976d5511862459f6",
       "version_major": 2,
       "version_minor": 0
      },
      "text/plain": [
       "Validation: 0it [00:00, ?it/s]"
      ]
     },
     "metadata": {},
     "output_type": "display_data"
    },
    {
     "data": {
      "application/vnd.jupyter.widget-view+json": {
       "model_id": "4bcadf4e9c724fd88b5495c533519a79",
       "version_major": 2,
       "version_minor": 0
      },
      "text/plain": [
       "Validation: 0it [00:00, ?it/s]"
      ]
     },
     "metadata": {},
     "output_type": "display_data"
    },
    {
     "data": {
      "application/vnd.jupyter.widget-view+json": {
       "model_id": "bd702abebe9f409e94247bd332cc175e",
       "version_major": 2,
       "version_minor": 0
      },
      "text/plain": [
       "Validation: 0it [00:00, ?it/s]"
      ]
     },
     "metadata": {},
     "output_type": "display_data"
    },
    {
     "data": {
      "application/vnd.jupyter.widget-view+json": {
       "model_id": "533b69e4a00e434a8c002399cf7cb80a",
       "version_major": 2,
       "version_minor": 0
      },
      "text/plain": [
       "Validation: 0it [00:00, ?it/s]"
      ]
     },
     "metadata": {},
     "output_type": "display_data"
    },
    {
     "data": {
      "application/vnd.jupyter.widget-view+json": {
       "model_id": "bdaddd9d013b4be5a2892339acba2611",
       "version_major": 2,
       "version_minor": 0
      },
      "text/plain": [
       "Validation: 0it [00:00, ?it/s]"
      ]
     },
     "metadata": {},
     "output_type": "display_data"
    },
    {
     "data": {
      "application/vnd.jupyter.widget-view+json": {
       "model_id": "7dfe8f57115e41b9a89008dd59f6c922",
       "version_major": 2,
       "version_minor": 0
      },
      "text/plain": [
       "Validation: 0it [00:00, ?it/s]"
      ]
     },
     "metadata": {},
     "output_type": "display_data"
    },
    {
     "data": {
      "application/vnd.jupyter.widget-view+json": {
       "model_id": "69811cbb4ede4dff8a48d56f92ef6c31",
       "version_major": 2,
       "version_minor": 0
      },
      "text/plain": [
       "Validation: 0it [00:00, ?it/s]"
      ]
     },
     "metadata": {},
     "output_type": "display_data"
    },
    {
     "data": {
      "application/vnd.jupyter.widget-view+json": {
       "model_id": "30693231f4e742ada00499d0bed00e85",
       "version_major": 2,
       "version_minor": 0
      },
      "text/plain": [
       "Validation: 0it [00:00, ?it/s]"
      ]
     },
     "metadata": {},
     "output_type": "display_data"
    },
    {
     "data": {
      "application/vnd.jupyter.widget-view+json": {
       "model_id": "2313b2958ba44aff95f4632e98f74686",
       "version_major": 2,
       "version_minor": 0
      },
      "text/plain": [
       "Validation: 0it [00:00, ?it/s]"
      ]
     },
     "metadata": {},
     "output_type": "display_data"
    },
    {
     "data": {
      "application/vnd.jupyter.widget-view+json": {
       "model_id": "7dd55a4693004642a812cc11e85ad89e",
       "version_major": 2,
       "version_minor": 0
      },
      "text/plain": [
       "Validation: 0it [00:00, ?it/s]"
      ]
     },
     "metadata": {},
     "output_type": "display_data"
    },
    {
     "data": {
      "application/vnd.jupyter.widget-view+json": {
       "model_id": "fe11582addb24a93ae88d788fa4fa122",
       "version_major": 2,
       "version_minor": 0
      },
      "text/plain": [
       "Validation: 0it [00:00, ?it/s]"
      ]
     },
     "metadata": {},
     "output_type": "display_data"
    },
    {
     "data": {
      "application/vnd.jupyter.widget-view+json": {
       "model_id": "1d8af8d7b3e94383acf3b17cbd1d9942",
       "version_major": 2,
       "version_minor": 0
      },
      "text/plain": [
       "Validation: 0it [00:00, ?it/s]"
      ]
     },
     "metadata": {},
     "output_type": "display_data"
    },
    {
     "data": {
      "application/vnd.jupyter.widget-view+json": {
       "model_id": "e1d655b46ab04413a1e1ef1565e83e3d",
       "version_major": 2,
       "version_minor": 0
      },
      "text/plain": [
       "Validation: 0it [00:00, ?it/s]"
      ]
     },
     "metadata": {},
     "output_type": "display_data"
    },
    {
     "data": {
      "application/vnd.jupyter.widget-view+json": {
       "model_id": "f8c688e5b939409081587f5fbb37930b",
       "version_major": 2,
       "version_minor": 0
      },
      "text/plain": [
       "Validation: 0it [00:00, ?it/s]"
      ]
     },
     "metadata": {},
     "output_type": "display_data"
    },
    {
     "data": {
      "application/vnd.jupyter.widget-view+json": {
       "model_id": "92ada03e8e2647009cbc962a6cac16e2",
       "version_major": 2,
       "version_minor": 0
      },
      "text/plain": [
       "Validation: 0it [00:00, ?it/s]"
      ]
     },
     "metadata": {},
     "output_type": "display_data"
    },
    {
     "data": {
      "application/vnd.jupyter.widget-view+json": {
       "model_id": "0e1d8e0328ef48bd9ec7433bdf6a8d28",
       "version_major": 2,
       "version_minor": 0
      },
      "text/plain": [
       "Validation: 0it [00:00, ?it/s]"
      ]
     },
     "metadata": {},
     "output_type": "display_data"
    },
    {
     "data": {
      "application/vnd.jupyter.widget-view+json": {
       "model_id": "79b3ee82eefa4c809e4fbe5c8042d1f1",
       "version_major": 2,
       "version_minor": 0
      },
      "text/plain": [
       "Validation: 0it [00:00, ?it/s]"
      ]
     },
     "metadata": {},
     "output_type": "display_data"
    },
    {
     "data": {
      "application/vnd.jupyter.widget-view+json": {
       "model_id": "b16a23162ca94946a0ec6678b50b25ab",
       "version_major": 2,
       "version_minor": 0
      },
      "text/plain": [
       "Validation: 0it [00:00, ?it/s]"
      ]
     },
     "metadata": {},
     "output_type": "display_data"
    },
    {
     "data": {
      "application/vnd.jupyter.widget-view+json": {
       "model_id": "a847919e6c684177bbba46f3487b3a3b",
       "version_major": 2,
       "version_minor": 0
      },
      "text/plain": [
       "Validation: 0it [00:00, ?it/s]"
      ]
     },
     "metadata": {},
     "output_type": "display_data"
    },
    {
     "data": {
      "application/vnd.jupyter.widget-view+json": {
       "model_id": "a33c105e16b34dcd88e3bd463c81aac5",
       "version_major": 2,
       "version_minor": 0
      },
      "text/plain": [
       "Validation: 0it [00:00, ?it/s]"
      ]
     },
     "metadata": {},
     "output_type": "display_data"
    },
    {
     "data": {
      "application/vnd.jupyter.widget-view+json": {
       "model_id": "11901dbb9a2a443bb6383dc99e97413e",
       "version_major": 2,
       "version_minor": 0
      },
      "text/plain": [
       "Validation: 0it [00:00, ?it/s]"
      ]
     },
     "metadata": {},
     "output_type": "display_data"
    },
    {
     "data": {
      "application/vnd.jupyter.widget-view+json": {
       "model_id": "b81cc14cd534466294f116d285ff0e7b",
       "version_major": 2,
       "version_minor": 0
      },
      "text/plain": [
       "Validation: 0it [00:00, ?it/s]"
      ]
     },
     "metadata": {},
     "output_type": "display_data"
    },
    {
     "data": {
      "application/vnd.jupyter.widget-view+json": {
       "model_id": "fc2597f3c05b4fb2ba8ae49bc8d4f59a",
       "version_major": 2,
       "version_minor": 0
      },
      "text/plain": [
       "Validation: 0it [00:00, ?it/s]"
      ]
     },
     "metadata": {},
     "output_type": "display_data"
    },
    {
     "data": {
      "application/vnd.jupyter.widget-view+json": {
       "model_id": "e02e6f471aae47b0a92a1ee39360bfc2",
       "version_major": 2,
       "version_minor": 0
      },
      "text/plain": [
       "Validation: 0it [00:00, ?it/s]"
      ]
     },
     "metadata": {},
     "output_type": "display_data"
    },
    {
     "data": {
      "application/vnd.jupyter.widget-view+json": {
       "model_id": "cd3e460efefe4b7dbaa92c878616293c",
       "version_major": 2,
       "version_minor": 0
      },
      "text/plain": [
       "Validation: 0it [00:00, ?it/s]"
      ]
     },
     "metadata": {},
     "output_type": "display_data"
    },
    {
     "data": {
      "application/vnd.jupyter.widget-view+json": {
       "model_id": "9213127da7fc42d9b39a4e94235e8002",
       "version_major": 2,
       "version_minor": 0
      },
      "text/plain": [
       "Validation: 0it [00:00, ?it/s]"
      ]
     },
     "metadata": {},
     "output_type": "display_data"
    },
    {
     "data": {
      "application/vnd.jupyter.widget-view+json": {
       "model_id": "7781a8265fa345b6a122b5227e4d812f",
       "version_major": 2,
       "version_minor": 0
      },
      "text/plain": [
       "Validation: 0it [00:00, ?it/s]"
      ]
     },
     "metadata": {},
     "output_type": "display_data"
    },
    {
     "data": {
      "application/vnd.jupyter.widget-view+json": {
       "model_id": "fcda30e9dd6c45668801f713e6bd58f3",
       "version_major": 2,
       "version_minor": 0
      },
      "text/plain": [
       "Validation: 0it [00:00, ?it/s]"
      ]
     },
     "metadata": {},
     "output_type": "display_data"
    },
    {
     "data": {
      "application/vnd.jupyter.widget-view+json": {
       "model_id": "baeb1675ac4245108c38bcc32aee9856",
       "version_major": 2,
       "version_minor": 0
      },
      "text/plain": [
       "Validation: 0it [00:00, ?it/s]"
      ]
     },
     "metadata": {},
     "output_type": "display_data"
    },
    {
     "data": {
      "application/vnd.jupyter.widget-view+json": {
       "model_id": "4347bfc4764c4fec9e2ccea0aacca22c",
       "version_major": 2,
       "version_minor": 0
      },
      "text/plain": [
       "Validation: 0it [00:00, ?it/s]"
      ]
     },
     "metadata": {},
     "output_type": "display_data"
    },
    {
     "data": {
      "application/vnd.jupyter.widget-view+json": {
       "model_id": "38a16ba499fc4779ad82c1f9c2654724",
       "version_major": 2,
       "version_minor": 0
      },
      "text/plain": [
       "Validation: 0it [00:00, ?it/s]"
      ]
     },
     "metadata": {},
     "output_type": "display_data"
    },
    {
     "data": {
      "application/vnd.jupyter.widget-view+json": {
       "model_id": "d5dea110bdac47189a137e68ec6ff905",
       "version_major": 2,
       "version_minor": 0
      },
      "text/plain": [
       "Validation: 0it [00:00, ?it/s]"
      ]
     },
     "metadata": {},
     "output_type": "display_data"
    },
    {
     "data": {
      "application/vnd.jupyter.widget-view+json": {
       "model_id": "a7929109dcde4af9b64351a43a675784",
       "version_major": 2,
       "version_minor": 0
      },
      "text/plain": [
       "Validation: 0it [00:00, ?it/s]"
      ]
     },
     "metadata": {},
     "output_type": "display_data"
    },
    {
     "data": {
      "application/vnd.jupyter.widget-view+json": {
       "model_id": "90f360ee1f2b4766849b42099f39c4ec",
       "version_major": 2,
       "version_minor": 0
      },
      "text/plain": [
       "Validation: 0it [00:00, ?it/s]"
      ]
     },
     "metadata": {},
     "output_type": "display_data"
    },
    {
     "data": {
      "application/vnd.jupyter.widget-view+json": {
       "model_id": "0e65878c8bb04f608ad93960ded73943",
       "version_major": 2,
       "version_minor": 0
      },
      "text/plain": [
       "Validation: 0it [00:00, ?it/s]"
      ]
     },
     "metadata": {},
     "output_type": "display_data"
    },
    {
     "data": {
      "application/vnd.jupyter.widget-view+json": {
       "model_id": "7af07f8f845847758e2747343961f2f0",
       "version_major": 2,
       "version_minor": 0
      },
      "text/plain": [
       "Validation: 0it [00:00, ?it/s]"
      ]
     },
     "metadata": {},
     "output_type": "display_data"
    },
    {
     "data": {
      "application/vnd.jupyter.widget-view+json": {
       "model_id": "3df69a094d1c4eea804a8dcee704f87e",
       "version_major": 2,
       "version_minor": 0
      },
      "text/plain": [
       "Validation: 0it [00:00, ?it/s]"
      ]
     },
     "metadata": {},
     "output_type": "display_data"
    },
    {
     "data": {
      "application/vnd.jupyter.widget-view+json": {
       "model_id": "6307ee6de8c541828d49046dd2cbc101",
       "version_major": 2,
       "version_minor": 0
      },
      "text/plain": [
       "Validation: 0it [00:00, ?it/s]"
      ]
     },
     "metadata": {},
     "output_type": "display_data"
    },
    {
     "data": {
      "application/vnd.jupyter.widget-view+json": {
       "model_id": "b93288a1e87541039d5c7a9159ac398c",
       "version_major": 2,
       "version_minor": 0
      },
      "text/plain": [
       "Validation: 0it [00:00, ?it/s]"
      ]
     },
     "metadata": {},
     "output_type": "display_data"
    },
    {
     "data": {
      "application/vnd.jupyter.widget-view+json": {
       "model_id": "9ac8ba8005c4453ebff455c697ca7721",
       "version_major": 2,
       "version_minor": 0
      },
      "text/plain": [
       "Predicting: 0it [00:00, ?it/s]"
      ]
     },
     "metadata": {},
     "output_type": "display_data"
    }
   ],
   "source": [
    "if len(Y_test_df) > 0:\n",
    "    horizon = len(Y_test_df)\n",
    "else:\n",
    "    horizon = len(futr_df)\n",
    "    \n",
    "    \n",
    "if cutoff_date <= '2021-11-30':\n",
    "    flexible = None\n",
    "else:\n",
    "    flexible = futr_list\n",
    "\n",
    "models = [\n",
    "          # NBEATS(input_size=5 * horizon, gpus = 1, h=horizon, max_epochs=100),\n",
    "          # NBEATSx(h=horizon, input_size=5 * horizon,\n",
    "          #       # loss=DistributionLoss(distribution='Normal', level=[80, 90]),\n",
    "          #       gpus=1,\n",
    "          #       scaler_type='robust',\n",
    "          #       stat_exog_list = None,\n",
    "          #       # hist_exog_list = hist_list,\n",
    "          #       # futr_exog_list = None,  \n",
    "          #       futr_exog_list = flexible,\n",
    "          #       learning_rate=1e-4,\n",
    "          #       mlp_units = [[512, 512], [512, 512], [512, 512]],\n",
    "          #       batch_size=128,\n",
    "          #       random_seed=42,\n",
    "          #       n_blocks=[1, 1, 1],\n",
    "          #       # val_check_steps=10,\n",
    "          #       # early_stop_patience_steps=2\n",
    "          #       max_steps=30\n",
    "          #      ),\n",
    "          NHITS(input_size=5 * horizon, \n",
    "                h=horizon,\n",
    "                gpus = 1,\n",
    "                stat_exog_list = None,\n",
    "                # hist_exog_list = hist_list,\n",
    "                futr_exog_list = flexible,\n",
    "                # futr_exog_list = None,\n",
    "                # n_blocks = [1, 1, 1],\n",
    "                mlp_units = [[512, 512], [512, 512], [512, 512]],\n",
    "                n_pool_kernel_size = [2, 2, 1],\n",
    "                # n_freq_downsample=[24, 12, 1],\n",
    "                scaler_type = 'standard',\n",
    "                learning_rate=1e-4,\n",
    "                pooling_mode = 'MaxPool1d',\n",
    "                activation='ReLU',\n",
    "                batch_size=128,\n",
    "                random_seed=42,\n",
    "                max_epochs=200\n",
    "               ),\n",
    "          # LSTM(h=horizon, input_size=5 * horizon,\n",
    "          #        # loss=DistributionLoss(distribution='Normal', level=[80, 90]),\n",
    "          #        scaler_type='standard',\n",
    "          #        learning_rate=1e-4,\n",
    "          #        encoder_n_layers=2,\n",
    "          #        encoder_hidden_size=128,\n",
    "          #        context_size=10,\n",
    "          #        decoder_hidden_size=128,\n",
    "          #        decoder_layers=2,\n",
    "          #        gpus = 1,\n",
    "          #        futr_exog_list=flexible,\n",
    "          #        hist_exog_list=None,\n",
    "          #        stat_exog_list=None,\n",
    "          #        max_steps=200\n",
    "          #        ),\n",
    "           # NHITS(\n",
    "           #       h,\n",
    "           #       input_size,\n",
    "           #       futr_exog_list=None,\n",
    "           #       hist_exog_list=None,\n",
    "           #       stat_exog_list=None,\n",
    "           #       stack_types: list = ['identity', 'identity', 'identity'],\n",
    "           #       n_blocks: list = [1, 1, 1],\n",
    "           #       mlp_units: list = [[512, 512], [512, 512], [512, 512]],\n",
    "           #       n_pool_kernel_size: list = [2, 2, 1],\n",
    "           #       n_freq_downsample: list = [4, 2, 1],\n",
    "           #       pooling_mode: str = 'MaxPool1d',\n",
    "           #       interpolation_mode: str = 'linear',\n",
    "           #       dropout_prob_theta=0.0,\n",
    "           #       activation='ReLU',\n",
    "           #       loss=MAE(),\n",
    "           #       learning_rate=0.001,\n",
    "           #       batch_size=32,\n",
    "           #       windows_batch_size: int = 1024,\n",
    "           #       step_size: int = 1,\n",
    "           #       scaler_type='identity',\n",
    "           #       random_seed=1,\n",
    "           #       num_workers_loader=0,\n",
    "           #       drop_last_loader=False,\n",
    "           #       **trainer_kwargs,\n",
    "    \n",
    "          # TFT(h=horizon, \n",
    "          #     input_size=5 * horizon,\n",
    "          #     #loss=DistributionLoss(distribution='Poisson', level=[80, 90]),\n",
    "          #     #loss=DistributionLoss(distribution='Normal', level=[80, 90]),\n",
    "          #     #loss=DistributionLoss(distribution='StudentT', level=[80, 90]),\n",
    "          #     hidden_size=128,\n",
    "          #     # n_head=4, \n",
    "          #     attn_dropout=0.2,\n",
    "          #     # hist_exog_list=hist_list,\n",
    "          #     dropout=0.6,\n",
    "          #     learning_rate=1e-4,\n",
    "          #     stat_exog_list = None,\n",
    "          #     futr_exog_list = flexible,\n",
    "          #     gpus=1,\n",
    "          #     # val_check_steps=10,\n",
    "          #     # early_stop_patience_steps=10,\n",
    "          #     scaler_type='robust',\n",
    "          #     # windows_batch_size=None,\n",
    "          #     # enable_progress_bar=True,\n",
    "          #     max_steps=200\n",
    "          #    ),\n",
    "             ]\n",
    "nforecast = NeuralForecast(models=models, freq='M')\n",
    "nforecast.fit(df=Y_train_df)\n",
    "Y_hat_df = nforecast.predict(futr_df=futr_df, static_df=static_df).reset_index()"
   ]
  },
  {
   "cell_type": "code",
   "execution_count": 495,
   "id": "30866cf9-6543-4f6e-802c-febe741b3492",
   "metadata": {
    "tags": []
   },
   "outputs": [
    {
     "data": {
      "image/png": "[encoded data removed]",
      "text/plain": [
       "<Figure size 2000x700 with 1 Axes>"
      ]
     },
     "metadata": {},
     "output_type": "display_data"
    }
   ],
   "source": [
    "# Plot predictions\n",
    "fig, ax = plt.subplots(1, 1, figsize = (20, 7))\n",
    "Y_hat_df = Y_test_df.merge(Y_hat_df, how='left', on=['unique_id', 'ds'])\n",
    "plot_df = pd.concat([Y_train_df, Y_hat_df]).set_index('ds')\n",
    "\n",
    "plot_df[['y','NHITS']].plot(ax=ax, linewidth=2, marker='o')\n",
    "\n",
    "plt.axvline(cutoff_date, color='red')\n",
    "ax.set_title(f'LI2CO3 Actual and Predicted Plot - Cutoff: {cutoff_date}', fontsize=22)\n",
    "ax.set_ylabel('LI2CO3_PRICE', fontsize=20)\n",
    "ax.set_xlabel('Date', fontsize=20)\n",
    "ax.legend(prop={'size': 15})\n",
    "ax.grid()\n",
    "\n",
    "# fig1.savefig(f'./data/forecasting_{cutoff_date}.png', dpi=100)\n",
    "fig.savefig(f'./data/forecast_plot_{cutoff_date}_wv.png')"
   ]
  },
  {
   "cell_type": "code",
   "execution_count": 492,
   "id": "9724b4e1-2d8c-4f3e-a5f8-433b9850c9d7",
   "metadata": {
    "tags": []
   },
   "outputs": [],
   "source": [
    "plot_df[['y', 'NHITS']].to_csv(f'./data/forecast_plot_{cutoff_date}_wv.csv',index=False)"
   ]
  },
  {
   "cell_type": "code",
   "execution_count": 493,
   "id": "1c6a7b7d-0c76-4d10-ba18-567112c03448",
   "metadata": {},
   "outputs": [
    {
     "data": {
      "text/html": [
       "<div>\n",
       "<style scoped>\n",
       "    .dataframe tbody tr th:only-of-type {\n",
       "        vertical-align: middle;\n",
       "    }\n",
       "\n",
       "    .dataframe tbody tr th {\n",
       "        vertical-align: top;\n",
       "    }\n",
       "\n",
       "    .dataframe thead th {\n",
       "        text-align: right;\n",
       "    }\n",
       "</style>\n",
       "<table border=\"1\" class=\"dataframe\">\n",
       "  <thead>\n",
       "    <tr style=\"text-align: right;\">\n",
       "      <th></th>\n",
       "      <th>unique_id</th>\n",
       "      <th>y</th>\n",
       "      <th>lioh_cif_fast_kg_spot_exchng</th>\n",
       "      <th>Baltic Dry Index (BDI)</th>\n",
       "      <th>Howe Robinson Container Index</th>\n",
       "      <th>Shanghai Containerized Freight Index (SCFI)</th>\n",
       "      <th>옥수수 For Grain [미국(생산자 가격)] 현물</th>\n",
       "      <th>원당 (daily) [ISA] 현물</th>\n",
       "      <th>대두 [미국(생산자 가격)] 현물</th>\n",
       "      <th>대두박 [파라나구아(FOB)] 현물</th>\n",
       "      <th>...</th>\n",
       "      <th>Pilbara Mineral Limited_price_High</th>\n",
       "      <th>Pilbara Mineral Limited_price_Low</th>\n",
       "      <th>Pilbara Mineral Limited_price_Close</th>\n",
       "      <th>Pilbara Mineral Limited_price_Adj Close</th>\n",
       "      <th>Allkem Limited (AKE.AX)_price_Open</th>\n",
       "      <th>Allkem Limited (AKE.AX)_price_High</th>\n",
       "      <th>Allkem Limited (AKE.AX)_price_Low</th>\n",
       "      <th>Allkem Limited (AKE.AX)_price_Close</th>\n",
       "      <th>Allkem Limited (AKE.AX)_price_Adj Close</th>\n",
       "      <th>NHITS</th>\n",
       "    </tr>\n",
       "    <tr>\n",
       "      <th>ds</th>\n",
       "      <th></th>\n",
       "      <th></th>\n",
       "      <th></th>\n",
       "      <th></th>\n",
       "      <th></th>\n",
       "      <th></th>\n",
       "      <th></th>\n",
       "      <th></th>\n",
       "      <th></th>\n",
       "      <th></th>\n",
       "      <th></th>\n",
       "      <th></th>\n",
       "      <th></th>\n",
       "      <th></th>\n",
       "      <th></th>\n",
       "      <th></th>\n",
       "      <th></th>\n",
       "      <th></th>\n",
       "      <th></th>\n",
       "      <th></th>\n",
       "      <th></th>\n",
       "    </tr>\n",
       "  </thead>\n",
       "  <tbody>\n",
       "    <tr>\n",
       "      <th>2016-01-31</th>\n",
       "      <td>A</td>\n",
       "      <td>20.177268</td>\n",
       "      <td>-0.237734</td>\n",
       "      <td>-1.302468</td>\n",
       "      <td>-0.644064</td>\n",
       "      <td>-0.195705</td>\n",
       "      <td>-0.461301</td>\n",
       "      <td>-0.468886</td>\n",
       "      <td>0.391356</td>\n",
       "      <td>-1.226492</td>\n",
       "      <td>...</td>\n",
       "      <td>-0.828692</td>\n",
       "      <td>-0.830830</td>\n",
       "      <td>-0.827825</td>\n",
       "      <td>-0.397665</td>\n",
       "      <td>-0.915916</td>\n",
       "      <td>-0.911882</td>\n",
       "      <td>-0.921663</td>\n",
       "      <td>-0.909069</td>\n",
       "      <td>-0.909069</td>\n",
       "      <td>NaN</td>\n",
       "    </tr>\n",
       "    <tr>\n",
       "      <th>2016-02-29</th>\n",
       "      <td>A</td>\n",
       "      <td>23.306868</td>\n",
       "      <td>-0.054803</td>\n",
       "      <td>-1.396112</td>\n",
       "      <td>-0.645288</td>\n",
       "      <td>-0.182527</td>\n",
       "      <td>-0.532459</td>\n",
       "      <td>-0.733272</td>\n",
       "      <td>0.138779</td>\n",
       "      <td>-1.332251</td>\n",
       "      <td>...</td>\n",
       "      <td>-0.746808</td>\n",
       "      <td>-0.752678</td>\n",
       "      <td>-0.750469</td>\n",
       "      <td>-0.397665</td>\n",
       "      <td>-0.910118</td>\n",
       "      <td>-0.915569</td>\n",
       "      <td>-0.908508</td>\n",
       "      <td>-0.916207</td>\n",
       "      <td>-0.916207</td>\n",
       "      <td>NaN</td>\n",
       "    </tr>\n",
       "    <tr>\n",
       "      <th>2016-03-31</th>\n",
       "      <td>A</td>\n",
       "      <td>25.223010</td>\n",
       "      <td>0.133909</td>\n",
       "      <td>-1.305967</td>\n",
       "      <td>-0.644523</td>\n",
       "      <td>-0.362815</td>\n",
       "      <td>-0.532459</td>\n",
       "      <td>-0.012903</td>\n",
       "      <td>0.099921</td>\n",
       "      <td>-1.436497</td>\n",
       "      <td>...</td>\n",
       "      <td>-0.730402</td>\n",
       "      <td>-0.733675</td>\n",
       "      <td>-0.731680</td>\n",
       "      <td>-0.397665</td>\n",
       "      <td>-0.833402</td>\n",
       "      <td>-0.834459</td>\n",
       "      <td>-0.834589</td>\n",
       "      <td>-0.834453</td>\n",
       "      <td>-0.834453</td>\n",
       "      <td>NaN</td>\n",
       "    </tr>\n",
       "    <tr>\n",
       "      <th>2016-04-30</th>\n",
       "      <td>A</td>\n",
       "      <td>25.308243</td>\n",
       "      <td>0.173425</td>\n",
       "      <td>-1.041598</td>\n",
       "      <td>-0.648195</td>\n",
       "      <td>-0.472294</td>\n",
       "      <td>-0.524553</td>\n",
       "      <td>-0.083130</td>\n",
       "      <td>-0.003701</td>\n",
       "      <td>-1.168180</td>\n",
       "      <td>...</td>\n",
       "      <td>-0.501075</td>\n",
       "      <td>-0.525438</td>\n",
       "      <td>-0.509230</td>\n",
       "      <td>-0.397665</td>\n",
       "      <td>-0.691659</td>\n",
       "      <td>-0.695181</td>\n",
       "      <td>-0.693237</td>\n",
       "      <td>-0.700107</td>\n",
       "      <td>-0.700107</td>\n",
       "      <td>NaN</td>\n",
       "    </tr>\n",
       "    <tr>\n",
       "      <th>2016-05-31</th>\n",
       "      <td>A</td>\n",
       "      <td>24.875099</td>\n",
       "      <td>0.107095</td>\n",
       "      <td>-1.026945</td>\n",
       "      <td>-0.645747</td>\n",
       "      <td>-0.487834</td>\n",
       "      <td>-0.445488</td>\n",
       "      <td>0.514051</td>\n",
       "      <td>-0.074941</td>\n",
       "      <td>0.104912</td>\n",
       "      <td>...</td>\n",
       "      <td>-0.367456</td>\n",
       "      <td>-0.391346</td>\n",
       "      <td>-0.377609</td>\n",
       "      <td>-0.397665</td>\n",
       "      <td>-0.497700</td>\n",
       "      <td>-0.494779</td>\n",
       "      <td>-0.496022</td>\n",
       "      <td>-0.493870</td>\n",
       "      <td>-0.493870</td>\n",
       "      <td>NaN</td>\n",
       "    </tr>\n",
       "    <tr>\n",
       "      <th>...</th>\n",
       "      <td>...</td>\n",
       "      <td>...</td>\n",
       "      <td>...</td>\n",
       "      <td>...</td>\n",
       "      <td>...</td>\n",
       "      <td>...</td>\n",
       "      <td>...</td>\n",
       "      <td>...</td>\n",
       "      <td>...</td>\n",
       "      <td>...</td>\n",
       "      <td>...</td>\n",
       "      <td>...</td>\n",
       "      <td>...</td>\n",
       "      <td>...</td>\n",
       "      <td>...</td>\n",
       "      <td>...</td>\n",
       "      <td>...</td>\n",
       "      <td>...</td>\n",
       "      <td>...</td>\n",
       "      <td>...</td>\n",
       "      <td>...</td>\n",
       "    </tr>\n",
       "    <tr>\n",
       "      <th>2022-08-31</th>\n",
       "      <td>A</td>\n",
       "      <td>73.000000</td>\n",
       "      <td>2.420773</td>\n",
       "      <td>-0.092744</td>\n",
       "      <td>2.119559</td>\n",
       "      <td>2.773368</td>\n",
       "      <td>2.369193</td>\n",
       "      <td>0.793818</td>\n",
       "      <td>2.593314</td>\n",
       "      <td>1.844361</td>\n",
       "      <td>...</td>\n",
       "      <td>2.233095</td>\n",
       "      <td>2.245839</td>\n",
       "      <td>2.264053</td>\n",
       "      <td>2.410643</td>\n",
       "      <td>2.144853</td>\n",
       "      <td>2.155770</td>\n",
       "      <td>2.181382</td>\n",
       "      <td>2.184215</td>\n",
       "      <td>2.184215</td>\n",
       "      <td>73.569237</td>\n",
       "    </tr>\n",
       "    <tr>\n",
       "      <th>2022-09-30</th>\n",
       "      <td>A</td>\n",
       "      <td>74.047619</td>\n",
       "      <td>2.507937</td>\n",
       "      <td>-0.004062</td>\n",
       "      <td>1.188816</td>\n",
       "      <td>3.024986</td>\n",
       "      <td>2.250597</td>\n",
       "      <td>0.750690</td>\n",
       "      <td>1.621862</td>\n",
       "      <td>1.935267</td>\n",
       "      <td>...</td>\n",
       "      <td>2.092161</td>\n",
       "      <td>2.084336</td>\n",
       "      <td>2.084871</td>\n",
       "      <td>1.970948</td>\n",
       "      <td>2.828439</td>\n",
       "      <td>2.823884</td>\n",
       "      <td>2.834908</td>\n",
       "      <td>2.836251</td>\n",
       "      <td>2.836251</td>\n",
       "      <td>73.648209</td>\n",
       "    </tr>\n",
       "    <tr>\n",
       "      <th>2022-10-31</th>\n",
       "      <td>A</td>\n",
       "      <td>77.673913</td>\n",
       "      <td>2.664680</td>\n",
       "      <td>0.381286</td>\n",
       "      <td>0.204375</td>\n",
       "      <td>3.036207</td>\n",
       "      <td>1.784119</td>\n",
       "      <td>0.691518</td>\n",
       "      <td>1.427572</td>\n",
       "      <td>1.447594</td>\n",
       "      <td>...</td>\n",
       "      <td>2.359441</td>\n",
       "      <td>2.354164</td>\n",
       "      <td>2.362142</td>\n",
       "      <td>2.222022</td>\n",
       "      <td>2.765597</td>\n",
       "      <td>2.782167</td>\n",
       "      <td>2.764528</td>\n",
       "      <td>2.761120</td>\n",
       "      <td>2.761120</td>\n",
       "      <td>76.405380</td>\n",
       "    </tr>\n",
       "    <tr>\n",
       "      <th>2022-11-30</th>\n",
       "      <td>A</td>\n",
       "      <td>80.818182</td>\n",
       "      <td>2.828879</td>\n",
       "      <td>-0.226024</td>\n",
       "      <td>-0.008117</td>\n",
       "      <td>3.004479</td>\n",
       "      <td>1.784119</td>\n",
       "      <td>1.005474</td>\n",
       "      <td>1.621862</td>\n",
       "      <td>1.346924</td>\n",
       "      <td>...</td>\n",
       "      <td>2.443712</td>\n",
       "      <td>2.455263</td>\n",
       "      <td>2.452607</td>\n",
       "      <td>2.303940</td>\n",
       "      <td>2.830058</td>\n",
       "      <td>2.817705</td>\n",
       "      <td>2.816214</td>\n",
       "      <td>2.795982</td>\n",
       "      <td>2.795982</td>\n",
       "      <td>80.617897</td>\n",
       "    </tr>\n",
       "    <tr>\n",
       "      <th>2022-12-31</th>\n",
       "      <td>A</td>\n",
       "      <td>80.882353</td>\n",
       "      <td>2.867154</td>\n",
       "      <td>-0.043847</td>\n",
       "      <td>-0.041773</td>\n",
       "      <td>3.301048</td>\n",
       "      <td>1.784119</td>\n",
       "      <td>1.131385</td>\n",
       "      <td>1.816153</td>\n",
       "      <td>1.346924</td>\n",
       "      <td>...</td>\n",
       "      <td>1.967237</td>\n",
       "      <td>1.981728</td>\n",
       "      <td>1.959693</td>\n",
       "      <td>1.857597</td>\n",
       "      <td>2.230517</td>\n",
       "      <td>2.206089</td>\n",
       "      <td>2.211335</td>\n",
       "      <td>2.207568</td>\n",
       "      <td>2.207568</td>\n",
       "      <td>87.349922</td>\n",
       "    </tr>\n",
       "  </tbody>\n",
       "</table>\n",
       "<p>84 rows × 925 columns</p>\n",
       "</div>"
      ],
      "text/plain": [
       "           unique_id          y  lioh_cif_fast_kg_spot_exchng  \\\n",
       "ds                                                              \n",
       "2016-01-31         A  20.177268                     -0.237734   \n",
       "2016-02-29         A  23.306868                     -0.054803   \n",
       "2016-03-31         A  25.223010                      0.133909   \n",
       "2016-04-30         A  25.308243                      0.173425   \n",
       "2016-05-31         A  24.875099                      0.107095   \n",
       "...              ...        ...                           ...   \n",
       "2022-08-31         A  73.000000                      2.420773   \n",
       "2022-09-30         A  74.047619                      2.507937   \n",
       "2022-10-31         A  77.673913                      2.664680   \n",
       "2022-11-30         A  80.818182                      2.828879   \n",
       "2022-12-31         A  80.882353                      2.867154   \n",
       "\n",
       "            Baltic Dry Index (BDI)  Howe Robinson Container Index  \\\n",
       "ds                                                                  \n",
       "2016-01-31               -1.302468                      -0.644064   \n",
       "2016-02-29               -1.396112                      -0.645288   \n",
       "2016-03-31               -1.305967                      -0.644523   \n",
       "2016-04-30               -1.041598                      -0.648195   \n",
       "2016-05-31               -1.026945                      -0.645747   \n",
       "...                            ...                            ...   \n",
       "2022-08-31               -0.092744                       2.119559   \n",
       "2022-09-30               -0.004062                       1.188816   \n",
       "2022-10-31                0.381286                       0.204375   \n",
       "2022-11-30               -0.226024                      -0.008117   \n",
       "2022-12-31               -0.043847                      -0.041773   \n",
       "\n",
       "            Shanghai Containerized Freight Index (SCFI)  \\\n",
       "ds                                                        \n",
       "2016-01-31                                    -0.195705   \n",
       "2016-02-29                                    -0.182527   \n",
       "2016-03-31                                    -0.362815   \n",
       "2016-04-30                                    -0.472294   \n",
       "2016-05-31                                    -0.487834   \n",
       "...                                                 ...   \n",
       "2022-08-31                                     2.773368   \n",
       "2022-09-30                                     3.024986   \n",
       "2022-10-31                                     3.036207   \n",
       "2022-11-30                                     3.004479   \n",
       "2022-12-31                                     3.301048   \n",
       "\n",
       "            옥수수 For Grain [미국(생산자 가격)] 현물  원당 (daily) [ISA] 현물  \\\n",
       "ds                                                               \n",
       "2016-01-31                      -0.461301            -0.468886   \n",
       "2016-02-29                      -0.532459            -0.733272   \n",
       "2016-03-31                      -0.532459            -0.012903   \n",
       "2016-04-30                      -0.524553            -0.083130   \n",
       "2016-05-31                      -0.445488             0.514051   \n",
       "...                                   ...                  ...   \n",
       "2022-08-31                       2.369193             0.793818   \n",
       "2022-09-30                       2.250597             0.750690   \n",
       "2022-10-31                       1.784119             0.691518   \n",
       "2022-11-30                       1.784119             1.005474   \n",
       "2022-12-31                       1.784119             1.131385   \n",
       "\n",
       "            대두 [미국(생산자 가격)] 현물  대두박 [파라나구아(FOB)] 현물  ...  \\\n",
       "ds                                                   ...   \n",
       "2016-01-31            0.391356            -1.226492  ...   \n",
       "2016-02-29            0.138779            -1.332251  ...   \n",
       "2016-03-31            0.099921            -1.436497  ...   \n",
       "2016-04-30           -0.003701            -1.168180  ...   \n",
       "2016-05-31           -0.074941             0.104912  ...   \n",
       "...                        ...                  ...  ...   \n",
       "2022-08-31            2.593314             1.844361  ...   \n",
       "2022-09-30            1.621862             1.935267  ...   \n",
       "2022-10-31            1.427572             1.447594  ...   \n",
       "2022-11-30            1.621862             1.346924  ...   \n",
       "2022-12-31            1.816153             1.346924  ...   \n",
       "\n",
       "            Pilbara Mineral Limited_price_High  \\\n",
       "ds                                               \n",
       "2016-01-31                           -0.828692   \n",
       "2016-02-29                           -0.746808   \n",
       "2016-03-31                           -0.730402   \n",
       "2016-04-30                           -0.501075   \n",
       "2016-05-31                           -0.367456   \n",
       "...                                        ...   \n",
       "2022-08-31                            2.233095   \n",
       "2022-09-30                            2.092161   \n",
       "2022-10-31                            2.359441   \n",
       "2022-11-30                            2.443712   \n",
       "2022-12-31                            1.967237   \n",
       "\n",
       "            Pilbara Mineral Limited_price_Low  \\\n",
       "ds                                              \n",
       "2016-01-31                          -0.830830   \n",
       "2016-02-29                          -0.752678   \n",
       "2016-03-31                          -0.733675   \n",
       "2016-04-30                          -0.525438   \n",
       "2016-05-31                          -0.391346   \n",
       "...                                       ...   \n",
       "2022-08-31                           2.245839   \n",
       "2022-09-30                           2.084336   \n",
       "2022-10-31                           2.354164   \n",
       "2022-11-30                           2.455263   \n",
       "2022-12-31                           1.981728   \n",
       "\n",
       "            Pilbara Mineral Limited_price_Close  \\\n",
       "ds                                                \n",
       "2016-01-31                            -0.827825   \n",
       "2016-02-29                            -0.750469   \n",
       "2016-03-31                            -0.731680   \n",
       "2016-04-30                            -0.509230   \n",
       "2016-05-31                            -0.377609   \n",
       "...                                         ...   \n",
       "2022-08-31                             2.264053   \n",
       "2022-09-30                             2.084871   \n",
       "2022-10-31                             2.362142   \n",
       "2022-11-30                             2.452607   \n",
       "2022-12-31                             1.959693   \n",
       "\n",
       "            Pilbara Mineral Limited_price_Adj Close  \\\n",
       "ds                                                    \n",
       "2016-01-31                                -0.397665   \n",
       "2016-02-29                                -0.397665   \n",
       "2016-03-31                                -0.397665   \n",
       "2016-04-30                                -0.397665   \n",
       "2016-05-31                                -0.397665   \n",
       "...                                             ...   \n",
       "2022-08-31                                 2.410643   \n",
       "2022-09-30                                 1.970948   \n",
       "2022-10-31                                 2.222022   \n",
       "2022-11-30                                 2.303940   \n",
       "2022-12-31                                 1.857597   \n",
       "\n",
       "            Allkem Limited (AKE.AX)_price_Open  \\\n",
       "ds                                               \n",
       "2016-01-31                           -0.915916   \n",
       "2016-02-29                           -0.910118   \n",
       "2016-03-31                           -0.833402   \n",
       "2016-04-30                           -0.691659   \n",
       "2016-05-31                           -0.497700   \n",
       "...                                        ...   \n",
       "2022-08-31                            2.144853   \n",
       "2022-09-30                            2.828439   \n",
       "2022-10-31                            2.765597   \n",
       "2022-11-30                            2.830058   \n",
       "2022-12-31                            2.230517   \n",
       "\n",
       "            Allkem Limited (AKE.AX)_price_High  \\\n",
       "ds                                               \n",
       "2016-01-31                           -0.911882   \n",
       "2016-02-29                           -0.915569   \n",
       "2016-03-31                           -0.834459   \n",
       "2016-04-30                           -0.695181   \n",
       "2016-05-31                           -0.494779   \n",
       "...                                        ...   \n",
       "2022-08-31                            2.155770   \n",
       "2022-09-30                            2.823884   \n",
       "2022-10-31                            2.782167   \n",
       "2022-11-30                            2.817705   \n",
       "2022-12-31                            2.206089   \n",
       "\n",
       "            Allkem Limited (AKE.AX)_price_Low  \\\n",
       "ds                                              \n",
       "2016-01-31                          -0.921663   \n",
       "2016-02-29                          -0.908508   \n",
       "2016-03-31                          -0.834589   \n",
       "2016-04-30                          -0.693237   \n",
       "2016-05-31                          -0.496022   \n",
       "...                                       ...   \n",
       "2022-08-31                           2.181382   \n",
       "2022-09-30                           2.834908   \n",
       "2022-10-31                           2.764528   \n",
       "2022-11-30                           2.816214   \n",
       "2022-12-31                           2.211335   \n",
       "\n",
       "            Allkem Limited (AKE.AX)_price_Close  \\\n",
       "ds                                                \n",
       "2016-01-31                            -0.909069   \n",
       "2016-02-29                            -0.916207   \n",
       "2016-03-31                            -0.834453   \n",
       "2016-04-30                            -0.700107   \n",
       "2016-05-31                            -0.493870   \n",
       "...                                         ...   \n",
       "2022-08-31                             2.184215   \n",
       "2022-09-30                             2.836251   \n",
       "2022-10-31                             2.761120   \n",
       "2022-11-30                             2.795982   \n",
       "2022-12-31                             2.207568   \n",
       "\n",
       "            Allkem Limited (AKE.AX)_price_Adj Close      NHITS  \n",
       "ds                                                              \n",
       "2016-01-31                                -0.909069        NaN  \n",
       "2016-02-29                                -0.916207        NaN  \n",
       "2016-03-31                                -0.834453        NaN  \n",
       "2016-04-30                                -0.700107        NaN  \n",
       "2016-05-31                                -0.493870        NaN  \n",
       "...                                             ...        ...  \n",
       "2022-08-31                                 2.184215  73.569237  \n",
       "2022-09-30                                 2.836251  73.648209  \n",
       "2022-10-31                                 2.761120  76.405380  \n",
       "2022-11-30                                 2.795982  80.617897  \n",
       "2022-12-31                                 2.207568  87.349922  \n",
       "\n",
       "[84 rows x 925 columns]"
      ]
     },
     "execution_count": 493,
     "metadata": {},
     "output_type": "execute_result"
    }
   ],
   "source": [
    "plot_df"
   ]
  },
  {
   "cell_type": "code",
   "execution_count": null,
   "id": "202dc162-4723-40f5-ae65-a684794d129e",
   "metadata": {},
   "outputs": [],
   "source": []
  },
  {
   "cell_type": "code",
   "execution_count": null,
   "id": "abd4cbf4-f266-4fcc-83dc-7c7555158ecc",
   "metadata": {},
   "outputs": [],
   "source": []
  },
  {
   "cell_type": "code",
   "execution_count": null,
   "id": "189c609f-6374-4cc0-b55e-e0b7de8cc69f",
   "metadata": {},
   "outputs": [],
   "source": []
  },
  {
   "cell_type": "code",
   "execution_count": null,
   "id": "66fc5b2c-0c07-4916-b870-4976783c5314",
   "metadata": {},
   "outputs": [],
   "source": []
  }
 ],
 "metadata": {
  "kernelspec": {
   "display_name": "Python 3 (ipykernel)",
   "language": "python",
   "name": "python3"
  },
  "language_info": {
   "codemirror_mode": {
    "name": "ipython",
    "version": 3
   },
   "file_extension": ".py",
   "mimetype": "text/x-python",
   "name": "python",
   "nbconvert_exporter": "python",
   "pygments_lexer": "ipython3",
   "version": "3.8.16"
  }
 },
 "nbformat": 4,
 "nbformat_minor": 5
}
